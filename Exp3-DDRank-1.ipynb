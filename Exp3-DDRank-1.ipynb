{
 "cells": [
  {
   "cell_type": "code",
   "execution_count": 1,
   "metadata": {
    "collapsed": true
   },
   "outputs": [],
   "source": [
    "import tensorflow as tf\n",
    "from Exp_gain import *\n",
    "import json\n",
    "import yaml"
   ]
  },
  {
   "cell_type": "code",
   "execution_count": 2,
   "metadata": {},
   "outputs": [],
   "source": [
    "def init_vec(dimension):\n",
    "    return tf.Variable(tf.random_normal(dimension, stddev=0.01))"
   ]
  },
  {
   "cell_type": "code",
   "execution_count": 3,
   "metadata": {},
   "outputs": [],
   "source": [
    "class DDRank_1(object):\n",
    "    def __init__(self, time, n_feature, n_hidden, lr):\n",
    "\n",
    "        self.time = time\n",
    "        self.group_size = 5\n",
    "        self.lr = lr\n",
    "        self.top_n=10\n",
    "\n",
    "        global learning_rate, query_docs, candidate_docs, score, policy, train_step, sess\n",
    "\n",
    "        with tf.name_scope('input'):\n",
    "            learning_rate = tf.placeholder(tf.float32)\n",
    "            query_docs = tf.placeholder(tf.float32, [None, n_feature], name='docs')\n",
    "            candidate_docs = tf.placeholder(tf.float32, [None, n_feature], name='candidate_docs')\n",
    "\n",
    "        cell = tf.contrib.rnn.GRUCell(n_hidden)\n",
    "\n",
    "        with tf.name_scope('rnn'):\n",
    "            ep_split = tf.split(query_docs, 1, 0, 'split')\n",
    "            _, state = tf.contrib.rnn.static_rnn(cell, ep_split, dtype=tf.float32)\n",
    "\n",
    "        with tf.name_scope('policy'):\n",
    "            w = init_vec([n_feature, n_hidden])\n",
    "            score = tf.tanh(tf.matmul(candidate_docs, tf.matmul(w, tf.reshape(state[-1], [n_hidden, 1]))))\n",
    "            policy = tf.nn.softmax(tf.transpose(score))\n",
    "\n",
    "        init = tf.global_variables_initializer()\n",
    "        cross_entropy = tf.nn.sparse_softmax_cross_entropy_with_logits(logits=policy, labels=[0])\n",
    "\n",
    "        train_step = tf.train.GradientDescentOptimizer(learning_rate=learning_rate).minimize(cross_entropy)\n",
    "\n",
    "        sess = tf.Session()\n",
    "        sess.run(init)\n",
    "\n",
    "    def gen_episode_softmax(self, query_vec, doc_vec, docs, truth):\n",
    "        doc_id = docs[:]\n",
    "\n",
    "        rank_list = []\n",
    "        relevance_feedback = []\n",
    "        for ite in range(self.time):\n",
    "            relevance_feedback.append([])\n",
    "            prob = sess.run(policy,feed_dict={query_docs: np.asanyarray(query_vec), candidate_docs: np.asanyarray(doc_vec)})\n",
    "            \n",
    "            action_list=[]\n",
    "            while len(action_list)<self.group_size:\n",
    "                action = np.random.choice(len(prob[0]), 1, p=prob[0])[0]\n",
    "                if action in action_list:\n",
    "                    continue\n",
    "                action_list.append(action)\n",
    "                \n",
    "                rank_list.append(doc_id[action])\n",
    "                query_vec.append(doc_vec[action])\n",
    "                if doc_id[action] in truth[0].keys():\n",
    "                    relevance_feedback[ite].append(doc_vec[action])\n",
    "\n",
    "            index = sorted(action_list)\n",
    "            for i in range(len(index)):\n",
    "                del doc_id[index[i]-i]\n",
    "                del doc_vec[index[i]-i]\n",
    "                \n",
    "        return rank_list, query_vec + doc_vec, relevance_feedback\n",
    "\n",
    "    def gen_episode_greedy(self, query_vec, doc_vec, docs, truth):\n",
    "        doc_id = docs[:]\n",
    "\n",
    "        rank_list = []\n",
    "        for ite in range(self.time):\n",
    "            scores = sess.run(score,feed_dict={query_docs: np.asanyarray(query_vec), candidate_docs: np.asanyarray(doc_vec)})\n",
    "\n",
    "            for i in range(self.group_size):\n",
    "                action = np.argmax(scores)\n",
    "                \n",
    "                scores = np.delete(scores,action)\n",
    "                rank_list.append(doc_id[action])\n",
    "                if doc_id[action] in truth[0].keys():\n",
    "                    query_vec.append(doc_vec[action])\n",
    "                del doc_id[action]\n",
    "                del doc_vec[action]\n",
    "                \n",
    "        return rank_list\n",
    "\n",
    "    def test_model(self, query_docs, doc2vec, truth):\n",
    "        mean_alphaNDCG=np.zeros(self.top_n)\n",
    "        n_query = len(query_docs.keys())\n",
    "\n",
    "        for query in query_docs.keys():\n",
    "            docs = query_docs[query][:]\n",
    "\n",
    "            n_doc = len(docs)\n",
    "            if n_doc < 2:\n",
    "                print '!!!!!!!!!!!!!!!!!!!!!!!!!!!!!!!!!!!', query\n",
    "                continue\n",
    "\n",
    "            query_docs_vec = []\n",
    "            query_docs_vec.append(doc2vec[query])\n",
    "            docs_vec = []\n",
    "            for doc in docs:\n",
    "                docs_vec.append(doc2vec[doc])\n",
    "\n",
    "            # gen episode\n",
    "            rank_list= self.gen_episode_greedy(query_docs_vec, docs_vec, docs, truth[query])\n",
    "\n",
    "            the_alphaNDCG = alphaNDCG_per_query(rank_list, truth[query])\n",
    "            mean_alphaNDCG += np.asarray(the_alphaNDCG)\n",
    "            # print reward[0],\n",
    "        mean_alphaNDCG = mean_alphaNDCG / n_query\n",
    "        print '\\n\\t\\t', mean_alphaNDCG.tolist()\n",
    "\n",
    "    def train_model(self, querydocs, doc2vec, truth):\n",
    "        querylist = querydocs.keys()\n",
    "        train_data = {}\n",
    "\n",
    "        mean_reward = 0\n",
    "        nquery = len(querylist)\n",
    "        for query in querylist:\n",
    "            docs = querydocs[query][:]\n",
    "            \n",
    "            querydocsvec = []\n",
    "            querydocsvec.append(doc2vec[query])\n",
    "            docsvec = []\n",
    "            for doc in docs:\n",
    "                docsvec.append(doc2vec[doc])\n",
    "                \n",
    "            # print 'gen_episode_softmax'\n",
    "            ranklist, querydocvec, feedback = self.gen_episode_softmax(querydocsvec, docsvec, docs, truth[query])\n",
    "            # print ranklist\n",
    "            reward = alphaDCG_group_reward_per_query(ranklist, truth[query])\n",
    "            mean_reward += reward[0]\n",
    "            # print 'reward', reward[0]\n",
    "            train_data[query] = {'querydocvec': querydocvec, 'reward': reward, 'feedback': feedback}\n",
    "        mean_reward = mean_reward/nquery\n",
    "        print mean_reward,\n",
    "\n",
    "        for query in querylist:\n",
    "            querydocvec = train_data[query]['querydocvec']\n",
    "            reward = train_data[query]['reward']\n",
    "            self.optimize_model(querydocvec, feedback, reward)\n",
    "\n",
    "    def optimize_model(self, querydocvec, relevance_feedback, reward):\n",
    "        ndoc = len(querydocvec)\n",
    "        input = [querydocvec[0]]\n",
    "        for time in range(len(reward) ):\n",
    "            if reward[time] == 0:\n",
    "                continue\n",
    "            for i in range(self.group_size):\n",
    "                sess.run(train_step, feed_dict={query_docs: np.asanyarray(input), candidate_docs: np.asanyarray(querydocvec[time + 1:ndoc + 1]), learning_rate: self.lr * reward[i]})\n",
    "                \n",
    "            input += relevance_feedback[time]\n",
    "\n",
    "    def main(self, nite, querydocs, doc2vec, query_document_topic):\n",
    "        for ite in range(nite):\n",
    "            self.train_model(querydocs, doc2vec, query_document_topic)\n",
    "\n",
    "            if ite % 10 == 0:\n",
    "                self.test_model(querydocs, doc2vec, query_document_topic)"
   ]
  },
  {
   "cell_type": "code",
   "execution_count": 4,
   "metadata": {},
   "outputs": [
    {
     "name": "stdout",
     "output_type": "stream",
     "text": [
      "load 1\nload 2\nload 3\n"
     ]
    },
    {
     "name": "stdout",
     "output_type": "stream",
     "text": [
      "load 4\n"
     ]
    }
   ],
   "source": [
    "Truth = json.load(open('/home/zw/DD/data/Truth.json'))\n",
    "print 'load 1'\n",
    "IdQuery = json.load(open('/home/zw/DD/data/IdQuery.json'))\n",
    "print 'load 2'\n",
    "QueryDocs = json.load(open('/home/zw/DD/data/QueryDocs.json'))\n",
    "print 'load 3'\n",
    "Doc2Vec = yaml.load(open('/home/zw/DD/data/Doc2Vec.yml'))\n",
    "print 'load 4'"
   ]
  },
  {
   "cell_type": "code",
   "execution_count": 5,
   "metadata": {
    "collapsed": true
   },
   "outputs": [
    {
     "name": "stdout",
     "output_type": "stream",
     "text": [
      "0.687123581737"
     ]
    },
    {
     "name": "stdout",
     "output_type": "stream",
     "text": [
      " \n\t\t[0.07407407407407407, 0.09371390651318177, 0.09665068215679135, 0.10663506358808424, 0.10460555775107067, 0.1100271787304158, 0.11702712628846866, 0.12364307493149312, 0.12865677545462376, 0.13616952818716804]\n"
     ]
    },
    {
     "name": "stdout",
     "output_type": "stream",
     "text": [
      "0.814828514753"
     ]
    },
    {
     "name": "stdout",
     "output_type": "stream",
     "text": [
      " 0.759863404379"
     ]
    },
    {
     "name": "stdout",
     "output_type": "stream",
     "text": [
      " 0.790205922416"
     ]
    },
    {
     "name": "stdout",
     "output_type": "stream",
     "text": [
      " 0.735190532988"
     ]
    },
    {
     "name": "stdout",
     "output_type": "stream",
     "text": [
      " 0.695392861123"
     ]
    },
    {
     "name": "stdout",
     "output_type": "stream",
     "text": [
      " 0.674179336238"
     ]
    },
    {
     "name": "stdout",
     "output_type": "stream",
     "text": [
      " 0.682264349394"
     ]
    },
    {
     "name": "stdout",
     "output_type": "stream",
     "text": [
      " 0.682889827121"
     ]
    },
    {
     "name": "stdout",
     "output_type": "stream",
     "text": [
      " 0.706314784172"
     ]
    },
    {
     "name": "stdout",
     "output_type": "stream",
     "text": [
      " 0.698308222355"
     ]
    },
    {
     "name": "stdout",
     "output_type": "stream",
     "text": [
      " \n\t\t[0.07407407407407407, 0.06177398982837141, 0.05697876119804161, 0.0632531544045531, 0.06467934896678172, 0.06390594930006746, 0.0659605293145348, 0.06766423346605376, 0.07355899755461383, 0.0753576987951552]\n"
     ]
    },
    {
     "name": "stdout",
     "output_type": "stream",
     "text": [
      "0.676724664205"
     ]
    },
    {
     "name": "stdout",
     "output_type": "stream",
     "text": [
      " 0.626863612751"
     ]
    },
    {
     "name": "stdout",
     "output_type": "stream",
     "text": [
      " 0.691043248314"
     ]
    },
    {
     "name": "stdout",
     "output_type": "stream",
     "text": [
      " 0.750484851591"
     ]
    },
    {
     "name": "stdout",
     "output_type": "stream",
     "text": [
      " 0.609775811597"
     ]
    },
    {
     "name": "stdout",
     "output_type": "stream",
     "text": [
      " 0.674827756368"
     ]
    },
    {
     "name": "stdout",
     "output_type": "stream",
     "text": [
      " 0.708455783921"
     ]
    },
    {
     "name": "stdout",
     "output_type": "stream",
     "text": [
      " 0.700597950255"
     ]
    },
    {
     "name": "stdout",
     "output_type": "stream",
     "text": [
      " 0.600167144714"
     ]
    },
    {
     "name": "stdout",
     "output_type": "stream",
     "text": [
      " 0.739025846681"
     ]
    },
    {
     "name": "stdout",
     "output_type": "stream",
     "text": [
      " \n\t\t[0.08641975308641975, 0.07635096357767521, 0.07211623801615952, 0.0781277332872597, 0.09780663377438842, 0.09718598267946563, 0.09955572051062908, 0.09954938949035391, 0.10337133004233302, 0.10801416125883725]\n"
     ]
    },
    {
     "name": "stdout",
     "output_type": "stream",
     "text": [
      "0.657450420987"
     ]
    },
    {
     "name": "stdout",
     "output_type": "stream",
     "text": [
      " 0.663864618775"
     ]
    },
    {
     "name": "stdout",
     "output_type": "stream",
     "text": [
      " 0.639843390112"
     ]
    },
    {
     "name": "stdout",
     "output_type": "stream",
     "text": [
      " 0.692095009593"
     ]
    },
    {
     "name": "stdout",
     "output_type": "stream",
     "text": [
      " 0.691547247249"
     ]
    },
    {
     "name": "stdout",
     "output_type": "stream",
     "text": [
      " 0.542464305806"
     ]
    },
    {
     "name": "stdout",
     "output_type": "stream",
     "text": [
      " 0.688728165105"
     ]
    },
    {
     "name": "stdout",
     "output_type": "stream",
     "text": [
      " 0.973045600467"
     ]
    },
    {
     "name": "stdout",
     "output_type": "stream",
     "text": [
      " 0.634190772836"
     ]
    },
    {
     "name": "stdout",
     "output_type": "stream",
     "text": [
      " 0.651566820827"
     ]
    },
    {
     "name": "stdout",
     "output_type": "stream",
     "text": [
      " \n\t\t[0.0823045267489712, 0.08725823881208819, 0.09418532170409881, 0.12517872482277378, 0.12804066211270412, 0.13388303019146464, 0.1418311933106617, 0.1457593891984127, 0.15037165178545908, 0.15676794187097762]\n"
     ]
    },
    {
     "name": "stdout",
     "output_type": "stream",
     "text": [
      "0.661872335538"
     ]
    },
    {
     "name": "stdout",
     "output_type": "stream",
     "text": [
      " 0.638939544213"
     ]
    },
    {
     "name": "stdout",
     "output_type": "stream",
     "text": [
      " 0.782933872778"
     ]
    },
    {
     "name": "stdout",
     "output_type": "stream",
     "text": [
      " 0.646904438195"
     ]
    },
    {
     "name": "stdout",
     "output_type": "stream",
     "text": [
      " 0.724492594118"
     ]
    },
    {
     "name": "stdout",
     "output_type": "stream",
     "text": [
      " 0.64969548749"
     ]
    },
    {
     "name": "stdout",
     "output_type": "stream",
     "text": [
      " 0.732843558315"
     ]
    },
    {
     "name": "stdout",
     "output_type": "stream",
     "text": [
      " 0.762959643937"
     ]
    },
    {
     "name": "stdout",
     "output_type": "stream",
     "text": [
      " 0.627689095516"
     ]
    },
    {
     "name": "stdout",
     "output_type": "stream",
     "text": [
      " 0.665552468903"
     ]
    },
    {
     "name": "stdout",
     "output_type": "stream",
     "text": [
      " \n\t\t[0.04526748971193415, 0.07641226404956482, 0.1104263891324561, 0.11611052955180987, 0.12739039338554803, 0.1396026624360694, 0.14554701316955784, 0.15402507394513526, 0.15439116931192576, 0.15991273026413874]\n"
     ]
    },
    {
     "name": "stdout",
     "output_type": "stream",
     "text": [
      "0.737492094945"
     ]
    },
    {
     "name": "stdout",
     "output_type": "stream",
     "text": [
      " 0.706765801415"
     ]
    },
    {
     "name": "stdout",
     "output_type": "stream",
     "text": [
      " 0.692188757233"
     ]
    },
    {
     "name": "stdout",
     "output_type": "stream",
     "text": [
      " 0.714107120078"
     ]
    },
    {
     "name": "stdout",
     "output_type": "stream",
     "text": [
      " 0.656327134218"
     ]
    },
    {
     "name": "stdout",
     "output_type": "stream",
     "text": [
      " 0.748491237406"
     ]
    },
    {
     "name": "stdout",
     "output_type": "stream",
     "text": [
      " 0.84119798569"
     ]
    },
    {
     "name": "stdout",
     "output_type": "stream",
     "text": [
      " 0.709554229553"
     ]
    },
    {
     "name": "stdout",
     "output_type": "stream",
     "text": [
      " 0.813395529824"
     ]
    },
    {
     "name": "stdout",
     "output_type": "stream",
     "text": [
      " 0.636922713955"
     ]
    },
    {
     "name": "stdout",
     "output_type": "stream",
     "text": [
      " \n\t\t[0.05761316872427983, 0.0834783626971697, 0.07570382238834163, 0.07989294990732893, 0.08145260699650297, 0.09417744064343354, 0.10559729374831289, 0.11088274585779334, 0.11768461165537507, 0.11912585329002662]\n"
     ]
    },
    {
     "name": "stdout",
     "output_type": "stream",
     "text": [
      "0.696375225828"
     ]
    },
    {
     "name": "stdout",
     "output_type": "stream",
     "text": [
      " 0.768363388981"
     ]
    },
    {
     "name": "stdout",
     "output_type": "stream",
     "text": [
      " 0.621985412847"
     ]
    },
    {
     "name": "stdout",
     "output_type": "stream",
     "text": [
      " 0.783339164816"
     ]
    },
    {
     "name": "stdout",
     "output_type": "stream",
     "text": [
      " 0.661162217152"
     ]
    },
    {
     "name": "stdout",
     "output_type": "stream",
     "text": [
      " 0.856965916471"
     ]
    },
    {
     "name": "stdout",
     "output_type": "stream",
     "text": [
      " 0.808998181225"
     ]
    },
    {
     "name": "stdout",
     "output_type": "stream",
     "text": [
      " 0.488244606353"
     ]
    },
    {
     "name": "stdout",
     "output_type": "stream",
     "text": [
      " 0.597710333775"
     ]
    },
    {
     "name": "stdout",
     "output_type": "stream",
     "text": [
      " 0.668849485167"
     ]
    },
    {
     "name": "stdout",
     "output_type": "stream",
     "text": [
      " \n\t\t[0.06172839506172839, 0.05990072894465516, 0.08093213893758412, 0.08332837487012007, 0.08762732039757673, 0.09994866732211836, 0.11481248812548597, 0.11445259069072222, 0.12263652635887017, 0.12797675408126657]\n"
     ]
    },
    {
     "name": "stdout",
     "output_type": "stream",
     "text": [
      "0.672015200734"
     ]
    },
    {
     "name": "stdout",
     "output_type": "stream",
     "text": [
      " 0.709551328541"
     ]
    },
    {
     "name": "stdout",
     "output_type": "stream",
     "text": [
      " 0.680626636071"
     ]
    },
    {
     "name": "stdout",
     "output_type": "stream",
     "text": [
      " 0.720792223663"
     ]
    },
    {
     "name": "stdout",
     "output_type": "stream",
     "text": [
      " 0.69280748778"
     ]
    },
    {
     "name": "stdout",
     "output_type": "stream",
     "text": [
      " 0.693011878096"
     ]
    },
    {
     "name": "stdout",
     "output_type": "stream",
     "text": [
      " 0.660980370457"
     ]
    },
    {
     "name": "stdout",
     "output_type": "stream",
     "text": [
      " 0.804152963292"
     ]
    },
    {
     "name": "stdout",
     "output_type": "stream",
     "text": [
      " 0.711666190028"
     ]
    },
    {
     "name": "stdout",
     "output_type": "stream",
     "text": [
      " 0.669254816423"
     ]
    },
    {
     "name": "stdout",
     "output_type": "stream",
     "text": [
      " \n\t\t[0.0, 0.004775960583142489, 0.00906387675766178, 0.028550833843226237, 0.035487861085912835, 0.04964230669277715, 0.07734523176559423, 0.07934071673670585, 0.09556444489054614, 0.09859677621086826]\n"
     ]
    },
    {
     "name": "stdout",
     "output_type": "stream",
     "text": [
      "0.714801020976"
     ]
    },
    {
     "name": "stdout",
     "output_type": "stream",
     "text": [
      " 0.687121185847"
     ]
    },
    {
     "name": "stdout",
     "output_type": "stream",
     "text": [
      " 0.592075897534"
     ]
    },
    {
     "name": "stdout",
     "output_type": "stream",
     "text": [
      " 0.67030268338"
     ]
    },
    {
     "name": "stdout",
     "output_type": "stream",
     "text": [
      " 0.660507405955"
     ]
    },
    {
     "name": "stdout",
     "output_type": "stream",
     "text": [
      " 0.709752860858"
     ]
    },
    {
     "name": "stdout",
     "output_type": "stream",
     "text": [
      " 0.692576071568"
     ]
    },
    {
     "name": "stdout",
     "output_type": "stream",
     "text": [
      " 0.618033466082"
     ]
    },
    {
     "name": "stdout",
     "output_type": "stream",
     "text": [
      " 0.759293677516"
     ]
    },
    {
     "name": "stdout",
     "output_type": "stream",
     "text": [
      " 0.742452650833"
     ]
    },
    {
     "name": "stdout",
     "output_type": "stream",
     "text": [
      " \n\t\t[0.012345679012345678, 0.008690346778199196, 0.014428652799741457, 0.030781557364591376, 0.037481682791978915, 0.047017955282873475, 0.06022849259181292, 0.07828587992137308, 0.09555133739498303, 0.09782389384102685]\n"
     ]
    },
    {
     "name": "stdout",
     "output_type": "stream",
     "text": [
      "0.669630061327"
     ]
    },
    {
     "name": "stdout",
     "output_type": "stream",
     "text": [
      " 0.707149352279"
     ]
    },
    {
     "name": "stdout",
     "output_type": "stream",
     "text": [
      " 0.573812243308"
     ]
    },
    {
     "name": "stdout",
     "output_type": "stream",
     "text": [
      " 0.658709637366"
     ]
    },
    {
     "name": "stdout",
     "output_type": "stream",
     "text": [
      " 0.683728971265"
     ]
    },
    {
     "name": "stdout",
     "output_type": "stream",
     "text": [
      " 0.677309120568"
     ]
    },
    {
     "name": "stdout",
     "output_type": "stream",
     "text": [
      " 0.689629660327"
     ]
    },
    {
     "name": "stdout",
     "output_type": "stream",
     "text": [
      " 0.746469442985"
     ]
    },
    {
     "name": "stdout",
     "output_type": "stream",
     "text": [
      " 0.6998511427"
     ]
    },
    {
     "name": "stdout",
     "output_type": "stream",
     "text": [
      " 0.654097533088"
     ]
    },
    {
     "name": "stdout",
     "output_type": "stream",
     "text": [
      " \n\t\t[0.012345679012345678, 0.008690346778199196, 0.044222051163465365, 0.042153780151902014, 0.04995903788531481, 0.04956583684462155, 0.06395849904344858, 0.07036900519305808, 0.08435515046745534, 0.09263765775561923]\n"
     ]
    },
    {
     "name": "stdout",
     "output_type": "stream",
     "text": [
      "0.771401730746"
     ]
    },
    {
     "name": "stdout",
     "output_type": "stream",
     "text": [
      " 0.685215198154"
     ]
    },
    {
     "name": "stdout",
     "output_type": "stream",
     "text": [
      " 0.741060063237"
     ]
    },
    {
     "name": "stdout",
     "output_type": "stream",
     "text": [
      " 0.652545017984"
     ]
    },
    {
     "name": "stdout",
     "output_type": "stream",
     "text": [
      " 0.813374108825"
     ]
    },
    {
     "name": "stdout",
     "output_type": "stream",
     "text": [
      " 0.723425488874"
     ]
    },
    {
     "name": "stdout",
     "output_type": "stream",
     "text": [
      " 0.79139879549"
     ]
    },
    {
     "name": "stdout",
     "output_type": "stream",
     "text": [
      " 0.587683291962"
     ]
    },
    {
     "name": "stdout",
     "output_type": "stream",
     "text": [
      " 0.630008930469"
     ]
    },
    {
     "name": "stdout",
     "output_type": "stream",
     "text": [
      " 0.710835086796"
     ]
    },
    {
     "name": "stdout",
     "output_type": "stream",
     "text": [
      " \n\t\t[0.0, 0.030776876803086647, 0.03777205486520137, 0.04999959728059952, 0.048998251453502, 0.04862622723592315, 0.049058455323652106, 0.06851389752234599, 0.09619915439364325, 0.10223730361307787]\n"
     ]
    },
    {
     "name": "stdout",
     "output_type": "stream",
     "text": [
      "0.654211888627"
     ]
    },
    {
     "name": "stdout",
     "output_type": "stream",
     "text": [
      " 0.773217633773"
     ]
    },
    {
     "name": "stdout",
     "output_type": "stream",
     "text": [
      " 0.591974221201"
     ]
    },
    {
     "name": "stdout",
     "output_type": "stream",
     "text": [
      " 0.73942311521"
     ]
    },
    {
     "name": "stdout",
     "output_type": "stream",
     "text": [
      " 0.636380012636"
     ]
    },
    {
     "name": "stdout",
     "output_type": "stream",
     "text": [
      " 0.732070868134"
     ]
    },
    {
     "name": "stdout",
     "output_type": "stream",
     "text": [
      " 0.618998962061"
     ]
    },
    {
     "name": "stdout",
     "output_type": "stream",
     "text": [
      " 0.73639512245"
     ]
    },
    {
     "name": "stdout",
     "output_type": "stream",
     "text": [
      " 0.694072390541"
     ]
    },
    {
     "name": "stdout",
     "output_type": "stream",
     "text": [
      " 0.75032365982"
     ]
    },
    {
     "name": "stdout",
     "output_type": "stream",
     "text": [
      " \n\t\t[0.04938271604938271, 0.045727383815236236, 0.050417754536273354, 0.047573276621855745, 0.06624894793605875, 0.06559737158297847, 0.07154904348528998, 0.07976763914453418, 0.0872717320187042, 0.1010543628415016]\n"
     ]
    },
    {
     "name": "stdout",
     "output_type": "stream",
     "text": [
      "0.703743646686"
     ]
    },
    {
     "name": "stdout",
     "output_type": "stream",
     "text": [
      " 0.594004438955"
     ]
    },
    {
     "name": "stdout",
     "output_type": "stream",
     "text": [
      " 0.771290750964"
     ]
    },
    {
     "name": "stdout",
     "output_type": "stream",
     "text": [
      " 0.686336320069"
     ]
    },
    {
     "name": "stdout",
     "output_type": "stream",
     "text": [
      " 0.720570828635"
     ]
    },
    {
     "name": "stdout",
     "output_type": "stream",
     "text": [
      " 0.745854428336"
     ]
    },
    {
     "name": "stdout",
     "output_type": "stream",
     "text": [
      " 0.687121499087"
     ]
    },
    {
     "name": "stdout",
     "output_type": "stream",
     "text": [
      " 0.758541176392"
     ]
    },
    {
     "name": "stdout",
     "output_type": "stream",
     "text": [
      " 0.636102205774"
     ]
    },
    {
     "name": "stdout",
     "output_type": "stream",
     "text": [
      " 0.655181076888"
     ]
    },
    {
     "name": "stdout",
     "output_type": "stream",
     "text": [
      " \n\t\t[0.08641975308641976, 0.05410865735341835, 0.06994003387690674, 0.06626754234297076, 0.08047653318171274, 0.08737437760468565, 0.08960503487768749, 0.10020369124230141, 0.10204211813720329, 0.10855093583860738]\n"
     ]
    },
    {
     "name": "stdout",
     "output_type": "stream",
     "text": [
      "0.702089133649"
     ]
    },
    {
     "name": "stdout",
     "output_type": "stream",
     "text": [
      " 0.596655044003"
     ]
    },
    {
     "name": "stdout",
     "output_type": "stream",
     "text": [
      " 0.624768286382"
     ]
    },
    {
     "name": "stdout",
     "output_type": "stream",
     "text": [
      " 0.61709479118"
     ]
    },
    {
     "name": "stdout",
     "output_type": "stream",
     "text": [
      " 0.825465346175"
     ]
    },
    {
     "name": "stdout",
     "output_type": "stream",
     "text": [
      " 0.699734374245"
     ]
    },
    {
     "name": "stdout",
     "output_type": "stream",
     "text": [
      " 0.604478459241"
     ]
    },
    {
     "name": "stdout",
     "output_type": "stream",
     "text": [
      " 0.758448216859"
     ]
    },
    {
     "name": "stdout",
     "output_type": "stream",
     "text": [
      " 0.698968381894"
     ]
    },
    {
     "name": "stdout",
     "output_type": "stream",
     "text": [
      " 0.78333068559"
     ]
    },
    {
     "name": "stdout",
     "output_type": "stream",
     "text": [
      " \n\t\t[0.012345679012345678, 0.023018228527626666, 0.029925805536758474, 0.03835628956881722, 0.06884582212807351, 0.07339671956026006, 0.08518232027671535, 0.09289897445295388, 0.09687730308749873, 0.10527160941234956]\n"
     ]
    },
    {
     "name": "stdout",
     "output_type": "stream",
     "text": [
      "0.829422977012"
     ]
    },
    {
     "name": "stdout",
     "output_type": "stream",
     "text": [
      " 0.69191666637"
     ]
    },
    {
     "name": "stdout",
     "output_type": "stream",
     "text": [
      " 0.651822048156"
     ]
    },
    {
     "name": "stdout",
     "output_type": "stream",
     "text": [
      " 0.626155038166"
     ]
    },
    {
     "name": "stdout",
     "output_type": "stream",
     "text": [
      " 0.75762448156"
     ]
    },
    {
     "name": "stdout",
     "output_type": "stream",
     "text": [
      " 0.766411995208"
     ]
    },
    {
     "name": "stdout",
     "output_type": "stream",
     "text": [
      " 0.651752274301"
     ]
    },
    {
     "name": "stdout",
     "output_type": "stream",
     "text": [
      " 0.75942381042"
     ]
    },
    {
     "name": "stdout",
     "output_type": "stream",
     "text": [
      " 0.673225604931"
     ]
    },
    {
     "name": "stdout",
     "output_type": "stream",
     "text": [
      " 0.653981219171"
     ]
    },
    {
     "name": "stdout",
     "output_type": "stream",
     "text": [
      " \n\t\t[0.04938271604938271, 0.045727383815236236, 0.05113565920976456, 0.061490616799671875, 0.06722211555249832, 0.07956692087970672, 0.09820440532177041, 0.10581127856863917, 0.10938045096371515, 0.11238446107359819]\n"
     ]
    },
    {
     "name": "stdout",
     "output_type": "stream",
     "text": [
      "0.718709627791"
     ]
    },
    {
     "name": "stdout",
     "output_type": "stream",
     "text": [
      " 0.601160534987"
     ]
    },
    {
     "name": "stdout",
     "output_type": "stream",
     "text": [
      " 0.610517085337"
     ]
    },
    {
     "name": "stdout",
     "output_type": "stream",
     "text": [
      " 0.717635310998"
     ]
    },
    {
     "name": "stdout",
     "output_type": "stream",
     "text": [
      " 0.593681249229"
     ]
    },
    {
     "name": "stdout",
     "output_type": "stream",
     "text": [
      " 0.706900772992"
     ]
    },
    {
     "name": "stdout",
     "output_type": "stream",
     "text": [
      " 0.677113301064"
     ]
    },
    {
     "name": "stdout",
     "output_type": "stream",
     "text": [
      " 0.656385800312"
     ]
    },
    {
     "name": "stdout",
     "output_type": "stream",
     "text": [
      " 0.721857382596"
     ]
    },
    {
     "name": "stdout",
     "output_type": "stream",
     "text": [
      " 0.721446095145"
     ]
    },
    {
     "name": "stdout",
     "output_type": "stream",
     "text": [
      " \n\t\t[0.030864197530864196, 0.03437280617143145, 0.03284271014051407, 0.043103523866862385, 0.05619495780535472, 0.06902852910319213, 0.07544486228556771, 0.09089743845756429, 0.09704303933763091, 0.1043943820697314]\n"
     ]
    },
    {
     "name": "stdout",
     "output_type": "stream",
     "text": [
      "0.714009983359"
     ]
    },
    {
     "name": "stdout",
     "output_type": "stream",
     "text": [
      " 0.68918540036"
     ]
    },
    {
     "name": "stdout",
     "output_type": "stream",
     "text": [
      " 0.702750892779"
     ]
    },
    {
     "name": "stdout",
     "output_type": "stream",
     "text": [
      " 0.716103292912"
     ]
    },
    {
     "name": "stdout",
     "output_type": "stream",
     "text": [
      " 0.664765437961"
     ]
    },
    {
     "name": "stdout",
     "output_type": "stream",
     "text": [
      " 0.673124057335"
     ]
    },
    {
     "name": "stdout",
     "output_type": "stream",
     "text": [
      " 0.625698012225"
     ]
    },
    {
     "name": "stdout",
     "output_type": "stream",
     "text": [
      " 0.64133926322"
     ]
    },
    {
     "name": "stdout",
     "output_type": "stream",
     "text": [
      " 0.756626662155"
     ]
    },
    {
     "name": "stdout",
     "output_type": "stream",
     "text": [
      " 0.756843128686"
     ]
    },
    {
     "name": "stdout",
     "output_type": "stream",
     "text": [
      " \n\t\t[0.04938271604938271, 0.045727383815236236, 0.050361077482934974, 0.058535513561689456, 0.06282603161259995, 0.07210051472323126, 0.07710890669140014, 0.08918891474024428, 0.09091826086183447, 0.09667795727710911]\n"
     ]
    },
    {
     "name": "stdout",
     "output_type": "stream",
     "text": [
      "0.710357648612"
     ]
    },
    {
     "name": "stdout",
     "output_type": "stream",
     "text": [
      " 0.786498643788"
     ]
    },
    {
     "name": "stdout",
     "output_type": "stream",
     "text": [
      " 0.743922226829"
     ]
    },
    {
     "name": "stdout",
     "output_type": "stream",
     "text": [
      " 0.698654297642"
     ]
    },
    {
     "name": "stdout",
     "output_type": "stream",
     "text": [
      " 0.769968566643"
     ]
    },
    {
     "name": "stdout",
     "output_type": "stream",
     "text": [
      " 0.72929329514"
     ]
    },
    {
     "name": "stdout",
     "output_type": "stream",
     "text": [
      " 0.691067967545"
     ]
    },
    {
     "name": "stdout",
     "output_type": "stream",
     "text": [
      " 0.741316917714"
     ]
    },
    {
     "name": "stdout",
     "output_type": "stream",
     "text": [
      " 0.636839887516"
     ]
    },
    {
     "name": "stdout",
     "output_type": "stream",
     "text": [
      " 0.722621037648"
     ]
    },
    {
     "name": "stdout",
     "output_type": "stream",
     "text": [
      " \n\t\t[0.04938271604938271, 0.05289132468994997, 0.060801694133327845, 0.06031496656445392, 0.0730290902352604, 0.08044034550218294, 0.0871318853061496, 0.09550836100739607, 0.09715903328004244, 0.10523156712348693]\n"
     ]
    },
    {
     "name": "stdout",
     "output_type": "stream",
     "text": [
      "0.753628915691"
     ]
    },
    {
     "name": "stdout",
     "output_type": "stream",
     "text": [
      " 0.716144634649"
     ]
    },
    {
     "name": "stdout",
     "output_type": "stream",
     "text": [
      " 0.744427809404"
     ]
    },
    {
     "name": "stdout",
     "output_type": "stream",
     "text": [
      " 0.643742335684"
     ]
    },
    {
     "name": "stdout",
     "output_type": "stream",
     "text": [
      " 0.732617064334"
     ]
    },
    {
     "name": "stdout",
     "output_type": "stream",
     "text": [
      " 0.737509035652"
     ]
    },
    {
     "name": "stdout",
     "output_type": "stream",
     "text": [
      " 0.714168416209"
     ]
    },
    {
     "name": "stdout",
     "output_type": "stream",
     "text": [
      " 0.752761860751"
     ]
    },
    {
     "name": "stdout",
     "output_type": "stream",
     "text": [
      " 0.724870575109"
     ]
    },
    {
     "name": "stdout",
     "output_type": "stream",
     "text": [
      " 0.83832244985"
     ]
    },
    {
     "name": "stdout",
     "output_type": "stream",
     "text": [
      " \n\t\t[0.043209876543209874, 0.04854615130085037, 0.05240317891153988, 0.0580375112140925, 0.06205396558116035, 0.06064447403735538, 0.07506291837768293, 0.09010896180584255, 0.1082751076002891, 0.10846442908104546]\n"
     ]
    },
    {
     "name": "stdout",
     "output_type": "stream",
     "text": [
      "0.606633535344"
     ]
    },
    {
     "name": "stdout",
     "output_type": "stream",
     "text": [
      " 0.751458140449"
     ]
    },
    {
     "name": "stdout",
     "output_type": "stream",
     "text": [
      " 0.635464919858"
     ]
    },
    {
     "name": "stdout",
     "output_type": "stream",
     "text": [
      " 0.700729723758"
     ]
    },
    {
     "name": "stdout",
     "output_type": "stream",
     "text": [
      " 0.840680909131"
     ]
    },
    {
     "name": "stdout",
     "output_type": "stream",
     "text": [
      " 0.629435514379"
     ]
    },
    {
     "name": "stdout",
     "output_type": "stream",
     "text": [
      " 0.716973533937"
     ]
    },
    {
     "name": "stdout",
     "output_type": "stream",
     "text": [
      " 0.685336949451"
     ]
    },
    {
     "name": "stdout",
     "output_type": "stream",
     "text": [
      " 0.735688248288"
     ]
    },
    {
     "name": "stdout",
     "output_type": "stream",
     "text": [
      " 0.683513170112"
     ]
    },
    {
     "name": "stdout",
     "output_type": "stream",
     "text": [
      " \n\t\t[0.037037037037037035, 0.045918980243264136, 0.04349134757675374, 0.047402370458041805, 0.056512976568312195, 0.058053381752027976, 0.06428176457048816, 0.07113132043764307, 0.075964490213014, 0.0768171690293398]\n"
     ]
    },
    {
     "name": "stdout",
     "output_type": "stream",
     "text": [
      "0.714726471507"
     ]
    },
    {
     "name": "stdout",
     "output_type": "stream",
     "text": [
      " 0.696629996611"
     ]
    },
    {
     "name": "stdout",
     "output_type": "stream",
     "text": [
      " 0.753266102754"
     ]
    },
    {
     "name": "stdout",
     "output_type": "stream",
     "text": [
      " 0.687625220774"
     ]
    },
    {
     "name": "stdout",
     "output_type": "stream",
     "text": [
      " 0.734085849796"
     ]
    },
    {
     "name": "stdout",
     "output_type": "stream",
     "text": [
      " 0.767706544708"
     ]
    },
    {
     "name": "stdout",
     "output_type": "stream",
     "text": [
      " 0.714878402346"
     ]
    },
    {
     "name": "stdout",
     "output_type": "stream",
     "text": [
      " 0.812079330549"
     ]
    },
    {
     "name": "stdout",
     "output_type": "stream",
     "text": [
      " 0.771840865467"
     ]
    },
    {
     "name": "stdout",
     "output_type": "stream",
     "text": [
      " 0.644480337472"
     ]
    },
    {
     "name": "stdout",
     "output_type": "stream",
     "text": [
      " \n\t\t[0.037037037037037035, 0.031591098493836664, 0.0346176462508648, 0.03961891947644013, 0.058915263756357555, 0.06337653711883509, 0.06622153718533497, 0.06819484658815872, 0.0738178297236332, 0.0810201906618493]\n"
     ]
    },
    {
     "name": "stdout",
     "output_type": "stream",
     "text": [
      "0.635989156694"
     ]
    },
    {
     "name": "stdout",
     "output_type": "stream",
     "text": [
      " 0.688241612312"
     ]
    },
    {
     "name": "stdout",
     "output_type": "stream",
     "text": [
      " 0.619580496189"
     ]
    },
    {
     "name": "stdout",
     "output_type": "stream",
     "text": [
      " 0.722710899226"
     ]
    },
    {
     "name": "stdout",
     "output_type": "stream",
     "text": [
      " 0.601012744028"
     ]
    },
    {
     "name": "stdout",
     "output_type": "stream",
     "text": [
      " 0.659917847767"
     ]
    },
    {
     "name": "stdout",
     "output_type": "stream",
     "text": [
      " 0.696177740481"
     ]
    },
    {
     "name": "stdout",
     "output_type": "stream",
     "text": [
      " 0.723163677973"
     ]
    },
    {
     "name": "stdout",
     "output_type": "stream",
     "text": [
      " 0.78625720913"
     ]
    },
    {
     "name": "stdout",
     "output_type": "stream",
     "text": [
      " 0.802283177877"
     ]
    },
    {
     "name": "stdout",
     "output_type": "stream",
     "text": [
      " \n\t\t[0.018518518518518517, 0.027400461724745615, 0.03643989396673644, 0.04527641417961613, 0.052430166031557236, 0.061965897746729615, 0.06636751229480407, 0.06682609813236728, 0.06920235502346081, 0.07670108994161076]\n"
     ]
    },
    {
     "name": "stdout",
     "output_type": "stream",
     "text": [
      "0.705740827955"
     ]
    },
    {
     "name": "stdout",
     "output_type": "stream",
     "text": [
      " 0.746273456253"
     ]
    },
    {
     "name": "stdout",
     "output_type": "stream",
     "text": [
      " 0.628327149498"
     ]
    },
    {
     "name": "stdout",
     "output_type": "stream",
     "text": [
      " 0.781336832899"
     ]
    },
    {
     "name": "stdout",
     "output_type": "stream",
     "text": [
      " 0.715435787329"
     ]
    },
    {
     "name": "stdout",
     "output_type": "stream",
     "text": [
      " 0.802871335553"
     ]
    },
    {
     "name": "stdout",
     "output_type": "stream",
     "text": [
      " 0.769262379763"
     ]
    },
    {
     "name": "stdout",
     "output_type": "stream",
     "text": [
      " 0.637706597334"
     ]
    },
    {
     "name": "stdout",
     "output_type": "stream",
     "text": [
      " 0.759708560296"
     ]
    },
    {
     "name": "stdout",
     "output_type": "stream",
     "text": [
      " 0.805429385588"
     ]
    },
    {
     "name": "stdout",
     "output_type": "stream",
     "text": [
      " \n\t\t[0.012345679012345678, 0.03734611027705413, 0.05864853788744623, 0.06511188452238638, 0.06215677490817176, 0.07170849113327588, 0.07941254155490059, 0.0849486801869925, 0.08552361488696093, 0.09358752907776716]\n"
     ]
    },
    {
     "name": "stdout",
     "output_type": "stream",
     "text": [
      "0.696026674783"
     ]
    },
    {
     "name": "stdout",
     "output_type": "stream",
     "text": [
      " 0.642482009884"
     ]
    },
    {
     "name": "stdout",
     "output_type": "stream",
     "text": [
      " 0.625778450563"
     ]
    },
    {
     "name": "stdout",
     "output_type": "stream",
     "text": [
      " 0.664599543837"
     ]
    },
    {
     "name": "stdout",
     "output_type": "stream",
     "text": [
      " 0.724126747572"
     ]
    },
    {
     "name": "stdout",
     "output_type": "stream",
     "text": [
      " 0.732507826096"
     ]
    },
    {
     "name": "stdout",
     "output_type": "stream",
     "text": [
      " 0.835191209881"
     ]
    },
    {
     "name": "stdout",
     "output_type": "stream",
     "text": [
      " 0.814291304128"
     ]
    },
    {
     "name": "stdout",
     "output_type": "stream",
     "text": [
      " 0.778062659617"
     ]
    },
    {
     "name": "stdout",
     "output_type": "stream",
     "text": [
      " 0.674790270309"
     ]
    },
    {
     "name": "stdout",
     "output_type": "stream",
     "text": [
      " \n\t\t[0.012345679012345678, 0.0301821694023404, 0.0389760333877669, 0.056369388632022094, 0.06648894284968637, 0.07108939004147155, 0.07639290828060195, 0.07935271279984984, 0.08264550429314485, 0.08242604188748312]\n"
     ]
    },
    {
     "name": "stdout",
     "output_type": "stream",
     "text": [
      "0.652153990018"
     ]
    },
    {
     "name": "stdout",
     "output_type": "stream",
     "text": [
      " 0.731465767506"
     ]
    },
    {
     "name": "stdout",
     "output_type": "stream",
     "text": [
      " 0.672171652227"
     ]
    },
    {
     "name": "stdout",
     "output_type": "stream",
     "text": [
      " 0.492050792446"
     ]
    },
    {
     "name": "stdout",
     "output_type": "stream",
     "text": [
      " 0.854874222641"
     ]
    },
    {
     "name": "stdout",
     "output_type": "stream",
     "text": [
      " 0.595585707528"
     ]
    },
    {
     "name": "stdout",
     "output_type": "stream",
     "text": [
      " 0.730392197785"
     ]
    },
    {
     "name": "stdout",
     "output_type": "stream",
     "text": [
      " 0.779684813576"
     ]
    },
    {
     "name": "stdout",
     "output_type": "stream",
     "text": [
      " 0.622046394882"
     ]
    },
    {
     "name": "stdout",
     "output_type": "stream",
     "text": [
      " 0.680013886584"
     ]
    },
    {
     "name": "stdout",
     "output_type": "stream",
     "text": [
      " \n\t\t[0.012345679012345678, 0.0301821694023404, 0.039282792845149524, 0.06487832167407476, 0.06238779495535614, 0.07114237781040204, 0.0750813743459345, 0.07757024956128197, 0.07762475296508858, 0.08044209072416446]\n"
     ]
    },
    {
     "name": "stdout",
     "output_type": "stream",
     "text": [
      "0.650832273307"
     ]
    },
    {
     "name": "stdout",
     "output_type": "stream",
     "text": [
      " 0.738510596814"
     ]
    },
    {
     "name": "stdout",
     "output_type": "stream",
     "text": [
      " 0.6245010421"
     ]
    },
    {
     "name": "stdout",
     "output_type": "stream",
     "text": [
      " 0.808403881579"
     ]
    },
    {
     "name": "stdout",
     "output_type": "stream",
     "text": [
      " 0.678600706299"
     ]
    },
    {
     "name": "stdout",
     "output_type": "stream",
     "text": [
      " 0.717117346575"
     ]
    },
    {
     "name": "stdout",
     "output_type": "stream",
     "text": [
      " 0.75996653509"
     ]
    },
    {
     "name": "stdout",
     "output_type": "stream",
     "text": [
      " 0.69799605018"
     ]
    },
    {
     "name": "stdout",
     "output_type": "stream",
     "text": [
      " 0.740380278101"
     ]
    },
    {
     "name": "stdout",
     "output_type": "stream",
     "text": [
      " 0.690614427696"
     ]
    },
    {
     "name": "stdout",
     "output_type": "stream",
     "text": [
      " \n\t\t[0.030864197530864196, 0.020044924422003983, 0.04010759858706347, 0.06450139668703836, 0.06201641831787687, 0.07070839494778823, 0.06974484972949344, 0.07017361198879676, 0.07454049021512686, 0.07638460867941788]\n"
     ]
    },
    {
     "name": "stdout",
     "output_type": "stream",
     "text": [
      "0.646314956904"
     ]
    },
    {
     "name": "stdout",
     "output_type": "stream",
     "text": [
      " 0.638353910136"
     ]
    },
    {
     "name": "stdout",
     "output_type": "stream",
     "text": [
      " 0.676901589991"
     ]
    },
    {
     "name": "stdout",
     "output_type": "stream",
     "text": [
      " 0.548191675064"
     ]
    },
    {
     "name": "stdout",
     "output_type": "stream",
     "text": [
      " 0.726369938042"
     ]
    },
    {
     "name": "stdout",
     "output_type": "stream",
     "text": [
      " 0.731923658344"
     ]
    },
    {
     "name": "stdout",
     "output_type": "stream",
     "text": [
      " 0.587532622921"
     ]
    },
    {
     "name": "stdout",
     "output_type": "stream",
     "text": [
      " 0.560304923504"
     ]
    },
    {
     "name": "stdout",
     "output_type": "stream",
     "text": [
      " 0.754560324163"
     ]
    },
    {
     "name": "stdout",
     "output_type": "stream",
     "text": [
      " 0.810333548057"
     ]
    },
    {
     "name": "stdout",
     "output_type": "stream",
     "text": [
      " \n\t\t[0.030864197530864196, 0.048700687920858916, 0.05494857631618409, 0.0683389761525544, 0.06872058406439567, 0.07719998042658631, 0.08215349416616818, 0.08198374606760356, 0.08643361783815758, 0.09498399694396575]\n"
     ]
    },
    {
     "name": "stdout",
     "output_type": "stream",
     "text": [
      "0.672406106913"
     ]
    },
    {
     "name": "stdout",
     "output_type": "stream",
     "text": [
      " 0.650576055599"
     ]
    },
    {
     "name": "stdout",
     "output_type": "stream",
     "text": [
      " 0.705433737201"
     ]
    },
    {
     "name": "stdout",
     "output_type": "stream",
     "text": [
      " 0.742821492811"
     ]
    },
    {
     "name": "stdout",
     "output_type": "stream",
     "text": [
      " 0.546120043502"
     ]
    },
    {
     "name": "stdout",
     "output_type": "stream",
     "text": [
      " 0.658048820288"
     ]
    },
    {
     "name": "stdout",
     "output_type": "stream",
     "text": [
      " 0.67461799135"
     ]
    },
    {
     "name": "stdout",
     "output_type": "stream",
     "text": [
      " 0.70080891775"
     ]
    },
    {
     "name": "stdout",
     "output_type": "stream",
     "text": [
      " 0.773349308114"
     ]
    },
    {
     "name": "stdout",
     "output_type": "stream",
     "text": [
      " 0.785176095944"
     ]
    },
    {
     "name": "stdout",
     "output_type": "stream",
     "text": [
      " \n\t\t[0.037037037037037035, 0.05136491878646451, 0.060441918885915505, 0.06417388317148469, 0.07183205307457864, 0.0737324194377525, 0.07770050907826637, 0.08321175048417828, 0.08602354751954566, 0.09431636573434037]\n"
     ]
    },
    {
     "name": "stdout",
     "output_type": "stream",
     "text": [
      "0.575288146004"
     ]
    },
    {
     "name": "stdout",
     "output_type": "stream",
     "text": [
      " 0.665846509478"
     ]
    },
    {
     "name": "stdout",
     "output_type": "stream",
     "text": [
      " 0.758476239345"
     ]
    },
    {
     "name": "stdout",
     "output_type": "stream",
     "text": [
      " 0.579063638848"
     ]
    },
    {
     "name": "stdout",
     "output_type": "stream",
     "text": [
      " 0.584477540614"
     ]
    },
    {
     "name": "stdout",
     "output_type": "stream",
     "text": [
      " 0.67812703196"
     ]
    },
    {
     "name": "stdout",
     "output_type": "stream",
     "text": [
      " 0.763652036109"
     ]
    },
    {
     "name": "stdout",
     "output_type": "stream",
     "text": [
      " 0.640904975576"
     ]
    },
    {
     "name": "stdout",
     "output_type": "stream",
     "text": [
      " 0.634430550298"
     ]
    },
    {
     "name": "stdout",
     "output_type": "stream",
     "text": [
      " 0.658311960555"
     ]
    },
    {
     "name": "stdout",
     "output_type": "stream",
     "text": [
      " \n\t\t[0.030864197530864196, 0.048700687920858916, 0.05601470143980847, 0.0649072924862349, 0.06261888234033165, 0.07657489472789418, 0.07897660171450901, 0.08169684640063778, 0.08451335513319862, 0.08694437402970588]\n"
     ]
    },
    {
     "name": "stdout",
     "output_type": "stream",
     "text": [
      "0.691151525824"
     ]
    },
    {
     "name": "stdout",
     "output_type": "stream",
     "text": [
      " 0.688406001038"
     ]
    },
    {
     "name": "stdout",
     "output_type": "stream",
     "text": [
      " 0.665052204486"
     ]
    },
    {
     "name": "stdout",
     "output_type": "stream",
     "text": [
      " 0.601806451794"
     ]
    },
    {
     "name": "stdout",
     "output_type": "stream",
     "text": [
      " 0.670730109041"
     ]
    },
    {
     "name": "stdout",
     "output_type": "stream",
     "text": [
      " 0.616980186894"
     ]
    },
    {
     "name": "stdout",
     "output_type": "stream",
     "text": [
      " 0.895028318166"
     ]
    },
    {
     "name": "stdout",
     "output_type": "stream",
     "text": [
      " 0.545358131807"
     ]
    },
    {
     "name": "stdout",
     "output_type": "stream",
     "text": [
      " 0.666979120883"
     ]
    },
    {
     "name": "stdout",
     "output_type": "stream",
     "text": [
      " 0.638325713528"
     ]
    },
    {
     "name": "stdout",
     "output_type": "stream",
     "text": [
      " \n\t\t[0.030864197530864196, 0.048700687920858916, 0.05636580732414495, 0.06520615341250188, 0.06289800215211726, 0.07128332774572754, 0.07823304073127614, 0.0805234777556035, 0.08610240586244962, 0.08896768814885715]\n"
     ]
    },
    {
     "name": "stdout",
     "output_type": "stream",
     "text": [
      "0.763077574079"
     ]
    },
    {
     "name": "stdout",
     "output_type": "stream",
     "text": [
      " 0.746898062355"
     ]
    },
    {
     "name": "stdout",
     "output_type": "stream",
     "text": [
      " 0.703019000992"
     ]
    },
    {
     "name": "stdout",
     "output_type": "stream",
     "text": [
      " 0.621854188472"
     ]
    },
    {
     "name": "stdout",
     "output_type": "stream",
     "text": [
      " 0.764530885655"
     ]
    },
    {
     "name": "stdout",
     "output_type": "stream",
     "text": [
      " 0.589038905398"
     ]
    },
    {
     "name": "stdout",
     "output_type": "stream",
     "text": [
      " 0.638309887692"
     ]
    },
    {
     "name": "stdout",
     "output_type": "stream",
     "text": [
      " 0.680684791158"
     ]
    },
    {
     "name": "stdout",
     "output_type": "stream",
     "text": [
      " 0.646120058797"
     ]
    },
    {
     "name": "stdout",
     "output_type": "stream",
     "text": [
      " 0.663422243705"
     ]
    },
    {
     "name": "stdout",
     "output_type": "stream",
     "text": [
      " \n\t\t[0.037037037037037035, 0.05136491878646451, 0.057666274760305176, 0.06714885465989646, 0.06779932680555774, 0.07640524885574582, 0.07785875639852666, 0.08066088872428431, 0.08752522395172377, 0.09509531708992008]\n"
     ]
    },
    {
     "name": "stdout",
     "output_type": "stream",
     "text": [
      "0.698417224297"
     ]
    },
    {
     "name": "stdout",
     "output_type": "stream",
     "text": [
      " 0.733413690459"
     ]
    },
    {
     "name": "stdout",
     "output_type": "stream",
     "text": [
      " 0.674369333099"
     ]
    },
    {
     "name": "stdout",
     "output_type": "stream",
     "text": [
      " 0.652276723959"
     ]
    },
    {
     "name": "stdout",
     "output_type": "stream",
     "text": [
      " 0.595785097062"
     ]
    },
    {
     "name": "stdout",
     "output_type": "stream",
     "text": [
      " 0.7647759312"
     ]
    },
    {
     "name": "stdout",
     "output_type": "stream",
     "text": [
      " 0.737198143979"
     ]
    },
    {
     "name": "stdout",
     "output_type": "stream",
     "text": [
      " 0.674500364353"
     ]
    },
    {
     "name": "stdout",
     "output_type": "stream",
     "text": [
      " 0.556398861076"
     ]
    },
    {
     "name": "stdout",
     "output_type": "stream",
     "text": [
      " 0.648798649262"
     ]
    },
    {
     "name": "stdout",
     "output_type": "stream",
     "text": [
      " \n\t\t[0.018518518518518517, 0.047174282017373455, 0.05445892633332571, 0.06738031934219725, 0.06637544801807424, 0.07367229129469866, 0.0751066983385042, 0.08107092875864641, 0.08740659869334538, 0.09257548985552383]\n"
     ]
    },
    {
     "name": "stdout",
     "output_type": "stream",
     "text": [
      "0.657786608755"
     ]
    },
    {
     "name": "stdout",
     "output_type": "stream",
     "text": [
      " 0.721203415391"
     ]
    },
    {
     "name": "stdout",
     "output_type": "stream",
     "text": [
      " 0.721495156419"
     ]
    },
    {
     "name": "stdout",
     "output_type": "stream",
     "text": [
      " 0.716883956321"
     ]
    },
    {
     "name": "stdout",
     "output_type": "stream",
     "text": [
      " 0.552217757178"
     ]
    },
    {
     "name": "stdout",
     "output_type": "stream",
     "text": [
      " 0.671348498028"
     ]
    },
    {
     "name": "stdout",
     "output_type": "stream",
     "text": [
      " 0.544572582389"
     ]
    },
    {
     "name": "stdout",
     "output_type": "stream",
     "text": [
      " 0.606959645988"
     ]
    },
    {
     "name": "stdout",
     "output_type": "stream",
     "text": [
      " 0.620294942365"
     ]
    },
    {
     "name": "stdout",
     "output_type": "stream",
     "text": [
      " 0.660887412193"
     ]
    },
    {
     "name": "stdout",
     "output_type": "stream",
     "text": [
      " \n\t\t[0.018518518518518517, 0.047174282017373455, 0.058189763748231184, 0.0716784772720359, 0.07366234933217634, 0.07233741941943193, 0.07727357921179134, 0.0818712535004176, 0.0840667081283728, 0.09369729924704179]\n"
     ]
    },
    {
     "name": "stdout",
     "output_type": "stream",
     "text": [
      "0.716444174488"
     ]
    },
    {
     "name": "stdout",
     "output_type": "stream",
     "text": [
      " 0.605378116348"
     ]
    },
    {
     "name": "stdout",
     "output_type": "stream",
     "text": [
      " 0.689933682115"
     ]
    },
    {
     "name": "stdout",
     "output_type": "stream",
     "text": [
      " 0.7011560964"
     ]
    },
    {
     "name": "stdout",
     "output_type": "stream",
     "text": [
      " 0.681598355294"
     ]
    },
    {
     "name": "stdout",
     "output_type": "stream",
     "text": [
      " 0.72924243264"
     ]
    },
    {
     "name": "stdout",
     "output_type": "stream",
     "text": [
      " 0.610648470939"
     ]
    },
    {
     "name": "stdout",
     "output_type": "stream",
     "text": [
      " 0.678496043709"
     ]
    },
    {
     "name": "stdout",
     "output_type": "stream",
     "text": [
      " 0.631179044536"
     ]
    },
    {
     "name": "stdout",
     "output_type": "stream",
     "text": [
      " 0.622237863273"
     ]
    },
    {
     "name": "stdout",
     "output_type": "stream",
     "text": [
      " \n\t\t[0.018518518518518517, 0.047174282017373455, 0.053573819823587956, 0.06696546036657437, 0.06809457712187104, 0.06670486003117612, 0.07386896319996802, 0.08020970453892529, 0.08662983198408857, 0.08692027056976812]\n"
     ]
    },
    {
     "name": "stdout",
     "output_type": "stream",
     "text": [
      "0.697269040982"
     ]
    },
    {
     "name": "stdout",
     "output_type": "stream",
     "text": [
      " 0.805694818866"
     ]
    },
    {
     "name": "stdout",
     "output_type": "stream",
     "text": [
      " 0.669700833641"
     ]
    },
    {
     "name": "stdout",
     "output_type": "stream",
     "text": [
      " 0.719212451985"
     ]
    },
    {
     "name": "stdout",
     "output_type": "stream",
     "text": [
      " 0.660596881037"
     ]
    },
    {
     "name": "stdout",
     "output_type": "stream",
     "text": [
      " 0.644180729395"
     ]
    },
    {
     "name": "stdout",
     "output_type": "stream",
     "text": [
      " 0.698180809885"
     ]
    },
    {
     "name": "stdout",
     "output_type": "stream",
     "text": [
      " 0.733803730776"
     ]
    },
    {
     "name": "stdout",
     "output_type": "stream",
     "text": [
      " 0.557225728707"
     ]
    },
    {
     "name": "stdout",
     "output_type": "stream",
     "text": [
      " 0.728922378593"
     ]
    },
    {
     "name": "stdout",
     "output_type": "stream",
     "text": [
      " \n\t\t[0.018518518518518517, 0.04001034114265972, 0.05236509102248155, 0.06542430160461157, 0.07004261867396079, 0.07195805919664248, 0.07755528052214539, 0.08126438418455269, 0.08206237528829877, 0.08497472091954414]\n"
     ]
    },
    {
     "name": "stdout",
     "output_type": "stream",
     "text": [
      "0.664132934964"
     ]
    },
    {
     "name": "stdout",
     "output_type": "stream",
     "text": [
      " 0.811727095511"
     ]
    },
    {
     "name": "stdout",
     "output_type": "stream",
     "text": [
      " 0.801640095254"
     ]
    },
    {
     "name": "stdout",
     "output_type": "stream",
     "text": [
      " 0.585516345607"
     ]
    },
    {
     "name": "stdout",
     "output_type": "stream",
     "text": [
      " 0.633307016633"
     ]
    },
    {
     "name": "stdout",
     "output_type": "stream",
     "text": [
      " 0.716091200948"
     ]
    },
    {
     "name": "stdout",
     "output_type": "stream",
     "text": [
      " 0.629938876391"
     ]
    },
    {
     "name": "stdout",
     "output_type": "stream",
     "text": [
      " 0.826499281528"
     ]
    },
    {
     "name": "stdout",
     "output_type": "stream",
     "text": [
      " 0.785530389825"
     ]
    },
    {
     "name": "stdout",
     "output_type": "stream",
     "text": [
      " 0.612917768382"
     ]
    },
    {
     "name": "stdout",
     "output_type": "stream",
     "text": [
      " \n\t\t[0.0, 0.03581970437356867, 0.05334738824652697, 0.06304077329833399, 0.06938439619610437, 0.07555055576167648, 0.07446634360677962, 0.08678826031388141, 0.0891633213702371, 0.0925114927238978]\n"
     ]
    },
    {
     "name": "stdout",
     "output_type": "stream",
     "text": [
      "0.578548086195"
     ]
    },
    {
     "name": "stdout",
     "output_type": "stream",
     "text": [
      " 0.638714093416"
     ]
    },
    {
     "name": "stdout",
     "output_type": "stream",
     "text": [
      " 0.732234250624"
     ]
    },
    {
     "name": "stdout",
     "output_type": "stream",
     "text": [
      " 0.653508789161"
     ]
    },
    {
     "name": "stdout",
     "output_type": "stream",
     "text": [
      " 0.650875115243"
     ]
    },
    {
     "name": "stdout",
     "output_type": "stream",
     "text": [
      " 0.75921591695"
     ]
    },
    {
     "name": "stdout",
     "output_type": "stream",
     "text": [
      " 0.572123004367"
     ]
    },
    {
     "name": "stdout",
     "output_type": "stream",
     "text": [
      " 0.615054759819"
     ]
    },
    {
     "name": "stdout",
     "output_type": "stream",
     "text": [
      " 0.572628309538"
     ]
    },
    {
     "name": "stdout",
     "output_type": "stream",
     "text": [
      " 0.674921386786"
     ]
    },
    {
     "name": "stdout",
     "output_type": "stream",
     "text": [
      " \n\t\t[0.0, 0.03581970437356867, 0.06414999996930218, 0.06406308418508731, 0.06519975817444941, 0.06733484005401531, 0.07330448708074118, 0.07721771690169733, 0.08677188249240632, 0.08956225472056004]\n"
     ]
    },
    {
     "name": "stdout",
     "output_type": "stream",
     "text": [
      "0.678614136291"
     ]
    },
    {
     "name": "stdout",
     "output_type": "stream",
     "text": [
      " 0.723536928531"
     ]
    },
    {
     "name": "stdout",
     "output_type": "stream",
     "text": [
      " 0.654425331563"
     ]
    },
    {
     "name": "stdout",
     "output_type": "stream",
     "text": [
      " 0.58950025506"
     ]
    },
    {
     "name": "stdout",
     "output_type": "stream",
     "text": [
      " 0.59603130816"
     ]
    },
    {
     "name": "stdout",
     "output_type": "stream",
     "text": [
      " 0.719601344357"
     ]
    },
    {
     "name": "stdout",
     "output_type": "stream",
     "text": [
      " 0.653497169771"
     ]
    },
    {
     "name": "stdout",
     "output_type": "stream",
     "text": [
      " 0.556106410771"
     ]
    },
    {
     "name": "stdout",
     "output_type": "stream",
     "text": [
      " 0.71979157881"
     ]
    },
    {
     "name": "stdout",
     "output_type": "stream",
     "text": [
      " 0.793099079556"
     ]
    },
    {
     "name": "stdout",
     "output_type": "stream",
     "text": [
      " \n\t\t[0.0, 0.03581970437356867, 0.05334738824652697, 0.06256533573224833, 0.06370200972161043, 0.06627568605470222, 0.07173956409298356, 0.07351674151396223, 0.07995019796523123, 0.09171760599955114]\n"
     ]
    },
    {
     "name": "stdout",
     "output_type": "stream",
     "text": [
      "0.682267782377"
     ]
    },
    {
     "name": "stdout",
     "output_type": "stream",
     "text": [
      " 0.752642806846"
     ]
    },
    {
     "name": "stdout",
     "output_type": "stream",
     "text": [
      " 0.65098917935"
     ]
    },
    {
     "name": "stdout",
     "output_type": "stream",
     "text": [
      " 0.660565556528"
     ]
    },
    {
     "name": "stdout",
     "output_type": "stream",
     "text": [
      " 0.639617109484"
     ]
    },
    {
     "name": "stdout",
     "output_type": "stream",
     "text": [
      " 0.624392628465"
     ]
    },
    {
     "name": "stdout",
     "output_type": "stream",
     "text": [
      " 0.634345000911"
     ]
    },
    {
     "name": "stdout",
     "output_type": "stream",
     "text": [
      " 0.692127186978"
     ]
    },
    {
     "name": "stdout",
     "output_type": "stream",
     "text": [
      " 0.804051989787"
     ]
    },
    {
     "name": "stdout",
     "output_type": "stream",
     "text": [
      " 0.693384392008"
     ]
    },
    {
     "name": "stdout",
     "output_type": "stream",
     "text": [
      " \n\t\t[0.0, 0.03581970437356867, 0.05953405604465895, 0.06348514067523633, 0.064634128323535, 0.0672132990747338, 0.07264711041836522, 0.07482302326465066, 0.07875948326095067, 0.09039977603545968]\n"
     ]
    },
    {
     "name": "stdout",
     "output_type": "stream",
     "text": [
      "0.672881580878"
     ]
    },
    {
     "name": "stdout",
     "output_type": "stream",
     "text": [
      " 0.651169809324"
     ]
    },
    {
     "name": "stdout",
     "output_type": "stream",
     "text": [
      " 0.61518571933"
     ]
    },
    {
     "name": "stdout",
     "output_type": "stream",
     "text": [
      " 0.674164450681"
     ]
    },
    {
     "name": "stdout",
     "output_type": "stream",
     "text": [
      " 0.612564923574"
     ]
    },
    {
     "name": "stdout",
     "output_type": "stream",
     "text": [
      " 0.726380352128"
     ]
    },
    {
     "name": "stdout",
     "output_type": "stream",
     "text": [
      " 0.657611702167"
     ]
    },
    {
     "name": "stdout",
     "output_type": "stream",
     "text": [
      " 0.678524597757"
     ]
    },
    {
     "name": "stdout",
     "output_type": "stream",
     "text": [
      " 0.615717520928"
     ]
    },
    {
     "name": "stdout",
     "output_type": "stream",
     "text": [
      " 0.658917946288"
     ]
    },
    {
     "name": "stdout",
     "output_type": "stream",
     "text": [
      " \n\t\t[0.0, 0.03413876185007466, 0.047182179010625304, 0.06058237665847005, 0.05848721946608449, 0.06333903871902691, 0.06707049593511219, 0.0755392589904554, 0.07891455559139826, 0.08515386749144441]\n"
     ]
    },
    {
     "name": "stdout",
     "output_type": "stream",
     "text": [
      "0.752919229438"
     ]
    },
    {
     "name": "stdout",
     "output_type": "stream",
     "text": [
      " 0.687449704489"
     ]
    },
    {
     "name": "stdout",
     "output_type": "stream",
     "text": [
      " 0.737539009147"
     ]
    },
    {
     "name": "stdout",
     "output_type": "stream",
     "text": [
      " 0.622807050364"
     ]
    },
    {
     "name": "stdout",
     "output_type": "stream",
     "text": [
      " 0.575211762039"
     ]
    },
    {
     "name": "stdout",
     "output_type": "stream",
     "text": [
      " 0.668781023132"
     ]
    },
    {
     "name": "stdout",
     "output_type": "stream",
     "text": [
      " 0.661266375995"
     ]
    },
    {
     "name": "stdout",
     "output_type": "stream",
     "text": [
      " 0.620379323588"
     ]
    },
    {
     "name": "stdout",
     "output_type": "stream",
     "text": [
      " 0.793961163473"
     ]
    },
    {
     "name": "stdout",
     "output_type": "stream",
     "text": [
      " 0.642518970294"
     ]
    },
    {
     "name": "stdout",
     "output_type": "stream",
     "text": [
      " \n\t\t[0.0, 0.028655763498854934, 0.041598680004806106, 0.059090412791378714, 0.05704057847515843, 0.06336566511449888, 0.06755972030170931, 0.07434385574028275, 0.0777245744594866, 0.0839675459933285]\n"
     ]
    },
    {
     "name": "stdout",
     "output_type": "stream",
     "text": [
      "0.565064317573"
     ]
    },
    {
     "name": "stdout",
     "output_type": "stream",
     "text": [
      " 0.826720432285"
     ]
    },
    {
     "name": "stdout",
     "output_type": "stream",
     "text": [
      " 0.631926575949"
     ]
    },
    {
     "name": "stdout",
     "output_type": "stream",
     "text": [
      " 0.680722001677"
     ]
    },
    {
     "name": "stdout",
     "output_type": "stream",
     "text": [
      " 0.683368807842"
     ]
    },
    {
     "name": "stdout",
     "output_type": "stream",
     "text": [
      " 0.71310710958"
     ]
    },
    {
     "name": "stdout",
     "output_type": "stream",
     "text": [
      " 0.784240445383"
     ]
    },
    {
     "name": "stdout",
     "output_type": "stream",
     "text": [
      " 0.571826214429"
     ]
    },
    {
     "name": "stdout",
     "output_type": "stream",
     "text": [
      " 0.573831085911"
     ]
    },
    {
     "name": "stdout",
     "output_type": "stream",
     "text": [
      " 0.716311336965"
     ]
    },
    {
     "name": "stdout",
     "output_type": "stream",
     "text": [
      " \n\t\t[0.0, 0.028655763498854934, 0.029213393555587427, 0.05750491929017804, 0.05708555090591977, 0.06224552621572691, 0.06714125614992011, 0.06669039533011344, 0.07618363485544999, 0.08291474741262528]\n"
     ]
    },
    {
     "name": "stdout",
     "output_type": "stream",
     "text": [
      "0.622185741298"
     ]
    },
    {
     "name": "stdout",
     "output_type": "stream",
     "text": [
      " 0.66175630097"
     ]
    },
    {
     "name": "stdout",
     "output_type": "stream",
     "text": [
      " 0.723862503504"
     ]
    },
    {
     "name": "stdout",
     "output_type": "stream",
     "text": [
      " 0.680061878021"
     ]
    },
    {
     "name": "stdout",
     "output_type": "stream",
     "text": [
      " 0.625422730717"
     ]
    },
    {
     "name": "stdout",
     "output_type": "stream",
     "text": [
      " 0.714367505624"
     ]
    },
    {
     "name": "stdout",
     "output_type": "stream",
     "text": [
      " 0.742813207066"
     ]
    },
    {
     "name": "stdout",
     "output_type": "stream",
     "text": [
      " 0.664247206652"
     ]
    },
    {
     "name": "stdout",
     "output_type": "stream",
     "text": [
      " 0.687417770705"
     ]
    },
    {
     "name": "stdout",
     "output_type": "stream",
     "text": [
      " 0.614768177627"
     ]
    },
    {
     "name": "stdout",
     "output_type": "stream",
     "text": [
      " \n\t\t[0.0, 0.014327881749427467, 0.02679593595337461, 0.051207454713933793, 0.05490692366463761, 0.06084944476078186, 0.0602414526726743, 0.06709794447321496, 0.07405611418450252, 0.08080969074444563]\n"
     ]
    },
    {
     "name": "stdout",
     "output_type": "stream",
     "text": [
      "0.675038309653"
     ]
    },
    {
     "name": "stdout",
     "output_type": "stream",
     "text": [
      " 0.668417428212"
     ]
    },
    {
     "name": "stdout",
     "output_type": "stream",
     "text": [
      " 0.832141424636"
     ]
    },
    {
     "name": "stdout",
     "output_type": "stream",
     "text": [
      " 0.67328510815"
     ]
    },
    {
     "name": "stdout",
     "output_type": "stream",
     "text": [
      " 0.676072124758"
     ]
    },
    {
     "name": "stdout",
     "output_type": "stream",
     "text": [
      " 0.603026198384"
     ]
    },
    {
     "name": "stdout",
     "output_type": "stream",
     "text": [
      " 0.598064966108"
     ]
    },
    {
     "name": "stdout",
     "output_type": "stream",
     "text": [
      " 0.593676834984"
     ]
    },
    {
     "name": "stdout",
     "output_type": "stream",
     "text": [
      " 0.744181642051"
     ]
    },
    {
     "name": "stdout",
     "output_type": "stream",
     "text": [
      " 0.697860692997"
     ]
    },
    {
     "name": "stdout",
     "output_type": "stream",
     "text": [
      " \n\t\t[0.0, 0.014327881749427467, 0.04687086690983683, 0.05387801416528202, 0.05747139053227945, 0.05998281063229017, 0.0642726369556417, 0.06704776753507573, 0.0736491154240292, 0.08130445265018683]\n"
     ]
    },
    {
     "name": "stdout",
     "output_type": "stream",
     "text": [
      "0.739048157847"
     ]
    },
    {
     "name": "stdout",
     "output_type": "stream",
     "text": [
      " 0.677270452703"
     ]
    },
    {
     "name": "stdout",
     "output_type": "stream",
     "text": [
      " 0.687854052127"
     ]
    },
    {
     "name": "stdout",
     "output_type": "stream",
     "text": [
      " 0.755740798204"
     ]
    },
    {
     "name": "stdout",
     "output_type": "stream",
     "text": [
      " 0.850264280496"
     ]
    },
    {
     "name": "stdout",
     "output_type": "stream",
     "text": [
      " 0.573555074482"
     ]
    },
    {
     "name": "stdout",
     "output_type": "stream",
     "text": [
      " 0.637624616932"
     ]
    },
    {
     "name": "stdout",
     "output_type": "stream",
     "text": [
      " 0.702043729665"
     ]
    },
    {
     "name": "stdout",
     "output_type": "stream",
     "text": [
      " 0.659861621924"
     ]
    },
    {
     "name": "stdout",
     "output_type": "stream",
     "text": [
      " 0.571247753905"
     ]
    },
    {
     "name": "stdout",
     "output_type": "stream",
     "text": [
      " \n\t\t[0.0, 0.014327881749427467, 0.04276645752182263, 0.05476488570860993, 0.05679967397549512, 0.059081751053491845, 0.05851799328877242, 0.06590595856388365, 0.06917371334829502, 0.07696743752734736]\n"
     ]
    },
    {
     "name": "stdout",
     "output_type": "stream",
     "text": [
      "0.709285420198"
     ]
    },
    {
     "name": "stdout",
     "output_type": "stream",
     "text": [
      " 0.678000016756"
     ]
    },
    {
     "name": "stdout",
     "output_type": "stream",
     "text": [
      " 0.771850192454"
     ]
    },
    {
     "name": "stdout",
     "output_type": "stream",
     "text": [
      " 0.727378284515"
     ]
    },
    {
     "name": "stdout",
     "output_type": "stream",
     "text": [
      " 0.661461964986"
     ]
    },
    {
     "name": "stdout",
     "output_type": "stream",
     "text": [
      " 0.701274306315"
     ]
    },
    {
     "name": "stdout",
     "output_type": "stream",
     "text": [
      " 0.591872427727"
     ]
    },
    {
     "name": "stdout",
     "output_type": "stream",
     "text": [
      " 0.624548215055"
     ]
    },
    {
     "name": "stdout",
     "output_type": "stream",
     "text": [
      " 0.672817781103"
     ]
    },
    {
     "name": "stdout",
     "output_type": "stream",
     "text": [
      " 0.737005010836"
     ]
    },
    {
     "name": "stdout",
     "output_type": "stream",
     "text": [
      " \n\t\t[0.037037037037037035, 0.022709155287609573, 0.04366618511630739, 0.05349510311184192, 0.05857780552660854, 0.06089578343112846, 0.06549961456588041, 0.07270831095690629, 0.07242481353485801, 0.08431397666299907]\n"
     ]
    },
    {
     "name": "stdout",
     "output_type": "stream",
     "text": [
      "0.644604024732"
     ]
    },
    {
     "name": "stdout",
     "output_type": "stream",
     "text": [
      " 0.754585090029"
     ]
    },
    {
     "name": "stdout",
     "output_type": "stream",
     "text": [
      " 0.688067179646"
     ]
    },
    {
     "name": "stdout",
     "output_type": "stream",
     "text": [
      " 0.781562631779"
     ]
    },
    {
     "name": "stdout",
     "output_type": "stream",
     "text": [
      " 0.81340028284"
     ]
    },
    {
     "name": "stdout",
     "output_type": "stream",
     "text": [
      " 0.610290387282"
     ]
    },
    {
     "name": "stdout",
     "output_type": "stream",
     "text": [
      " 0.701563376538"
     ]
    },
    {
     "name": "stdout",
     "output_type": "stream",
     "text": [
      " 0.646284383873"
     ]
    },
    {
     "name": "stdout",
     "output_type": "stream",
     "text": [
      " 0.757907145973"
     ]
    },
    {
     "name": "stdout",
     "output_type": "stream",
     "text": [
      " 0.673136010744"
     ]
    },
    {
     "name": "stdout",
     "output_type": "stream",
     "text": [
      " \n\t\t[0.037037037037037035, 0.022709155287609573, 0.03388233134599136, 0.05172836796730219, 0.05683824120528663, 0.059180184363209695, 0.06379489961637876, 0.07052159677348106, 0.0742870731263378, 0.08154261138108441]\n"
     ]
    },
    {
     "name": "stdout",
     "output_type": "stream",
     "text": [
      "0.69891594735"
     ]
    },
    {
     "name": "stdout",
     "output_type": "stream",
     "text": [
      " 0.663290010178"
     ]
    },
    {
     "name": "stdout",
     "output_type": "stream",
     "text": [
      " 0.750998460679"
     ]
    },
    {
     "name": "stdout",
     "output_type": "stream",
     "text": [
      " 0.685348790863"
     ]
    },
    {
     "name": "stdout",
     "output_type": "stream",
     "text": [
      " 0.64893910386"
     ]
    },
    {
     "name": "stdout",
     "output_type": "stream",
     "text": [
      " 0.639151396569"
     ]
    },
    {
     "name": "stdout",
     "output_type": "stream",
     "text": [
      " 0.624424805845"
     ]
    },
    {
     "name": "stdout",
     "output_type": "stream",
     "text": [
      " 0.677191036481"
     ]
    },
    {
     "name": "stdout",
     "output_type": "stream",
     "text": [
      " 0.691841108428"
     ]
    },
    {
     "name": "stdout",
     "output_type": "stream",
     "text": [
      " 0.607780633421"
     ]
    },
    {
     "name": "stdout",
     "output_type": "stream",
     "text": [
      " \n\t\t[0.037037037037037035, 0.029873096162323306, 0.04025896999277058, 0.05741587560554479, 0.061967898029565406, 0.06695327489339144, 0.06955605722116276, 0.07673872599589625, 0.0764430620895561, 0.08467180622130552]\n"
     ]
    },
    {
     "name": "stdout",
     "output_type": "stream",
     "text": [
      "0.582529811634"
     ]
    },
    {
     "name": "stdout",
     "output_type": "stream",
     "text": [
      " 0.71333928679"
     ]
    },
    {
     "name": "stdout",
     "output_type": "stream",
     "text": [
      " 0.672834491413"
     ]
    },
    {
     "name": "stdout",
     "output_type": "stream",
     "text": [
      " 0.735993076181"
     ]
    },
    {
     "name": "stdout",
     "output_type": "stream",
     "text": [
      " 0.757855820668"
     ]
    },
    {
     "name": "stdout",
     "output_type": "stream",
     "text": [
      " 0.619654398563"
     ]
    },
    {
     "name": "stdout",
     "output_type": "stream",
     "text": [
      " 0.767955379396"
     ]
    },
    {
     "name": "stdout",
     "output_type": "stream",
     "text": [
      " 0.657053075195"
     ]
    },
    {
     "name": "stdout",
     "output_type": "stream",
     "text": [
      " 0.638393962449"
     ]
    },
    {
     "name": "stdout",
     "output_type": "stream",
     "text": [
      " 0.653721600217"
     ]
    },
    {
     "name": "stdout",
     "output_type": "stream",
     "text": [
      " \n\t\t[0.037037037037037035, 0.022709155287609573, 0.03812923693804042, 0.055682887090849224, 0.06073335303396816, 0.06568446078637216, 0.06832201434490438, 0.07519043117115991, 0.07490633658057881, 0.08215944691959655]\n"
     ]
    },
    {
     "name": "stdout",
     "output_type": "stream",
     "text": [
      "0.622432070112"
     ]
    },
    {
     "name": "stdout",
     "output_type": "stream",
     "text": [
      " 0.694084942894"
     ]
    },
    {
     "name": "stdout",
     "output_type": "stream",
     "text": [
      " 0.555046825992"
     ]
    },
    {
     "name": "stdout",
     "output_type": "stream",
     "text": [
      " 0.599304236152"
     ]
    },
    {
     "name": "stdout",
     "output_type": "stream",
     "text": [
      " 0.760546813644"
     ]
    },
    {
     "name": "stdout",
     "output_type": "stream",
     "text": [
      " 0.807672211314"
     ]
    },
    {
     "name": "stdout",
     "output_type": "stream",
     "text": [
      " 0.702971047248"
     ]
    },
    {
     "name": "stdout",
     "output_type": "stream",
     "text": [
      " 0.651174371527"
     ]
    },
    {
     "name": "stdout",
     "output_type": "stream",
     "text": [
      " 0.686711740974"
     ]
    },
    {
     "name": "stdout",
     "output_type": "stream",
     "text": [
      " 0.723879481197"
     ]
    },
    {
     "name": "stdout",
     "output_type": "stream",
     "text": [
      " \n\t\t[0.037037037037037035, 0.022709155287609573, 0.048282129040950625, 0.05756492363317781, 0.06187440863506221, 0.06731383104356944, 0.06661706568657035, 0.07639199463516323, 0.07865490784079865, 0.0887072928575548]\n"
     ]
    },
    {
     "name": "stdout",
     "output_type": "stream",
     "text": [
      "0.796006328925"
     ]
    },
    {
     "name": "stdout",
     "output_type": "stream",
     "text": [
      " 0.666984622677"
     ]
    },
    {
     "name": "stdout",
     "output_type": "stream",
     "text": [
      " 0.654749924592"
     ]
    },
    {
     "name": "stdout",
     "output_type": "stream",
     "text": [
      " 0.682999167244"
     ]
    },
    {
     "name": "stdout",
     "output_type": "stream",
     "text": [
      " 0.623144580027"
     ]
    },
    {
     "name": "stdout",
     "output_type": "stream",
     "text": [
      " 0.701754914632"
     ]
    },
    {
     "name": "stdout",
     "output_type": "stream",
     "text": [
      " 0.649103138607"
     ]
    },
    {
     "name": "stdout",
     "output_type": "stream",
     "text": [
      " 0.751714491233"
     ]
    },
    {
     "name": "stdout",
     "output_type": "stream",
     "text": [
      " 0.668430390659"
     ]
    },
    {
     "name": "stdout",
     "output_type": "stream",
     "text": [
      " 0.790317128351"
     ]
    },
    {
     "name": "stdout",
     "output_type": "stream",
     "text": [
      " \n\t\t[0.037037037037037035, 0.0281921536388293, 0.05294462379314608, 0.06203534346549747, 0.06357238723045251, 0.06898387520622468, 0.06827435276387935, 0.07803738669267055, 0.07984224398690093, 0.08491346684018027]\n"
     ]
    },
    {
     "name": "stdout",
     "output_type": "stream",
     "text": [
      "0.75907211525"
     ]
    },
    {
     "name": "stdout",
     "output_type": "stream",
     "text": [
      " 0.727268143604"
     ]
    },
    {
     "name": "stdout",
     "output_type": "stream",
     "text": [
      " 0.744773813211"
     ]
    },
    {
     "name": "stdout",
     "output_type": "stream",
     "text": [
      " 0.776763102449"
     ]
    },
    {
     "name": "stdout",
     "output_type": "stream",
     "text": [
      " 0.632975093739"
     ]
    },
    {
     "name": "stdout",
     "output_type": "stream",
     "text": [
      " 0.667990209181"
     ]
    },
    {
     "name": "stdout",
     "output_type": "stream",
     "text": [
      " 0.702873109604"
     ]
    },
    {
     "name": "stdout",
     "output_type": "stream",
     "text": [
      " 0.773757253681"
     ]
    },
    {
     "name": "stdout",
     "output_type": "stream",
     "text": [
      " 0.724658526497"
     ]
    },
    {
     "name": "stdout",
     "output_type": "stream",
     "text": [
      " 0.616587414076"
     ]
    },
    {
     "name": "stdout",
     "output_type": "stream",
     "text": [
      " \n\t\t[0.037037037037037035, 0.029873096162323306, 0.04949085784205703, 0.05863064482905495, 0.06288635814756505, 0.06585224598461645, 0.07564697871571645, 0.07763346937055195, 0.08349817062959133, 0.08760185787626183]\n"
     ]
    },
    {
     "name": "stdout",
     "output_type": "stream",
     "text": [
      "0.688753662688"
     ]
    },
    {
     "name": "stdout",
     "output_type": "stream",
     "text": [
      " 0.650523483671"
     ]
    },
    {
     "name": "stdout",
     "output_type": "stream",
     "text": [
      " 0.708444817335"
     ]
    },
    {
     "name": "stdout",
     "output_type": "stream",
     "text": [
      " 0.694607167624"
     ]
    },
    {
     "name": "stdout",
     "output_type": "stream",
     "text": [
      " 0.634198592466"
     ]
    },
    {
     "name": "stdout",
     "output_type": "stream",
     "text": [
      " 0.603271791909"
     ]
    },
    {
     "name": "stdout",
     "output_type": "stream",
     "text": [
      " 0.684884295545"
     ]
    },
    {
     "name": "stdout",
     "output_type": "stream",
     "text": [
      " 0.587239675148"
     ]
    },
    {
     "name": "stdout",
     "output_type": "stream",
     "text": [
      " 0.633030520276"
     ]
    },
    {
     "name": "stdout",
     "output_type": "stream",
     "text": [
      " 0.804730679827"
     ]
    },
    {
     "name": "stdout",
     "output_type": "stream",
     "text": [
      " \n\t\t[0.037037037037037035, 0.04420097791175077, 0.05782301809685872, 0.06164584677234282, 0.06567499158308378, 0.07091492204218101, 0.07595288943976956, 0.08245508728620052, 0.08511374158675046, 0.08921700980949361]\n"
     ]
    },
    {
     "name": "stdout",
     "output_type": "stream",
     "text": [
      "0.6196171506"
     ]
    },
    {
     "name": "stdout",
     "output_type": "stream",
     "text": [
      " 0.683025137599"
     ]
    },
    {
     "name": "stdout",
     "output_type": "stream",
     "text": [
      " 0.764745456746"
     ]
    },
    {
     "name": "stdout",
     "output_type": "stream",
     "text": [
      " 0.693392747094"
     ]
    },
    {
     "name": "stdout",
     "output_type": "stream",
     "text": [
      " 0.672901629435"
     ]
    },
    {
     "name": "stdout",
     "output_type": "stream",
     "text": [
      " 0.602036855463"
     ]
    },
    {
     "name": "stdout",
     "output_type": "stream",
     "text": [
      " 0.798548436426"
     ]
    },
    {
     "name": "stdout",
     "output_type": "stream",
     "text": [
      " 0.704467108871"
     ]
    },
    {
     "name": "stdout",
     "output_type": "stream",
     "text": [
      " 0.738959861032"
     ]
    },
    {
     "name": "stdout",
     "output_type": "stream",
     "text": [
      " 0.649833219082"
     ]
    },
    {
     "name": "stdout",
     "output_type": "stream",
     "text": [
      " \n\t\t[0.037037037037037035, 0.04420097791175077, 0.061517957767878204, 0.06518857067069622, 0.06683588652493133, 0.06971549655689284, 0.07892487284212904, 0.08858623521522191, 0.08921514744466537, 0.09668958988376719]\n"
     ]
    },
    {
     "name": "stdout",
     "output_type": "stream",
     "text": [
      "0.720922197838"
     ]
    },
    {
     "name": "stdout",
     "output_type": "stream",
     "text": [
      " 0.669367702475"
     ]
    },
    {
     "name": "stdout",
     "output_type": "stream",
     "text": [
      " 0.691396772922"
     ]
    },
    {
     "name": "stdout",
     "output_type": "stream",
     "text": [
      " 0.598348387727"
     ]
    },
    {
     "name": "stdout",
     "output_type": "stream",
     "text": [
      " 0.722567184604"
     ]
    },
    {
     "name": "stdout",
     "output_type": "stream",
     "text": [
      " 0.580308506113"
     ]
    },
    {
     "name": "stdout",
     "output_type": "stream",
     "text": [
      " 0.692142024292"
     ]
    },
    {
     "name": "stdout",
     "output_type": "stream",
     "text": [
      " 0.645763380062"
     ]
    },
    {
     "name": "stdout",
     "output_type": "stream",
     "text": [
      " 0.645267968665"
     ]
    },
    {
     "name": "stdout",
     "output_type": "stream",
     "text": [
      " 0.646051021813"
     ]
    },
    {
     "name": "stdout",
     "output_type": "stream",
     "text": [
      " \n\t\t[0.037037037037037035, 0.029873096162323306, 0.04949085784205703, 0.05863064482905495, 0.06305087478787659, 0.06844596634315867, 0.07535941234225879, 0.07793348950375517, 0.08565354094913584, 0.09493380909641953]\n"
     ]
    },
    {
     "name": "stdout",
     "output_type": "stream",
     "text": [
      "0.604473408411"
     ]
    },
    {
     "name": "stdout",
     "output_type": "stream",
     "text": [
      " 0.739484288472"
     ]
    },
    {
     "name": "stdout",
     "output_type": "stream",
     "text": [
      " 0.728333016459"
     ]
    },
    {
     "name": "stdout",
     "output_type": "stream",
     "text": [
      " 0.662550685926"
     ]
    },
    {
     "name": "stdout",
     "output_type": "stream",
     "text": [
      " 0.726903225447"
     ]
    },
    {
     "name": "stdout",
     "output_type": "stream",
     "text": [
      " 0.709413272902"
     ]
    },
    {
     "name": "stdout",
     "output_type": "stream",
     "text": [
      " 0.714798383487"
     ]
    },
    {
     "name": "stdout",
     "output_type": "stream",
     "text": [
      " 0.611105999127"
     ]
    },
    {
     "name": "stdout",
     "output_type": "stream",
     "text": [
      " 0.669761038017"
     ]
    },
    {
     "name": "stdout",
     "output_type": "stream",
     "text": [
      " 0.693594629724"
     ]
    },
    {
     "name": "stdout",
     "output_type": "stream",
     "text": [
      " \n\t\t[0.037037037037037035, 0.022709155287609573, 0.04958088776889626, 0.06077308435952745, 0.06525411461615402, 0.06498674031504935, 0.07496842349879847, 0.07435345922389784, 0.085130457956433, 0.09182184931583347]\n"
     ]
    },
    {
     "name": "stdout",
     "output_type": "stream",
     "text": [
      "0.7991301692"
     ]
    },
    {
     "name": "stdout",
     "output_type": "stream",
     "text": [
      " 0.665278186348"
     ]
    },
    {
     "name": "stdout",
     "output_type": "stream",
     "text": [
      " 0.654063596657"
     ]
    },
    {
     "name": "stdout",
     "output_type": "stream",
     "text": [
      " 0.667034833873"
     ]
    },
    {
     "name": "stdout",
     "output_type": "stream",
     "text": [
      " 0.703669298298"
     ]
    },
    {
     "name": "stdout",
     "output_type": "stream",
     "text": [
      " 0.648344920782"
     ]
    },
    {
     "name": "stdout",
     "output_type": "stream",
     "text": [
      " 0.644910555801"
     ]
    },
    {
     "name": "stdout",
     "output_type": "stream",
     "text": [
      " 0.648429016345"
     ]
    },
    {
     "name": "stdout",
     "output_type": "stream",
     "text": [
      " 0.687465956221"
     ]
    },
    {
     "name": "stdout",
     "output_type": "stream",
     "text": [
      " 0.629726558832"
     ]
    },
    {
     "name": "stdout",
     "output_type": "stream",
     "text": [
      " \n\t\t[0.037037037037037035, 0.029873096162323306, 0.04183121986927173, 0.06059909191962545, 0.06572839928597699, 0.0682111812054028, 0.07286174531197044, 0.07498654781862484, 0.08231363491825369, 0.0903699016783461]\n"
     ]
    },
    {
     "name": "stdout",
     "output_type": "stream",
     "text": [
      "0.667075565704"
     ]
    },
    {
     "name": "stdout",
     "output_type": "stream",
     "text": [
      " 0.7062904026"
     ]
    },
    {
     "name": "stdout",
     "output_type": "stream",
     "text": [
      " 0.615985213566"
     ]
    },
    {
     "name": "stdout",
     "output_type": "stream",
     "text": [
      " 0.777883650995"
     ]
    },
    {
     "name": "stdout",
     "output_type": "stream",
     "text": [
      " 0.751331920534"
     ]
    },
    {
     "name": "stdout",
     "output_type": "stream",
     "text": [
      " 0.6810857421"
     ]
    },
    {
     "name": "stdout",
     "output_type": "stream",
     "text": [
      " 0.716295456505"
     ]
    },
    {
     "name": "stdout",
     "output_type": "stream",
     "text": [
      " 0.676775316004"
     ]
    },
    {
     "name": "stdout",
     "output_type": "stream",
     "text": [
      " 0.712840344773"
     ]
    },
    {
     "name": "stdout",
     "output_type": "stream",
     "text": [
      " 0.667617259294"
     ]
    },
    {
     "name": "stdout",
     "output_type": "stream",
     "text": [
      " \n\t\t[0.037037037037037035, 0.05136491878646451, 0.05958759340137499, 0.06660496595158276, 0.0683149763146081, 0.07597679687214336, 0.07828285473927497, 0.08521405144015297, 0.09347292678284723, 0.10254155129154575]\n"
     ]
    },
    {
     "name": "stdout",
     "output_type": "stream",
     "text": [
      "0.759651271692"
     ]
    },
    {
     "name": "stdout",
     "output_type": "stream",
     "text": [
      " 0.635126208647"
     ]
    },
    {
     "name": "stdout",
     "output_type": "stream",
     "text": [
      " 0.708585859785"
     ]
    },
    {
     "name": "stdout",
     "output_type": "stream",
     "text": [
      " 0.750752506772"
     ]
    },
    {
     "name": "stdout",
     "output_type": "stream",
     "text": [
      " 0.703338791123"
     ]
    },
    {
     "name": "stdout",
     "output_type": "stream",
     "text": [
      " 0.622764786075"
     ]
    },
    {
     "name": "stdout",
     "output_type": "stream",
     "text": [
      " 0.652703565332"
     ]
    },
    {
     "name": "stdout",
     "output_type": "stream",
     "text": [
      " 0.711199239465"
     ]
    },
    {
     "name": "stdout",
     "output_type": "stream",
     "text": [
      " 0.681338478134"
     ]
    },
    {
     "name": "stdout",
     "output_type": "stream",
     "text": [
      " 0.663866680468"
     ]
    },
    {
     "name": "stdout",
     "output_type": "stream",
     "text": [
      " \n\t\t[0.037037037037037035, 0.05852885966117824, 0.0607963222024814, 0.0646191508779655, 0.06699963545786713, 0.07775583511791367, 0.08236642129599793, 0.08928204886049561, 0.09652254135020091, 0.10655578040409285]\n"
     ]
    },
    {
     "name": "stdout",
     "output_type": "stream",
     "text": [
      "0.581782583892"
     ]
    },
    {
     "name": "stdout",
     "output_type": "stream",
     "text": [
      " 0.583998290726"
     ]
    },
    {
     "name": "stdout",
     "output_type": "stream",
     "text": [
      " 0.724432099577"
     ]
    },
    {
     "name": "stdout",
     "output_type": "stream",
     "text": [
      " 0.656938715308"
     ]
    },
    {
     "name": "stdout",
     "output_type": "stream",
     "text": [
      " 0.729008665877"
     ]
    },
    {
     "name": "stdout",
     "output_type": "stream",
     "text": [
      " 0.762199655143"
     ]
    },
    {
     "name": "stdout",
     "output_type": "stream",
     "text": [
      " 0.720155051323"
     ]
    },
    {
     "name": "stdout",
     "output_type": "stream",
     "text": [
      " 0.726039856598"
     ]
    },
    {
     "name": "stdout",
     "output_type": "stream",
     "text": [
      " 0.780328059568"
     ]
    },
    {
     "name": "stdout",
     "output_type": "stream",
     "text": [
      " 0.866140602728"
     ]
    },
    {
     "name": "stdout",
     "output_type": "stream",
     "text": [
      " \n\t\t[0.037037037037037035, 0.029873096162323306, 0.0554055604946459, 0.05935153721903527, 0.06442122340446474, 0.06358776941941703, 0.06901008732370399, 0.0705333056173597, 0.08002859617341478, 0.08653279970446298]\n"
     ]
    },
    {
     "name": "stdout",
     "output_type": "stream",
     "text": [
      "0.740390352769"
     ]
    },
    {
     "name": "stdout",
     "output_type": "stream",
     "text": [
      " 0.601932195897"
     ]
    },
    {
     "name": "stdout",
     "output_type": "stream",
     "text": [
      " 0.724465038398"
     ]
    },
    {
     "name": "stdout",
     "output_type": "stream",
     "text": [
      " 0.712960016267"
     ]
    },
    {
     "name": "stdout",
     "output_type": "stream",
     "text": [
      " 0.714012342705"
     ]
    },
    {
     "name": "stdout",
     "output_type": "stream",
     "text": [
      " 0.637604570767"
     ]
    },
    {
     "name": "stdout",
     "output_type": "stream",
     "text": [
      " 0.791543213017"
     ]
    },
    {
     "name": "stdout",
     "output_type": "stream",
     "text": [
      " 0.746186888593"
     ]
    },
    {
     "name": "stdout",
     "output_type": "stream",
     "text": [
      " 0.671396034076"
     ]
    },
    {
     "name": "stdout",
     "output_type": "stream",
     "text": [
      " 0.622632274975"
     ]
    },
    {
     "name": "stdout",
     "output_type": "stream",
     "text": [
      " \n\t\t[0.0, 0.028655763498854934, 0.04444100289949966, 0.054530029087882986, 0.05714941198414281, 0.061493995745772266, 0.06672531504726412, 0.06617087872847607, 0.0759733760962753, 0.07875267600489409]\n"
     ]
    },
    {
     "name": "stdout",
     "output_type": "stream",
     "text": [
      "0.785526952448"
     ]
    },
    {
     "name": "stdout",
     "output_type": "stream",
     "text": [
      " 0.663082722987"
     ]
    },
    {
     "name": "stdout",
     "output_type": "stream",
     "text": [
      " 0.601272545115"
     ]
    },
    {
     "name": "stdout",
     "output_type": "stream",
     "text": [
      " 0.611535990269"
     ]
    },
    {
     "name": "stdout",
     "output_type": "stream",
     "text": [
      " 0.642046626885"
     ]
    },
    {
     "name": "stdout",
     "output_type": "stream",
     "text": [
      " 0.691704519298"
     ]
    },
    {
     "name": "stdout",
     "output_type": "stream",
     "text": [
      " 0.674198554844"
     ]
    },
    {
     "name": "stdout",
     "output_type": "stream",
     "text": [
      " 0.718714122848"
     ]
    },
    {
     "name": "stdout",
     "output_type": "stream",
     "text": [
      " 0.65623524377"
     ]
    },
    {
     "name": "stdout",
     "output_type": "stream",
     "text": [
      " 0.682458322309"
     ]
    },
    {
     "name": "stdout",
     "output_type": "stream",
     "text": [
      " \n\t\t[0.0, 0.028655763498854934, 0.029896667680499908, 0.04824598913066617, 0.05961232857450184, 0.07070067274062475, 0.07315228309622193, 0.07520724695631695, 0.08320869410588762, 0.08939948179851431]\n"
     ]
    },
    {
     "name": "stdout",
     "output_type": "stream",
     "text": [
      "0.767458256702"
     ]
    },
    {
     "name": "stdout",
     "output_type": "stream",
     "text": [
      " 0.630457620027"
     ]
    },
    {
     "name": "stdout",
     "output_type": "stream",
     "text": [
      " 0.640913873109"
     ]
    },
    {
     "name": "stdout",
     "output_type": "stream",
     "text": [
      " 0.601495941633"
     ]
    },
    {
     "name": "stdout",
     "output_type": "stream",
     "text": [
      " 0.607068406687"
     ]
    },
    {
     "name": "stdout",
     "output_type": "stream",
     "text": [
      " 0.568530365918"
     ]
    },
    {
     "name": "stdout",
     "output_type": "stream",
     "text": [
      " 0.637234385645"
     ]
    },
    {
     "name": "stdout",
     "output_type": "stream",
     "text": [
      " 0.653427064415"
     ]
    },
    {
     "name": "stdout",
     "output_type": "stream",
     "text": [
      " 0.670609443834"
     ]
    },
    {
     "name": "stdout",
     "output_type": "stream",
     "text": [
      " 0.592100442843"
     ]
    },
    {
     "name": "stdout",
     "output_type": "stream",
     "text": [
      " \n\t\t[0.0, 0.014327881749427467, 0.02706790109891772, 0.05221567157991208, 0.0548374576088739, 0.06271919410285579, 0.07043552970409545, 0.07747139396346191, 0.08975975069115467, 0.09441499815516625]\n"
     ]
    },
    {
     "name": "stdout",
     "output_type": "stream",
     "text": [
      "0.594042735602"
     ]
    },
    {
     "name": "stdout",
     "output_type": "stream",
     "text": [
      " 0.740114147123"
     ]
    },
    {
     "name": "stdout",
     "output_type": "stream",
     "text": [
      " 0.659326588742"
     ]
    },
    {
     "name": "stdout",
     "output_type": "stream",
     "text": [
      " 0.747865358512"
     ]
    },
    {
     "name": "stdout",
     "output_type": "stream",
     "text": [
      " 0.667691762954"
     ]
    },
    {
     "name": "stdout",
     "output_type": "stream",
     "text": [
      " 0.747509344359"
     ]
    },
    {
     "name": "stdout",
     "output_type": "stream",
     "text": [
      " 0.704217148041"
     ]
    },
    {
     "name": "stdout",
     "output_type": "stream",
     "text": [
      " 0.682912405849"
     ]
    },
    {
     "name": "stdout",
     "output_type": "stream",
     "text": [
      " 0.754424363293"
     ]
    },
    {
     "name": "stdout",
     "output_type": "stream",
     "text": [
      " 0.51354124817"
     ]
    },
    {
     "name": "stdout",
     "output_type": "stream",
     "text": [
      " \n\t\t[0.0, 0.014327881749427467, 0.02706790109891772, 0.05227725817408988, 0.05758808115966097, 0.0629909623425951, 0.06544292014292394, 0.07352106773946146, 0.0807035957280689, 0.09384682656635819]\n"
     ]
    },
    {
     "name": "stdout",
     "output_type": "stream",
     "text": [
      "0.788049446256"
     ]
    },
    {
     "name": "stdout",
     "output_type": "stream",
     "text": [
      " 0.646295557947"
     ]
    },
    {
     "name": "stdout",
     "output_type": "stream",
     "text": [
      " 0.746101804632"
     ]
    },
    {
     "name": "stdout",
     "output_type": "stream",
     "text": [
      " 0.697829615487"
     ]
    },
    {
     "name": "stdout",
     "output_type": "stream",
     "text": [
      " 0.677619984464"
     ]
    },
    {
     "name": "stdout",
     "output_type": "stream",
     "text": [
      " 0.636025125937"
     ]
    },
    {
     "name": "stdout",
     "output_type": "stream",
     "text": [
      " 0.719942125422"
     ]
    },
    {
     "name": "stdout",
     "output_type": "stream",
     "text": [
      " 0.664713122741"
     ]
    },
    {
     "name": "stdout",
     "output_type": "stream",
     "text": [
      " 0.769536946337"
     ]
    },
    {
     "name": "stdout",
     "output_type": "stream",
     "text": [
      " 0.66734375227"
     ]
    },
    {
     "name": "stdout",
     "output_type": "stream",
     "text": [
      " \n\t\t[0.0, 0.028655763498854934, 0.029896667680499908, 0.047497602437602676, 0.059553352441949675, 0.06501962252215446, 0.07097014231205023, 0.07468114613240634, 0.08184987437961896, 0.09750986194810515]\n"
     ]
    },
    {
     "name": "stdout",
     "output_type": "stream",
     "text": [
      "0.726533317267"
     ]
    },
    {
     "name": "stdout",
     "output_type": "stream",
     "text": [
      " 0.619107124485"
     ]
    },
    {
     "name": "stdout",
     "output_type": "stream",
     "text": [
      " 0.664656142839"
     ]
    },
    {
     "name": "stdout",
     "output_type": "stream",
     "text": [
      " 0.746738108353"
     ]
    },
    {
     "name": "stdout",
     "output_type": "stream",
     "text": [
      " 0.738949617007"
     ]
    },
    {
     "name": "stdout",
     "output_type": "stream",
     "text": [
      " 0.677938743364"
     ]
    },
    {
     "name": "stdout",
     "output_type": "stream",
     "text": [
      " 0.626184344824"
     ]
    },
    {
     "name": "stdout",
     "output_type": "stream",
     "text": [
      " 0.645671215174"
     ]
    },
    {
     "name": "stdout",
     "output_type": "stream",
     "text": [
      " 0.667193645932"
     ]
    },
    {
     "name": "stdout",
     "output_type": "stream",
     "text": [
      " 0.528218906703"
     ]
    },
    {
     "name": "stdout",
     "output_type": "stream",
     "text": [
      " \n\t\t[0.0, 0.014327881749427467, 0.020881233300785736, 0.051282191060198185, 0.05651339120180742, 0.06194300726731844, 0.06964829796196938, 0.07510567728536877, 0.0848924539163212, 0.08956800063270302]\n"
     ]
    },
    {
     "name": "stdout",
     "output_type": "stream",
     "text": [
      "0.734376212026"
     ]
    },
    {
     "name": "stdout",
     "output_type": "stream",
     "text": [
      " 0.784671680872"
     ]
    },
    {
     "name": "stdout",
     "output_type": "stream",
     "text": [
      " 0.57606910519"
     ]
    },
    {
     "name": "stdout",
     "output_type": "stream",
     "text": [
      " 0.678550628012"
     ]
    },
    {
     "name": "stdout",
     "output_type": "stream",
     "text": [
      " 0.625933046069"
     ]
    },
    {
     "name": "stdout",
     "output_type": "stream",
     "text": [
      " 0.651598546692"
     ]
    },
    {
     "name": "stdout",
     "output_type": "stream",
     "text": [
      " 0.60127351618"
     ]
    },
    {
     "name": "stdout",
     "output_type": "stream",
     "text": [
      " 0.559249074505"
     ]
    },
    {
     "name": "stdout",
     "output_type": "stream",
     "text": [
      " 0.59934950736"
     ]
    },
    {
     "name": "stdout",
     "output_type": "stream",
     "text": [
      " 0.662077042943"
     ]
    },
    {
     "name": "stdout",
     "output_type": "stream",
     "text": [
      " \n\t\t[0.0, 0.014327881749427467, 0.016265289376142505, 0.043981060690422784, 0.055398552458204735, 0.060801433641138845, 0.06851522804358087, 0.0765933756401184, 0.0835877840423847, 0.09030497758891663]\n"
     ]
    },
    {
     "name": "stdout",
     "output_type": "stream",
     "text": [
      "0.701212766209"
     ]
    },
    {
     "name": "stdout",
     "output_type": "stream",
     "text": [
      " 0.50823099481"
     ]
    },
    {
     "name": "stdout",
     "output_type": "stream",
     "text": [
      " 0.606176397735"
     ]
    },
    {
     "name": "stdout",
     "output_type": "stream",
     "text": [
      " 0.763719603109"
     ]
    },
    {
     "name": "stdout",
     "output_type": "stream",
     "text": [
      " 0.800667294944"
     ]
    },
    {
     "name": "stdout",
     "output_type": "stream",
     "text": [
      " 0.608510593222"
     ]
    },
    {
     "name": "stdout",
     "output_type": "stream",
     "text": [
      " 0.766543462906"
     ]
    },
    {
     "name": "stdout",
     "output_type": "stream",
     "text": [
      " 0.768090067888"
     ]
    },
    {
     "name": "stdout",
     "output_type": "stream",
     "text": [
      " 0.648277496211"
     ]
    },
    {
     "name": "stdout",
     "output_type": "stream",
     "text": [
      " 0.700394225205"
     ]
    },
    {
     "name": "stdout",
     "output_type": "stream",
     "text": [
      " \n\t\t[0.0, 0.028655763498854934, 0.03359160735151939, 0.05110191293013387, 0.06045322637764745, 0.06387988592385398, 0.07807577193526678, 0.08305904019185394, 0.08798250666712445, 0.10212603802234504]\n"
     ]
    },
    {
     "name": "stdout",
     "output_type": "stream",
     "text": [
      "0.716045124284"
     ]
    },
    {
     "name": "stdout",
     "output_type": "stream",
     "text": [
      " 0.801941419107"
     ]
    },
    {
     "name": "stdout",
     "output_type": "stream",
     "text": [
      " 0.600153191726"
     ]
    },
    {
     "name": "stdout",
     "output_type": "stream",
     "text": [
      " 0.613676734099"
     ]
    },
    {
     "name": "stdout",
     "output_type": "stream",
     "text": [
      " 0.647307949798"
     ]
    },
    {
     "name": "stdout",
     "output_type": "stream",
     "text": [
      " 0.719974050934"
     ]
    },
    {
     "name": "stdout",
     "output_type": "stream",
     "text": [
      " 0.719237962433"
     ]
    },
    {
     "name": "stdout",
     "output_type": "stream",
     "text": [
      " 0.769739085171"
     ]
    },
    {
     "name": "stdout",
     "output_type": "stream",
     "text": [
      " 0.749150702609"
     ]
    },
    {
     "name": "stdout",
     "output_type": "stream",
     "text": [
      " 0.537108455898"
     ]
    },
    {
     "name": "stdout",
     "output_type": "stream",
     "text": [
      " \n\t\t[0.0, 0.028655763498854934, 0.03359160735151939, 0.04879876335370297, 0.06020733229606898, 0.06560227946043018, 0.08016672277424387, 0.0888357632821959, 0.0986691088249686, 0.1056456587623396]\n"
     ]
    },
    {
     "name": "stdout",
     "output_type": "stream",
     "text": [
      "0.729425193335"
     ]
    },
    {
     "name": "stdout",
     "output_type": "stream",
     "text": [
      " 0.665577940252"
     ]
    },
    {
     "name": "stdout",
     "output_type": "stream",
     "text": [
      " 0.683351209348"
     ]
    },
    {
     "name": "stdout",
     "output_type": "stream",
     "text": [
      " 0.627894891754"
     ]
    },
    {
     "name": "stdout",
     "output_type": "stream",
     "text": [
      " 0.624078276842"
     ]
    },
    {
     "name": "stdout",
     "output_type": "stream",
     "text": [
      " 0.660009403577"
     ]
    },
    {
     "name": "stdout",
     "output_type": "stream",
     "text": [
      " 0.564616960058"
     ]
    },
    {
     "name": "stdout",
     "output_type": "stream",
     "text": [
      " 0.718523854294"
     ]
    },
    {
     "name": "stdout",
     "output_type": "stream",
     "text": [
      " 0.690127091493"
     ]
    },
    {
     "name": "stdout",
     "output_type": "stream",
     "text": [
      " 0.807282387459"
     ]
    },
    {
     "name": "stdout",
     "output_type": "stream",
     "text": [
      " \n\t\t[0.0, 0.0429836452482824, 0.04086266438293937, 0.05826712353695761, 0.06357794652252868, 0.07197039716825637, 0.07511367053786738, 0.08171364042903344, 0.08612932433456931, 0.1018007604589676]\n"
     ]
    },
    {
     "name": "stdout",
     "output_type": "stream",
     "text": [
      "0.753027941702"
     ]
    },
    {
     "name": "stdout",
     "output_type": "stream",
     "text": [
      " 0.564307713022"
     ]
    },
    {
     "name": "stdout",
     "output_type": "stream",
     "text": [
      " 0.675024110942"
     ]
    },
    {
     "name": "stdout",
     "output_type": "stream",
     "text": [
      " 0.717488756581"
     ]
    },
    {
     "name": "stdout",
     "output_type": "stream",
     "text": [
      " 0.564333688469"
     ]
    },
    {
     "name": "stdout",
     "output_type": "stream",
     "text": [
      " 0.841443878409"
     ]
    },
    {
     "name": "stdout",
     "output_type": "stream",
     "text": [
      " 0.579917270485"
     ]
    },
    {
     "name": "stdout",
     "output_type": "stream",
     "text": [
      " 0.640324742996"
     ]
    },
    {
     "name": "stdout",
     "output_type": "stream",
     "text": [
      " 0.641162269938"
     ]
    },
    {
     "name": "stdout",
     "output_type": "stream",
     "text": [
      " 0.593766082451"
     ]
    },
    {
     "name": "stdout",
     "output_type": "stream",
     "text": [
      " \n\t\t[0.0, 0.028655763498854934, 0.03359160735151939, 0.04879876335370297, 0.06020733229606898, 0.06560227946043018, 0.06805061395639361, 0.06745726538329005, 0.0784486425732201, 0.0920608089772622]\n"
     ]
    },
    {
     "name": "stdout",
     "output_type": "stream",
     "text": [
      "0.689366859825"
     ]
    },
    {
     "name": "stdout",
     "output_type": "stream",
     "text": [
      " 0.767684796057"
     ]
    },
    {
     "name": "stdout",
     "output_type": "stream",
     "text": [
      " 0.721408972762"
     ]
    },
    {
     "name": "stdout",
     "output_type": "stream",
     "text": [
      " 0.667876068673"
     ]
    },
    {
     "name": "stdout",
     "output_type": "stream",
     "text": [
      " 0.61869603652"
     ]
    },
    {
     "name": "stdout",
     "output_type": "stream",
     "text": [
      " 0.62648014579"
     ]
    },
    {
     "name": "stdout",
     "output_type": "stream",
     "text": [
      " 0.748465711397"
     ]
    },
    {
     "name": "stdout",
     "output_type": "stream",
     "text": [
      " 0.647811026166"
     ]
    },
    {
     "name": "stdout",
     "output_type": "stream",
     "text": [
      " 0.732041261196"
     ]
    },
    {
     "name": "stdout",
     "output_type": "stream",
     "text": [
      " 0.629557472428"
     ]
    },
    {
     "name": "stdout",
     "output_type": "stream",
     "text": [
      " \n\t\t[0.0, 0.0429836452482824, 0.04601512747842719, 0.060549634146196865, 0.07195820308856289, 0.0773531502529241, 0.0832921901535286, 0.08591813756351359, 0.08934482799830563, 0.11037347683914718]\n"
     ]
    },
    {
     "name": "stdout",
     "output_type": "stream",
     "text": [
      "0.754143715729"
     ]
    },
    {
     "name": "stdout",
     "output_type": "stream",
     "text": [
      " 0.708457087409"
     ]
    },
    {
     "name": "stdout",
     "output_type": "stream",
     "text": [
      " 0.693086718364"
     ]
    },
    {
     "name": "stdout",
     "output_type": "stream",
     "text": [
      " 0.628549203394"
     ]
    },
    {
     "name": "stdout",
     "output_type": "stream",
     "text": [
      " 0.76362456018"
     ]
    },
    {
     "name": "stdout",
     "output_type": "stream",
     "text": [
      " 0.671413556094"
     ]
    },
    {
     "name": "stdout",
     "output_type": "stream",
     "text": [
      " 0.702887339565"
     ]
    },
    {
     "name": "stdout",
     "output_type": "stream",
     "text": [
      " 0.608747599721"
     ]
    },
    {
     "name": "stdout",
     "output_type": "stream",
     "text": [
      " 0.722968766253"
     ]
    },
    {
     "name": "stdout",
     "output_type": "stream",
     "text": [
      " 0.650646161043"
     ]
    },
    {
     "name": "stdout",
     "output_type": "stream",
     "text": [
      " \n\t\t[0.0, 0.0429836452482824, 0.04601512747842719, 0.06734808317702498, 0.07264998333718016, 0.07484787287727981, 0.0837866411437659, 0.08697781843011913, 0.09795519921863886, 0.11402082971767508]\n"
     ]
    },
    {
     "name": "stdout",
     "output_type": "stream",
     "text": [
      "0.679325116479"
     ]
    },
    {
     "name": "stdout",
     "output_type": "stream",
     "text": [
      " 0.665068761503"
     ]
    },
    {
     "name": "stdout",
     "output_type": "stream",
     "text": [
      " 0.574359204852"
     ]
    },
    {
     "name": "stdout",
     "output_type": "stream",
     "text": [
      " 0.728453044786"
     ]
    },
    {
     "name": "stdout",
     "output_type": "stream",
     "text": [
      " 0.635283450109"
     ]
    },
    {
     "name": "stdout",
     "output_type": "stream",
     "text": [
      " 0.703960389309"
     ]
    },
    {
     "name": "stdout",
     "output_type": "stream",
     "text": [
      " 0.734518155795"
     ]
    },
    {
     "name": "stdout",
     "output_type": "stream",
     "text": [
      " 0.661166338475"
     ]
    },
    {
     "name": "stdout",
     "output_type": "stream",
     "text": [
      " 0.59392366061"
     ]
    },
    {
     "name": "stdout",
     "output_type": "stream",
     "text": [
      " 0.647732495845"
     ]
    },
    {
     "name": "stdout",
     "output_type": "stream",
     "text": [
      " \n\t\t[0.037037037037037035, 0.0602468619926916, 0.06690428759725245, 0.08306454652850667, 0.09078610002095958, 0.09931279201753715, 0.1092448800985039, 0.11401816247908554, 0.12151652951631393, 0.13456567160562047]\n"
     ]
    },
    {
     "name": "stdout",
     "output_type": "stream",
     "text": [
      "0.677788384279"
     ]
    },
    {
     "name": "stdout",
     "output_type": "stream",
     "text": [
      " 0.668380090822"
     ]
    },
    {
     "name": "stdout",
     "output_type": "stream",
     "text": [
      " 0.669773807959"
     ]
    },
    {
     "name": "stdout",
     "output_type": "stream",
     "text": [
      " 0.6538126866"
     ]
    },
    {
     "name": "stdout",
     "output_type": "stream",
     "text": [
      " 0.758179141166"
     ]
    },
    {
     "name": "stdout",
     "output_type": "stream",
     "text": [
      " 0.676647012618"
     ]
    },
    {
     "name": "stdout",
     "output_type": "stream",
     "text": [
      " 0.62807126788"
     ]
    },
    {
     "name": "stdout",
     "output_type": "stream",
     "text": [
      " 0.586419209731"
     ]
    },
    {
     "name": "stdout",
     "output_type": "stream",
     "text": [
      " 0.666732113421"
     ]
    },
    {
     "name": "stdout",
     "output_type": "stream",
     "text": [
      " 0.633768076067"
     ]
    },
    {
     "name": "stdout",
     "output_type": "stream",
     "text": [
      " \n\t\t[0.0, 0.0429836452482824, 0.04601512747842719, 0.056968344199336454, 0.07223316471350853, 0.07765685591629293, 0.08360876911165965, 0.08468427815470506, 0.08989703616213879, 0.09893467510664769]\n"
     ]
    },
    {
     "name": "stdout",
     "output_type": "stream",
     "text": [
      "0.523294157867"
     ]
    },
    {
     "name": "stdout",
     "output_type": "stream",
     "text": [
      " 0.49802323913"
     ]
    },
    {
     "name": "stdout",
     "output_type": "stream",
     "text": [
      " 0.652931080083"
     ]
    },
    {
     "name": "stdout",
     "output_type": "stream",
     "text": [
      " 0.630376106878"
     ]
    },
    {
     "name": "stdout",
     "output_type": "stream",
     "text": [
      " 0.593485578527"
     ]
    },
    {
     "name": "stdout",
     "output_type": "stream",
     "text": [
      " 0.544794928218"
     ]
    },
    {
     "name": "stdout",
     "output_type": "stream",
     "text": [
      " 0.667326166375"
     ]
    },
    {
     "name": "stdout",
     "output_type": "stream",
     "text": [
      " 0.668018639375"
     ]
    },
    {
     "name": "stdout",
     "output_type": "stream",
     "text": [
      " 0.593218437842"
     ]
    },
    {
     "name": "stdout",
     "output_type": "stream",
     "text": [
      " 0.71133167726"
     ]
    },
    {
     "name": "stdout",
     "output_type": "stream",
     "text": [
      " \n\t\t[0.0, 0.037537706705082025, 0.056564587323526545, 0.06598424212704529, 0.08056505472941627, 0.08569834889493631, 0.09769624658241864, 0.10088357555034343, 0.10995345334651933, 0.1208577806140328]\n"
     ]
    },
    {
     "name": "stdout",
     "output_type": "stream",
     "text": [
      "0.658839633658"
     ]
    },
    {
     "name": "stdout",
     "output_type": "stream",
     "text": [
      " 0.872979902485"
     ]
    },
    {
     "name": "stdout",
     "output_type": "stream",
     "text": [
      " 0.696027301541"
     ]
    },
    {
     "name": "stdout",
     "output_type": "stream",
     "text": [
      " 0.560164346422"
     ]
    },
    {
     "name": "stdout",
     "output_type": "stream",
     "text": [
      " 0.643425427895"
     ]
    },
    {
     "name": "stdout",
     "output_type": "stream",
     "text": [
      " 0.747898977273"
     ]
    },
    {
     "name": "stdout",
     "output_type": "stream",
     "text": [
      " 0.798479672761"
     ]
    },
    {
     "name": "stdout",
     "output_type": "stream",
     "text": [
      " 0.59849325847"
     ]
    },
    {
     "name": "stdout",
     "output_type": "stream",
     "text": [
      " 0.669734988911"
     ]
    },
    {
     "name": "stdout",
     "output_type": "stream",
     "text": [
      " 0.705848023414"
     ]
    },
    {
     "name": "stdout",
     "output_type": "stream",
     "text": [
      " \n\t\t[0.0, 0.037537706705082025, 0.056564587323526545, 0.06522743281534436, 0.0798864551197953, 0.08303409569018146, 0.09200863881759325, 0.09868456122399252, 0.1077558827026529, 0.11852296905401609]\n"
     ]
    },
    {
     "name": "stdout",
     "output_type": "stream",
     "text": [
      "0.553517918489"
     ]
    },
    {
     "name": "stdout",
     "output_type": "stream",
     "text": [
      " 0.731289077653"
     ]
    },
    {
     "name": "stdout",
     "output_type": "stream",
     "text": [
      " 0.660935050797"
     ]
    },
    {
     "name": "stdout",
     "output_type": "stream",
     "text": [
      " 0.705845580712"
     ]
    },
    {
     "name": "stdout",
     "output_type": "stream",
     "text": [
      " 0.681426137592"
     ]
    },
    {
     "name": "stdout",
     "output_type": "stream",
     "text": [
      " 0.620961658533"
     ]
    },
    {
     "name": "stdout",
     "output_type": "stream",
     "text": [
      " 0.701017865004"
     ]
    },
    {
     "name": "stdout",
     "output_type": "stream",
     "text": [
      " 0.77456042244"
     ]
    },
    {
     "name": "stdout",
     "output_type": "stream",
     "text": [
      " 0.692986800925"
     ]
    },
    {
     "name": "stdout",
     "output_type": "stream",
     "text": [
      " 0.71286327185"
     ]
    },
    {
     "name": "stdout",
     "output_type": "stream",
     "text": [
      " \n\t\t[0.037037037037037035, 0.045918980243264136, 0.06337901757060019, 0.07549799336617362, 0.08684878519005396, 0.08895027294958525, 0.09843945063727715, 0.10662499140392594, 0.11569151891362175, 0.12659408167165145]\n"
     ]
    },
    {
     "name": "stdout",
     "output_type": "stream",
     "text": [
      "0.655375075237"
     ]
    },
    {
     "name": "stdout",
     "output_type": "stream",
     "text": [
      " 0.680061738517"
     ]
    },
    {
     "name": "stdout",
     "output_type": "stream",
     "text": [
      " 0.696441748158"
     ]
    },
    {
     "name": "stdout",
     "output_type": "stream",
     "text": [
      " 0.763557134813"
     ]
    },
    {
     "name": "stdout",
     "output_type": "stream",
     "text": [
      " 0.657119462389"
     ]
    },
    {
     "name": "stdout",
     "output_type": "stream",
     "text": [
      " 0.656457857874"
     ]
    },
    {
     "name": "stdout",
     "output_type": "stream",
     "text": [
      " 0.861111156736"
     ]
    },
    {
     "name": "stdout",
     "output_type": "stream",
     "text": [
      " 0.55691875304"
     ]
    },
    {
     "name": "stdout",
     "output_type": "stream",
     "text": [
      " 0.675356057564"
     ]
    },
    {
     "name": "stdout",
     "output_type": "stream",
     "text": [
      " 0.539237281468"
     ]
    },
    {
     "name": "stdout",
     "output_type": "stream",
     "text": [
      " \n\t\t[0.0, 0.037537706705082025, 0.05064988467093768, 0.0635335004245525, 0.07529351365325025, 0.07743224376974031, 0.09092028897270901, 0.09859131630688828, 0.1051514541539837, 0.11826666664610522]\n"
     ]
    },
    {
     "name": "stdout",
     "output_type": "stream",
     "text": [
      "0.731427396731"
     ]
    },
    {
     "name": "stdout",
     "output_type": "stream",
     "text": [
      " 0.720185434006"
     ]
    },
    {
     "name": "stdout",
     "output_type": "stream",
     "text": [
      " 0.610043251404"
     ]
    },
    {
     "name": "stdout",
     "output_type": "stream",
     "text": [
      " 0.663264638321"
     ]
    },
    {
     "name": "stdout",
     "output_type": "stream",
     "text": [
      " 0.708902032736"
     ]
    },
    {
     "name": "stdout",
     "output_type": "stream",
     "text": [
      " 0.70194470292"
     ]
    },
    {
     "name": "stdout",
     "output_type": "stream",
     "text": [
      " 0.723891351745"
     ]
    },
    {
     "name": "stdout",
     "output_type": "stream",
     "text": [
      " 0.744763459951"
     ]
    },
    {
     "name": "stdout",
     "output_type": "stream",
     "text": [
      " 0.805224447131"
     ]
    },
    {
     "name": "stdout",
     "output_type": "stream",
     "text": [
      " 0.556966234522"
     ]
    },
    {
     "name": "stdout",
     "output_type": "stream",
     "text": [
      " \n\t\t[0.0, 0.037537706705082025, 0.056564587323526545, 0.06873298540355519, 0.08022516669671137, 0.08214057754322515, 0.09399405277831285, 0.10100515614296969, 0.1034146072346123, 0.12109286238985328]\n"
     ]
    },
    {
     "name": "stdout",
     "output_type": "stream",
     "text": [
      "0.605337309165"
     ]
    },
    {
     "name": "stdout",
     "output_type": "stream",
     "text": [
      " 0.69453945174"
     ]
    },
    {
     "name": "stdout",
     "output_type": "stream",
     "text": [
      " 0.643176642709"
     ]
    },
    {
     "name": "stdout",
     "output_type": "stream",
     "text": [
      " 0.713752512393"
     ]
    },
    {
     "name": "stdout",
     "output_type": "stream",
     "text": [
      " 0.557055575582"
     ]
    },
    {
     "name": "stdout",
     "output_type": "stream",
     "text": [
      " 0.718853089893"
     ]
    },
    {
     "name": "stdout",
     "output_type": "stream",
     "text": [
      " 0.653741204333"
     ]
    },
    {
     "name": "stdout",
     "output_type": "stream",
     "text": [
      " 0.627457826297"
     ]
    },
    {
     "name": "stdout",
     "output_type": "stream",
     "text": [
      " 0.670113072092"
     ]
    },
    {
     "name": "stdout",
     "output_type": "stream",
     "text": [
      " 0.664029282483"
     ]
    },
    {
     "name": "stdout",
     "output_type": "stream",
     "text": [
      " \n\t\t[0.0, 0.037537706705082025, 0.056564587323526545, 0.06873298540355519, 0.08022516669671137, 0.08214057754322515, 0.09225010661311031, 0.09892171353840441, 0.10799102525890271, 0.11875621078042473]\n"
     ]
    },
    {
     "name": "stdout",
     "output_type": "stream",
     "text": [
      "0.685854321858"
     ]
    },
    {
     "name": "stdout",
     "output_type": "stream",
     "text": [
      " 0.821988174867"
     ]
    },
    {
     "name": "stdout",
     "output_type": "stream",
     "text": [
      " 0.631297499855"
     ]
    },
    {
     "name": "stdout",
     "output_type": "stream",
     "text": [
      " 0.768737657588"
     ]
    },
    {
     "name": "stdout",
     "output_type": "stream",
     "text": [
      " 0.580584921211"
     ]
    },
    {
     "name": "stdout",
     "output_type": "stream",
     "text": [
      " 0.643081648394"
     ]
    },
    {
     "name": "stdout",
     "output_type": "stream",
     "text": [
      " 0.754140471897"
     ]
    },
    {
     "name": "stdout",
     "output_type": "stream",
     "text": [
      " 0.718876696665"
     ]
    },
    {
     "name": "stdout",
     "output_type": "stream",
     "text": [
      " 0.740967312694"
     ]
    },
    {
     "name": "stdout",
     "output_type": "stream",
     "text": [
      " 0.748613154319"
     ]
    },
    {
     "name": "stdout",
     "output_type": "stream",
     "text": [
      " \n\t\t[0.0, 0.028655763498854934, 0.04910106354943387, 0.06727335988511907, 0.07880844843297498, 0.08098999952191278, 0.09339130280472806, 0.10041789487719528, 0.1125566555099416, 0.11601870160987741]\n"
     ]
    },
    {
     "name": "stdout",
     "output_type": "stream",
     "text": [
      "0.618419179993"
     ]
    },
    {
     "name": "stdout",
     "output_type": "stream",
     "text": [
      " 0.713932955487"
     ]
    },
    {
     "name": "stdout",
     "output_type": "stream",
     "text": [
      " 0.689817346803"
     ]
    },
    {
     "name": "stdout",
     "output_type": "stream",
     "text": [
      " 0.544504731623"
     ]
    },
    {
     "name": "stdout",
     "output_type": "stream",
     "text": [
      " 0.698750234504"
     ]
    },
    {
     "name": "stdout",
     "output_type": "stream",
     "text": [
      " 0.640131259352"
     ]
    },
    {
     "name": "stdout",
     "output_type": "stream",
     "text": [
      " 0.681987647148"
     ]
    },
    {
     "name": "stdout",
     "output_type": "stream",
     "text": [
      " 0.634738858626"
     ]
    },
    {
     "name": "stdout",
     "output_type": "stream",
     "text": [
      " 0.67145985065"
     ]
    },
    {
     "name": "stdout",
     "output_type": "stream",
     "text": [
      " 0.684570082423"
     ]
    },
    {
     "name": "stdout",
     "output_type": "stream",
     "text": [
      " \n\t\t[0.0, 0.043020705056301754, 0.057532142404702516, 0.07041749064922236, 0.08181460988414893, 0.08392975569024301, 0.09342539733096203, 0.10072369326892264, 0.10851171290749873, 0.11638479051199296]\n"
     ]
    },
    {
     "name": "stdout",
     "output_type": "stream",
     "text": [
      "0.552886461739"
     ]
    },
    {
     "name": "stdout",
     "output_type": "stream",
     "text": [
      " 0.624946661256"
     ]
    },
    {
     "name": "stdout",
     "output_type": "stream",
     "text": [
      " 0.72630660937"
     ]
    },
    {
     "name": "stdout",
     "output_type": "stream",
     "text": [
      " 0.689414915472"
     ]
    },
    {
     "name": "stdout",
     "output_type": "stream",
     "text": [
      " 0.630281741035"
     ]
    },
    {
     "name": "stdout",
     "output_type": "stream",
     "text": [
      " 0.60892844987"
     ]
    },
    {
     "name": "stdout",
     "output_type": "stream",
     "text": [
      " 0.688923814109"
     ]
    },
    {
     "name": "stdout",
     "output_type": "stream",
     "text": [
      " 0.634683379261"
     ]
    },
    {
     "name": "stdout",
     "output_type": "stream",
     "text": [
      " 0.857651115098"
     ]
    },
    {
     "name": "stdout",
     "output_type": "stream",
     "text": [
      " 0.688002303652"
     ]
    },
    {
     "name": "stdout",
     "output_type": "stream",
     "text": [
      " \n\t\t[0.037037037037037035, 0.051401978594483866, 0.06434657265177617, 0.0763354665704382, 0.08761927453760067, 0.08976583250968113, 0.09924938206040358, 0.10639049955941926, 0.1146187431259115, 0.1275899407800962]\n"
     ]
    },
    {
     "name": "stdout",
     "output_type": "stream",
     "text": [
      "0.837339376258"
     ]
    },
    {
     "name": "stdout",
     "output_type": "stream",
     "text": [
      " 0.713019065336"
     ]
    },
    {
     "name": "stdout",
     "output_type": "stream",
     "text": [
      " 0.675268896892"
     ]
    },
    {
     "name": "stdout",
     "output_type": "stream",
     "text": [
      " 0.60922849213"
     ]
    },
    {
     "name": "stdout",
     "output_type": "stream",
     "text": [
      " 0.671101154841"
     ]
    },
    {
     "name": "stdout",
     "output_type": "stream",
     "text": [
      " 0.732846392898"
     ]
    },
    {
     "name": "stdout",
     "output_type": "stream",
     "text": [
      " 0.600382570767"
     ]
    },
    {
     "name": "stdout",
     "output_type": "stream",
     "text": [
      " 0.729405710983"
     ]
    },
    {
     "name": "stdout",
     "output_type": "stream",
     "text": [
      " 0.716602805256"
     ]
    },
    {
     "name": "stdout",
     "output_type": "stream",
     "text": [
      " 0.791644779688"
     ]
    },
    {
     "name": "stdout",
     "output_type": "stream",
     "text": [
      " \n\t\t[0.037037037037037035, 0.051401978594483866, 0.06434657265177617, 0.07642568930013988, 0.08775962876787052, 0.09166395774921614, 0.0960803059298648, 0.1041681411654672, 0.11529122743093446, 0.1237190199063444]\n"
     ]
    },
    {
     "name": "stdout",
     "output_type": "stream",
     "text": [
      "0.756567930922"
     ]
    },
    {
     "name": "stdout",
     "output_type": "stream",
     "text": [
      " 0.641943436874"
     ]
    },
    {
     "name": "stdout",
     "output_type": "stream",
     "text": [
      " 0.658905564641"
     ]
    },
    {
     "name": "stdout",
     "output_type": "stream",
     "text": [
      " 0.692404959889"
     ]
    },
    {
     "name": "stdout",
     "output_type": "stream",
     "text": [
      " 0.619172291441"
     ]
    },
    {
     "name": "stdout",
     "output_type": "stream",
     "text": [
      " 0.68398032552"
     ]
    },
    {
     "name": "stdout",
     "output_type": "stream",
     "text": [
      " 0.69316502716"
     ]
    },
    {
     "name": "stdout",
     "output_type": "stream",
     "text": [
      " 0.734759884127"
     ]
    },
    {
     "name": "stdout",
     "output_type": "stream",
     "text": [
      " 0.751955246189"
     ]
    },
    {
     "name": "stdout",
     "output_type": "stream",
     "text": [
      " 0.797478447523"
     ]
    },
    {
     "name": "stdout",
     "output_type": "stream",
     "text": [
      " \n\t\t[0.037037037037037035, 0.051401978594483866, 0.06434657265177617, 0.0763354665704382, 0.08761927453760067, 0.08838660092431333, 0.09337655780358857, 0.10248573202536901, 0.11200084212325599, 0.1265483874881575]\n"
     ]
    },
    {
     "name": "stdout",
     "output_type": "stream",
     "text": [
      "0.62179251781"
     ]
    },
    {
     "name": "stdout",
     "output_type": "stream",
     "text": [
      " 0.659224821829"
     ]
    },
    {
     "name": "stdout",
     "output_type": "stream",
     "text": [
      " 0.614017020903"
     ]
    },
    {
     "name": "stdout",
     "output_type": "stream",
     "text": [
      " 0.65692832275"
     ]
    },
    {
     "name": "stdout",
     "output_type": "stream",
     "text": [
      " 0.640817293948"
     ]
    },
    {
     "name": "stdout",
     "output_type": "stream",
     "text": [
      " 0.646504395757"
     ]
    },
    {
     "name": "stdout",
     "output_type": "stream",
     "text": [
      " 0.703137406977"
     ]
    },
    {
     "name": "stdout",
     "output_type": "stream",
     "text": [
      " 0.661918436504"
     ]
    },
    {
     "name": "stdout",
     "output_type": "stream",
     "text": [
      " 0.820774458714"
     ]
    },
    {
     "name": "stdout",
     "output_type": "stream",
     "text": [
      " 0.642685311328"
     ]
    },
    {
     "name": "stdout",
     "output_type": "stream",
     "text": [
      " \n\t\t[0.037037037037037035, 0.051401978594483866, 0.06434657265177617, 0.0763354665704382, 0.08761927453760067, 0.08976583250968113, 0.09969766325089864, 0.1092622913735578, 0.11497455671621808, 0.12506508901593866]\n"
     ]
    },
    {
     "name": "stdout",
     "output_type": "stream",
     "text": [
      "0.665463758054"
     ]
    },
    {
     "name": "stdout",
     "output_type": "stream",
     "text": [
      " 0.704453023451"
     ]
    },
    {
     "name": "stdout",
     "output_type": "stream",
     "text": [
      " 0.615103848619"
     ]
    },
    {
     "name": "stdout",
     "output_type": "stream",
     "text": [
      " 0.781206058639"
     ]
    },
    {
     "name": "stdout",
     "output_type": "stream",
     "text": [
      " 0.672906404834"
     ]
    },
    {
     "name": "stdout",
     "output_type": "stream",
     "text": [
      " 0.774271746102"
     ]
    },
    {
     "name": "stdout",
     "output_type": "stream",
     "text": [
      " 0.705952477765"
     ]
    },
    {
     "name": "stdout",
     "output_type": "stream",
     "text": [
      " 0.604973884708"
     ]
    },
    {
     "name": "stdout",
     "output_type": "stream",
     "text": [
      " 0.669505937868"
     ]
    },
    {
     "name": "stdout",
     "output_type": "stream",
     "text": [
      " 0.718068450265"
     ]
    },
    {
     "name": "stdout",
     "output_type": "stream",
     "text": [
      " \n\t\t[0.037037037037037035, 0.037074096845056394, 0.0460083498722795, 0.059050514724644815, 0.07063673224007543, 0.07291167883945447, 0.07901047750469445, 0.0852805925774779, 0.10173604428349864, 0.10680780216182975]\n"
     ]
    },
    {
     "name": "stdout",
     "output_type": "stream",
     "text": [
      "0.67446032228"
     ]
    },
    {
     "name": "stdout",
     "output_type": "stream",
     "text": [
      " 0.649172638874"
     ]
    },
    {
     "name": "stdout",
     "output_type": "stream",
     "text": [
      " 0.578236192572"
     ]
    },
    {
     "name": "stdout",
     "output_type": "stream",
     "text": [
      " 0.671905840373"
     ]
    },
    {
     "name": "stdout",
     "output_type": "stream",
     "text": [
      " 0.650186006582"
     ]
    },
    {
     "name": "stdout",
     "output_type": "stream",
     "text": [
      " 0.580407219554"
     ]
    },
    {
     "name": "stdout",
     "output_type": "stream",
     "text": [
      " 0.768566755822"
     ]
    },
    {
     "name": "stdout",
     "output_type": "stream",
     "text": [
      " 0.616205748581"
     ]
    },
    {
     "name": "stdout",
     "output_type": "stream",
     "text": [
      " 0.676956299693"
     ]
    },
    {
     "name": "stdout",
     "output_type": "stream",
     "text": [
      " 0.733378220627"
     ]
    },
    {
     "name": "stdout",
     "output_type": "stream",
     "text": [
      " \n\t\t[0.037037037037037035, 0.051401978594483866, 0.06434657265177617, 0.06953701753961009, 0.08030021551787545, 0.09037747424852653, 0.08960108757101108, 0.09616829075554863, 0.10751480720351439, 0.11916490533428593]\n"
     ]
    },
    {
     "name": "stdout",
     "output_type": "stream",
     "text": [
      "0.729273935524"
     ]
    },
    {
     "name": "stdout",
     "output_type": "stream",
     "text": [
      " 0.676155361475"
     ]
    },
    {
     "name": "stdout",
     "output_type": "stream",
     "text": [
      " 0.690545312129"
     ]
    },
    {
     "name": "stdout",
     "output_type": "stream",
     "text": [
      " 0.632420984894"
     ]
    },
    {
     "name": "stdout",
     "output_type": "stream",
     "text": [
      " 0.728611423769"
     ]
    },
    {
     "name": "stdout",
     "output_type": "stream",
     "text": [
      " 0.74647439475"
     ]
    },
    {
     "name": "stdout",
     "output_type": "stream",
     "text": [
      " 0.63528962944"
     ]
    },
    {
     "name": "stdout",
     "output_type": "stream",
     "text": [
      " 0.656168582445"
     ]
    },
    {
     "name": "stdout",
     "output_type": "stream",
     "text": [
      " 0.670397898054"
     ]
    },
    {
     "name": "stdout",
     "output_type": "stream",
     "text": [
      " 0.716269238001"
     ]
    },
    {
     "name": "stdout",
     "output_type": "stream",
     "text": [
      " \n\t\t[0.037037037037037035, 0.051401978594483866, 0.05354396092900095, 0.07483771811759922, 0.07949424731365375, 0.0877536800054111, 0.09558533020513295, 0.10067409792930242, 0.10642826712990078, 0.11415087915134016]\n"
     ]
    },
    {
     "name": "stdout",
     "output_type": "stream",
     "text": [
      "0.527926571951"
     ]
    },
    {
     "name": "stdout",
     "output_type": "stream",
     "text": [
      " 0.678220759418"
     ]
    },
    {
     "name": "stdout",
     "output_type": "stream",
     "text": [
      " 0.559098589125"
     ]
    },
    {
     "name": "stdout",
     "output_type": "stream",
     "text": [
      " 0.663254898362"
     ]
    },
    {
     "name": "stdout",
     "output_type": "stream",
     "text": [
      " 0.635220225546"
     ]
    },
    {
     "name": "stdout",
     "output_type": "stream",
     "text": [
      " 0.767309090825"
     ]
    },
    {
     "name": "stdout",
     "output_type": "stream",
     "text": [
      " 0.583098595936"
     ]
    },
    {
     "name": "stdout",
     "output_type": "stream",
     "text": [
      " 0.657211453796"
     ]
    },
    {
     "name": "stdout",
     "output_type": "stream",
     "text": [
      " 0.743350594829"
     ]
    },
    {
     "name": "stdout",
     "output_type": "stream",
     "text": [
      " 0.766467938809"
     ]
    },
    {
     "name": "stdout",
     "output_type": "stream",
     "text": [
      " \n\t\t[0.037037037037037035, 0.037074096845056394, 0.05096584756614485, 0.06560074307273839, 0.08277014806022824, 0.08481841701884894, 0.09541668240947991, 0.10208842297810793, 0.1099600484570411, 0.12005128085052431]\n"
     ]
    },
    {
     "name": "stdout",
     "output_type": "stream",
     "text": [
      "0.567596003177"
     ]
    },
    {
     "name": "stdout",
     "output_type": "stream",
     "text": [
      " 0.753679830793"
     ]
    },
    {
     "name": "stdout",
     "output_type": "stream",
     "text": [
      " 0.647636400952"
     ]
    },
    {
     "name": "stdout",
     "output_type": "stream",
     "text": [
      " 0.594888123166"
     ]
    },
    {
     "name": "stdout",
     "output_type": "stream",
     "text": [
      " 0.557413475735"
     ]
    },
    {
     "name": "stdout",
     "output_type": "stream",
     "text": [
      " 0.725520218404"
     ]
    },
    {
     "name": "stdout",
     "output_type": "stream",
     "text": [
      " 0.626752227794"
     ]
    },
    {
     "name": "stdout",
     "output_type": "stream",
     "text": [
      " 0.671383148517"
     ]
    },
    {
     "name": "stdout",
     "output_type": "stream",
     "text": [
      " 0.669901712676"
     ]
    },
    {
     "name": "stdout",
     "output_type": "stream",
     "text": [
      " 0.703844465891"
     ]
    },
    {
     "name": "stdout",
     "output_type": "stream",
     "text": [
      " \n\t\t[0.037037037037037035, 0.037074096845056394, 0.05096584756614485, 0.07248941483326815, 0.07719607552989086, 0.08539545319201965, 0.09035027228762813, 0.0930726835628364, 0.10914297999828634, 0.12181530967367739]\n"
     ]
    },
    {
     "name": "stdout",
     "output_type": "stream",
     "text": [
      "0.757504345412"
     ]
    },
    {
     "name": "stdout",
     "output_type": "stream",
     "text": [
      " 0.67105436459"
     ]
    },
    {
     "name": "stdout",
     "output_type": "stream",
     "text": [
      " 0.724024290648"
     ]
    },
    {
     "name": "stdout",
     "output_type": "stream",
     "text": [
      " 0.567440745082"
     ]
    },
    {
     "name": "stdout",
     "output_type": "stream",
     "text": [
      " 0.646159666516"
     ]
    },
    {
     "name": "stdout",
     "output_type": "stream",
     "text": [
      " 0.660427815262"
     ]
    },
    {
     "name": "stdout",
     "output_type": "stream",
     "text": [
      " 0.591749850857"
     ]
    },
    {
     "name": "stdout",
     "output_type": "stream",
     "text": [
      " 0.665909150687"
     ]
    },
    {
     "name": "stdout",
     "output_type": "stream",
     "text": [
      " 0.70730216361"
     ]
    },
    {
     "name": "stdout",
     "output_type": "stream",
     "text": [
      " 0.721374033776"
     ]
    },
    {
     "name": "stdout",
     "output_type": "stream",
     "text": [
      " \n\t\t[0.037037037037037035, 0.037074096845056394, 0.04112044080209315, 0.06745137448703405, 0.07551803791050382, 0.08371239997554991, 0.09154054453126036, 0.09647108755445218, 0.09997471234583365, 0.1175963887932233]\n"
     ]
    },
    {
     "name": "stdout",
     "output_type": "stream",
     "text": [
      "0.562626718877"
     ]
    },
    {
     "name": "stdout",
     "output_type": "stream",
     "text": [
      " 0.699029720369"
     ]
    },
    {
     "name": "stdout",
     "output_type": "stream",
     "text": [
      " 0.742324237627"
     ]
    },
    {
     "name": "stdout",
     "output_type": "stream",
     "text": [
      " 0.750582177646"
     ]
    },
    {
     "name": "stdout",
     "output_type": "stream",
     "text": [
      " 0.67753201943"
     ]
    },
    {
     "name": "stdout",
     "output_type": "stream",
     "text": [
      " 0.647820182289"
     ]
    },
    {
     "name": "stdout",
     "output_type": "stream",
     "text": [
      " 0.670479878176"
     ]
    },
    {
     "name": "stdout",
     "output_type": "stream",
     "text": [
      " 0.709321979121"
     ]
    },
    {
     "name": "stdout",
     "output_type": "stream",
     "text": [
      " 0.614548209728"
     ]
    },
    {
     "name": "stdout",
     "output_type": "stream",
     "text": [
      " 0.665744264005"
     ]
    },
    {
     "name": "stdout",
     "output_type": "stream",
     "text": [
      " \n\t\t[0.037037037037037035, 0.037074096845056394, 0.05965619434434405, 0.07297789506301394, 0.08390435133984704, 0.09217494836763161, 0.10001035311956781, 0.10497213411532497, 0.1115701570074668, 0.12892370054720556]\n"
     ]
    },
    {
     "name": "stdout",
     "output_type": "stream",
     "text": [
      "0.634032146815"
     ]
    },
    {
     "name": "stdout",
     "output_type": "stream",
     "text": [
      " 0.585003622484"
     ]
    },
    {
     "name": "stdout",
     "output_type": "stream",
     "text": [
      " 0.604962668318"
     ]
    },
    {
     "name": "stdout",
     "output_type": "stream",
     "text": [
      " 0.598513568116"
     ]
    },
    {
     "name": "stdout",
     "output_type": "stream",
     "text": [
      " 0.641381385596"
     ]
    },
    {
     "name": "stdout",
     "output_type": "stream",
     "text": [
      " 0.776098338904"
     ]
    },
    {
     "name": "stdout",
     "output_type": "stream",
     "text": [
      " 0.560909634555"
     ]
    },
    {
     "name": "stdout",
     "output_type": "stream",
     "text": [
      " 0.719949245261"
     ]
    },
    {
     "name": "stdout",
     "output_type": "stream",
     "text": [
      " 0.795126092948"
     ]
    },
    {
     "name": "stdout",
     "output_type": "stream",
     "text": [
      " 0.713891619239"
     ]
    },
    {
     "name": "stdout",
     "output_type": "stream",
     "text": [
      " \n\t\t[0.037037037037037035, 0.037074096845056394, 0.05096584756614485, 0.06859069274805497, 0.07727986919489105, 0.08553687214312265, 0.09336628414287151, 0.09863821208606999, 0.10706581202346213, 0.1201379347655976]\n"
     ]
    },
    {
     "name": "stdout",
     "output_type": "stream",
     "text": [
      "0.689897300859"
     ]
    },
    {
     "name": "stdout",
     "output_type": "stream",
     "text": [
      " 0.757622146891"
     ]
    },
    {
     "name": "stdout",
     "output_type": "stream",
     "text": [
      " 0.726344916645"
     ]
    },
    {
     "name": "stdout",
     "output_type": "stream",
     "text": [
      " 0.69112193337"
     ]
    },
    {
     "name": "stdout",
     "output_type": "stream",
     "text": [
      " 0.714701338312"
     ]
    },
    {
     "name": "stdout",
     "output_type": "stream",
     "text": [
      " 0.648174454265"
     ]
    },
    {
     "name": "stdout",
     "output_type": "stream",
     "text": [
      " 0.638776662713"
     ]
    },
    {
     "name": "stdout",
     "output_type": "stream",
     "text": [
      " 0.688669804581"
     ]
    },
    {
     "name": "stdout",
     "output_type": "stream",
     "text": [
      " 0.640898182976"
     ]
    },
    {
     "name": "stdout",
     "output_type": "stream",
     "text": [
      " 0.651809583861"
     ]
    },
    {
     "name": "stdout",
     "output_type": "stream",
     "text": [
      " \n\t\t[0.037037037037037035, 0.051401978594483866, 0.05354396092900095, 0.07102921876208772, 0.07882233239266515, 0.09355608891782918, 0.10138550091757802, 0.1043952894624053, 0.10724321488727977, 0.12190344055687756]\n"
     ]
    },
    {
     "name": "stdout",
     "output_type": "stream",
     "text": [
      "0.585459521471"
     ]
    },
    {
     "name": "stdout",
     "output_type": "stream",
     "text": [
      " 0.731511663053"
     ]
    },
    {
     "name": "stdout",
     "output_type": "stream",
     "text": [
      " 0.71228176241"
     ]
    },
    {
     "name": "stdout",
     "output_type": "stream",
     "text": [
      " 0.664203044582"
     ]
    },
    {
     "name": "stdout",
     "output_type": "stream",
     "text": [
      " 0.62832388921"
     ]
    },
    {
     "name": "stdout",
     "output_type": "stream",
     "text": [
      " 0.682734004987"
     ]
    },
    {
     "name": "stdout",
     "output_type": "stream",
     "text": [
      " 0.715138172785"
     ]
    },
    {
     "name": "stdout",
     "output_type": "stream",
     "text": [
      " 0.732609204304"
     ]
    },
    {
     "name": "stdout",
     "output_type": "stream",
     "text": [
      " 0.711221486284"
     ]
    },
    {
     "name": "stdout",
     "output_type": "stream",
     "text": [
      " 0.664506506224"
     ]
    },
    {
     "name": "stdout",
     "output_type": "stream",
     "text": [
      " \n\t\t[0.07407407407407407, 0.05978325213266597, 0.06834654112254325, 0.08437620255439454, 0.09182335795040031, 0.10008036089863193, 0.10790977289838077, 0.11060454163931803, 0.11850499160930028, 0.129667380799506]\n"
     ]
    },
    {
     "name": "stdout",
     "output_type": "stream",
     "text": [
      "0.711126887887"
     ]
    },
    {
     "name": "stdout",
     "output_type": "stream",
     "text": [
      " 0.713436735038"
     ]
    },
    {
     "name": "stdout",
     "output_type": "stream",
     "text": [
      " 0.673608823303"
     ]
    },
    {
     "name": "stdout",
     "output_type": "stream",
     "text": [
      " 0.531959867154"
     ]
    },
    {
     "name": "stdout",
     "output_type": "stream",
     "text": [
      " 0.740560949126"
     ]
    },
    {
     "name": "stdout",
     "output_type": "stream",
     "text": [
      " 0.752015487977"
     ]
    },
    {
     "name": "stdout",
     "output_type": "stream",
     "text": [
      " 0.699041977604"
     ]
    },
    {
     "name": "stdout",
     "output_type": "stream",
     "text": [
      " 0.64687730462"
     ]
    },
    {
     "name": "stdout",
     "output_type": "stream",
     "text": [
      " 0.600240866186"
     ]
    },
    {
     "name": "stdout",
     "output_type": "stream",
     "text": [
      " 0.70689363369"
     ]
    },
    {
     "name": "stdout",
     "output_type": "stream",
     "text": [
      " \n\t\t[0.037037037037037035, 0.051401978594483866, 0.05354396092900095, 0.07102921876208772, 0.07910129389715861, 0.0873582968453902, 0.09014235862849504, 0.09453369829385912, 0.10071983982296447, 0.1118181362162332]\n"
     ]
    },
    {
     "name": "stdout",
     "output_type": "stream",
     "text": [
      "0.687797987605"
     ]
    },
    {
     "name": "stdout",
     "output_type": "stream",
     "text": [
      " 0.758153146117"
     ]
    },
    {
     "name": "stdout",
     "output_type": "stream",
     "text": [
      " 0.686663402931"
     ]
    },
    {
     "name": "stdout",
     "output_type": "stream",
     "text": [
      " 0.483211029852"
     ]
    },
    {
     "name": "stdout",
     "output_type": "stream",
     "text": [
      " 0.642703624813"
     ]
    },
    {
     "name": "stdout",
     "output_type": "stream",
     "text": [
      " 0.643230474548"
     ]
    },
    {
     "name": "stdout",
     "output_type": "stream",
     "text": [
      " 0.629098982095"
     ]
    },
    {
     "name": "stdout",
     "output_type": "stream",
     "text": [
      " 0.675581320573"
     ]
    },
    {
     "name": "stdout",
     "output_type": "stream",
     "text": [
      " 0.68378330092"
     ]
    },
    {
     "name": "stdout",
     "output_type": "stream",
     "text": [
      " 0.60833781578"
     ]
    },
    {
     "name": "stdout",
     "output_type": "stream",
     "text": [
      " \n\t\t[0.037037037037037035, 0.051401978594483866, 0.06223430770720015, 0.07866650095144813, 0.08003594995903164, 0.09379940111734426, 0.09658687500726983, 0.10098046970462937, 0.10950686712061865, 0.11365894501108961]\n"
     ]
    },
    {
     "name": "stdout",
     "output_type": "stream",
     "text": [
      "0.637881569707"
     ]
    },
    {
     "name": "stdout",
     "output_type": "stream",
     "text": [
      " 0.679590414944"
     ]
    },
    {
     "name": "stdout",
     "output_type": "stream",
     "text": [
      " 0.761666224989"
     ]
    },
    {
     "name": "stdout",
     "output_type": "stream",
     "text": [
      " 0.530299373864"
     ]
    },
    {
     "name": "stdout",
     "output_type": "stream",
     "text": [
      " 0.702412871386"
     ]
    },
    {
     "name": "stdout",
     "output_type": "stream",
     "text": [
      " 0.621186647615"
     ]
    },
    {
     "name": "stdout",
     "output_type": "stream",
     "text": [
      " 0.652694506414"
     ]
    },
    {
     "name": "stdout",
     "output_type": "stream",
     "text": [
      " 0.618384713893"
     ]
    },
    {
     "name": "stdout",
     "output_type": "stream",
     "text": [
      " 0.686846951269"
     ]
    },
    {
     "name": "stdout",
     "output_type": "stream",
     "text": [
      " 0.673070370103"
     ]
    },
    {
     "name": "stdout",
     "output_type": "stream",
     "text": [
      " \n\t\t[0.037037037037037035, 0.037074096845056394, 0.05096584756614485, 0.06746853913997836, 0.06929071530975865, 0.0838768292051188, 0.09106475751780364, 0.09389732675945464, 0.09643723863170645, 0.10843767162036258]\n"
     ]
    },
    {
     "name": "stdout",
     "output_type": "stream",
     "text": [
      "0.585133208399"
     ]
    },
    {
     "name": "stdout",
     "output_type": "stream",
     "text": [
      " 0.600332871714"
     ]
    },
    {
     "name": "stdout",
     "output_type": "stream",
     "text": [
      " 0.619102402576"
     ]
    },
    {
     "name": "stdout",
     "output_type": "stream",
     "text": [
      " 0.654211485319"
     ]
    },
    {
     "name": "stdout",
     "output_type": "stream",
     "text": [
      " 0.742108267723"
     ]
    },
    {
     "name": "stdout",
     "output_type": "stream",
     "text": [
      " 0.818664592696"
     ]
    },
    {
     "name": "stdout",
     "output_type": "stream",
     "text": [
      " 0.710465432371"
     ]
    },
    {
     "name": "stdout",
     "output_type": "stream",
     "text": [
      " 0.649091686631"
     ]
    },
    {
     "name": "stdout",
     "output_type": "stream",
     "text": [
      " 0.741979974933"
     ]
    },
    {
     "name": "stdout",
     "output_type": "stream",
     "text": [
      " 0.619488988711"
     ]
    },
    {
     "name": "stdout",
     "output_type": "stream",
     "text": [
      " \n\t\t[0.037037037037037035, 0.037074096845056394, 0.05096584756614485, 0.06760310680688474, 0.07615551635671262, 0.08440745729440424, 0.09058100899632453, 0.09015111232881233, 0.09827380132896166, 0.1181718441403146]\n"
     ]
    },
    {
     "name": "stdout",
     "output_type": "stream",
     "text": [
      "0.634208595165"
     ]
    },
    {
     "name": "stdout",
     "output_type": "stream",
     "text": [
      " 0.72776052854"
     ]
    },
    {
     "name": "stdout",
     "output_type": "stream",
     "text": [
      " 0.581585950894"
     ]
    },
    {
     "name": "stdout",
     "output_type": "stream",
     "text": [
      " 0.786804926222"
     ]
    },
    {
     "name": "stdout",
     "output_type": "stream",
     "text": [
      " 0.635238244029"
     ]
    },
    {
     "name": "stdout",
     "output_type": "stream",
     "text": [
      " 0.58313719008"
     ]
    },
    {
     "name": "stdout",
     "output_type": "stream",
     "text": [
      " 0.655638105684"
     ]
    },
    {
     "name": "stdout",
     "output_type": "stream",
     "text": [
      " 0.679821319649"
     ]
    },
    {
     "name": "stdout",
     "output_type": "stream",
     "text": [
      " 0.620254713584"
     ]
    },
    {
     "name": "stdout",
     "output_type": "stream",
     "text": [
      " 0.657814120892"
     ]
    },
    {
     "name": "stdout",
     "output_type": "stream",
     "text": [
      " \n\t\t[0.037037037037037035, 0.037074096845056394, 0.05096584756614485, 0.05816367587004213, 0.05998585203982242, 0.08293440673555104, 0.08868452705777, 0.09154303225566648, 0.09661377826919786, 0.11386112788161734]\n"
     ]
    },
    {
     "name": "stdout",
     "output_type": "stream",
     "text": [
      "0.676006726981"
     ]
    },
    {
     "name": "stdout",
     "output_type": "stream",
     "text": [
      " 0.728637702033"
     ]
    },
    {
     "name": "stdout",
     "output_type": "stream",
     "text": [
      " 0.611926002388"
     ]
    },
    {
     "name": "stdout",
     "output_type": "stream",
     "text": [
      " 0.694117901389"
     ]
    },
    {
     "name": "stdout",
     "output_type": "stream",
     "text": [
      " 0.738724341908"
     ]
    },
    {
     "name": "stdout",
     "output_type": "stream",
     "text": [
      " 0.628241958067"
     ]
    },
    {
     "name": "stdout",
     "output_type": "stream",
     "text": [
      " 0.618934073871"
     ]
    },
    {
     "name": "stdout",
     "output_type": "stream",
     "text": [
      " 0.637050082702"
     ]
    },
    {
     "name": "stdout",
     "output_type": "stream",
     "text": [
      " 0.635810290406"
     ]
    },
    {
     "name": "stdout",
     "output_type": "stream",
     "text": [
      " 0.653936581842"
     ]
    },
    {
     "name": "stdout",
     "output_type": "stream",
     "text": [
      " \n\t\t[0.07407407407407407, 0.05978325213266597, 0.06834654112254325, 0.07394918567638169, 0.08344060508778911, 0.09483069140882455, 0.10217021236108802, 0.10628971180988156, 0.10886693415272743, 0.11930180052253239]\n"
     ]
    },
    {
     "name": "stdout",
     "output_type": "stream",
     "text": [
      "0.693216263688"
     ]
    },
    {
     "name": "stdout",
     "output_type": "stream",
     "text": [
      " 0.6005485209"
     ]
    },
    {
     "name": "stdout",
     "output_type": "stream",
     "text": [
      " 0.758992854814"
     ]
    },
    {
     "name": "stdout",
     "output_type": "stream",
     "text": [
      " 0.645426116247"
     ]
    },
    {
     "name": "stdout",
     "output_type": "stream",
     "text": [
      " 0.633784717826"
     ]
    },
    {
     "name": "stdout",
     "output_type": "stream",
     "text": [
      " 0.592183229989"
     ]
    },
    {
     "name": "stdout",
     "output_type": "stream",
     "text": [
      " 0.624769509322"
     ]
    },
    {
     "name": "stdout",
     "output_type": "stream",
     "text": [
      " 0.618663995817"
     ]
    },
    {
     "name": "stdout",
     "output_type": "stream",
     "text": [
      " 0.686574353537"
     ]
    },
    {
     "name": "stdout",
     "output_type": "stream",
     "text": [
      " 0.667042101068"
     ]
    },
    {
     "name": "stdout",
     "output_type": "stream",
     "text": [
      " \n\t\t[0.037037037037037035, 0.0281921536388293, 0.03365691702800047, 0.06409554439184732, 0.0626376451772602, 0.07681882452199508, 0.08315036878713819, 0.0831746382584879, 0.09111345273155529, 0.10614557552852968]\n"
     ]
    },
    {
     "name": "stdout",
     "output_type": "stream",
     "text": [
      "0.818064282551"
     ]
    },
    {
     "name": "stdout",
     "output_type": "stream",
     "text": [
      " 0.599130153703"
     ]
    },
    {
     "name": "stdout",
     "output_type": "stream",
     "text": [
      " 0.72102337893"
     ]
    },
    {
     "name": "stdout",
     "output_type": "stream",
     "text": [
      " 0.638976461758"
     ]
    },
    {
     "name": "stdout",
     "output_type": "stream",
     "text": [
      " 0.580960756887"
     ]
    },
    {
     "name": "stdout",
     "output_type": "stream",
     "text": [
      " 0.605733997897"
     ]
    },
    {
     "name": "stdout",
     "output_type": "stream",
     "text": [
      " 0.688688416984"
     ]
    },
    {
     "name": "stdout",
     "output_type": "stream",
     "text": [
      " 0.728452267734"
     ]
    },
    {
     "name": "stdout",
     "output_type": "stream",
     "text": [
      " 0.586060584171"
     ]
    },
    {
     "name": "stdout",
     "output_type": "stream",
     "text": [
      " 0.580694164064"
     ]
    },
    {
     "name": "stdout",
     "output_type": "stream",
     "text": [
      " \n\t\t[0.037037037037037035, 0.037074096845056394, 0.05965619434434405, 0.06619099844011828, 0.07265756374005967, 0.08806931039890342, 0.08747042939382428, 0.09021889837987844, 0.09512264760914958, 0.09946035852584684]\n"
     ]
    },
    {
     "name": "stdout",
     "output_type": "stream",
     "text": [
      "0.697937225672"
     ]
    },
    {
     "name": "stdout",
     "output_type": "stream",
     "text": [
      " 0.659320343301"
     ]
    },
    {
     "name": "stdout",
     "output_type": "stream",
     "text": [
      " 0.615075801124"
     ]
    },
    {
     "name": "stdout",
     "output_type": "stream",
     "text": [
      " 0.689171699284"
     ]
    },
    {
     "name": "stdout",
     "output_type": "stream",
     "text": [
      " 0.706125792313"
     ]
    },
    {
     "name": "stdout",
     "output_type": "stream",
     "text": [
      " 0.644058643408"
     ]
    },
    {
     "name": "stdout",
     "output_type": "stream",
     "text": [
      " 0.646065291493"
     ]
    },
    {
     "name": "stdout",
     "output_type": "stream",
     "text": [
      " 0.682614003328"
     ]
    },
    {
     "name": "stdout",
     "output_type": "stream",
     "text": [
      " 0.691942166553"
     ]
    },
    {
     "name": "stdout",
     "output_type": "stream",
     "text": [
      " 0.660792432079"
     ]
    },
    {
     "name": "stdout",
     "output_type": "stream",
     "text": [
      " \n\t\t[0.037037037037037035, 0.037074096845056394, 0.05096584756614485, 0.06734018514641647, 0.06570100785307281, 0.08111555780113136, 0.0884689377639518, 0.09136341725511171, 0.09389337168204707, 0.10339540294019324]\n"
     ]
    },
    {
     "name": "stdout",
     "output_type": "stream",
     "text": [
      "0.692353610017"
     ]
    },
    {
     "name": "stdout",
     "output_type": "stream",
     "text": [
      " 0.739305907986"
     ]
    },
    {
     "name": "stdout",
     "output_type": "stream",
     "text": [
      " 0.619322528995"
     ]
    },
    {
     "name": "stdout",
     "output_type": "stream",
     "text": [
      " 0.786952905119"
     ]
    },
    {
     "name": "stdout",
     "output_type": "stream",
     "text": [
      " 0.617380368941"
     ]
    },
    {
     "name": "stdout",
     "output_type": "stream",
     "text": [
      " 0.669148642998"
     ]
    },
    {
     "name": "stdout",
     "output_type": "stream",
     "text": [
      " 0.680427820244"
     ]
    },
    {
     "name": "stdout",
     "output_type": "stream",
     "text": [
      " 0.636248273988"
     ]
    },
    {
     "name": "stdout",
     "output_type": "stream",
     "text": [
      " 0.624006643076"
     ]
    },
    {
     "name": "stdout",
     "output_type": "stream",
     "text": [
      " 0.688088028989"
     ]
    },
    {
     "name": "stdout",
     "output_type": "stream",
     "text": [
      " \n\t\t[0.037037037037037035, 0.042520035388256765, 0.05724396462010195, 0.07130279617541348, 0.0691894288500437, 0.08441404961932111, 0.09119076073300593, 0.09124141146056822, 0.09747728741860016, 0.11286526011481762]\n"
     ]
    },
    {
     "name": "stdout",
     "output_type": "stream",
     "text": [
      "0.702869510886"
     ]
    },
    {
     "name": "stdout",
     "output_type": "stream",
     "text": [
      " 0.61787505815"
     ]
    },
    {
     "name": "stdout",
     "output_type": "stream",
     "text": [
      " 0.568159553439"
     ]
    },
    {
     "name": "stdout",
     "output_type": "stream",
     "text": [
      " 0.683141318444"
     ]
    },
    {
     "name": "stdout",
     "output_type": "stream",
     "text": [
      " 0.714517323587"
     ]
    },
    {
     "name": "stdout",
     "output_type": "stream",
     "text": [
      " 0.652918839793"
     ]
    },
    {
     "name": "stdout",
     "output_type": "stream",
     "text": [
      " 0.696556637795"
     ]
    },
    {
     "name": "stdout",
     "output_type": "stream",
     "text": [
      " 0.626177086044"
     ]
    },
    {
     "name": "stdout",
     "output_type": "stream",
     "text": [
      " 0.724095427705"
     ]
    },
    {
     "name": "stdout",
     "output_type": "stream",
     "text": [
      " 0.668566737327"
     ]
    },
    {
     "name": "stdout",
     "output_type": "stream",
     "text": [
      " \n\t\t[0.037037037037037035, 0.05684791713768424, 0.06820996132254141, 0.08126234398752713, 0.07875469620518706, 0.09397931697446447, 0.10075602808814928, 0.10080667881571156, 0.11515608762673796, 0.12344959182688153]\n"
     ]
    },
    {
     "name": "stdout",
     "output_type": "stream",
     "text": [
      "0.883037086229"
     ]
    },
    {
     "name": "stdout",
     "output_type": "stream",
     "text": [
      " 0.594404848429"
     ]
    },
    {
     "name": "stdout",
     "output_type": "stream",
     "text": [
      " 0.695826417981"
     ]
    },
    {
     "name": "stdout",
     "output_type": "stream",
     "text": [
      " 0.640074046218"
     ]
    },
    {
     "name": "stdout",
     "output_type": "stream",
     "text": [
      " 0.596375997202"
     ]
    },
    {
     "name": "stdout",
     "output_type": "stream",
     "text": [
      " 0.790362870288"
     ]
    },
    {
     "name": "stdout",
     "output_type": "stream",
     "text": [
      " 0.636465201979"
     ]
    },
    {
     "name": "stdout",
     "output_type": "stream",
     "text": [
      " 0.725521938479"
     ]
    },
    {
     "name": "stdout",
     "output_type": "stream",
     "text": [
      " 0.697338129953"
     ]
    },
    {
     "name": "stdout",
     "output_type": "stream",
     "text": [
      " 0.670730158196"
     ]
    },
    {
     "name": "stdout",
     "output_type": "stream",
     "text": [
      " \n\t\t[0.037037037037037035, 0.042520035388256765, 0.06593431139830114, 0.06976233381508513, 0.07570472848526667, 0.09093363344468013, 0.09337269873111415, 0.09753294395362382, 0.10228133336674083, 0.11507617253397034]\n"
     ]
    },
    {
     "name": "stdout",
     "output_type": "stream",
     "text": [
      "0.705712116303"
     ]
    },
    {
     "name": "stdout",
     "output_type": "stream",
     "text": [
      " 0.587906490614"
     ]
    },
    {
     "name": "stdout",
     "output_type": "stream",
     "text": [
      " 0.791486163319"
     ]
    },
    {
     "name": "stdout",
     "output_type": "stream",
     "text": [
      " 0.644636004232"
     ]
    },
    {
     "name": "stdout",
     "output_type": "stream",
     "text": [
      " 0.718066324541"
     ]
    },
    {
     "name": "stdout",
     "output_type": "stream",
     "text": [
      " 0.668825452206"
     ]
    },
    {
     "name": "stdout",
     "output_type": "stream",
     "text": [
      " 0.668470823955"
     ]
    },
    {
     "name": "stdout",
     "output_type": "stream",
     "text": [
      " 0.64269004615"
     ]
    },
    {
     "name": "stdout",
     "output_type": "stream",
     "text": [
      " 0.647521397314"
     ]
    },
    {
     "name": "stdout",
     "output_type": "stream",
     "text": [
      " 0.508121570076"
     ]
    },
    {
     "name": "stdout",
     "output_type": "stream",
     "text": [
      " \n\t\t[0.037037037037037035, 0.042520035388256765, 0.06593431139830114, 0.07906719708502136, 0.07665155041436218, 0.09188045537377564, 0.09431952066020965, 0.09969192322138891, 0.10077630071623317, 0.11797355743685524]\n"
     ]
    },
    {
     "name": "stdout",
     "output_type": "stream",
     "text": [
      "0.69227654624"
     ]
    },
    {
     "name": "stdout",
     "output_type": "stream",
     "text": [
      " 0.688100378669"
     ]
    },
    {
     "name": "stdout",
     "output_type": "stream",
     "text": [
      " 0.631086891641"
     ]
    },
    {
     "name": "stdout",
     "output_type": "stream",
     "text": [
      " 0.812548185688"
     ]
    },
    {
     "name": "stdout",
     "output_type": "stream",
     "text": [
      " 0.615542343679"
     ]
    },
    {
     "name": "stdout",
     "output_type": "stream",
     "text": [
      " 0.614090755543"
     ]
    },
    {
     "name": "stdout",
     "output_type": "stream",
     "text": [
      " 0.669189443256"
     ]
    },
    {
     "name": "stdout",
     "output_type": "stream",
     "text": [
      " 0.559434425663"
     ]
    },
    {
     "name": "stdout",
     "output_type": "stream",
     "text": [
      " 0.698702566711"
     ]
    },
    {
     "name": "stdout",
     "output_type": "stream",
     "text": [
      " 0.576805399984"
     ]
    },
    {
     "name": "stdout",
     "output_type": "stream",
     "text": [
      " \n\t\t[0.037037037037037035, 0.042520035388256765, 0.06593431139830114, 0.07458860449599901, 0.0762404781874371, 0.09148712513841292, 0.09828228688598822, 0.09802619654850145, 0.10449469546751769, 0.11688090695643699]\n"
     ]
    },
    {
     "name": "stdout",
     "output_type": "stream",
     "text": [
      "0.631523360413"
     ]
    },
    {
     "name": "stdout",
     "output_type": "stream",
     "text": [
      " 0.615891148987"
     ]
    },
    {
     "name": "stdout",
     "output_type": "stream",
     "text": [
      " 0.716327673101"
     ]
    },
    {
     "name": "stdout",
     "output_type": "stream",
     "text": [
      " 0.670741985339"
     ]
    },
    {
     "name": "stdout",
     "output_type": "stream",
     "text": [
      " 0.719812674114"
     ]
    },
    {
     "name": "stdout",
     "output_type": "stream",
     "text": [
      " 0.702636608404"
     ]
    },
    {
     "name": "stdout",
     "output_type": "stream",
     "text": [
      " 0.610150742512"
     ]
    },
    {
     "name": "stdout",
     "output_type": "stream",
     "text": [
      " 0.560851954964"
     ]
    },
    {
     "name": "stdout",
     "output_type": "stream",
     "text": [
      " 0.712283979235"
     ]
    },
    {
     "name": "stdout",
     "output_type": "stream",
     "text": [
      " 0.585128388935"
     ]
    },
    {
     "name": "stdout",
     "output_type": "stream",
     "text": [
      " \n\t\t[0.037037037037037035, 0.042520035388256765, 0.06593431139830114, 0.06528374122606277, 0.07529365625834157, 0.09054030320931741, 0.09733546495689271, 0.09707937461940595, 0.10915446375498551, 0.12423254656990299]\n"
     ]
    },
    {
     "name": "stdout",
     "output_type": "stream",
     "text": [
      "0.658067340345"
     ]
    },
    {
     "name": "stdout",
     "output_type": "stream",
     "text": [
      " 0.657912845141"
     ]
    },
    {
     "name": "stdout",
     "output_type": "stream",
     "text": [
      " 0.670482084913"
     ]
    },
    {
     "name": "stdout",
     "output_type": "stream",
     "text": [
      " 0.641406418263"
     ]
    },
    {
     "name": "stdout",
     "output_type": "stream",
     "text": [
      " 0.699055993718"
     ]
    },
    {
     "name": "stdout",
     "output_type": "stream",
     "text": [
      " 0.701208701524"
     ]
    },
    {
     "name": "stdout",
     "output_type": "stream",
     "text": [
      " 0.602319278824"
     ]
    },
    {
     "name": "stdout",
     "output_type": "stream",
     "text": [
      " 0.649744444246"
     ]
    },
    {
     "name": "stdout",
     "output_type": "stream",
     "text": [
      " 0.644975658159"
     ]
    },
    {
     "name": "stdout",
     "output_type": "stream",
     "text": [
      " 0.563860386232"
     ]
    },
    {
     "name": "stdout",
     "output_type": "stream",
     "text": [
      " \n\t\t[0.037037037037037035, 0.0281921536388293, 0.0462779679176625, 0.0705989337173754, 0.0725612862566226, 0.087891195693585, 0.09031805012598323, 0.0956970215613858, 0.09677882184029721, 0.11643067845571027]\n"
     ]
    },
    {
     "name": "stdout",
     "output_type": "stream",
     "text": [
      "0.661099704068"
     ]
    },
    {
     "name": "stdout",
     "output_type": "stream",
     "text": [
      " 0.741059726933"
     ]
    },
    {
     "name": "stdout",
     "output_type": "stream",
     "text": [
      " 0.642234057493"
     ]
    },
    {
     "name": "stdout",
     "output_type": "stream",
     "text": [
      " 0.605416663194"
     ]
    },
    {
     "name": "stdout",
     "output_type": "stream",
     "text": [
      " 0.685837032257"
     ]
    },
    {
     "name": "stdout",
     "output_type": "stream",
     "text": [
      " 0.706372047598"
     ]
    },
    {
     "name": "stdout",
     "output_type": "stream",
     "text": [
      " 0.727514846282"
     ]
    },
    {
     "name": "stdout",
     "output_type": "stream",
     "text": [
      " 0.613006572642"
     ]
    },
    {
     "name": "stdout",
     "output_type": "stream",
     "text": [
      " 0.63048308711"
     ]
    },
    {
     "name": "stdout",
     "output_type": "stream",
     "text": [
      " 0.594953400728"
     ]
    },
    {
     "name": "stdout",
     "output_type": "stream",
     "text": [
      " \n\t\t[0.037037037037037035, 0.042520035388256765, 0.05608890463424944, 0.06399261364116239, 0.07400252867344118, 0.08924917562441702, 0.09170351031144407, 0.09555555539536933, 0.09810389686074075, 0.11092188463088581]\n"
     ]
    },
    {
     "name": "stdout",
     "output_type": "stream",
     "text": [
      "0.645198069388"
     ]
    },
    {
     "name": "stdout",
     "output_type": "stream",
     "text": [
      " 0.637293886028"
     ]
    },
    {
     "name": "stdout",
     "output_type": "stream",
     "text": [
      " 0.520413383483"
     ]
    },
    {
     "name": "stdout",
     "output_type": "stream",
     "text": [
      " 0.720519636623"
     ]
    },
    {
     "name": "stdout",
     "output_type": "stream",
     "text": [
      " 0.713229204402"
     ]
    },
    {
     "name": "stdout",
     "output_type": "stream",
     "text": [
      " 0.721094006165"
     ]
    },
    {
     "name": "stdout",
     "output_type": "stream",
     "text": [
      " 0.644830660031"
     ]
    },
    {
     "name": "stdout",
     "output_type": "stream",
     "text": [
      " 0.741938970078"
     ]
    },
    {
     "name": "stdout",
     "output_type": "stream",
     "text": [
      " 0.668541998478"
     ]
    },
    {
     "name": "stdout",
     "output_type": "stream",
     "text": [
      " 0.702245384516"
     ]
    },
    {
     "name": "stdout",
     "output_type": "stream",
     "text": [
      " \n\t\t[0.037037037037037035, 0.0281921536388293, 0.03365691702800047, 0.056224814457705725, 0.06692753868898459, 0.08223455164680388, 0.0875808181550895, 0.08721140543108025, 0.10518596915902295, 0.11410515323796885]\n"
     ]
    },
    {
     "name": "stdout",
     "output_type": "stream",
     "text": [
      "0.626969274643"
     ]
    },
    {
     "name": "stdout",
     "output_type": "stream",
     "text": [
      " 0.605335069776"
     ]
    },
    {
     "name": "stdout",
     "output_type": "stream",
     "text": [
      " 0.686369559253"
     ]
    },
    {
     "name": "stdout",
     "output_type": "stream",
     "text": [
      " 0.61255478578"
     ]
    },
    {
     "name": "stdout",
     "output_type": "stream",
     "text": [
      " 0.621213681694"
     ]
    },
    {
     "name": "stdout",
     "output_type": "stream",
     "text": [
      " 0.68733798423"
     ]
    },
    {
     "name": "stdout",
     "output_type": "stream",
     "text": [
      " 0.571957584559"
     ]
    },
    {
     "name": "stdout",
     "output_type": "stream",
     "text": [
      " 0.654858306213"
     ]
    },
    {
     "name": "stdout",
     "output_type": "stream",
     "text": [
      " 0.678536111951"
     ]
    },
    {
     "name": "stdout",
     "output_type": "stream",
     "text": [
      " 0.569031959711"
     ]
    },
    {
     "name": "stdout",
     "output_type": "stream",
     "text": [
      " \n\t\t[0.037037037037037035, 0.042520035388256765, 0.05724396462010195, 0.07349429862365733, 0.0751894939023353, 0.09043614085331113, 0.09723130260088643, 0.09697521226339967, 0.10905030139897923, 0.12167664054729944]\n"
     ]
    },
    {
     "name": "stdout",
     "output_type": "stream",
     "text": [
      "0.65636387929"
     ]
    },
    {
     "name": "stdout",
     "output_type": "stream",
     "text": [
      " 0.64182601671"
     ]
    },
    {
     "name": "stdout",
     "output_type": "stream",
     "text": [
      " 0.753476509108"
     ]
    },
    {
     "name": "stdout",
     "output_type": "stream",
     "text": [
      " 0.597014681898"
     ]
    },
    {
     "name": "stdout",
     "output_type": "stream",
     "text": [
      " 0.744652325838"
     ]
    },
    {
     "name": "stdout",
     "output_type": "stream",
     "text": [
      " 0.641939714148"
     ]
    },
    {
     "name": "stdout",
     "output_type": "stream",
     "text": [
      " 0.674881546612"
     ]
    },
    {
     "name": "stdout",
     "output_type": "stream",
     "text": [
      " 0.698658281975"
     ]
    },
    {
     "name": "stdout",
     "output_type": "stream",
     "text": [
      " 0.710344514844"
     ]
    },
    {
     "name": "stdout",
     "output_type": "stream",
     "text": [
      " 0.713883624438"
     ]
    },
    {
     "name": "stdout",
     "output_type": "stream",
     "text": [
      " \n\t\t[0.037037037037037035, 0.0281921536388293, 0.0462779679176625, 0.06129407044743917, 0.06319254462653791, 0.08621941998381694, 0.09301458173139222, 0.09275849139390546, 0.0992269903129217, 0.10916145813524374]\n"
     ]
    },
    {
     "name": "stdout",
     "output_type": "stream",
     "text": [
      "0.627612127655"
     ]
    },
    {
     "name": "stdout",
     "output_type": "stream",
     "text": [
      " 0.610543455362"
     ]
    },
    {
     "name": "stdout",
     "output_type": "stream",
     "text": [
      " 0.654173357083"
     ]
    },
    {
     "name": "stdout",
     "output_type": "stream",
     "text": [
      " 0.589834683879"
     ]
    },
    {
     "name": "stdout",
     "output_type": "stream",
     "text": [
      " 0.607648158834"
     ]
    },
    {
     "name": "stdout",
     "output_type": "stream",
     "text": [
      " 0.552664191346"
     ]
    },
    {
     "name": "stdout",
     "output_type": "stream",
     "text": [
      " 0.579759034768"
     ]
    },
    {
     "name": "stdout",
     "output_type": "stream",
     "text": [
      " 0.624400320703"
     ]
    },
    {
     "name": "stdout",
     "output_type": "stream",
     "text": [
      " 0.586953333205"
     ]
    },
    {
     "name": "stdout",
     "output_type": "stream",
     "text": [
      " 0.638267262572"
     ]
    },
    {
     "name": "stdout",
     "output_type": "stream",
     "text": [
      " \n\t\t[0.037037037037037035, 0.042520035388256765, 0.05724396462010195, 0.06418943535372111, 0.08086995074434773, 0.08381259501393548, 0.09916793647121937, 0.1015086935642907, 0.11169474644651622, 0.127003300852406]\n"
     ]
    },
    {
     "name": "stdout",
     "output_type": "stream",
     "text": [
      "0.665712392272"
     ]
    },
    {
     "name": "stdout",
     "output_type": "stream",
     "text": [
      " 0.663548032532"
     ]
    },
    {
     "name": "stdout",
     "output_type": "stream",
     "text": [
      " 0.594283918019"
     ]
    },
    {
     "name": "stdout",
     "output_type": "stream",
     "text": [
      " 0.608176897935"
     ]
    },
    {
     "name": "stdout",
     "output_type": "stream",
     "text": [
      " 0.646809379789"
     ]
    },
    {
     "name": "stdout",
     "output_type": "stream",
     "text": [
      " 0.619599823354"
     ]
    },
    {
     "name": "stdout",
     "output_type": "stream",
     "text": [
      " 0.665442681206"
     ]
    },
    {
     "name": "stdout",
     "output_type": "stream",
     "text": [
      " 0.641804182464"
     ]
    },
    {
     "name": "stdout",
     "output_type": "stream",
     "text": [
      " 0.669353443707"
     ]
    },
    {
     "name": "stdout",
     "output_type": "stream",
     "text": [
      " 0.710293464072"
     ]
    },
    {
     "name": "stdout",
     "output_type": "stream",
     "text": [
      " \n\t\t[0.04938271604938271, 0.031399502065808764, 0.0505145233872591, 0.075203417633518, 0.07703406160346243, 0.0923448966319851, 0.09913076252621816, 0.09886593874703135, 0.11467337207974262, 0.12458366883085749]\n"
     ]
    },
    {
     "name": "stdout",
     "output_type": "stream",
     "text": [
      "0.701509843614"
     ]
    },
    {
     "name": "stdout",
     "output_type": "stream",
     "text": [
      " 0.662953042384"
     ]
    },
    {
     "name": "stdout",
     "output_type": "stream",
     "text": [
      " 0.738400870674"
     ]
    },
    {
     "name": "stdout",
     "output_type": "stream",
     "text": [
      " 0.699958647938"
     ]
    },
    {
     "name": "stdout",
     "output_type": "stream",
     "text": [
      " 0.626406798005"
     ]
    },
    {
     "name": "stdout",
     "output_type": "stream",
     "text": [
      " 0.637168141917"
     ]
    },
    {
     "name": "stdout",
     "output_type": "stream",
     "text": [
      " 0.620405466247"
     ]
    },
    {
     "name": "stdout",
     "output_type": "stream",
     "text": [
      " 0.681714542807"
     ]
    },
    {
     "name": "stdout",
     "output_type": "stream",
     "text": [
      " 0.635365397468"
     ]
    },
    {
     "name": "stdout",
     "output_type": "stream",
     "text": [
      " 0.616433236823"
     ]
    },
    {
     "name": "stdout",
     "output_type": "stream",
     "text": [
      " \n\t\t[0.04938271604938271, 0.031399502065808764, 0.057695699285705206, 0.07478855262610656, 0.08320315377991909, 0.09240111408876485, 0.09907797919297534, 0.10146187475683756, 0.11389805526766492, 0.12980150299212545]\n"
     ]
    },
    {
     "name": "stdout",
     "output_type": "stream",
     "text": [
      "0.648135996"
     ]
    },
    {
     "name": "stdout",
     "output_type": "stream",
     "text": [
      " 0.553821998946"
     ]
    },
    {
     "name": "stdout",
     "output_type": "stream",
     "text": [
      " 0.552905653936"
     ]
    },
    {
     "name": "stdout",
     "output_type": "stream",
     "text": [
      " 0.727128452391"
     ]
    },
    {
     "name": "stdout",
     "output_type": "stream",
     "text": [
      " 0.711377957093"
     ]
    },
    {
     "name": "stdout",
     "output_type": "stream",
     "text": [
      " 0.689974198904"
     ]
    },
    {
     "name": "stdout",
     "output_type": "stream",
     "text": [
      " 0.723505074507"
     ]
    },
    {
     "name": "stdout",
     "output_type": "stream",
     "text": [
      " 0.646226445227"
     ]
    },
    {
     "name": "stdout",
     "output_type": "stream",
     "text": [
      " 0.694211740672"
     ]
    },
    {
     "name": "stdout",
     "output_type": "stream",
     "text": [
      " 0.783323689917"
     ]
    },
    {
     "name": "stdout",
     "output_type": "stream",
     "text": [
      " \n\t\t[0.037037037037037035, 0.0281921536388293, 0.0462779679176625, 0.06129407044743917, 0.07817786473848658, 0.08419887188144735, 0.09388476120488164, 0.09895332596594317, 0.108844766341768, 0.11767427809514786]\n"
     ]
    },
    {
     "name": "stdout",
     "output_type": "stream",
     "text": [
      "0.616292927656"
     ]
    },
    {
     "name": "stdout",
     "output_type": "stream",
     "text": [
      " 0.625786556037"
     ]
    },
    {
     "name": "stdout",
     "output_type": "stream",
     "text": [
      " 0.677126483728"
     ]
    },
    {
     "name": "stdout",
     "output_type": "stream",
     "text": [
      " 0.728158013169"
     ]
    },
    {
     "name": "stdout",
     "output_type": "stream",
     "text": [
      " 0.653621020957"
     ]
    },
    {
     "name": "stdout",
     "output_type": "stream",
     "text": [
      " 0.698806735604"
     ]
    },
    {
     "name": "stdout",
     "output_type": "stream",
     "text": [
      " 0.68561114845"
     ]
    },
    {
     "name": "stdout",
     "output_type": "stream",
     "text": [
      " 0.553237043589"
     ]
    },
    {
     "name": "stdout",
     "output_type": "stream",
     "text": [
      " 0.740734830418"
     ]
    },
    {
     "name": "stdout",
     "output_type": "stream",
     "text": [
      " 0.577278657684"
     ]
    },
    {
     "name": "stdout",
     "output_type": "stream",
     "text": [
      " \n\t\t[0.037037037037037035, 0.0281921536388293, 0.0364325611536108, 0.051981725668978, 0.06944325462788471, 0.08477419411478392, 0.09156935586235922, 0.09131326552487246, 0.09748131156686035, 0.10870564225957133]\n"
     ]
    },
    {
     "name": "stdout",
     "output_type": "stream",
     "text": [
      "0.68835819903"
     ]
    },
    {
     "name": "stdout",
     "output_type": "stream",
     "text": [
      " 0.638528606144"
     ]
    },
    {
     "name": "stdout",
     "output_type": "stream",
     "text": [
      " 0.732301014626"
     ]
    },
    {
     "name": "stdout",
     "output_type": "stream",
     "text": [
      " 0.566330297816"
     ]
    },
    {
     "name": "stdout",
     "output_type": "stream",
     "text": [
      " 0.708180280024"
     ]
    },
    {
     "name": "stdout",
     "output_type": "stream",
     "text": [
      " 0.697371167437"
     ]
    },
    {
     "name": "stdout",
     "output_type": "stream",
     "text": [
      " 0.787248050368"
     ]
    },
    {
     "name": "stdout",
     "output_type": "stream",
     "text": [
      " 0.605058366097"
     ]
    },
    {
     "name": "stdout",
     "output_type": "stream",
     "text": [
      " 0.677743008821"
     ]
    },
    {
     "name": "stdout",
     "output_type": "stream",
     "text": [
      " 0.63547208604"
     ]
    },
    {
     "name": "stdout",
     "output_type": "stream",
     "text": [
      " \n\t\t[0.037037037037037035, 0.0281921536388293, 0.0375876211394633, 0.05406481026240024, 0.07672065888577759, 0.08598532062737643, 0.09117879025068379, 0.09762743197408484, 0.11626134043277998, 0.12635758506178338]\n"
     ]
    },
    {
     "name": "stdout",
     "output_type": "stream",
     "text": [
      "0.5698846976"
     ]
    },
    {
     "name": "stdout",
     "output_type": "stream",
     "text": [
      " 0.636978035962"
     ]
    },
    {
     "name": "stdout",
     "output_type": "stream",
     "text": [
      " 0.663474955454"
     ]
    },
    {
     "name": "stdout",
     "output_type": "stream",
     "text": [
      " 0.674727628343"
     ]
    },
    {
     "name": "stdout",
     "output_type": "stream",
     "text": [
      " 0.670888833239"
     ]
    },
    {
     "name": "stdout",
     "output_type": "stream",
     "text": [
      " 0.635602752454"
     ]
    },
    {
     "name": "stdout",
     "output_type": "stream",
     "text": [
      " 0.645566766111"
     ]
    },
    {
     "name": "stdout",
     "output_type": "stream",
     "text": [
      " 0.538458374171"
     ]
    },
    {
     "name": "stdout",
     "output_type": "stream",
     "text": [
      " 0.676346492224"
     ]
    },
    {
     "name": "stdout",
     "output_type": "stream",
     "text": [
      " 0.636456111648"
     ]
    },
    {
     "name": "stdout",
     "output_type": "stream",
     "text": [
      " \n\t\t[0.037037037037037035, 0.0281921536388293, 0.0364325611536108, 0.06000294286253878, 0.07025945838247824, 0.08559039786937744, 0.09238555961695274, 0.09212946927946597, 0.10390410553801718, 0.111048558873901]\n"
     ]
    },
    {
     "name": "stdout",
     "output_type": "stream",
     "text": [
      "0.664019597571"
     ]
    },
    {
     "name": "stdout",
     "output_type": "stream",
     "text": [
      " 0.570501165432"
     ]
    },
    {
     "name": "stdout",
     "output_type": "stream",
     "text": [
      " 0.576854959065"
     ]
    },
    {
     "name": "stdout",
     "output_type": "stream",
     "text": [
      " 0.626598664201"
     ]
    },
    {
     "name": "stdout",
     "output_type": "stream",
     "text": [
      " 0.708350143663"
     ]
    },
    {
     "name": "stdout",
     "output_type": "stream",
     "text": [
      " 0.637852831398"
     ]
    },
    {
     "name": "stdout",
     "output_type": "stream",
     "text": [
      " 0.672636396886"
     ]
    },
    {
     "name": "stdout",
     "output_type": "stream",
     "text": [
      " 0.632333025675"
     ]
    },
    {
     "name": "stdout",
     "output_type": "stream",
     "text": [
      " 0.574549310577"
     ]
    },
    {
     "name": "stdout",
     "output_type": "stream",
     "text": [
      " 0.633197316359"
     ]
    },
    {
     "name": "stdout",
     "output_type": "stream",
     "text": [
      " \n\t\t[0.0, 0.019810880100647195, 0.029618130906537154, 0.05399474421162126, 0.07112863852910192, 0.08051640670417948, 0.09040336504150354, 0.0927267563988979, 0.10268101710890885, 0.11267783201283017]\n"
     ]
    },
    {
     "name": "stdout",
     "output_type": "stream",
     "text": [
      "0.673041758868"
     ]
    },
    {
     "name": "stdout",
     "output_type": "stream",
     "text": [
      " 0.673821015183"
     ]
    },
    {
     "name": "stdout",
     "output_type": "stream",
     "text": [
      " 0.652495572578"
     ]
    },
    {
     "name": "stdout",
     "output_type": "stream",
     "text": [
      " 0.59181560721"
     ]
    },
    {
     "name": "stdout",
     "output_type": "stream",
     "text": [
      " 0.661210570196"
     ]
    },
    {
     "name": "stdout",
     "output_type": "stream",
     "text": [
      " 0.594349506418"
     ]
    },
    {
     "name": "stdout",
     "output_type": "stream",
     "text": [
      " 0.674310698473"
     ]
    },
    {
     "name": "stdout",
     "output_type": "stream",
     "text": [
      " 0.652070354794"
     ]
    },
    {
     "name": "stdout",
     "output_type": "stream",
     "text": [
      " 0.629234895012"
     ]
    },
    {
     "name": "stdout",
     "output_type": "stream",
     "text": [
      " 0.698637098629"
     ]
    },
    {
     "name": "stdout",
     "output_type": "stream",
     "text": [
      " \n\t\t[0.07407407407407407, 0.06522919067586634, 0.06586233355462318, 0.07014525548349115, 0.07969075252348619, 0.09597921447822594, 0.10460519217078022, 0.10690239658817788, 0.11632111142727128, 0.13140560228346473]\n"
     ]
    },
    {
     "name": "stdout",
     "output_type": "stream",
     "text": [
      "0.721874312768"
     ]
    },
    {
     "name": "stdout",
     "output_type": "stream",
     "text": [
      " 0.813976713776"
     ]
    },
    {
     "name": "stdout",
     "output_type": "stream",
     "text": [
      " 0.511987194152"
     ]
    },
    {
     "name": "stdout",
     "output_type": "stream",
     "text": [
      " 0.667613103966"
     ]
    },
    {
     "name": "stdout",
     "output_type": "stream",
     "text": [
      " 0.650158052207"
     ]
    },
    {
     "name": "stdout",
     "output_type": "stream",
     "text": [
      " 0.528031880935"
     ]
    },
    {
     "name": "stdout",
     "output_type": "stream",
     "text": [
      " 0.765189180292"
     ]
    },
    {
     "name": "stdout",
     "output_type": "stream",
     "text": [
      " 0.838102320303"
     ]
    },
    {
     "name": "stdout",
     "output_type": "stream",
     "text": [
      " 0.721765287706"
     ]
    },
    {
     "name": "stdout",
     "output_type": "stream",
     "text": [
      " 0.768965862132"
     ]
    },
    {
     "name": "stdout",
     "output_type": "stream",
     "text": [
      " \n\t\t[0.037037037037037035, 0.042520035388256765, 0.057927313369161765, 0.07280908169132518, 0.08273683418879647, 0.09518019984207984, 0.10044251603279901, 0.10959320255545502, 0.11554401068830833, 0.12217751852330659]\n"
     ]
    },
    {
     "name": "stdout",
     "output_type": "stream",
     "text": [
      "0.688054944954"
     ]
    },
    {
     "name": "stdout",
     "output_type": "stream",
     "text": [
      " 0.571856123058"
     ]
    },
    {
     "name": "stdout",
     "output_type": "stream",
     "text": [
      " 0.655176037157"
     ]
    },
    {
     "name": "stdout",
     "output_type": "stream",
     "text": [
      " 0.709318691843"
     ]
    },
    {
     "name": "stdout",
     "output_type": "stream",
     "text": [
      " 0.599423973708"
     ]
    },
    {
     "name": "stdout",
     "output_type": "stream",
     "text": [
      " 0.816653260419"
     ]
    },
    {
     "name": "stdout",
     "output_type": "stream",
     "text": [
      " 0.764634127903"
     ]
    },
    {
     "name": "stdout",
     "output_type": "stream",
     "text": [
      " 0.706227434942"
     ]
    },
    {
     "name": "stdout",
     "output_type": "stream",
     "text": [
      " 0.666781385716"
     ]
    },
    {
     "name": "stdout",
     "output_type": "stream",
     "text": [
      " 0.479385319121"
     ]
    },
    {
     "name": "stdout",
     "output_type": "stream",
     "text": [
      " \n\t\t[0.0, 0.03413876185007466, 0.04058412760897661, 0.0568901091179032, 0.057651092458715025, 0.07430997201675336, 0.0858747217188591, 0.08667634618671356, 0.0913996117706836, 0.10650513337329917]\n"
     ]
    },
    {
     "name": "stdout",
     "output_type": "stream",
     "text": [
      "0.633419303477"
     ]
    },
    {
     "name": "stdout",
     "output_type": "stream",
     "text": [
      " 0.700852041401"
     ]
    },
    {
     "name": "stdout",
     "output_type": "stream",
     "text": [
      " 0.650174122078"
     ]
    },
    {
     "name": "stdout",
     "output_type": "stream",
     "text": [
      " 0.7000961805"
     ]
    },
    {
     "name": "stdout",
     "output_type": "stream",
     "text": [
      " 0.545222261333"
     ]
    },
    {
     "name": "stdout",
     "output_type": "stream",
     "text": [
      " 0.7167678575"
     ]
    },
    {
     "name": "stdout",
     "output_type": "stream",
     "text": [
      " 0.59573021769"
     ]
    },
    {
     "name": "stdout",
     "output_type": "stream",
     "text": [
      " 0.558079924657"
     ]
    },
    {
     "name": "stdout",
     "output_type": "stream",
     "text": [
      " 0.696298091343"
     ]
    },
    {
     "name": "stdout",
     "output_type": "stream",
     "text": [
      " 0.761455062169"
     ]
    },
    {
     "name": "stdout",
     "output_type": "stream",
     "text": [
      " \n\t\t[0.012345679012345678, 0.03734611027705413, 0.05315691896287182, 0.059021504752620794, 0.07773199251836495, 0.08683973282650202, 0.09640877605400643, 0.10143786022898063, 0.11127610159257967, 0.11871999099603138]\n"
     ]
    },
    {
     "name": "stdout",
     "output_type": "stream",
     "text": [
      "0.599236312606"
     ]
    },
    {
     "name": "stdout",
     "output_type": "stream",
     "text": [
      " 0.642298211493"
     ]
    },
    {
     "name": "stdout",
     "output_type": "stream",
     "text": [
      " 0.60036058634"
     ]
    },
    {
     "name": "stdout",
     "output_type": "stream",
     "text": [
      " 0.711637682396"
     ]
    },
    {
     "name": "stdout",
     "output_type": "stream",
     "text": [
      " 0.67343139936"
     ]
    },
    {
     "name": "stdout",
     "output_type": "stream",
     "text": [
      " 0.775048367227"
     ]
    },
    {
     "name": "stdout",
     "output_type": "stream",
     "text": [
      " 0.618154188977"
     ]
    },
    {
     "name": "stdout",
     "output_type": "stream",
     "text": [
      " 0.86463465527"
     ]
    },
    {
     "name": "stdout",
     "output_type": "stream",
     "text": [
      " 0.640225003876"
     ]
    },
    {
     "name": "stdout",
     "output_type": "stream",
     "text": [
      " 0.695404573287"
     ]
    },
    {
     "name": "stdout",
     "output_type": "stream",
     "text": [
      " \n\t\t[0.012345679012345678, 0.023018228527626666, 0.03500974636198626, 0.050406050541053016, 0.06840071440829146, 0.08379174659783956, 0.09059388648777579, 0.09033671451752077, 0.10357550759248794, 0.10771746843857725]\n"
     ]
    },
    {
     "name": "stdout",
     "output_type": "stream",
     "text": [
      "0.569784730213"
     ]
    },
    {
     "name": "stdout",
     "output_type": "stream",
     "text": [
      " 0.867440397032"
     ]
    },
    {
     "name": "stdout",
     "output_type": "stream",
     "text": [
      " 0.69627104382"
     ]
    },
    {
     "name": "stdout",
     "output_type": "stream",
     "text": [
      " 0.59935635691"
     ]
    },
    {
     "name": "stdout",
     "output_type": "stream",
     "text": [
      " 0.595910603021"
     ]
    },
    {
     "name": "stdout",
     "output_type": "stream",
     "text": [
      " 0.699514637413"
     ]
    },
    {
     "name": "stdout",
     "output_type": "stream",
     "text": [
      " 0.734044528724"
     ]
    },
    {
     "name": "stdout",
     "output_type": "stream",
     "text": [
      " 0.713411022818"
     ]
    },
    {
     "name": "stdout",
     "output_type": "stream",
     "text": [
      " 0.6964303716"
     ]
    },
    {
     "name": "stdout",
     "output_type": "stream",
     "text": [
      " 0.707051498615"
     ]
    },
    {
     "name": "stdout",
     "output_type": "stream",
     "text": [
      " \n\t\t[0.04938271604938271, 0.0600552655646637, 0.06177528789739304, 0.08448454294925742, 0.08781776781338883, 0.09603826764104256, 0.10330317971904775, 0.10832222354734877, 0.12069606575854, 0.1280078320242328]\n"
     ]
    },
    {
     "name": "stdout",
     "output_type": "stream",
     "text": [
      "0.58584623541"
     ]
    },
    {
     "name": "stdout",
     "output_type": "stream",
     "text": [
      " 0.758471212199"
     ]
    },
    {
     "name": "stdout",
     "output_type": "stream",
     "text": [
      " 0.750055340167"
     ]
    },
    {
     "name": "stdout",
     "output_type": "stream",
     "text": [
      " 0.633077844325"
     ]
    },
    {
     "name": "stdout",
     "output_type": "stream",
     "text": [
      " 0.768483084871"
     ]
    },
    {
     "name": "stdout",
     "output_type": "stream",
     "text": [
      " 0.685322202985"
     ]
    },
    {
     "name": "stdout",
     "output_type": "stream",
     "text": [
      " 0.645911183188"
     ]
    },
    {
     "name": "stdout",
     "output_type": "stream",
     "text": [
      " 0.589819060353"
     ]
    },
    {
     "name": "stdout",
     "output_type": "stream",
     "text": [
      " 0.679976939887"
     ]
    },
    {
     "name": "stdout",
     "output_type": "stream",
     "text": [
      " 0.653945144983"
     ]
    },
    {
     "name": "stdout",
     "output_type": "stream",
     "text": [
      " \n\t\t[0.08641975308641976, 0.05410865735341835, 0.06746912820607893, 0.07965754839205988, 0.0914889137302569, 0.10047883509353607, 0.1055971888015654, 0.11199379519867503, 0.12314598150374827, 0.13981882387643646]\n"
     ]
    },
    {
     "name": "stdout",
     "output_type": "stream",
     "text": [
      "0.558951186134"
     ]
    },
    {
     "name": "stdout",
     "output_type": "stream",
     "text": [
      " 0.599327252138"
     ]
    },
    {
     "name": "stdout",
     "output_type": "stream",
     "text": [
      " 0.637920748814"
     ]
    },
    {
     "name": "stdout",
     "output_type": "stream",
     "text": [
      " 0.694089073078"
     ]
    },
    {
     "name": "stdout",
     "output_type": "stream",
     "text": [
      " 0.695272167343"
     ]
    },
    {
     "name": "stdout",
     "output_type": "stream",
     "text": [
      " 0.581792770308"
     ]
    },
    {
     "name": "stdout",
     "output_type": "stream",
     "text": [
      " 0.655722167376"
     ]
    },
    {
     "name": "stdout",
     "output_type": "stream",
     "text": [
      " 0.654564170307"
     ]
    },
    {
     "name": "stdout",
     "output_type": "stream",
     "text": [
      " 0.603034762842"
     ]
    },
    {
     "name": "stdout",
     "output_type": "stream",
     "text": [
      " 0.679669838606"
     ]
    },
    {
     "name": "stdout",
     "output_type": "stream",
     "text": [
      " \n\t\t[0.04938271604938271, 0.045727383815236236, 0.05012594244589376, 0.06366466843543518, 0.07395393509314273, 0.083071530139135, 0.0998287191553189, 0.10216211852104654, 0.1191154758014066, 0.1264386481471542]\n"
     ]
    },
    {
     "name": "stdout",
     "output_type": "stream",
     "text": [
      "0.612681407906"
     ]
    },
    {
     "name": "stdout",
     "output_type": "stream",
     "text": [
      " 0.741609234639"
     ]
    },
    {
     "name": "stdout",
     "output_type": "stream",
     "text": [
      " 0.597181859401"
     ]
    },
    {
     "name": "stdout",
     "output_type": "stream",
     "text": [
      " 0.616722601704"
     ]
    },
    {
     "name": "stdout",
     "output_type": "stream",
     "text": [
      " 0.669413415409"
     ]
    },
    {
     "name": "stdout",
     "output_type": "stream",
     "text": [
      " 0.590448121237"
     ]
    },
    {
     "name": "stdout",
     "output_type": "stream",
     "text": [
      " 0.571572127611"
     ]
    },
    {
     "name": "stdout",
     "output_type": "stream",
     "text": [
      " 0.718461475742"
     ]
    },
    {
     "name": "stdout",
     "output_type": "stream",
     "text": [
      " 0.612974959957"
     ]
    },
    {
     "name": "stdout",
     "output_type": "stream",
     "text": [
      " 0.64153008878"
     ]
    },
    {
     "name": "stdout",
     "output_type": "stream",
     "text": [
      " \n\t\t[0.04938271604938271, 0.0600552655646637, 0.06177528789739304, 0.06669930788337261, 0.08559558752731201, 0.08762495939325454, 0.09921822491044263, 0.10562115602378948, 0.11717192693557064, 0.13165869442978473]\n"
     ]
    },
    {
     "name": "stdout",
     "output_type": "stream",
     "text": [
      "0.631745118358"
     ]
    },
    {
     "name": "stdout",
     "output_type": "stream",
     "text": [
      " 0.723991004757"
     ]
    },
    {
     "name": "stdout",
     "output_type": "stream",
     "text": [
      " 0.642841090111"
     ]
    },
    {
     "name": "stdout",
     "output_type": "stream",
     "text": [
      " 0.633102614564"
     ]
    },
    {
     "name": "stdout",
     "output_type": "stream",
     "text": [
      " 0.592554435759"
     ]
    },
    {
     "name": "stdout",
     "output_type": "stream",
     "text": [
      " 0.633398443471"
     ]
    },
    {
     "name": "stdout",
     "output_type": "stream",
     "text": [
      " 0.727558825433"
     ]
    },
    {
     "name": "stdout",
     "output_type": "stream",
     "text": [
      " 0.664223471773"
     ]
    },
    {
     "name": "stdout",
     "output_type": "stream",
     "text": [
      " 0.639373636728"
     ]
    },
    {
     "name": "stdout",
     "output_type": "stream",
     "text": [
      " 0.550723309714"
     ]
    },
    {
     "name": "stdout",
     "output_type": "stream",
     "text": [
      " \n\t\t[0.08641975308641976, 0.05410865735341835, 0.058778781427879734, 0.07189522622143044, 0.080355729148466, 0.07972572468272825, 0.1015584948260665, 0.10763923382314612, 0.11627539907630265, 0.1325591229674956]\n"
     ]
    },
    {
     "name": "stdout",
     "output_type": "stream",
     "text": [
      "0.71114828835"
     ]
    },
    {
     "name": "stdout",
     "output_type": "stream",
     "text": [
      " 0.699895811514"
     ]
    },
    {
     "name": "stdout",
     "output_type": "stream",
     "text": [
      " 0.70556095556"
     ]
    },
    {
     "name": "stdout",
     "output_type": "stream",
     "text": [
      " 0.70586605886"
     ]
    },
    {
     "name": "stdout",
     "output_type": "stream",
     "text": [
      " 0.672901928322"
     ]
    },
    {
     "name": "stdout",
     "output_type": "stream",
     "text": [
      " 0.638433858964"
     ]
    },
    {
     "name": "stdout",
     "output_type": "stream",
     "text": [
      " 0.619991172619"
     ]
    },
    {
     "name": "stdout",
     "output_type": "stream",
     "text": [
      " 0.72540354876"
     ]
    },
    {
     "name": "stdout",
     "output_type": "stream",
     "text": [
      " 0.529733694037"
     ]
    },
    {
     "name": "stdout",
     "output_type": "stream",
     "text": [
      " 0.748199496986"
     ]
    },
    {
     "name": "stdout",
     "output_type": "stream",
     "text": [
      " \n\t\t[0.04938271604938271, 0.0600552655646637, 0.06177528789739304, 0.07426142833375671, 0.07667873614759738, 0.08258631119096982, 0.10438064505745485, 0.11048842769458644, 0.1189199270630015, 0.1234600074746723]\n"
     ]
    },
    {
     "name": "stdout",
     "output_type": "stream",
     "text": [
      "0.662253223732"
     ]
    },
    {
     "name": "stdout",
     "output_type": "stream",
     "text": [
      " 0.82133995127"
     ]
    },
    {
     "name": "stdout",
     "output_type": "stream",
     "text": [
      " 0.66829981861"
     ]
    },
    {
     "name": "stdout",
     "output_type": "stream",
     "text": [
      " 0.742379984009"
     ]
    },
    {
     "name": "stdout",
     "output_type": "stream",
     "text": [
      " 0.824710351753"
     ]
    },
    {
     "name": "stdout",
     "output_type": "stream",
     "text": [
      " 0.733789639318"
     ]
    },
    {
     "name": "stdout",
     "output_type": "stream",
     "text": [
      " 0.619565659196"
     ]
    },
    {
     "name": "stdout",
     "output_type": "stream",
     "text": [
      " 0.845335928958"
     ]
    },
    {
     "name": "stdout",
     "output_type": "stream",
     "text": [
      " 0.508997022008"
     ]
    },
    {
     "name": "stdout",
     "output_type": "stream",
     "text": [
      " 0.625059094885"
     ]
    },
    {
     "name": "stdout",
     "output_type": "stream",
     "text": [
      " \n\t\t[0.08641975308641976, 0.05410865735341835, 0.06746912820607893, 0.07965754839205988, 0.08331779264865354, 0.09675192816619066, 0.1022520385882921, 0.11260569207516662, 0.11761415548703412, 0.1345162236105876]\n"
     ]
    },
    {
     "name": "stdout",
     "output_type": "stream",
     "text": [
      "0.650151059661"
     ]
    },
    {
     "name": "stdout",
     "output_type": "stream",
     "text": [
      " 0.754899154813"
     ]
    },
    {
     "name": "stdout",
     "output_type": "stream",
     "text": [
      " 0.665414910019"
     ]
    },
    {
     "name": "stdout",
     "output_type": "stream",
     "text": [
      " 0.797693386537"
     ]
    },
    {
     "name": "stdout",
     "output_type": "stream",
     "text": [
      " 0.764052280372"
     ]
    },
    {
     "name": "stdout",
     "output_type": "stream",
     "text": [
      " 0.712173599493"
     ]
    },
    {
     "name": "stdout",
     "output_type": "stream",
     "text": [
      " 0.753950145122"
     ]
    },
    {
     "name": "stdout",
     "output_type": "stream",
     "text": [
      " 0.651677295761"
     ]
    },
    {
     "name": "stdout",
     "output_type": "stream",
     "text": [
      " 0.656145279575"
     ]
    },
    {
     "name": "stdout",
     "output_type": "stream",
     "text": [
      " 0.685673114244"
     ]
    },
    {
     "name": "stdout",
     "output_type": "stream",
     "text": [
      " \n\t\t[0.07407407407407407, 0.05978325213266597, 0.06942962326471777, 0.07254667747301051, 0.07639034343977881, 0.08087147857220432, 0.098668602732525, 0.1078675543334349, 0.11155091332620372, 0.12330419171932103]\n"
     ]
    },
    {
     "name": "stdout",
     "output_type": "stream",
     "text": [
      "0.713404484184"
     ]
    },
    {
     "name": "stdout",
     "output_type": "stream",
     "text": [
      " 0.512833369677"
     ]
    },
    {
     "name": "stdout",
     "output_type": "stream",
     "text": [
      " 0.596374700535"
     ]
    },
    {
     "name": "stdout",
     "output_type": "stream",
     "text": [
      " 0.639394557211"
     ]
    },
    {
     "name": "stdout",
     "output_type": "stream",
     "text": [
      " 0.66145904768"
     ]
    },
    {
     "name": "stdout",
     "output_type": "stream",
     "text": [
      " 0.560347967288"
     ]
    },
    {
     "name": "stdout",
     "output_type": "stream",
     "text": [
      " 0.612481791879"
     ]
    },
    {
     "name": "stdout",
     "output_type": "stream",
     "text": [
      " 0.714005808241"
     ]
    },
    {
     "name": "stdout",
     "output_type": "stream",
     "text": [
      " 0.679960051528"
     ]
    },
    {
     "name": "stdout",
     "output_type": "stream",
     "text": [
      " 0.61129974004"
     ]
    },
    {
     "name": "stdout",
     "output_type": "stream",
     "text": [
      " \n\t\t[0.08641975308641976, 0.06299060055964543, 0.062311601090509594, 0.07659681198310266, 0.0804090762899011, 0.09251164939258309, 0.10045898384177668, 0.10915245576948863, 0.11808609929070844, 0.12305976551853091]\n"
     ]
    },
    {
     "name": "stdout",
     "output_type": "stream",
     "text": [
      "0.705972168105"
     ]
    },
    {
     "name": "stdout",
     "output_type": "stream",
     "text": [
      " 0.75108381509"
     ]
    },
    {
     "name": "stdout",
     "output_type": "stream",
     "text": [
      " 0.816794784251"
     ]
    },
    {
     "name": "stdout",
     "output_type": "stream",
     "text": [
      " 0.747314421291"
     ]
    },
    {
     "name": "stdout",
     "output_type": "stream",
     "text": [
      " 0.682081071452"
     ]
    },
    {
     "name": "stdout",
     "output_type": "stream",
     "text": [
      " 0.680931633724"
     ]
    },
    {
     "name": "stdout",
     "output_type": "stream",
     "text": [
      " 0.559740783125"
     ]
    },
    {
     "name": "stdout",
     "output_type": "stream",
     "text": [
      " 0.631731597027"
     ]
    },
    {
     "name": "stdout",
     "output_type": "stream",
     "text": [
      " 0.5938291779"
     ]
    },
    {
     "name": "stdout",
     "output_type": "stream",
     "text": [
      " 0.860129383018"
     ]
    },
    {
     "name": "stdout",
     "output_type": "stream",
     "text": [
      " \n\t\t[0.08641975308641976, 0.06299060055964543, 0.062311601090509594, 0.06811644018715407, 0.08790419232487193, 0.09674224876271567, 0.10194227104157141, 0.10517613917534861, 0.11433306962821253, 0.12858086937433447]\n"
     ]
    },
    {
     "name": "stdout",
     "output_type": "stream",
     "text": [
      "0.724965631225"
     ]
    },
    {
     "name": "stdout",
     "output_type": "stream",
     "text": [
      " 0.729492968078"
     ]
    },
    {
     "name": "stdout",
     "output_type": "stream",
     "text": [
      " 0.562950415447"
     ]
    },
    {
     "name": "stdout",
     "output_type": "stream",
     "text": [
      " 0.687923992592"
     ]
    },
    {
     "name": "stdout",
     "output_type": "stream",
     "text": [
      " 0.760570852845"
     ]
    },
    {
     "name": "stdout",
     "output_type": "stream",
     "text": [
      " 0.698392875183"
     ]
    },
    {
     "name": "stdout",
     "output_type": "stream",
     "text": [
      " 0.584198527184"
     ]
    },
    {
     "name": "stdout",
     "output_type": "stream",
     "text": [
      " 0.586983116809"
     ]
    },
    {
     "name": "stdout",
     "output_type": "stream",
     "text": [
      " 0.70719235156"
     ]
    },
    {
     "name": "stdout",
     "output_type": "stream",
     "text": [
      " 0.661790843772"
     ]
    },
    {
     "name": "stdout",
     "output_type": "stream",
     "text": [
      " \n\t\t[0.04938271604938271, 0.05460932702146333, 0.06534257760748764, 0.06545291183798438, 0.08382371731466073, 0.09300408185619193, 0.09517401801803878, 0.10357687684095405, 0.11063386417526849, 0.12040574355693039]\n"
     ]
    },
    {
     "name": "stdout",
     "output_type": "stream",
     "text": [
      "0.599709254573"
     ]
    },
    {
     "name": "stdout",
     "output_type": "stream",
     "text": [
      " 0.709226750253"
     ]
    },
    {
     "name": "stdout",
     "output_type": "stream",
     "text": [
      " 0.688120514089"
     ]
    },
    {
     "name": "stdout",
     "output_type": "stream",
     "text": [
      " 0.644724599022"
     ]
    },
    {
     "name": "stdout",
     "output_type": "stream",
     "text": [
      " 0.763582895786"
     ]
    },
    {
     "name": "stdout",
     "output_type": "stream",
     "text": [
      " 0.621549867682"
     ]
    },
    {
     "name": "stdout",
     "output_type": "stream",
     "text": [
      " 0.60728135113"
     ]
    },
    {
     "name": "stdout",
     "output_type": "stream",
     "text": [
      " 0.63212256158"
     ]
    },
    {
     "name": "stdout",
     "output_type": "stream",
     "text": [
      " 0.677509339637"
     ]
    },
    {
     "name": "stdout",
     "output_type": "stream",
     "text": [
      " 0.753173863484"
     ]
    },
    {
     "name": "stdout",
     "output_type": "stream",
     "text": [
      " \n\t\t[0.08641975308641976, 0.05410865735341835, 0.06469348408046861, 0.07587941998722683, 0.07979895269592253, 0.09570861393565992, 0.1015116117078562, 0.10642808954585525, 0.11948771474066672, 0.1270535587437172]\n"
     ]
    },
    {
     "name": "stdout",
     "output_type": "stream",
     "text": [
      "0.790684150222"
     ]
    },
    {
     "name": "stdout",
     "output_type": "stream",
     "text": [
      " 0.693644277602"
     ]
    },
    {
     "name": "stdout",
     "output_type": "stream",
     "text": [
      " 0.589154261356"
     ]
    },
    {
     "name": "stdout",
     "output_type": "stream",
     "text": [
      " 0.733082585811"
     ]
    },
    {
     "name": "stdout",
     "output_type": "stream",
     "text": [
      " 0.719453317707"
     ]
    },
    {
     "name": "stdout",
     "output_type": "stream",
     "text": [
      " 0.680612084405"
     ]
    },
    {
     "name": "stdout",
     "output_type": "stream",
     "text": [
      " 0.581385768491"
     ]
    },
    {
     "name": "stdout",
     "output_type": "stream",
     "text": [
      " 0.7165867957"
     ]
    },
    {
     "name": "stdout",
     "output_type": "stream",
     "text": [
      " 0.682858015477"
     ]
    },
    {
     "name": "stdout",
     "output_type": "stream",
     "text": [
      " 0.758554202918"
     ]
    },
    {
     "name": "stdout",
     "output_type": "stream",
     "text": [
      " \n\t\t[0.08641975308641976, 0.05410865735341835, 0.05484807731641691, 0.0745143850191237, 0.07843391772781941, 0.08886622286918987, 0.09841367844793875, 0.1089546268593833, 0.11732689789860247, 0.13310188702343945]\n"
     ]
    },
    {
     "name": "stdout",
     "output_type": "stream",
     "text": [
      "0.648691174656"
     ]
    },
    {
     "name": "stdout",
     "output_type": "stream",
     "text": [
      " 0.591013317032"
     ]
    },
    {
     "name": "stdout",
     "output_type": "stream",
     "text": [
      " 0.681884145516"
     ]
    },
    {
     "name": "stdout",
     "output_type": "stream",
     "text": [
      " 0.819145871106"
     ]
    },
    {
     "name": "stdout",
     "output_type": "stream",
     "text": [
      " 0.728579720088"
     ]
    },
    {
     "name": "stdout",
     "output_type": "stream",
     "text": [
      " 0.674208610221"
     ]
    },
    {
     "name": "stdout",
     "output_type": "stream",
     "text": [
      " 0.654632164869"
     ]
    },
    {
     "name": "stdout",
     "output_type": "stream",
     "text": [
      " 0.662555192133"
     ]
    },
    {
     "name": "stdout",
     "output_type": "stream",
     "text": [
      " 0.606680338429"
     ]
    },
    {
     "name": "stdout",
     "output_type": "stream",
     "text": [
      " 0.730040923839"
     ]
    },
    {
     "name": "stdout",
     "output_type": "stream",
     "text": [
      " \n\t\t[0.08641975308641976, 0.06299060055964543, 0.062311601090509594, 0.07659681198310266, 0.0804090762899011, 0.09075194063641347, 0.10605383603957358, 0.1110938327829954, 0.11973895344434463, 0.12901629524125166]\n"
     ]
    },
    {
     "name": "stdout",
     "output_type": "stream",
     "text": [
      "0.514700548885"
     ]
    },
    {
     "name": "stdout",
     "output_type": "stream",
     "text": [
      " 0.614925941541"
     ]
    },
    {
     "name": "stdout",
     "output_type": "stream",
     "text": [
      " 0.691412884211"
     ]
    },
    {
     "name": "stdout",
     "output_type": "stream",
     "text": [
      " 0.628022700773"
     ]
    },
    {
     "name": "stdout",
     "output_type": "stream",
     "text": [
      " 0.659370015152"
     ]
    },
    {
     "name": "stdout",
     "output_type": "stream",
     "text": [
      " 0.682888972432"
     ]
    },
    {
     "name": "stdout",
     "output_type": "stream",
     "text": [
      " 0.564624311193"
     ]
    },
    {
     "name": "stdout",
     "output_type": "stream",
     "text": [
      " 0.647154490278"
     ]
    },
    {
     "name": "stdout",
     "output_type": "stream",
     "text": [
      " 0.593093130493"
     ]
    },
    {
     "name": "stdout",
     "output_type": "stream",
     "text": [
      " 0.737794845412"
     ]
    },
    {
     "name": "stdout",
     "output_type": "stream",
     "text": [
      " \n\t\t[0.08641975308641976, 0.06299060055964543, 0.062311601090509594, 0.07659681198310266, 0.0804090762899011, 0.08924713272774484, 0.10134655905221654, 0.10787173791881452, 0.11926575562752559, 0.1278196177704189]\n"
     ]
    },
    {
     "name": "stdout",
     "output_type": "stream",
     "text": [
      "0.66937562505"
     ]
    },
    {
     "name": "stdout",
     "output_type": "stream",
     "text": [
      " 0.666867792414"
     ]
    },
    {
     "name": "stdout",
     "output_type": "stream",
     "text": [
      " 0.712757137645"
     ]
    },
    {
     "name": "stdout",
     "output_type": "stream",
     "text": [
      " 0.691948392333"
     ]
    },
    {
     "name": "stdout",
     "output_type": "stream",
     "text": [
      " 0.6261063766"
     ]
    },
    {
     "name": "stdout",
     "output_type": "stream",
     "text": [
      " 0.649023763163"
     ]
    },
    {
     "name": "stdout",
     "output_type": "stream",
     "text": [
      " 0.75309538711"
     ]
    },
    {
     "name": "stdout",
     "output_type": "stream",
     "text": [
      " 0.565477647772"
     ]
    },
    {
     "name": "stdout",
     "output_type": "stream",
     "text": [
      " 0.603802621451"
     ]
    },
    {
     "name": "stdout",
     "output_type": "stream",
     "text": [
      " 0.639970035099"
     ]
    },
    {
     "name": "stdout",
     "output_type": "stream",
     "text": [
      " \n\t\t[0.08641975308641976, 0.05410865735341835, 0.05484807731641691, 0.0745143850191237, 0.07862083798705674, 0.08583991901380278, 0.09423196125716278, 0.10299418187537933, 0.116707068946393, 0.12368178809475237]\n"
     ]
    },
    {
     "name": "stdout",
     "output_type": "stream",
     "text": [
      "0.71744483818"
     ]
    },
    {
     "name": "stdout",
     "output_type": "stream",
     "text": [
      " 0.53513312363"
     ]
    },
    {
     "name": "stdout",
     "output_type": "stream",
     "text": [
      " 0.601803172799"
     ]
    },
    {
     "name": "stdout",
     "output_type": "stream",
     "text": [
      " 0.668583580956"
     ]
    },
    {
     "name": "stdout",
     "output_type": "stream",
     "text": [
      " 0.61790510831"
     ]
    },
    {
     "name": "stdout",
     "output_type": "stream",
     "text": [
      " 0.689905318755"
     ]
    },
    {
     "name": "stdout",
     "output_type": "stream",
     "text": [
      " 0.674539569747"
     ]
    },
    {
     "name": "stdout",
     "output_type": "stream",
     "text": [
      " 0.655634405458"
     ]
    },
    {
     "name": "stdout",
     "output_type": "stream",
     "text": [
      " 0.690302131258"
     ]
    },
    {
     "name": "stdout",
     "output_type": "stream",
     "text": [
      " 0.653379227441"
     ]
    },
    {
     "name": "stdout",
     "output_type": "stream",
     "text": [
      " \n\t\t[0.08641975308641976, 0.0684365391028458, 0.06858971814446668, 0.0743894292994106, 0.09134109940051205, 0.09382495600749986, 0.10547360089222796, 0.11066762916369317, 0.12731574245846658, 0.13339645757792742]\n"
     ]
    },
    {
     "name": "stdout",
     "output_type": "stream",
     "text": [
      "0.702338229672"
     ]
    },
    {
     "name": "stdout",
     "output_type": "stream",
     "text": [
      " 0.66732949191"
     ]
    },
    {
     "name": "stdout",
     "output_type": "stream",
     "text": [
      " 0.654212963492"
     ]
    },
    {
     "name": "stdout",
     "output_type": "stream",
     "text": [
      " 0.607853747257"
     ]
    },
    {
     "name": "stdout",
     "output_type": "stream",
     "text": [
      " 0.565293489797"
     ]
    },
    {
     "name": "stdout",
     "output_type": "stream",
     "text": [
      " 0.678917300809"
     ]
    },
    {
     "name": "stdout",
     "output_type": "stream",
     "text": [
      " 0.652094395901"
     ]
    },
    {
     "name": "stdout",
     "output_type": "stream",
     "text": [
      " 0.604642464024"
     ]
    },
    {
     "name": "stdout",
     "output_type": "stream",
     "text": [
      " 0.727654838534"
     ]
    },
    {
     "name": "stdout",
     "output_type": "stream",
     "text": [
      " 0.723879096304"
     ]
    },
    {
     "name": "stdout",
     "output_type": "stream",
     "text": [
      " \n\t\t[0.08641975308641976, 0.06299060055964543, 0.062311601090509594, 0.06131799115632596, 0.07712290742708824, 0.08943970655722924, 0.09926169812935043, 0.10400609245755153, 0.11155421420569983, 0.12617671395162783]\n"
     ]
    },
    {
     "name": "stdout",
     "output_type": "stream",
     "text": [
      "0.667328044769"
     ]
    },
    {
     "name": "stdout",
     "output_type": "stream",
     "text": [
      " 0.508373016881"
     ]
    },
    {
     "name": "stdout",
     "output_type": "stream",
     "text": [
      " 0.593122088706"
     ]
    },
    {
     "name": "stdout",
     "output_type": "stream",
     "text": [
      " 0.777022599992"
     ]
    },
    {
     "name": "stdout",
     "output_type": "stream",
     "text": [
      " 0.643185378505"
     ]
    },
    {
     "name": "stdout",
     "output_type": "stream",
     "text": [
      " 0.686836944115"
     ]
    },
    {
     "name": "stdout",
     "output_type": "stream",
     "text": [
      " 0.736046290102"
     ]
    },
    {
     "name": "stdout",
     "output_type": "stream",
     "text": [
      " 0.709047644936"
     ]
    },
    {
     "name": "stdout",
     "output_type": "stream",
     "text": [
      " 0.678488274174"
     ]
    },
    {
     "name": "stdout",
     "output_type": "stream",
     "text": [
      " 0.56844438057"
     ]
    },
    {
     "name": "stdout",
     "output_type": "stream",
     "text": [
      " \n\t\t[0.08641975308641976, 0.06299060055964543, 0.062311601090509594, 0.06811644018715407, 0.07016985485868775, 0.08144001222111934, 0.0941970675853482, 0.09899108345855333, 0.10742716580613977, 0.11498723759595955]\n"
     ]
    },
    {
     "name": "stdout",
     "output_type": "stream",
     "text": [
      "0.656435853211"
     ]
    },
    {
     "name": "stdout",
     "output_type": "stream",
     "text": [
      " 0.666658383261"
     ]
    },
    {
     "name": "stdout",
     "output_type": "stream",
     "text": [
      " 0.704556764218"
     ]
    },
    {
     "name": "stdout",
     "output_type": "stream",
     "text": [
      " 0.599888383127"
     ]
    },
    {
     "name": "stdout",
     "output_type": "stream",
     "text": [
      " 0.620714043972"
     ]
    },
    {
     "name": "stdout",
     "output_type": "stream",
     "text": [
      " 0.582811086531"
     ]
    },
    {
     "name": "stdout",
     "output_type": "stream",
     "text": [
      " 0.655927167429"
     ]
    },
    {
     "name": "stdout",
     "output_type": "stream",
     "text": [
      " 0.647751315595"
     ]
    },
    {
     "name": "stdout",
     "output_type": "stream",
     "text": [
      " 0.599247057657"
     ]
    },
    {
     "name": "stdout",
     "output_type": "stream",
     "text": [
      " 0.608317759205"
     ]
    },
    {
     "name": "stdout",
     "output_type": "stream",
     "text": [
      " \n\t\t[0.08641975308641976, 0.05410865735341835, 0.05484807731641691, 0.0705126058121975, 0.06862694336500666, 0.09063742765454087, 0.10046201867354652, 0.1038978808130347, 0.10633903947904624, 0.11962998700261573]\n"
     ]
    },
    {
     "name": "stdout",
     "output_type": "stream",
     "text": [
      "0.642634265494"
     ]
    },
    {
     "name": "stdout",
     "output_type": "stream",
     "text": [
      " 0.630625989376"
     ]
    },
    {
     "name": "stdout",
     "output_type": "stream",
     "text": [
      " 0.617190987962"
     ]
    },
    {
     "name": "stdout",
     "output_type": "stream",
     "text": [
      " 0.708219785115"
     ]
    },
    {
     "name": "stdout",
     "output_type": "stream",
     "text": [
      " 0.607444238363"
     ]
    },
    {
     "name": "stdout",
     "output_type": "stream",
     "text": [
      " 0.613872455932"
     ]
    },
    {
     "name": "stdout",
     "output_type": "stream",
     "text": [
      " 0.609768742834"
     ]
    },
    {
     "name": "stdout",
     "output_type": "stream",
     "text": [
      " 0.580931708124"
     ]
    },
    {
     "name": "stdout",
     "output_type": "stream",
     "text": [
      " 0.703132115351"
     ]
    },
    {
     "name": "stdout",
     "output_type": "stream",
     "text": [
      " 0.678224951873"
     ]
    },
    {
     "name": "stdout",
     "output_type": "stream",
     "text": [
      " \n\t\t[0.08641975308641976, 0.05410865735341835, 0.05484807731641691, 0.0705126058121975, 0.07624438985508535, 0.07754233827327985, 0.09466651610186885, 0.10783500618287399, 0.11152634099664654, 0.12212227753541359]\n"
     ]
    },
    {
     "name": "stdout",
     "output_type": "stream",
     "text": [
      "0.695898316694"
     ]
    },
    {
     "name": "stdout",
     "output_type": "stream",
     "text": [
      " 0.557039276207"
     ]
    },
    {
     "name": "stdout",
     "output_type": "stream",
     "text": [
      " 0.715129575518"
     ]
    },
    {
     "name": "stdout",
     "output_type": "stream",
     "text": [
      " 0.660384115211"
     ]
    },
    {
     "name": "stdout",
     "output_type": "stream",
     "text": [
      " 0.564391832161"
     ]
    },
    {
     "name": "stdout",
     "output_type": "stream",
     "text": [
      " 0.693538565009"
     ]
    },
    {
     "name": "stdout",
     "output_type": "stream",
     "text": [
      " 0.603585776196"
     ]
    },
    {
     "name": "stdout",
     "output_type": "stream",
     "text": [
      " 0.73666112418"
     ]
    },
    {
     "name": "stdout",
     "output_type": "stream",
     "text": [
      " 0.723107615478"
     ]
    },
    {
     "name": "stdout",
     "output_type": "stream",
     "text": [
      " 0.726307292163"
     ]
    },
    {
     "name": "stdout",
     "output_type": "stream",
     "text": [
      " \n\t\t[0.08641975308641976, 0.05410865735341835, 0.05484807731641691, 0.05923556419234702, 0.07514774886500655, 0.07981955531812843, 0.09688270087981367, 0.10165974625017889, 0.10535133478622762, 0.12869325106487906]\n"
     ]
    },
    {
     "name": "stdout",
     "output_type": "stream",
     "text": [
      "0.611749360168"
     ]
    },
    {
     "name": "stdout",
     "output_type": "stream",
     "text": [
      " 0.607331225576"
     ]
    },
    {
     "name": "stdout",
     "output_type": "stream",
     "text": [
      " 0.672820202909"
     ]
    },
    {
     "name": "stdout",
     "output_type": "stream",
     "text": [
      " 0.689740174943"
     ]
    },
    {
     "name": "stdout",
     "output_type": "stream",
     "text": [
      " 0.603533707817"
     ]
    },
    {
     "name": "stdout",
     "output_type": "stream",
     "text": [
      " 0.549571611455"
     ]
    },
    {
     "name": "stdout",
     "output_type": "stream",
     "text": [
      " 0.610837302062"
     ]
    },
    {
     "name": "stdout",
     "output_type": "stream",
     "text": [
      " 0.688547501777"
     ]
    },
    {
     "name": "stdout",
     "output_type": "stream",
     "text": [
      " 0.530133916213"
     ]
    },
    {
     "name": "stdout",
     "output_type": "stream",
     "text": [
      " 0.626546712924"
     ]
    },
    {
     "name": "stdout",
     "output_type": "stream",
     "text": [
      " \n\t\t[0.08641975308641976, 0.05410865735341835, 0.05484807731641691, 0.07899297760814607, 0.07905308505545737, 0.08191094149457114, 0.09896345029265027, 0.10921474978030338, 0.11435216870540324, 0.13309813921232458]\n"
     ]
    },
    {
     "name": "stdout",
     "output_type": "stream",
     "text": [
      "0.659951455011"
     ]
    },
    {
     "name": "stdout",
     "output_type": "stream",
     "text": [
      " 0.759349246323"
     ]
    },
    {
     "name": "stdout",
     "output_type": "stream",
     "text": [
      " 0.622218750937"
     ]
    },
    {
     "name": "stdout",
     "output_type": "stream",
     "text": [
      " 0.643668387985"
     ]
    },
    {
     "name": "stdout",
     "output_type": "stream",
     "text": [
      " 0.662274451371"
     ]
    },
    {
     "name": "stdout",
     "output_type": "stream",
     "text": [
      " 0.668743864161"
     ]
    },
    {
     "name": "stdout",
     "output_type": "stream",
     "text": [
      " 0.686618596457"
     ]
    },
    {
     "name": "stdout",
     "output_type": "stream",
     "text": [
      " 0.611387442027"
     ]
    },
    {
     "name": "stdout",
     "output_type": "stream",
     "text": [
      " 0.643540624806"
     ]
    },
    {
     "name": "stdout",
     "output_type": "stream",
     "text": [
      " 0.71022326102"
     ]
    },
    {
     "name": "stdout",
     "output_type": "stream",
     "text": [
      " \n\t\t[0.08641975308641976, 0.05410865735341835, 0.06469348408046861, 0.06908097095639872, 0.07932147903348169, 0.08223740645018278, 0.09776130731364885, 0.10253763511279759, 0.11291069334100687, 0.13099159056340126]\n"
     ]
    },
    {
     "name": "stdout",
     "output_type": "stream",
     "text": [
      "0.611075779788"
     ]
    },
    {
     "name": "stdout",
     "output_type": "stream",
     "text": [
      " 0.616326753074"
     ]
    },
    {
     "name": "stdout",
     "output_type": "stream",
     "text": [
      " 0.649196134158"
     ]
    },
    {
     "name": "stdout",
     "output_type": "stream",
     "text": [
      " 0.674881118594"
     ]
    },
    {
     "name": "stdout",
     "output_type": "stream",
     "text": [
      " 0.702582038657"
     ]
    },
    {
     "name": "stdout",
     "output_type": "stream",
     "text": [
      " 0.684253872678"
     ]
    },
    {
     "name": "stdout",
     "output_type": "stream",
     "text": [
      " 0.749198796168"
     ]
    },
    {
     "name": "stdout",
     "output_type": "stream",
     "text": [
      " 0.754307327374"
     ]
    },
    {
     "name": "stdout",
     "output_type": "stream",
     "text": [
      " 0.717335055831"
     ]
    },
    {
     "name": "stdout",
     "output_type": "stream",
     "text": [
      " 0.792342164289"
     ]
    },
    {
     "name": "stdout",
     "output_type": "stream",
     "text": [
      " \n\t\t[0.08641975308641976, 0.0684365391028458, 0.07843512490851838, 0.07575446426751371, 0.08240232313327232, 0.08671905397967576, 0.09977766199622033, 0.10315240901970381, 0.11814062621161592, 0.13561293164602478]\n"
     ]
    },
    {
     "name": "stdout",
     "output_type": "stream",
     "text": [
      "0.694154805955"
     ]
    },
    {
     "name": "stdout",
     "output_type": "stream",
     "text": [
      " 0.79111627455"
     ]
    },
    {
     "name": "stdout",
     "output_type": "stream",
     "text": [
      " 0.632345786018"
     ]
    },
    {
     "name": "stdout",
     "output_type": "stream",
     "text": [
      " 0.613531908574"
     ]
    },
    {
     "name": "stdout",
     "output_type": "stream",
     "text": [
      " 0.695321353167"
     ]
    },
    {
     "name": "stdout",
     "output_type": "stream",
     "text": [
      " 0.652050045641"
     ]
    },
    {
     "name": "stdout",
     "output_type": "stream",
     "text": [
      " 0.713528144121"
     ]
    },
    {
     "name": "stdout",
     "output_type": "stream",
     "text": [
      " 0.671881181924"
     ]
    },
    {
     "name": "stdout",
     "output_type": "stream",
     "text": [
      " 0.707795780831"
     ]
    },
    {
     "name": "stdout",
     "output_type": "stream",
     "text": [
      " 0.705190827896"
     ]
    },
    {
     "name": "stdout",
     "output_type": "stream",
     "text": [
      " \n\t\t[0.08641975308641976, 0.05410865735341835, 0.048933374663828036, 0.06931490004012104, 0.07750483259193504, 0.07711701124677518, 0.08965884894704983, 0.09296340184534423, 0.11276203055954095, 0.12622466547903768]\n"
     ]
    },
    {
     "name": "stdout",
     "output_type": "stream",
     "text": [
      "0.738787708035"
     ]
    },
    {
     "name": "stdout",
     "output_type": "stream",
     "text": [
      " 0.779304344295"
     ]
    },
    {
     "name": "stdout",
     "output_type": "stream",
     "text": [
      " 0.791798243383"
     ]
    },
    {
     "name": "stdout",
     "output_type": "stream",
     "text": [
      " 0.620278835162"
     ]
    },
    {
     "name": "stdout",
     "output_type": "stream",
     "text": [
      " 0.670943618025"
     ]
    },
    {
     "name": "stdout",
     "output_type": "stream",
     "text": [
      " 0.600072966135"
     ]
    },
    {
     "name": "stdout",
     "output_type": "stream",
     "text": [
      " 0.693005009361"
     ]
    },
    {
     "name": "stdout",
     "output_type": "stream",
     "text": [
      " 0.742779158112"
     ]
    },
    {
     "name": "stdout",
     "output_type": "stream",
     "text": [
      " 0.64987755748"
     ]
    },
    {
     "name": "stdout",
     "output_type": "stream",
     "text": [
      " 0.66022222092"
     ]
    },
    {
     "name": "stdout",
     "output_type": "stream",
     "text": [
      " \n\t\t[0.08641975308641976, 0.06299060055964543, 0.07215700785456129, 0.07796184695120578, 0.08196103151724156, 0.08474902053758715, 0.09716032104772022, 0.10041752806651265, 0.11546244062544776, 0.1307866388170022]\n"
     ]
    },
    {
     "name": "stdout",
     "output_type": "stream",
     "text": [
      "0.70391770208"
     ]
    },
    {
     "name": "stdout",
     "output_type": "stream",
     "text": [
      " 0.700356359908"
     ]
    },
    {
     "name": "stdout",
     "output_type": "stream",
     "text": [
      " 0.762812187937"
     ]
    },
    {
     "name": "stdout",
     "output_type": "stream",
     "text": [
      " 0.625302945993"
     ]
    },
    {
     "name": "stdout",
     "output_type": "stream",
     "text": [
      " 0.617516886705"
     ]
    },
    {
     "name": "stdout",
     "output_type": "stream",
     "text": [
      " 0.7472439742"
     ]
    },
    {
     "name": "stdout",
     "output_type": "stream",
     "text": [
      " 0.669935036529"
     ]
    },
    {
     "name": "stdout",
     "output_type": "stream",
     "text": [
      " 0.706535494287"
     ]
    },
    {
     "name": "stdout",
     "output_type": "stream",
     "text": [
      " 0.667729232915"
     ]
    },
    {
     "name": "stdout",
     "output_type": "stream",
     "text": [
      " 0.623595497746"
     ]
    },
    {
     "name": "stdout",
     "output_type": "stream",
     "text": [
      " \n\t\t[0.08641975308641976, 0.05410865735341835, 0.048933374663828036, 0.06083452824417245, 0.0742837043404516, 0.08567879256987886, 0.09556201509704901, 0.10033450673696939, 0.11052983639298482, 0.11799348941395492]\n"
     ]
    },
    {
     "name": "stdout",
     "output_type": "stream",
     "text": [
      "0.607062189942"
     ]
    },
    {
     "name": "stdout",
     "output_type": "stream",
     "text": [
      " 0.78797529016"
     ]
    },
    {
     "name": "stdout",
     "output_type": "stream",
     "text": [
      " 0.668715361674"
     ]
    },
    {
     "name": "stdout",
     "output_type": "stream",
     "text": [
      " 0.671058867313"
     ]
    },
    {
     "name": "stdout",
     "output_type": "stream",
     "text": [
      " 0.675166098614"
     ]
    },
    {
     "name": "stdout",
     "output_type": "stream",
     "text": [
      " 0.664936771143"
     ]
    },
    {
     "name": "stdout",
     "output_type": "stream",
     "text": [
      " 0.56732431533"
     ]
    },
    {
     "name": "stdout",
     "output_type": "stream",
     "text": [
      " 0.677252891457"
     ]
    },
    {
     "name": "stdout",
     "output_type": "stream",
     "text": [
      " 0.643787564147"
     ]
    },
    {
     "name": "stdout",
     "output_type": "stream",
     "text": [
      " 0.754851577367"
     ]
    },
    {
     "name": "stdout",
     "output_type": "stream",
     "text": [
      " \n\t\t[0.08641975308641976, 0.06299060055964543, 0.062311601090509594, 0.06811644018715407, 0.07016985485868775, 0.08126747169538139, 0.0863574395857369, 0.09824087502516025, 0.1020426781206573, 0.11088700610353536]\n"
     ]
    },
    {
     "name": "stdout",
     "output_type": "stream",
     "text": [
      "0.609289954061"
     ]
    },
    {
     "name": "stdout",
     "output_type": "stream",
     "text": [
      " 0.651499116994"
     ]
    },
    {
     "name": "stdout",
     "output_type": "stream",
     "text": [
      " 0.725460139909"
     ]
    },
    {
     "name": "stdout",
     "output_type": "stream",
     "text": [
      " 0.678800452028"
     ]
    },
    {
     "name": "stdout",
     "output_type": "stream",
     "text": [
      " 0.614533412892"
     ]
    },
    {
     "name": "stdout",
     "output_type": "stream",
     "text": [
      " 0.569622923002"
     ]
    },
    {
     "name": "stdout",
     "output_type": "stream",
     "text": [
      " 0.645027878169"
     ]
    },
    {
     "name": "stdout",
     "output_type": "stream",
     "text": [
      " 0.60985773044"
     ]
    },
    {
     "name": "stdout",
     "output_type": "stream",
     "text": [
      " 0.652661011947"
     ]
    },
    {
     "name": "stdout",
     "output_type": "stream",
     "text": [
      " 0.647041659925"
     ]
    },
    {
     "name": "stdout",
     "output_type": "stream",
     "text": [
      " \n\t\t[0.08641975308641976, 0.05410865735341835, 0.05484807731641691, 0.05923556419234702, 0.07473531581389511, 0.08362922933782185, 0.0902038014691583, 0.09545570926196581, 0.10324508023444919, 0.11806653162743083]\n"
     ]
    },
    {
     "name": "stdout",
     "output_type": "stream",
     "text": [
      "0.680518296556"
     ]
    },
    {
     "name": "stdout",
     "output_type": "stream",
     "text": [
      " 0.723606157973"
     ]
    },
    {
     "name": "stdout",
     "output_type": "stream",
     "text": [
      " 0.644291860875"
     ]
    },
    {
     "name": "stdout",
     "output_type": "stream",
     "text": [
      " 0.581878070536"
     ]
    },
    {
     "name": "stdout",
     "output_type": "stream",
     "text": [
      " 0.617177284344"
     ]
    },
    {
     "name": "stdout",
     "output_type": "stream",
     "text": [
      " 0.68172009694"
     ]
    },
    {
     "name": "stdout",
     "output_type": "stream",
     "text": [
      " 0.667691969926"
     ]
    },
    {
     "name": "stdout",
     "output_type": "stream",
     "text": [
      " 0.677922351602"
     ]
    },
    {
     "name": "stdout",
     "output_type": "stream",
     "text": [
      " 0.670903828149"
     ]
    },
    {
     "name": "stdout",
     "output_type": "stream",
     "text": [
      " 0.684270652054"
     ]
    },
    {
     "name": "stdout",
     "output_type": "stream",
     "text": [
      " \n\t\t[0.08641975308641976, 0.05410865735341835, 0.05484807731641691, 0.06603401322317513, 0.07581214278668476, 0.08052244684130404, 0.08842296612875078, 0.10031214237696383, 0.11389567206139893, 0.1246682637695063]\n"
     ]
    },
    {
     "name": "stdout",
     "output_type": "stream",
     "text": [
      "0.784708090828"
     ]
    },
    {
     "name": "stdout",
     "output_type": "stream",
     "text": [
      " 0.725087061443"
     ]
    },
    {
     "name": "stdout",
     "output_type": "stream",
     "text": [
      " 0.545963098612"
     ]
    },
    {
     "name": "stdout",
     "output_type": "stream",
     "text": [
      " 0.592961567137"
     ]
    },
    {
     "name": "stdout",
     "output_type": "stream",
     "text": [
      " 0.700935981599"
     ]
    },
    {
     "name": "stdout",
     "output_type": "stream",
     "text": [
      " 0.579464846769"
     ]
    },
    {
     "name": "stdout",
     "output_type": "stream",
     "text": [
      " 0.641263001385"
     ]
    },
    {
     "name": "stdout",
     "output_type": "stream",
     "text": [
      " 0.721029969838"
     ]
    },
    {
     "name": "stdout",
     "output_type": "stream",
     "text": [
      " 0.636736216362"
     ]
    },
    {
     "name": "stdout",
     "output_type": "stream",
     "text": [
      " 0.611215623994"
     ]
    },
    {
     "name": "stdout",
     "output_type": "stream",
     "text": [
      " \n\t\t[0.08641975308641976, 0.05410865735341835, 0.05484807731641691, 0.05923556419234702, 0.07134595002326727, 0.08625176466243856, 0.09548503637728513, 0.09740407500605694, 0.11113231290927557, 0.12117388323859232]\n"
     ]
    },
    {
     "name": "stdout",
     "output_type": "stream",
     "text": [
      "0.568220452336"
     ]
    },
    {
     "name": "stdout",
     "output_type": "stream",
     "text": [
      " 0.570230948738"
     ]
    },
    {
     "name": "stdout",
     "output_type": "stream",
     "text": [
      " 0.741972834172"
     ]
    },
    {
     "name": "stdout",
     "output_type": "stream",
     "text": [
      " 0.579526622695"
     ]
    },
    {
     "name": "stdout",
     "output_type": "stream",
     "text": [
      " 0.642256927394"
     ]
    },
    {
     "name": "stdout",
     "output_type": "stream",
     "text": [
      " 0.740869451809"
     ]
    },
    {
     "name": "stdout",
     "output_type": "stream",
     "text": [
      " 0.621977809878"
     ]
    },
    {
     "name": "stdout",
     "output_type": "stream",
     "text": [
      " 0.681951551214"
     ]
    },
    {
     "name": "stdout",
     "output_type": "stream",
     "text": [
      " 0.507692663728"
     ]
    },
    {
     "name": "stdout",
     "output_type": "stream",
     "text": [
      " 0.596387103556"
     ]
    },
    {
     "name": "stdout",
     "output_type": "stream",
     "text": [
      " \n\t\t[0.10493827160493828, 0.06818620426882332, 0.06667748262159466, 0.07811490594630095, 0.08968962790613809, 0.09042622538896758, 0.10575083734836709, 0.10758633553487484, 0.11518269349219949, 0.13354514326796205]\n"
     ]
    },
    {
     "name": "stdout",
     "output_type": "stream",
     "text": [
      "0.560005284225"
     ]
    },
    {
     "name": "stdout",
     "output_type": "stream",
     "text": [
      " 0.644595773424"
     ]
    },
    {
     "name": "stdout",
     "output_type": "stream",
     "text": [
      " 0.692288992824"
     ]
    },
    {
     "name": "stdout",
     "output_type": "stream",
     "text": [
      " 0.625890252632"
     ]
    },
    {
     "name": "stdout",
     "output_type": "stream",
     "text": [
      " 0.568859303564"
     ]
    },
    {
     "name": "stdout",
     "output_type": "stream",
     "text": [
      " 0.780885016254"
     ]
    },
    {
     "name": "stdout",
     "output_type": "stream",
     "text": [
      " 0.705031571437"
     ]
    },
    {
     "name": "stdout",
     "output_type": "stream",
     "text": [
      " 0.590656682295"
     ]
    },
    {
     "name": "stdout",
     "output_type": "stream",
     "text": [
      " 0.639055063604"
     ]
    },
    {
     "name": "stdout",
     "output_type": "stream",
     "text": [
      " 0.570072108088"
     ]
    },
    {
     "name": "stdout",
     "output_type": "stream",
     "text": [
      " \n\t\t[0.08641975308641976, 0.05410865735341835, 0.05484807731641691, 0.06771593598829559, 0.07396140499235862, 0.08389923681673979, 0.0973890335454831, 0.10254817424478552, 0.10623853406765262, 0.119682519674587]\n"
     ]
    },
    {
     "name": "stdout",
     "output_type": "stream",
     "text": [
      "0.669215357409"
     ]
    },
    {
     "name": "stdout",
     "output_type": "stream",
     "text": [
      " 0.657731058789"
     ]
    },
    {
     "name": "stdout",
     "output_type": "stream",
     "text": [
      " 0.640874960853"
     ]
    },
    {
     "name": "stdout",
     "output_type": "stream",
     "text": [
      " 0.703089750638"
     ]
    },
    {
     "name": "stdout",
     "output_type": "stream",
     "text": [
      " 0.700547441074"
     ]
    },
    {
     "name": "stdout",
     "output_type": "stream",
     "text": [
      " 0.735977205781"
     ]
    },
    {
     "name": "stdout",
     "output_type": "stream",
     "text": [
      " 0.516031172505"
     ]
    },
    {
     "name": "stdout",
     "output_type": "stream",
     "text": [
      " 0.808442592652"
     ]
    },
    {
     "name": "stdout",
     "output_type": "stream",
     "text": [
      " 0.686737909733"
     ]
    },
    {
     "name": "stdout",
     "output_type": "stream",
     "text": [
      " 0.666338488699"
     ]
    },
    {
     "name": "stdout",
     "output_type": "stream",
     "text": [
      " \n\t\t[0.10493827160493828, 0.06818620426882332, 0.06667748262159466, 0.06963453415035238, 0.08501105495192879, 0.08927472046659554, 0.10418160477240093, 0.1062847276220829, 0.12183742211867793, 0.12563159001135793]\n"
     ]
    },
    {
     "name": "stdout",
     "output_type": "stream",
     "text": [
      "0.695074530887"
     ]
    },
    {
     "name": "stdout",
     "output_type": "stream",
     "text": [
      " 0.786461721326"
     ]
    },
    {
     "name": "stdout",
     "output_type": "stream",
     "text": [
      " 0.626994502632"
     ]
    },
    {
     "name": "stdout",
     "output_type": "stream",
     "text": [
      " 0.763917697144"
     ]
    },
    {
     "name": "stdout",
     "output_type": "stream",
     "text": [
      " 0.641306435132"
     ]
    },
    {
     "name": "stdout",
     "output_type": "stream",
     "text": [
      " 0.599191317125"
     ]
    },
    {
     "name": "stdout",
     "output_type": "stream",
     "text": [
      " 0.705296750978"
     ]
    },
    {
     "name": "stdout",
     "output_type": "stream",
     "text": [
      " 0.682857589491"
     ]
    },
    {
     "name": "stdout",
     "output_type": "stream",
     "text": [
      " 0.644653486469"
     ]
    },
    {
     "name": "stdout",
     "output_type": "stream",
     "text": [
      " 0.653633416613"
     ]
    },
    {
     "name": "stdout",
     "output_type": "stream",
     "text": [
      " \n\t\t[0.08641975308641976, 0.06299060055964543, 0.06822630374309846, 0.08179629696210533, 0.07976623204975804, 0.08715314926442241, 0.10140809567909116, 0.10750855811162241, 0.1137804145197683, 0.12704379683887015]\n"
     ]
    },
    {
     "name": "stdout",
     "output_type": "stream",
     "text": [
      "0.729583348702"
     ]
    },
    {
     "name": "stdout",
     "output_type": "stream",
     "text": [
      " 0.666018190004"
     ]
    },
    {
     "name": "stdout",
     "output_type": "stream",
     "text": [
      " 0.702398266003"
     ]
    },
    {
     "name": "stdout",
     "output_type": "stream",
     "text": [
      " 0.636491446601"
     ]
    },
    {
     "name": "stdout",
     "output_type": "stream",
     "text": [
      " 0.606298633109"
     ]
    },
    {
     "name": "stdout",
     "output_type": "stream",
     "text": [
      " 0.721930972109"
     ]
    },
    {
     "name": "stdout",
     "output_type": "stream",
     "text": [
      " 0.708565425077"
     ]
    },
    {
     "name": "stdout",
     "output_type": "stream",
     "text": [
      " 0.666683548777"
     ]
    },
    {
     "name": "stdout",
     "output_type": "stream",
     "text": [
      " 0.752775689941"
     ]
    },
    {
     "name": "stdout",
     "output_type": "stream",
     "text": [
      " 0.707271620268"
     ]
    },
    {
     "name": "stdout",
     "output_type": "stream",
     "text": [
      " \n\t\t[0.08641975308641976, 0.06299060055964543, 0.062311601090509594, 0.06579658374534833, 0.06407279117855293, 0.08033613203885848, 0.09494586706288481, 0.09973881117464599, 0.10613541418475705, 0.11230721512313747]\n"
     ]
    },
    {
     "name": "stdout",
     "output_type": "stream",
     "text": [
      "0.706638590935"
     ]
    },
    {
     "name": "stdout",
     "output_type": "stream",
     "text": [
      " 0.675091897283"
     ]
    },
    {
     "name": "stdout",
     "output_type": "stream",
     "text": [
      " 0.548887426745"
     ]
    },
    {
     "name": "stdout",
     "output_type": "stream",
     "text": [
      " 0.732021099585"
     ]
    },
    {
     "name": "stdout",
     "output_type": "stream",
     "text": [
      " 0.595637352948"
     ]
    },
    {
     "name": "stdout",
     "output_type": "stream",
     "text": [
      " 0.745254331158"
     ]
    },
    {
     "name": "stdout",
     "output_type": "stream",
     "text": [
      " 0.76409113997"
     ]
    },
    {
     "name": "stdout",
     "output_type": "stream",
     "text": [
      " 0.641540088651"
     ]
    },
    {
     "name": "stdout",
     "output_type": "stream",
     "text": [
      " 0.656400295232"
     ]
    },
    {
     "name": "stdout",
     "output_type": "stream",
     "text": [
      " 0.651183136612"
     ]
    },
    {
     "name": "stdout",
     "output_type": "stream",
     "text": [
      " \n\t\t[0.10493827160493828, 0.06818620426882332, 0.060762779969005774, 0.06443504917134969, 0.07627760306672839, 0.08875656365151173, 0.10256822547488402, 0.10614073011366641, 0.11311051095953367, 0.1233207695697642]\n"
     ]
    },
    {
     "name": "stdout",
     "output_type": "stream",
     "text": [
      "0.722936579861"
     ]
    },
    {
     "name": "stdout",
     "output_type": "stream",
     "text": [
      " 0.780841440583"
     ]
    },
    {
     "name": "stdout",
     "output_type": "stream",
     "text": [
      " 0.655252949065"
     ]
    },
    {
     "name": "stdout",
     "output_type": "stream",
     "text": [
      " 0.65811272774"
     ]
    },
    {
     "name": "stdout",
     "output_type": "stream",
     "text": [
      " 0.690764577651"
     ]
    },
    {
     "name": "stdout",
     "output_type": "stream",
     "text": [
      " 0.665648432798"
     ]
    },
    {
     "name": "stdout",
     "output_type": "stream",
     "text": [
      " 0.615432654687"
     ]
    },
    {
     "name": "stdout",
     "output_type": "stream",
     "text": [
      " 0.692391525859"
     ]
    },
    {
     "name": "stdout",
     "output_type": "stream",
     "text": [
      " 0.616022503689"
     ]
    },
    {
     "name": "stdout",
     "output_type": "stream",
     "text": [
      " 0.692365176008"
     ]
    },
    {
     "name": "stdout",
     "output_type": "stream",
     "text": [
      " \n\t\t[0.10493827160493828, 0.06818620426882332, 0.060762779969005774, 0.06443504917134969, 0.08389504955680707, 0.09156353562728779, 0.09461054495507971, 0.10787345916285346, 0.12009430486849076, 0.12588809857330535]\n"
     ]
    },
    {
     "name": "stdout",
     "output_type": "stream",
     "text": [
      "0.73036207351"
     ]
    },
    {
     "name": "stdout",
     "output_type": "stream",
     "text": [
      " 0.681934315786"
     ]
    },
    {
     "name": "stdout",
     "output_type": "stream",
     "text": [
      " 0.748430326929"
     ]
    },
    {
     "name": "stdout",
     "output_type": "stream",
     "text": [
      " 0.611265919537"
     ]
    },
    {
     "name": "stdout",
     "output_type": "stream",
     "text": [
      " 0.674049814834"
     ]
    },
    {
     "name": "stdout",
     "output_type": "stream",
     "text": [
      " 0.598327829918"
     ]
    },
    {
     "name": "stdout",
     "output_type": "stream",
     "text": [
      " 0.804400586169"
     ]
    },
    {
     "name": "stdout",
     "output_type": "stream",
     "text": [
      " 0.621639067375"
     ]
    },
    {
     "name": "stdout",
     "output_type": "stream",
     "text": [
      " 0.688622839167"
     ]
    },
    {
     "name": "stdout",
     "output_type": "stream",
     "text": [
      " 0.694355530124"
     ]
    },
    {
     "name": "stdout",
     "output_type": "stream",
     "text": [
      " \n\t\t[0.10493827160493828, 0.07706814747505042, 0.06822630374309846, 0.07099606872435099, 0.08013268454809667, 0.0918831199065706, 0.09904269923591681, 0.10908574155876824, 0.11198794423439086, 0.1345581507344498]\n"
     ]
    },
    {
     "name": "stdout",
     "output_type": "stream",
     "text": [
      "0.67835627108"
     ]
    },
    {
     "name": "stdout",
     "output_type": "stream",
     "text": [
      " 0.640932477025"
     ]
    },
    {
     "name": "stdout",
     "output_type": "stream",
     "text": [
      " 0.686041922656"
     ]
    },
    {
     "name": "stdout",
     "output_type": "stream",
     "text": [
      " 0.683711507078"
     ]
    },
    {
     "name": "stdout",
     "output_type": "stream",
     "text": [
      " 0.674885551275"
     ]
    },
    {
     "name": "stdout",
     "output_type": "stream",
     "text": [
      " 0.757578117648"
     ]
    },
    {
     "name": "stdout",
     "output_type": "stream",
     "text": [
      " 0.687460745235"
     ]
    },
    {
     "name": "stdout",
     "output_type": "stream",
     "text": [
      " 0.800389300856"
     ]
    },
    {
     "name": "stdout",
     "output_type": "stream",
     "text": [
      " 0.70688268164"
     ]
    },
    {
     "name": "stdout",
     "output_type": "stream",
     "text": [
      " 0.655228685027"
     ]
    },
    {
     "name": "stdout",
     "output_type": "stream",
     "text": [
      " \n\t\t[0.10493827160493828, 0.07706814747505042, 0.06822630374309846, 0.06651747613532864, 0.08205456047054936, 0.09100042912568566, 0.10290594822051767, 0.11323559279420886, 0.12295436213833122, 0.13431918449909352]\n"
     ]
    },
    {
     "name": "stdout",
     "output_type": "stream",
     "text": [
      "0.631275994789"
     ]
    },
    {
     "name": "stdout",
     "output_type": "stream",
     "text": [
      " 0.628243045098"
     ]
    },
    {
     "name": "stdout",
     "output_type": "stream",
     "text": [
      " 0.693960542728"
     ]
    },
    {
     "name": "stdout",
     "output_type": "stream",
     "text": [
      " 0.597446855953"
     ]
    },
    {
     "name": "stdout",
     "output_type": "stream",
     "text": [
      " 0.693520748463"
     ]
    },
    {
     "name": "stdout",
     "output_type": "stream",
     "text": [
      " 0.528566952096"
     ]
    },
    {
     "name": "stdout",
     "output_type": "stream",
     "text": [
      " 0.648436986479"
     ]
    },
    {
     "name": "stdout",
     "output_type": "stream",
     "text": [
      " 0.645656156167"
     ]
    },
    {
     "name": "stdout",
     "output_type": "stream",
     "text": [
      " 0.618885300076"
     ]
    },
    {
     "name": "stdout",
     "output_type": "stream",
     "text": [
      " 0.640072150914"
     ]
    },
    {
     "name": "stdout",
     "output_type": "stream",
     "text": [
      " \n\t\t[0.08641975308641976, 0.06299060055964543, 0.062311601090509594, 0.06579658374534833, 0.08137080214382825, 0.08579930865449976, 0.09966513365026769, 0.10427394603567584, 0.12441812304109895, 0.13337198163971717]\n"
     ]
    },
    {
     "name": "stdout",
     "output_type": "stream",
     "text": [
      "0.838457588324"
     ]
    },
    {
     "name": "stdout",
     "output_type": "stream",
     "text": [
      " 0.689264320447"
     ]
    },
    {
     "name": "stdout",
     "output_type": "stream",
     "text": [
      " 0.695335985783"
     ]
    },
    {
     "name": "stdout",
     "output_type": "stream",
     "text": [
      " 0.631960137598"
     ]
    },
    {
     "name": "stdout",
     "output_type": "stream",
     "text": [
      " 0.539959370137"
     ]
    },
    {
     "name": "stdout",
     "output_type": "stream",
     "text": [
      " 0.589429587486"
     ]
    },
    {
     "name": "stdout",
     "output_type": "stream",
     "text": [
      " 0.631891659913"
     ]
    },
    {
     "name": "stdout",
     "output_type": "stream",
     "text": [
      " 0.645757475616"
     ]
    },
    {
     "name": "stdout",
     "output_type": "stream",
     "text": [
      " 0.72120660324"
     ]
    },
    {
     "name": "stdout",
     "output_type": "stream",
     "text": [
      " 0.699476966623"
     ]
    },
    {
     "name": "stdout",
     "output_type": "stream",
     "text": [
      " \n\t\t[0.10493827160493828, 0.07706814747505042, 0.06822630374309846, 0.07099606872435099, 0.08630245518728939, 0.08994197367832889, 0.10074323649428658, 0.10285843419743061, 0.12643911305196298, 0.13087380877538446]\n"
     ]
    },
    {
     "name": "stdout",
     "output_type": "stream",
     "text": [
      "0.575339479542"
     ]
    },
    {
     "name": "stdout",
     "output_type": "stream",
     "text": [
      " 0.63986642058"
     ]
    },
    {
     "name": "stdout",
     "output_type": "stream",
     "text": [
      " 0.807137889528"
     ]
    },
    {
     "name": "stdout",
     "output_type": "stream",
     "text": [
      " 0.680836661268"
     ]
    },
    {
     "name": "stdout",
     "output_type": "stream",
     "text": [
      " 0.792172798285"
     ]
    },
    {
     "name": "stdout",
     "output_type": "stream",
     "text": [
      " 0.570786195382"
     ]
    },
    {
     "name": "stdout",
     "output_type": "stream",
     "text": [
      " 0.690692123778"
     ]
    },
    {
     "name": "stdout",
     "output_type": "stream",
     "text": [
      " 0.608518647695"
     ]
    },
    {
     "name": "stdout",
     "output_type": "stream",
     "text": [
      " 0.680205569275"
     ]
    },
    {
     "name": "stdout",
     "output_type": "stream",
     "text": [
      " 0.742035394685"
     ]
    },
    {
     "name": "stdout",
     "output_type": "stream",
     "text": [
      " \n\t\t[0.08641975308641976, 0.06299060055964543, 0.062311601090509594, 0.06131799115632596, 0.07300240596641336, 0.07854599601406564, 0.08592854423004491, 0.09887215057187598, 0.10488341723938313, 0.11740071764732761]\n"
     ]
    },
    {
     "name": "stdout",
     "output_type": "stream",
     "text": [
      "0.627916182495"
     ]
    },
    {
     "name": "stdout",
     "output_type": "stream",
     "text": [
      " 0.578957037048"
     ]
    },
    {
     "name": "stdout",
     "output_type": "stream",
     "text": [
      " 0.759839138324"
     ]
    },
    {
     "name": "stdout",
     "output_type": "stream",
     "text": [
      " 0.641184184938"
     ]
    },
    {
     "name": "stdout",
     "output_type": "stream",
     "text": [
      " 0.715705436745"
     ]
    },
    {
     "name": "stdout",
     "output_type": "stream",
     "text": [
      " 0.754598795231"
     ]
    },
    {
     "name": "stdout",
     "output_type": "stream",
     "text": [
      " 0.660922068579"
     ]
    },
    {
     "name": "stdout",
     "output_type": "stream",
     "text": [
      " 0.633957928069"
     ]
    },
    {
     "name": "stdout",
     "output_type": "stream",
     "text": [
      " 0.631712886057"
     ]
    },
    {
     "name": "stdout",
     "output_type": "stream",
     "text": [
      " 0.579783200035"
     ]
    },
    {
     "name": "stdout",
     "output_type": "stream",
     "text": [
      " \n\t\t[0.10493827160493828, 0.07706814747505042, 0.06822630374309846, 0.07099606872435099, 0.0859976013749539, 0.08874919724612879, 0.09729631477875339, 0.1037856746119922, 0.11586126037302646, 0.13196120461818678]\n"
     ]
    },
    {
     "name": "stdout",
     "output_type": "stream",
     "text": [
      "0.655046145292"
     ]
    },
    {
     "name": "stdout",
     "output_type": "stream",
     "text": [
      " 0.691571214445"
     ]
    },
    {
     "name": "stdout",
     "output_type": "stream",
     "text": [
      " 0.643041968442"
     ]
    },
    {
     "name": "stdout",
     "output_type": "stream",
     "text": [
      " 0.785742747363"
     ]
    },
    {
     "name": "stdout",
     "output_type": "stream",
     "text": [
      " 0.800323228941"
     ]
    },
    {
     "name": "stdout",
     "output_type": "stream",
     "text": [
      " 0.68869997822"
     ]
    },
    {
     "name": "stdout",
     "output_type": "stream",
     "text": [
      " 0.822823036925"
     ]
    },
    {
     "name": "stdout",
     "output_type": "stream",
     "text": [
      " 0.626526013731"
     ]
    },
    {
     "name": "stdout",
     "output_type": "stream",
     "text": [
      " 0.588738672575"
     ]
    },
    {
     "name": "stdout",
     "output_type": "stream",
     "text": [
      " 0.728338461398"
     ]
    },
    {
     "name": "stdout",
     "output_type": "stream",
     "text": [
      " \n\t\t[0.10493827160493828, 0.07706814747505042, 0.06822630374309846, 0.07099606872435099, 0.0859976013749539, 0.08806891037346923, 0.10007056135173287, 0.10653134868160875, 0.12190385676306176, 0.12622191852683806]\n"
     ]
    },
    {
     "name": "stdout",
     "output_type": "stream",
     "text": [
      "0.59479133926"
     ]
    },
    {
     "name": "stdout",
     "output_type": "stream",
     "text": [
      " 0.579439561785"
     ]
    },
    {
     "name": "stdout",
     "output_type": "stream",
     "text": [
      " 0.604404786195"
     ]
    },
    {
     "name": "stdout",
     "output_type": "stream",
     "text": [
      " 0.570047280903"
     ]
    },
    {
     "name": "stdout",
     "output_type": "stream",
     "text": [
      " 0.642787684826"
     ]
    },
    {
     "name": "stdout",
     "output_type": "stream",
     "text": [
      " 0.604024875058"
     ]
    },
    {
     "name": "stdout",
     "output_type": "stream",
     "text": [
      " 0.697820472487"
     ]
    },
    {
     "name": "stdout",
     "output_type": "stream",
     "text": [
      " 0.700032872723"
     ]
    },
    {
     "name": "stdout",
     "output_type": "stream",
     "text": [
      " 0.634471078294"
     ]
    },
    {
     "name": "stdout",
     "output_type": "stream",
     "text": [
      " 0.612387029324"
     ]
    },
    {
     "name": "stdout",
     "output_type": "stream",
     "text": [
      " \n\t\t[0.10493827160493828, 0.07706814747505042, 0.06822630374309846, 0.07099606872435099, 0.0859976013749539, 0.09003343038971946, 0.09491214974016893, 0.10634314605037917, 0.12284517729467537, 0.13168814788261712]\n"
     ]
    },
    {
     "name": "stdout",
     "output_type": "stream",
     "text": [
      "0.513745695794"
     ]
    },
    {
     "name": "stdout",
     "output_type": "stream",
     "text": [
      " 0.594097026144"
     ]
    },
    {
     "name": "stdout",
     "output_type": "stream",
     "text": [
      " 0.694767303311"
     ]
    },
    {
     "name": "stdout",
     "output_type": "stream",
     "text": [
      " 0.736858898605"
     ]
    },
    {
     "name": "stdout",
     "output_type": "stream",
     "text": [
      " 0.69748291476"
     ]
    },
    {
     "name": "stdout",
     "output_type": "stream",
     "text": [
      " 0.610512916338"
     ]
    },
    {
     "name": "stdout",
     "output_type": "stream",
     "text": [
      " 0.801087739734"
     ]
    },
    {
     "name": "stdout",
     "output_type": "stream",
     "text": [
      " 0.771127345725"
     ]
    },
    {
     "name": "stdout",
     "output_type": "stream",
     "text": [
      " 0.616415183357"
     ]
    },
    {
     "name": "stdout",
     "output_type": "stream",
     "text": [
      " 0.553329061209"
     ]
    },
    {
     "name": "stdout",
     "output_type": "stream",
     "text": [
      " \n\t\t[0.1234567901234568, 0.085699755847255, 0.07377759199431912, 0.0768039723352203, 0.09120648201783083, 0.09787396664866332, 0.10067289047495882, 0.11420114251002521, 0.12833834924974383, 0.13512127889525827]\n"
     ]
    },
    {
     "name": "stdout",
     "output_type": "stream",
     "text": [
      "0.574397890114"
     ]
    },
    {
     "name": "stdout",
     "output_type": "stream",
     "text": [
      " 0.611630477144"
     ]
    },
    {
     "name": "stdout",
     "output_type": "stream",
     "text": [
      " 0.672527970319"
     ]
    },
    {
     "name": "stdout",
     "output_type": "stream",
     "text": [
      " 0.768864194833"
     ]
    },
    {
     "name": "stdout",
     "output_type": "stream",
     "text": [
      " 0.599951768412"
     ]
    },
    {
     "name": "stdout",
     "output_type": "stream",
     "text": [
      " 0.700570382385"
     ]
    },
    {
     "name": "stdout",
     "output_type": "stream",
     "text": [
      " 0.605142844667"
     ]
    },
    {
     "name": "stdout",
     "output_type": "stream",
     "text": [
      " 0.628161408384"
     ]
    },
    {
     "name": "stdout",
     "output_type": "stream",
     "text": [
      " 0.734155384588"
     ]
    },
    {
     "name": "stdout",
     "output_type": "stream",
     "text": [
      " 0.680520231179"
     ]
    },
    {
     "name": "stdout",
     "output_type": "stream",
     "text": [
      " \n\t\t[0.08641975308641976, 0.07187254376587253, 0.06977512486460229, 0.06787901070932725, 0.07953031305757052, 0.08400366454488631, 0.08916761174602464, 0.10205110025211889, 0.11239091533228776, 0.12626343929548595]\n"
     ]
    },
    {
     "name": "stdout",
     "output_type": "stream",
     "text": [
      "0.707917262165"
     ]
    },
    {
     "name": "stdout",
     "output_type": "stream",
     "text": [
      " 0.553910829988"
     ]
    },
    {
     "name": "stdout",
     "output_type": "stream",
     "text": [
      " 0.704372387789"
     ]
    },
    {
     "name": "stdout",
     "output_type": "stream",
     "text": [
      " 0.659193400262"
     ]
    },
    {
     "name": "stdout",
     "output_type": "stream",
     "text": [
      " 0.713521260528"
     ]
    },
    {
     "name": "stdout",
     "output_type": "stream",
     "text": [
      " 0.590430689788"
     ]
    },
    {
     "name": "stdout",
     "output_type": "stream",
     "text": [
      " 0.652048271458"
     ]
    },
    {
     "name": "stdout",
     "output_type": "stream",
     "text": [
      " 0.640138712692"
     ]
    },
    {
     "name": "stdout",
     "output_type": "stream",
     "text": [
      " 0.656193056317"
     ]
    },
    {
     "name": "stdout",
     "output_type": "stream",
     "text": [
      " 0.689145359091"
     ]
    },
    {
     "name": "stdout",
     "output_type": "stream",
     "text": [
      " \n\t\t[0.10493827160493828, 0.07706814747505042, 0.07414100639568734, 0.07619555370335368, 0.08858611456526931, 0.09389151578341384, 0.09582099767996663, 0.1104938599075842, 0.12950367309365188, 0.1346027215165536]\n"
     ]
    },
    {
     "name": "stdout",
     "output_type": "stream",
     "text": [
      "0.589861908354"
     ]
    },
    {
     "name": "stdout",
     "output_type": "stream",
     "text": [
      " 0.61854168948"
     ]
    },
    {
     "name": "stdout",
     "output_type": "stream",
     "text": [
      " 0.75801012592"
     ]
    },
    {
     "name": "stdout",
     "output_type": "stream",
     "text": [
      " 0.75755095184"
     ]
    },
    {
     "name": "stdout",
     "output_type": "stream",
     "text": [
      " 0.625519331789"
     ]
    },
    {
     "name": "stdout",
     "output_type": "stream",
     "text": [
      " 0.66926052299"
     ]
    },
    {
     "name": "stdout",
     "output_type": "stream",
     "text": [
      " 0.743730889829"
     ]
    },
    {
     "name": "stdout",
     "output_type": "stream",
     "text": [
      " 0.696638688991"
     ]
    },
    {
     "name": "stdout",
     "output_type": "stream",
     "text": [
      " 0.619095609606"
     ]
    },
    {
     "name": "stdout",
     "output_type": "stream",
     "text": [
      " 0.707861990665"
     ]
    },
    {
     "name": "stdout",
     "output_type": "stream",
     "text": [
      " \n\t\t[0.08641975308641976, 0.07187254376587253, 0.0638604222120134, 0.06267952573032459, 0.07958196164530704, 0.08414434663109674, 0.09044327877277798, 0.10229624477642875, 0.11449594429640937, 0.12357939310748277]\n"
     ]
    },
    {
     "name": "stdout",
     "output_type": "stream",
     "text": [
      "0.698014730559"
     ]
    },
    {
     "name": "stdout",
     "output_type": "stream",
     "text": [
      " 0.667389728424"
     ]
    },
    {
     "name": "stdout",
     "output_type": "stream",
     "text": [
      " 0.731522652013"
     ]
    },
    {
     "name": "stdout",
     "output_type": "stream",
     "text": [
      " 0.598569960208"
     ]
    },
    {
     "name": "stdout",
     "output_type": "stream",
     "text": [
      " 0.603173731367"
     ]
    },
    {
     "name": "stdout",
     "output_type": "stream",
     "text": [
      " 0.616947770503"
     ]
    },
    {
     "name": "stdout",
     "output_type": "stream",
     "text": [
      " 0.731242115158"
     ]
    },
    {
     "name": "stdout",
     "output_type": "stream",
     "text": [
      " 0.655961453378"
     ]
    },
    {
     "name": "stdout",
     "output_type": "stream",
     "text": [
      " 0.606769111345"
     ]
    },
    {
     "name": "stdout",
     "output_type": "stream",
     "text": [
      " 0.662637476768"
     ]
    },
    {
     "name": "stdout",
     "output_type": "stream",
     "text": [
      " \n\t\t[0.08641975308641976, 0.07187254376587253, 0.0638604222120134, 0.06267952573032459, 0.07049200736003465, 0.08313158102662029, 0.0850880139262555, 0.08599022200231428, 0.10732547813280847, 0.1143604541534199]\n"
     ]
    },
    {
     "name": "stdout",
     "output_type": "stream",
     "text": [
      "0.645627112354"
     ]
    },
    {
     "name": "stdout",
     "output_type": "stream",
     "text": [
      " 0.618838506289"
     ]
    },
    {
     "name": "stdout",
     "output_type": "stream",
     "text": [
      " 0.665915624695"
     ]
    },
    {
     "name": "stdout",
     "output_type": "stream",
     "text": [
      " 0.752467050913"
     ]
    },
    {
     "name": "stdout",
     "output_type": "stream",
     "text": [
      " 0.680998420565"
     ]
    },
    {
     "name": "stdout",
     "output_type": "stream",
     "text": [
      " 0.630646134732"
     ]
    },
    {
     "name": "stdout",
     "output_type": "stream",
     "text": [
      " 0.657998824698"
     ]
    },
    {
     "name": "stdout",
     "output_type": "stream",
     "text": [
      " 0.624881523278"
     ]
    },
    {
     "name": "stdout",
     "output_type": "stream",
     "text": [
      " 0.671118747156"
     ]
    },
    {
     "name": "stdout",
     "output_type": "stream",
     "text": [
      " 0.673887125772"
     ]
    },
    {
     "name": "stdout",
     "output_type": "stream",
     "text": [
      " \n\t\t[0.08641975308641976, 0.07187254376587253, 0.06977512486460229, 0.07235760329834963, 0.07997640893257127, 0.09059987147622744, 0.0943692600071211, 0.10321532775285104, 0.10933117328892618, 0.11515051879107387]\n"
     ]
    },
    {
     "name": "stdout",
     "output_type": "stream",
     "text": [
      "0.581198630302"
     ]
    },
    {
     "name": "stdout",
     "output_type": "stream",
     "text": [
      " 0.584003223453"
     ]
    },
    {
     "name": "stdout",
     "output_type": "stream",
     "text": [
      " 0.67742945076"
     ]
    },
    {
     "name": "stdout",
     "output_type": "stream",
     "text": [
      " 0.636692478088"
     ]
    },
    {
     "name": "stdout",
     "output_type": "stream",
     "text": [
      " 0.768336021784"
     ]
    },
    {
     "name": "stdout",
     "output_type": "stream",
     "text": [
      " 0.583792056377"
     ]
    },
    {
     "name": "stdout",
     "output_type": "stream",
     "text": [
      " 0.54793569964"
     ]
    },
    {
     "name": "stdout",
     "output_type": "stream",
     "text": [
      " 0.679509081339"
     ]
    },
    {
     "name": "stdout",
     "output_type": "stream",
     "text": [
      " 0.648768301954"
     ]
    },
    {
     "name": "stdout",
     "output_type": "stream",
     "text": [
      " 0.560457007385"
     ]
    },
    {
     "name": "stdout",
     "output_type": "stream",
     "text": [
      " \n\t\t[0.10493827160493828, 0.07706814747505042, 0.06822630374309846, 0.07099606872435099, 0.08589002213617795, 0.0900952093768732, 0.0951247232562433, 0.1052136876831579, 0.11023469063743446, 0.12550420609536425]\n"
     ]
    },
    {
     "name": "stdout",
     "output_type": "stream",
     "text": [
      "0.633829112951"
     ]
    },
    {
     "name": "stdout",
     "output_type": "stream",
     "text": [
      " 0.70930236205"
     ]
    },
    {
     "name": "stdout",
     "output_type": "stream",
     "text": [
      " 0.734400952832"
     ]
    },
    {
     "name": "stdout",
     "output_type": "stream",
     "text": [
      " 0.711130615639"
     ]
    },
    {
     "name": "stdout",
     "output_type": "stream",
     "text": [
      " 0.624154723459"
     ]
    },
    {
     "name": "stdout",
     "output_type": "stream",
     "text": [
      " 0.706081168672"
     ]
    },
    {
     "name": "stdout",
     "output_type": "stream",
     "text": [
      " 0.610296723244"
     ]
    },
    {
     "name": "stdout",
     "output_type": "stream",
     "text": [
      " 0.710331632384"
     ]
    },
    {
     "name": "stdout",
     "output_type": "stream",
     "text": [
      " 0.660589997379"
     ]
    },
    {
     "name": "stdout",
     "output_type": "stream",
     "text": [
      " 0.683199388002"
     ]
    },
    {
     "name": "stdout",
     "output_type": "stream",
     "text": [
      " \n\t\t[0.10493827160493828, 0.07706814747505042, 0.06822630374309846, 0.07099606872435099, 0.08630245518728939, 0.09050764242798462, 0.09553715630735474, 0.10693177348319916, 0.1236846503335266, 0.12680011522213985]\n"
     ]
    },
    {
     "name": "stdout",
     "output_type": "stream",
     "text": [
      "0.806163192632"
     ]
    },
    {
     "name": "stdout",
     "output_type": "stream",
     "text": [
      " 0.680258370791"
     ]
    },
    {
     "name": "stdout",
     "output_type": "stream",
     "text": [
      " 0.5501410102"
     ]
    },
    {
     "name": "stdout",
     "output_type": "stream",
     "text": [
      " 0.712123514278"
     ]
    },
    {
     "name": "stdout",
     "output_type": "stream",
     "text": [
      " 0.604303207391"
     ]
    },
    {
     "name": "stdout",
     "output_type": "stream",
     "text": [
      " 0.623580083829"
     ]
    },
    {
     "name": "stdout",
     "output_type": "stream",
     "text": [
      " 0.66915022041"
     ]
    },
    {
     "name": "stdout",
     "output_type": "stream",
     "text": [
      " 0.574934987866"
     ]
    },
    {
     "name": "stdout",
     "output_type": "stream",
     "text": [
      " 0.624732287218"
     ]
    },
    {
     "name": "stdout",
     "output_type": "stream",
     "text": [
      " 0.636219043558"
     ]
    },
    {
     "name": "stdout",
     "output_type": "stream",
     "text": [
      " \n\t\t[0.06790123456790123, 0.0686868739368683, 0.06732657614861369, 0.07018735505243615, 0.07767164285695019, 0.0879823911266814, 0.09052180042572788, 0.10046744455637577, 0.11129580881554889, 0.11573253692500662]\n"
     ]
    },
    {
     "name": "stdout",
     "output_type": "stream",
     "text": [
      "0.525310861851"
     ]
    },
    {
     "name": "stdout",
     "output_type": "stream",
     "text": [
      " 0.554997196084"
     ]
    },
    {
     "name": "stdout",
     "output_type": "stream",
     "text": [
      " 0.706983190635"
     ]
    },
    {
     "name": "stdout",
     "output_type": "stream",
     "text": [
      " 0.683099322437"
     ]
    },
    {
     "name": "stdout",
     "output_type": "stream",
     "text": [
      " 0.812997848468"
     ]
    },
    {
     "name": "stdout",
     "output_type": "stream",
     "text": [
      " 0.591028088701"
     ]
    },
    {
     "name": "stdout",
     "output_type": "stream",
     "text": [
      " 0.73704953673"
     ]
    },
    {
     "name": "stdout",
     "output_type": "stream",
     "text": [
      " 0.733751339916"
     ]
    },
    {
     "name": "stdout",
     "output_type": "stream",
     "text": [
      " 0.663530822433"
     ]
    },
    {
     "name": "stdout",
     "output_type": "stream",
     "text": [
      " 0.720608727912"
     ]
    },
    {
     "name": "stdout",
     "output_type": "stream",
     "text": [
      " \n\t\t[0.1234567901234568, 0.085699755847255, 0.0824679387725183, 0.08403323252025921, 0.09865488054279305, 0.10201351281149537, 0.11151457527805439, 0.12348129269217392, 0.13430647526521278, 0.13742185918548105]\n"
     ]
    },
    {
     "name": "stdout",
     "output_type": "stream",
     "text": [
      "0.681785722591"
     ]
    },
    {
     "name": "stdout",
     "output_type": "stream",
     "text": [
      " 0.589826783573"
     ]
    },
    {
     "name": "stdout",
     "output_type": "stream",
     "text": [
      " 0.600537082939"
     ]
    },
    {
     "name": "stdout",
     "output_type": "stream",
     "text": [
      " 0.625736891487"
     ]
    },
    {
     "name": "stdout",
     "output_type": "stream",
     "text": [
      " 0.599615783819"
     ]
    },
    {
     "name": "stdout",
     "output_type": "stream",
     "text": [
      " 0.612817917846"
     ]
    },
    {
     "name": "stdout",
     "output_type": "stream",
     "text": [
      " 0.640189775373"
     ]
    },
    {
     "name": "stdout",
     "output_type": "stream",
     "text": [
      " 0.641354791346"
     ]
    },
    {
     "name": "stdout",
     "output_type": "stream",
     "text": [
      " 0.623539809464"
     ]
    },
    {
     "name": "stdout",
     "output_type": "stream",
     "text": [
      " 0.683429125013"
     ]
    },
    {
     "name": "stdout",
     "output_type": "stream",
     "text": [
      " \n\t\t[0.08641975308641976, 0.07731848230907289, 0.06736289514036017, 0.07146776265924357, 0.08657041014601273, 0.0905509151907694, 0.09241631285474845, 0.1012577531779341, 0.12024347592861952, 0.127414526957742]\n"
     ]
    },
    {
     "name": "stdout",
     "output_type": "stream",
     "text": [
      "0.722398112189"
     ]
    },
    {
     "name": "stdout",
     "output_type": "stream",
     "text": [
      " 0.740870825059"
     ]
    },
    {
     "name": "stdout",
     "output_type": "stream",
     "text": [
      " 0.794440921722"
     ]
    },
    {
     "name": "stdout",
     "output_type": "stream",
     "text": [
      " 0.79207011044"
     ]
    },
    {
     "name": "stdout",
     "output_type": "stream",
     "text": [
      " 0.722068485752"
     ]
    },
    {
     "name": "stdout",
     "output_type": "stream",
     "text": [
      " 0.678921845635"
     ]
    },
    {
     "name": "stdout",
     "output_type": "stream",
     "text": [
      " 0.618470575001"
     ]
    },
    {
     "name": "stdout",
     "output_type": "stream",
     "text": [
      " 0.653789732878"
     ]
    },
    {
     "name": "stdout",
     "output_type": "stream",
     "text": [
      " 0.73615201367"
     ]
    },
    {
     "name": "stdout",
     "output_type": "stream",
     "text": [
      " 0.570376673896"
     ]
    },
    {
     "name": "stdout",
     "output_type": "stream",
     "text": [
      " \n\t\t[0.08641975308641976, 0.09164636405850037, 0.07792915844968491, 0.07991808437840388, 0.09318688034649912, 0.10189411198070925, 0.1036844648345827, 0.1127835025700475, 0.12361144610624632, 0.13408763858622225]\n"
     ]
    },
    {
     "name": "stdout",
     "output_type": "stream",
     "text": [
      "0.652952703174"
     ]
    },
    {
     "name": "stdout",
     "output_type": "stream",
     "text": [
      " 0.741815928576"
     ]
    },
    {
     "name": "stdout",
     "output_type": "stream",
     "text": [
      " 0.849507810339"
     ]
    },
    {
     "name": "stdout",
     "output_type": "stream",
     "text": [
      " 0.538013624214"
     ]
    },
    {
     "name": "stdout",
     "output_type": "stream",
     "text": [
      " 0.579607178142"
     ]
    },
    {
     "name": "stdout",
     "output_type": "stream",
     "text": [
      " 0.628214554249"
     ]
    },
    {
     "name": "stdout",
     "output_type": "stream",
     "text": [
      " 0.757577588377"
     ]
    },
    {
     "name": "stdout",
     "output_type": "stream",
     "text": [
      " 0.614976027987"
     ]
    },
    {
     "name": "stdout",
     "output_type": "stream",
     "text": [
      " 0.680060007622"
     ]
    },
    {
     "name": "stdout",
     "output_type": "stream",
     "text": [
      " 0.567461307655"
     ]
    },
    {
     "name": "stdout",
     "output_type": "stream",
     "text": [
      " \n\t\t[0.1234567901234568, 0.085699755847255, 0.0824679387725183, 0.08403323252025921, 0.09748722655993483, 0.10203989883515104, 0.10363353961347889, 0.11142100277937843, 0.12274227026281785, 0.1365333162338652]\n"
     ]
    },
    {
     "name": "stdout",
     "output_type": "stream",
     "text": [
      "0.575897618213"
     ]
    },
    {
     "name": "stdout",
     "output_type": "stream",
     "text": [
      " 0.687922768433"
     ]
    },
    {
     "name": "stdout",
     "output_type": "stream",
     "text": [
      " 0.771046506139"
     ]
    },
    {
     "name": "stdout",
     "output_type": "stream",
     "text": [
      " 0.66086301539"
     ]
    },
    {
     "name": "stdout",
     "output_type": "stream",
     "text": [
      " 0.677902255023"
     ]
    },
    {
     "name": "stdout",
     "output_type": "stream",
     "text": [
      " 0.654697663281"
     ]
    },
    {
     "name": "stdout",
     "output_type": "stream",
     "text": [
      " 0.662988867342"
     ]
    },
    {
     "name": "stdout",
     "output_type": "stream",
     "text": [
      " 0.720389267239"
     ]
    },
    {
     "name": "stdout",
     "output_type": "stream",
     "text": [
      " 0.576519394342"
     ]
    },
    {
     "name": "stdout",
     "output_type": "stream",
     "text": [
      " 0.575163156204"
     ]
    },
    {
     "name": "stdout",
     "output_type": "stream",
     "text": [
      " \n\t\t[0.1234567901234568, 0.085699755847255, 0.07377759199431912, 0.0768039723352203, 0.09079404896671942, 0.09451046173625578, 0.09349093007070054, 0.10729019288271736, 0.1196575366756303, 0.13347645034716882]\n"
     ]
    },
    {
     "name": "stdout",
     "output_type": "stream",
     "text": [
      "0.544597445441"
     ]
    },
    {
     "name": "stdout",
     "output_type": "stream",
     "text": [
      " 0.794594089398"
     ]
    },
    {
     "name": "stdout",
     "output_type": "stream",
     "text": [
      " 0.668645447731"
     ]
    },
    {
     "name": "stdout",
     "output_type": "stream",
     "text": [
      " 0.716257603378"
     ]
    },
    {
     "name": "stdout",
     "output_type": "stream",
     "text": [
      " 0.601748270497"
     ]
    },
    {
     "name": "stdout",
     "output_type": "stream",
     "text": [
      " 0.658953202687"
     ]
    },
    {
     "name": "stdout",
     "output_type": "stream",
     "text": [
      " 0.624237428162"
     ]
    },
    {
     "name": "stdout",
     "output_type": "stream",
     "text": [
      " 0.741148217026"
     ]
    },
    {
     "name": "stdout",
     "output_type": "stream",
     "text": [
      " 0.670954582964"
     ]
    },
    {
     "name": "stdout",
     "output_type": "stream",
     "text": [
      " 0.794867219839"
     ]
    },
    {
     "name": "stdout",
     "output_type": "stream",
     "text": [
      " \n\t\t[0.08641975308641976, 0.07731848230907289, 0.08156821117803352, 0.08322451884834436, 0.0960614276685629, 0.10705367181527649, 0.10856293174170352, 0.11939351253213101, 0.13365385733158935, 0.14201953922979899]\n"
     ]
    },
    {
     "name": "stdout",
     "output_type": "stream",
     "text": [
      "0.632956298312"
     ]
    },
    {
     "name": "stdout",
     "output_type": "stream",
     "text": [
      " 0.68263373756"
     ]
    },
    {
     "name": "stdout",
     "output_type": "stream",
     "text": [
      " 0.593847977439"
     ]
    },
    {
     "name": "stdout",
     "output_type": "stream",
     "text": [
      " 0.685245470389"
     ]
    },
    {
     "name": "stdout",
     "output_type": "stream",
     "text": [
      " 0.80833987171"
     ]
    },
    {
     "name": "stdout",
     "output_type": "stream",
     "text": [
      " 0.639682631875"
     ]
    },
    {
     "name": "stdout",
     "output_type": "stream",
     "text": [
      " 0.565240368781"
     ]
    },
    {
     "name": "stdout",
     "output_type": "stream",
     "text": [
      " 0.599924273629"
     ]
    },
    {
     "name": "stdout",
     "output_type": "stream",
     "text": [
      " 0.748963197135"
     ]
    },
    {
     "name": "stdout",
     "output_type": "stream",
     "text": [
      " 0.619710035855"
     ]
    },
    {
     "name": "stdout",
     "output_type": "stream",
     "text": [
      " \n\t\t[0.04938271604938271, 0.06349127022769042, 0.06296069461752864, 0.06634940464743211, 0.0752004421975899, 0.08477610517071749, 0.08671958190908663, 0.09848525094511734, 0.11255837971677415, 0.12090412566783894]\n"
     ]
    },
    {
     "name": "stdout",
     "output_type": "stream",
     "text": [
      "0.733129199045"
     ]
    },
    {
     "name": "stdout",
     "output_type": "stream",
     "text": [
      " 0.623847729423"
     ]
    },
    {
     "name": "stdout",
     "output_type": "stream",
     "text": [
      " 0.578157730824"
     ]
    },
    {
     "name": "stdout",
     "output_type": "stream",
     "text": [
      " 0.693997328445"
     ]
    },
    {
     "name": "stdout",
     "output_type": "stream",
     "text": [
      " 0.789595395273"
     ]
    },
    {
     "name": "stdout",
     "output_type": "stream",
     "text": [
      " 0.663303185011"
     ]
    },
    {
     "name": "stdout",
     "output_type": "stream",
     "text": [
      " 0.657252617403"
     ]
    },
    {
     "name": "stdout",
     "output_type": "stream",
     "text": [
      " 0.582805152844"
     ]
    },
    {
     "name": "stdout",
     "output_type": "stream",
     "text": [
      " 0.71399768838"
     ]
    },
    {
     "name": "stdout",
     "output_type": "stream",
     "text": [
      " 0.621089513179"
     ]
    },
    {
     "name": "stdout",
     "output_type": "stream",
     "text": [
      " \n\t\t[0.10493827160493828, 0.07706814747505042, 0.06822630374309846, 0.07099606872435099, 0.08002510530932072, 0.08747035904045404, 0.10184697502516586, 0.10537598782294681, 0.12275806909843616, 0.12718245514172621]\n"
     ]
    },
    {
     "name": "stdout",
     "output_type": "stream",
     "text": [
      "0.642786814093"
     ]
    },
    {
     "name": "stdout",
     "output_type": "stream",
     "text": [
      " 0.705233119489"
     ]
    },
    {
     "name": "stdout",
     "output_type": "stream",
     "text": [
      " 0.625863754988"
     ]
    },
    {
     "name": "stdout",
     "output_type": "stream",
     "text": [
      " 0.624144745846"
     ]
    },
    {
     "name": "stdout",
     "output_type": "stream",
     "text": [
      " 0.784260140398"
     ]
    },
    {
     "name": "stdout",
     "output_type": "stream",
     "text": [
      " 0.706718342263"
     ]
    },
    {
     "name": "stdout",
     "output_type": "stream",
     "text": [
      " 0.663277904104"
     ]
    },
    {
     "name": "stdout",
     "output_type": "stream",
     "text": [
      " 0.533371181552"
     ]
    },
    {
     "name": "stdout",
     "output_type": "stream",
     "text": [
      " 0.73700384592"
     ]
    },
    {
     "name": "stdout",
     "output_type": "stream",
     "text": [
      " 0.688343250465"
     ]
    },
    {
     "name": "stdout",
     "output_type": "stream",
     "text": [
      " \n\t\t[0.06790123456790123, 0.0686868739368683, 0.06732657614861369, 0.06570876246341378, 0.08062876157917745, 0.08411785729928402, 0.08674141051759673, 0.09960637729153603, 0.11180919007439007, 0.1175657359080064]\n"
     ]
    },
    {
     "name": "stdout",
     "output_type": "stream",
     "text": [
      "0.607890658675"
     ]
    },
    {
     "name": "stdout",
     "output_type": "stream",
     "text": [
      " 0.685479432583"
     ]
    },
    {
     "name": "stdout",
     "output_type": "stream",
     "text": [
      " 0.593428094238"
     ]
    },
    {
     "name": "stdout",
     "output_type": "stream",
     "text": [
      " 0.799428611976"
     ]
    },
    {
     "name": "stdout",
     "output_type": "stream",
     "text": [
      " 0.547523662957"
     ]
    },
    {
     "name": "stdout",
     "output_type": "stream",
     "text": [
      " 0.675992315069"
     ]
    },
    {
     "name": "stdout",
     "output_type": "stream",
     "text": [
      " 0.67100523043"
     ]
    },
    {
     "name": "stdout",
     "output_type": "stream",
     "text": [
      " 0.667023722608"
     ]
    },
    {
     "name": "stdout",
     "output_type": "stream",
     "text": [
      " 0.681765787587"
     ]
    },
    {
     "name": "stdout",
     "output_type": "stream",
     "text": [
      " 0.668283399295"
     ]
    },
    {
     "name": "stdout",
     "output_type": "stream",
     "text": [
      " \n\t\t[0.10493827160493828, 0.07706814747505042, 0.07414100639568734, 0.07619555370335368, 0.08361666174067181, 0.09407528328832322, 0.09593334529701039, 0.10731302029198359, 0.11813837163132582, 0.12125383651993908]\n"
     ]
    },
    {
     "name": "stdout",
     "output_type": "stream",
     "text": [
      "0.62913697104"
     ]
    },
    {
     "name": "stdout",
     "output_type": "stream",
     "text": [
      " 0.568661998731"
     ]
    },
    {
     "name": "stdout",
     "output_type": "stream",
     "text": [
      " 0.590480566288"
     ]
    },
    {
     "name": "stdout",
     "output_type": "stream",
     "text": [
      " 0.636713730238"
     ]
    },
    {
     "name": "stdout",
     "output_type": "stream",
     "text": [
      " 0.723634064825"
     ]
    },
    {
     "name": "stdout",
     "output_type": "stream",
     "text": [
      " 0.654529384734"
     ]
    },
    {
     "name": "stdout",
     "output_type": "stream",
     "text": [
      " 0.589572212004"
     ]
    },
    {
     "name": "stdout",
     "output_type": "stream",
     "text": [
      " 0.585450740572"
     ]
    },
    {
     "name": "stdout",
     "output_type": "stream",
     "text": [
      " 0.633354582483"
     ]
    },
    {
     "name": "stdout",
     "output_type": "stream",
     "text": [
      " 0.622063647107"
     ]
    },
    {
     "name": "stdout",
     "output_type": "stream",
     "text": [
      " \n\t\t[0.06790123456790123, 0.0686868739368683, 0.07324127880120256, 0.07538684003143883, 0.08377234804915157, 0.09288380399474365, 0.09465748515153001, 0.10464899365722749, 0.11238071399042984, 0.12125679074550709]\n"
     ]
    },
    {
     "name": "stdout",
     "output_type": "stream",
     "text": [
      "0.661681729491"
     ]
    },
    {
     "name": "stdout",
     "output_type": "stream",
     "text": [
      " 0.705671999407"
     ]
    },
    {
     "name": "stdout",
     "output_type": "stream",
     "text": [
      " 0.685295191377"
     ]
    },
    {
     "name": "stdout",
     "output_type": "stream",
     "text": [
      " 0.699918678366"
     ]
    },
    {
     "name": "stdout",
     "output_type": "stream",
     "text": [
      " 0.623679864368"
     ]
    },
    {
     "name": "stdout",
     "output_type": "stream",
     "text": [
      " 0.65524607343"
     ]
    },
    {
     "name": "stdout",
     "output_type": "stream",
     "text": [
      " 0.700139391441"
     ]
    },
    {
     "name": "stdout",
     "output_type": "stream",
     "text": [
      " 0.657538257356"
     ]
    },
    {
     "name": "stdout",
     "output_type": "stream",
     "text": [
      " 0.69675110506"
     ]
    },
    {
     "name": "stdout",
     "output_type": "stream",
     "text": [
      " 0.593614445297"
     ]
    },
    {
     "name": "stdout",
     "output_type": "stream",
     "text": [
      " \n\t\t[0.1234567901234568, 0.0945816990534821, 0.08715581842100067, 0.08814311310468917, 0.08927208217298849, 0.10053330756071331, 0.1077376769371698, 0.11526171351836297, 0.1219162428144543, 0.13242280989009528]\n"
     ]
    },
    {
     "name": "stdout",
     "output_type": "stream",
     "text": [
      "0.808098662151"
     ]
    },
    {
     "name": "stdout",
     "output_type": "stream",
     "text": [
      " 0.693693260817"
     ]
    },
    {
     "name": "stdout",
     "output_type": "stream",
     "text": [
      " 0.690581609468"
     ]
    },
    {
     "name": "stdout",
     "output_type": "stream",
     "text": [
      " 0.693279085192"
     ]
    },
    {
     "name": "stdout",
     "output_type": "stream",
     "text": [
      " 0.722098106138"
     ]
    },
    {
     "name": "stdout",
     "output_type": "stream",
     "text": [
      " 0.645624914797"
     ]
    },
    {
     "name": "stdout",
     "output_type": "stream",
     "text": [
      " 0.779941052226"
     ]
    },
    {
     "name": "stdout",
     "output_type": "stream",
     "text": [
      " 0.71438137478"
     ]
    },
    {
     "name": "stdout",
     "output_type": "stream",
     "text": [
      " 0.669640511314"
     ]
    },
    {
     "name": "stdout",
     "output_type": "stream",
     "text": [
      " 0.774786032133"
     ]
    },
    {
     "name": "stdout",
     "output_type": "stream",
     "text": [
      " \n\t\t[0.10493827160493828, 0.07706814747505042, 0.07414100639568734, 0.07619555370335368, 0.08361666174067181, 0.09580657901661897, 0.10073391889658874, 0.10143872602932393, 0.10648330890857372, 0.11765033724866536]\n"
     ]
    },
    {
     "name": "stdout",
     "output_type": "stream",
     "text": [
      "0.599575686627"
     ]
    },
    {
     "name": "stdout",
     "output_type": "stream",
     "text": [
      " 0.680012805886"
     ]
    },
    {
     "name": "stdout",
     "output_type": "stream",
     "text": [
      " 0.647529910481"
     ]
    },
    {
     "name": "stdout",
     "output_type": "stream",
     "text": [
      " 0.692215199839"
     ]
    },
    {
     "name": "stdout",
     "output_type": "stream",
     "text": [
      " 0.702762337288"
     ]
    },
    {
     "name": "stdout",
     "output_type": "stream",
     "text": [
      " 0.626067351102"
     ]
    },
    {
     "name": "stdout",
     "output_type": "stream",
     "text": [
      " 0.697527901905"
     ]
    },
    {
     "name": "stdout",
     "output_type": "stream",
     "text": [
      " 0.815200666854"
     ]
    },
    {
     "name": "stdout",
     "output_type": "stream",
     "text": [
      " 0.608113677622"
     ]
    },
    {
     "name": "stdout",
     "output_type": "stream",
     "text": [
      " 0.654510020733"
     ]
    },
    {
     "name": "stdout",
     "output_type": "stream",
     "text": [
      " \n\t\t[0.04938271604938271, 0.07781915197711788, 0.07392669131996808, 0.07630895245954575, 0.07773174057713578, 0.09453929047318799, 0.09637388970460838, 0.09852574411975606, 0.10284674185099867, 0.12030754873074158]\n"
     ]
    },
    {
     "name": "stdout",
     "output_type": "stream",
     "text": [
      "0.734066337505"
     ]
    },
    {
     "name": "stdout",
     "output_type": "stream",
     "text": [
      " 0.505195120503"
     ]
    },
    {
     "name": "stdout",
     "output_type": "stream",
     "text": [
      " 0.767964769908"
     ]
    },
    {
     "name": "stdout",
     "output_type": "stream",
     "text": [
      " 0.635289966373"
     ]
    },
    {
     "name": "stdout",
     "output_type": "stream",
     "text": [
      " 0.824710580879"
     ]
    },
    {
     "name": "stdout",
     "output_type": "stream",
     "text": [
      " 0.568066215961"
     ]
    },
    {
     "name": "stdout",
     "output_type": "stream",
     "text": [
      " 0.713896591044"
     ]
    },
    {
     "name": "stdout",
     "output_type": "stream",
     "text": [
      " 0.635051777036"
     ]
    },
    {
     "name": "stdout",
     "output_type": "stream",
     "text": [
      " 0.727866439398"
     ]
    },
    {
     "name": "stdout",
     "output_type": "stream",
     "text": [
      " 0.638646524597"
     ]
    },
    {
     "name": "stdout",
     "output_type": "stream",
     "text": [
      " \n\t\t[0.04938271604938271, 0.06349127022769042, 0.06296069461752864, 0.07009429441625545, 0.07880810974113918, 0.08952156220666749, 0.10199104325638506, 0.10294837555664944, 0.11896472759757087, 0.12870468407791985]\n"
     ]
    },
    {
     "name": "stdout",
     "output_type": "stream",
     "text": [
      "0.633533449835"
     ]
    },
    {
     "name": "stdout",
     "output_type": "stream",
     "text": [
      " 0.655395213646"
     ]
    },
    {
     "name": "stdout",
     "output_type": "stream",
     "text": [
      " 0.676256688219"
     ]
    },
    {
     "name": "stdout",
     "output_type": "stream",
     "text": [
      " 0.749914030432"
     ]
    },
    {
     "name": "stdout",
     "output_type": "stream",
     "text": [
      " 0.645482020655"
     ]
    },
    {
     "name": "stdout",
     "output_type": "stream",
     "text": [
      " 0.66539855884"
     ]
    },
    {
     "name": "stdout",
     "output_type": "stream",
     "text": [
      " 0.610626859502"
     ]
    },
    {
     "name": "stdout",
     "output_type": "stream",
     "text": [
      " 0.546119708761"
     ]
    },
    {
     "name": "stdout",
     "output_type": "stream",
     "text": [
      " 0.669168405388"
     ]
    },
    {
     "name": "stdout",
     "output_type": "stream",
     "text": [
      " 0.676682043787"
     ]
    },
    {
     "name": "stdout",
     "output_type": "stream",
     "text": [
      " \n\t\t[0.06790123456790123, 0.0686868739368683, 0.06732657614861369, 0.0697521147178856, 0.07139050681820948, 0.09007401481733754, 0.09989497024881418, 0.10807671759890312, 0.11093590433742466, 0.13212922814647896]\n"
     ]
    },
    {
     "name": "stdout",
     "output_type": "stream",
     "text": [
      "0.683658189763"
     ]
    },
    {
     "name": "stdout",
     "output_type": "stream",
     "text": [
      " 0.604757767829"
     ]
    },
    {
     "name": "stdout",
     "output_type": "stream",
     "text": [
      " 0.671720225616"
     ]
    },
    {
     "name": "stdout",
     "output_type": "stream",
     "text": [
      " 0.711153987092"
     ]
    },
    {
     "name": "stdout",
     "output_type": "stream",
     "text": [
      " 0.748379077921"
     ]
    },
    {
     "name": "stdout",
     "output_type": "stream",
     "text": [
      " 0.714353196588"
     ]
    },
    {
     "name": "stdout",
     "output_type": "stream",
     "text": [
      " 0.722504587248"
     ]
    },
    {
     "name": "stdout",
     "output_type": "stream",
     "text": [
      " 0.623961434974"
     ]
    },
    {
     "name": "stdout",
     "output_type": "stream",
     "text": [
      " 0.864299168634"
     ]
    },
    {
     "name": "stdout",
     "output_type": "stream",
     "text": [
      " 0.618785473527"
     ]
    },
    {
     "name": "stdout",
     "output_type": "stream",
     "text": [
      " \n\t\t[0.04938271604938271, 0.06349127022769042, 0.06296069461752864, 0.06143557172385919, 0.06350235929336893, 0.07590881675975998, 0.08914865480096458, 0.09289634319130029, 0.10110213635912835, 0.11857501338868524]\n"
     ]
    },
    {
     "name": "stdout",
     "output_type": "stream",
     "text": [
      "0.669760505152"
     ]
    },
    {
     "name": "stdout",
     "output_type": "stream",
     "text": [
      " 0.667862378269"
     ]
    },
    {
     "name": "stdout",
     "output_type": "stream",
     "text": [
      " 0.643683684945"
     ]
    },
    {
     "name": "stdout",
     "output_type": "stream",
     "text": [
      " 0.612838199625"
     ]
    },
    {
     "name": "stdout",
     "output_type": "stream",
     "text": [
      " 0.638375613027"
     ]
    },
    {
     "name": "stdout",
     "output_type": "stream",
     "text": [
      " 0.657377881066"
     ]
    },
    {
     "name": "stdout",
     "output_type": "stream",
     "text": [
      " 0.754252127355"
     ]
    },
    {
     "name": "stdout",
     "output_type": "stream",
     "text": [
      " 0.592441346112"
     ]
    },
    {
     "name": "stdout",
     "output_type": "stream",
     "text": [
      " 0.60958839474"
     ]
    },
    {
     "name": "stdout",
     "output_type": "stream",
     "text": [
      " 0.650348665594"
     ]
    },
    {
     "name": "stdout",
     "output_type": "stream",
     "text": [
      " \n\t\t[0.04938271604938271, 0.06349127022769042, 0.06296069461752864, 0.06591416431288157, 0.06775025401010895, 0.08156717601698554, 0.09156463053759344, 0.10134084014555397, 0.10426849615922891, 0.12600661573328284]\n"
     ]
    },
    {
     "name": "stdout",
     "output_type": "stream",
     "text": [
      "0.676855353257"
     ]
    },
    {
     "name": "stdout",
     "output_type": "stream",
     "text": [
      " 0.669353388679"
     ]
    },
    {
     "name": "stdout",
     "output_type": "stream",
     "text": [
      " 0.723528800179"
     ]
    },
    {
     "name": "stdout",
     "output_type": "stream",
     "text": [
      " 0.621513066217"
     ]
    },
    {
     "name": "stdout",
     "output_type": "stream",
     "text": [
      " 0.724715422906"
     ]
    },
    {
     "name": "stdout",
     "output_type": "stream",
     "text": [
      " 0.676027133581"
     ]
    },
    {
     "name": "stdout",
     "output_type": "stream",
     "text": [
      " 0.626741379964"
     ]
    },
    {
     "name": "stdout",
     "output_type": "stream",
     "text": [
      " 0.705298098796"
     ]
    },
    {
     "name": "stdout",
     "output_type": "stream",
     "text": [
      " 0.648482942985"
     ]
    },
    {
     "name": "stdout",
     "output_type": "stream",
     "text": [
      " 0.576233399217"
     ]
    },
    {
     "name": "stdout",
     "output_type": "stream",
     "text": [
      " \n\t\t[0.04938271604938271, 0.06349127022769042, 0.06296069461752864, 0.06591416431288157, 0.06775025401010894, 0.07989003368756684, 0.0883854034962486, 0.09484211408787771, 0.10492289394848103, 0.11596163245396351]\n"
     ]
    },
    {
     "name": "stdout",
     "output_type": "stream",
     "text": [
      "0.661019902316"
     ]
    },
    {
     "name": "stdout",
     "output_type": "stream",
     "text": [
      " 0.643678061904"
     ]
    },
    {
     "name": "stdout",
     "output_type": "stream",
     "text": [
      " 0.571295692097"
     ]
    },
    {
     "name": "stdout",
     "output_type": "stream",
     "text": [
      " 0.72275870531"
     ]
    },
    {
     "name": "stdout",
     "output_type": "stream",
     "text": [
      " 0.680657327474"
     ]
    },
    {
     "name": "stdout",
     "output_type": "stream",
     "text": [
      " 0.596672892732"
     ]
    },
    {
     "name": "stdout",
     "output_type": "stream",
     "text": [
      " 0.648593558865"
     ]
    },
    {
     "name": "stdout",
     "output_type": "stream",
     "text": [
      " 0.706728381239"
     ]
    },
    {
     "name": "stdout",
     "output_type": "stream",
     "text": [
      " 0.692789865797"
     ]
    },
    {
     "name": "stdout",
     "output_type": "stream",
     "text": [
      " 0.58446090268"
     ]
    },
    {
     "name": "stdout",
     "output_type": "stream",
     "text": [
      " \n\t\t[0.04938271604938271, 0.05460932702146333, 0.055497170843435945, 0.05978838509443079, 0.06780833677002795, 0.08680234374636198, 0.09026229630336285, 0.09245741337949498, 0.10464754107098061, 0.11715088423472635]\n"
     ]
    },
    {
     "name": "stdout",
     "output_type": "stream",
     "text": [
      "0.683031900643"
     ]
    },
    {
     "name": "stdout",
     "output_type": "stream",
     "text": [
      " 0.58759927581"
     ]
    },
    {
     "name": "stdout",
     "output_type": "stream",
     "text": [
      " 0.681200573994"
     ]
    },
    {
     "name": "stdout",
     "output_type": "stream",
     "text": [
      " 0.642641863994"
     ]
    },
    {
     "name": "stdout",
     "output_type": "stream",
     "text": [
      " 0.638964224998"
     ]
    },
    {
     "name": "stdout",
     "output_type": "stream",
     "text": [
      " 0.626256381482"
     ]
    },
    {
     "name": "stdout",
     "output_type": "stream",
     "text": [
      " 0.62770637561"
     ]
    },
    {
     "name": "stdout",
     "output_type": "stream",
     "text": [
      " 0.723440707479"
     ]
    },
    {
     "name": "stdout",
     "output_type": "stream",
     "text": [
      " 0.589681003886"
     ]
    },
    {
     "name": "stdout",
     "output_type": "stream",
     "text": [
      " 0.663415042413"
     ]
    },
    {
     "name": "stdout",
     "output_type": "stream",
     "text": [
      " \n\t\t[0.04938271604938271, 0.06349127022769042, 0.057045991964939764, 0.05667132707940707, 0.07205685572761579, 0.09118474117906798, 0.09470325710675971, 0.10376729227365038, 0.10947828045292735, 0.12498521587382662]\n"
     ]
    },
    {
     "name": "stdout",
     "output_type": "stream",
     "text": [
      "0.704407991934"
     ]
    },
    {
     "name": "stdout",
     "output_type": "stream",
     "text": [
      " 0.705482151384"
     ]
    },
    {
     "name": "stdout",
     "output_type": "stream",
     "text": [
      " 0.629948634286"
     ]
    },
    {
     "name": "stdout",
     "output_type": "stream",
     "text": [
      " 0.741936710201"
     ]
    },
    {
     "name": "stdout",
     "output_type": "stream",
     "text": [
      " 0.70935309668"
     ]
    },
    {
     "name": "stdout",
     "output_type": "stream",
     "text": [
      " 0.641142618956"
     ]
    },
    {
     "name": "stdout",
     "output_type": "stream",
     "text": [
      " 0.653244781512"
     ]
    },
    {
     "name": "stdout",
     "output_type": "stream",
     "text": [
      " 0.651450679035"
     ]
    },
    {
     "name": "stdout",
     "output_type": "stream",
     "text": [
      " 0.723570149965"
     ]
    },
    {
     "name": "stdout",
     "output_type": "stream",
     "text": [
      " 0.636549270108"
     ]
    },
    {
     "name": "stdout",
     "output_type": "stream",
     "text": [
      " \n\t\t[0.012345679012345678, 0.04622805348328122, 0.05459744324895118, 0.0540419820903169, 0.0633385062733623, 0.07779762712984206, 0.09050651225222049, 0.09304308491343748, 0.10253370513106876, 0.11889916786031901]\n"
     ]
    },
    {
     "name": "stdout",
     "output_type": "stream",
     "text": [
      "0.707716918176"
     ]
    },
    {
     "name": "stdout",
     "output_type": "stream",
     "text": [
      " 0.65046752971"
     ]
    },
    {
     "name": "stdout",
     "output_type": "stream",
     "text": [
      " 0.645382078568"
     ]
    },
    {
     "name": "stdout",
     "output_type": "stream",
     "text": [
      " 0.66866978528"
     ]
    },
    {
     "name": "stdout",
     "output_type": "stream",
     "text": [
      " 0.707183916515"
     ]
    },
    {
     "name": "stdout",
     "output_type": "stream",
     "text": [
      " 0.649417049196"
     ]
    },
    {
     "name": "stdout",
     "output_type": "stream",
     "text": [
      " 0.640256114529"
     ]
    },
    {
     "name": "stdout",
     "output_type": "stream",
     "text": [
      " 0.703097672526"
     ]
    },
    {
     "name": "stdout",
     "output_type": "stream",
     "text": [
      " 0.704748053494"
     ]
    },
    {
     "name": "stdout",
     "output_type": "stream",
     "text": [
      " 0.717046405292"
     ]
    },
    {
     "name": "stdout",
     "output_type": "stream",
     "text": [
      " \n\t\t[0.04938271604938271, 0.06349127022769042, 0.06296069461752864, 0.06634940464743211, 0.07403139004884965, 0.09102316701972908, 0.09285809026891802, 0.10215980648986173, 0.10782954573926229, 0.12463415863643078]\n"
     ]
    },
    {
     "name": "stdout",
     "output_type": "stream",
     "text": [
      "0.680629728918"
     ]
    },
    {
     "name": "stdout",
     "output_type": "stream",
     "text": [
      " 0.645697369864"
     ]
    },
    {
     "name": "stdout",
     "output_type": "stream",
     "text": [
      " 0.784221562165"
     ]
    },
    {
     "name": "stdout",
     "output_type": "stream",
     "text": [
      " 0.73300188201"
     ]
    },
    {
     "name": "stdout",
     "output_type": "stream",
     "text": [
      " 0.736615220866"
     ]
    },
    {
     "name": "stdout",
     "output_type": "stream",
     "text": [
      " 0.725364321815"
     ]
    },
    {
     "name": "stdout",
     "output_type": "stream",
     "text": [
      " 0.620125357003"
     ]
    },
    {
     "name": "stdout",
     "output_type": "stream",
     "text": [
      " 0.631260518532"
     ]
    },
    {
     "name": "stdout",
     "output_type": "stream",
     "text": [
      " 0.664368185422"
     ]
    },
    {
     "name": "stdout",
     "output_type": "stream",
     "text": [
      " 0.69322271843"
     ]
    },
    {
     "name": "stdout",
     "output_type": "stream",
     "text": [
      " \n\t\t[0.04938271604938271, 0.06349127022769042, 0.06296069461752864, 0.07039275690190391, 0.07903211770244643, 0.09477703048400102, 0.09649345287556234, 0.09857217924502135, 0.11480177076117118, 0.127057558834646]\n"
     ]
    },
    {
     "name": "stdout",
     "output_type": "stream",
     "text": [
      "0.629405976943"
     ]
    },
    {
     "name": "stdout",
     "output_type": "stream",
     "text": [
      " 0.762873211422"
     ]
    },
    {
     "name": "stdout",
     "output_type": "stream",
     "text": [
      " 0.733040645305"
     ]
    },
    {
     "name": "stdout",
     "output_type": "stream",
     "text": [
      " 0.599037939139"
     ]
    },
    {
     "name": "stdout",
     "output_type": "stream",
     "text": [
      " 0.667080506289"
     ]
    },
    {
     "name": "stdout",
     "output_type": "stream",
     "text": [
      " 0.758759249378"
     ]
    },
    {
     "name": "stdout",
     "output_type": "stream",
     "text": [
      " 0.654351142055"
     ]
    },
    {
     "name": "stdout",
     "output_type": "stream",
     "text": [
      " 0.706290125827"
     ]
    },
    {
     "name": "stdout",
     "output_type": "stream",
     "text": [
      " 0.666646377295"
     ]
    },
    {
     "name": "stdout",
     "output_type": "stream",
     "text": [
      " 0.663605457597"
     ]
    },
    {
     "name": "stdout",
     "output_type": "stream",
     "text": [
      " \n\t\t[0.04938271604938271, 0.06349127022769042, 0.06296069461752864, 0.06187081205840973, 0.06391857850525241, 0.08802267099650286, 0.0914438228768841, 0.09393755171029206, 0.09960729095969262, 0.11827482068503492]\n"
     ]
    },
    {
     "name": "stdout",
     "output_type": "stream",
     "text": [
      "0.638983153955"
     ]
    },
    {
     "name": "stdout",
     "output_type": "stream",
     "text": [
      " 0.683127155647"
     ]
    },
    {
     "name": "stdout",
     "output_type": "stream",
     "text": [
      " 0.598367751261"
     ]
    },
    {
     "name": "stdout",
     "output_type": "stream",
     "text": [
      " 0.731057001425"
     ]
    },
    {
     "name": "stdout",
     "output_type": "stream",
     "text": [
      " 0.566745271493"
     ]
    },
    {
     "name": "stdout",
     "output_type": "stream",
     "text": [
      " 0.593456839871"
     ]
    },
    {
     "name": "stdout",
     "output_type": "stream",
     "text": [
      " 0.728723646262"
     ]
    },
    {
     "name": "stdout",
     "output_type": "stream",
     "text": [
      " 0.645094592372"
     ]
    },
    {
     "name": "stdout",
     "output_type": "stream",
     "text": [
      " 0.546774166598"
     ]
    },
    {
     "name": "stdout",
     "output_type": "stream",
     "text": [
      " 0.622352097276"
     ]
    },
    {
     "name": "stdout",
     "output_type": "stream",
     "text": [
      " \n\t\t[0.04938271604938271, 0.06349127022769042, 0.06296069461752864, 0.06187081205840973, 0.06391857850525241, 0.08818016569740189, 0.09160131757778313, 0.0937800266073011, 0.10595374589635835, 0.11837604208686037]\n"
     ]
    },
    {
     "name": "stdout",
     "output_type": "stream",
     "text": [
      "0.604693018157"
     ]
    },
    {
     "name": "stdout",
     "output_type": "stream",
     "text": [
      " 0.601950648725"
     ]
    },
    {
     "name": "stdout",
     "output_type": "stream",
     "text": [
      " 0.638126043199"
     ]
    },
    {
     "name": "stdout",
     "output_type": "stream",
     "text": [
      " 0.687735592023"
     ]
    },
    {
     "name": "stdout",
     "output_type": "stream",
     "text": [
      " 0.649097284116"
     ]
    },
    {
     "name": "stdout",
     "output_type": "stream",
     "text": [
      " 0.540748254882"
     ]
    },
    {
     "name": "stdout",
     "output_type": "stream",
     "text": [
      " 0.70071826035"
     ]
    },
    {
     "name": "stdout",
     "output_type": "stream",
     "text": [
      " 0.688327574793"
     ]
    },
    {
     "name": "stdout",
     "output_type": "stream",
     "text": [
      " 0.604606272176"
     ]
    },
    {
     "name": "stdout",
     "output_type": "stream",
     "text": [
      " 0.585199798166"
     ]
    },
    {
     "name": "stdout",
     "output_type": "stream",
     "text": [
      " \n\t\t[0.04938271604938271, 0.06349127022769042, 0.06296069461752864, 0.06634940464743211, 0.0748250419182474, 0.08507260487254127, 0.09317125776673159, 0.09534899245055074, 0.1103180870903733, 0.1282545096965795]\n"
     ]
    },
    {
     "name": "stdout",
     "output_type": "stream",
     "text": [
      "0.713796204583"
     ]
    },
    {
     "name": "stdout",
     "output_type": "stream",
     "text": [
      " 0.624092076625"
     ]
    },
    {
     "name": "stdout",
     "output_type": "stream",
     "text": [
      " 0.533475794847"
     ]
    },
    {
     "name": "stdout",
     "output_type": "stream",
     "text": [
      " 0.585330633285"
     ]
    },
    {
     "name": "stdout",
     "output_type": "stream",
     "text": [
      " 0.688442703057"
     ]
    },
    {
     "name": "stdout",
     "output_type": "stream",
     "text": [
      " 0.635221465892"
     ]
    },
    {
     "name": "stdout",
     "output_type": "stream",
     "text": [
      " 0.705137859112"
     ]
    },
    {
     "name": "stdout",
     "output_type": "stream",
     "text": [
      " 0.757884836045"
     ]
    },
    {
     "name": "stdout",
     "output_type": "stream",
     "text": [
      " 0.818284487141"
     ]
    },
    {
     "name": "stdout",
     "output_type": "stream",
     "text": [
      " 0.689707460337"
     ]
    },
    {
     "name": "stdout",
     "output_type": "stream",
     "text": [
      " \n\t\t[0.04938271604938271, 0.06349127022769042, 0.06296069461752864, 0.06143557172385919, 0.06998988352625411, 0.08228637525389106, 0.0827128703332343, 0.0887304855531318, 0.1060721119337698, 0.11662214670717862]\n"
     ]
    },
    {
     "name": "stdout",
     "output_type": "stream",
     "text": [
      "0.59787560811"
     ]
    },
    {
     "name": "stdout",
     "output_type": "stream",
     "text": [
      " 0.653849650425"
     ]
    },
    {
     "name": "stdout",
     "output_type": "stream",
     "text": [
      " 0.625357633219"
     ]
    },
    {
     "name": "stdout",
     "output_type": "stream",
     "text": [
      " 0.708613476848"
     ]
    },
    {
     "name": "stdout",
     "output_type": "stream",
     "text": [
      " 0.718922223655"
     ]
    },
    {
     "name": "stdout",
     "output_type": "stream",
     "text": [
      " 0.688931012202"
     ]
    },
    {
     "name": "stdout",
     "output_type": "stream",
     "text": [
      " 0.697325008104"
     ]
    },
    {
     "name": "stdout",
     "output_type": "stream",
     "text": [
      " 0.711468501914"
     ]
    },
    {
     "name": "stdout",
     "output_type": "stream",
     "text": [
      " 0.692795546179"
     ]
    },
    {
     "name": "stdout",
     "output_type": "stream",
     "text": [
      " 0.61717284102"
     ]
    },
    {
     "name": "stdout",
     "output_type": "stream",
     "text": [
      " \n\t\t[0.012345679012345678, 0.05510999668950832, 0.05614626437045499, 0.05960750317631555, 0.06158122716508007, 0.0791826841506381, 0.08729149958462532, 0.08973828571105011, 0.09925493657552631, 0.11460217082257719]\n"
     ]
    },
    {
     "name": "stdout",
     "output_type": "stream",
     "text": [
      "0.639708679725"
     ]
    },
    {
     "name": "stdout",
     "output_type": "stream",
     "text": [
      " 0.53858062603"
     ]
    },
    {
     "name": "stdout",
     "output_type": "stream",
     "text": [
      " 0.651012881137"
     ]
    },
    {
     "name": "stdout",
     "output_type": "stream",
     "text": [
      " 0.692441271416"
     ]
    },
    {
     "name": "stdout",
     "output_type": "stream",
     "text": [
      " 0.644686960777"
     ]
    },
    {
     "name": "stdout",
     "output_type": "stream",
     "text": [
      " 0.688114238657"
     ]
    },
    {
     "name": "stdout",
     "output_type": "stream",
     "text": [
      " 0.615791601119"
     ]
    },
    {
     "name": "stdout",
     "output_type": "stream",
     "text": [
      " 0.624174673098"
     ]
    },
    {
     "name": "stdout",
     "output_type": "stream",
     "text": [
      " 0.660709692249"
     ]
    },
    {
     "name": "stdout",
     "output_type": "stream",
     "text": [
      " 0.638247746401"
     ]
    },
    {
     "name": "stdout",
     "output_type": "stream",
     "text": [
      " \n\t\t[0.012345679012345678, 0.05510999668950832, 0.05614626437045499, 0.055128910587293196, 0.05733333244834006, 0.06977012517231419, 0.08301629053022389, 0.08552040320791297, 0.09185746392964925, 0.11289024277153337]\n"
     ]
    },
    {
     "name": "stdout",
     "output_type": "stream",
     "text": [
      "0.588278403086"
     ]
    },
    {
     "name": "stdout",
     "output_type": "stream",
     "text": [
      " 0.740028151951"
     ]
    },
    {
     "name": "stdout",
     "output_type": "stream",
     "text": [
      " 0.768267460495"
     ]
    },
    {
     "name": "stdout",
     "output_type": "stream",
     "text": [
      " 0.835440749833"
     ]
    },
    {
     "name": "stdout",
     "output_type": "stream",
     "text": [
      " 0.573885670107"
     ]
    },
    {
     "name": "stdout",
     "output_type": "stream",
     "text": [
      " 0.62508549957"
     ]
    },
    {
     "name": "stdout",
     "output_type": "stream",
     "text": [
      " 0.671145476143"
     ]
    },
    {
     "name": "stdout",
     "output_type": "stream",
     "text": [
      " 0.494663885603"
     ]
    },
    {
     "name": "stdout",
     "output_type": "stream",
     "text": [
      " 0.703777962363"
     ]
    },
    {
     "name": "stdout",
     "output_type": "stream",
     "text": [
      " 0.752105934872"
     ]
    },
    {
     "name": "stdout",
     "output_type": "stream",
     "text": [
      " \n\t\t[0.04938271604938271, 0.06349127022769042, 0.06296069461752864, 0.06591416431288157, 0.0747842229857064, 0.08536447150567712, 0.09375512572396281, 0.09617660183693569, 0.11107991983736178, 0.12774712131927327]\n"
     ]
    },
    {
     "name": "stdout",
     "output_type": "stream",
     "text": [
      "0.758147897465"
     ]
    },
    {
     "name": "stdout",
     "output_type": "stream",
     "text": [
      " 0.631225664032"
     ]
    },
    {
     "name": "stdout",
     "output_type": "stream",
     "text": [
      " 0.753003481268"
     ]
    },
    {
     "name": "stdout",
     "output_type": "stream",
     "text": [
      " 0.690778129649"
     ]
    },
    {
     "name": "stdout",
     "output_type": "stream",
     "text": [
      " 0.629248672667"
     ]
    },
    {
     "name": "stdout",
     "output_type": "stream",
     "text": [
      " 0.672488725904"
     ]
    },
    {
     "name": "stdout",
     "output_type": "stream",
     "text": [
      " 0.741614740244"
     ]
    },
    {
     "name": "stdout",
     "output_type": "stream",
     "text": [
      " 0.686177075799"
     ]
    },
    {
     "name": "stdout",
     "output_type": "stream",
     "text": [
      " 0.704594083273"
     ]
    },
    {
     "name": "stdout",
     "output_type": "stream",
     "text": [
      " 0.659760434975"
     ]
    },
    {
     "name": "stdout",
     "output_type": "stream",
     "text": [
      " \n\t\t[0.04938271604938271, 0.06349127022769042, 0.06296069461752864, 0.06591416431288157, 0.0749552674490762, 0.0902220552484643, 0.09269033761870432, 0.09767941257303263, 0.1065059628914631, 0.12782869793132282]\n"
     ]
    },
    {
     "name": "stdout",
     "output_type": "stream",
     "text": [
      "0.653957792335"
     ]
    },
    {
     "name": "stdout",
     "output_type": "stream",
     "text": [
      " 0.713051419371"
     ]
    },
    {
     "name": "stdout",
     "output_type": "stream",
     "text": [
      " 0.686360385227"
     ]
    },
    {
     "name": "stdout",
     "output_type": "stream",
     "text": [
      " 0.770926910588"
     ]
    },
    {
     "name": "stdout",
     "output_type": "stream",
     "text": [
      " 0.679105066364"
     ]
    },
    {
     "name": "stdout",
     "output_type": "stream",
     "text": [
      " 0.626151952923"
     ]
    },
    {
     "name": "stdout",
     "output_type": "stream",
     "text": [
      " 0.635736895625"
     ]
    },
    {
     "name": "stdout",
     "output_type": "stream",
     "text": [
      " 0.689873555582"
     ]
    },
    {
     "name": "stdout",
     "output_type": "stream",
     "text": [
      " 0.890169314379"
     ]
    },
    {
     "name": "stdout",
     "output_type": "stream",
     "text": [
      " 0.811933509857"
     ]
    },
    {
     "name": "stdout",
     "output_type": "stream",
     "text": [
      " \n\t\t[0.04938271604938271, 0.0689372087708908, 0.07015810721689489, 0.07070508305417005, 0.07933200888944768, 0.08988784209831382, 0.0954744004508021, 0.09848121722410028, 0.11251057762173275, 0.12710589626189325]\n"
     ]
    },
    {
     "name": "stdout",
     "output_type": "stream",
     "text": [
      "0.649893897855"
     ]
    },
    {
     "name": "stdout",
     "output_type": "stream",
     "text": [
      " 0.636246216403"
     ]
    },
    {
     "name": "stdout",
     "output_type": "stream",
     "text": [
      " 0.716910792862"
     ]
    },
    {
     "name": "stdout",
     "output_type": "stream",
     "text": [
      " 0.573166389406"
     ]
    },
    {
     "name": "stdout",
     "output_type": "stream",
     "text": [
      " 0.704198239358"
     ]
    },
    {
     "name": "stdout",
     "output_type": "stream",
     "text": [
      " 0.635875891266"
     ]
    },
    {
     "name": "stdout",
     "output_type": "stream",
     "text": [
      " 0.666733776667"
     ]
    },
    {
     "name": "stdout",
     "output_type": "stream",
     "text": [
      " 0.826174059207"
     ]
    },
    {
     "name": "stdout",
     "output_type": "stream",
     "text": [
      " 0.640530196191"
     ]
    },
    {
     "name": "stdout",
     "output_type": "stream",
     "text": [
      " 0.693053150128"
     ]
    },
    {
     "name": "stdout",
     "output_type": "stream",
     "text": [
      " \n\t\t[0.04938271604938271, 0.06349127022769042, 0.06296069461752864, 0.06591416431288157, 0.0749552674490762, 0.0825501154647149, 0.08759810751775692, 0.09122648056040067, 0.10046206723405582, 0.11276167309383035]\n"
     ]
    },
    {
     "name": "stdout",
     "output_type": "stream",
     "text": [
      "0.659271913899"
     ]
    },
    {
     "name": "stdout",
     "output_type": "stream",
     "text": [
      " 0.619102092713"
     ]
    },
    {
     "name": "stdout",
     "output_type": "stream",
     "text": [
      " 0.700511150258"
     ]
    },
    {
     "name": "stdout",
     "output_type": "stream",
     "text": [
      " 0.742111338412"
     ]
    },
    {
     "name": "stdout",
     "output_type": "stream",
     "text": [
      " 0.63882944442"
     ]
    },
    {
     "name": "stdout",
     "output_type": "stream",
     "text": [
      " 0.67626832652"
     ]
    },
    {
     "name": "stdout",
     "output_type": "stream",
     "text": [
      " 0.67422435856"
     ]
    },
    {
     "name": "stdout",
     "output_type": "stream",
     "text": [
      " 0.742100114791"
     ]
    },
    {
     "name": "stdout",
     "output_type": "stream",
     "text": [
      " 0.587934750845"
     ]
    },
    {
     "name": "stdout",
     "output_type": "stream",
     "text": [
      " 0.814479102132"
     ]
    },
    {
     "name": "stdout",
     "output_type": "stream",
     "text": [
      " \n\t\t[0.04938271604938271, 0.06349127022769042, 0.06296069461752864, 0.06591416431288157, 0.06775025401010895, 0.08534451182879395, 0.08947036253729712, 0.09321850030767052, 0.10356030859912184, 0.1183466434442469]\n"
     ]
    },
    {
     "name": "stdout",
     "output_type": "stream",
     "text": [
      "0.617725415415"
     ]
    },
    {
     "name": "stdout",
     "output_type": "stream",
     "text": [
      " 0.624379992561"
     ]
    },
    {
     "name": "stdout",
     "output_type": "stream",
     "text": [
      " 0.655715813076"
     ]
    },
    {
     "name": "stdout",
     "output_type": "stream",
     "text": [
      " 0.605141321279"
     ]
    },
    {
     "name": "stdout",
     "output_type": "stream",
     "text": [
      " 0.660507449557"
     ]
    },
    {
     "name": "stdout",
     "output_type": "stream",
     "text": [
      " 0.655172295787"
     ]
    },
    {
     "name": "stdout",
     "output_type": "stream",
     "text": [
      " 0.721410080725"
     ]
    },
    {
     "name": "stdout",
     "output_type": "stream",
     "text": [
      " 0.550406963021"
     ]
    },
    {
     "name": "stdout",
     "output_type": "stream",
     "text": [
      " 0.742238362374"
     ]
    },
    {
     "name": "stdout",
     "output_type": "stream",
     "text": [
      " 0.741344488191"
     ]
    },
    {
     "name": "stdout",
     "output_type": "stream",
     "text": [
      " \n\t\t[0.04938271604938271, 0.06349127022769042, 0.06296069461752864, 0.06591416431288157, 0.0749552674490762, 0.08716936816637756, 0.09047201918913118, 0.09876756770677642, 0.1043567298330462, 0.12090740545534519]\n"
     ]
    },
    {
     "name": "stdout",
     "output_type": "stream",
     "text": [
      "0.724999286161"
     ]
    },
    {
     "name": "stdout",
     "output_type": "stream",
     "text": [
      " 0.518323318473"
     ]
    },
    {
     "name": "stdout",
     "output_type": "stream",
     "text": [
      " 0.50062822087"
     ]
    },
    {
     "name": "stdout",
     "output_type": "stream",
     "text": [
      " 0.683738731747"
     ]
    },
    {
     "name": "stdout",
     "output_type": "stream",
     "text": [
      " 0.600873607002"
     ]
    },
    {
     "name": "stdout",
     "output_type": "stream",
     "text": [
      " 0.721654656803"
     ]
    },
    {
     "name": "stdout",
     "output_type": "stream",
     "text": [
      " 0.668551722908"
     ]
    },
    {
     "name": "stdout",
     "output_type": "stream",
     "text": [
      " 0.63015523425"
     ]
    },
    {
     "name": "stdout",
     "output_type": "stream",
     "text": [
      " 0.554950522543"
     ]
    },
    {
     "name": "stdout",
     "output_type": "stream",
     "text": [
      " 0.720709090726"
     ]
    },
    {
     "name": "stdout",
     "output_type": "stream",
     "text": [
      " \n\t\t[0.04938271604938271, 0.06349127022769042, 0.06296069461752864, 0.07039275690190391, 0.07199814872684897, 0.08886279407466242, 0.09057889244845517, 0.09742109964575853, 0.10167434804232711, 0.11135907098446601]\n"
     ]
    },
    {
     "name": "stdout",
     "output_type": "stream",
     "text": [
      "0.693812044596"
     ]
    },
    {
     "name": "stdout",
     "output_type": "stream",
     "text": [
      " 0.645872837354"
     ]
    },
    {
     "name": "stdout",
     "output_type": "stream",
     "text": [
      " 0.598909511422"
     ]
    },
    {
     "name": "stdout",
     "output_type": "stream",
     "text": [
      " 0.643591220947"
     ]
    },
    {
     "name": "stdout",
     "output_type": "stream",
     "text": [
      " 0.712379076513"
     ]
    },
    {
     "name": "stdout",
     "output_type": "stream",
     "text": [
      " 0.584319947895"
     ]
    },
    {
     "name": "stdout",
     "output_type": "stream",
     "text": [
      " 0.640340717863"
     ]
    },
    {
     "name": "stdout",
     "output_type": "stream",
     "text": [
      " 0.798163097793"
     ]
    },
    {
     "name": "stdout",
     "output_type": "stream",
     "text": [
      " 0.724487666188"
     ]
    },
    {
     "name": "stdout",
     "output_type": "stream",
     "text": [
      " 0.68426988966"
     ]
    },
    {
     "name": "stdout",
     "output_type": "stream",
     "text": [
      " \n\t\t[0.04938271604938271, 0.045727383815236236, 0.05394834972193214, 0.05799161018588163, 0.06726976947152413, 0.09174450085852694, 0.09519567702574173, 0.10055472407963843, 0.10939758013485888, 0.12569110801918423]\n"
     ]
    },
    {
     "name": "stdout",
     "output_type": "stream",
     "text": [
      "0.646225369235"
     ]
    },
    {
     "name": "stdout",
     "output_type": "stream",
     "text": [
      " 0.654606337576"
     ]
    },
    {
     "name": "stdout",
     "output_type": "stream",
     "text": [
      " 0.775179536613"
     ]
    },
    {
     "name": "stdout",
     "output_type": "stream",
     "text": [
      " 0.713963302942"
     ]
    },
    {
     "name": "stdout",
     "output_type": "stream",
     "text": [
      " 0.633728886759"
     ]
    },
    {
     "name": "stdout",
     "output_type": "stream",
     "text": [
      " 0.587770956644"
     ]
    },
    {
     "name": "stdout",
     "output_type": "stream",
     "text": [
      " 0.740515305247"
     ]
    },
    {
     "name": "stdout",
     "output_type": "stream",
     "text": [
      " 0.673161482593"
     ]
    },
    {
     "name": "stdout",
     "output_type": "stream",
     "text": [
      " 0.610664092518"
     ]
    },
    {
     "name": "stdout",
     "output_type": "stream",
     "text": [
      " 0.770418623361"
     ]
    },
    {
     "name": "stdout",
     "output_type": "stream",
     "text": [
      " \n\t\t[0.04938271604938271, 0.06349127022769042, 0.06665563428854812, 0.06639543871427345, 0.06821878768365652, 0.0758093935511561, 0.0873637455318855, 0.09258121501597344, 0.09634788160533125, 0.11118321704310773]\n"
     ]
    },
    {
     "name": "stdout",
     "output_type": "stream",
     "text": [
      "0.685336333028"
     ]
    },
    {
     "name": "stdout",
     "output_type": "stream",
     "text": [
      " 0.661599819075"
     ]
    },
    {
     "name": "stdout",
     "output_type": "stream",
     "text": [
      " 0.534038351925"
     ]
    },
    {
     "name": "stdout",
     "output_type": "stream",
     "text": [
      " 0.666903370553"
     ]
    },
    {
     "name": "stdout",
     "output_type": "stream",
     "text": [
      " 0.676035024149"
     ]
    },
    {
     "name": "stdout",
     "output_type": "stream",
     "text": [
      " 0.647803264788"
     ]
    },
    {
     "name": "stdout",
     "output_type": "stream",
     "text": [
      " 0.719932310286"
     ]
    },
    {
     "name": "stdout",
     "output_type": "stream",
     "text": [
      " 0.662941357656"
     ]
    },
    {
     "name": "stdout",
     "output_type": "stream",
     "text": [
      " 0.638640680124"
     ]
    },
    {
     "name": "stdout",
     "output_type": "stream",
     "text": [
      " 0.712014020634"
     ]
    },
    {
     "name": "stdout",
     "output_type": "stream",
     "text": [
      " \n\t\t[0.04938271604938271, 0.06349127022769042, 0.06296069461752864, 0.0784139740954647, 0.08001936592040976, 0.08533254057094648, 0.09374376646036205, 0.09728115440869972, 0.10220798414092397, 0.13046176706336163]\n"
     ]
    },
    {
     "name": "stdout",
     "output_type": "stream",
     "text": [
      "0.716144475907"
     ]
    },
    {
     "name": "stdout",
     "output_type": "stream",
     "text": [
      " 0.686132630394"
     ]
    },
    {
     "name": "stdout",
     "output_type": "stream",
     "text": [
      " 0.590049644051"
     ]
    },
    {
     "name": "stdout",
     "output_type": "stream",
     "text": [
      " 0.603002392144"
     ]
    },
    {
     "name": "stdout",
     "output_type": "stream",
     "text": [
      " 0.503158238426"
     ]
    },
    {
     "name": "stdout",
     "output_type": "stream",
     "text": [
      " 0.764547543295"
     ]
    },
    {
     "name": "stdout",
     "output_type": "stream",
     "text": [
      " 0.621205948616"
     ]
    },
    {
     "name": "stdout",
     "output_type": "stream",
     "text": [
      " 0.714106420957"
     ]
    },
    {
     "name": "stdout",
     "output_type": "stream",
     "text": [
      " 0.606311985814"
     ]
    },
    {
     "name": "stdout",
     "output_type": "stream",
     "text": [
      " 0.567015838443"
     ]
    },
    {
     "name": "stdout",
     "output_type": "stream",
     "text": [
      " \n\t\t[0.04938271604938271, 0.05460932702146333, 0.06141187349602482, 0.06455262973888293, 0.07560963710821775, 0.0860878394615724, 0.094467526406568, 0.09686509614341986, 0.10044221903175965, 0.1254434730279692]\n"
     ]
    },
    {
     "name": "stdout",
     "output_type": "stream",
     "text": [
      "0.65603786355"
     ]
    },
    {
     "name": "stdout",
     "output_type": "stream",
     "text": [
      " 0.730592018509"
     ]
    },
    {
     "name": "stdout",
     "output_type": "stream",
     "text": [
      " 0.607950243987"
     ]
    },
    {
     "name": "stdout",
     "output_type": "stream",
     "text": [
      " 0.66983379796"
     ]
    },
    {
     "name": "stdout",
     "output_type": "stream",
     "text": [
      " 0.602907642706"
     ]
    },
    {
     "name": "stdout",
     "output_type": "stream",
     "text": [
      " 0.622691845926"
     ]
    },
    {
     "name": "stdout",
     "output_type": "stream",
     "text": [
      " 0.623732550994"
     ]
    },
    {
     "name": "stdout",
     "output_type": "stream",
     "text": [
      " 0.741917853023"
     ]
    },
    {
     "name": "stdout",
     "output_type": "stream",
     "text": [
      " 0.587881572164"
     ]
    },
    {
     "name": "stdout",
     "output_type": "stream",
     "text": [
      " 0.684012016729"
     ]
    },
    {
     "name": "stdout",
     "output_type": "stream",
     "text": [
      " \n\t\t[0.06790123456790123, 0.0686868739368683, 0.07102151581963317, 0.07023338911927748, 0.07185904049175705, 0.09053690681568752, 0.0925699086273455, 0.09617476312814599, 0.10237495213769032, 0.11897576443629156]\n"
     ]
    },
    {
     "name": "stdout",
     "output_type": "stream",
     "text": [
      "0.79322566264"
     ]
    },
    {
     "name": "stdout",
     "output_type": "stream",
     "text": [
      " 0.661961268612"
     ]
    },
    {
     "name": "stdout",
     "output_type": "stream",
     "text": [
      " 0.651350947186"
     ]
    },
    {
     "name": "stdout",
     "output_type": "stream",
     "text": [
      " 0.61140777662"
     ]
    },
    {
     "name": "stdout",
     "output_type": "stream",
     "text": [
      " 0.770054789402"
     ]
    },
    {
     "name": "stdout",
     "output_type": "stream",
     "text": [
      " 0.616099349671"
     ]
    },
    {
     "name": "stdout",
     "output_type": "stream",
     "text": [
      " 0.603055844797"
     ]
    },
    {
     "name": "stdout",
     "output_type": "stream",
     "text": [
      " 0.67633193153"
     ]
    },
    {
     "name": "stdout",
     "output_type": "stream",
     "text": [
      " 0.597440633821"
     ]
    },
    {
     "name": "stdout",
     "output_type": "stream",
     "text": [
      " 0.736565169851"
     ]
    },
    {
     "name": "stdout",
     "output_type": "stream",
     "text": [
      " \n\t\t[0.037037037037037035, 0.06028392180071095, 0.0639282496987046, 0.06383318766347446, 0.06572436684201184, 0.077962861531475, 0.08901811372715904, 0.09617612320158936, 0.09907009953267615, 0.11004167152384611]\n"
     ]
    },
    {
     "name": "stdout",
     "output_type": "stream",
     "text": [
      "0.724647206985"
     ]
    },
    {
     "name": "stdout",
     "output_type": "stream",
     "text": [
      " 0.556113052067"
     ]
    },
    {
     "name": "stdout",
     "output_type": "stream",
     "text": [
      " 0.620250528534"
     ]
    },
    {
     "name": "stdout",
     "output_type": "stream",
     "text": [
      " 0.616721134516"
     ]
    },
    {
     "name": "stdout",
     "output_type": "stream",
     "text": [
      " 0.617096334481"
     ]
    },
    {
     "name": "stdout",
     "output_type": "stream",
     "text": [
      " 0.684535702792"
     ]
    },
    {
     "name": "stdout",
     "output_type": "stream",
     "text": [
      " 0.705324183855"
     ]
    },
    {
     "name": "stdout",
     "output_type": "stream",
     "text": [
      " 0.648145472418"
     ]
    },
    {
     "name": "stdout",
     "output_type": "stream",
     "text": [
      " 0.529450845468"
     ]
    },
    {
     "name": "stdout",
     "output_type": "stream",
     "text": [
      " 0.628705436367"
     ]
    },
    {
     "name": "stdout",
     "output_type": "stream",
     "text": [
      " \n\t\t[0.04938271604938271, 0.06349127022769042, 0.06296069461752864, 0.06591416431288157, 0.07690103734357834, 0.08564361909354276, 0.09403252268083884, 0.09647218961681242, 0.09939754965690427, 0.1259317684765213]\n"
     ]
    },
    {
     "name": "stdout",
     "output_type": "stream",
     "text": [
      "0.636624718282"
     ]
    },
    {
     "name": "stdout",
     "output_type": "stream",
     "text": [
      " 0.665819935853"
     ]
    },
    {
     "name": "stdout",
     "output_type": "stream",
     "text": [
      " 0.678456423829"
     ]
    },
    {
     "name": "stdout",
     "output_type": "stream",
     "text": [
      " 0.605604107482"
     ]
    },
    {
     "name": "stdout",
     "output_type": "stream",
     "text": [
      " 0.696869520565"
     ]
    },
    {
     "name": "stdout",
     "output_type": "stream",
     "text": [
      " 0.653272417299"
     ]
    },
    {
     "name": "stdout",
     "output_type": "stream",
     "text": [
      " 0.637851236545"
     ]
    },
    {
     "name": "stdout",
     "output_type": "stream",
     "text": [
      " 0.721837254251"
     ]
    },
    {
     "name": "stdout",
     "output_type": "stream",
     "text": [
      " 0.56567405477"
     ]
    },
    {
     "name": "stdout",
     "output_type": "stream",
     "text": [
      " 0.622683244834"
     ]
    },
    {
     "name": "stdout",
     "output_type": "stream",
     "text": [
      " \n\t\t[0.04938271604938271, 0.06349127022769042, 0.06665563428854812, 0.06191684612525107, 0.07312167630038588, 0.08301434359031688, 0.09298934913396628, 0.0957516796919804, 0.09867646557100962, 0.12865149083505237]\n"
     ]
    },
    {
     "name": "stdout",
     "output_type": "stream",
     "text": [
      "0.735132338116"
     ]
    },
    {
     "name": "stdout",
     "output_type": "stream",
     "text": [
      " 0.711138052027"
     ]
    },
    {
     "name": "stdout",
     "output_type": "stream",
     "text": [
      " 0.649886489059"
     ]
    },
    {
     "name": "stdout",
     "output_type": "stream",
     "text": [
      " 0.681044814863"
     ]
    },
    {
     "name": "stdout",
     "output_type": "stream",
     "text": [
      " 0.728978108629"
     ]
    },
    {
     "name": "stdout",
     "output_type": "stream",
     "text": [
      " 0.583311442093"
     ]
    },
    {
     "name": "stdout",
     "output_type": "stream",
     "text": [
      " 0.624402598502"
     ]
    },
    {
     "name": "stdout",
     "output_type": "stream",
     "text": [
      " 0.476696801946"
     ]
    },
    {
     "name": "stdout",
     "output_type": "stream",
     "text": [
      " 0.747190638646"
     ]
    },
    {
     "name": "stdout",
     "output_type": "stream",
     "text": [
      " 0.838726506937"
     ]
    },
    {
     "name": "stdout",
     "output_type": "stream",
     "text": [
      " \n\t\t[0.08641975308641976, 0.09164636405850037, 0.08753880077329328, 0.0864905928605096, 0.09643836885122424, 0.09975435874579153, 0.10260648893465113, 0.10661665969950489, 0.11504191263006586, 0.12106423984979713]\n"
     ]
    },
    {
     "name": "stdout",
     "output_type": "stream",
     "text": [
      "0.571032548297"
     ]
    },
    {
     "name": "stdout",
     "output_type": "stream",
     "text": [
      " 0.740516159258"
     ]
    },
    {
     "name": "stdout",
     "output_type": "stream",
     "text": [
      " 0.651886386356"
     ]
    },
    {
     "name": "stdout",
     "output_type": "stream",
     "text": [
      " 0.764224648497"
     ]
    },
    {
     "name": "stdout",
     "output_type": "stream",
     "text": [
      " 0.58102369603"
     ]
    },
    {
     "name": "stdout",
     "output_type": "stream",
     "text": [
      " 0.689675530891"
     ]
    },
    {
     "name": "stdout",
     "output_type": "stream",
     "text": [
      " 0.57413297674"
     ]
    },
    {
     "name": "stdout",
     "output_type": "stream",
     "text": [
      " 0.60760689577"
     ]
    },
    {
     "name": "stdout",
     "output_type": "stream",
     "text": [
      " 0.569329340078"
     ]
    },
    {
     "name": "stdout",
     "output_type": "stream",
     "text": [
      " 0.71659102807"
     ]
    },
    {
     "name": "stdout",
     "output_type": "stream",
     "text": [
      " \n\t\t[0.04938271604938271, 0.06349127022769042, 0.06296069461752864, 0.07393538150644234, 0.07771724109817185, 0.08310553818929879, 0.0931009180611485, 0.09700073024613544, 0.09992870932720355, 0.12705007258146955]\n"
     ]
    },
    {
     "name": "stdout",
     "output_type": "stream",
     "text": [
      "0.652100075864"
     ]
    },
    {
     "name": "stdout",
     "output_type": "stream",
     "text": [
      " 0.644548906309"
     ]
    },
    {
     "name": "stdout",
     "output_type": "stream",
     "text": [
      " 0.683769070437"
     ]
    },
    {
     "name": "stdout",
     "output_type": "stream",
     "text": [
      " 0.708650099757"
     ]
    },
    {
     "name": "stdout",
     "output_type": "stream",
     "text": [
      " 0.737151627045"
     ]
    },
    {
     "name": "stdout",
     "output_type": "stream",
     "text": [
      " 0.717280739162"
     ]
    },
    {
     "name": "stdout",
     "output_type": "stream",
     "text": [
      " 0.67529813256"
     ]
    },
    {
     "name": "stdout",
     "output_type": "stream",
     "text": [
      " 0.720502355465"
     ]
    },
    {
     "name": "stdout",
     "output_type": "stream",
     "text": [
      " 0.568222988372"
     ]
    },
    {
     "name": "stdout",
     "output_type": "stream",
     "text": [
      " 0.672927377149"
     ]
    },
    {
     "name": "stdout",
     "output_type": "stream",
     "text": [
      " \n\t\t[0.012345679012345678, 0.05510999668950832, 0.05984120404147447, 0.06008877757770743, 0.06399553073312977, 0.07942808525106658, 0.08281805665265572, 0.09006583673460461, 0.09300288698601201, 0.10668389587978445]\n"
     ]
    },
    {
     "name": "stdout",
     "output_type": "stream",
     "text": [
      "0.66843322562"
     ]
    },
    {
     "name": "stdout",
     "output_type": "stream",
     "text": [
      " 0.613419220086"
     ]
    },
    {
     "name": "stdout",
     "output_type": "stream",
     "text": [
      " 0.744195729934"
     ]
    },
    {
     "name": "stdout",
     "output_type": "stream",
     "text": [
      " 0.747302761849"
     ]
    },
    {
     "name": "stdout",
     "output_type": "stream",
     "text": [
      " 0.583386284066"
     ]
    },
    {
     "name": "stdout",
     "output_type": "stream",
     "text": [
      " 0.716721359931"
     ]
    },
    {
     "name": "stdout",
     "output_type": "stream",
     "text": [
      " 0.634867695108"
     ]
    },
    {
     "name": "stdout",
     "output_type": "stream",
     "text": [
      " 0.677096171196"
     ]
    },
    {
     "name": "stdout",
     "output_type": "stream",
     "text": [
      " 0.650500879951"
     ]
    },
    {
     "name": "stdout",
     "output_type": "stream",
     "text": [
      " 0.721550750117"
     ]
    },
    {
     "name": "stdout",
     "output_type": "stream",
     "text": [
      " \n\t\t[0.10493827160493828, 0.09139602922447788, 0.09431691202862043, 0.09569697649364209, 0.10534996165270202, 0.10852011325776093, 0.11016698690908545, 0.1152229356849707, 0.12139774980103903, 0.137357429293678]\n"
     ]
    },
    {
     "name": "stdout",
     "output_type": "stream",
     "text": [
      "0.705689404121"
     ]
    },
    {
     "name": "stdout",
     "output_type": "stream",
     "text": [
      " 0.659884515353"
     ]
    },
    {
     "name": "stdout",
     "output_type": "stream",
     "text": [
      " 0.549681691705"
     ]
    },
    {
     "name": "stdout",
     "output_type": "stream",
     "text": [
      " 0.58236724856"
     ]
    },
    {
     "name": "stdout",
     "output_type": "stream",
     "text": [
      " 0.719465676805"
     ]
    },
    {
     "name": "stdout",
     "output_type": "stream",
     "text": [
      " 0.721878518883"
     ]
    },
    {
     "name": "stdout",
     "output_type": "stream",
     "text": [
      " 0.664751099648"
     ]
    },
    {
     "name": "stdout",
     "output_type": "stream",
     "text": [
      " 0.828916362602"
     ]
    },
    {
     "name": "stdout",
     "output_type": "stream",
     "text": [
      " 0.654802518511"
     ]
    },
    {
     "name": "stdout",
     "output_type": "stream",
     "text": [
      " 0.674324251818"
     ]
    },
    {
     "name": "stdout",
     "output_type": "stream",
     "text": [
      " \n\t\t[0.04938271604938271, 0.06349127022769042, 0.06665563428854812, 0.07617573955029532, 0.07745264377696612, 0.07964551013837931, 0.08937438593964489, 0.0957810966893767, 0.09916898063158788, 0.1205155186097747]\n"
     ]
    },
    {
     "name": "stdout",
     "output_type": "stream",
     "text": [
      "0.615388756023"
     ]
    },
    {
     "name": "stdout",
     "output_type": "stream",
     "text": [
      " 0.497352220402"
     ]
    },
    {
     "name": "stdout",
     "output_type": "stream",
     "text": [
      " 0.807256121575"
     ]
    },
    {
     "name": "stdout",
     "output_type": "stream",
     "text": [
      " 0.651319517362"
     ]
    },
    {
     "name": "stdout",
     "output_type": "stream",
     "text": [
      " 0.687995579236"
     ]
    },
    {
     "name": "stdout",
     "output_type": "stream",
     "text": [
      " 0.672453588943"
     ]
    },
    {
     "name": "stdout",
     "output_type": "stream",
     "text": [
      " 0.589573213725"
     ]
    },
    {
     "name": "stdout",
     "output_type": "stream",
     "text": [
      " 0.716714096625"
     ]
    },
    {
     "name": "stdout",
     "output_type": "stream",
     "text": [
      " 0.740605111543"
     ]
    },
    {
     "name": "stdout",
     "output_type": "stream",
     "text": [
      " 0.691236551899"
     ]
    },
    {
     "name": "stdout",
     "output_type": "stream",
     "text": [
      " \n\t\t[0.04938271604938271, 0.06349127022769042, 0.06665563428854812, 0.06639543871427345, 0.06767234294094424, 0.08153088456844511, 0.08610183877465835, 0.0946775892347702, 0.09875253771929852, 0.10853491676077338]\n"
     ]
    },
    {
     "name": "stdout",
     "output_type": "stream",
     "text": [
      "0.703764569466"
     ]
    },
    {
     "name": "stdout",
     "output_type": "stream",
     "text": [
      " 0.567569499936"
     ]
    },
    {
     "name": "stdout",
     "output_type": "stream",
     "text": [
      " 0.716836211663"
     ]
    },
    {
     "name": "stdout",
     "output_type": "stream",
     "text": [
      " 0.674405607597"
     ]
    },
    {
     "name": "stdout",
     "output_type": "stream",
     "text": [
      " 0.611422900237"
     ]
    },
    {
     "name": "stdout",
     "output_type": "stream",
     "text": [
      " 0.613840550934"
     ]
    },
    {
     "name": "stdout",
     "output_type": "stream",
     "text": [
      " 0.684869661034"
     ]
    },
    {
     "name": "stdout",
     "output_type": "stream",
     "text": [
      " 0.792535862449"
     ]
    },
    {
     "name": "stdout",
     "output_type": "stream",
     "text": [
      " 0.595392038043"
     ]
    },
    {
     "name": "stdout",
     "output_type": "stream",
     "text": [
      " 0.73702015036"
     ]
    },
    {
     "name": "stdout",
     "output_type": "stream",
     "text": [
      " \n\t\t[0.04938271604938271, 0.06349127022769042, 0.06665563428854812, 0.06191684612525107, 0.07045841719980167, 0.08274926725224105, 0.09196757040148348, 0.1005474630946143, 0.10712607527084357, 0.12193807678576539]\n"
     ]
    },
    {
     "name": "stdout",
     "output_type": "stream",
     "text": [
      "0.70171917574"
     ]
    },
    {
     "name": "stdout",
     "output_type": "stream",
     "text": [
      " 0.660103532954"
     ]
    },
    {
     "name": "stdout",
     "output_type": "stream",
     "text": [
      " 0.693808749751"
     ]
    },
    {
     "name": "stdout",
     "output_type": "stream",
     "text": [
      " 0.61084959157"
     ]
    },
    {
     "name": "stdout",
     "output_type": "stream",
     "text": [
      " 0.61061261688"
     ]
    },
    {
     "name": "stdout",
     "output_type": "stream",
     "text": [
      " 0.540171012118"
     ]
    },
    {
     "name": "stdout",
     "output_type": "stream",
     "text": [
      " 0.73876271097"
     ]
    },
    {
     "name": "stdout",
     "output_type": "stream",
     "text": [
      " 0.686450903765"
     ]
    },
    {
     "name": "stdout",
     "output_type": "stream",
     "text": [
      " 0.745924917"
     ]
    },
    {
     "name": "stdout",
     "output_type": "stream",
     "text": [
      " 0.705805680625"
     ]
    },
    {
     "name": "stdout",
     "output_type": "stream",
     "text": [
      " \n\t\t[0.04938271604938271, 0.06349127022769042, 0.06665563428854812, 0.06639543871427345, 0.0748773563799115, 0.08529870735384243, 0.0868699331941741, 0.09415464070524197, 0.10386300590125738, 0.12223380916730507]\n"
     ]
    },
    {
     "name": "stdout",
     "output_type": "stream",
     "text": [
      "0.646239332261"
     ]
    },
    {
     "name": "stdout",
     "output_type": "stream",
     "text": [
      " 0.775536284103"
     ]
    },
    {
     "name": "stdout",
     "output_type": "stream",
     "text": [
      " 0.610302002762"
     ]
    },
    {
     "name": "stdout",
     "output_type": "stream",
     "text": [
      " 0.554225552184"
     ]
    },
    {
     "name": "stdout",
     "output_type": "stream",
     "text": [
      " 0.68853691818"
     ]
    },
    {
     "name": "stdout",
     "output_type": "stream",
     "text": [
      " 0.642922981273"
     ]
    },
    {
     "name": "stdout",
     "output_type": "stream",
     "text": [
      " 0.690694164414"
     ]
    },
    {
     "name": "stdout",
     "output_type": "stream",
     "text": [
      " 0.640735872987"
     ]
    },
    {
     "name": "stdout",
     "output_type": "stream",
     "text": [
      " 0.725683892329"
     ]
    },
    {
     "name": "stdout",
     "output_type": "stream",
     "text": [
      " 0.750510279634"
     ]
    },
    {
     "name": "stdout",
     "output_type": "stream",
     "text": [
      " \n\t\t[0.04938271604938271, 0.06349127022769042, 0.06665563428854812, 0.06639543871427345, 0.07466926127919864, 0.08502604370126914, 0.09111950412845246, 0.09831967545330544, 0.10668948272189126, 0.1169943863746086]\n"
     ]
    },
    {
     "name": "stdout",
     "output_type": "stream",
     "text": [
      "0.617234063266"
     ]
    },
    {
     "name": "stdout",
     "output_type": "stream",
     "text": [
      " 0.757746141217"
     ]
    },
    {
     "name": "stdout",
     "output_type": "stream",
     "text": [
      " 0.681752912849"
     ]
    },
    {
     "name": "stdout",
     "output_type": "stream",
     "text": [
      " 0.646368558935"
     ]
    },
    {
     "name": "stdout",
     "output_type": "stream",
     "text": [
      " 0.62707893924"
     ]
    },
    {
     "name": "stdout",
     "output_type": "stream",
     "text": [
      " 0.91414778076"
     ]
    },
    {
     "name": "stdout",
     "output_type": "stream",
     "text": [
      " 0.684661443351"
     ]
    },
    {
     "name": "stdout",
     "output_type": "stream",
     "text": [
      " 0.603562327396"
     ]
    },
    {
     "name": "stdout",
     "output_type": "stream",
     "text": [
      " 0.558330373265"
     ]
    },
    {
     "name": "stdout",
     "output_type": "stream",
     "text": [
      " 0.821276681681"
     ]
    },
    {
     "name": "stdout",
     "output_type": "stream",
     "text": [
      " \n\t\t[0.037037037037037035, 0.06028392180071095, 0.0639282496987046, 0.06831178025249682, 0.07116349160982884, 0.08612289629593414, 0.08755120944513288, 0.09605975788323845, 0.10132656231038974, 0.11245838933103151]\n"
     ]
    },
    {
     "name": "stdout",
     "output_type": "stream",
     "text": [
      "0.715875609053"
     ]
    },
    {
     "name": "stdout",
     "output_type": "stream",
     "text": [
      " 0.725537540662"
     ]
    },
    {
     "name": "stdout",
     "output_type": "stream",
     "text": [
      " 0.681882662168"
     ]
    },
    {
     "name": "stdout",
     "output_type": "stream",
     "text": [
      " 0.722444321763"
     ]
    },
    {
     "name": "stdout",
     "output_type": "stream",
     "text": [
      " 0.736997458779"
     ]
    },
    {
     "name": "stdout",
     "output_type": "stream",
     "text": [
      " 0.67766965643"
     ]
    },
    {
     "name": "stdout",
     "output_type": "stream",
     "text": [
      " 0.787630664749"
     ]
    },
    {
     "name": "stdout",
     "output_type": "stream",
     "text": [
      " 0.64119372498"
     ]
    },
    {
     "name": "stdout",
     "output_type": "stream",
     "text": [
      " 0.633850447615"
     ]
    },
    {
     "name": "stdout",
     "output_type": "stream",
     "text": [
      " 0.650626707084"
     ]
    },
    {
     "name": "stdout",
     "output_type": "stream",
     "text": [
      " \n\t\t[0.037037037037037035, 0.06028392180071095, 0.0639282496987046, 0.06831178025249682, 0.07625169069092418, 0.09300547201494769, 0.09948938983532941, 0.10321626662258993, 0.10848379715232047, 0.12454709235317744]\n"
     ]
    },
    {
     "name": "stdout",
     "output_type": "stream",
     "text": [
      "0.638933280308"
     ]
    },
    {
     "name": "stdout",
     "output_type": "stream",
     "text": [
      " 0.610287290639"
     ]
    },
    {
     "name": "stdout",
     "output_type": "stream",
     "text": [
      " 0.645365318928"
     ]
    },
    {
     "name": "stdout",
     "output_type": "stream",
     "text": [
      " 0.606064826639"
     ]
    },
    {
     "name": "stdout",
     "output_type": "stream",
     "text": [
      " 0.559533314483"
     ]
    },
    {
     "name": "stdout",
     "output_type": "stream",
     "text": [
      " 0.579440279186"
     ]
    },
    {
     "name": "stdout",
     "output_type": "stream",
     "text": [
      " 0.67580614697"
     ]
    },
    {
     "name": "stdout",
     "output_type": "stream",
     "text": [
      " 0.710201467138"
     ]
    },
    {
     "name": "stdout",
     "output_type": "stream",
     "text": [
      " 0.613681607591"
     ]
    },
    {
     "name": "stdout",
     "output_type": "stream",
     "text": [
      " 0.699551301562"
     ]
    },
    {
     "name": "stdout",
     "output_type": "stream",
     "text": [
      " \n\t\t[0.08641975308641976, 0.07388247764604618, 0.08130210000330712, 0.08374941709230657, 0.08569174306271758, 0.10046630029273128, 0.10189637436242514, 0.10520320243017466, 0.11454247535575471, 0.11985277130551372]\n"
     ]
    },
    {
     "name": "stdout",
     "output_type": "stream",
     "text": [
      "0.681160807919"
     ]
    },
    {
     "name": "stdout",
     "output_type": "stream",
     "text": [
      " 0.669450617556"
     ]
    },
    {
     "name": "stdout",
     "output_type": "stream",
     "text": [
      " 0.654903720306"
     ]
    },
    {
     "name": "stdout",
     "output_type": "stream",
     "text": [
      " 0.636483079694"
     ]
    },
    {
     "name": "stdout",
     "output_type": "stream",
     "text": [
      " 0.757564292468"
     ]
    },
    {
     "name": "stdout",
     "output_type": "stream",
     "text": [
      " 0.704678914878"
     ]
    },
    {
     "name": "stdout",
     "output_type": "stream",
     "text": [
      " 0.661729631489"
     ]
    },
    {
     "name": "stdout",
     "output_type": "stream",
     "text": [
      " 0.595404921505"
     ]
    },
    {
     "name": "stdout",
     "output_type": "stream",
     "text": [
      " 0.728487659512"
     ]
    },
    {
     "name": "stdout",
     "output_type": "stream",
     "text": [
      " 0.737180352385"
     ]
    },
    {
     "name": "stdout",
     "output_type": "stream",
     "text": [
      " \n\t\t[0.04938271604938271, 0.05460932702146333, 0.06510681316704431, 0.06503390414027481, 0.06956221339549863, 0.07855568156187255, 0.08470852309860726, 0.0934117456449246, 0.10246823521326448, 0.10906156897914815]\n"
     ]
    },
    {
     "name": "stdout",
     "output_type": "stream",
     "text": [
      "0.669422399616"
     ]
    },
    {
     "name": "stdout",
     "output_type": "stream",
     "text": [
      " 0.621140227253"
     ]
    },
    {
     "name": "stdout",
     "output_type": "stream",
     "text": [
      " 0.658015361071"
     ]
    },
    {
     "name": "stdout",
     "output_type": "stream",
     "text": [
      " 0.649330709817"
     ]
    },
    {
     "name": "stdout",
     "output_type": "stream",
     "text": [
      " 0.641093583367"
     ]
    },
    {
     "name": "stdout",
     "output_type": "stream",
     "text": [
      " 0.680619433217"
     ]
    },
    {
     "name": "stdout",
     "output_type": "stream",
     "text": [
      " 0.736121317174"
     ]
    },
    {
     "name": "stdout",
     "output_type": "stream",
     "text": [
      " 0.757817876349"
     ]
    },
    {
     "name": "stdout",
     "output_type": "stream",
     "text": [
      " 0.778681834779"
     ]
    },
    {
     "name": "stdout",
     "output_type": "stream",
     "text": [
      " 0.697301065717"
     ]
    },
    {
     "name": "stdout",
     "output_type": "stream",
     "text": [
      " \n\t\t[0.04938271604938271, 0.06349127022769042, 0.06665563428854812, 0.06639543871427345, 0.06746424784023138, 0.0858809764538415, 0.09099421943021004, 0.0991661849346703, 0.10345286166173417, 0.11393676903524848]\n"
     ]
    },
    {
     "name": "stdout",
     "output_type": "stream",
     "text": [
      "0.70748792112"
     ]
    },
    {
     "name": "stdout",
     "output_type": "stream",
     "text": [
      " 0.739841776454"
     ]
    },
    {
     "name": "stdout",
     "output_type": "stream",
     "text": [
      " 0.627114723151"
     ]
    },
    {
     "name": "stdout",
     "output_type": "stream",
     "text": [
      " 0.505763549695"
     ]
    },
    {
     "name": "stdout",
     "output_type": "stream",
     "text": [
      " 0.635886171493"
     ]
    },
    {
     "name": "stdout",
     "output_type": "stream",
     "text": [
      " 0.617653943078"
     ]
    },
    {
     "name": "stdout",
     "output_type": "stream",
     "text": [
      " 0.629997982878"
     ]
    },
    {
     "name": "stdout",
     "output_type": "stream",
     "text": [
      " 0.61966778237"
     ]
    },
    {
     "name": "stdout",
     "output_type": "stream",
     "text": [
      " 0.727623373658"
     ]
    },
    {
     "name": "stdout",
     "output_type": "stream",
     "text": [
      " 0.73824606185"
     ]
    },
    {
     "name": "stdout",
     "output_type": "stream",
     "text": [
      " \n\t\t[0.04938271604938271, 0.06349127022769042, 0.06665563428854812, 0.06683067904882399, 0.06788046705211485, 0.07310895921784534, 0.08839920220502183, 0.09085086689513812, 0.09889789570018356, 0.10786045051083909]\n"
     ]
    },
    {
     "name": "stdout",
     "output_type": "stream",
     "text": [
      "0.667815982423"
     ]
    },
    {
     "name": "stdout",
     "output_type": "stream",
     "text": [
      " 0.611394253906"
     ]
    },
    {
     "name": "stdout",
     "output_type": "stream",
     "text": [
      " 0.67772909598"
     ]
    },
    {
     "name": "stdout",
     "output_type": "stream",
     "text": [
      " 0.798799506599"
     ]
    },
    {
     "name": "stdout",
     "output_type": "stream",
     "text": [
      " 0.624626486141"
     ]
    },
    {
     "name": "stdout",
     "output_type": "stream",
     "text": [
      " 0.587112216874"
     ]
    },
    {
     "name": "stdout",
     "output_type": "stream",
     "text": [
      " 0.64975644988"
     ]
    },
    {
     "name": "stdout",
     "output_type": "stream",
     "text": [
      " 0.698309560356"
     ]
    },
    {
     "name": "stdout",
     "output_type": "stream",
     "text": [
      " 0.623063325408"
     ]
    },
    {
     "name": "stdout",
     "output_type": "stream",
     "text": [
      " 0.703039265921"
     ]
    },
    {
     "name": "stdout",
     "output_type": "stream",
     "text": [
      " \n\t\t[0.06790123456790123, 0.0686868739368683, 0.07693621847222204, 0.07991146668730253, 0.08984726479311386, 0.09216652113734583, 0.09869982063041245, 0.10407538676486315, 0.10713797151078612, 0.1256728653754762]\n"
     ]
    },
    {
     "name": "stdout",
     "output_type": "stream",
     "text": [
      "0.709975605107"
     ]
    },
    {
     "name": "stdout",
     "output_type": "stream",
     "text": [
      " 0.624056763618"
     ]
    },
    {
     "name": "stdout",
     "output_type": "stream",
     "text": [
      " 0.659363677227"
     ]
    },
    {
     "name": "stdout",
     "output_type": "stream",
     "text": [
      " 0.750713790557"
     ]
    },
    {
     "name": "stdout",
     "output_type": "stream",
     "text": [
      " 0.609328203546"
     ]
    },
    {
     "name": "stdout",
     "output_type": "stream",
     "text": [
      " 0.681773104979"
     ]
    },
    {
     "name": "stdout",
     "output_type": "stream",
     "text": [
      " 0.686234674026"
     ]
    },
    {
     "name": "stdout",
     "output_type": "stream",
     "text": [
      " 0.675067635166"
     ]
    },
    {
     "name": "stdout",
     "output_type": "stream",
     "text": [
      " 0.663422484147"
     ]
    },
    {
     "name": "stdout",
     "output_type": "stream",
     "text": [
      " 0.660745484525"
     ]
    },
    {
     "name": "stdout",
     "output_type": "stream",
     "text": [
      " \n\t\t[0.06790123456790123, 0.0686868739368683, 0.07693621847222204, 0.07991146668730253, 0.08943483174200244, 0.09246785994957867, 0.09382154756939452, 0.10229574420204388, 0.10962009467654775, 0.12349405247947344]\n"
     ]
    },
    {
     "name": "stdout",
     "output_type": "stream",
     "text": [
      "0.499004529281"
     ]
    },
    {
     "name": "stdout",
     "output_type": "stream",
     "text": [
      " 0.66172499603"
     ]
    },
    {
     "name": "stdout",
     "output_type": "stream",
     "text": [
      " 0.604579715263"
     ]
    },
    {
     "name": "stdout",
     "output_type": "stream",
     "text": [
      " 0.607422336376"
     ]
    },
    {
     "name": "stdout",
     "output_type": "stream",
     "text": [
      " 0.625125557009"
     ]
    },
    {
     "name": "stdout",
     "output_type": "stream",
     "text": [
      " 0.77023806638"
     ]
    },
    {
     "name": "stdout",
     "output_type": "stream",
     "text": [
      " 0.598420102967"
     ]
    },
    {
     "name": "stdout",
     "output_type": "stream",
     "text": [
      " 0.732080303267"
     ]
    },
    {
     "name": "stdout",
     "output_type": "stream",
     "text": [
      " 0.736024469374"
     ]
    },
    {
     "name": "stdout",
     "output_type": "stream",
     "text": [
      " 0.760100209539"
     ]
    },
    {
     "name": "stdout",
     "output_type": "stream",
     "text": [
      " \n\t\t[0.04938271604938271, 0.06349127022769042, 0.06665563428854812, 0.0708740313032958, 0.0717121425569714, 0.08356195594627833, 0.08959908559250486, 0.09680885534534453, 0.101633203220802, 0.10989512303206427]\n"
     ]
    },
    {
     "name": "stdout",
     "output_type": "stream",
     "text": [
      "0.55177182434"
     ]
    },
    {
     "name": "stdout",
     "output_type": "stream",
     "text": [
      " 0.642422109936"
     ]
    },
    {
     "name": "stdout",
     "output_type": "stream",
     "text": [
      " 0.480320431562"
     ]
    },
    {
     "name": "stdout",
     "output_type": "stream",
     "text": [
      " 0.562090810447"
     ]
    },
    {
     "name": "stdout",
     "output_type": "stream",
     "text": [
      " 0.728917782665"
     ]
    },
    {
     "name": "stdout",
     "output_type": "stream",
     "text": [
      " 0.668873852737"
     ]
    },
    {
     "name": "stdout",
     "output_type": "stream",
     "text": [
      " 0.608877772233"
     ]
    },
    {
     "name": "stdout",
     "output_type": "stream",
     "text": [
      " 0.727194445553"
     ]
    },
    {
     "name": "stdout",
     "output_type": "stream",
     "text": [
      " 0.64215666078"
     ]
    },
    {
     "name": "stdout",
     "output_type": "stream",
     "text": [
      " 0.697617148407"
     ]
    },
    {
     "name": "stdout",
     "output_type": "stream",
     "text": [
      " \n\t\t[0.05864197530864197, 0.06089447237426814, 0.0706823380833735, 0.07026995644983193, 0.07840760325615818, 0.08202467946022575, 0.0808836867646736, 0.08901720736934197, 0.09706994406422258, 0.1128304425513212]\n"
     ]
    },
    {
     "name": "stdout",
     "output_type": "stream",
     "text": [
      "0.688733886937"
     ]
    },
    {
     "name": "stdout",
     "output_type": "stream",
     "text": [
      " 0.738446517758"
     ]
    },
    {
     "name": "stdout",
     "output_type": "stream",
     "text": [
      " 0.71653198779"
     ]
    },
    {
     "name": "stdout",
     "output_type": "stream",
     "text": [
      " 0.749612694336"
     ]
    },
    {
     "name": "stdout",
     "output_type": "stream",
     "text": [
      " 0.767558242718"
     ]
    },
    {
     "name": "stdout",
     "output_type": "stream",
     "text": [
      " 0.633817622774"
     ]
    },
    {
     "name": "stdout",
     "output_type": "stream",
     "text": [
      " 0.730761869892"
     ]
    },
    {
     "name": "stdout",
     "output_type": "stream",
     "text": [
      " 0.693384277447"
     ]
    },
    {
     "name": "stdout",
     "output_type": "stream",
     "text": [
      " 0.650397643266"
     ]
    },
    {
     "name": "stdout",
     "output_type": "stream",
     "text": [
      " 0.548827017603"
     ]
    },
    {
     "name": "stdout",
     "output_type": "stream",
     "text": [
      " \n\t\t[0.04938271604938271, 0.056327329352976685, 0.06544690548744171, 0.0653297175183963, 0.06640973333390685, 0.08500805869787209, 0.08945562200156114, 0.09634116870693132, 0.09940498671015136, 0.11030679990400696]\n"
     ]
    },
    {
     "name": "stdout",
     "output_type": "stream",
     "text": [
      "0.699753659898"
     ]
    },
    {
     "name": "stdout",
     "output_type": "stream",
     "text": [
      " 0.547534299554"
     ]
    },
    {
     "name": "stdout",
     "output_type": "stream",
     "text": [
      " 0.763689670259"
     ]
    },
    {
     "name": "stdout",
     "output_type": "stream",
     "text": [
      " 0.629190556788"
     ]
    },
    {
     "name": "stdout",
     "output_type": "stream",
     "text": [
      " 0.75441940606"
     ]
    },
    {
     "name": "stdout",
     "output_type": "stream",
     "text": [
      " 0.544091136871"
     ]
    },
    {
     "name": "stdout",
     "output_type": "stream",
     "text": [
      " 0.715146493549"
     ]
    },
    {
     "name": "stdout",
     "output_type": "stream",
     "text": [
      " 0.824357953693"
     ]
    },
    {
     "name": "stdout",
     "output_type": "stream",
     "text": [
      " 0.645717502384"
     ]
    },
    {
     "name": "stdout",
     "output_type": "stream",
     "text": [
      " 0.716251844687"
     ]
    },
    {
     "name": "stdout",
     "output_type": "stream",
     "text": [
      " \n\t\t[0.04938271604938271, 0.06349127022769042, 0.06665563428854812, 0.06639543871427345, 0.06746424784023138, 0.07958073901847149, 0.09008679059537741, 0.09697122406075591, 0.10064752653979078, 0.10918730801328141]\n"
     ]
    },
    {
     "name": "stdout",
     "output_type": "stream",
     "text": [
      "0.717605219577"
     ]
    },
    {
     "name": "stdout",
     "output_type": "stream",
     "text": [
      " 0.753203786888"
     ]
    },
    {
     "name": "stdout",
     "output_type": "stream",
     "text": [
      " 0.74371308817"
     ]
    },
    {
     "name": "stdout",
     "output_type": "stream",
     "text": [
      " 0.648834330628"
     ]
    },
    {
     "name": "stdout",
     "output_type": "stream",
     "text": [
      " 0.735052351018"
     ]
    },
    {
     "name": "stdout",
     "output_type": "stream",
     "text": [
      " 0.699918457657"
     ]
    },
    {
     "name": "stdout",
     "output_type": "stream",
     "text": [
      " 0.630274418259"
     ]
    },
    {
     "name": "stdout",
     "output_type": "stream",
     "text": [
      " 0.610354303462"
     ]
    },
    {
     "name": "stdout",
     "output_type": "stream",
     "text": [
      " 0.590888783975"
     ]
    },
    {
     "name": "stdout",
     "output_type": "stream",
     "text": [
      " 0.604094354648"
     ]
    },
    {
     "name": "stdout",
     "output_type": "stream",
     "text": [
      " \n\t\t[0.04938271604938271, 0.06349127022769042, 0.06665563428854812, 0.06639543871427345, 0.06746424784023138, 0.0777467092224584, 0.08859000412155087, 0.09580921905039894, 0.0992596603642619, 0.1058206427991654]\n"
     ]
    },
    {
     "name": "stdout",
     "output_type": "stream",
     "text": [
      "0.729808874341"
     ]
    },
    {
     "name": "stdout",
     "output_type": "stream",
     "text": [
      " 0.757014574975"
     ]
    },
    {
     "name": "stdout",
     "output_type": "stream",
     "text": [
      " 0.797080709523"
     ]
    },
    {
     "name": "stdout",
     "output_type": "stream",
     "text": [
      " 0.639674226684"
     ]
    },
    {
     "name": "stdout",
     "output_type": "stream",
     "text": [
      " 0.621643974128"
     ]
    },
    {
     "name": "stdout",
     "output_type": "stream",
     "text": [
      " 0.674334511633"
     ]
    },
    {
     "name": "stdout",
     "output_type": "stream",
     "text": [
      " 0.625017196161"
     ]
    },
    {
     "name": "stdout",
     "output_type": "stream",
     "text": [
      " 0.557094421667"
     ]
    },
    {
     "name": "stdout",
     "output_type": "stream",
     "text": [
      " 0.780816302127"
     ]
    },
    {
     "name": "stdout",
     "output_type": "stream",
     "text": [
      " 0.605943477359"
     ]
    },
    {
     "name": "stdout",
     "output_type": "stream",
     "text": [
      " \n\t\t[0.04938271604938271, 0.06349127022769042, 0.06665563428854812, 0.06639543871427345, 0.06746424784023138, 0.07287216970079655, 0.09326465719652555, 0.10047433545073925, 0.10391584871976724, 0.10616427058599465]\n"
     ]
    },
    {
     "name": "stdout",
     "output_type": "stream",
     "text": [
      "0.650538472572"
     ]
    },
    {
     "name": "stdout",
     "output_type": "stream",
     "text": [
      " 0.819751277292"
     ]
    },
    {
     "name": "stdout",
     "output_type": "stream",
     "text": [
      " 0.672137658339"
     ]
    },
    {
     "name": "stdout",
     "output_type": "stream",
     "text": [
      " 0.690936863078"
     ]
    },
    {
     "name": "stdout",
     "output_type": "stream",
     "text": [
      " 0.533634457494"
     ]
    },
    {
     "name": "stdout",
     "output_type": "stream",
     "text": [
      " 0.658582283321"
     ]
    },
    {
     "name": "stdout",
     "output_type": "stream",
     "text": [
      " 0.656728070809"
     ]
    },
    {
     "name": "stdout",
     "output_type": "stream",
     "text": [
      " 0.65417818521"
     ]
    },
    {
     "name": "stdout",
     "output_type": "stream",
     "text": [
      " 0.667175970237"
     ]
    },
    {
     "name": "stdout",
     "output_type": "stream",
     "text": [
      " 0.590961369942"
     ]
    },
    {
     "name": "stdout",
     "output_type": "stream",
     "text": [
      " \n\t\t[0.04938271604938271, 0.06349127022769042, 0.06665563428854812, 0.06639543871427345, 0.06746424784023138, 0.07454965159819685, 0.08533072387707429, 0.09067062986440452, 0.09930286135732122, 0.10526864805543536]\n"
     ]
    },
    {
     "name": "stdout",
     "output_type": "stream",
     "text": [
      "0.590938706652"
     ]
    },
    {
     "name": "stdout",
     "output_type": "stream",
     "text": [
      " 0.678215094674"
     ]
    },
    {
     "name": "stdout",
     "output_type": "stream",
     "text": [
      " 0.593734301471"
     ]
    },
    {
     "name": "stdout",
     "output_type": "stream",
     "text": [
      " 0.689310326418"
     ]
    },
    {
     "name": "stdout",
     "output_type": "stream",
     "text": [
      " 0.633910338246"
     ]
    },
    {
     "name": "stdout",
     "output_type": "stream",
     "text": [
      " 0.594240753491"
     ]
    },
    {
     "name": "stdout",
     "output_type": "stream",
     "text": [
      " 0.713520596069"
     ]
    },
    {
     "name": "stdout",
     "output_type": "stream",
     "text": [
      " 0.641329400696"
     ]
    },
    {
     "name": "stdout",
     "output_type": "stream",
     "text": [
      " 0.6839963404"
     ]
    },
    {
     "name": "stdout",
     "output_type": "stream",
     "text": [
      " 0.544356742077"
     ]
    },
    {
     "name": "stdout",
     "output_type": "stream",
     "text": [
      " \n\t\t[0.04938271604938271, 0.06349127022769042, 0.06665563428854812, 0.06639543871427345, 0.06941001773473349, 0.06911273346977466, 0.08674388649701728, 0.09501213376113314, 0.09876650242657548, 0.10612035107237502]\n"
     ]
    },
    {
     "name": "stdout",
     "output_type": "stream",
     "text": [
      "0.638978114957"
     ]
    },
    {
     "name": "stdout",
     "output_type": "stream",
     "text": [
      " 0.713808156555"
     ]
    },
    {
     "name": "stdout",
     "output_type": "stream",
     "text": [
      " 0.653384796638"
     ]
    },
    {
     "name": "stdout",
     "output_type": "stream",
     "text": [
      " 0.696270774825"
     ]
    },
    {
     "name": "stdout",
     "output_type": "stream",
     "text": [
      " 0.670941100291"
     ]
    },
    {
     "name": "stdout",
     "output_type": "stream",
     "text": [
      " 0.722773489832"
     ]
    },
    {
     "name": "stdout",
     "output_type": "stream",
     "text": [
      " 0.658355605161"
     ]
    },
    {
     "name": "stdout",
     "output_type": "stream",
     "text": [
      " 0.813936394071"
     ]
    },
    {
     "name": "stdout",
     "output_type": "stream",
     "text": [
      " 0.650341226349"
     ]
    },
    {
     "name": "stdout",
     "output_type": "stream",
     "text": [
      " 0.631771456865"
     ]
    },
    {
     "name": "stdout",
     "output_type": "stream",
     "text": [
      " \n\t\t[0.04938271604938271, 0.056327329352976685, 0.06175196581642223, 0.06484844311700443, 0.06594119966035927, 0.08447514419350587, 0.08892443959980145, 0.09612582122509573, 0.09888980176792467, 0.10743081373058734]\n"
     ]
    },
    {
     "name": "stdout",
     "output_type": "stream",
     "text": [
      "0.759195545251"
     ]
    },
    {
     "name": "stdout",
     "output_type": "stream",
     "text": [
      " 0.722747589801"
     ]
    },
    {
     "name": "stdout",
     "output_type": "stream",
     "text": [
      " 0.653686134666"
     ]
    },
    {
     "name": "stdout",
     "output_type": "stream",
     "text": [
      " 0.666488392794"
     ]
    },
    {
     "name": "stdout",
     "output_type": "stream",
     "text": [
      " 0.752663575031"
     ]
    },
    {
     "name": "stdout",
     "output_type": "stream",
     "text": [
      " 0.651561466164"
     ]
    },
    {
     "name": "stdout",
     "output_type": "stream",
     "text": [
      " 0.861342022406"
     ]
    },
    {
     "name": "stdout",
     "output_type": "stream",
     "text": [
      " 0.636272516997"
     ]
    },
    {
     "name": "stdout",
     "output_type": "stream",
     "text": [
      " 0.725808807631"
     ]
    },
    {
     "name": "stdout",
     "output_type": "stream",
     "text": [
      " 0.747943723409"
     ]
    },
    {
     "name": "stdout",
     "output_type": "stream",
     "text": [
      " \n\t\t[0.06790123456790123, 0.0686868739368683, 0.07102151581963317, 0.07471198170829985, 0.07535239536507193, 0.07864341072437302, 0.08779357228489364, 0.10083146502243559, 0.1035946820744581, 0.11273236542537662]\n"
     ]
    },
    {
     "name": "stdout",
     "output_type": "stream",
     "text": [
      "0.628291703893"
     ]
    },
    {
     "name": "stdout",
     "output_type": "stream",
     "text": [
      " 0.592214597799"
     ]
    },
    {
     "name": "stdout",
     "output_type": "stream",
     "text": [
      " 0.582986388216"
     ]
    },
    {
     "name": "stdout",
     "output_type": "stream",
     "text": [
      " 0.712535876397"
     ]
    },
    {
     "name": "stdout",
     "output_type": "stream",
     "text": [
      " 0.719371981858"
     ]
    },
    {
     "name": "stdout",
     "output_type": "stream",
     "text": [
      " 0.684498806481"
     ]
    },
    {
     "name": "stdout",
     "output_type": "stream",
     "text": [
      " 0.711864252037"
     ]
    },
    {
     "name": "stdout",
     "output_type": "stream",
     "text": [
      " 0.684298912399"
     ]
    },
    {
     "name": "stdout",
     "output_type": "stream",
     "text": [
      " 0.666618053858"
     ]
    },
    {
     "name": "stdout",
     "output_type": "stream",
     "text": [
      " 0.761939595471"
     ]
    },
    {
     "name": "stdout",
     "output_type": "stream",
     "text": [
      " \n\t\t[0.06790123456790123, 0.06152293306215457, 0.06981278701852676, 0.0736462605124227, 0.0742978808587474, 0.07759397682684119, 0.08674649879186341, 0.09964602401715034, 0.10240977138590512, 0.11154770916479455]\n"
     ]
    },
    {
     "name": "stdout",
     "output_type": "stream",
     "text": [
      "0.607593546811"
     ]
    },
    {
     "name": "stdout",
     "output_type": "stream",
     "text": [
      " 0.611620596717"
     ]
    },
    {
     "name": "stdout",
     "output_type": "stream",
     "text": [
      " 0.559668198087"
     ]
    },
    {
     "name": "stdout",
     "output_type": "stream",
     "text": [
      " 0.635144930874"
     ]
    },
    {
     "name": "stdout",
     "output_type": "stream",
     "text": [
      " 0.669254263295"
     ]
    },
    {
     "name": "stdout",
     "output_type": "stream",
     "text": [
      " 0.586114689896"
     ]
    },
    {
     "name": "stdout",
     "output_type": "stream",
     "text": [
      " 0.612588924014"
     ]
    },
    {
     "name": "stdout",
     "output_type": "stream",
     "text": [
      " 0.7713427851"
     ]
    },
    {
     "name": "stdout",
     "output_type": "stream",
     "text": [
      " 0.648343904739"
     ]
    },
    {
     "name": "stdout",
     "output_type": "stream",
     "text": [
      " 0.794265670198"
     ]
    },
    {
     "name": "stdout",
     "output_type": "stream",
     "text": [
      " \n\t\t[0.04938271604938271, 0.056327329352976685, 0.06544690548744171, 0.0653297175183963, 0.0736147467728741, 0.0857363185599069, 0.09018388186359595, 0.09738444837285616, 0.10076066857207167, 0.1152814179490014]\n"
     ]
    },
    {
     "name": "stdout",
     "output_type": "stream",
     "text": [
      "0.61351714709"
     ]
    },
    {
     "name": "stdout",
     "output_type": "stream",
     "text": [
      " 0.698295395274"
     ]
    },
    {
     "name": "stdout",
     "output_type": "stream",
     "text": [
      " 0.734099365228"
     ]
    },
    {
     "name": "stdout",
     "output_type": "stream",
     "text": [
      " 0.629098390812"
     ]
    },
    {
     "name": "stdout",
     "output_type": "stream",
     "text": [
      " 0.616891314163"
     ]
    },
    {
     "name": "stdout",
     "output_type": "stream",
     "text": [
      " 0.646158786514"
     ]
    },
    {
     "name": "stdout",
     "output_type": "stream",
     "text": [
      " 0.648960252068"
     ]
    },
    {
     "name": "stdout",
     "output_type": "stream",
     "text": [
      " 0.775291723973"
     ]
    },
    {
     "name": "stdout",
     "output_type": "stream",
     "text": [
      " 0.65870321544"
     ]
    },
    {
     "name": "stdout",
     "output_type": "stream",
     "text": [
      " 0.699960779619"
     ]
    },
    {
     "name": "stdout",
     "output_type": "stream",
     "text": [
      " \n\t\t[0.06790123456790123, 0.06152293306215457, 0.06981278701852676, 0.0736462605124227, 0.07505242070217255, 0.08683444156813108, 0.09319442202611701, 0.09698494081048022, 0.10055046686512555, 0.11284938100267441]\n"
     ]
    },
    {
     "name": "stdout",
     "output_type": "stream",
     "text": [
      "0.622707986154"
     ]
    },
    {
     "name": "stdout",
     "output_type": "stream",
     "text": [
      " 0.72847008151"
     ]
    },
    {
     "name": "stdout",
     "output_type": "stream",
     "text": [
      " 0.585171944081"
     ]
    },
    {
     "name": "stdout",
     "output_type": "stream",
     "text": [
      " 0.603675284449"
     ]
    },
    {
     "name": "stdout",
     "output_type": "stream",
     "text": [
      " 0.663626413421"
     ]
    },
    {
     "name": "stdout",
     "output_type": "stream",
     "text": [
      " 0.653791943774"
     ]
    },
    {
     "name": "stdout",
     "output_type": "stream",
     "text": [
      " 0.568043511428"
     ]
    },
    {
     "name": "stdout",
     "output_type": "stream",
     "text": [
      " 0.700485743498"
     ]
    },
    {
     "name": "stdout",
     "output_type": "stream",
     "text": [
      " 0.661069557897"
     ]
    },
    {
     "name": "stdout",
     "output_type": "stream",
     "text": [
      " 0.639639377943"
     ]
    },
    {
     "name": "stdout",
     "output_type": "stream",
     "text": [
      " \n\t\t[0.04938271604938271, 0.06349127022769042, 0.06665563428854812, 0.06639543871427345, 0.06821878768365651, 0.07132776321532235, 0.0742748985750443, 0.08345871800696594, 0.09627170026952087, 0.10404071817370053]\n"
     ]
    },
    {
     "name": "stdout",
     "output_type": "stream",
     "text": [
      "0.689338830346"
     ]
    },
    {
     "name": "stdout",
     "output_type": "stream",
     "text": [
      " 0.691196103736"
     ]
    },
    {
     "name": "stdout",
     "output_type": "stream",
     "text": [
      " 0.633320181412"
     ]
    },
    {
     "name": "stdout",
     "output_type": "stream",
     "text": [
      " 0.616322328386"
     ]
    },
    {
     "name": "stdout",
     "output_type": "stream",
     "text": [
      " 0.683252477533"
     ]
    },
    {
     "name": "stdout",
     "output_type": "stream",
     "text": [
      " 0.701112297821"
     ]
    },
    {
     "name": "stdout",
     "output_type": "stream",
     "text": [
      " 0.609423078071"
     ]
    },
    {
     "name": "stdout",
     "output_type": "stream",
     "text": [
      " 0.59061377895"
     ]
    },
    {
     "name": "stdout",
     "output_type": "stream",
     "text": [
      " 0.66377845475"
     ]
    },
    {
     "name": "stdout",
     "output_type": "stream",
     "text": [
      " 0.780690059548"
     ]
    },
    {
     "name": "stdout",
     "output_type": "stream",
     "text": [
      " \n\t\t[0.06790123456790123, 0.0686868739368683, 0.07102151581963317, 0.07471198170829985, 0.07610693520849708, 0.08243731483055307, 0.08922019947293328, 0.1020720132475784, 0.10312297414273879, 0.11350646765449889]\n"
     ]
    },
    {
     "name": "stdout",
     "output_type": "stream",
     "text": [
      "0.580882878243"
     ]
    },
    {
     "name": "stdout",
     "output_type": "stream",
     "text": [
      " 0.662598619316"
     ]
    },
    {
     "name": "stdout",
     "output_type": "stream",
     "text": [
      " 0.683729555502"
     ]
    },
    {
     "name": "stdout",
     "output_type": "stream",
     "text": [
      " 0.543930960692"
     ]
    },
    {
     "name": "stdout",
     "output_type": "stream",
     "text": [
      " 0.744030186468"
     ]
    },
    {
     "name": "stdout",
     "output_type": "stream",
     "text": [
      " 0.677880112802"
     ]
    },
    {
     "name": "stdout",
     "output_type": "stream",
     "text": [
      " 0.737431255405"
     ]
    },
    {
     "name": "stdout",
     "output_type": "stream",
     "text": [
      " 0.715823866251"
     ]
    },
    {
     "name": "stdout",
     "output_type": "stream",
     "text": [
      " 0.706071827678"
     ]
    },
    {
     "name": "stdout",
     "output_type": "stream",
     "text": [
      " 0.697907090241"
     ]
    },
    {
     "name": "stdout",
     "output_type": "stream",
     "text": [
      " \n\t\t[0.06790123456790123, 0.06152293306215457, 0.06981278701852676, 0.0736462605124227, 0.07505242070217255, 0.08314758968919085, 0.08828457720807677, 0.1011367861671291, 0.10218773541693536, 0.11257116063375126]\n"
     ]
    },
    {
     "name": "stdout",
     "output_type": "stream",
     "text": [
      "0.590824088863"
     ]
    },
    {
     "name": "stdout",
     "output_type": "stream",
     "text": [
      " 0.580870742018"
     ]
    },
    {
     "name": "stdout",
     "output_type": "stream",
     "text": [
      " 0.517768641452"
     ]
    },
    {
     "name": "stdout",
     "output_type": "stream",
     "text": [
      " 0.677858850814"
     ]
    },
    {
     "name": "stdout",
     "output_type": "stream",
     "text": [
      " 0.63687681349"
     ]
    },
    {
     "name": "stdout",
     "output_type": "stream",
     "text": [
      " 0.756402234074"
     ]
    },
    {
     "name": "stdout",
     "output_type": "stream",
     "text": [
      " 0.555073457923"
     ]
    },
    {
     "name": "stdout",
     "output_type": "stream",
     "text": [
      " 0.71477148529"
     ]
    },
    {
     "name": "stdout",
     "output_type": "stream",
     "text": [
      " 0.658627386991"
     ]
    },
    {
     "name": "stdout",
     "output_type": "stream",
     "text": [
      " 0.521925870384"
     ]
    },
    {
     "name": "stdout",
     "output_type": "stream",
     "text": [
      " \n\t\t[0.06790123456790123, 0.0686868739368683, 0.06732657614861369, 0.07423070730690796, 0.0756384015349495, 0.08550378001024427, 0.10004195545879517, 0.102365846841366, 0.10981239715949773, 0.11470530081852628]\n"
     ]
    },
    {
     "name": "stdout",
     "output_type": "stream",
     "text": [
      "0.607681718114"
     ]
    },
    {
     "name": "stdout",
     "output_type": "stream",
     "text": [
      " 0.706185654224"
     ]
    },
    {
     "name": "stdout",
     "output_type": "stream",
     "text": [
      " 0.59667702892"
     ]
    },
    {
     "name": "stdout",
     "output_type": "stream",
     "text": [
      " 0.712161282902"
     ]
    },
    {
     "name": "stdout",
     "output_type": "stream",
     "text": [
      " 0.762555017679"
     ]
    },
    {
     "name": "stdout",
     "output_type": "stream",
     "text": [
      " 0.735318290155"
     ]
    },
    {
     "name": "stdout",
     "output_type": "stream",
     "text": [
      " 0.524837956299"
     ]
    },
    {
     "name": "stdout",
     "output_type": "stream",
     "text": [
      " 0.596932953119"
     ]
    },
    {
     "name": "stdout",
     "output_type": "stream",
     "text": [
      " 0.824312181599"
     ]
    },
    {
     "name": "stdout",
     "output_type": "stream",
     "text": [
      " 0.633767940213"
     ]
    },
    {
     "name": "stdout",
     "output_type": "stream",
     "text": [
      " \n\t\t[0.10493827160493828, 0.09139602922447788, 0.09071232934773657, 0.0933366712652222, 0.09473162476541942, 0.09987431674475379, 0.10776881870104005, 0.11488477460537119, 0.1177746241982892, 0.13172177607872843]\n"
     ]
    },
    {
     "name": "stdout",
     "output_type": "stream",
     "text": [
      "0.504778838389"
     ]
    },
    {
     "name": "stdout",
     "output_type": "stream",
     "text": [
      " 0.622498479224"
     ]
    },
    {
     "name": "stdout",
     "output_type": "stream",
     "text": [
      " 0.744952278768"
     ]
    },
    {
     "name": "stdout",
     "output_type": "stream",
     "text": [
      " 0.692841448075"
     ]
    },
    {
     "name": "stdout",
     "output_type": "stream",
     "text": [
      " 0.653468485998"
     ]
    },
    {
     "name": "stdout",
     "output_type": "stream",
     "text": [
      " 0.678559323897"
     ]
    },
    {
     "name": "stdout",
     "output_type": "stream",
     "text": [
      " 0.606978827707"
     ]
    },
    {
     "name": "stdout",
     "output_type": "stream",
     "text": [
      " 0.609749210934"
     ]
    },
    {
     "name": "stdout",
     "output_type": "stream",
     "text": [
      " 0.655018343563"
     ]
    },
    {
     "name": "stdout",
     "output_type": "stream",
     "text": [
      " 0.696513915705"
     ]
    },
    {
     "name": "stdout",
     "output_type": "stream",
     "text": [
      " \n\t\t[0.04938271604938271, 0.056327329352976685, 0.06175196581642223, 0.06484844311700443, 0.06669573950378441, 0.078840599790035, 0.08689544568919932, 0.0952131622706708, 0.10046922173953093, 0.1057541034258195]\n"
     ]
    },
    {
     "name": "stdout",
     "output_type": "stream",
     "text": [
      "0.557479778392"
     ]
    },
    {
     "name": "stdout",
     "output_type": "stream",
     "text": [
      " 0.650521536342"
     ]
    },
    {
     "name": "stdout",
     "output_type": "stream",
     "text": [
      " 0.703861639392"
     ]
    },
    {
     "name": "stdout",
     "output_type": "stream",
     "text": [
      " 0.703636251808"
     ]
    },
    {
     "name": "stdout",
     "output_type": "stream",
     "text": [
      " 0.750408854963"
     ]
    },
    {
     "name": "stdout",
     "output_type": "stream",
     "text": [
      " 0.635314791152"
     ]
    },
    {
     "name": "stdout",
     "output_type": "stream",
     "text": [
      " 0.690983826832"
     ]
    },
    {
     "name": "stdout",
     "output_type": "stream",
     "text": [
      " 0.706905982613"
     ]
    },
    {
     "name": "stdout",
     "output_type": "stream",
     "text": [
      " 0.7628587977"
     ]
    },
    {
     "name": "stdout",
     "output_type": "stream",
     "text": [
      " 0.631031156321"
     ]
    },
    {
     "name": "stdout",
     "output_type": "stream",
     "text": [
      " \n\t\t[0.05864197530864197, 0.06977641558049523, 0.07223115920487733, 0.07163149102383055, 0.07324852989597666, 0.0868876286266053, 0.09328832221534464, 0.1004387750638771, 0.1053750437251456, 0.1133201722598314]\n"
     ]
    },
    {
     "name": "stdout",
     "output_type": "stream",
     "text": [
      "0.609317356085"
     ]
    },
    {
     "name": "stdout",
     "output_type": "stream",
     "text": [
      " 0.825598673257"
     ]
    },
    {
     "name": "stdout",
     "output_type": "stream",
     "text": [
      " 0.678728908418"
     ]
    },
    {
     "name": "stdout",
     "output_type": "stream",
     "text": [
      " 0.692429687651"
     ]
    },
    {
     "name": "stdout",
     "output_type": "stream",
     "text": [
      " 0.628949310202"
     ]
    },
    {
     "name": "stdout",
     "output_type": "stream",
     "text": [
      " 0.635964786644"
     ]
    },
    {
     "name": "stdout",
     "output_type": "stream",
     "text": [
      " 0.747535266154"
     ]
    },
    {
     "name": "stdout",
     "output_type": "stream",
     "text": [
      " 0.725015891058"
     ]
    },
    {
     "name": "stdout",
     "output_type": "stream",
     "text": [
      " 0.639528716538"
     ]
    },
    {
     "name": "stdout",
     "output_type": "stream",
     "text": [
      " 0.756894534076"
     ]
    },
    {
     "name": "stdout",
     "output_type": "stream",
     "text": [
      " \n\t\t[0.04938271604938271, 0.06349127022769042, 0.06665563428854812, 0.06639543871427345, 0.06821878768365651, 0.08179000688768562, 0.0898825415231841, 0.0984970747156711, 0.10139008531165175, 0.10931429599843084]\n"
     ]
    },
    {
     "name": "stdout",
     "output_type": "stream",
     "text": [
      "0.752899951409"
     ]
    },
    {
     "name": "stdout",
     "output_type": "stream",
     "text": [
      " 0.542695668486"
     ]
    },
    {
     "name": "stdout",
     "output_type": "stream",
     "text": [
      " 0.699587496383"
     ]
    },
    {
     "name": "stdout",
     "output_type": "stream",
     "text": [
      " 0.629888784776"
     ]
    },
    {
     "name": "stdout",
     "output_type": "stream",
     "text": [
      " 0.532489940167"
     ]
    },
    {
     "name": "stdout",
     "output_type": "stream",
     "text": [
      " 0.659373855873"
     ]
    },
    {
     "name": "stdout",
     "output_type": "stream",
     "text": [
      " 0.698407506561"
     ]
    },
    {
     "name": "stdout",
     "output_type": "stream",
     "text": [
      " 0.658635985287"
     ]
    },
    {
     "name": "stdout",
     "output_type": "stream",
     "text": [
      " 0.599054209457"
     ]
    },
    {
     "name": "stdout",
     "output_type": "stream",
     "text": [
      " 0.591716879097"
     ]
    },
    {
     "name": "stdout",
     "output_type": "stream",
     "text": [
      " \n\t\t[0.04938271604938271, 0.056327329352976685, 0.06544690548744171, 0.06980831010741866, 0.07141216789407201, 0.08432240022210978, 0.08711815768531544, 0.09670977077833104, 0.0986803413625197, 0.10885878538738875]\n"
     ]
    },
    {
     "name": "stdout",
     "output_type": "stream",
     "text": [
      "0.705737864182"
     ]
    },
    {
     "name": "stdout",
     "output_type": "stream",
     "text": [
      " 0.626462473966"
     ]
    },
    {
     "name": "stdout",
     "output_type": "stream",
     "text": [
      " 0.682588762722"
     ]
    },
    {
     "name": "stdout",
     "output_type": "stream",
     "text": [
      " 0.66852940377"
     ]
    },
    {
     "name": "stdout",
     "output_type": "stream",
     "text": [
      " 0.703849509242"
     ]
    },
    {
     "name": "stdout",
     "output_type": "stream",
     "text": [
      " 0.583717239787"
     ]
    },
    {
     "name": "stdout",
     "output_type": "stream",
     "text": [
      " 0.668796431996"
     ]
    },
    {
     "name": "stdout",
     "output_type": "stream",
     "text": [
      " 0.658570315015"
     ]
    },
    {
     "name": "stdout",
     "output_type": "stream",
     "text": [
      " 0.74101116677"
     ]
    },
    {
     "name": "stdout",
     "output_type": "stream",
     "text": [
      " 0.596850661345"
     ]
    },
    {
     "name": "stdout",
     "output_type": "stream",
     "text": [
      " \n\t\t[0.06790123456790123, 0.0686868739368683, 0.07693621847222204, 0.07991146668730253, 0.0810385882519582, 0.09259220923914775, 0.09885214122755304, 0.0997152235120075, 0.10716886546714052, 0.11142405320188768]\n"
     ]
    },
    {
     "name": "stdout",
     "output_type": "stream",
     "text": [
      "0.572053191621"
     ]
    },
    {
     "name": "stdout",
     "output_type": "stream",
     "text": [
      " 0.633242881321"
     ]
    },
    {
     "name": "stdout",
     "output_type": "stream",
     "text": [
      " 0.621294879069"
     ]
    },
    {
     "name": "stdout",
     "output_type": "stream",
     "text": [
      " 0.783227014312"
     ]
    },
    {
     "name": "stdout",
     "output_type": "stream",
     "text": [
      " 0.634706104552"
     ]
    },
    {
     "name": "stdout",
     "output_type": "stream",
     "text": [
      " 0.602247337563"
     ]
    },
    {
     "name": "stdout",
     "output_type": "stream",
     "text": [
      " 0.725145083905"
     ]
    },
    {
     "name": "stdout",
     "output_type": "stream",
     "text": [
      " 0.736750067816"
     ]
    },
    {
     "name": "stdout",
     "output_type": "stream",
     "text": [
      " 0.717056007092"
     ]
    },
    {
     "name": "stdout",
     "output_type": "stream",
     "text": [
      " 0.714867694162"
     ]
    },
    {
     "name": "stdout",
     "output_type": "stream",
     "text": [
      " \n\t\t[0.04938271604938271, 0.05460932702146333, 0.06510681316704431, 0.06503390414027481, 0.06311173979995653, 0.07212285479035063, 0.08034436491715213, 0.09049388440440786, 0.09544802582382352, 0.10205209606352893]\n"
     ]
    },
    {
     "name": "stdout",
     "output_type": "stream",
     "text": [
      "0.642529087874"
     ]
    },
    {
     "name": "stdout",
     "output_type": "stream",
     "text": [
      " 0.618780397216"
     ]
    },
    {
     "name": "stdout",
     "output_type": "stream",
     "text": [
      " 0.657042431608"
     ]
    },
    {
     "name": "stdout",
     "output_type": "stream",
     "text": [
      " 0.643628147538"
     ]
    },
    {
     "name": "stdout",
     "output_type": "stream",
     "text": [
      " 0.658521803247"
     ]
    },
    {
     "name": "stdout",
     "output_type": "stream",
     "text": [
      " 0.826392304707"
     ]
    },
    {
     "name": "stdout",
     "output_type": "stream",
     "text": [
      " 0.650931292479"
     ]
    },
    {
     "name": "stdout",
     "output_type": "stream",
     "text": [
      " 0.624576176473"
     ]
    },
    {
     "name": "stdout",
     "output_type": "stream",
     "text": [
      " 0.621297460472"
     ]
    },
    {
     "name": "stdout",
     "output_type": "stream",
     "text": [
      " 0.854424993068"
     ]
    },
    {
     "name": "stdout",
     "output_type": "stream",
     "text": [
      " \n\t\t[0.06790123456790123, 0.0686868739368683, 0.07693621847222204, 0.07991146668730253, 0.0810385882519582, 0.08180733801238366, 0.08580771908843594, 0.09854608145135187, 0.106524811581612, 0.11309431159763485]\n"
     ]
    },
    {
     "name": "stdout",
     "output_type": "stream",
     "text": [
      "0.63056044931"
     ]
    },
    {
     "name": "stdout",
     "output_type": "stream",
     "text": [
      " 0.629686566259"
     ]
    },
    {
     "name": "stdout",
     "output_type": "stream",
     "text": [
      " 0.712405473504"
     ]
    },
    {
     "name": "stdout",
     "output_type": "stream",
     "text": [
      " 0.624565340204"
     ]
    },
    {
     "name": "stdout",
     "output_type": "stream",
     "text": [
      " 0.715629215957"
     ]
    },
    {
     "name": "stdout",
     "output_type": "stream",
     "text": [
      " 0.828520102166"
     ]
    },
    {
     "name": "stdout",
     "output_type": "stream",
     "text": [
      " 0.609806418339"
     ]
    },
    {
     "name": "stdout",
     "output_type": "stream",
     "text": [
      " 0.760279755406"
     ]
    },
    {
     "name": "stdout",
     "output_type": "stream",
     "text": [
      " 0.631994330101"
     ]
    },
    {
     "name": "stdout",
     "output_type": "stream",
     "text": [
      " 0.656243398339"
     ]
    },
    {
     "name": "stdout",
     "output_type": "stream",
     "text": [
      " \n\t\t[0.04938271604938271, 0.07613820945362387, 0.07806380602011694, 0.07701999896799278, 0.07859520410182373, 0.08762334834937974, 0.09811998742850561, 0.1002272391516825, 0.10727235703896688, 0.11201375290158785]\n"
     ]
    },
    {
     "name": "stdout",
     "output_type": "stream",
     "text": [
      "0.697148710432"
     ]
    },
    {
     "name": "stdout",
     "output_type": "stream",
     "text": [
      " 0.720706451845"
     ]
    },
    {
     "name": "stdout",
     "output_type": "stream",
     "text": [
      " 0.708333196389"
     ]
    },
    {
     "name": "stdout",
     "output_type": "stream",
     "text": [
      " 0.670272037155"
     ]
    },
    {
     "name": "stdout",
     "output_type": "stream",
     "text": [
      " 0.68368842661"
     ]
    },
    {
     "name": "stdout",
     "output_type": "stream",
     "text": [
      " 0.573532086183"
     ]
    },
    {
     "name": "stdout",
     "output_type": "stream",
     "text": [
      " 0.660747308769"
     ]
    },
    {
     "name": "stdout",
     "output_type": "stream",
     "text": [
      " 0.541085987204"
     ]
    },
    {
     "name": "stdout",
     "output_type": "stream",
     "text": [
      " 0.729820288392"
     ]
    },
    {
     "name": "stdout",
     "output_type": "stream",
     "text": [
      " 0.728961587015"
     ]
    },
    {
     "name": "stdout",
     "output_type": "stream",
     "text": [
      " \n\t\t[0.04938271604938271, 0.056327329352976685, 0.06175196581642223, 0.06484844311700443, 0.06669573950378441, 0.07891492082987847, 0.08376158404774225, 0.09665084431842492, 0.0995419751572862, 0.10874698294382971]\n"
     ]
    },
    {
     "name": "stdout",
     "output_type": "stream",
     "text": [
      "0.662987133589"
     ]
    },
    {
     "name": "stdout",
     "output_type": "stream",
     "text": [
      " 0.635888050479"
     ]
    },
    {
     "name": "stdout",
     "output_type": "stream",
     "text": [
      " 0.710314751874"
     ]
    },
    {
     "name": "stdout",
     "output_type": "stream",
     "text": [
      " 0.72795468759"
     ]
    },
    {
     "name": "stdout",
     "output_type": "stream",
     "text": [
      " 0.661625271246"
     ]
    },
    {
     "name": "stdout",
     "output_type": "stream",
     "text": [
      " 0.642882446727"
     ]
    },
    {
     "name": "stdout",
     "output_type": "stream",
     "text": [
      " 0.605348876387"
     ]
    },
    {
     "name": "stdout",
     "output_type": "stream",
     "text": [
      " 0.649455684389"
     ]
    },
    {
     "name": "stdout",
     "output_type": "stream",
     "text": [
      " 0.779086603072"
     ]
    },
    {
     "name": "stdout",
     "output_type": "stream",
     "text": [
      " 0.599007605627"
     ]
    },
    {
     "name": "stdout",
     "output_type": "stream",
     "text": [
      " \n\t\t[0.04938271604938271, 0.06349127022769042, 0.06665563428854812, 0.06639543871427345, 0.06821878768365651, 0.07371867740808534, 0.07904150919316091, 0.09484481766450362, 0.09857587075196562, 0.10503787030750061]\n"
     ]
    },
    {
     "name": "stdout",
     "output_type": "stream",
     "text": [
      "0.78354889932"
     ]
    },
    {
     "name": "stdout",
     "output_type": "stream",
     "text": [
      " 0.628704399392"
     ]
    },
    {
     "name": "stdout",
     "output_type": "stream",
     "text": [
      " 0.672729206319"
     ]
    },
    {
     "name": "stdout",
     "output_type": "stream",
     "text": [
      " 0.664616937917"
     ]
    },
    {
     "name": "stdout",
     "output_type": "stream",
     "text": [
      " 0.608585948442"
     ]
    },
    {
     "name": "stdout",
     "output_type": "stream",
     "text": [
      " 0.65521906724"
     ]
    },
    {
     "name": "stdout",
     "output_type": "stream",
     "text": [
      " 0.518860841546"
     ]
    },
    {
     "name": "stdout",
     "output_type": "stream",
     "text": [
      " 0.531810905467"
     ]
    },
    {
     "name": "stdout",
     "output_type": "stream",
     "text": [
      " 0.678800755902"
     ]
    },
    {
     "name": "stdout",
     "output_type": "stream",
     "text": [
      " 0.632704998351"
     ]
    },
    {
     "name": "stdout",
     "output_type": "stream",
     "text": [
      " \n\t\t[0.06790123456790123, 0.06152293306215457, 0.06611784734750728, 0.07316498611103082, 0.07458388702862499, 0.07973730129194963, 0.09883811576778312, 0.10084723531039602, 0.1085943850252754, 0.11348715847236324]\n"
     ]
    },
    {
     "name": "stdout",
     "output_type": "stream",
     "text": [
      "0.673826257044"
     ]
    },
    {
     "name": "stdout",
     "output_type": "stream",
     "text": [
      " 0.73038273607"
     ]
    },
    {
     "name": "stdout",
     "output_type": "stream",
     "text": [
      " 0.684048369365"
     ]
    },
    {
     "name": "stdout",
     "output_type": "stream",
     "text": [
      " 0.769207380832"
     ]
    },
    {
     "name": "stdout",
     "output_type": "stream",
     "text": [
      " 0.66503310815"
     ]
    },
    {
     "name": "stdout",
     "output_type": "stream",
     "text": [
      " 0.623010148702"
     ]
    },
    {
     "name": "stdout",
     "output_type": "stream",
     "text": [
      " 0.584539896366"
     ]
    },
    {
     "name": "stdout",
     "output_type": "stream",
     "text": [
      " 0.704996068428"
     ]
    },
    {
     "name": "stdout",
     "output_type": "stream",
     "text": [
      " 0.731191723752"
     ]
    },
    {
     "name": "stdout",
     "output_type": "stream",
     "text": [
      " 0.741189997543"
     ]
    },
    {
     "name": "stdout",
     "output_type": "stream",
     "text": [
      " \n\t\t[0.04938271604938271, 0.07065521110240415, 0.0734013112679215, 0.07562975154069138, 0.07724176055201151, 0.08759632696938285, 0.0976175192743881, 0.10471841724569747, 0.10999688809124131, 0.11306614624323323]\n"
     ]
    },
    {
     "name": "stdout",
     "output_type": "stream",
     "text": [
      "0.706631349369"
     ]
    },
    {
     "name": "stdout",
     "output_type": "stream",
     "text": [
      " 0.514274013981"
     ]
    },
    {
     "name": "stdout",
     "output_type": "stream",
     "text": [
      " 0.72798921403"
     ]
    },
    {
     "name": "stdout",
     "output_type": "stream",
     "text": [
      " 0.549375981417"
     ]
    },
    {
     "name": "stdout",
     "output_type": "stream",
     "text": [
      " 0.683204929564"
     ]
    },
    {
     "name": "stdout",
     "output_type": "stream",
     "text": [
      " 0.731151160147"
     ]
    },
    {
     "name": "stdout",
     "output_type": "stream",
     "text": [
      " 0.683934795684"
     ]
    },
    {
     "name": "stdout",
     "output_type": "stream",
     "text": [
      " 0.710751091896"
     ]
    },
    {
     "name": "stdout",
     "output_type": "stream",
     "text": [
      " 0.553489386714"
     ]
    },
    {
     "name": "stdout",
     "output_type": "stream",
     "text": [
      " 0.668481469039"
     ]
    },
    {
     "name": "stdout",
     "output_type": "stream",
     "text": [
      " \n\t\t[0.06790123456790123, 0.06152293306215457, 0.06741660607545293, 0.07780020315690842, 0.07895720575046793, 0.08053570611745034, 0.09154669259657637, 0.10124835469312038, 0.1034553208177055, 0.10509107889009225]\n"
     ]
    },
    {
     "name": "stdout",
     "output_type": "stream",
     "text": [
      "0.628960468262"
     ]
    },
    {
     "name": "stdout",
     "output_type": "stream",
     "text": [
      " 0.664465729731"
     ]
    },
    {
     "name": "stdout",
     "output_type": "stream",
     "text": [
      " 0.723871198895"
     ]
    },
    {
     "name": "stdout",
     "output_type": "stream",
     "text": [
      " 0.650481945447"
     ]
    },
    {
     "name": "stdout",
     "output_type": "stream",
     "text": [
      " 0.596116908094"
     ]
    },
    {
     "name": "stdout",
     "output_type": "stream",
     "text": [
      " 0.670212665703"
     ]
    },
    {
     "name": "stdout",
     "output_type": "stream",
     "text": [
      " 0.708793432051"
     ]
    },
    {
     "name": "stdout",
     "output_type": "stream",
     "text": [
      " 0.711893109029"
     ]
    },
    {
     "name": "stdout",
     "output_type": "stream",
     "text": [
      " 0.662321074992"
     ]
    },
    {
     "name": "stdout",
     "output_type": "stream",
     "text": [
      " 0.726252907493"
     ]
    },
    {
     "name": "stdout",
     "output_type": "stream",
     "text": [
      " \n\t\t[0.04938271604938271, 0.056327329352976685, 0.06175196581642223, 0.06484844311700443, 0.06669573950378441, 0.07220635151220355, 0.08220462375389277, 0.08704891710840616, 0.09426861304287054, 0.09970217698834759]\n"
     ]
    },
    {
     "name": "stdout",
     "output_type": "stream",
     "text": [
      "0.805838349426"
     ]
    },
    {
     "name": "stdout",
     "output_type": "stream",
     "text": [
      " 0.643981017534"
     ]
    },
    {
     "name": "stdout",
     "output_type": "stream",
     "text": [
      " 0.701703402135"
     ]
    },
    {
     "name": "stdout",
     "output_type": "stream",
     "text": [
      " 0.838787426226"
     ]
    },
    {
     "name": "stdout",
     "output_type": "stream",
     "text": [
      " 0.689793858319"
     ]
    },
    {
     "name": "stdout",
     "output_type": "stream",
     "text": [
      " 0.586563532156"
     ]
    },
    {
     "name": "stdout",
     "output_type": "stream",
     "text": [
      " 0.664099151023"
     ]
    },
    {
     "name": "stdout",
     "output_type": "stream",
     "text": [
      " 0.590701049655"
     ]
    },
    {
     "name": "stdout",
     "output_type": "stream",
     "text": [
      " 0.607493276067"
     ]
    },
    {
     "name": "stdout",
     "output_type": "stream",
     "text": [
      " 0.60935262971"
     ]
    },
    {
     "name": "stdout",
     "output_type": "stream",
     "text": [
      " \n\t\t[0.037037037037037035, 0.05311998092599722, 0.06271952089759819, 0.06724605905661968, 0.06891774705242734, 0.0713114400518257, 0.08540524339603316, 0.0940210008348692, 0.09927204619928182, 0.1045494157260803]\n"
     ]
    },
    {
     "name": "stdout",
     "output_type": "stream",
     "text": [
      "0.949050615138"
     ]
    },
    {
     "name": "stdout",
     "output_type": "stream",
     "text": [
      " 0.665974792904"
     ]
    },
    {
     "name": "stdout",
     "output_type": "stream",
     "text": [
      " 0.60313595263"
     ]
    },
    {
     "name": "stdout",
     "output_type": "stream",
     "text": [
      " 0.709889200452"
     ]
    },
    {
     "name": "stdout",
     "output_type": "stream",
     "text": [
      " 0.632275360933"
     ]
    },
    {
     "name": "stdout",
     "output_type": "stream",
     "text": [
      " 0.701400104298"
     ]
    },
    {
     "name": "stdout",
     "output_type": "stream",
     "text": [
      " 0.72856324769"
     ]
    },
    {
     "name": "stdout",
     "output_type": "stream",
     "text": [
      " 0.642810341784"
     ]
    },
    {
     "name": "stdout",
     "output_type": "stream",
     "text": [
      " 0.609451723586"
     ]
    },
    {
     "name": "stdout",
     "output_type": "stream",
     "text": [
      " 0.694399606217"
     ]
    },
    {
     "name": "stdout",
     "output_type": "stream",
     "text": [
      " \n\t\t[0.08641975308641976, 0.07563753978557888, 0.08502197712912256, 0.08759239733424043, 0.08712210195108264, 0.09141266425174452, 0.10055098589669013, 0.10864984317313721, 0.1146190313961041, 0.1198932261183341]\n"
     ]
    },
    {
     "name": "stdout",
     "output_type": "stream",
     "text": [
      "0.751505871576"
     ]
    },
    {
     "name": "stdout",
     "output_type": "stream",
     "text": [
      " 0.665756535106"
     ]
    },
    {
     "name": "stdout",
     "output_type": "stream",
     "text": [
      " 0.664401462602"
     ]
    },
    {
     "name": "stdout",
     "output_type": "stream",
     "text": [
      " 0.6077340519"
     ]
    },
    {
     "name": "stdout",
     "output_type": "stream",
     "text": [
      " 0.713960954164"
     ]
    },
    {
     "name": "stdout",
     "output_type": "stream",
     "text": [
      " 0.569955851071"
     ]
    },
    {
     "name": "stdout",
     "output_type": "stream",
     "text": [
      " 0.69317035845"
     ]
    },
    {
     "name": "stdout",
     "output_type": "stream",
     "text": [
      " 0.601887079901"
     ]
    },
    {
     "name": "stdout",
     "output_type": "stream",
     "text": [
      " 0.699835275844"
     ]
    },
    {
     "name": "stdout",
     "output_type": "stream",
     "text": [
      " 0.804697310493"
     ]
    },
    {
     "name": "stdout",
     "output_type": "stream",
     "text": [
      " \n\t\t[0.08641975308641976, 0.07015454143435916, 0.0840544220479466, 0.08668342430833093, 0.086237192074818, 0.0910123254703295, 0.10122371688131888, 0.11135824986431671, 0.11436149413174806, 0.11871955900700303]\n"
     ]
    },
    {
     "name": "stdout",
     "output_type": "stream",
     "text": [
      "0.66970805992"
     ]
    },
    {
     "name": "stdout",
     "output_type": "stream",
     "text": [
      " 0.645423932375"
     ]
    },
    {
     "name": "stdout",
     "output_type": "stream",
     "text": [
      " 0.615291733681"
     ]
    },
    {
     "name": "stdout",
     "output_type": "stream",
     "text": [
      " 0.699611643901"
     ]
    },
    {
     "name": "stdout",
     "output_type": "stream",
     "text": [
      " 0.645154882187"
     ]
    },
    {
     "name": "stdout",
     "output_type": "stream",
     "text": [
      " 0.739019162673"
     ]
    },
    {
     "name": "stdout",
     "output_type": "stream",
     "text": [
      " 0.671074384685"
     ]
    },
    {
     "name": "stdout",
     "output_type": "stream",
     "text": [
      " 0.704686892609"
     ]
    },
    {
     "name": "stdout",
     "output_type": "stream",
     "text": [
      " 0.652243215001"
     ]
    },
    {
     "name": "stdout",
     "output_type": "stream",
     "text": [
      " 0.592046503114"
     ]
    },
    {
     "name": "stdout",
     "output_type": "stream",
     "text": [
      " \n\t\t[0.08641975308641976, 0.07563753978557888, 0.08502197712912256, 0.08759239733424043, 0.0943271153900499, 0.09742843021478854, 0.1014716876867107, 0.10885743608737372, 0.1154462607382315, 0.1267517680571489]\n"
     ]
    },
    {
     "name": "stdout",
     "output_type": "stream",
     "text": [
      "0.737413112725"
     ]
    },
    {
     "name": "stdout",
     "output_type": "stream",
     "text": [
      " 0.605024648125"
     ]
    },
    {
     "name": "stdout",
     "output_type": "stream",
     "text": [
      " 0.797368810661"
     ]
    },
    {
     "name": "stdout",
     "output_type": "stream",
     "text": [
      " 0.583128328876"
     ]
    },
    {
     "name": "stdout",
     "output_type": "stream",
     "text": [
      " 0.60673800594"
     ]
    },
    {
     "name": "stdout",
     "output_type": "stream",
     "text": [
      " 0.639804196742"
     ]
    },
    {
     "name": "stdout",
     "output_type": "stream",
     "text": [
      " 0.639608386343"
     ]
    },
    {
     "name": "stdout",
     "output_type": "stream",
     "text": [
      " 0.688966608161"
     ]
    },
    {
     "name": "stdout",
     "output_type": "stream",
     "text": [
      " 0.732769112948"
     ]
    },
    {
     "name": "stdout",
     "output_type": "stream",
     "text": [
      " 0.630184632397"
     ]
    },
    {
     "name": "stdout",
     "output_type": "stream",
     "text": [
      " \n\t\t[0.1234567901234568, 0.09834669507318848, 0.10471279065722595, 0.10621708689116278, 0.1053046479842381, 0.1082093847820572, 0.11824796492272466, 0.12563371332338769, 0.13431668111716316, 0.14023905411512516]\n"
     ]
    },
    {
     "name": "stdout",
     "output_type": "stream",
     "text": [
      "0.598909291272"
     ]
    },
    {
     "name": "stdout",
     "output_type": "stream",
     "text": [
      " 0.773589826069"
     ]
    },
    {
     "name": "stdout",
     "output_type": "stream",
     "text": [
      " 0.662204307246"
     ]
    },
    {
     "name": "stdout",
     "output_type": "stream",
     "text": [
      " 0.64697178205"
     ]
    },
    {
     "name": "stdout",
     "output_type": "stream",
     "text": [
      " 0.65233952214"
     ]
    },
    {
     "name": "stdout",
     "output_type": "stream",
     "text": [
      " 0.556331186612"
     ]
    },
    {
     "name": "stdout",
     "output_type": "stream",
     "text": [
      " 0.717953830526"
     ]
    },
    {
     "name": "stdout",
     "output_type": "stream",
     "text": [
      " 0.528014291812"
     ]
    },
    {
     "name": "stdout",
     "output_type": "stream",
     "text": [
      " 0.68856524304"
     ]
    },
    {
     "name": "stdout",
     "output_type": "stream",
     "text": [
      " 0.773158302149"
     ]
    },
    {
     "name": "stdout",
     "output_type": "stream",
     "text": [
      " \n\t\t[0.06790123456790123, 0.06152293306215457, 0.06611784734750728, 0.07316498611103082, 0.07458388702862499, 0.08445434611271245, 0.092377055108472, 0.09665108235719401, 0.10045031492860863, 0.11274769384179567]\n"
     ]
    },
    {
     "name": "stdout",
     "output_type": "stream",
     "text": [
      "0.721481513603"
     ]
    },
    {
     "name": "stdout",
     "output_type": "stream",
     "text": [
      " 0.708097429582"
     ]
    },
    {
     "name": "stdout",
     "output_type": "stream",
     "text": [
      " 0.638408695333"
     ]
    },
    {
     "name": "stdout",
     "output_type": "stream",
     "text": [
      " 0.805134453948"
     ]
    },
    {
     "name": "stdout",
     "output_type": "stream",
     "text": [
      " 0.69380288674"
     ]
    },
    {
     "name": "stdout",
     "output_type": "stream",
     "text": [
      " 0.639602209849"
     ]
    },
    {
     "name": "stdout",
     "output_type": "stream",
     "text": [
      " 0.620853819802"
     ]
    },
    {
     "name": "stdout",
     "output_type": "stream",
     "text": [
      " 0.598687041226"
     ]
    },
    {
     "name": "stdout",
     "output_type": "stream",
     "text": [
      " 0.675419008195"
     ]
    },
    {
     "name": "stdout",
     "output_type": "stream",
     "text": [
      " 0.599926273813"
     ]
    },
    {
     "name": "stdout",
     "output_type": "stream",
     "text": [
      " \n\t\t[0.04938271604938271, 0.056327329352976685, 0.06175196581642223, 0.06484844311700443, 0.07372970847938187, 0.08551583953260733, 0.094118467947855, 0.09762577409029183, 0.10537557483726905, 0.10898697847103947]\n"
     ]
    },
    {
     "name": "stdout",
     "output_type": "stream",
     "text": [
      "0.687904281613"
     ]
    },
    {
     "name": "stdout",
     "output_type": "stream",
     "text": [
      " 0.690994100479"
     ]
    },
    {
     "name": "stdout",
     "output_type": "stream",
     "text": [
      " 0.807218137353"
     ]
    },
    {
     "name": "stdout",
     "output_type": "stream",
     "text": [
      " 0.510328341795"
     ]
    },
    {
     "name": "stdout",
     "output_type": "stream",
     "text": [
      " 0.639319994873"
     ]
    },
    {
     "name": "stdout",
     "output_type": "stream",
     "text": [
      " 0.634861920736"
     ]
    },
    {
     "name": "stdout",
     "output_type": "stream",
     "text": [
      " 0.672866870786"
     ]
    },
    {
     "name": "stdout",
     "output_type": "stream",
     "text": [
      " 0.615019107036"
     ]
    },
    {
     "name": "stdout",
     "output_type": "stream",
     "text": [
      " 0.592657602423"
     ]
    },
    {
     "name": "stdout",
     "output_type": "stream",
     "text": [
      " 0.692677129016"
     ]
    },
    {
     "name": "stdout",
     "output_type": "stream",
     "text": [
      " \n\t\t[0.04938271604938271, 0.0474453861467496, 0.06020314469491841, 0.06348690854300579, 0.06158869162008443, 0.06221657186046774, 0.08307943855278078, 0.08812298695437792, 0.09793497201229125, 0.10022680290710267]\n"
     ]
    },
    {
     "name": "stdout",
     "output_type": "stream",
     "text": [
      "0.736914433343"
     ]
    },
    {
     "name": "stdout",
     "output_type": "stream",
     "text": [
      " 0.819056495689"
     ]
    },
    {
     "name": "stdout",
     "output_type": "stream",
     "text": [
      " 0.736847359625"
     ]
    },
    {
     "name": "stdout",
     "output_type": "stream",
     "text": [
      " 0.760413513271"
     ]
    },
    {
     "name": "stdout",
     "output_type": "stream",
     "text": [
      " 0.604780977748"
     ]
    },
    {
     "name": "stdout",
     "output_type": "stream",
     "text": [
      " 0.650447092506"
     ]
    },
    {
     "name": "stdout",
     "output_type": "stream",
     "text": [
      " 0.658863211524"
     ]
    },
    {
     "name": "stdout",
     "output_type": "stream",
     "text": [
      " 0.547600853509"
     ]
    },
    {
     "name": "stdout",
     "output_type": "stream",
     "text": [
      " 0.706065658551"
     ]
    },
    {
     "name": "stdout",
     "output_type": "stream",
     "text": [
      " 0.599561924323"
     ]
    },
    {
     "name": "stdout",
     "output_type": "stream",
     "text": [
      " \n\t\t[0.04938271604938271, 0.07065521110240415, 0.0734013112679215, 0.07562975154069138, 0.07724176055201151, 0.08088775765170791, 0.09066956415629733, 0.10289597783211334, 0.10400565406347956, 0.10574119018474935]\n"
     ]
    },
    {
     "name": "stdout",
     "output_type": "stream",
     "text": [
      "0.662234975341"
     ]
    },
    {
     "name": "stdout",
     "output_type": "stream",
     "text": [
      " 0.571563449607"
     ]
    },
    {
     "name": "stdout",
     "output_type": "stream",
     "text": [
      " 0.675943413835"
     ]
    },
    {
     "name": "stdout",
     "output_type": "stream",
     "text": [
      " 0.666603414187"
     ]
    },
    {
     "name": "stdout",
     "output_type": "stream",
     "text": [
      " 0.637458093394"
     ]
    },
    {
     "name": "stdout",
     "output_type": "stream",
     "text": [
      " 0.678368587293"
     ]
    },
    {
     "name": "stdout",
     "output_type": "stream",
     "text": [
      " 0.658852710945"
     ]
    },
    {
     "name": "stdout",
     "output_type": "stream",
     "text": [
      " 0.734857131482"
     ]
    },
    {
     "name": "stdout",
     "output_type": "stream",
     "text": [
      " 0.622742849087"
     ]
    },
    {
     "name": "stdout",
     "output_type": "stream",
     "text": [
      " 0.668656945357"
     ]
    },
    {
     "name": "stdout",
     "output_type": "stream",
     "text": [
      " \n\t\t[0.04938271604938271, 0.07613820945362387, 0.07806380602011694, 0.07701999896799278, 0.07859520410182373, 0.09437847433043345, 0.09889000196838975, 0.10211854404499485, 0.10710310171917345, 0.114483886283484]\n"
     ]
    },
    {
     "name": "stdout",
     "output_type": "stream",
     "text": [
      "0.631203954943"
     ]
    },
    {
     "name": "stdout",
     "output_type": "stream",
     "text": [
      " 0.693899761971"
     ]
    },
    {
     "name": "stdout",
     "output_type": "stream",
     "text": [
      " 0.681182159968"
     ]
    },
    {
     "name": "stdout",
     "output_type": "stream",
     "text": [
      " 0.773610356861"
     ]
    },
    {
     "name": "stdout",
     "output_type": "stream",
     "text": [
      " 0.678065330089"
     ]
    },
    {
     "name": "stdout",
     "output_type": "stream",
     "text": [
      " 0.594566863833"
     ]
    },
    {
     "name": "stdout",
     "output_type": "stream",
     "text": [
      " 0.68946721274"
     ]
    },
    {
     "name": "stdout",
     "output_type": "stream",
     "text": [
      " 0.631251279517"
     ]
    },
    {
     "name": "stdout",
     "output_type": "stream",
     "text": [
      " 0.597864293201"
     ]
    },
    {
     "name": "stdout",
     "output_type": "stream",
     "text": [
      " 0.626843656612"
     ]
    },
    {
     "name": "stdout",
     "output_type": "stream",
     "text": [
      " \n\t\t[0.04938271604938271, 0.056327329352976685, 0.06175196581642223, 0.06484844311700443, 0.06669573950378441, 0.07220635151220355, 0.08180284920197645, 0.08955148613215158, 0.09860726098416714, 0.10518994564998134]\n"
     ]
    },
    {
     "name": "stdout",
     "output_type": "stream",
     "text": [
      "0.731753733796"
     ]
    },
    {
     "name": "stdout",
     "output_type": "stream",
     "text": [
      " 0.644560581033"
     ]
    },
    {
     "name": "stdout",
     "output_type": "stream",
     "text": [
      " 0.621103299419"
     ]
    },
    {
     "name": "stdout",
     "output_type": "stream",
     "text": [
      " 0.779362497237"
     ]
    },
    {
     "name": "stdout",
     "output_type": "stream",
     "text": [
      " 0.625957092125"
     ]
    },
    {
     "name": "stdout",
     "output_type": "stream",
     "text": [
      " 0.703449850384"
     ]
    },
    {
     "name": "stdout",
     "output_type": "stream",
     "text": [
      " 0.626816813465"
     ]
    },
    {
     "name": "stdout",
     "output_type": "stream",
     "text": [
      " 0.578125457648"
     ]
    },
    {
     "name": "stdout",
     "output_type": "stream",
     "text": [
      " 0.633691897763"
     ]
    },
    {
     "name": "stdout",
     "output_type": "stream",
     "text": [
      " 0.724959023054"
     ]
    },
    {
     "name": "stdout",
     "output_type": "stream",
     "text": [
      " \n\t\t[0.04938271604938271, 0.056327329352976685, 0.06544690548744171, 0.0653297175183963, 0.06716427317733198, 0.07738628833131632, 0.08589631365322187, 0.08958543702934584, 0.09650428874763432, 0.10490835271377108]\n"
     ]
    },
    {
     "name": "stdout",
     "output_type": "stream",
     "text": [
      "0.627875475213"
     ]
    },
    {
     "name": "stdout",
     "output_type": "stream",
     "text": [
      " 0.613815678513"
     ]
    },
    {
     "name": "stdout",
     "output_type": "stream",
     "text": [
      " 0.827506875075"
     ]
    },
    {
     "name": "stdout",
     "output_type": "stream",
     "text": [
      " 0.690517217449"
     ]
    },
    {
     "name": "stdout",
     "output_type": "stream",
     "text": [
      " 0.608988732782"
     ]
    },
    {
     "name": "stdout",
     "output_type": "stream",
     "text": [
      " 0.658927177319"
     ]
    },
    {
     "name": "stdout",
     "output_type": "stream",
     "text": [
      " 0.732628341576"
     ]
    },
    {
     "name": "stdout",
     "output_type": "stream",
     "text": [
      " 0.646535899205"
     ]
    },
    {
     "name": "stdout",
     "output_type": "stream",
     "text": [
      " 0.606858855149"
     ]
    },
    {
     "name": "stdout",
     "output_type": "stream",
     "text": [
      " 0.578811381825"
     ]
    },
    {
     "name": "stdout",
     "output_type": "stream",
     "text": [
      " \n\t\t[0.04938271604938271, 0.056327329352976685, 0.06175196581642223, 0.06484844311700443, 0.06669573950378441, 0.07644144021036459, 0.08197548814996791, 0.09130998929492413, 0.09906651635201115, 0.10827223011310218]\n"
     ]
    },
    {
     "name": "stdout",
     "output_type": "stream",
     "text": [
      "0.689489904093"
     ]
    },
    {
     "name": "stdout",
     "output_type": "stream",
     "text": [
      " 0.651534731822"
     ]
    },
    {
     "name": "stdout",
     "output_type": "stream",
     "text": [
      " 0.607144426586"
     ]
    },
    {
     "name": "stdout",
     "output_type": "stream",
     "text": [
      " 0.677258458169"
     ]
    },
    {
     "name": "stdout",
     "output_type": "stream",
     "text": [
      " 0.560315333162"
     ]
    },
    {
     "name": "stdout",
     "output_type": "stream",
     "text": [
      " 0.689906865949"
     ]
    },
    {
     "name": "stdout",
     "output_type": "stream",
     "text": [
      " 0.697051148601"
     ]
    },
    {
     "name": "stdout",
     "output_type": "stream",
     "text": [
      " 0.664667537228"
     ]
    },
    {
     "name": "stdout",
     "output_type": "stream",
     "text": [
      " 0.583347086764"
     ]
    },
    {
     "name": "stdout",
     "output_type": "stream",
     "text": [
      " 0.603646360142"
     ]
    },
    {
     "name": "stdout",
     "output_type": "stream",
     "text": [
      " \n\t\t[0.04938271604938271, 0.05292838449796932, 0.06486563944711386, 0.06487715597030716, 0.06294213516989665, 0.0736165723961225, 0.08632385087760783, 0.08873712150754516, 0.09895074662009763, 0.10617528340750894]\n"
     ]
    },
    {
     "name": "stdout",
     "output_type": "stream",
     "text": [
      "0.636585820936"
     ]
    },
    {
     "name": "stdout",
     "output_type": "stream",
     "text": [
      " 0.774984253846"
     ]
    },
    {
     "name": "stdout",
     "output_type": "stream",
     "text": [
      " 0.690296486404"
     ]
    },
    {
     "name": "stdout",
     "output_type": "stream",
     "text": [
      " 0.762275077129"
     ]
    },
    {
     "name": "stdout",
     "output_type": "stream",
     "text": [
      " 0.670682381"
     ]
    },
    {
     "name": "stdout",
     "output_type": "stream",
     "text": [
      " 0.616576619702"
     ]
    },
    {
     "name": "stdout",
     "output_type": "stream",
     "text": [
      " 0.59313026694"
     ]
    },
    {
     "name": "stdout",
     "output_type": "stream",
     "text": [
      " 0.651246549721"
     ]
    },
    {
     "name": "stdout",
     "output_type": "stream",
     "text": [
      " 0.708440074165"
     ]
    },
    {
     "name": "stdout",
     "output_type": "stream",
     "text": [
      " 0.692568406622"
     ]
    },
    {
     "name": "stdout",
     "output_type": "stream",
     "text": [
      " \n\t\t[0.04938271604938271, 0.056327329352976685, 0.06175196581642223, 0.06484844311700443, 0.06669573950378441, 0.08284817128128077, 0.09001082580585207, 0.09206739184879426, 0.09982349432497299, 0.11358602388451305]\n"
     ]
    },
    {
     "name": "stdout",
     "output_type": "stream",
     "text": [
      "0.7082406371"
     ]
    },
    {
     "name": "stdout",
     "output_type": "stream",
     "text": [
      " 0.58329022156"
     ]
    },
    {
     "name": "stdout",
     "output_type": "stream",
     "text": [
      " 0.631017639633"
     ]
    },
    {
     "name": "stdout",
     "output_type": "stream",
     "text": [
      " 0.64057464366"
     ]
    },
    {
     "name": "stdout",
     "output_type": "stream",
     "text": [
      " 0.528405961336"
     ]
    },
    {
     "name": "stdout",
     "output_type": "stream",
     "text": [
      " 0.708678751576"
     ]
    },
    {
     "name": "stdout",
     "output_type": "stream",
     "text": [
      " 0.608318156842"
     ]
    },
    {
     "name": "stdout",
     "output_type": "stream",
     "text": [
      " 0.595762491002"
     ]
    },
    {
     "name": "stdout",
     "output_type": "stream",
     "text": [
      " 0.656080379772"
     ]
    },
    {
     "name": "stdout",
     "output_type": "stream",
     "text": [
      " 0.647322672427"
     ]
    },
    {
     "name": "stdout",
     "output_type": "stream",
     "text": [
      " \n\t\t[0.04938271604938271, 0.06181032770419641, 0.06641446056861768, 0.0662386905443058, 0.06804918305359663, 0.08025050755581924, 0.0884431345014227, 0.09809974131656649, 0.09982511981621472, 0.1089181877435217]\n"
     ]
    },
    {
     "name": "stdout",
     "output_type": "stream",
     "text": [
      "0.659778793756"
     ]
    },
    {
     "name": "stdout",
     "output_type": "stream",
     "text": [
      " 0.618920303305"
     ]
    },
    {
     "name": "stdout",
     "output_type": "stream",
     "text": [
      " 0.675273945583"
     ]
    },
    {
     "name": "stdout",
     "output_type": "stream",
     "text": [
      " 0.679565323664"
     ]
    },
    {
     "name": "stdout",
     "output_type": "stream",
     "text": [
      " 0.567042172152"
     ]
    },
    {
     "name": "stdout",
     "output_type": "stream",
     "text": [
      " 0.58935066672"
     ]
    },
    {
     "name": "stdout",
     "output_type": "stream",
     "text": [
      " 0.756494930665"
     ]
    },
    {
     "name": "stdout",
     "output_type": "stream",
     "text": [
      " 0.750565802457"
     ]
    },
    {
     "name": "stdout",
     "output_type": "stream",
     "text": [
      " 0.74242535027"
     ]
    },
    {
     "name": "stdout",
     "output_type": "stream",
     "text": [
      " 0.541348108144"
     ]
    },
    {
     "name": "stdout",
     "output_type": "stream",
     "text": [
      " \n\t\t[0.04938271604938271, 0.06181032770419641, 0.061798516643974455, 0.06567442261118073, 0.06749084873197847, 0.06963356912336174, 0.08689363805091554, 0.09520934754559064, 0.09940153786657965, 0.10534383671850749]\n"
     ]
    },
    {
     "name": "stdout",
     "output_type": "stream",
     "text": [
      "0.747521535397"
     ]
    },
    {
     "name": "stdout",
     "output_type": "stream",
     "text": [
      " 0.586804532221"
     ]
    },
    {
     "name": "stdout",
     "output_type": "stream",
     "text": [
      " 0.765122196315"
     ]
    },
    {
     "name": "stdout",
     "output_type": "stream",
     "text": [
      " 0.6253765872"
     ]
    },
    {
     "name": "stdout",
     "output_type": "stream",
     "text": [
      " 0.648574840744"
     ]
    },
    {
     "name": "stdout",
     "output_type": "stream",
     "text": [
      " 0.627665995198"
     ]
    },
    {
     "name": "stdout",
     "output_type": "stream",
     "text": [
      " 0.670859487116"
     ]
    },
    {
     "name": "stdout",
     "output_type": "stream",
     "text": [
      " 0.678683197612"
     ]
    },
    {
     "name": "stdout",
     "output_type": "stream",
     "text": [
      " 0.614751025329"
     ]
    },
    {
     "name": "stdout",
     "output_type": "stream",
     "text": [
      " 0.647468532242"
     ]
    },
    {
     "name": "stdout",
     "output_type": "stream",
     "text": [
      " \n\t\t[0.04938271604938271, 0.07065521110240415, 0.0734013112679215, 0.07746959851935954, 0.07904145537568637, 0.09113782815183422, 0.09228536100308468, 0.09478776775921485, 0.10876729274835101, 0.11667405380530292]\n"
     ]
    },
    {
     "name": "stdout",
     "output_type": "stream",
     "text": [
      "0.651929121082"
     ]
    },
    {
     "name": "stdout",
     "output_type": "stream",
     "text": [
      " 0.651683484925"
     ]
    },
    {
     "name": "stdout",
     "output_type": "stream",
     "text": [
      " 0.570260987707"
     ]
    },
    {
     "name": "stdout",
     "output_type": "stream",
     "text": [
      " 0.736160530934"
     ]
    },
    {
     "name": "stdout",
     "output_type": "stream",
     "text": [
      " 0.611375903731"
     ]
    },
    {
     "name": "stdout",
     "output_type": "stream",
     "text": [
      " 0.608709446718"
     ]
    },
    {
     "name": "stdout",
     "output_type": "stream",
     "text": [
      " 0.680220609075"
     ]
    },
    {
     "name": "stdout",
     "output_type": "stream",
     "text": [
      " 0.686009528798"
     ]
    },
    {
     "name": "stdout",
     "output_type": "stream",
     "text": [
      " 0.673343768137"
     ]
    },
    {
     "name": "stdout",
     "output_type": "stream",
     "text": [
      " 0.63539195116"
     ]
    },
    {
     "name": "stdout",
     "output_type": "stream",
     "text": [
      " \n\t\t[0.04938271604938271, 0.056327329352976685, 0.06636790974106545, 0.06912043550706766, 0.07087450147709841, 0.08129240596754995, 0.09736706095695664, 0.09875914380490461, 0.10224525475702227, 0.11087645686859993]\n"
     ]
    },
    {
     "name": "stdout",
     "output_type": "stream",
     "text": [
      "0.696059162697"
     ]
    },
    {
     "name": "stdout",
     "output_type": "stream",
     "text": [
      " 0.612236447458"
     ]
    },
    {
     "name": "stdout",
     "output_type": "stream",
     "text": [
      " 0.623962387144"
     ]
    },
    {
     "name": "stdout",
     "output_type": "stream",
     "text": [
      " 0.722338818335"
     ]
    },
    {
     "name": "stdout",
     "output_type": "stream",
     "text": [
      " 0.603477585087"
     ]
    },
    {
     "name": "stdout",
     "output_type": "stream",
     "text": [
      " 0.610046455911"
     ]
    },
    {
     "name": "stdout",
     "output_type": "stream",
     "text": [
      " 0.605147436704"
     ]
    },
    {
     "name": "stdout",
     "output_type": "stream",
     "text": [
      " 0.602988654269"
     ]
    },
    {
     "name": "stdout",
     "output_type": "stream",
     "text": [
      " 0.729291246174"
     ]
    },
    {
     "name": "stdout",
     "output_type": "stream",
     "text": [
      " 0.601268658682"
     ]
    },
    {
     "name": "stdout",
     "output_type": "stream",
     "text": [
      " \n\t\t[0.04938271604938271, 0.07065521110240415, 0.06878536734327827, 0.07690533058623447, 0.07848312105406821, 0.09194494402461288, 0.09625642947232611, 0.10030633332166472, 0.10789981134333336, 0.11150687168524887]\n"
     ]
    },
    {
     "name": "stdout",
     "output_type": "stream",
     "text": [
      "0.578143769654"
     ]
    },
    {
     "name": "stdout",
     "output_type": "stream",
     "text": [
      " 0.62298504886"
     ]
    },
    {
     "name": "stdout",
     "output_type": "stream",
     "text": [
      " 0.535733588275"
     ]
    },
    {
     "name": "stdout",
     "output_type": "stream",
     "text": [
      " 0.614976014207"
     ]
    },
    {
     "name": "stdout",
     "output_type": "stream",
     "text": [
      " 0.701683510134"
     ]
    },
    {
     "name": "stdout",
     "output_type": "stream",
     "text": [
      " 0.607106696229"
     ]
    },
    {
     "name": "stdout",
     "output_type": "stream",
     "text": [
      " 0.740220323482"
     ]
    },
    {
     "name": "stdout",
     "output_type": "stream",
     "text": [
      " 0.77921253267"
     ]
    },
    {
     "name": "stdout",
     "output_type": "stream",
     "text": [
      " 0.652713027337"
     ]
    },
    {
     "name": "stdout",
     "output_type": "stream",
     "text": [
      " 0.777182324071"
     ]
    },
    {
     "name": "stdout",
     "output_type": "stream",
     "text": [
      " \n\t\t[0.04938271604938271, 0.056327329352976685, 0.06175196581642223, 0.06484844311700443, 0.06669573950378441, 0.07339403915492516, 0.08793946191004107, 0.09001420810604584, 0.09205428865999152, 0.10449216542697923]\n"
     ]
    },
    {
     "name": "stdout",
     "output_type": "stream",
     "text": [
      "0.764271539078"
     ]
    },
    {
     "name": "stdout",
     "output_type": "stream",
     "text": [
      " 0.652126969888"
     ]
    },
    {
     "name": "stdout",
     "output_type": "stream",
     "text": [
      " 0.608130058173"
     ]
    },
    {
     "name": "stdout",
     "output_type": "stream",
     "text": [
      " 0.628003089439"
     ]
    },
    {
     "name": "stdout",
     "output_type": "stream",
     "text": [
      " 0.627041279024"
     ]
    },
    {
     "name": "stdout",
     "output_type": "stream",
     "text": [
      " 0.707540125705"
     ]
    },
    {
     "name": "stdout",
     "output_type": "stream",
     "text": [
      " 0.689156917987"
     ]
    },
    {
     "name": "stdout",
     "output_type": "stream",
     "text": [
      " 0.751552218589"
     ]
    },
    {
     "name": "stdout",
     "output_type": "stream",
     "text": [
      " 0.763321110017"
     ]
    },
    {
     "name": "stdout",
     "output_type": "stream",
     "text": [
      " 0.629935274912"
     ]
    },
    {
     "name": "stdout",
     "output_type": "stream",
     "text": [
      " \n\t\t[0.04938271604938271, 0.056327329352976685, 0.057136021891779, 0.06428417518387934, 0.06613740518216625, 0.08307632136149462, 0.0895721855734336, 0.09672694590390934, 0.10090632634980976, 0.1048341945648854]\n"
     ]
    },
    {
     "name": "stdout",
     "output_type": "stream",
     "text": [
      "0.606078765211"
     ]
    },
    {
     "name": "stdout",
     "output_type": "stream",
     "text": [
      " 0.638541083138"
     ]
    },
    {
     "name": "stdout",
     "output_type": "stream",
     "text": [
      " 0.656667407959"
     ]
    },
    {
     "name": "stdout",
     "output_type": "stream",
     "text": [
      " 0.698942605491"
     ]
    },
    {
     "name": "stdout",
     "output_type": "stream",
     "text": [
      " 0.583085238034"
     ]
    },
    {
     "name": "stdout",
     "output_type": "stream",
     "text": [
      " 0.617072651223"
     ]
    },
    {
     "name": "stdout",
     "output_type": "stream",
     "text": [
      " 0.801288853473"
     ]
    },
    {
     "name": "stdout",
     "output_type": "stream",
     "text": [
      " 0.633994752041"
     ]
    },
    {
     "name": "stdout",
     "output_type": "stream",
     "text": [
      " 0.685702855853"
     ]
    },
    {
     "name": "stdout",
     "output_type": "stream",
     "text": [
      " 0.634994879062"
     ]
    },
    {
     "name": "stdout",
     "output_type": "stream",
     "text": [
      " \n\t\t[0.04938271604938271, 0.07613820945362387, 0.07344786209547373, 0.07645573103486768, 0.07803686978020556, 0.08048001244578036, 0.09743207958288104, 0.10431913145986857, 0.10542064320536232, 0.11017349228443762]\n"
     ]
    },
    {
     "name": "stdout",
     "output_type": "stream",
     "text": [
      "0.641762072391"
     ]
    },
    {
     "name": "stdout",
     "output_type": "stream",
     "text": [
      " 0.511511134899"
     ]
    },
    {
     "name": "stdout",
     "output_type": "stream",
     "text": [
      " 0.680594827074"
     ]
    },
    {
     "name": "stdout",
     "output_type": "stream",
     "text": [
      " 0.648094205429"
     ]
    },
    {
     "name": "stdout",
     "output_type": "stream",
     "text": [
      " 0.694352599073"
     ]
    },
    {
     "name": "stdout",
     "output_type": "stream",
     "text": [
      " 0.551450362258"
     ]
    },
    {
     "name": "stdout",
     "output_type": "stream",
     "text": [
      " 0.711942075865"
     ]
    },
    {
     "name": "stdout",
     "output_type": "stream",
     "text": [
      " 0.757203413479"
     ]
    },
    {
     "name": "stdout",
     "output_type": "stream",
     "text": [
      " 0.704741542536"
     ]
    },
    {
     "name": "stdout",
     "output_type": "stream",
     "text": [
      " 0.774685094224"
     ]
    },
    {
     "name": "stdout",
     "output_type": "stream",
     "text": [
      " \n\t\t[0.04938271604938271, 0.07613820945362387, 0.07806380602011694, 0.07701999896799278, 0.07859520410182373, 0.08893347352852521, 0.100021290749884, 0.10210594144036934, 0.10738406549484757, 0.1141163720800546]\n"
     ]
    },
    {
     "name": "stdout",
     "output_type": "stream",
     "text": [
      "0.634534559403"
     ]
    },
    {
     "name": "stdout",
     "output_type": "stream",
     "text": [
      " 0.548055284242"
     ]
    },
    {
     "name": "stdout",
     "output_type": "stream",
     "text": [
      " 0.668926735975"
     ]
    },
    {
     "name": "stdout",
     "output_type": "stream",
     "text": [
      " 0.692857554623"
     ]
    },
    {
     "name": "stdout",
     "output_type": "stream",
     "text": [
      " 0.693431277181"
     ]
    },
    {
     "name": "stdout",
     "output_type": "stream",
     "text": [
      " 0.60705563128"
     ]
    },
    {
     "name": "stdout",
     "output_type": "stream",
     "text": [
      " 0.60165617499"
     ]
    },
    {
     "name": "stdout",
     "output_type": "stream",
     "text": [
      " 0.635171663749"
     ]
    },
    {
     "name": "stdout",
     "output_type": "stream",
     "text": [
      " 0.771622117956"
     ]
    },
    {
     "name": "stdout",
     "output_type": "stream",
     "text": [
      " 0.617951236868"
     ]
    },
    {
     "name": "stdout",
     "output_type": "stream",
     "text": [
      " \n\t\t[0.04938271604938271, 0.06181032770419641, 0.06641446056861768, 0.06448591425020041, 0.06787270375946929, 0.0704189128153193, 0.08876724162138411, 0.09562340249992804, 0.10011390601946354, 0.10733800198447553]\n"
     ]
    },
    {
     "name": "stdout",
     "output_type": "stream",
     "text": [
      "0.694140797615"
     ]
    },
    {
     "name": "stdout",
     "output_type": "stream",
     "text": [
      " 0.717907509042"
     ]
    },
    {
     "name": "stdout",
     "output_type": "stream",
     "text": [
      " 0.760528775286"
     ]
    },
    {
     "name": "stdout",
     "output_type": "stream",
     "text": [
      " 0.546035585075"
     ]
    },
    {
     "name": "stdout",
     "output_type": "stream",
     "text": [
      " 0.794001406592"
     ]
    },
    {
     "name": "stdout",
     "output_type": "stream",
     "text": [
      " 0.620409538899"
     ]
    },
    {
     "name": "stdout",
     "output_type": "stream",
     "text": [
      " 0.664290755427"
     ]
    },
    {
     "name": "stdout",
     "output_type": "stream",
     "text": [
      " 0.650884642355"
     ]
    },
    {
     "name": "stdout",
     "output_type": "stream",
     "text": [
      " 0.829613485552"
     ]
    },
    {
     "name": "stdout",
     "output_type": "stream",
     "text": [
      " 0.658522477455"
     ]
    },
    {
     "name": "stdout",
     "output_type": "stream",
     "text": [
      " \n\t\t[0.04938271604938271, 0.056327329352976685, 0.057136021891779, 0.06428417518387934, 0.06613740518216625, 0.07324528312572472, 0.09239769257226077, 0.09590612605123833, 0.10335626623366664, 0.10696812268644293]\n"
     ]
    },
    {
     "name": "stdout",
     "output_type": "stream",
     "text": [
      "0.67605676485"
     ]
    },
    {
     "name": "stdout",
     "output_type": "stream",
     "text": [
      " 0.652211291231"
     ]
    },
    {
     "name": "stdout",
     "output_type": "stream",
     "text": [
      " 0.645169058857"
     ]
    },
    {
     "name": "stdout",
     "output_type": "stream",
     "text": [
      " 0.626475756176"
     ]
    },
    {
     "name": "stdout",
     "output_type": "stream",
     "text": [
      " 0.582979131125"
     ]
    },
    {
     "name": "stdout",
     "output_type": "stream",
     "text": [
      " 0.613558058082"
     ]
    },
    {
     "name": "stdout",
     "output_type": "stream",
     "text": [
      " 0.730989974988"
     ]
    },
    {
     "name": "stdout",
     "output_type": "stream",
     "text": [
      " 0.559942033758"
     ]
    },
    {
     "name": "stdout",
     "output_type": "stream",
     "text": [
      " 0.70331516478"
     ]
    },
    {
     "name": "stdout",
     "output_type": "stream",
     "text": [
      " 0.597173992341"
     ]
    },
    {
     "name": "stdout",
     "output_type": "stream",
     "text": [
      " \n\t\t[0.04938271604938271, 0.06349127022769041, 0.06296069461752864, 0.07168271818445868, 0.07489409810832331, 0.08525997546962395, 0.09029720246367941, 0.09731882651829928, 0.10260686408912265, 0.10568070502539886]\n"
     ]
    },
    {
     "name": "stdout",
     "output_type": "stream",
     "text": [
      "0.554590277064"
     ]
    },
    {
     "name": "stdout",
     "output_type": "stream",
     "text": [
      " 0.685470493345"
     ]
    },
    {
     "name": "stdout",
     "output_type": "stream",
     "text": [
      " 0.780378327754"
     ]
    },
    {
     "name": "stdout",
     "output_type": "stream",
     "text": [
      " 0.759063413422"
     ]
    },
    {
     "name": "stdout",
     "output_type": "stream",
     "text": [
      " 0.717899273412"
     ]
    },
    {
     "name": "stdout",
     "output_type": "stream",
     "text": [
      " 0.550974492074"
     ]
    },
    {
     "name": "stdout",
     "output_type": "stream",
     "text": [
      " 0.544164802474"
     ]
    },
    {
     "name": "stdout",
     "output_type": "stream",
     "text": [
      " 0.555411505328"
     ]
    },
    {
     "name": "stdout",
     "output_type": "stream",
     "text": [
      " 0.62667244473"
     ]
    },
    {
     "name": "stdout",
     "output_type": "stream",
     "text": [
      " 0.585320554335"
     ]
    },
    {
     "name": "stdout",
     "output_type": "stream",
     "text": [
      " \n\t\t[0.030864197530864196, 0.055901688603591994, 0.06367636635905942, 0.06841415665658884, 0.07035123240991027, 0.07401599561896673, 0.08162770631547257, 0.08574760754676315, 0.09684865154877899, 0.1029211023421582]\n"
     ]
    },
    {
     "name": "stdout",
     "output_type": "stream",
     "text": [
      "0.573980856866"
     ]
    },
    {
     "name": "stdout",
     "output_type": "stream",
     "text": [
      " 0.621995895921"
     ]
    },
    {
     "name": "stdout",
     "output_type": "stream",
     "text": [
      " 0.667191978411"
     ]
    },
    {
     "name": "stdout",
     "output_type": "stream",
     "text": [
      " 0.702975109294"
     ]
    },
    {
     "name": "stdout",
     "output_type": "stream",
     "text": [
      " 0.682245687581"
     ]
    },
    {
     "name": "stdout",
     "output_type": "stream",
     "text": [
      " 0.568917848082"
     ]
    },
    {
     "name": "stdout",
     "output_type": "stream",
     "text": [
      " 0.620676815415"
     ]
    },
    {
     "name": "stdout",
     "output_type": "stream",
     "text": [
      " 0.678303475811"
     ]
    },
    {
     "name": "stdout",
     "output_type": "stream",
     "text": [
      " 0.622832473057"
     ]
    },
    {
     "name": "stdout",
     "output_type": "stream",
     "text": [
      " 0.66078364628"
     ]
    },
    {
     "name": "stdout",
     "output_type": "stream",
     "text": [
      " \n\t\t[0.04938271604938271, 0.05460932702146332, 0.06141187349602482, 0.06992778927768922, 0.07201419341459403, 0.08228504021787889, 0.08826387213808166, 0.09533542330115946, 0.09908548334723527, 0.11005888789594621]\n"
     ]
    },
    {
     "name": "stdout",
     "output_type": "stream",
     "text": [
      "0.58829001234"
     ]
    },
    {
     "name": "stdout",
     "output_type": "stream",
     "text": [
      " 0.620603373121"
     ]
    },
    {
     "name": "stdout",
     "output_type": "stream",
     "text": [
      " 0.558634079685"
     ]
    },
    {
     "name": "stdout",
     "output_type": "stream",
     "text": [
      " 0.706118726832"
     ]
    },
    {
     "name": "stdout",
     "output_type": "stream",
     "text": [
      " 0.70544970216"
     ]
    },
    {
     "name": "stdout",
     "output_type": "stream",
     "text": [
      " 0.631527009043"
     ]
    },
    {
     "name": "stdout",
     "output_type": "stream",
     "text": [
      " 0.691425442441"
     ]
    },
    {
     "name": "stdout",
     "output_type": "stream",
     "text": [
      " 0.702956240768"
     ]
    },
    {
     "name": "stdout",
     "output_type": "stream",
     "text": [
      " 0.678406589106"
     ]
    },
    {
     "name": "stdout",
     "output_type": "stream",
     "text": [
      " 0.67074288702"
     ]
    },
    {
     "name": "stdout",
     "output_type": "stream",
     "text": [
      " \n\t\t[0.04938271604938271, 0.04576444362325559, 0.04851032014413212, 0.05266032538141152, 0.0595417279547155, 0.06674599820856224, 0.07500575602040936, 0.07860243326296086, 0.09282302004091354, 0.10141014891021555]\n"
     ]
    },
    {
     "name": "stdout",
     "output_type": "stream",
     "text": [
      "0.59597075023"
     ]
    },
    {
     "name": "stdout",
     "output_type": "stream",
     "text": [
      " 0.72630598972"
     ]
    },
    {
     "name": "stdout",
     "output_type": "stream",
     "text": [
      " 0.594763984496"
     ]
    },
    {
     "name": "stdout",
     "output_type": "stream",
     "text": [
      " 0.690578647427"
     ]
    },
    {
     "name": "stdout",
     "output_type": "stream",
     "text": [
      " 0.693300771549"
     ]
    },
    {
     "name": "stdout",
     "output_type": "stream",
     "text": [
      " 0.64855573313"
     ]
    },
    {
     "name": "stdout",
     "output_type": "stream",
     "text": [
      " 0.678613688354"
     ]
    },
    {
     "name": "stdout",
     "output_type": "stream",
     "text": [
      " 0.582498699742"
     ]
    },
    {
     "name": "stdout",
     "output_type": "stream",
     "text": [
      " 0.651411504615"
     ]
    },
    {
     "name": "stdout",
     "output_type": "stream",
     "text": [
      " 0.797552469258"
     ]
    },
    {
     "name": "stdout",
     "output_type": "stream",
     "text": [
      " \n\t\t[0.06790123456790123, 0.08133381316280176, 0.08372844627914765, 0.0880897217614202, 0.08531646106816601, 0.08840361565046263, 0.0966970636759973, 0.09836371380143259, 0.1045068200801313, 0.11748286619630724]\n"
     ]
    },
    {
     "name": "stdout",
     "output_type": "stream",
     "text": [
      "0.698569351184"
     ]
    },
    {
     "name": "stdout",
     "output_type": "stream",
     "text": [
      " 0.643500840976"
     ]
    },
    {
     "name": "stdout",
     "output_type": "stream",
     "text": [
      " 0.604737040033"
     ]
    },
    {
     "name": "stdout",
     "output_type": "stream",
     "text": [
      " 0.630889096724"
     ]
    },
    {
     "name": "stdout",
     "output_type": "stream",
     "text": [
      " 0.650164526982"
     ]
    },
    {
     "name": "stdout",
     "output_type": "stream",
     "text": [
      " 0.608501575859"
     ]
    },
    {
     "name": "stdout",
     "output_type": "stream",
     "text": [
      " 0.68387676864"
     ]
    },
    {
     "name": "stdout",
     "output_type": "stream",
     "text": [
      " 0.587956377242"
     ]
    },
    {
     "name": "stdout",
     "output_type": "stream",
     "text": [
      " 0.610845570918"
     ]
    },
    {
     "name": "stdout",
     "output_type": "stream",
     "text": [
      " 0.580149657772"
     ]
    },
    {
     "name": "stdout",
     "output_type": "stream",
     "text": [
      " \n\t\t[0.04938271604938271, 0.07613820945362387, 0.06753315944288485, 0.0738528013984108, 0.07944419746982205, 0.08950583415975139, 0.09385862442687792, 0.10091403073735067, 0.11513181304217691, 0.12106996443621038]\n"
     ]
    },
    {
     "name": "stdout",
     "output_type": "stream",
     "text": [
      "0.646202570826"
     ]
    },
    {
     "name": "stdout",
     "output_type": "stream",
     "text": [
      " 0.635433069113"
     ]
    },
    {
     "name": "stdout",
     "output_type": "stream",
     "text": [
      " 0.788278213185"
     ]
    },
    {
     "name": "stdout",
     "output_type": "stream",
     "text": [
      " 0.609845268163"
     ]
    },
    {
     "name": "stdout",
     "output_type": "stream",
     "text": [
      " 0.616189466199"
     ]
    },
    {
     "name": "stdout",
     "output_type": "stream",
     "text": [
      " 0.688144643656"
     ]
    },
    {
     "name": "stdout",
     "output_type": "stream",
     "text": [
      " 0.749352558668"
     ]
    },
    {
     "name": "stdout",
     "output_type": "stream",
     "text": [
      " 0.70787655876"
     ]
    },
    {
     "name": "stdout",
     "output_type": "stream",
     "text": [
      " 0.659470065809"
     ]
    },
    {
     "name": "stdout",
     "output_type": "stream",
     "text": [
      " 0.649755780377"
     ]
    },
    {
     "name": "stdout",
     "output_type": "stream",
     "text": [
      " \n\t\t[0.04938271604938271, 0.054646386829482675, 0.060589787842868045, 0.06360214740811371, 0.07004759800982205, 0.073529360557702, 0.08175563678788195, 0.08503945709567035, 0.09437195679233634, 0.10535138869872318]\n"
     ]
    },
    {
     "name": "stdout",
     "output_type": "stream",
     "text": [
      "0.607926407516"
     ]
    },
    {
     "name": "stdout",
     "output_type": "stream",
     "text": [
      " 0.645559376963"
     ]
    },
    {
     "name": "stdout",
     "output_type": "stream",
     "text": [
      " 0.723407384851"
     ]
    },
    {
     "name": "stdout",
     "output_type": "stream",
     "text": [
      " 0.64327642529"
     ]
    },
    {
     "name": "stdout",
     "output_type": "stream",
     "text": [
      " 0.600368739878"
     ]
    },
    {
     "name": "stdout",
     "output_type": "stream",
     "text": [
      " 0.586288777472"
     ]
    },
    {
     "name": "stdout",
     "output_type": "stream",
     "text": [
      " 0.675701921077"
     ]
    },
    {
     "name": "stdout",
     "output_type": "stream",
     "text": [
      " 0.826538264975"
     ]
    },
    {
     "name": "stdout",
     "output_type": "stream",
     "text": [
      " 0.789833244248"
     ]
    },
    {
     "name": "stdout",
     "output_type": "stream",
     "text": [
      " 0.682483043177"
     ]
    },
    {
     "name": "stdout",
     "output_type": "stream",
     "text": [
      " \n\t\t[0.04938271604938271, 0.07613820945362387, 0.06753315944288485, 0.08187401859197159, 0.08727499381239247, 0.09725196895429525, 0.10091190254574603, 0.10262283398949529, 0.10336094080728077, 0.11766559247506819]\n"
     ]
    },
    {
     "name": "stdout",
     "output_type": "stream",
     "text": [
      "0.628889284335"
     ]
    },
    {
     "name": "stdout",
     "output_type": "stream",
     "text": [
      " 0.798309425285"
     ]
    },
    {
     "name": "stdout",
     "output_type": "stream",
     "text": [
      " 0.707227850738"
     ]
    },
    {
     "name": "stdout",
     "output_type": "stream",
     "text": [
      " 0.665454590198"
     ]
    },
    {
     "name": "stdout",
     "output_type": "stream",
     "text": [
      " 0.657771588143"
     ]
    },
    {
     "name": "stdout",
     "output_type": "stream",
     "text": [
      " 0.603227205605"
     ]
    },
    {
     "name": "stdout",
     "output_type": "stream",
     "text": [
      " 0.644175836805"
     ]
    },
    {
     "name": "stdout",
     "output_type": "stream",
     "text": [
      " 0.775730684085"
     ]
    },
    {
     "name": "stdout",
     "output_type": "stream",
     "text": [
      " 0.577763578213"
     ]
    },
    {
     "name": "stdout",
     "output_type": "stream",
     "text": [
      " 0.623099176521"
     ]
    },
    {
     "name": "stdout",
     "output_type": "stream",
     "text": [
      " \n\t\t[0.04938271604938271, 0.07613820945362387, 0.06753315944288485, 0.0738528013984108, 0.07944419746982205, 0.08615154950091392, 0.08978935279195034, 0.09848019242625677, 0.10128055632999523, 0.11294595238714923]\n"
     ]
    },
    {
     "name": "stdout",
     "output_type": "stream",
     "text": [
      "0.577852415216"
     ]
    },
    {
     "name": "stdout",
     "output_type": "stream",
     "text": [
      " 0.531907653733"
     ]
    },
    {
     "name": "stdout",
     "output_type": "stream",
     "text": [
      " 0.565790251166"
     ]
    },
    {
     "name": "stdout",
     "output_type": "stream",
     "text": [
      " 0.67339342172"
     ]
    },
    {
     "name": "stdout",
     "output_type": "stream",
     "text": [
      " 0.675435153875"
     ]
    },
    {
     "name": "stdout",
     "output_type": "stream",
     "text": [
      " 0.730427280333"
     ]
    },
    {
     "name": "stdout",
     "output_type": "stream",
     "text": [
      " 0.708695993092"
     ]
    },
    {
     "name": "stdout",
     "output_type": "stream",
     "text": [
      " 0.612906753242"
     ]
    },
    {
     "name": "stdout",
     "output_type": "stream",
     "text": [
      " 0.577125009873"
     ]
    },
    {
     "name": "stdout",
     "output_type": "stream",
     "text": [
      " 0.691249774639"
     ]
    },
    {
     "name": "stdout",
     "output_type": "stream",
     "text": [
      " \n\t\t[0.06790123456790123, 0.08133381316280176, 0.07781374362655878, 0.08548212044046698, 0.08660384160171496, 0.08958639677013841, 0.09485127200247415, 0.0977477285899539, 0.110265912872459, 0.11500632737145502]\n"
     ]
    },
    {
     "name": "stdout",
     "output_type": "stream",
     "text": [
      "0.593967719221"
     ]
    },
    {
     "name": "stdout",
     "output_type": "stream",
     "text": [
      " 0.683148558634"
     ]
    },
    {
     "name": "stdout",
     "output_type": "stream",
     "text": [
      " 0.696614718126"
     ]
    },
    {
     "name": "stdout",
     "output_type": "stream",
     "text": [
      " 0.594799583709"
     ]
    },
    {
     "name": "stdout",
     "output_type": "stream",
     "text": [
      " 0.84959239566"
     ]
    },
    {
     "name": "stdout",
     "output_type": "stream",
     "text": [
      " 0.623585822494"
     ]
    },
    {
     "name": "stdout",
     "output_type": "stream",
     "text": [
      " 0.620094832241"
     ]
    },
    {
     "name": "stdout",
     "output_type": "stream",
     "text": [
      " 0.782434579514"
     ]
    },
    {
     "name": "stdout",
     "output_type": "stream",
     "text": [
      " 0.693982345763"
     ]
    },
    {
     "name": "stdout",
     "output_type": "stream",
     "text": [
      " 0.685133060912"
     ]
    },
    {
     "name": "stdout",
     "output_type": "stream",
     "text": [
      " \n\t\t[0.06790123456790123, 0.07416987228808802, 0.07198907090080915, 0.07972461481852398, 0.08101071749100607, 0.08415180223397153, 0.08469583181615363, 0.10072840360281081, 0.10247390892337786, 0.11224701504710921]\n"
     ]
    },
    {
     "name": "stdout",
     "output_type": "stream",
     "text": [
      "0.616653398712"
     ]
    },
    {
     "name": "stdout",
     "output_type": "stream",
     "text": [
      " 0.632656837741"
     ]
    },
    {
     "name": "stdout",
     "output_type": "stream",
     "text": [
      " 0.60529034306"
     ]
    },
    {
     "name": "stdout",
     "output_type": "stream",
     "text": [
      " 0.629462050343"
     ]
    },
    {
     "name": "stdout",
     "output_type": "stream",
     "text": [
      " 0.647493144473"
     ]
    },
    {
     "name": "stdout",
     "output_type": "stream",
     "text": [
      " 0.710776165319"
     ]
    },
    {
     "name": "stdout",
     "output_type": "stream",
     "text": [
      " 0.673856083218"
     ]
    },
    {
     "name": "stdout",
     "output_type": "stream",
     "text": [
      " 0.661934667671"
     ]
    },
    {
     "name": "stdout",
     "output_type": "stream",
     "text": [
      " 0.740129008408"
     ]
    },
    {
     "name": "stdout",
     "output_type": "stream",
     "text": [
      " 0.60952728042"
     ]
    },
    {
     "name": "stdout",
     "output_type": "stream",
     "text": [
      " \n\t\t[0.06790123456790123, 0.0670059314133743, 0.06486563944711386, 0.07360752343445588, 0.07896202684986567, 0.08212680609778257, 0.0903058665826408, 0.09200877989620843, 0.10528483804614387, 0.11386957094167907]\n"
     ]
    },
    {
     "name": "stdout",
     "output_type": "stream",
     "text": [
      "0.711518643669"
     ]
    },
    {
     "name": "stdout",
     "output_type": "stream",
     "text": [
      " 0.806900331808"
     ]
    },
    {
     "name": "stdout",
     "output_type": "stream",
     "text": [
      " 0.699310567424"
     ]
    },
    {
     "name": "stdout",
     "output_type": "stream",
     "text": [
      " 0.613064485954"
     ]
    },
    {
     "name": "stdout",
     "output_type": "stream",
     "text": [
      " 0.659602614252"
     ]
    },
    {
     "name": "stdout",
     "output_type": "stream",
     "text": [
      " 0.874914175639"
     ]
    },
    {
     "name": "stdout",
     "output_type": "stream",
     "text": [
      " 0.609952679303"
     ]
    },
    {
     "name": "stdout",
     "output_type": "stream",
     "text": [
      " 0.658257932304"
     ]
    },
    {
     "name": "stdout",
     "output_type": "stream",
     "text": [
      " 0.708775686326"
     ]
    },
    {
     "name": "stdout",
     "output_type": "stream",
     "text": [
      " 0.757650266609"
     ]
    },
    {
     "name": "stdout",
     "output_type": "stream",
     "text": [
      " \n\t\t[0.04938271604938271, 0.06997923551899697, 0.06266715312468346, 0.07152103051406256, 0.07692220265402352, 0.0801281447257866, 0.08865911714465059, 0.09579133590242046, 0.10359802903762319, 0.11218473713200049]\n"
     ]
    },
    {
     "name": "stdout",
     "output_type": "stream",
     "text": [
      "0.637167162732"
     ]
    },
    {
     "name": "stdout",
     "output_type": "stream",
     "text": [
      " 0.727744670265"
     ]
    },
    {
     "name": "stdout",
     "output_type": "stream",
     "text": [
      " 0.660031979367"
     ]
    },
    {
     "name": "stdout",
     "output_type": "stream",
     "text": [
      " 0.648606307072"
     ]
    },
    {
     "name": "stdout",
     "output_type": "stream",
     "text": [
      " 0.575046621187"
     ]
    },
    {
     "name": "stdout",
     "output_type": "stream",
     "text": [
      " 0.617363510225"
     ]
    },
    {
     "name": "stdout",
     "output_type": "stream",
     "text": [
      " 0.697145176839"
     ]
    },
    {
     "name": "stdout",
     "output_type": "stream",
     "text": [
      " 0.540868844499"
     ]
    },
    {
     "name": "stdout",
     "output_type": "stream",
     "text": [
      " 0.673865586831"
     ]
    },
    {
     "name": "stdout",
     "output_type": "stream",
     "text": [
      " 0.713479395709"
     ]
    },
    {
     "name": "stdout",
     "output_type": "stream",
     "text": [
      " \n\t\t[0.05555555555555555, 0.06547952550988884, 0.06237942857720079, 0.07180980230441028, 0.0818107275664285, 0.09126434067918134, 0.09636965697824108, 0.09927797576171156, 0.10458712732278054, 0.11451295994181404]\n"
     ]
    },
    {
     "name": "stdout",
     "output_type": "stream",
     "text": [
      "0.674976517019"
     ]
    },
    {
     "name": "stdout",
     "output_type": "stream",
     "text": [
      " 0.670206583319"
     ]
    },
    {
     "name": "stdout",
     "output_type": "stream",
     "text": [
      " 0.643787248746"
     ]
    },
    {
     "name": "stdout",
     "output_type": "stream",
     "text": [
      " 0.747873300755"
     ]
    },
    {
     "name": "stdout",
     "output_type": "stream",
     "text": [
      " 0.718502634811"
     ]
    },
    {
     "name": "stdout",
     "output_type": "stream",
     "text": [
      " 0.669266805053"
     ]
    },
    {
     "name": "stdout",
     "output_type": "stream",
     "text": [
      " 0.584954738962"
     ]
    },
    {
     "name": "stdout",
     "output_type": "stream",
     "text": [
      " 0.569091032641"
     ]
    },
    {
     "name": "stdout",
     "output_type": "stream",
     "text": [
      " 0.672251813971"
     ]
    },
    {
     "name": "stdout",
     "output_type": "stream",
     "text": [
      " 0.597635425029"
     ]
    },
    {
     "name": "stdout",
     "output_type": "stream",
     "text": [
      " \n\t\t[0.06790123456790123, 0.07416987228808802, 0.06607436824822027, 0.08141553464370664, 0.09136676668982927, 0.09441017920707424, 0.09936873862774268, 0.10260292352397606, 0.1096580188685613, 0.11440774241554054]\n"
     ]
    },
    {
     "name": "stdout",
     "output_type": "stream",
     "text": [
      "0.650116754887"
     ]
    },
    {
     "name": "stdout",
     "output_type": "stream",
     "text": [
      " 0.744446171776"
     ]
    },
    {
     "name": "stdout",
     "output_type": "stream",
     "text": [
      " 0.753359004372"
     ]
    },
    {
     "name": "stdout",
     "output_type": "stream",
     "text": [
      " 0.721444698018"
     ]
    },
    {
     "name": "stdout",
     "output_type": "stream",
     "text": [
      " 0.619159372693"
     ]
    },
    {
     "name": "stdout",
     "output_type": "stream",
     "text": [
      " 0.680200771969"
     ]
    },
    {
     "name": "stdout",
     "output_type": "stream",
     "text": [
      " 0.719734402035"
     ]
    },
    {
     "name": "stdout",
     "output_type": "stream",
     "text": [
      " 0.633010935666"
     ]
    },
    {
     "name": "stdout",
     "output_type": "stream",
     "text": [
      " 0.680704189881"
     ]
    },
    {
     "name": "stdout",
     "output_type": "stream",
     "text": [
      " 0.729618894553"
     ]
    },
    {
     "name": "stdout",
     "output_type": "stream",
     "text": [
      " \n\t\t[0.06790123456790123, 0.05984199053866056, 0.0649556693739531, 0.07191869040214012, 0.07793574553466262, 0.08106031033744808, 0.08159709416929892, 0.08840862722174453, 0.09556688486538573, 0.10804008130580581]\n"
     ]
    },
    {
     "name": "stdout",
     "output_type": "stream",
     "text": [
      "0.720062321156"
     ]
    },
    {
     "name": "stdout",
     "output_type": "stream",
     "text": [
      " 0.607799583793"
     ]
    },
    {
     "name": "stdout",
     "output_type": "stream",
     "text": [
      " 0.723840462991"
     ]
    },
    {
     "name": "stdout",
     "output_type": "stream",
     "text": [
      " 0.612401023449"
     ]
    },
    {
     "name": "stdout",
     "output_type": "stream",
     "text": [
      " 0.57010340851"
     ]
    },
    {
     "name": "stdout",
     "output_type": "stream",
     "text": [
      " 0.644233571077"
     ]
    },
    {
     "name": "stdout",
     "output_type": "stream",
     "text": [
      " 0.673668101438"
     ]
    },
    {
     "name": "stdout",
     "output_type": "stream",
     "text": [
      " 0.677037242579"
     ]
    },
    {
     "name": "stdout",
     "output_type": "stream",
     "text": [
      " 0.639249331661"
     ]
    },
    {
     "name": "stdout",
     "output_type": "stream",
     "text": [
      " 0.732725981798"
     ]
    },
    {
     "name": "stdout",
     "output_type": "stream",
     "text": [
      " \n\t\t[0.04938271604938271, 0.05460932702146332, 0.06141187349602482, 0.07743340355835579, 0.07978822106367721, 0.09637927146900586, 0.10691614669925584, 0.1083188876268206, 0.10972982364553006, 0.11773530797683364]\n"
     ]
    },
    {
     "name": "stdout",
     "output_type": "stream",
     "text": [
      "0.741601919215"
     ]
    },
    {
     "name": "stdout",
     "output_type": "stream",
     "text": [
      " 0.658663542583"
     ]
    },
    {
     "name": "stdout",
     "output_type": "stream",
     "text": [
      " 0.711628429717"
     ]
    },
    {
     "name": "stdout",
     "output_type": "stream",
     "text": [
      " 0.654697093158"
     ]
    },
    {
     "name": "stdout",
     "output_type": "stream",
     "text": [
      " 0.651799936448"
     ]
    },
    {
     "name": "stdout",
     "output_type": "stream",
     "text": [
      " 0.778901955536"
     ]
    },
    {
     "name": "stdout",
     "output_type": "stream",
     "text": [
      " 0.640345772302"
     ]
    },
    {
     "name": "stdout",
     "output_type": "stream",
     "text": [
      " 0.709868555448"
     ]
    },
    {
     "name": "stdout",
     "output_type": "stream",
     "text": [
      " 0.59848470334"
     ]
    },
    {
     "name": "stdout",
     "output_type": "stream",
     "text": [
      " 0.604062231351"
     ]
    },
    {
     "name": "stdout",
     "output_type": "stream",
     "text": [
      " \n\t\t[0.06790123456790123, 0.08133381316280176, 0.07781374362655878, 0.08736882937143989, 0.08844835038978431, 0.08803939946113026, 0.09703326088548694, 0.10517598601639017, 0.10823797157303355, 0.12054991928603263]\n"
     ]
    },
    {
     "name": "stdout",
     "output_type": "stream",
     "text": [
      "0.666842495785"
     ]
    },
    {
     "name": "stdout",
     "output_type": "stream",
     "text": [
      " 0.714052503045"
     ]
    },
    {
     "name": "stdout",
     "output_type": "stream",
     "text": [
      " 0.616784467357"
     ]
    },
    {
     "name": "stdout",
     "output_type": "stream",
     "text": [
      " 0.69702335722"
     ]
    },
    {
     "name": "stdout",
     "output_type": "stream",
     "text": [
      " 0.571810658913"
     ]
    },
    {
     "name": "stdout",
     "output_type": "stream",
     "text": [
      " 0.638613968532"
     ]
    },
    {
     "name": "stdout",
     "output_type": "stream",
     "text": [
      " 0.6412338864"
     ]
    },
    {
     "name": "stdout",
     "output_type": "stream",
     "text": [
      " 0.775525202416"
     ]
    },
    {
     "name": "stdout",
     "output_type": "stream",
     "text": [
      " 0.780518946828"
     ]
    },
    {
     "name": "stdout",
     "output_type": "stream",
     "text": [
      " 0.716476315876"
     ]
    },
    {
     "name": "stdout",
     "output_type": "stream",
     "text": [
      " \n\t\t[0.04938271604938271, 0.07613820945362387, 0.07344786209547373, 0.07905228637741347, 0.08056020286494377, 0.0905713036578966, 0.09420913098868662, 0.10089252712228342, 0.10193351104002388, 0.11399344990314747]\n"
     ]
    },
    {
     "name": "stdout",
     "output_type": "stream",
     "text": [
      "0.642260763644"
     ]
    },
    {
     "name": "stdout",
     "output_type": "stream",
     "text": [
      " 0.721608905532"
     ]
    },
    {
     "name": "stdout",
     "output_type": "stream",
     "text": [
      " 0.691679600373"
     ]
    },
    {
     "name": "stdout",
     "output_type": "stream",
     "text": [
      " 0.652434046441"
     ]
    },
    {
     "name": "stdout",
     "output_type": "stream",
     "text": [
      " 0.557688002731"
     ]
    },
    {
     "name": "stdout",
     "output_type": "stream",
     "text": [
      " 0.71076512835"
     ]
    },
    {
     "name": "stdout",
     "output_type": "stream",
     "text": [
      " 0.611112236224"
     ]
    },
    {
     "name": "stdout",
     "output_type": "stream",
     "text": [
      " 0.712418721924"
     ]
    },
    {
     "name": "stdout",
     "output_type": "stream",
     "text": [
      " 0.58985135905"
     ]
    },
    {
     "name": "stdout",
     "output_type": "stream",
     "text": [
      " 0.7116955755"
     ]
    },
    {
     "name": "stdout",
     "output_type": "stream",
     "text": [
      " \n\t\t[0.06790123456790123, 0.08133381316280176, 0.07781374362655878, 0.08736882937143989, 0.08844835038978431, 0.09139368411996775, 0.09842142990880179, 0.10549513529402847, 0.1109379354557466, 0.12085136506021886]\n"
     ]
    },
    {
     "name": "stdout",
     "output_type": "stream",
     "text": [
      "0.687361148067"
     ]
    },
    {
     "name": "stdout",
     "output_type": "stream",
     "text": [
      " 0.663845839842"
     ]
    },
    {
     "name": "stdout",
     "output_type": "stream",
     "text": [
      " 0.563980315477"
     ]
    },
    {
     "name": "stdout",
     "output_type": "stream",
     "text": [
      " 0.773323751196"
     ]
    },
    {
     "name": "stdout",
     "output_type": "stream",
     "text": [
      " 0.552809321253"
     ]
    },
    {
     "name": "stdout",
     "output_type": "stream",
     "text": [
      " 0.752910775396"
     ]
    },
    {
     "name": "stdout",
     "output_type": "stream",
     "text": [
      " 0.561663407746"
     ]
    },
    {
     "name": "stdout",
     "output_type": "stream",
     "text": [
      " 0.598768036063"
     ]
    },
    {
     "name": "stdout",
     "output_type": "stream",
     "text": [
      " 0.710121107501"
     ]
    },
    {
     "name": "stdout",
     "output_type": "stream",
     "text": [
      " 0.711900067421"
     ]
    },
    {
     "name": "stdout",
     "output_type": "stream",
     "text": [
      " \n\t\t[0.037037037037037035, 0.06744786267542467, 0.06975292242445424, 0.07482435393682738, 0.07601955644769784, 0.07958972756321982, 0.08643172337011756, 0.09466474846018993, 0.09706016499534942, 0.10210705219870499]\n"
     ]
    },
    {
     "name": "stdout",
     "output_type": "stream",
     "text": [
      "0.642038311043"
     ]
    },
    {
     "name": "stdout",
     "output_type": "stream",
     "text": [
      " 0.620986970298"
     ]
    },
    {
     "name": "stdout",
     "output_type": "stream",
     "text": [
      " 0.575740535761"
     ]
    },
    {
     "name": "stdout",
     "output_type": "stream",
     "text": [
      " 0.59198372915"
     ]
    },
    {
     "name": "stdout",
     "output_type": "stream",
     "text": [
      " 0.540884443209"
     ]
    },
    {
     "name": "stdout",
     "output_type": "stream",
     "text": [
      " 0.650221641312"
     ]
    },
    {
     "name": "stdout",
     "output_type": "stream",
     "text": [
      " 0.645068344263"
     ]
    },
    {
     "name": "stdout",
     "output_type": "stream",
     "text": [
      " 0.603514506649"
     ]
    },
    {
     "name": "stdout",
     "output_type": "stream",
     "text": [
      " 0.573808365082"
     ]
    },
    {
     "name": "stdout",
     "output_type": "stream",
     "text": [
      " 0.76981404526"
     ]
    },
    {
     "name": "stdout",
     "output_type": "stream",
     "text": [
      " \n\t\t[0.07407407407407407, 0.10448489971246172, 0.10678995946149127, 0.11261809933774201, 0.11378023174579824, 0.12374701591016812, 0.12573984050838988, 0.1289530622491029, 0.13515479677889286, 0.14506810413646104]\n"
     ]
    },
    {
     "name": "stdout",
     "output_type": "stream",
     "text": [
      "0.664441542119"
     ]
    },
    {
     "name": "stdout",
     "output_type": "stream",
     "text": [
      " 0.638942299206"
     ]
    },
    {
     "name": "stdout",
     "output_type": "stream",
     "text": [
      " 0.655932512975"
     ]
    },
    {
     "name": "stdout",
     "output_type": "stream",
     "text": [
      " 0.591100236512"
     ]
    },
    {
     "name": "stdout",
     "output_type": "stream",
     "text": [
      " 0.653500547486"
     ]
    },
    {
     "name": "stdout",
     "output_type": "stream",
     "text": [
      " 0.711576620915"
     ]
    },
    {
     "name": "stdout",
     "output_type": "stream",
     "text": [
      " 0.747196864616"
     ]
    },
    {
     "name": "stdout",
     "output_type": "stream",
     "text": [
      " 0.536238321259"
     ]
    },
    {
     "name": "stdout",
     "output_type": "stream",
     "text": [
      " 0.532998618702"
     ]
    },
    {
     "name": "stdout",
     "output_type": "stream",
     "text": [
      " 0.754311135785"
     ]
    },
    {
     "name": "stdout",
     "output_type": "stream",
     "text": [
      " \n\t\t[0.04938271604938271, 0.06897426857891013, 0.06170848671713522, 0.07422899221677551, 0.0840369068423943, 0.09434480446219297, 0.11033805331445305, 0.1117190653061165, 0.11273921450125694, 0.12700734693258156]\n"
     ]
    },
    {
     "name": "stdout",
     "output_type": "stream",
     "text": [
      "0.707188638694"
     ]
    },
    {
     "name": "stdout",
     "output_type": "stream",
     "text": [
      " 0.684102534224"
     ]
    },
    {
     "name": "stdout",
     "output_type": "stream",
     "text": [
      " 0.678521664233"
     ]
    },
    {
     "name": "stdout",
     "output_type": "stream",
     "text": [
      " 0.719188254638"
     ]
    },
    {
     "name": "stdout",
     "output_type": "stream",
     "text": [
      " 0.791700914911"
     ]
    },
    {
     "name": "stdout",
     "output_type": "stream",
     "text": [
      " 0.614569033531"
     ]
    },
    {
     "name": "stdout",
     "output_type": "stream",
     "text": [
      " 0.59564188963"
     ]
    },
    {
     "name": "stdout",
     "output_type": "stream",
     "text": [
      " 0.752059476397"
     ]
    },
    {
     "name": "stdout",
     "output_type": "stream",
     "text": [
      " 0.583326344787"
     ]
    },
    {
     "name": "stdout",
     "output_type": "stream",
     "text": [
      " 0.613327936808"
     ]
    },
    {
     "name": "stdout",
     "output_type": "stream",
     "text": [
      " \n\t\t[0.037037037037037035, 0.06744786267542467, 0.06383821977186536, 0.06962486895782469, 0.07490355105257614, 0.08523282738274957, 0.08956714975489767, 0.0968035236097064, 0.09983611100553619, 0.11278017668928543]\n"
     ]
    },
    {
     "name": "stdout",
     "output_type": "stream",
     "text": [
      "0.780591026578"
     ]
    },
    {
     "name": "stdout",
     "output_type": "stream",
     "text": [
      " 0.585905831842"
     ]
    },
    {
     "name": "stdout",
     "output_type": "stream",
     "text": [
      " 0.60822700558"
     ]
    },
    {
     "name": "stdout",
     "output_type": "stream",
     "text": [
      " 0.625376972994"
     ]
    },
    {
     "name": "stdout",
     "output_type": "stream",
     "text": [
      " 0.801996582907"
     ]
    },
    {
     "name": "stdout",
     "output_type": "stream",
     "text": [
      " 0.736521833666"
     ]
    },
    {
     "name": "stdout",
     "output_type": "stream",
     "text": [
      " 0.576655954236"
     ]
    },
    {
     "name": "stdout",
     "output_type": "stream",
     "text": [
      " 0.685271752801"
     ]
    },
    {
     "name": "stdout",
     "output_type": "stream",
     "text": [
      " 0.555640914174"
     ]
    },
    {
     "name": "stdout",
     "output_type": "stream",
     "text": [
      " 0.610469178803"
     ]
    },
    {
     "name": "stdout",
     "output_type": "stream",
     "text": [
      " \n\t\t[0.06790123456790123, 0.07585081481158203, 0.07906595152695219, 0.0837095246588022, 0.08322915018531306, 0.08801086938426764, 0.10138728094032379, 0.11479504278459426, 0.11784367404889166, 0.12882504833006303]\n"
     ]
    },
    {
     "name": "stdout",
     "output_type": "stream",
     "text": [
      "0.702374085036"
     ]
    },
    {
     "name": "stdout",
     "output_type": "stream",
     "text": [
      " 0.70642187821"
     ]
    },
    {
     "name": "stdout",
     "output_type": "stream",
     "text": [
      " 0.598667264556"
     ]
    },
    {
     "name": "stdout",
     "output_type": "stream",
     "text": [
      " 0.63254174831"
     ]
    },
    {
     "name": "stdout",
     "output_type": "stream",
     "text": [
      " 0.594222932909"
     ]
    },
    {
     "name": "stdout",
     "output_type": "stream",
     "text": [
      " 0.683863103358"
     ]
    },
    {
     "name": "stdout",
     "output_type": "stream",
     "text": [
      " 0.679349972245"
     ]
    },
    {
     "name": "stdout",
     "output_type": "stream",
     "text": [
      " 0.75783670098"
     ]
    },
    {
     "name": "stdout",
     "output_type": "stream",
     "text": [
      " 0.575479506892"
     ]
    },
    {
     "name": "stdout",
     "output_type": "stream",
     "text": [
      " 0.703792857761"
     ]
    },
    {
     "name": "stdout",
     "output_type": "stream",
     "text": [
      " \n\t\t[0.04938271604938271, 0.06897426857891013, 0.06762318936972408, 0.07140726000221741, 0.07732211589494559, 0.08757947761776777, 0.08957633461205343, 0.09349555543903056, 0.09962541180678716, 0.11323693610743514]\n"
     ]
    },
    {
     "name": "stdout",
     "output_type": "stream",
     "text": [
      "0.649113998661"
     ]
    },
    {
     "name": "stdout",
     "output_type": "stream",
     "text": [
      " 0.641207766977"
     ]
    },
    {
     "name": "stdout",
     "output_type": "stream",
     "text": [
      " 0.510447240111"
     ]
    },
    {
     "name": "stdout",
     "output_type": "stream",
     "text": [
      " 0.749953898049"
     ]
    },
    {
     "name": "stdout",
     "output_type": "stream",
     "text": [
      " 0.616940589246"
     ]
    },
    {
     "name": "stdout",
     "output_type": "stream",
     "text": [
      " 0.694697288485"
     ]
    },
    {
     "name": "stdout",
     "output_type": "stream",
     "text": [
      " 0.663272576254"
     ]
    },
    {
     "name": "stdout",
     "output_type": "stream",
     "text": [
      " 0.642732191858"
     ]
    },
    {
     "name": "stdout",
     "output_type": "stream",
     "text": [
      " 0.631916866028"
     ]
    },
    {
     "name": "stdout",
     "output_type": "stream",
     "text": [
      " 0.71952453785"
     ]
    },
    {
     "name": "stdout",
     "output_type": "stream",
     "text": [
      " \n\t\t[0.08641975308641976, 0.09168342386651973, 0.09762682487990508, 0.10063918444515074, 0.10671247304824905, 0.11682678812300117, 0.12190706540772416, 0.1290391913051535, 0.13226437504834807, 0.14522066697440975]\n"
     ]
    },
    {
     "name": "stdout",
     "output_type": "stream",
     "text": [
      "0.585424802757"
     ]
    },
    {
     "name": "stdout",
     "output_type": "stream",
     "text": [
      " 0.656297525263"
     ]
    },
    {
     "name": "stdout",
     "output_type": "stream",
     "text": [
      " 0.656681841642"
     ]
    },
    {
     "name": "stdout",
     "output_type": "stream",
     "text": [
      " 0.721941204318"
     ]
    },
    {
     "name": "stdout",
     "output_type": "stream",
     "text": [
      " 0.652411680356"
     ]
    },
    {
     "name": "stdout",
     "output_type": "stream",
     "text": [
      " 0.71721245389"
     ]
    },
    {
     "name": "stdout",
     "output_type": "stream",
     "text": [
      " 0.687167997968"
     ]
    },
    {
     "name": "stdout",
     "output_type": "stream",
     "text": [
      " 0.709096147088"
     ]
    },
    {
     "name": "stdout",
     "output_type": "stream",
     "text": [
      " 0.705302553881"
     ]
    },
    {
     "name": "stdout",
     "output_type": "stream",
     "text": [
      " 0.639363770642"
     ]
    },
    {
     "name": "stdout",
     "output_type": "stream",
     "text": [
      " \n\t\t[0.037037037037037035, 0.04595604005128348, 0.047285205848240204, 0.051460214275694076, 0.06478753832847599, 0.07507830519026967, 0.08022077977571186, 0.08197087814464561, 0.09069107716196463, 0.09497138893065495]\n"
     ]
    },
    {
     "name": "stdout",
     "output_type": "stream",
     "text": [
      "0.647312311579"
     ]
    },
    {
     "name": "stdout",
     "output_type": "stream",
     "text": [
      " 0.81760956441"
     ]
    },
    {
     "name": "stdout",
     "output_type": "stream",
     "text": [
      " 0.602651001982"
     ]
    },
    {
     "name": "stdout",
     "output_type": "stream",
     "text": [
      " 0.709975062753"
     ]
    },
    {
     "name": "stdout",
     "output_type": "stream",
     "text": [
      " 0.584494394606"
     ]
    },
    {
     "name": "stdout",
     "output_type": "stream",
     "text": [
      " 0.690674814098"
     ]
    },
    {
     "name": "stdout",
     "output_type": "stream",
     "text": [
      " 0.638260197368"
     ]
    },
    {
     "name": "stdout",
     "output_type": "stream",
     "text": [
      " 0.647585437195"
     ]
    },
    {
     "name": "stdout",
     "output_type": "stream",
     "text": [
      " 0.622082983171"
     ]
    },
    {
     "name": "stdout",
     "output_type": "stream",
     "text": [
      " 0.642080197942"
     ]
    },
    {
     "name": "stdout",
     "output_type": "stream",
     "text": [
      " \n\t\t[0.04938271604938271, 0.06349127022769041, 0.057045991964939764, 0.06557423595979096, 0.07594846720968505, 0.09079371224582226, 0.09569285880955644, 0.1024905184499715, 0.11011741260833541, 0.11438438251103834]\n"
     ]
    },
    {
     "name": "stdout",
     "output_type": "stream",
     "text": [
      "0.618080165661"
     ]
    },
    {
     "name": "stdout",
     "output_type": "stream",
     "text": [
      " 0.648837587831"
     ]
    },
    {
     "name": "stdout",
     "output_type": "stream",
     "text": [
      " 0.604201797957"
     ]
    },
    {
     "name": "stdout",
     "output_type": "stream",
     "text": [
      " 0.651002400175"
     ]
    },
    {
     "name": "stdout",
     "output_type": "stream",
     "text": [
      " 0.53558595961"
     ]
    },
    {
     "name": "stdout",
     "output_type": "stream",
     "text": [
      " 0.666637216245"
     ]
    },
    {
     "name": "stdout",
     "output_type": "stream",
     "text": [
      " 0.630030909334"
     ]
    },
    {
     "name": "stdout",
     "output_type": "stream",
     "text": [
      " 0.556263970552"
     ]
    },
    {
     "name": "stdout",
     "output_type": "stream",
     "text": [
      " 0.617341771322"
     ]
    },
    {
     "name": "stdout",
     "output_type": "stream",
     "text": [
      " 0.626578510987"
     ]
    },
    {
     "name": "stdout",
     "output_type": "stream",
     "text": [
      " \n\t\t[0.04938271604938271, 0.054646386829482675, 0.060589787842868045, 0.06360214740811371, 0.07004759800982205, 0.08023792987537694, 0.08838950696001474, 0.0919981964883896, 0.09305507371878392, 0.1075080733734488]\n"
     ]
    },
    {
     "name": "stdout",
     "output_type": "stream",
     "text": [
      "0.623277748342"
     ]
    },
    {
     "name": "stdout",
     "output_type": "stream",
     "text": [
      " 0.624386897724"
     ]
    },
    {
     "name": "stdout",
     "output_type": "stream",
     "text": [
      " 0.666723684697"
     ]
    },
    {
     "name": "stdout",
     "output_type": "stream",
     "text": [
      " 0.694909514346"
     ]
    },
    {
     "name": "stdout",
     "output_type": "stream",
     "text": [
      " 0.654176324504"
     ]
    },
    {
     "name": "stdout",
     "output_type": "stream",
     "text": [
      " 0.7359437677"
     ]
    },
    {
     "name": "stdout",
     "output_type": "stream",
     "text": [
      " 0.616465578848"
     ]
    },
    {
     "name": "stdout",
     "output_type": "stream",
     "text": [
      " 0.602661330943"
     ]
    },
    {
     "name": "stdout",
     "output_type": "stream",
     "text": [
      " 0.614453650689"
     ]
    },
    {
     "name": "stdout",
     "output_type": "stream",
     "text": [
      " 0.633686026914"
     ]
    },
    {
     "name": "stdout",
     "output_type": "stream",
     "text": [
      " \n\t\t[0.04938271604938271, 0.0474453861467496, 0.060203144694918415, 0.06773868341813213, 0.06572939328663462, 0.07615696233798558, 0.0812716565887133, 0.09070218312785526, 0.09495239993558996, 0.10528142442326358]\n"
     ]
    },
    {
     "name": "stdout",
     "output_type": "stream",
     "text": [
      "0.688126019724"
     ]
    },
    {
     "name": "stdout",
     "output_type": "stream",
     "text": [
      " 0.658436748619"
     ]
    },
    {
     "name": "stdout",
     "output_type": "stream",
     "text": [
      " 0.690434578509"
     ]
    },
    {
     "name": "stdout",
     "output_type": "stream",
     "text": [
      " 0.588873729496"
     ]
    },
    {
     "name": "stdout",
     "output_type": "stream",
     "text": [
      " 0.673098739801"
     ]
    },
    {
     "name": "stdout",
     "output_type": "stream",
     "text": [
      " 0.633243615801"
     ]
    },
    {
     "name": "stdout",
     "output_type": "stream",
     "text": [
      " 0.709968447364"
     ]
    },
    {
     "name": "stdout",
     "output_type": "stream",
     "text": [
      " 0.538626097929"
     ]
    },
    {
     "name": "stdout",
     "output_type": "stream",
     "text": [
      " 0.77993644275"
     ]
    },
    {
     "name": "stdout",
     "output_type": "stream",
     "text": [
      " 0.644184716268"
     ]
    },
    {
     "name": "stdout",
     "output_type": "stream",
     "text": [
      " \n\t\t[0.037037037037037035, 0.060283921800710946, 0.0639282496987046, 0.06869274428938654, 0.07503858543670967, 0.08510069864433924, 0.10110149314671457, 0.10183262644012941, 0.112917722273766, 0.12059853887845884]\n"
     ]
    },
    {
     "name": "stdout",
     "output_type": "stream",
     "text": [
      "0.744929440695"
     ]
    },
    {
     "name": "stdout",
     "output_type": "stream",
     "text": [
      " 0.699488316033"
     ]
    },
    {
     "name": "stdout",
     "output_type": "stream",
     "text": [
      " 0.702509734561"
     ]
    },
    {
     "name": "stdout",
     "output_type": "stream",
     "text": [
      " 0.624574307336"
     ]
    },
    {
     "name": "stdout",
     "output_type": "stream",
     "text": [
      " 0.556884371571"
     ]
    },
    {
     "name": "stdout",
     "output_type": "stream",
     "text": [
      " 0.673276279752"
     ]
    },
    {
     "name": "stdout",
     "output_type": "stream",
     "text": [
      " 0.677201935999"
     ]
    },
    {
     "name": "stdout",
     "output_type": "stream",
     "text": [
      " 0.696665219971"
     ]
    },
    {
     "name": "stdout",
     "output_type": "stream",
     "text": [
      " 0.562273802422"
     ]
    },
    {
     "name": "stdout",
     "output_type": "stream",
     "text": [
      " 0.769167586616"
     ]
    },
    {
     "name": "stdout",
     "output_type": "stream",
     "text": [
      " \n\t\t[0.04938271604938271, 0.07613820945362387, 0.06753315944288485, 0.06859447251609457, 0.08594872856303742, 0.10248966964048006, 0.11686786074263686, 0.11915348538810845, 0.1202046362713044, 0.12789147720500796]\n"
     ]
    },
    {
     "name": "stdout",
     "output_type": "stream",
     "text": [
      "0.700900737127"
     ]
    },
    {
     "name": "stdout",
     "output_type": "stream",
     "text": [
      " 0.655325653332"
     ]
    },
    {
     "name": "stdout",
     "output_type": "stream",
     "text": [
      " 0.576855526361"
     ]
    },
    {
     "name": "stdout",
     "output_type": "stream",
     "text": [
      " 0.652119878746"
     ]
    },
    {
     "name": "stdout",
     "output_type": "stream",
     "text": [
      " 0.753576989022"
     ]
    },
    {
     "name": "stdout",
     "output_type": "stream",
     "text": [
      " 0.641845592163"
     ]
    },
    {
     "name": "stdout",
     "output_type": "stream",
     "text": [
      " 0.614397173136"
     ]
    },
    {
     "name": "stdout",
     "output_type": "stream",
     "text": [
      " 0.682733623579"
     ]
    },
    {
     "name": "stdout",
     "output_type": "stream",
     "text": [
      " 0.655546208141"
     ]
    },
    {
     "name": "stdout",
     "output_type": "stream",
     "text": [
      " 0.651227701084"
     ]
    },
    {
     "name": "stdout",
     "output_type": "stream",
     "text": [
      " \n\t\t[0.05555555555555555, 0.07264346638460256, 0.08003350660812815, 0.0846184976847117, 0.08897109932585415, 0.09880751418865738, 0.10338969464952641, 0.11536204639338354, 0.11911405912642012, 0.12975844368641912]\n"
     ]
    },
    {
     "name": "stdout",
     "output_type": "stream",
     "text": [
      "0.64026031708"
     ]
    },
    {
     "name": "stdout",
     "output_type": "stream",
     "text": [
      " 0.696754898276"
     ]
    },
    {
     "name": "stdout",
     "output_type": "stream",
     "text": [
      " 0.818681438922"
     ]
    },
    {
     "name": "stdout",
     "output_type": "stream",
     "text": [
      " 0.735081379701"
     ]
    },
    {
     "name": "stdout",
     "output_type": "stream",
     "text": [
      " 0.56081963344"
     ]
    },
    {
     "name": "stdout",
     "output_type": "stream",
     "text": [
      " 0.710375099998"
     ]
    },
    {
     "name": "stdout",
     "output_type": "stream",
     "text": [
      " 0.576794765302"
     ]
    },
    {
     "name": "stdout",
     "output_type": "stream",
     "text": [
      " 0.652757577408"
     ]
    },
    {
     "name": "stdout",
     "output_type": "stream",
     "text": [
      " 0.853353141467"
     ]
    },
    {
     "name": "stdout",
     "output_type": "stream",
     "text": [
      " 0.685676075684"
     ]
    },
    {
     "name": "stdout",
     "output_type": "stream",
     "text": [
      " \n\t\t[0.0, 0.044738707387815116, 0.04537444407329244, 0.0547450763578717, 0.06077810843484263, 0.07118891666208992, 0.07509176754776697, 0.07809446378376511, 0.08135326729882209, 0.09958601650902908]\n"
     ]
    },
    {
     "name": "stdout",
     "output_type": "stream",
     "text": [
      "0.613604889065"
     ]
    },
    {
     "name": "stdout",
     "output_type": "stream",
     "text": [
      " 0.675640176548"
     ]
    },
    {
     "name": "stdout",
     "output_type": "stream",
     "text": [
      " 0.654753667207"
     ]
    },
    {
     "name": "stdout",
     "output_type": "stream",
     "text": [
      " 0.624827536973"
     ]
    },
    {
     "name": "stdout",
     "output_type": "stream",
     "text": [
      " 0.742104223604"
     ]
    },
    {
     "name": "stdout",
     "output_type": "stream",
     "text": [
      " 0.678206459862"
     ]
    },
    {
     "name": "stdout",
     "output_type": "stream",
     "text": [
      " 0.54440740249"
     ]
    },
    {
     "name": "stdout",
     "output_type": "stream",
     "text": [
      " 0.726834373576"
     ]
    },
    {
     "name": "stdout",
     "output_type": "stream",
     "text": [
      " 0.726358279004"
     ]
    },
    {
     "name": "stdout",
     "output_type": "stream",
     "text": [
      " 0.677127409382"
     ]
    },
    {
     "name": "stdout",
     "output_type": "stream",
     "text": [
      " \n\t\t[0.037037037037037035, 0.05311998092599722, 0.056804818245009325, 0.061819756363720994, 0.07862318138060383, 0.09463863603301614, 0.0970852733688157, 0.10071396436745902, 0.10178290466766873, 0.11624600523338478]\n"
     ]
    },
    {
     "name": "stdout",
     "output_type": "stream",
     "text": [
      "0.581992789918"
     ]
    },
    {
     "name": "stdout",
     "output_type": "stream",
     "text": [
      " 0.722187959942"
     ]
    },
    {
     "name": "stdout",
     "output_type": "stream",
     "text": [
      " 0.553636450328"
     ]
    },
    {
     "name": "stdout",
     "output_type": "stream",
     "text": [
      " 0.616904097478"
     ]
    },
    {
     "name": "stdout",
     "output_type": "stream",
     "text": [
      " 0.73908972969"
     ]
    },
    {
     "name": "stdout",
     "output_type": "stream",
     "text": [
      " 0.646116776625"
     ]
    },
    {
     "name": "stdout",
     "output_type": "stream",
     "text": [
      " 0.652118464104"
     ]
    },
    {
     "name": "stdout",
     "output_type": "stream",
     "text": [
      " 0.613024822611"
     ]
    },
    {
     "name": "stdout",
     "output_type": "stream",
     "text": [
      " 0.693432598811"
     ]
    },
    {
     "name": "stdout",
     "output_type": "stream",
     "text": [
      " 0.6973584905"
     ]
    },
    {
     "name": "stdout",
     "output_type": "stream",
     "text": [
      " \n\t\t[0.04938271604938271, 0.05292838449796932, 0.05895093679452499, 0.058671116984114625, 0.06925304120728244, 0.07859902899843435, 0.08753742194598113, 0.09054791150736266, 0.09448556412652398, 0.10577209184145094]\n"
     ]
    },
    {
     "name": "stdout",
     "output_type": "stream",
     "text": [
      "0.650217722555"
     ]
    },
    {
     "name": "stdout",
     "output_type": "stream",
     "text": [
      " 0.723856428006"
     ]
    },
    {
     "name": "stdout",
     "output_type": "stream",
     "text": [
      " 0.62708794508"
     ]
    },
    {
     "name": "stdout",
     "output_type": "stream",
     "text": [
      " 0.745569976936"
     ]
    },
    {
     "name": "stdout",
     "output_type": "stream",
     "text": [
      " 0.744917558306"
     ]
    },
    {
     "name": "stdout",
     "output_type": "stream",
     "text": [
      " 0.662377169727"
     ]
    },
    {
     "name": "stdout",
     "output_type": "stream",
     "text": [
      " 0.683324614358"
     ]
    },
    {
     "name": "stdout",
     "output_type": "stream",
     "text": [
      " 0.722148742872"
     ]
    },
    {
     "name": "stdout",
     "output_type": "stream",
     "text": [
      " 0.662893826082"
     ]
    },
    {
     "name": "stdout",
     "output_type": "stream",
     "text": [
      " 0.657526515696"
     ]
    },
    {
     "name": "stdout",
     "output_type": "stream",
     "text": [
      " \n\t\t[0.012345679012345678, 0.04626511329130057, 0.04915941367115116, 0.05652746740226441, 0.06313115783754888, 0.07010677599799559, 0.07688168851334437, 0.08583016813145956, 0.08907734538032021, 0.09702099809554096]\n"
     ]
    },
    {
     "name": "stdout",
     "output_type": "stream",
     "text": [
      "0.711371197313"
     ]
    },
    {
     "name": "stdout",
     "output_type": "stream",
     "text": [
      " 0.63351874334"
     ]
    },
    {
     "name": "stdout",
     "output_type": "stream",
     "text": [
      " 0.653212356492"
     ]
    },
    {
     "name": "stdout",
     "output_type": "stream",
     "text": [
      " 0.58541907583"
     ]
    },
    {
     "name": "stdout",
     "output_type": "stream",
     "text": [
      " 0.61494977436"
     ]
    },
    {
     "name": "stdout",
     "output_type": "stream",
     "text": [
      " 0.61418928701"
     ]
    },
    {
     "name": "stdout",
     "output_type": "stream",
     "text": [
      " 0.671982798082"
     ]
    },
    {
     "name": "stdout",
     "output_type": "stream",
     "text": [
      " 0.718722024576"
     ]
    },
    {
     "name": "stdout",
     "output_type": "stream",
     "text": [
      " 0.731044606315"
     ]
    },
    {
     "name": "stdout",
     "output_type": "stream",
     "text": [
      " 0.841575754658"
     ]
    },
    {
     "name": "stdout",
     "output_type": "stream",
     "text": [
      " \n\t\t[0.037037037037037035, 0.060283921800710946, 0.0639282496987046, 0.06869274428938654, 0.07503858543670967, 0.08174641398550175, 0.08537939917511705, 0.09008050435391397, 0.1015307010908313, 0.11080230294940704]\n"
     ]
    },
    {
     "name": "stdout",
     "output_type": "stream",
     "text": [
      "0.644064144171"
     ]
    },
    {
     "name": "stdout",
     "output_type": "stream",
     "text": [
      " 0.587068575236"
     ]
    },
    {
     "name": "stdout",
     "output_type": "stream",
     "text": [
      " 0.756853404666"
     ]
    },
    {
     "name": "stdout",
     "output_type": "stream",
     "text": [
      " 0.672712691"
     ]
    },
    {
     "name": "stdout",
     "output_type": "stream",
     "text": [
      " 0.685508654269"
     ]
    },
    {
     "name": "stdout",
     "output_type": "stream",
     "text": [
      " 0.641787341007"
     ]
    },
    {
     "name": "stdout",
     "output_type": "stream",
     "text": [
      " 0.665812722562"
     ]
    },
    {
     "name": "stdout",
     "output_type": "stream",
     "text": [
      " 0.623117855984"
     ]
    },
    {
     "name": "stdout",
     "output_type": "stream",
     "text": [
      " 0.658697924554"
     ]
    },
    {
     "name": "stdout",
     "output_type": "stream",
     "text": [
      " 0.657261339299"
     ]
    },
    {
     "name": "stdout",
     "output_type": "stream",
     "text": [
      " \n\t\t[0.037037037037037035, 0.05311998092599722, 0.056804818245009325, 0.061819756363720994, 0.07158921240500636, 0.08796155298909082, 0.09007417028629984, 0.09370283697411227, 0.09477176569331475, 0.10485246736818317]\n"
     ]
    },
    {
     "name": "stdout",
     "output_type": "stream",
     "text": [
      "0.624781937654"
     ]
    },
    {
     "name": "stdout",
     "output_type": "stream",
     "text": [
      " 0.636368149051"
     ]
    },
    {
     "name": "stdout",
     "output_type": "stream",
     "text": [
      " 0.708567946505"
     ]
    },
    {
     "name": "stdout",
     "output_type": "stream",
     "text": [
      " 0.679549646622"
     ]
    },
    {
     "name": "stdout",
     "output_type": "stream",
     "text": [
      " 0.647855294484"
     ]
    },
    {
     "name": "stdout",
     "output_type": "stream",
     "text": [
      " 0.679035553875"
     ]
    },
    {
     "name": "stdout",
     "output_type": "stream",
     "text": [
      " 0.610895981875"
     ]
    },
    {
     "name": "stdout",
     "output_type": "stream",
     "text": [
      " 0.776265873691"
     ]
    },
    {
     "name": "stdout",
     "output_type": "stream",
     "text": [
      " 0.709122809305"
     ]
    },
    {
     "name": "stdout",
     "output_type": "stream",
     "text": [
      " 0.696268844781"
     ]
    },
    {
     "name": "stdout",
     "output_type": "stream",
     "text": [
      " \n\t\t[0.037037037037037035, 0.04595604005128348, 0.05098014551925969, 0.054931438352402544, 0.06791263431491983, 0.08540723568219215, 0.0889271324667018, 0.09190703778482012, 0.10031975197959478, 0.10890886749054349]\n"
     ]
    },
    {
     "name": "stdout",
     "output_type": "stream",
     "text": [
      "0.710135682457"
     ]
    },
    {
     "name": "stdout",
     "output_type": "stream",
     "text": [
      " 0.68389670726"
     ]
    },
    {
     "name": "stdout",
     "output_type": "stream",
     "text": [
      " 0.810099947323"
     ]
    },
    {
     "name": "stdout",
     "output_type": "stream",
     "text": [
      " 0.749880975193"
     ]
    },
    {
     "name": "stdout",
     "output_type": "stream",
     "text": [
      " 0.784206604713"
     ]
    },
    {
     "name": "stdout",
     "output_type": "stream",
     "text": [
      " 0.732370874699"
     ]
    },
    {
     "name": "stdout",
     "output_type": "stream",
     "text": [
      " 0.697121770062"
     ]
    },
    {
     "name": "stdout",
     "output_type": "stream",
     "text": [
      " 0.709053267323"
     ]
    },
    {
     "name": "stdout",
     "output_type": "stream",
     "text": [
      " 0.771676351098"
     ]
    },
    {
     "name": "stdout",
     "output_type": "stream",
     "text": [
      " 0.728141634057"
     ]
    },
    {
     "name": "stdout",
     "output_type": "stream",
     "text": [
      " \n\t\t[0.037037037037037035, 0.05856591946919759, 0.06228939865036155, 0.06902004274770368, 0.08180743549214961, 0.09829892572824385, 0.10106118286583878, 0.10441198154424024, 0.10749096662434227, 0.12010469655846866]\n"
     ]
    },
    {
     "name": "stdout",
     "output_type": "stream",
     "text": [
      "0.620218971625"
     ]
    },
    {
     "name": "stdout",
     "output_type": "stream",
     "text": [
      " 0.63621528076"
     ]
    },
    {
     "name": "stdout",
     "output_type": "stream",
     "text": [
      " 0.742616615311"
     ]
    },
    {
     "name": "stdout",
     "output_type": "stream",
     "text": [
      " 0.660852835583"
     ]
    },
    {
     "name": "stdout",
     "output_type": "stream",
     "text": [
      " 0.554343272185"
     ]
    },
    {
     "name": "stdout",
     "output_type": "stream",
     "text": [
      " 0.68623998299"
     ]
    },
    {
     "name": "stdout",
     "output_type": "stream",
     "text": [
      " 0.717982168711"
     ]
    },
    {
     "name": "stdout",
     "output_type": "stream",
     "text": [
      " 0.574570073033"
     ]
    },
    {
     "name": "stdout",
     "output_type": "stream",
     "text": [
      " 0.600369737556"
     ]
    },
    {
     "name": "stdout",
     "output_type": "stream",
     "text": [
      " 0.584951867268"
     ]
    },
    {
     "name": "stdout",
     "output_type": "stream",
     "text": [
      " \n\t\t[0.04938271604938271, 0.07785621178513723, 0.07508671314381676, 0.07872498791909634, 0.08700134185156949, 0.094122970958559, 0.09772077516854198, 0.11077223570071969, 0.1166782673763396, 0.1266019275471469]\n"
     ]
    },
    {
     "name": "stdout",
     "output_type": "stream",
     "text": [
      "0.620835432284"
     ]
    },
    {
     "name": "stdout",
     "output_type": "stream",
     "text": [
      " 0.606479609882"
     ]
    },
    {
     "name": "stdout",
     "output_type": "stream",
     "text": [
      " 0.703346864252"
     ]
    },
    {
     "name": "stdout",
     "output_type": "stream",
     "text": [
      " 0.724299999885"
     ]
    },
    {
     "name": "stdout",
     "output_type": "stream",
     "text": [
      " 0.728618702857"
     ]
    },
    {
     "name": "stdout",
     "output_type": "stream",
     "text": [
      " 0.68405851639"
     ]
    },
    {
     "name": "stdout",
     "output_type": "stream",
     "text": [
      " 0.643311859479"
     ]
    },
    {
     "name": "stdout",
     "output_type": "stream",
     "text": [
      " 0.614645689328"
     ]
    },
    {
     "name": "stdout",
     "output_type": "stream",
     "text": [
      " 0.615663606832"
     ]
    },
    {
     "name": "stdout",
     "output_type": "stream",
     "text": [
      " 0.601804438469"
     ]
    },
    {
     "name": "stdout",
     "output_type": "stream",
     "text": [
      " \n\t\t[0.037037037037037035, 0.04595604005128348, 0.05689484817184856, 0.06013092333140521, 0.06666826729191273, 0.07019072080262434, 0.08005809652463326, 0.08149079564988446, 0.09027855057531153, 0.10207707772957865]\n"
     ]
    },
    {
     "name": "stdout",
     "output_type": "stream",
     "text": [
      "0.70900819948"
     ]
    },
    {
     "name": "stdout",
     "output_type": "stream",
     "text": [
      " 0.647603105524"
     ]
    },
    {
     "name": "stdout",
     "output_type": "stream",
     "text": [
      " 0.714896303308"
     ]
    },
    {
     "name": "stdout",
     "output_type": "stream",
     "text": [
      " 0.646612838137"
     ]
    },
    {
     "name": "stdout",
     "output_type": "stream",
     "text": [
      " 0.70651251653"
     ]
    },
    {
     "name": "stdout",
     "output_type": "stream",
     "text": [
      " 0.633529137129"
     ]
    },
    {
     "name": "stdout",
     "output_type": "stream",
     "text": [
      " 0.80014920809"
     ]
    },
    {
     "name": "stdout",
     "output_type": "stream",
     "text": [
      " 0.576669971729"
     ]
    },
    {
     "name": "stdout",
     "output_type": "stream",
     "text": [
      " 0.70831757411"
     ]
    },
    {
     "name": "stdout",
     "output_type": "stream",
     "text": [
      " 0.72093428198"
     ]
    },
    {
     "name": "stdout",
     "output_type": "stream",
     "text": [
      " \n\t\t[0.037037037037037035, 0.04595604005128348, 0.05689484817184856, 0.06013092333140521, 0.06666826729191273, 0.07689929012029928, 0.0809643353437543, 0.08173091647061223, 0.08889066984909111, 0.1012594652199352]\n"
     ]
    },
    {
     "name": "stdout",
     "output_type": "stream",
     "text": [
      "0.75151050463"
     ]
    },
    {
     "name": "stdout",
     "output_type": "stream",
     "text": [
      " 0.64890520468"
     ]
    },
    {
     "name": "stdout",
     "output_type": "stream",
     "text": [
      " 0.643709232412"
     ]
    },
    {
     "name": "stdout",
     "output_type": "stream",
     "text": [
      " 0.597451432022"
     ]
    },
    {
     "name": "stdout",
     "output_type": "stream",
     "text": [
      " 0.662994104015"
     ]
    },
    {
     "name": "stdout",
     "output_type": "stream",
     "text": [
      " 0.613799576897"
     ]
    },
    {
     "name": "stdout",
     "output_type": "stream",
     "text": [
      " 0.616841135591"
     ]
    },
    {
     "name": "stdout",
     "output_type": "stream",
     "text": [
      " 0.604442289576"
     ]
    },
    {
     "name": "stdout",
     "output_type": "stream",
     "text": [
      " 0.534378575761"
     ]
    },
    {
     "name": "stdout",
     "output_type": "stream",
     "text": [
      " 0.550201374406"
     ]
    },
    {
     "name": "stdout",
     "output_type": "stream",
     "text": [
      " \n\t\t[0.04938271604938271, 0.06897426857891013, 0.06170848671713522, 0.06696448338709235, 0.07730191075949727, 0.08737386890127168, 0.09010284783580887, 0.09844948985323516, 0.10151967471863152, 0.11009835827885812]\n"
     ]
    },
    {
     "name": "stdout",
     "output_type": "stream",
     "text": [
      "0.578055983086"
     ]
    },
    {
     "name": "stdout",
     "output_type": "stream",
     "text": [
      " 0.658023773471"
     ]
    },
    {
     "name": "stdout",
     "output_type": "stream",
     "text": [
      " 0.615990221015"
     ]
    },
    {
     "name": "stdout",
     "output_type": "stream",
     "text": [
      " 0.639578975641"
     ]
    },
    {
     "name": "stdout",
     "output_type": "stream",
     "text": [
      " 0.676731703514"
     ]
    },
    {
     "name": "stdout",
     "output_type": "stream",
     "text": [
      " 0.65182080438"
     ]
    },
    {
     "name": "stdout",
     "output_type": "stream",
     "text": [
      " 0.63217946801"
     ]
    },
    {
     "name": "stdout",
     "output_type": "stream",
     "text": [
      " 0.591739013258"
     ]
    },
    {
     "name": "stdout",
     "output_type": "stream",
     "text": [
      " 0.773050347541"
     ]
    },
    {
     "name": "stdout",
     "output_type": "stream",
     "text": [
      " 0.562824834899"
     ]
    },
    {
     "name": "stdout",
     "output_type": "stream",
     "text": [
      " \n\t\t[0.037037037037037035, 0.04423803771977013, 0.055255997123505506, 0.060458221789722356, 0.0664031483717552, 0.07673286391924468, 0.08059790746594074, 0.0893302253290288, 0.09714957858707177, 0.1057474568694321]\n"
     ]
    },
    {
     "name": "stdout",
     "output_type": "stream",
     "text": [
      "0.614801017029"
     ]
    },
    {
     "name": "stdout",
     "output_type": "stream",
     "text": [
      " 0.70353249667"
     ]
    },
    {
     "name": "stdout",
     "output_type": "stream",
     "text": [
      " 0.649760917408"
     ]
    },
    {
     "name": "stdout",
     "output_type": "stream",
     "text": [
      " 0.675618940876"
     ]
    },
    {
     "name": "stdout",
     "output_type": "stream",
     "text": [
      " 0.650260652454"
     ]
    },
    {
     "name": "stdout",
     "output_type": "stream",
     "text": [
      " 0.653092222083"
     ]
    },
    {
     "name": "stdout",
     "output_type": "stream",
     "text": [
      " 0.735079271423"
     ]
    },
    {
     "name": "stdout",
     "output_type": "stream",
     "text": [
      " 0.781065402001"
     ]
    },
    {
     "name": "stdout",
     "output_type": "stream",
     "text": [
      " 0.595352136073"
     ]
    },
    {
     "name": "stdout",
     "output_type": "stream",
     "text": [
      " 0.715564410583"
     ]
    },
    {
     "name": "stdout",
     "output_type": "stream",
     "text": [
      " \n\t\t[0.04938271604938271, 0.06352833003570976, 0.07396801426954959, 0.07536265194011768, 0.07738665668376547, 0.09029710152047478, 0.0936977627861821, 0.09692776576939412, 0.10015872533328996, 0.11311788382591469]\n"
     ]
    },
    {
     "name": "stdout",
     "output_type": "stream",
     "text": [
      "0.694534943342"
     ]
    },
    {
     "name": "stdout",
     "output_type": "stream",
     "text": [
      " 0.607309239665"
     ]
    },
    {
     "name": "stdout",
     "output_type": "stream",
     "text": [
      " 0.620032306915"
     ]
    },
    {
     "name": "stdout",
     "output_type": "stream",
     "text": [
      " 0.651861849503"
     ]
    },
    {
     "name": "stdout",
     "output_type": "stream",
     "text": [
      " 0.674479082701"
     ]
    },
    {
     "name": "stdout",
     "output_type": "stream",
     "text": [
      " 0.798220628742"
     ]
    },
    {
     "name": "stdout",
     "output_type": "stream",
     "text": [
      " 0.69122163721"
     ]
    },
    {
     "name": "stdout",
     "output_type": "stream",
     "text": [
      " 0.604680443387"
     ]
    },
    {
     "name": "stdout",
     "output_type": "stream",
     "text": [
      " 0.601988805233"
     ]
    },
    {
     "name": "stdout",
     "output_type": "stream",
     "text": [
      " 0.750298935263"
     ]
    },
    {
     "name": "stdout",
     "output_type": "stream",
     "text": [
      " \n\t\t[0.037037037037037035, 0.05311998092599722, 0.056804818245009325, 0.061819756363720994, 0.06769454860711581, 0.07796578588063377, 0.08147203155404774, 0.08515874193764954, 0.08839719724012299, 0.10618064738639729]\n"
     ]
    },
    {
     "name": "stdout",
     "output_type": "stream",
     "text": [
      "0.592497430822"
     ]
    },
    {
     "name": "stdout",
     "output_type": "stream",
     "text": [
      " 0.611827887618"
     ]
    },
    {
     "name": "stdout",
     "output_type": "stream",
     "text": [
      " 0.615228026669"
     ]
    },
    {
     "name": "stdout",
     "output_type": "stream",
     "text": [
      " 0.693788593823"
     ]
    },
    {
     "name": "stdout",
     "output_type": "stream",
     "text": [
      " 0.666387316754"
     ]
    },
    {
     "name": "stdout",
     "output_type": "stream",
     "text": [
      " 0.661524556503"
     ]
    },
    {
     "name": "stdout",
     "output_type": "stream",
     "text": [
      " 0.603236015046"
     ]
    },
    {
     "name": "stdout",
     "output_type": "stream",
     "text": [
      " 0.679884159835"
     ]
    },
    {
     "name": "stdout",
     "output_type": "stream",
     "text": [
      " 0.784104936358"
     ]
    },
    {
     "name": "stdout",
     "output_type": "stream",
     "text": [
      " 0.630539208386"
     ]
    },
    {
     "name": "stdout",
     "output_type": "stream",
     "text": [
      " \n\t\t[0.037037037037037035, 0.05311998092599722, 0.056804818245009325, 0.061819756363720994, 0.07472851758271327, 0.08499975485623124, 0.09013460711461317, 0.09156609368721538, 0.0993744105249856, 0.10796189761657118]\n"
     ]
    },
    {
     "name": "stdout",
     "output_type": "stream",
     "text": [
      "0.696475987252"
     ]
    },
    {
     "name": "stdout",
     "output_type": "stream",
     "text": [
      " 0.638229072515"
     ]
    },
    {
     "name": "stdout",
     "output_type": "stream",
     "text": [
      " 0.604010854204"
     ]
    },
    {
     "name": "stdout",
     "output_type": "stream",
     "text": [
      " 0.710156337819"
     ]
    },
    {
     "name": "stdout",
     "output_type": "stream",
     "text": [
      " 0.660860583354"
     ]
    },
    {
     "name": "stdout",
     "output_type": "stream",
     "text": [
      " 0.634895210894"
     ]
    },
    {
     "name": "stdout",
     "output_type": "stream",
     "text": [
      " 0.704823407116"
     ]
    },
    {
     "name": "stdout",
     "output_type": "stream",
     "text": [
      " 0.677337991734"
     ]
    },
    {
     "name": "stdout",
     "output_type": "stream",
     "text": [
      " 0.627289352169"
     ]
    },
    {
     "name": "stdout",
     "output_type": "stream",
     "text": [
      " 0.649270959643"
     ]
    },
    {
     "name": "stdout",
     "output_type": "stream",
     "text": [
      " \n\t\t[0.037037037037037035, 0.060283921800710946, 0.058013547046115735, 0.06349325931038387, 0.08095654901718542, 0.0973998824311532, 0.09944849759687567, 0.10239453036390413, 0.1034403424397864, 0.11510885982347456]\n"
     ]
    },
    {
     "name": "stdout",
     "output_type": "stream",
     "text": [
      "0.607162353012"
     ]
    },
    {
     "name": "stdout",
     "output_type": "stream",
     "text": [
      " 0.598611426866"
     ]
    },
    {
     "name": "stdout",
     "output_type": "stream",
     "text": [
      " 0.771539253821"
     ]
    },
    {
     "name": "stdout",
     "output_type": "stream",
     "text": [
      " 0.572395203503"
     ]
    },
    {
     "name": "stdout",
     "output_type": "stream",
     "text": [
      " 0.518815207709"
     ]
    },
    {
     "name": "stdout",
     "output_type": "stream",
     "text": [
      " 0.651668882524"
     ]
    },
    {
     "name": "stdout",
     "output_type": "stream",
     "text": [
      " 0.618978576694"
     ]
    },
    {
     "name": "stdout",
     "output_type": "stream",
     "text": [
      " 0.660776596997"
     ]
    },
    {
     "name": "stdout",
     "output_type": "stream",
     "text": [
      " 0.726491108713"
     ]
    },
    {
     "name": "stdout",
     "output_type": "stream",
     "text": [
      " 0.714970621714"
     ]
    },
    {
     "name": "stdout",
     "output_type": "stream",
     "text": [
      " \n\t\t[0.037037037037037035, 0.060283921800710946, 0.07085216558566944, 0.07473759982992875, 0.07718468530327466, 0.09035886902920981, 0.09596205894238473, 0.10092404511310103, 0.10715228610473188, 0.11448747177844863]\n"
     ]
    },
    {
     "name": "stdout",
     "output_type": "stream",
     "text": [
      "0.643648709854"
     ]
    },
    {
     "name": "stdout",
     "output_type": "stream",
     "text": [
      " 0.599989072595"
     ]
    },
    {
     "name": "stdout",
     "output_type": "stream",
     "text": [
      " 0.735987474962"
     ]
    },
    {
     "name": "stdout",
     "output_type": "stream",
     "text": [
      " 0.781053013689"
     ]
    },
    {
     "name": "stdout",
     "output_type": "stream",
     "text": [
      " 0.568886912765"
     ]
    },
    {
     "name": "stdout",
     "output_type": "stream",
     "text": [
      " 0.621600809926"
     ]
    },
    {
     "name": "stdout",
     "output_type": "stream",
     "text": [
      " 0.501644629201"
     ]
    },
    {
     "name": "stdout",
     "output_type": "stream",
     "text": [
      " 0.612028461363"
     ]
    },
    {
     "name": "stdout",
     "output_type": "stream",
     "text": [
      " 0.711360477963"
     ]
    },
    {
     "name": "stdout",
     "output_type": "stream",
     "text": [
      " 0.79162165169"
     ]
    },
    {
     "name": "stdout",
     "output_type": "stream",
     "text": [
      " \n\t\t[0.037037037037037035, 0.060283921800710946, 0.058013547046115735, 0.06349325931038387, 0.07392258004158796, 0.09044196021711019, 0.0931834320585084, 0.09611501831519108, 0.0991906341828965, 0.11215431201783305]\n"
     ]
    },
    {
     "name": "stdout",
     "output_type": "stream",
     "text": [
      "0.648664653304"
     ]
    },
    {
     "name": "stdout",
     "output_type": "stream",
     "text": [
      " 0.611971169251"
     ]
    },
    {
     "name": "stdout",
     "output_type": "stream",
     "text": [
      " 0.558403822071"
     ]
    },
    {
     "name": "stdout",
     "output_type": "stream",
     "text": [
      " 0.772872733728"
     ]
    },
    {
     "name": "stdout",
     "output_type": "stream",
     "text": [
      " 0.667709190751"
     ]
    },
    {
     "name": "stdout",
     "output_type": "stream",
     "text": [
      " 0.702326008039"
     ]
    },
    {
     "name": "stdout",
     "output_type": "stream",
     "text": [
      " 0.732754001566"
     ]
    },
    {
     "name": "stdout",
     "output_type": "stream",
     "text": [
      " 0.625302955687"
     ]
    },
    {
     "name": "stdout",
     "output_type": "stream",
     "text": [
      " 0.765836688243"
     ]
    },
    {
     "name": "stdout",
     "output_type": "stream",
     "text": [
      " 0.561210845123"
     ]
    },
    {
     "name": "stdout",
     "output_type": "stream",
     "text": [
      " \n\t\t[0.037037037037037035, 0.08365169045150565, 0.08138131569691044, 0.08686102796117857, 0.09261675213491401, 0.1098724213754131, 0.11192989239985263, 0.1148801018645946, 0.1162283564807402, 0.13053739076394116]\n"
     ]
    },
    {
     "name": "stdout",
     "output_type": "stream",
     "text": [
      "0.580055782538"
     ]
    },
    {
     "name": "stdout",
     "output_type": "stream",
     "text": [
      " 0.581048790144"
     ]
    },
    {
     "name": "stdout",
     "output_type": "stream",
     "text": [
      " 0.747441904007"
     ]
    },
    {
     "name": "stdout",
     "output_type": "stream",
     "text": [
      " 0.774864643587"
     ]
    },
    {
     "name": "stdout",
     "output_type": "stream",
     "text": [
      " 0.661484157423"
     ]
    },
    {
     "name": "stdout",
     "output_type": "stream",
     "text": [
      " 0.685297775987"
     ]
    },
    {
     "name": "stdout",
     "output_type": "stream",
     "text": [
      " 0.775290324503"
     ]
    },
    {
     "name": "stdout",
     "output_type": "stream",
     "text": [
      " 0.529524130854"
     ]
    },
    {
     "name": "stdout",
     "output_type": "stream",
     "text": [
      " 0.759634434756"
     ]
    },
    {
     "name": "stdout",
     "output_type": "stream",
     "text": [
      " 0.571350713637"
     ]
    },
    {
     "name": "stdout",
     "output_type": "stream",
     "text": [
      " \n\t\t[0.037037037037037035, 0.05311998092599721, 0.05911279020733094, 0.06264979683960764, 0.07392639319782816, 0.0904456964254061, 0.09284070498209883, 0.09790688059273929, 0.10444377377015146, 0.11242801550406749]\n"
     ]
    },
    {
     "name": "stdout",
     "output_type": "stream",
     "text": [
      "0.681403577389"
     ]
    },
    {
     "name": "stdout",
     "output_type": "stream",
     "text": [
      " 0.745796646109"
     ]
    },
    {
     "name": "stdout",
     "output_type": "stream",
     "text": [
      " 0.79867529217"
     ]
    },
    {
     "name": "stdout",
     "output_type": "stream",
     "text": [
      " 0.615978148388"
     ]
    },
    {
     "name": "stdout",
     "output_type": "stream",
     "text": [
      " 0.695975888945"
     ]
    },
    {
     "name": "stdout",
     "output_type": "stream",
     "text": [
      " 0.728579081341"
     ]
    },
    {
     "name": "stdout",
     "output_type": "stream",
     "text": [
      " 0.822313380806"
     ]
    },
    {
     "name": "stdout",
     "output_type": "stream",
     "text": [
      " 0.727899689825"
     ]
    },
    {
     "name": "stdout",
     "output_type": "stream",
     "text": [
      " 0.597108871227"
     ]
    },
    {
     "name": "stdout",
     "output_type": "stream",
     "text": [
      " 0.66738299287"
     ]
    },
    {
     "name": "stdout",
     "output_type": "stream",
     "text": [
      " \n\t\t[0.07407407407407407, 0.10620290204397508, 0.10842881050983433, 0.11229080087942488, 0.12533264472816588, 0.13808936004237193, 0.14075505139120661, 0.14365186392730805, 0.14672747979501347, 0.15530876429527662]\n"
     ]
    },
    {
     "name": "stdout",
     "output_type": "stream",
     "text": [
      "0.702907020869"
     ]
    },
    {
     "name": "stdout",
     "output_type": "stream",
     "text": [
      " 0.664419230946"
     ]
    },
    {
     "name": "stdout",
     "output_type": "stream",
     "text": [
      " 0.603172986725"
     ]
    },
    {
     "name": "stdout",
     "output_type": "stream",
     "text": [
      " 0.642956407051"
     ]
    },
    {
     "name": "stdout",
     "output_type": "stream",
     "text": [
      " 0.633464768441"
     ]
    },
    {
     "name": "stdout",
     "output_type": "stream",
     "text": [
      " 0.631395650891"
     ]
    },
    {
     "name": "stdout",
     "output_type": "stream",
     "text": [
      " 0.611386167466"
     ]
    },
    {
     "name": "stdout",
     "output_type": "stream",
     "text": [
      " 0.791068125947"
     ]
    },
    {
     "name": "stdout",
     "output_type": "stream",
     "text": [
      " 0.656984660818"
     ]
    },
    {
     "name": "stdout",
     "output_type": "stream",
     "text": [
      " 0.605761249952"
     ]
    },
    {
     "name": "stdout",
     "output_type": "stream",
     "text": [
      " \n\t\t[0.037037037037037035, 0.060283921800710946, 0.058013547046115735, 0.06349325931038387, 0.08095654901718542, 0.0973998824311532, 0.10014135427255143, 0.11475682485463146, 0.11783244072233688, 0.1307961185572734]\n"
     ]
    },
    {
     "name": "stdout",
     "output_type": "stream",
     "text": [
      "0.574517421742"
     ]
    },
    {
     "name": "stdout",
     "output_type": "stream",
     "text": [
      " 0.601812682683"
     ]
    },
    {
     "name": "stdout",
     "output_type": "stream",
     "text": [
      " 0.714727067772"
     ]
    },
    {
     "name": "stdout",
     "output_type": "stream",
     "text": [
      " 0.632068175756"
     ]
    },
    {
     "name": "stdout",
     "output_type": "stream",
     "text": [
      " 0.627164870308"
     ]
    },
    {
     "name": "stdout",
     "output_type": "stream",
     "text": [
      " 0.711885060418"
     ]
    },
    {
     "name": "stdout",
     "output_type": "stream",
     "text": [
      " 0.650979346071"
     ]
    },
    {
     "name": "stdout",
     "output_type": "stream",
     "text": [
      " 0.624101769597"
     ]
    },
    {
     "name": "stdout",
     "output_type": "stream",
     "text": [
      " 0.689958361163"
     ]
    },
    {
     "name": "stdout",
     "output_type": "stream",
     "text": [
      " 0.605312299668"
     ]
    },
    {
     "name": "stdout",
     "output_type": "stream",
     "text": [
      " \n\t\t[0.037037037037037035, 0.06744786267542467, 0.06383821977186536, 0.06512324843938609, 0.07553542886953064, 0.08638769969857091, 0.08875893123678578, 0.09137323123757125, 0.09196133691842909, 0.10181190110990104]\n"
     ]
    },
    {
     "name": "stdout",
     "output_type": "stream",
     "text": [
      "0.657858447594"
     ]
    },
    {
     "name": "stdout",
     "output_type": "stream",
     "text": [
      " 0.626871429965"
     ]
    },
    {
     "name": "stdout",
     "output_type": "stream",
     "text": [
      " 0.614090703356"
     ]
    },
    {
     "name": "stdout",
     "output_type": "stream",
     "text": [
      " 0.679668504072"
     ]
    },
    {
     "name": "stdout",
     "output_type": "stream",
     "text": [
      " 0.709230061272"
     ]
    },
    {
     "name": "stdout",
     "output_type": "stream",
     "text": [
      " 0.728514377033"
     ]
    },
    {
     "name": "stdout",
     "output_type": "stream",
     "text": [
      " 0.717643340365"
     ]
    },
    {
     "name": "stdout",
     "output_type": "stream",
     "text": [
      " 0.669675448559"
     ]
    },
    {
     "name": "stdout",
     "output_type": "stream",
     "text": [
      " 0.711640269488"
     ]
    },
    {
     "name": "stdout",
     "output_type": "stream",
     "text": [
      " 0.651199090517"
     ]
    },
    {
     "name": "stdout",
     "output_type": "stream",
     "text": [
      " \n\t\t[0.05555555555555555, 0.06547952550988884, 0.06237942857720079, 0.07180980230441028, 0.0818107275664285, 0.08485760960826516, 0.09065578258300065, 0.09354965485612536, 0.09662527072383079, 0.1148448830698584]\n"
     ]
    },
    {
     "name": "stdout",
     "output_type": "stream",
     "text": [
      "0.800002054204"
     ]
    },
    {
     "name": "stdout",
     "output_type": "stream",
     "text": [
      " 0.7277224065"
     ]
    },
    {
     "name": "stdout",
     "output_type": "stream",
     "text": [
      " 0.543839258691"
     ]
    },
    {
     "name": "stdout",
     "output_type": "stream",
     "text": [
      " 0.678907139068"
     ]
    },
    {
     "name": "stdout",
     "output_type": "stream",
     "text": [
      " 0.694041135499"
     ]
    },
    {
     "name": "stdout",
     "output_type": "stream",
     "text": [
      " 0.558748949736"
     ]
    },
    {
     "name": "stdout",
     "output_type": "stream",
     "text": [
      " 0.656282560052"
     ]
    },
    {
     "name": "stdout",
     "output_type": "stream",
     "text": [
      " 0.607029986339"
     ]
    },
    {
     "name": "stdout",
     "output_type": "stream",
     "text": [
      " 0.825111345987"
     ]
    },
    {
     "name": "stdout",
     "output_type": "stream",
     "text": [
      " 0.625588528902"
     ]
    },
    {
     "name": "stdout",
     "output_type": "stream",
     "text": [
      " \n\t\t[0.037037037037037035, 0.06744786267542467, 0.06383821977186536, 0.07038157732170232, 0.07606486675191272, 0.08616719440467373, 0.08821101431801755, 0.09146980529914721, 0.09221392741967335, 0.10739510104159879]\n"
     ]
    },
    {
     "name": "stdout",
     "output_type": "stream",
     "text": [
      "0.677701475366"
     ]
    },
    {
     "name": "stdout",
     "output_type": "stream",
     "text": [
      " 0.645578084281"
     ]
    },
    {
     "name": "stdout",
     "output_type": "stream",
     "text": [
      " 0.66079420645"
     ]
    },
    {
     "name": "stdout",
     "output_type": "stream",
     "text": [
      " 0.697034206765"
     ]
    },
    {
     "name": "stdout",
     "output_type": "stream",
     "text": [
      " 0.702392398655"
     ]
    },
    {
     "name": "stdout",
     "output_type": "stream",
     "text": [
      " 0.644059846871"
     ]
    },
    {
     "name": "stdout",
     "output_type": "stream",
     "text": [
      " 0.587102686842"
     ]
    },
    {
     "name": "stdout",
     "output_type": "stream",
     "text": [
      " 0.679010885754"
     ]
    },
    {
     "name": "stdout",
     "output_type": "stream",
     "text": [
      " 0.718372941848"
     ]
    },
    {
     "name": "stdout",
     "output_type": "stream",
     "text": [
      " 0.562909081102"
     ]
    },
    {
     "name": "stdout",
     "output_type": "stream",
     "text": [
      " \n\t\t[0.07407407407407407, 0.10448489971246172, 0.1008752568089024, 0.10741861435873935, 0.12013587276454724, 0.13656888472666995, 0.13963877864039625, 0.1422527292294602, 0.14532725869158106, 0.1539080219713139]\n"
     ]
    },
    {
     "name": "stdout",
     "output_type": "stream",
     "text": [
      "0.635387668448"
     ]
    },
    {
     "name": "stdout",
     "output_type": "stream",
     "text": [
      " 0.639397745725"
     ]
    },
    {
     "name": "stdout",
     "output_type": "stream",
     "text": [
      " 0.535281866929"
     ]
    },
    {
     "name": "stdout",
     "output_type": "stream",
     "text": [
      " 0.667177229312"
     ]
    },
    {
     "name": "stdout",
     "output_type": "stream",
     "text": [
      " 0.739440299307"
     ]
    },
    {
     "name": "stdout",
     "output_type": "stream",
     "text": [
      " 0.589071540785"
     ]
    },
    {
     "name": "stdout",
     "output_type": "stream",
     "text": [
      " 0.535923302284"
     ]
    },
    {
     "name": "stdout",
     "output_type": "stream",
     "text": [
      " 0.665565017728"
     ]
    },
    {
     "name": "stdout",
     "output_type": "stream",
     "text": [
      " 0.601682565476"
     ]
    },
    {
     "name": "stdout",
     "output_type": "stream",
     "text": [
      " 0.70145563487"
     ]
    },
    {
     "name": "stdout",
     "output_type": "stream",
     "text": [
      " \n\t\t[0.05555555555555555, 0.06547952550988884, 0.06237942857720079, 0.07180980230441028, 0.07713713100895984, 0.08092030211577333, 0.08672733094922591, 0.08931036011617412, 0.09298903112069451, 0.10595359391313205]\n"
     ]
    },
    {
     "name": "stdout",
     "output_type": "stream",
     "text": [
      "0.767309241365"
     ]
    },
    {
     "name": "stdout",
     "output_type": "stream",
     "text": [
      " 0.595278178111"
     ]
    },
    {
     "name": "stdout",
     "output_type": "stream",
     "text": [
      " 0.685496905372"
     ]
    },
    {
     "name": "stdout",
     "output_type": "stream",
     "text": [
      " 0.615312962348"
     ]
    },
    {
     "name": "stdout",
     "output_type": "stream",
     "text": [
      " 0.674385377096"
     ]
    },
    {
     "name": "stdout",
     "output_type": "stream",
     "text": [
      " 0.795212471513"
     ]
    },
    {
     "name": "stdout",
     "output_type": "stream",
     "text": [
      " 0.783569697181"
     ]
    },
    {
     "name": "stdout",
     "output_type": "stream",
     "text": [
      " 0.730102963814"
     ]
    },
    {
     "name": "stdout",
     "output_type": "stream",
     "text": [
      " 0.598780023986"
     ]
    },
    {
     "name": "stdout",
     "output_type": "stream",
     "text": [
      " 0.597920679213"
     ]
    },
    {
     "name": "stdout",
     "output_type": "stream",
     "text": [
      " \n\t\t[0.04938271604938271, 0.06897426857891013, 0.06762318936972408, 0.07216396836609504, 0.08077828857274778, 0.09153599988252255, 0.09425172841511603, 0.09874757619891775, 0.10626748714554261, 0.11193974519871215]\n"
     ]
    },
    {
     "name": "stdout",
     "output_type": "stream",
     "text": [
      "0.67799820108"
     ]
    },
    {
     "name": "stdout",
     "output_type": "stream",
     "text": [
      " 0.554842937451"
     ]
    },
    {
     "name": "stdout",
     "output_type": "stream",
     "text": [
      " 0.783368412089"
     ]
    },
    {
     "name": "stdout",
     "output_type": "stream",
     "text": [
      " 0.725300587945"
     ]
    },
    {
     "name": "stdout",
     "output_type": "stream",
     "text": [
      " 0.618602414172"
     ]
    },
    {
     "name": "stdout",
     "output_type": "stream",
     "text": [
      " 0.60539500273"
     ]
    },
    {
     "name": "stdout",
     "output_type": "stream",
     "text": [
      " 0.678774652866"
     ]
    },
    {
     "name": "stdout",
     "output_type": "stream",
     "text": [
      " 0.679477204321"
     ]
    },
    {
     "name": "stdout",
     "output_type": "stream",
     "text": [
      " 0.688124371979"
     ]
    },
    {
     "name": "stdout",
     "output_type": "stream",
     "text": [
      " 0.654400447801"
     ]
    },
    {
     "name": "stdout",
     "output_type": "stream",
     "text": [
      " \n\t\t[0.037037037037037035, 0.060283921800710946, 0.058013547046115735, 0.06349325931038387, 0.08095654901718542, 0.09754595169872392, 0.10028742354012211, 0.1029039899929148, 0.10597976558014352, 0.11894352004308695]\n"
     ]
    },
    {
     "name": "stdout",
     "output_type": "stream",
     "text": [
      "0.831338437934"
     ]
    },
    {
     "name": "stdout",
     "output_type": "stream",
     "text": [
      " 0.708574923286"
     ]
    },
    {
     "name": "stdout",
     "output_type": "stream",
     "text": [
      " 0.644140227336"
     ]
    },
    {
     "name": "stdout",
     "output_type": "stream",
     "text": [
      " 0.714122807374"
     ]
    },
    {
     "name": "stdout",
     "output_type": "stream",
     "text": [
      " 0.759469080721"
     ]
    },
    {
     "name": "stdout",
     "output_type": "stream",
     "text": [
      " 0.802515361131"
     ]
    },
    {
     "name": "stdout",
     "output_type": "stream",
     "text": [
      " 0.558200918523"
     ]
    },
    {
     "name": "stdout",
     "output_type": "stream",
     "text": [
      " 0.695621382515"
     ]
    },
    {
     "name": "stdout",
     "output_type": "stream",
     "text": [
      " 0.696709065477"
     ]
    },
    {
     "name": "stdout",
     "output_type": "stream",
     "text": [
      " 0.647884264263"
     ]
    },
    {
     "name": "stdout",
     "output_type": "stream",
     "text": [
      " \n\t\t[0.05555555555555555, 0.06547952550988884, 0.06237942857720079, 0.07180980230441028, 0.07713713100895984, 0.08092030211577333, 0.08672733094922591, 0.08931036011617412, 0.09846252287421543, 0.10704469233197957]\n"
     ]
    },
    {
     "name": "stdout",
     "output_type": "stream",
     "text": [
      "0.570419645735"
     ]
    },
    {
     "name": "stdout",
     "output_type": "stream",
     "text": [
      " 0.564276563133"
     ]
    },
    {
     "name": "stdout",
     "output_type": "stream",
     "text": [
      " 0.643747503077"
     ]
    },
    {
     "name": "stdout",
     "output_type": "stream",
     "text": [
      " 0.576286598148"
     ]
    },
    {
     "name": "stdout",
     "output_type": "stream",
     "text": [
      " 0.659429915157"
     ]
    },
    {
     "name": "stdout",
     "output_type": "stream",
     "text": [
      " 0.577763994232"
     ]
    },
    {
     "name": "stdout",
     "output_type": "stream",
     "text": [
      " 0.823042925845"
     ]
    },
    {
     "name": "stdout",
     "output_type": "stream",
     "text": [
      " 0.705094794207"
     ]
    },
    {
     "name": "stdout",
     "output_type": "stream",
     "text": [
      " 0.771901757816"
     ]
    },
    {
     "name": "stdout",
     "output_type": "stream",
     "text": [
      " 0.676785734455"
     ]
    },
    {
     "name": "stdout",
     "output_type": "stream",
     "text": [
      " \n\t\t[0.04938271604938271, 0.06897426857891013, 0.06170848671713522, 0.06696448338709235, 0.07262831420202863, 0.08343656140877986, 0.0985200752143798, 0.1011349392855194, 0.11028151132172831, 0.12324339654612236]\n"
     ]
    },
    {
     "name": "stdout",
     "output_type": "stream",
     "text": [
      "0.712226808013"
     ]
    },
    {
     "name": "stdout",
     "output_type": "stream",
     "text": [
      " 0.596325291867"
     ]
    },
    {
     "name": "stdout",
     "output_type": "stream",
     "text": [
      " 0.742512305401"
     ]
    },
    {
     "name": "stdout",
     "output_type": "stream",
     "text": [
      " 0.632303821994"
     ]
    },
    {
     "name": "stdout",
     "output_type": "stream",
     "text": [
      " 0.772983341624"
     ]
    },
    {
     "name": "stdout",
     "output_type": "stream",
     "text": [
      " 0.593529063462"
     ]
    },
    {
     "name": "stdout",
     "output_type": "stream",
     "text": [
      " 0.56177090024"
     ]
    },
    {
     "name": "stdout",
     "output_type": "stream",
     "text": [
      " 0.618994554589"
     ]
    },
    {
     "name": "stdout",
     "output_type": "stream",
     "text": [
      " 0.61490538899"
     ]
    },
    {
     "name": "stdout",
     "output_type": "stream",
     "text": [
      " 0.617889091804"
     ]
    },
    {
     "name": "stdout",
     "output_type": "stream",
     "text": [
      " \n\t\t[0.037037037037037035, 0.060283921800710946, 0.058013547046115735, 0.06349325931038387, 0.07392258004158796, 0.08403522914619402, 0.08710991831229896, 0.08972613049115169, 0.09821605318300675, 0.11117972667760521]\n"
     ]
    },
    {
     "name": "stdout",
     "output_type": "stream",
     "text": [
      "0.526869572276"
     ]
    },
    {
     "name": "stdout",
     "output_type": "stream",
     "text": [
      " 0.615853461376"
     ]
    },
    {
     "name": "stdout",
     "output_type": "stream",
     "text": [
      " 0.668307037607"
     ]
    },
    {
     "name": "stdout",
     "output_type": "stream",
     "text": [
      " 0.61800965604"
     ]
    },
    {
     "name": "stdout",
     "output_type": "stream",
     "text": [
      " 0.814563450917"
     ]
    },
    {
     "name": "stdout",
     "output_type": "stream",
     "text": [
      " 0.619347600404"
     ]
    },
    {
     "name": "stdout",
     "output_type": "stream",
     "text": [
      " 0.712820352284"
     ]
    },
    {
     "name": "stdout",
     "output_type": "stream",
     "text": [
      " 0.691059819668"
     ]
    },
    {
     "name": "stdout",
     "output_type": "stream",
     "text": [
      " 0.585863970218"
     ]
    },
    {
     "name": "stdout",
     "output_type": "stream",
     "text": [
      " 0.710893452647"
     ]
    },
    {
     "name": "stdout",
     "output_type": "stream",
     "text": [
      " \n\t\t[0.037037037037037035, 0.060283921800710946, 0.058013547046115735, 0.06349325931038387, 0.0692489834841193, 0.08650465272461838, 0.08925498042473363, 0.09187572357523985, 0.09555439457976023, 0.1041365640375244]\n"
     ]
    },
    {
     "name": "stdout",
     "output_type": "stream",
     "text": [
      "0.758677520725"
     ]
    },
    {
     "name": "stdout",
     "output_type": "stream",
     "text": [
      " 0.592929770664"
     ]
    },
    {
     "name": "stdout",
     "output_type": "stream",
     "text": [
      " 0.613533736356"
     ]
    },
    {
     "name": "stdout",
     "output_type": "stream",
     "text": [
      " 0.611555526325"
     ]
    },
    {
     "name": "stdout",
     "output_type": "stream",
     "text": [
      " 0.688651496485"
     ]
    },
    {
     "name": "stdout",
     "output_type": "stream",
     "text": [
      " 0.614292255088"
     ]
    },
    {
     "name": "stdout",
     "output_type": "stream",
     "text": [
      " 0.596855251089"
     ]
    },
    {
     "name": "stdout",
     "output_type": "stream",
     "text": [
      " 0.577974088721"
     ]
    },
    {
     "name": "stdout",
     "output_type": "stream",
     "text": [
      " 0.655791708797"
     ]
    },
    {
     "name": "stdout",
     "output_type": "stream",
     "text": [
      " 0.742733184995"
     ]
    },
    {
     "name": "stdout",
     "output_type": "stream",
     "text": [
      " \n\t\t[0.037037037037037035, 0.060283921800710946, 0.058013547046115735, 0.06349325931038387, 0.07628295245971675, 0.09025435954739462, 0.09391830685638775, 0.0976758351956782, 0.09933890236277151, 0.10639009706950925]\n"
     ]
    },
    {
     "name": "stdout",
     "output_type": "stream",
     "text": [
      "0.649386385082"
     ]
    },
    {
     "name": "stdout",
     "output_type": "stream",
     "text": [
      " 0.714922344961"
     ]
    },
    {
     "name": "stdout",
     "output_type": "stream",
     "text": [
      " 0.813228674322"
     ]
    },
    {
     "name": "stdout",
     "output_type": "stream",
     "text": [
      " 0.709974678733"
     ]
    },
    {
     "name": "stdout",
     "output_type": "stream",
     "text": [
      " 0.697947318357"
     ]
    },
    {
     "name": "stdout",
     "output_type": "stream",
     "text": [
      " 0.652992381081"
     ]
    },
    {
     "name": "stdout",
     "output_type": "stream",
     "text": [
      " 0.611764358557"
     ]
    },
    {
     "name": "stdout",
     "output_type": "stream",
     "text": [
      " 0.712033509234"
     ]
    },
    {
     "name": "stdout",
     "output_type": "stream",
     "text": [
      " 0.814806245354"
     ]
    },
    {
     "name": "stdout",
     "output_type": "stream",
     "text": [
      " 0.630393593667"
     ]
    },
    {
     "name": "stdout",
     "output_type": "stream",
     "text": [
      " \n\t\t[0.037037037037037035, 0.060283921800710946, 0.058013547046115735, 0.06349325931038387, 0.0692489834841193, 0.08650465272461838, 0.10090780276140358, 0.10385801222614556, 0.10520626684229116, 0.11513290779081872]\n"
     ]
    },
    {
     "name": "stdout",
     "output_type": "stream",
     "text": [
      "0.631763410869"
     ]
    },
    {
     "name": "stdout",
     "output_type": "stream",
     "text": [
      " 0.723214556152"
     ]
    },
    {
     "name": "stdout",
     "output_type": "stream",
     "text": [
      " 0.733546235678"
     ]
    },
    {
     "name": "stdout",
     "output_type": "stream",
     "text": [
      " 0.681896153125"
     ]
    },
    {
     "name": "stdout",
     "output_type": "stream",
     "text": [
      " 0.651317828238"
     ]
    },
    {
     "name": "stdout",
     "output_type": "stream",
     "text": [
      " 0.799572788461"
     ]
    },
    {
     "name": "stdout",
     "output_type": "stream",
     "text": [
      " 0.653469279286"
     ]
    },
    {
     "name": "stdout",
     "output_type": "stream",
     "text": [
      " 0.669216615033"
     ]
    },
    {
     "name": "stdout",
     "output_type": "stream",
     "text": [
      " 0.835915012497"
     ]
    },
    {
     "name": "stdout",
     "output_type": "stream",
     "text": [
      " 0.712699993792"
     ]
    },
    {
     "name": "stdout",
     "output_type": "stream",
     "text": [
      " \n\t\t[0.037037037037037035, 0.060283921800710946, 0.058013547046115735, 0.06349325931038387, 0.07628295245971675, 0.0936086442062321, 0.09566611523067162, 0.09861632469541359, 0.09996457931155919, 0.11427361359476013]\n"
     ]
    },
    {
     "name": "stdout",
     "output_type": "stream",
     "text": [
      "0.645692443882"
     ]
    },
    {
     "name": "stdout",
     "output_type": "stream",
     "text": [
      " 0.682439885337"
     ]
    },
    {
     "name": "stdout",
     "output_type": "stream",
     "text": [
      " 0.603215200271"
     ]
    },
    {
     "name": "stdout",
     "output_type": "stream",
     "text": [
      " 0.616787279355"
     ]
    },
    {
     "name": "stdout",
     "output_type": "stream",
     "text": [
      " 0.585658092702"
     ]
    },
    {
     "name": "stdout",
     "output_type": "stream",
     "text": [
      " 0.648964532971"
     ]
    },
    {
     "name": "stdout",
     "output_type": "stream",
     "text": [
      " 0.60523857183"
     ]
    },
    {
     "name": "stdout",
     "output_type": "stream",
     "text": [
      " 0.638599578252"
     ]
    },
    {
     "name": "stdout",
     "output_type": "stream",
     "text": [
      " 0.650632962144"
     ]
    },
    {
     "name": "stdout",
     "output_type": "stream",
     "text": [
      " 0.615793109777"
     ]
    },
    {
     "name": "stdout",
     "output_type": "stream",
     "text": [
      " \n\t\t[0.05555555555555555, 0.06547952550988884, 0.06237942857720079, 0.07180980230441028, 0.08884469654202597, 0.09836833216079505, 0.10416650513553055, 0.10706037740865525, 0.11013599327636069, 0.12309967111129722]\n"
     ]
    },
    {
     "name": "stdout",
     "output_type": "stream",
     "text": [
      "0.661035366439"
     ]
    },
    {
     "name": "stdout",
     "output_type": "stream",
     "text": [
      " 0.689243349406"
     ]
    },
    {
     "name": "stdout",
     "output_type": "stream",
     "text": [
      " 0.57011731102"
     ]
    },
    {
     "name": "stdout",
     "output_type": "stream",
     "text": [
      " 0.723105441186"
     ]
    },
    {
     "name": "stdout",
     "output_type": "stream",
     "text": [
      " 0.820286411461"
     ]
    },
    {
     "name": "stdout",
     "output_type": "stream",
     "text": [
      " 0.725149357961"
     ]
    },
    {
     "name": "stdout",
     "output_type": "stream",
     "text": [
      " 0.599272267349"
     ]
    },
    {
     "name": "stdout",
     "output_type": "stream",
     "text": [
      " 0.578450857379"
     ]
    },
    {
     "name": "stdout",
     "output_type": "stream",
     "text": [
      " 0.629153778944"
     ]
    },
    {
     "name": "stdout",
     "output_type": "stream",
     "text": [
      " 0.685668682854"
     ]
    },
    {
     "name": "stdout",
     "output_type": "stream",
     "text": [
      " \n\t\t[0.037037037037037035, 0.05311998092599721, 0.05449684628268771, 0.05857997631827173, 0.06834150373048661, 0.0856715091019164, 0.08807741333742714, 0.09314872768822371, 0.09542472933408723, 0.10779246572605475]\n"
     ]
    },
    {
     "name": "stdout",
     "output_type": "stream",
     "text": [
      "0.679519127634"
     ]
    },
    {
     "name": "stdout",
     "output_type": "stream",
     "text": [
      " 0.736694169723"
     ]
    },
    {
     "name": "stdout",
     "output_type": "stream",
     "text": [
      " 0.520689149595"
     ]
    },
    {
     "name": "stdout",
     "output_type": "stream",
     "text": [
      " 0.687759329875"
     ]
    },
    {
     "name": "stdout",
     "output_type": "stream",
     "text": [
      " 0.713477599915"
     ]
    },
    {
     "name": "stdout",
     "output_type": "stream",
     "text": [
      " 0.603085955195"
     ]
    },
    {
     "name": "stdout",
     "output_type": "stream",
     "text": [
      " 0.56634481092"
     ]
    },
    {
     "name": "stdout",
     "output_type": "stream",
     "text": [
      " 0.611180059878"
     ]
    },
    {
     "name": "stdout",
     "output_type": "stream",
     "text": [
      " 0.782544646337"
     ]
    },
    {
     "name": "stdout",
     "output_type": "stream",
     "text": [
      " 0.675482645318"
     ]
    },
    {
     "name": "stdout",
     "output_type": "stream",
     "text": [
      " \n\t\t[0.05555555555555555, 0.06547952550988884, 0.06237942857720079, 0.07180980230441028, 0.07713713100895984, 0.08596951196601722, 0.09311262095383191, 0.0956957473641037, 0.09877355893859635, 0.11231517106186283]\n"
     ]
    },
    {
     "name": "stdout",
     "output_type": "stream",
     "text": [
      "0.703732752357"
     ]
    },
    {
     "name": "stdout",
     "output_type": "stream",
     "text": [
      " 0.687161992898"
     ]
    },
    {
     "name": "stdout",
     "output_type": "stream",
     "text": [
      " 0.593889286488"
     ]
    },
    {
     "name": "stdout",
     "output_type": "stream",
     "text": [
      " 0.646503746128"
     ]
    },
    {
     "name": "stdout",
     "output_type": "stream",
     "text": [
      " 0.740139179138"
     ]
    },
    {
     "name": "stdout",
     "output_type": "stream",
     "text": [
      " 0.741217826852"
     ]
    },
    {
     "name": "stdout",
     "output_type": "stream",
     "text": [
      " 0.619424864055"
     ]
    },
    {
     "name": "stdout",
     "output_type": "stream",
     "text": [
      " 0.672409135067"
     ]
    },
    {
     "name": "stdout",
     "output_type": "stream",
     "text": [
      " 0.712327044614"
     ]
    },
    {
     "name": "stdout",
     "output_type": "stream",
     "text": [
      " 0.546878989979"
     ]
    },
    {
     "name": "stdout",
     "output_type": "stream",
     "text": [
      " \n\t\t[0.05555555555555555, 0.06547952550988884, 0.06237942857720079, 0.07180980230441028, 0.08417109998455731, 0.09443102466830323, 0.1002380535017558, 0.10282108266870402, 0.10649975367322441, 0.11946431646566193]\n"
     ]
    },
    {
     "name": "stdout",
     "output_type": "stream",
     "text": [
      "0.665938386985"
     ]
    },
    {
     "name": "stdout",
     "output_type": "stream",
     "text": [
      " 0.556642059205"
     ]
    },
    {
     "name": "stdout",
     "output_type": "stream",
     "text": [
      " 0.704112159814"
     ]
    },
    {
     "name": "stdout",
     "output_type": "stream",
     "text": [
      " 0.699773894223"
     ]
    },
    {
     "name": "stdout",
     "output_type": "stream",
     "text": [
      " 0.663580410327"
     ]
    },
    {
     "name": "stdout",
     "output_type": "stream",
     "text": [
      " 0.580039573611"
     ]
    },
    {
     "name": "stdout",
     "output_type": "stream",
     "text": [
      " 0.556225791758"
     ]
    },
    {
     "name": "stdout",
     "output_type": "stream",
     "text": [
      " 0.774654236625"
     ]
    },
    {
     "name": "stdout",
     "output_type": "stream",
     "text": [
      " 0.497757814424"
     ]
    },
    {
     "name": "stdout",
     "output_type": "stream",
     "text": [
      " 0.658890134532"
     ]
    },
    {
     "name": "stdout",
     "output_type": "stream",
     "text": [
      " \n\t\t[0.05555555555555555, 0.06547952550988884, 0.06237942857720079, 0.07180980230441028, 0.08884469654202597, 0.09911572452649343, 0.10421405004238922, 0.10710771280517203, 0.11018322936033176, 0.12314685966062898]\n"
     ]
    },
    {
     "name": "stdout",
     "output_type": "stream",
     "text": [
      "0.668723374392"
     ]
    },
    {
     "name": "stdout",
     "output_type": "stream",
     "text": [
      " 0.573384926943"
     ]
    },
    {
     "name": "stdout",
     "output_type": "stream",
     "text": [
      " 0.6583978995"
     ]
    },
    {
     "name": "stdout",
     "output_type": "stream",
     "text": [
      " 0.74942444286"
     ]
    },
    {
     "name": "stdout",
     "output_type": "stream",
     "text": [
      " 0.856829851793"
     ]
    },
    {
     "name": "stdout",
     "output_type": "stream",
     "text": [
      " 0.618678097596"
     ]
    },
    {
     "name": "stdout",
     "output_type": "stream",
     "text": [
      " 0.743036022325"
     ]
    },
    {
     "name": "stdout",
     "output_type": "stream",
     "text": [
      " 0.563936044206"
     ]
    },
    {
     "name": "stdout",
     "output_type": "stream",
     "text": [
      " 0.554204900417"
     ]
    },
    {
     "name": "stdout",
     "output_type": "stream",
     "text": [
      " 0.648509318983"
     ]
    },
    {
     "name": "stdout",
     "output_type": "stream",
     "text": [
      " \n\t\t[0.05555555555555555, 0.06547952550988884, 0.06237942857720079, 0.07180980230441028, 0.08417109998455731, 0.09300348094161469, 0.09860970802662745, 0.10120777661777049, 0.11091105333999952, 0.11743063668027548]\n"
     ]
    },
    {
     "name": "stdout",
     "output_type": "stream",
     "text": [
      "0.677244965342"
     ]
    },
    {
     "name": "stdout",
     "output_type": "stream",
     "text": [
      " 0.710968856482"
     ]
    },
    {
     "name": "stdout",
     "output_type": "stream",
     "text": [
      " 0.775247442367"
     ]
    },
    {
     "name": "stdout",
     "output_type": "stream",
     "text": [
      " 0.644402406009"
     ]
    },
    {
     "name": "stdout",
     "output_type": "stream",
     "text": [
      " 0.800562557286"
     ]
    },
    {
     "name": "stdout",
     "output_type": "stream",
     "text": [
      " 0.597864995526"
     ]
    },
    {
     "name": "stdout",
     "output_type": "stream",
     "text": [
      " 0.645517050614"
     ]
    },
    {
     "name": "stdout",
     "output_type": "stream",
     "text": [
      " 0.535298160066"
     ]
    },
    {
     "name": "stdout",
     "output_type": "stream",
     "text": [
      " 0.836929232918"
     ]
    },
    {
     "name": "stdout",
     "output_type": "stream",
     "text": [
      " 0.805857793389"
     ]
    },
    {
     "name": "stdout",
     "output_type": "stream",
     "text": [
      " \n\t\t[0.037037037037037035, 0.060283921800710946, 0.058013547046115735, 0.06349325931038387, 0.0692489834841193, 0.08657467523063464, 0.0893250029307499, 0.0919457460812561, 0.09562441708577649, 0.10858897987821402]\n"
     ]
    },
    {
     "name": "stdout",
     "output_type": "stream",
     "text": [
      "0.610007059455"
     ]
    },
    {
     "name": "stdout",
     "output_type": "stream",
     "text": [
      " 0.816065910672"
     ]
    },
    {
     "name": "stdout",
     "output_type": "stream",
     "text": [
      " 0.707396914316"
     ]
    },
    {
     "name": "stdout",
     "output_type": "stream",
     "text": [
      " 0.702806622657"
     ]
    },
    {
     "name": "stdout",
     "output_type": "stream",
     "text": [
      " 0.771078270998"
     ]
    },
    {
     "name": "stdout",
     "output_type": "stream",
     "text": [
      " 0.604267151738"
     ]
    },
    {
     "name": "stdout",
     "output_type": "stream",
     "text": [
      " 0.668719070476"
     ]
    },
    {
     "name": "stdout",
     "output_type": "stream",
     "text": [
      " 0.581102636295"
     ]
    },
    {
     "name": "stdout",
     "output_type": "stream",
     "text": [
      " 0.548819856081"
     ]
    },
    {
     "name": "stdout",
     "output_type": "stream",
     "text": [
      " 0.648136095217"
     ]
    },
    {
     "name": "stdout",
     "output_type": "stream",
     "text": [
      " \n\t\t[0.05555555555555555, 0.06547952550988884, 0.06237942857720079, 0.07180980230441028, 0.08417109998455731, 0.08795427109137081, 0.09376129992482338, 0.09634432909177158, 0.10002300009629198, 0.1129875628887295]\n"
     ]
    },
    {
     "name": "stdout",
     "output_type": "stream",
     "text": [
      "0.565771907511"
     ]
    },
    {
     "name": "stdout",
     "output_type": "stream",
     "text": [
      " 0.699187183655"
     ]
    },
    {
     "name": "stdout",
     "output_type": "stream",
     "text": [
      " 0.73574229241"
     ]
    },
    {
     "name": "stdout",
     "output_type": "stream",
     "text": [
      " 0.7358148778"
     ]
    },
    {
     "name": "stdout",
     "output_type": "stream",
     "text": [
      " 0.587195328508"
     ]
    },
    {
     "name": "stdout",
     "output_type": "stream",
     "text": [
      " 0.656913158229"
     ]
    },
    {
     "name": "stdout",
     "output_type": "stream",
     "text": [
      " 0.602868693358"
     ]
    },
    {
     "name": "stdout",
     "output_type": "stream",
     "text": [
      " 0.653833427735"
     ]
    },
    {
     "name": "stdout",
     "output_type": "stream",
     "text": [
      " 0.590998131533"
     ]
    },
    {
     "name": "stdout",
     "output_type": "stream",
     "text": [
      " 0.710924388156"
     ]
    },
    {
     "name": "stdout",
     "output_type": "stream",
     "text": [
      " \n\t\t[0.09259259259259259, 0.10251656254692587, 0.09941646561423782, 0.10884683934144732, 0.12120813702159434, 0.12491526136685341, 0.13072229020030596, 0.1333053193672542, 0.1415477827339896, 0.15012995219175373]\n"
     ]
    },
    {
     "name": "stdout",
     "output_type": "stream",
     "text": [
      "0.749093130272"
     ]
    },
    {
     "name": "stdout",
     "output_type": "stream",
     "text": [
      " 0.652306140933"
     ]
    },
    {
     "name": "stdout",
     "output_type": "stream",
     "text": [
      " 0.716071181106"
     ]
    },
    {
     "name": "stdout",
     "output_type": "stream",
     "text": [
      " 0.684269075146"
     ]
    },
    {
     "name": "stdout",
     "output_type": "stream",
     "text": [
      " 0.719310299774"
     ]
    },
    {
     "name": "stdout",
     "output_type": "stream",
     "text": [
      " 0.740980459816"
     ]
    },
    {
     "name": "stdout",
     "output_type": "stream",
     "text": [
      " 0.566750781302"
     ]
    },
    {
     "name": "stdout",
     "output_type": "stream",
     "text": [
      " 0.72828478081"
     ]
    },
    {
     "name": "stdout",
     "output_type": "stream",
     "text": [
      " 0.674046660263"
     ]
    },
    {
     "name": "stdout",
     "output_type": "stream",
     "text": [
      " 0.599695768266"
     ]
    },
    {
     "name": "stdout",
     "output_type": "stream",
     "text": [
      " \n\t\t[0.05555555555555555, 0.06547952550988884, 0.06237942857720079, 0.07180980230441028, 0.07713713100895984, 0.08739705569270578, 0.09320408452615833, 0.09425774262553724, 0.09939614750952577, 0.10797856191265652]\n"
     ]
    },
    {
     "name": "stdout",
     "output_type": "stream",
     "text": [
      "0.653454942427"
     ]
    },
    {
     "name": "stdout",
     "output_type": "stream",
     "text": [
      " 0.66726294034"
     ]
    },
    {
     "name": "stdout",
     "output_type": "stream",
     "text": [
      " 0.705466883684"
     ]
    },
    {
     "name": "stdout",
     "output_type": "stream",
     "text": [
      " 0.681085414633"
     ]
    },
    {
     "name": "stdout",
     "output_type": "stream",
     "text": [
      " 0.775845552936"
     ]
    },
    {
     "name": "stdout",
     "output_type": "stream",
     "text": [
      " 0.676710207021"
     ]
    },
    {
     "name": "stdout",
     "output_type": "stream",
     "text": [
      " 0.767308403162"
     ]
    },
    {
     "name": "stdout",
     "output_type": "stream",
     "text": [
      " 0.757925892003"
     ]
    },
    {
     "name": "stdout",
     "output_type": "stream",
     "text": [
      " 0.627490946972"
     ]
    },
    {
     "name": "stdout",
     "output_type": "stream",
     "text": [
      " 0.73581413839"
     ]
    },
    {
     "name": "stdout",
     "output_type": "stream",
     "text": [
      " \n\t\t[0.09259259259259259, 0.08270568244627867, 0.07740774735310872, 0.08904424443403124, 0.09015058584396367, 0.1070415596761184, 0.10805656860009748, 0.11195091210476188, 0.11709155610857452, 0.12435522517066046]\n"
     ]
    },
    {
     "name": "stdout",
     "output_type": "stream",
     "text": [
      "0.677878703699"
     ]
    },
    {
     "name": "stdout",
     "output_type": "stream",
     "text": [
      " 0.780959038641"
     ]
    },
    {
     "name": "stdout",
     "output_type": "stream",
     "text": [
      " 0.681246961257"
     ]
    },
    {
     "name": "stdout",
     "output_type": "stream",
     "text": [
      " 0.661221550016"
     ]
    },
    {
     "name": "stdout",
     "output_type": "stream",
     "text": [
      " 0.589838369652"
     ]
    },
    {
     "name": "stdout",
     "output_type": "stream",
     "text": [
      " 0.647347881574"
     ]
    },
    {
     "name": "stdout",
     "output_type": "stream",
     "text": [
      " 0.702746181518"
     ]
    },
    {
     "name": "stdout",
     "output_type": "stream",
     "text": [
      " 0.623915880909"
     ]
    },
    {
     "name": "stdout",
     "output_type": "stream",
     "text": [
      " 0.690236479504"
     ]
    },
    {
     "name": "stdout",
     "output_type": "stream",
     "text": [
      " 0.786827463345"
     ]
    },
    {
     "name": "stdout",
     "output_type": "stream",
     "text": [
      " \n\t\t[0.05555555555555555, 0.05283258628395537, 0.05881617698622054, 0.06957609240633265, 0.08282146959098531, 0.09309761431745679, 0.09856318335524383, 0.10359817628889934, 0.11043975112639896, 0.11842594669462438]\n"
     ]
    },
    {
     "name": "stdout",
     "output_type": "stream",
     "text": [
      "0.700412394953"
     ]
    },
    {
     "name": "stdout",
     "output_type": "stream",
     "text": [
      " 0.758501702182"
     ]
    },
    {
     "name": "stdout",
     "output_type": "stream",
     "text": [
      " 0.606395669516"
     ]
    },
    {
     "name": "stdout",
     "output_type": "stream",
     "text": [
      " 0.627730478267"
     ]
    },
    {
     "name": "stdout",
     "output_type": "stream",
     "text": [
      " 0.643428906516"
     ]
    },
    {
     "name": "stdout",
     "output_type": "stream",
     "text": [
      " 0.570413002062"
     ]
    },
    {
     "name": "stdout",
     "output_type": "stream",
     "text": [
      " 0.661924614582"
     ]
    },
    {
     "name": "stdout",
     "output_type": "stream",
     "text": [
      " 0.76807759666"
     ]
    },
    {
     "name": "stdout",
     "output_type": "stream",
     "text": [
      " 0.633486727698"
     ]
    },
    {
     "name": "stdout",
     "output_type": "stream",
     "text": [
      " 0.696348340621"
     ]
    },
    {
     "name": "stdout",
     "output_type": "stream",
     "text": [
      " \n\t\t[0.09259259259259259, 0.0881886807974984, 0.07622726035113046, 0.08401926386841796, 0.09077606837267205, 0.09906726186143157, 0.11830421168551436, 0.12087373401494937, 0.12424558167887607, 0.13720716115395618]\n"
     ]
    },
    {
     "name": "stdout",
     "output_type": "stream",
     "text": [
      "0.594513033269"
     ]
    },
    {
     "name": "stdout",
     "output_type": "stream",
     "text": [
      " 0.720699300153"
     ]
    },
    {
     "name": "stdout",
     "output_type": "stream",
     "text": [
      " 0.689481024035"
     ]
    },
    {
     "name": "stdout",
     "output_type": "stream",
     "text": [
      " 0.716809986932"
     ]
    },
    {
     "name": "stdout",
     "output_type": "stream",
     "text": [
      " 0.661298993391"
     ]
    },
    {
     "name": "stdout",
     "output_type": "stream",
     "text": [
      " 0.744674076621"
     ]
    },
    {
     "name": "stdout",
     "output_type": "stream",
     "text": [
      " 0.632232907271"
     ]
    },
    {
     "name": "stdout",
     "output_type": "stream",
     "text": [
      " 0.617674676512"
     ]
    },
    {
     "name": "stdout",
     "output_type": "stream",
     "text": [
      " 0.567368934386"
     ]
    },
    {
     "name": "stdout",
     "output_type": "stream",
     "text": [
      " 0.608422053623"
     ]
    },
    {
     "name": "stdout",
     "output_type": "stream",
     "text": [
      " \n\t\t[0.06790123456790123, 0.0686868739368683, 0.06510681316704431, 0.07586702819286756, 0.0810869503727854, 0.09004004478341542, 0.09580467608210565, 0.09685355678360105, 0.10198741859188269, 0.11056765717681027]\n"
     ]
    },
    {
     "name": "stdout",
     "output_type": "stream",
     "text": [
      "0.674629626992"
     ]
    },
    {
     "name": "stdout",
     "output_type": "stream",
     "text": [
      " 0.730885376305"
     ]
    },
    {
     "name": "stdout",
     "output_type": "stream",
     "text": [
      " 0.634810342703"
     ]
    },
    {
     "name": "stdout",
     "output_type": "stream",
     "text": [
      " 0.721497927526"
     ]
    },
    {
     "name": "stdout",
     "output_type": "stream",
     "text": [
      " 0.599700750586"
     ]
    },
    {
     "name": "stdout",
     "output_type": "stream",
     "text": [
      " 0.61346089453"
     ]
    },
    {
     "name": "stdout",
     "output_type": "stream",
     "text": [
      " 0.679816983002"
     ]
    },
    {
     "name": "stdout",
     "output_type": "stream",
     "text": [
      " 0.75354568439"
     ]
    },
    {
     "name": "stdout",
     "output_type": "stream",
     "text": [
      " 0.649401095603"
     ]
    },
    {
     "name": "stdout",
     "output_type": "stream",
     "text": [
      " 0.616950721724"
     ]
    },
    {
     "name": "stdout",
     "output_type": "stream",
     "text": [
      " \n\t\t[0.05555555555555555, 0.06547952550988884, 0.06237942857720079, 0.07180980230441028, 0.0818107275664285, 0.08485760960826516, 0.09671663126071914, 0.1112943878592412, 0.11437000372694664, 0.12733368156188316]\n"
     ]
    },
    {
     "name": "stdout",
     "output_type": "stream",
     "text": [
      "0.711495134044"
     ]
    },
    {
     "name": "stdout",
     "output_type": "stream",
     "text": [
      " 0.686191991351"
     ]
    },
    {
     "name": "stdout",
     "output_type": "stream",
     "text": [
      " 0.769437965622"
     ]
    },
    {
     "name": "stdout",
     "output_type": "stream",
     "text": [
      " 0.751452866764"
     ]
    },
    {
     "name": "stdout",
     "output_type": "stream",
     "text": [
      " 0.593236941052"
     ]
    },
    {
     "name": "stdout",
     "output_type": "stream",
     "text": [
      " 0.541517069704"
     ]
    },
    {
     "name": "stdout",
     "output_type": "stream",
     "text": [
      " 0.68196320977"
     ]
    },
    {
     "name": "stdout",
     "output_type": "stream",
     "text": [
      " 0.67374521411"
     ]
    },
    {
     "name": "stdout",
     "output_type": "stream",
     "text": [
      " 0.528264391286"
     ]
    },
    {
     "name": "stdout",
     "output_type": "stream",
     "text": [
      " 0.722102018042"
     ]
    },
    {
     "name": "stdout",
     "output_type": "stream",
     "text": [
      " \n\t\t[0.06790123456790123, 0.0686868739368683, 0.06510681316704431, 0.07586702819286756, 0.08812091934838284, 0.0872369512677048, 0.09464030452636789, 0.09867870154444598, 0.10691924087645077, 0.11485971325143282]\n"
     ]
    },
    {
     "name": "stdout",
     "output_type": "stream",
     "text": [
      "0.652858058428"
     ]
    },
    {
     "name": "stdout",
     "output_type": "stream",
     "text": [
      " 0.808380912889"
     ]
    },
    {
     "name": "stdout",
     "output_type": "stream",
     "text": [
      " 0.641508672997"
     ]
    },
    {
     "name": "stdout",
     "output_type": "stream",
     "text": [
      " 0.591548709513"
     ]
    },
    {
     "name": "stdout",
     "output_type": "stream",
     "text": [
      " 0.598002247376"
     ]
    },
    {
     "name": "stdout",
     "output_type": "stream",
     "text": [
      " 0.68956563091"
     ]
    },
    {
     "name": "stdout",
     "output_type": "stream",
     "text": [
      " 0.681475982248"
     ]
    },
    {
     "name": "stdout",
     "output_type": "stream",
     "text": [
      " 0.735911174312"
     ]
    },
    {
     "name": "stdout",
     "output_type": "stream",
     "text": [
      " 0.724779263891"
     ]
    },
    {
     "name": "stdout",
     "output_type": "stream",
     "text": [
      " 0.588826173817"
     ]
    },
    {
     "name": "stdout",
     "output_type": "stream",
     "text": [
      " \n\t\t[0.05555555555555555, 0.0583155846351751, 0.063478671738416, 0.07096633983363404, 0.08417491314079753, 0.09428869160902845, 0.09968199161047105, 0.11486914319309509, 0.1186044204280237, 0.12395015311018483]\n"
     ]
    },
    {
     "name": "stdout",
     "output_type": "stream",
     "text": [
      "0.684956291782"
     ]
    },
    {
     "name": "stdout",
     "output_type": "stream",
     "text": [
      " 0.526518914062"
     ]
    },
    {
     "name": "stdout",
     "output_type": "stream",
     "text": [
      " 0.676725155037"
     ]
    },
    {
     "name": "stdout",
     "output_type": "stream",
     "text": [
      " 0.628567754158"
     ]
    },
    {
     "name": "stdout",
     "output_type": "stream",
     "text": [
      " 0.725948450703"
     ]
    },
    {
     "name": "stdout",
     "output_type": "stream",
     "text": [
      " 0.627728520234"
     ]
    },
    {
     "name": "stdout",
     "output_type": "stream",
     "text": [
      " 0.675435522292"
     ]
    },
    {
     "name": "stdout",
     "output_type": "stream",
     "text": [
      " 0.694131920813"
     ]
    },
    {
     "name": "stdout",
     "output_type": "stream",
     "text": [
      " 0.667344940905"
     ]
    },
    {
     "name": "stdout",
     "output_type": "stream",
     "text": [
      " 0.6541475445"
     ]
    },
    {
     "name": "stdout",
     "output_type": "stream",
     "text": [
      " \n\t\t[0.05555555555555555, 0.05283258628395537, 0.05881617698622054, 0.06957609240633265, 0.07578750061538785, 0.0826393381770056, 0.08936495516150839, 0.10356803426126356, 0.1087127368246698, 0.11665739135292351]\n"
     ]
    },
    {
     "name": "stdout",
     "output_type": "stream",
     "text": [
      "0.67458832227"
     ]
    },
    {
     "name": "stdout",
     "output_type": "stream",
     "text": [
      " 0.785446864982"
     ]
    },
    {
     "name": "stdout",
     "output_type": "stream",
     "text": [
      " 0.774982611794"
     ]
    },
    {
     "name": "stdout",
     "output_type": "stream",
     "text": [
      " 0.628292320249"
     ]
    },
    {
     "name": "stdout",
     "output_type": "stream",
     "text": [
      " 0.659787784206"
     ]
    },
    {
     "name": "stdout",
     "output_type": "stream",
     "text": [
      " 0.651563870991"
     ]
    },
    {
     "name": "stdout",
     "output_type": "stream",
     "text": [
      " 0.711690422234"
     ]
    },
    {
     "name": "stdout",
     "output_type": "stream",
     "text": [
      " 0.676013305085"
     ]
    },
    {
     "name": "stdout",
     "output_type": "stream",
     "text": [
      " 0.624554752254"
     ]
    },
    {
     "name": "stdout",
     "output_type": "stream",
     "text": [
      " 0.697107019012"
     ]
    },
    {
     "name": "stdout",
     "output_type": "stream",
     "text": [
      " \n\t\t[0.09259259259259259, 0.08102473992278467, 0.08316948526651939, 0.08959102939055638, 0.09532349019835552, 0.10388919367453281, 0.10474232437040933, 0.11679906454406702, 0.1191610089184605, 0.1257434722095155]\n"
     ]
    },
    {
     "name": "stdout",
     "output_type": "stream",
     "text": [
      "0.700480130056"
     ]
    },
    {
     "name": "stdout",
     "output_type": "stream",
     "text": [
      " 0.589265433525"
     ]
    },
    {
     "name": "stdout",
     "output_type": "stream",
     "text": [
      " 0.634100874284"
     ]
    },
    {
     "name": "stdout",
     "output_type": "stream",
     "text": [
      " 0.644702477776"
     ]
    },
    {
     "name": "stdout",
     "output_type": "stream",
     "text": [
      " 0.732153095084"
     ]
    },
    {
     "name": "stdout",
     "output_type": "stream",
     "text": [
      " 0.642001118119"
     ]
    },
    {
     "name": "stdout",
     "output_type": "stream",
     "text": [
      " 0.678963130135"
     ]
    },
    {
     "name": "stdout",
     "output_type": "stream",
     "text": [
      " 0.67339021695"
     ]
    },
    {
     "name": "stdout",
     "output_type": "stream",
     "text": [
      " 0.676517966822"
     ]
    },
    {
     "name": "stdout",
     "output_type": "stream",
     "text": [
      " 0.692874217653"
     ]
    },
    {
     "name": "stdout",
     "output_type": "stream",
     "text": [
      " \n\t\t[0.037037037037037035, 0.05311998092599721, 0.05911279020733094, 0.06264979683960764, 0.0692527966403595, 0.08531914145699106, 0.0884574975384277, 0.0910814119832417, 0.10591090948639902, 0.11449382919705119]\n"
     ]
    },
    {
     "name": "stdout",
     "output_type": "stream",
     "text": [
      "0.721952945121"
     ]
    },
    {
     "name": "stdout",
     "output_type": "stream",
     "text": [
      " 0.631938818711"
     ]
    },
    {
     "name": "stdout",
     "output_type": "stream",
     "text": [
      " 0.937857014471"
     ]
    },
    {
     "name": "stdout",
     "output_type": "stream",
     "text": [
      " 0.7780354163"
     ]
    },
    {
     "name": "stdout",
     "output_type": "stream",
     "text": [
      " 0.737339689455"
     ]
    },
    {
     "name": "stdout",
     "output_type": "stream",
     "text": [
      " 0.703285965228"
     ]
    },
    {
     "name": "stdout",
     "output_type": "stream",
     "text": [
      " 0.653457611303"
     ]
    },
    {
     "name": "stdout",
     "output_type": "stream",
     "text": [
      " 0.633155405943"
     ]
    },
    {
     "name": "stdout",
     "output_type": "stream",
     "text": [
      " 0.766431649439"
     ]
    },
    {
     "name": "stdout",
     "output_type": "stream",
     "text": [
      " 0.676078204924"
     ]
    },
    {
     "name": "stdout",
     "output_type": "stream",
     "text": [
      " \n\t\t[0.06790123456790123, 0.06152293306215456, 0.0662060563282595, 0.07502356572209132, 0.08109076352902561, 0.09004378099171133, 0.10783987369346101, 0.11205160690579001, 0.11577584731102171, 0.1231109225938647]\n"
     ]
    },
    {
     "name": "stdout",
     "output_type": "stream",
     "text": [
      "0.715201052669"
     ]
    },
    {
     "name": "stdout",
     "output_type": "stream",
     "text": [
      " 0.604805963144"
     ]
    },
    {
     "name": "stdout",
     "output_type": "stream",
     "text": [
      " 0.673137715113"
     ]
    },
    {
     "name": "stdout",
     "output_type": "stream",
     "text": [
      " 0.801068942177"
     ]
    },
    {
     "name": "stdout",
     "output_type": "stream",
     "text": [
      " 0.607212341793"
     ]
    },
    {
     "name": "stdout",
     "output_type": "stream",
     "text": [
      " 0.755361972559"
     ]
    },
    {
     "name": "stdout",
     "output_type": "stream",
     "text": [
      " 0.714048243796"
     ]
    },
    {
     "name": "stdout",
     "output_type": "stream",
     "text": [
      " 0.686414369058"
     ]
    },
    {
     "name": "stdout",
     "output_type": "stream",
     "text": [
      " 0.603707913769"
     ]
    },
    {
     "name": "stdout",
     "output_type": "stream",
     "text": [
      " 0.611586021551"
     ]
    },
    {
     "name": "stdout",
     "output_type": "stream",
     "text": [
      " \n\t\t[0.10493827160493828, 0.08423208834976413, 0.0800538881021892, 0.08723302728609902, 0.09472970089273781, 0.10290323463636036, 0.10368183324093988, 0.12330547488227352, 0.12595674820192018, 0.13633931775360686]\n"
     ]
    },
    {
     "name": "stdout",
     "output_type": "stream",
     "text": [
      "0.765833313455"
     ]
    },
    {
     "name": "stdout",
     "output_type": "stream",
     "text": [
      " 0.726143723239"
     ]
    },
    {
     "name": "stdout",
     "output_type": "stream",
     "text": [
      " 0.657477139363"
     ]
    },
    {
     "name": "stdout",
     "output_type": "stream",
     "text": [
      " 0.619241167191"
     ]
    },
    {
     "name": "stdout",
     "output_type": "stream",
     "text": [
      " 0.601648838993"
     ]
    },
    {
     "name": "stdout",
     "output_type": "stream",
     "text": [
      " 0.679294350285"
     ]
    },
    {
     "name": "stdout",
     "output_type": "stream",
     "text": [
      " 0.642220392866"
     ]
    },
    {
     "name": "stdout",
     "output_type": "stream",
     "text": [
      " 0.702566284995"
     ]
    },
    {
     "name": "stdout",
     "output_type": "stream",
     "text": [
      " 0.627798314628"
     ]
    },
    {
     "name": "stdout",
     "output_type": "stream",
     "text": [
      " 0.639238363946"
     ]
    },
    {
     "name": "stdout",
     "output_type": "stream",
     "text": [
      " \n\t\t[0.037037037037037035, 0.05311998092599721, 0.05911279020733094, 0.06264979683960764, 0.0692527966403595, 0.08650838893291429, 0.08891225334832409, 0.10566648998207542, 0.10794203333753588, 0.11592715652264757]\n"
     ]
    },
    {
     "name": "stdout",
     "output_type": "stream",
     "text": [
      "0.794475295491"
     ]
    },
    {
     "name": "stdout",
     "output_type": "stream",
     "text": [
      " 0.657953073741"
     ]
    },
    {
     "name": "stdout",
     "output_type": "stream",
     "text": [
      " 0.656922428674"
     ]
    },
    {
     "name": "stdout",
     "output_type": "stream",
     "text": [
      " 0.594770766836"
     ]
    },
    {
     "name": "stdout",
     "output_type": "stream",
     "text": [
      " 0.659613518548"
     ]
    },
    {
     "name": "stdout",
     "output_type": "stream",
     "text": [
      " 0.702765302835"
     ]
    },
    {
     "name": "stdout",
     "output_type": "stream",
     "text": [
      " 0.75525174327"
     ]
    },
    {
     "name": "stdout",
     "output_type": "stream",
     "text": [
      " 0.656184834068"
     ]
    },
    {
     "name": "stdout",
     "output_type": "stream",
     "text": [
      " 0.532202284893"
     ]
    },
    {
     "name": "stdout",
     "output_type": "stream",
     "text": [
      " 0.687256888974"
     ]
    },
    {
     "name": "stdout",
     "output_type": "stream",
     "text": [
      " \n\t\t[0.07407407407407407, 0.07751007873710078, 0.06719888406784996, 0.07431247344709019, 0.08153447729801927, 0.0867748583576894, 0.0969707422815919, 0.10105952205645288, 0.11627271124168644, 0.12223372191439011]\n"
     ]
    },
    {
     "name": "stdout",
     "output_type": "stream",
     "text": [
      "0.717937008984"
     ]
    },
    {
     "name": "stdout",
     "output_type": "stream",
     "text": [
      " 0.663302417999"
     ]
    },
    {
     "name": "stdout",
     "output_type": "stream",
     "text": [
      " 0.727298114112"
     ]
    },
    {
     "name": "stdout",
     "output_type": "stream",
     "text": [
      " 0.577906478313"
     ]
    },
    {
     "name": "stdout",
     "output_type": "stream",
     "text": [
      " 0.608165065275"
     ]
    },
    {
     "name": "stdout",
     "output_type": "stream",
     "text": [
      " 0.579382553762"
     ]
    },
    {
     "name": "stdout",
     "output_type": "stream",
     "text": [
      " 0.717756782131"
     ]
    },
    {
     "name": "stdout",
     "output_type": "stream",
     "text": [
      " 0.566423044907"
     ]
    },
    {
     "name": "stdout",
     "output_type": "stream",
     "text": [
      " 0.66188517586"
     ]
    },
    {
     "name": "stdout",
     "output_type": "stream",
     "text": [
      " 0.595106131507"
     ]
    },
    {
     "name": "stdout",
     "output_type": "stream",
     "text": [
      " \n\t\t[0.037037037037037035, 0.060283921800710946, 0.058013547046115735, 0.06349325931038387, 0.0692489834841193, 0.07979608340694343, 0.08729624557896784, 0.1016199166588665, 0.10598581192522734, 0.11258825479675362]\n"
     ]
    },
    {
     "name": "stdout",
     "output_type": "stream",
     "text": [
      "0.639356577871"
     ]
    },
    {
     "name": "stdout",
     "output_type": "stream",
     "text": [
      " 0.628246728344"
     ]
    },
    {
     "name": "stdout",
     "output_type": "stream",
     "text": [
      " 0.662732805775"
     ]
    },
    {
     "name": "stdout",
     "output_type": "stream",
     "text": [
      " 0.725611664596"
     ]
    },
    {
     "name": "stdout",
     "output_type": "stream",
     "text": [
      " 0.726174802127"
     ]
    },
    {
     "name": "stdout",
     "output_type": "stream",
     "text": [
      " 0.678508782838"
     ]
    },
    {
     "name": "stdout",
     "output_type": "stream",
     "text": [
      " 0.629727803257"
     ]
    },
    {
     "name": "stdout",
     "output_type": "stream",
     "text": [
      " 0.7579768729"
     ]
    },
    {
     "name": "stdout",
     "output_type": "stream",
     "text": [
      " 0.672049369562"
     ]
    },
    {
     "name": "stdout",
     "output_type": "stream",
     "text": [
      " 0.639523601273"
     ]
    },
    {
     "name": "stdout",
     "output_type": "stream",
     "text": [
      " \n\t\t[0.0, 0.03757476651310138, 0.048781659196829266, 0.05284494543200921, 0.06049566083625721, 0.07457368391399949, 0.07828560812131465, 0.09441728748136982, 0.0957859086804393, 0.10244188754280055]\n"
     ]
    },
    {
     "name": "stdout",
     "output_type": "stream",
     "text": [
      "0.621278811895"
     ]
    },
    {
     "name": "stdout",
     "output_type": "stream",
     "text": [
      " 0.611330922189"
     ]
    },
    {
     "name": "stdout",
     "output_type": "stream",
     "text": [
      " 0.829788117674"
     ]
    },
    {
     "name": "stdout",
     "output_type": "stream",
     "text": [
      " 0.674777891148"
     ]
    },
    {
     "name": "stdout",
     "output_type": "stream",
     "text": [
      " 0.649547374981"
     ]
    },
    {
     "name": "stdout",
     "output_type": "stream",
     "text": [
      " 0.643754454124"
     ]
    },
    {
     "name": "stdout",
     "output_type": "stream",
     "text": [
      " 0.667126283408"
     ]
    },
    {
     "name": "stdout",
     "output_type": "stream",
     "text": [
      " 0.774589028473"
     ]
    },
    {
     "name": "stdout",
     "output_type": "stream",
     "text": [
      " 0.748109265072"
     ]
    },
    {
     "name": "stdout",
     "output_type": "stream",
     "text": [
      " 0.726540939044"
     ]
    },
    {
     "name": "stdout",
     "output_type": "stream",
     "text": [
      " \n\t\t[0.04938271604938271, 0.06349127022769041, 0.06074093163595925, 0.06755048519884115, 0.07319880284794485, 0.08779012059465573, 0.09186637658979005, 0.10616632391113369, 0.10923959240991944, 0.11575699993199219]\n"
     ]
    },
    {
     "name": "stdout",
     "output_type": "stream",
     "text": [
      "0.67911277319"
     ]
    },
    {
     "name": "stdout",
     "output_type": "stream",
     "text": [
      " 0.685877658692"
     ]
    },
    {
     "name": "stdout",
     "output_type": "stream",
     "text": [
      " 0.845223775546"
     ]
    },
    {
     "name": "stdout",
     "output_type": "stream",
     "text": [
      " 0.651541092651"
     ]
    },
    {
     "name": "stdout",
     "output_type": "stream",
     "text": [
      " 0.687968482733"
     ]
    },
    {
     "name": "stdout",
     "output_type": "stream",
     "text": [
      " 0.597781671542"
     ]
    },
    {
     "name": "stdout",
     "output_type": "stream",
     "text": [
      " 0.689653668555"
     ]
    },
    {
     "name": "stdout",
     "output_type": "stream",
     "text": [
      " 0.672149238"
     ]
    },
    {
     "name": "stdout",
     "output_type": "stream",
     "text": [
      " 0.616920133375"
     ]
    },
    {
     "name": "stdout",
     "output_type": "stream",
     "text": [
      " 0.67586081652"
     ]
    },
    {
     "name": "stdout",
     "output_type": "stream",
     "text": [
      " \n\t\t[0.018518518518518517, 0.04892934415690617, 0.05570557508379412, 0.05941614914256053, 0.066091476154296, 0.07670229329268968, 0.08388496509418256, 0.10067176715195496, 0.10364094441165037, 0.10964940890126496]\n"
     ]
    },
    {
     "name": "stdout",
     "output_type": "stream",
     "text": [
      "0.70928892142"
     ]
    },
    {
     "name": "stdout",
     "output_type": "stream",
     "text": [
      " 0.648758743976"
     ]
    },
    {
     "name": "stdout",
     "output_type": "stream",
     "text": [
      " 0.683933211907"
     ]
    },
    {
     "name": "stdout",
     "output_type": "stream",
     "text": [
      " 0.75855572671"
     ]
    },
    {
     "name": "stdout",
     "output_type": "stream",
     "text": [
      " 0.585884319023"
     ]
    },
    {
     "name": "stdout",
     "output_type": "stream",
     "text": [
      " 0.638080515617"
     ]
    },
    {
     "name": "stdout",
     "output_type": "stream",
     "text": [
      " 0.756238452724"
     ]
    },
    {
     "name": "stdout",
     "output_type": "stream",
     "text": [
      " 0.735758160514"
     ]
    },
    {
     "name": "stdout",
     "output_type": "stream",
     "text": [
      " 0.678262994453"
     ]
    },
    {
     "name": "stdout",
     "output_type": "stream",
     "text": [
      " 0.669330833516"
     ]
    },
    {
     "name": "stdout",
     "output_type": "stream",
     "text": [
      " \n\t\t[0.037037037037037035, 0.060283921800710946, 0.058013547046115735, 0.06349325931038387, 0.07055628705891644, 0.08592681604930162, 0.08931299359206138, 0.09370188684547565, 0.11068574878443124, 0.11629870725608994]\n"
     ]
    },
    {
     "name": "stdout",
     "output_type": "stream",
     "text": [
      "0.75294048667"
     ]
    },
    {
     "name": "stdout",
     "output_type": "stream",
     "text": [
      " 0.653015367858"
     ]
    },
    {
     "name": "stdout",
     "output_type": "stream",
     "text": [
      " 0.7212121237"
     ]
    },
    {
     "name": "stdout",
     "output_type": "stream",
     "text": [
      " 0.651676801662"
     ]
    },
    {
     "name": "stdout",
     "output_type": "stream",
     "text": [
      " 0.684981879793"
     ]
    },
    {
     "name": "stdout",
     "output_type": "stream",
     "text": [
      " 0.636578753799"
     ]
    },
    {
     "name": "stdout",
     "output_type": "stream",
     "text": [
      " 0.700310406217"
     ]
    },
    {
     "name": "stdout",
     "output_type": "stream",
     "text": [
      " 0.707306285935"
     ]
    },
    {
     "name": "stdout",
     "output_type": "stream",
     "text": [
      " 0.649840266489"
     ]
    },
    {
     "name": "stdout",
     "output_type": "stream",
     "text": [
      " 0.6223579063"
     ]
    },
    {
     "name": "stdout",
     "output_type": "stream",
     "text": [
      " \n\t\t[0.037037037037037035, 0.054124947866084044, 0.06598615926746805, 0.06845358452656723, 0.07084773435751826, 0.08161687078577987, 0.08835540508068838, 0.10509887010211569, 0.10738077344369777, 0.11404912302807199]\n"
     ]
    },
    {
     "name": "stdout",
     "output_type": "stream",
     "text": [
      "0.730555007797"
     ]
    },
    {
     "name": "stdout",
     "output_type": "stream",
     "text": [
      " 0.631522125465"
     ]
    },
    {
     "name": "stdout",
     "output_type": "stream",
     "text": [
      " 0.576312671439"
     ]
    },
    {
     "name": "stdout",
     "output_type": "stream",
     "text": [
      " 0.687587019349"
     ]
    },
    {
     "name": "stdout",
     "output_type": "stream",
     "text": [
      " 0.673099783562"
     ]
    },
    {
     "name": "stdout",
     "output_type": "stream",
     "text": [
      " 0.671334637217"
     ]
    },
    {
     "name": "stdout",
     "output_type": "stream",
     "text": [
      " 0.70499531617"
     ]
    },
    {
     "name": "stdout",
     "output_type": "stream",
     "text": [
      " 0.630989658815"
     ]
    },
    {
     "name": "stdout",
     "output_type": "stream",
     "text": [
      " 0.808640171993"
     ]
    },
    {
     "name": "stdout",
     "output_type": "stream",
     "text": [
      " 0.802520579768"
     ]
    },
    {
     "name": "stdout",
     "output_type": "stream",
     "text": [
      " \n\t\t[0.012345679012345678, 0.04078211494008085, 0.047814104115653296, 0.05492592208141631, 0.06382885157915145, 0.06884321699800348, 0.07391559476440104, 0.08403372358480164, 0.0959472215193636, 0.10317856247189096]\n"
     ]
    },
    {
     "name": "stdout",
     "output_type": "stream",
     "text": [
      "0.76063731932"
     ]
    },
    {
     "name": "stdout",
     "output_type": "stream",
     "text": [
      " 0.713418893301"
     ]
    },
    {
     "name": "stdout",
     "output_type": "stream",
     "text": [
      " 0.650095166303"
     ]
    },
    {
     "name": "stdout",
     "output_type": "stream",
     "text": [
      " 0.674174153442"
     ]
    },
    {
     "name": "stdout",
     "output_type": "stream",
     "text": [
      " 0.628294659964"
     ]
    },
    {
     "name": "stdout",
     "output_type": "stream",
     "text": [
      " 0.656239317422"
     ]
    },
    {
     "name": "stdout",
     "output_type": "stream",
     "text": [
      " 0.656838217753"
     ]
    },
    {
     "name": "stdout",
     "output_type": "stream",
     "text": [
      " 0.63183854161"
     ]
    },
    {
     "name": "stdout",
     "output_type": "stream",
     "text": [
      " 0.652673026731"
     ]
    },
    {
     "name": "stdout",
     "output_type": "stream",
     "text": [
      " 0.637916366095"
     ]
    },
    {
     "name": "stdout",
     "output_type": "stream",
     "text": [
      " \n\t\t[0.037037037037037035, 0.054800923449491216, 0.05335105229392028, 0.06210301188308249, 0.06789553993430707, 0.07540649043572237, 0.07976829790943121, 0.1012093664241669, 0.10489289558948768, 0.11283661616578668]\n"
     ]
    },
    {
     "name": "stdout",
     "output_type": "stream",
     "text": [
      "0.661387539316"
     ]
    },
    {
     "name": "stdout",
     "output_type": "stream",
     "text": [
      " 0.602256719617"
     ]
    },
    {
     "name": "stdout",
     "output_type": "stream",
     "text": [
      " 0.580931736804"
     ]
    },
    {
     "name": "stdout",
     "output_type": "stream",
     "text": [
      " 0.620657965979"
     ]
    },
    {
     "name": "stdout",
     "output_type": "stream",
     "text": [
      " 0.577410656822"
     ]
    },
    {
     "name": "stdout",
     "output_type": "stream",
     "text": [
      " 0.666869876865"
     ]
    },
    {
     "name": "stdout",
     "output_type": "stream",
     "text": [
      " 0.600979763224"
     ]
    },
    {
     "name": "stdout",
     "output_type": "stream",
     "text": [
      " 0.639330844055"
     ]
    },
    {
     "name": "stdout",
     "output_type": "stream",
     "text": [
      " 0.67274641858"
     ]
    },
    {
     "name": "stdout",
     "output_type": "stream",
     "text": [
      " 0.764244235145"
     ]
    },
    {
     "name": "stdout",
     "output_type": "stream",
     "text": [
      " \n\t\t[0.05555555555555555, 0.06547952550988884, 0.06237942857720079, 0.07180980230441028, 0.07713713100895984, 0.08739705569270578, 0.09320408452615833, 0.09578711369310655, 0.11061504379629292, 0.11919721325405705]\n"
     ]
    },
    {
     "name": "stdout",
     "output_type": "stream",
     "text": [
      "0.687881331348"
     ]
    },
    {
     "name": "stdout",
     "output_type": "stream",
     "text": [
      " 0.534806442856"
     ]
    },
    {
     "name": "stdout",
     "output_type": "stream",
     "text": [
      " 0.673178025737"
     ]
    },
    {
     "name": "stdout",
     "output_type": "stream",
     "text": [
      " 0.677045509823"
     ]
    },
    {
     "name": "stdout",
     "output_type": "stream",
     "text": [
      " 0.720231079141"
     ]
    },
    {
     "name": "stdout",
     "output_type": "stream",
     "text": [
      " 0.731157618564"
     ]
    },
    {
     "name": "stdout",
     "output_type": "stream",
     "text": [
      " 0.62451865638"
     ]
    },
    {
     "name": "stdout",
     "output_type": "stream",
     "text": [
      " 0.707988190046"
     ]
    },
    {
     "name": "stdout",
     "output_type": "stream",
     "text": [
      " 0.751451340895"
     ]
    },
    {
     "name": "stdout",
     "output_type": "stream",
     "text": [
      " 0.580773259301"
     ]
    },
    {
     "name": "stdout",
     "output_type": "stream",
     "text": [
      " \n\t\t[0.05555555555555555, 0.06547952550988884, 0.06829413122978965, 0.0725306946943906, 0.07400524168734154, 0.09104553403485935, 0.09370164795781015, 0.1098541708601179, 0.11281588016636011, 0.12080049680485064]\n"
     ]
    },
    {
     "name": "stdout",
     "output_type": "stream",
     "text": [
      "0.684853775999"
     ]
    },
    {
     "name": "stdout",
     "output_type": "stream",
     "text": [
      " 0.610641364208"
     ]
    },
    {
     "name": "stdout",
     "output_type": "stream",
     "text": [
      " 0.676398964027"
     ]
    },
    {
     "name": "stdout",
     "output_type": "stream",
     "text": [
      " 0.706434211501"
     ]
    },
    {
     "name": "stdout",
     "output_type": "stream",
     "text": [
      " 0.608242133191"
     ]
    },
    {
     "name": "stdout",
     "output_type": "stream",
     "text": [
      " 0.607097009254"
     ]
    },
    {
     "name": "stdout",
     "output_type": "stream",
     "text": [
      " 0.650898385947"
     ]
    },
    {
     "name": "stdout",
     "output_type": "stream",
     "text": [
      " 0.701532834491"
     ]
    },
    {
     "name": "stdout",
     "output_type": "stream",
     "text": [
      " 0.701174154253"
     ]
    },
    {
     "name": "stdout",
     "output_type": "stream",
     "text": [
      " 0.538534256626"
     ]
    },
    {
     "name": "stdout",
     "output_type": "stream",
     "text": [
      " \n\t\t[0.05555555555555555, 0.06547952550988884, 0.06237942857720079, 0.07180980230441028, 0.07713713100895984, 0.08739705569270578, 0.09320408452615833, 0.11008230351636356, 0.11235678856076531, 0.12034140519925582]\n"
     ]
    },
    {
     "name": "stdout",
     "output_type": "stream",
     "text": [
      "0.597698465824"
     ]
    },
    {
     "name": "stdout",
     "output_type": "stream",
     "text": [
      " 0.736884040939"
     ]
    },
    {
     "name": "stdout",
     "output_type": "stream",
     "text": [
      " 0.666575977434"
     ]
    },
    {
     "name": "stdout",
     "output_type": "stream",
     "text": [
      " 0.797898239849"
     ]
    },
    {
     "name": "stdout",
     "output_type": "stream",
     "text": [
      " 0.831497483581"
     ]
    },
    {
     "name": "stdout",
     "output_type": "stream",
     "text": [
      " 0.645633007455"
     ]
    },
    {
     "name": "stdout",
     "output_type": "stream",
     "text": [
      " 0.620911097692"
     ]
    },
    {
     "name": "stdout",
     "output_type": "stream",
     "text": [
      " 0.625698520302"
     ]
    },
    {
     "name": "stdout",
     "output_type": "stream",
     "text": [
      " 0.685592494419"
     ]
    },
    {
     "name": "stdout",
     "output_type": "stream",
     "text": [
      " 0.789281012653"
     ]
    },
    {
     "name": "stdout",
     "output_type": "stream",
     "text": [
      " \n\t\t[0.05555555555555555, 0.0583155846351751, 0.063478671738416, 0.07096633983363404, 0.07714094416520006, 0.0874007919010017, 0.10644158126199554, 0.11000808991710338, 0.11372095113406176, 0.1186185151088714]\n"
     ]
    },
    {
     "name": "stdout",
     "output_type": "stream",
     "text": [
      "0.609938583768"
     ]
    },
    {
     "name": "stdout",
     "output_type": "stream",
     "text": [
      " 0.710091435946"
     ]
    },
    {
     "name": "stdout",
     "output_type": "stream",
     "text": [
      " 0.611602461128"
     ]
    },
    {
     "name": "stdout",
     "output_type": "stream",
     "text": [
      " 0.694731719925"
     ]
    },
    {
     "name": "stdout",
     "output_type": "stream",
     "text": [
      " 0.603795799051"
     ]
    },
    {
     "name": "stdout",
     "output_type": "stream",
     "text": [
      " 0.613998043224"
     ]
    },
    {
     "name": "stdout",
     "output_type": "stream",
     "text": [
      " 0.749918609071"
     ]
    },
    {
     "name": "stdout",
     "output_type": "stream",
     "text": [
      " 0.595229083889"
     ]
    },
    {
     "name": "stdout",
     "output_type": "stream",
     "text": [
      " 0.718872031075"
     ]
    },
    {
     "name": "stdout",
     "output_type": "stream",
     "text": [
      " 0.701441161547"
     ]
    },
    {
     "name": "stdout",
     "output_type": "stream",
     "text": [
      " \n\t\t[0.06790123456790123, 0.0686868739368683, 0.06510681316704431, 0.07586702819286756, 0.0810869503727854, 0.09004004478341542, 0.10748974409419484, 0.11039746217749534, 0.11174117371793406, 0.12166563884825843]\n"
     ]
    },
    {
     "name": "stdout",
     "output_type": "stream",
     "text": [
      "0.756166973093"
     ]
    },
    {
     "name": "stdout",
     "output_type": "stream",
     "text": [
      " 0.736888507112"
     ]
    },
    {
     "name": "stdout",
     "output_type": "stream",
     "text": [
      " 0.602155525114"
     ]
    },
    {
     "name": "stdout",
     "output_type": "stream",
     "text": [
      " 0.680943793783"
     ]
    },
    {
     "name": "stdout",
     "output_type": "stream",
     "text": [
      " 0.846757304088"
     ]
    },
    {
     "name": "stdout",
     "output_type": "stream",
     "text": [
      " 0.661653148307"
     ]
    },
    {
     "name": "stdout",
     "output_type": "stream",
     "text": [
      " 0.631262350485"
     ]
    },
    {
     "name": "stdout",
     "output_type": "stream",
     "text": [
      " 0.691513809297"
     ]
    },
    {
     "name": "stdout",
     "output_type": "stream",
     "text": [
      " 0.656610149045"
     ]
    },
    {
     "name": "stdout",
     "output_type": "stream",
     "text": [
      " 0.634368288859"
     ]
    },
    {
     "name": "stdout",
     "output_type": "stream",
     "text": [
      " \n\t\t[0.05555555555555555, 0.0599965271586691, 0.05771693382500533, 0.07041955487710891, 0.07578368745914764, 0.08605990913356341, 0.09187194145605594, 0.1046118384896917, 0.10975248249350437, 0.11833596927974889]\n"
     ]
    },
    {
     "name": "stdout",
     "output_type": "stream",
     "text": [
      "0.538372453468"
     ]
    },
    {
     "name": "stdout",
     "output_type": "stream",
     "text": [
      " 0.615568836836"
     ]
    },
    {
     "name": "stdout",
     "output_type": "stream",
     "text": [
      " 0.666275252632"
     ]
    },
    {
     "name": "stdout",
     "output_type": "stream",
     "text": [
      " 0.66526272576"
     ]
    },
    {
     "name": "stdout",
     "output_type": "stream",
     "text": [
      " 0.702114432189"
     ]
    },
    {
     "name": "stdout",
     "output_type": "stream",
     "text": [
      " 0.747362984325"
     ]
    },
    {
     "name": "stdout",
     "output_type": "stream",
     "text": [
      " 0.725379137767"
     ]
    },
    {
     "name": "stdout",
     "output_type": "stream",
     "text": [
      " 0.704609279037"
     ]
    },
    {
     "name": "stdout",
     "output_type": "stream",
     "text": [
      " 0.645259395124"
     ]
    },
    {
     "name": "stdout",
     "output_type": "stream",
     "text": [
      " 0.667855896805"
     ]
    },
    {
     "name": "stdout",
     "output_type": "stream",
     "text": [
      " \n\t\t[0.05555555555555555, 0.05283258628395537, 0.05881617698622054, 0.06957609240633265, 0.07578750061538785, 0.08606364534185934, 0.10387489339199206, 0.10890988632564756, 0.11118766880093217, 0.11917386436915758]\n"
     ]
    },
    {
     "name": "stdout",
     "output_type": "stream",
     "text": [
      "0.631387002593"
     ]
    },
    {
     "name": "stdout",
     "output_type": "stream",
     "text": [
      " 0.643817203123"
     ]
    },
    {
     "name": "stdout",
     "output_type": "stream",
     "text": [
      " 0.741483310869"
     ]
    },
    {
     "name": "stdout",
     "output_type": "stream",
     "text": [
      " 0.523327995481"
     ]
    },
    {
     "name": "stdout",
     "output_type": "stream",
     "text": [
      " 0.632517053089"
     ]
    },
    {
     "name": "stdout",
     "output_type": "stream",
     "text": [
      " 0.667904615817"
     ]
    },
    {
     "name": "stdout",
     "output_type": "stream",
     "text": [
      " 0.671066845655"
     ]
    },
    {
     "name": "stdout",
     "output_type": "stream",
     "text": [
      " 0.699518289655"
     ]
    },
    {
     "name": "stdout",
     "output_type": "stream",
     "text": [
      " 0.666090290616"
     ]
    },
    {
     "name": "stdout",
     "output_type": "stream",
     "text": [
      " 0.647358212459"
     ]
    },
    {
     "name": "stdout",
     "output_type": "stream",
     "text": [
      " \n\t\t[0.08641975308641976, 0.07731848230907289, 0.07065810141826495, 0.08167493180373685, 0.0930249461789243, 0.09677746023888568, 0.10454852338473418, 0.12346960416247912, 0.1285283891575474, 0.13761408882430903]\n"
     ]
    },
    {
     "name": "stdout",
     "output_type": "stream",
     "text": [
      "0.672283422543"
     ]
    },
    {
     "name": "stdout",
     "output_type": "stream",
     "text": [
      " 0.702639564297"
     ]
    },
    {
     "name": "stdout",
     "output_type": "stream",
     "text": [
      " 0.735842672017"
     ]
    },
    {
     "name": "stdout",
     "output_type": "stream",
     "text": [
      " 0.622227896466"
     ]
    },
    {
     "name": "stdout",
     "output_type": "stream",
     "text": [
      " 0.712960468742"
     ]
    },
    {
     "name": "stdout",
     "output_type": "stream",
     "text": [
      " 0.630202400226"
     ]
    },
    {
     "name": "stdout",
     "output_type": "stream",
     "text": [
      " 0.668723987313"
     ]
    },
    {
     "name": "stdout",
     "output_type": "stream",
     "text": [
      " 0.681893276693"
     ]
    },
    {
     "name": "stdout",
     "output_type": "stream",
     "text": [
      " 0.665293049617"
     ]
    },
    {
     "name": "stdout",
     "output_type": "stream",
     "text": [
      " 0.597923362614"
     ]
    },
    {
     "name": "stdout",
     "output_type": "stream",
     "text": [
      " \n\t\t[0.05555555555555555, 0.0583155846351751, 0.063478671738416, 0.07096633983363404, 0.07714094416520006, 0.0874007919010017, 0.1002499624158508, 0.10390578184884201, 0.10709153270408366, 0.11280338891086793]\n"
     ]
    },
    {
     "name": "stdout",
     "output_type": "stream",
     "text": [
      "0.806190501631"
     ]
    },
    {
     "name": "stdout",
     "output_type": "stream",
     "text": [
      " 0.641204252216"
     ]
    },
    {
     "name": "stdout",
     "output_type": "stream",
     "text": [
      " 0.702726965414"
     ]
    },
    {
     "name": "stdout",
     "output_type": "stream",
     "text": [
      " 0.64504775993"
     ]
    },
    {
     "name": "stdout",
     "output_type": "stream",
     "text": [
      " 0.733923046792"
     ]
    },
    {
     "name": "stdout",
     "output_type": "stream",
     "text": [
      " 0.677570105123"
     ]
    },
    {
     "name": "stdout",
     "output_type": "stream",
     "text": [
      " 0.568526935702"
     ]
    },
    {
     "name": "stdout",
     "output_type": "stream",
     "text": [
      " 0.650159808928"
     ]
    },
    {
     "name": "stdout",
     "output_type": "stream",
     "text": [
      " 0.706894106208"
     ]
    },
    {
     "name": "stdout",
     "output_type": "stream",
     "text": [
      " 0.628584357857"
     ]
    },
    {
     "name": "stdout",
     "output_type": "stream",
     "text": [
      " \n\t\t[0.018518518518518517, 0.03728737187105953, 0.048485045975718885, 0.05977124099873424, 0.06703036481128553, 0.07748322498178203, 0.0957211588903615, 0.10095528848493131, 0.10324976019110484, 0.11124394383943885]\n"
     ]
    },
    {
     "name": "stdout",
     "output_type": "stream",
     "text": [
      "0.682733111386"
     ]
    },
    {
     "name": "stdout",
     "output_type": "stream",
     "text": [
      " 0.742204715808"
     ]
    },
    {
     "name": "stdout",
     "output_type": "stream",
     "text": [
      " 0.674445994375"
     ]
    },
    {
     "name": "stdout",
     "output_type": "stream",
     "text": [
      " 0.641756002606"
     ]
    },
    {
     "name": "stdout",
     "output_type": "stream",
     "text": [
      " 0.673196130685"
     ]
    },
    {
     "name": "stdout",
     "output_type": "stream",
     "text": [
      " 0.711802658098"
     ]
    },
    {
     "name": "stdout",
     "output_type": "stream",
     "text": [
      " 0.677744232877"
     ]
    },
    {
     "name": "stdout",
     "output_type": "stream",
     "text": [
      " 0.745019436625"
     ]
    },
    {
     "name": "stdout",
     "output_type": "stream",
     "text": [
      " 0.706217092212"
     ]
    },
    {
     "name": "stdout",
     "output_type": "stream",
     "text": [
      " 0.777990561294"
     ]
    },
    {
     "name": "stdout",
     "output_type": "stream",
     "text": [
      " \n\t\t[0.10493827160493828, 0.09139602922447787, 0.0811026870241282, 0.09251546851073972, 0.09865286778500956, 0.10432912494863247, 0.1240804368082853, 0.13098788390770696, 0.13466565102005787, 0.14260661197258026]\n"
     ]
    },
    {
     "name": "stdout",
     "output_type": "stream",
     "text": [
      "0.712577938571"
     ]
    },
    {
     "name": "stdout",
     "output_type": "stream",
     "text": [
      " 0.616996905966"
     ]
    },
    {
     "name": "stdout",
     "output_type": "stream",
     "text": [
      " 0.731006921884"
     ]
    },
    {
     "name": "stdout",
     "output_type": "stream",
     "text": [
      " 0.62137331002"
     ]
    },
    {
     "name": "stdout",
     "output_type": "stream",
     "text": [
      " 0.640263363939"
     ]
    },
    {
     "name": "stdout",
     "output_type": "stream",
     "text": [
      " 0.583352660053"
     ]
    },
    {
     "name": "stdout",
     "output_type": "stream",
     "text": [
      " 0.631067253755"
     ]
    },
    {
     "name": "stdout",
     "output_type": "stream",
     "text": [
      " 0.589338290063"
     ]
    },
    {
     "name": "stdout",
     "output_type": "stream",
     "text": [
      " 0.660139009237"
     ]
    },
    {
     "name": "stdout",
     "output_type": "stream",
     "text": [
      " 0.761029412344"
     ]
    },
    {
     "name": "stdout",
     "output_type": "stream",
     "text": [
      " \n\t\t[0.05555555555555555, 0.04943364142894801, 0.06192985061691218, 0.06512621267061304, 0.07160164921309946, 0.08211233197196226, 0.10121875456586064, 0.1038749538016779, 0.1075875832019918, 0.11684310723878759]\n"
     ]
    },
    {
     "name": "stdout",
     "output_type": "stream",
     "text": [
      "0.605289967246"
     ]
    },
    {
     "name": "stdout",
     "output_type": "stream",
     "text": [
      " 0.679806729805"
     ]
    },
    {
     "name": "stdout",
     "output_type": "stream",
     "text": [
      " 0.618816926895"
     ]
    },
    {
     "name": "stdout",
     "output_type": "stream",
     "text": [
      " 0.611385872306"
     ]
    },
    {
     "name": "stdout",
     "output_type": "stream",
     "text": [
      " 0.764393180277"
     ]
    },
    {
     "name": "stdout",
     "output_type": "stream",
     "text": [
      " 0.611968575348"
     ]
    },
    {
     "name": "stdout",
     "output_type": "stream",
     "text": [
      " 0.714611057922"
     ]
    },
    {
     "name": "stdout",
     "output_type": "stream",
     "text": [
      " 0.679423004666"
     ]
    },
    {
     "name": "stdout",
     "output_type": "stream",
     "text": [
      " 0.708120436214"
     ]
    },
    {
     "name": "stdout",
     "output_type": "stream",
     "text": [
      " 0.74647374282"
     ]
    },
    {
     "name": "stdout",
     "output_type": "stream",
     "text": [
      " \n\t\t[0.05555555555555555, 0.06547952550988884, 0.06237942857720079, 0.07180980230441028, 0.07713713100895984, 0.08739705569270578, 0.09251122785048259, 0.10710760765706394, 0.10845586227320954, 0.1183825032217371]\n"
     ]
    },
    {
     "name": "stdout",
     "output_type": "stream",
     "text": [
      "0.876348640514"
     ]
    },
    {
     "name": "stdout",
     "output_type": "stream",
     "text": [
      " 0.644940474972"
     ]
    },
    {
     "name": "stdout",
     "output_type": "stream",
     "text": [
      " 0.747195680801"
     ]
    },
    {
     "name": "stdout",
     "output_type": "stream",
     "text": [
      " 0.66692057692"
     ]
    },
    {
     "name": "stdout",
     "output_type": "stream",
     "text": [
      " 0.678320362762"
     ]
    },
    {
     "name": "stdout",
     "output_type": "stream",
     "text": [
      " 0.713116697918"
     ]
    },
    {
     "name": "stdout",
     "output_type": "stream",
     "text": [
      " 0.654285878071"
     ]
    },
    {
     "name": "stdout",
     "output_type": "stream",
     "text": [
      " 0.64485629454"
     ]
    },
    {
     "name": "stdout",
     "output_type": "stream",
     "text": [
      " 0.609176618404"
     ]
    },
    {
     "name": "stdout",
     "output_type": "stream",
     "text": [
      " 0.82061054483"
     ]
    },
    {
     "name": "stdout",
     "output_type": "stream",
     "text": [
      " \n\t\t[0.05555555555555555, 0.06547952550988884, 0.06237942857720079, 0.07180980230441028, 0.08417109998455731, 0.09443102466830323, 0.11258373251410146, 0.1151667616810497, 0.11884543268557009, 0.12742760214333423]\n"
     ]
    },
    {
     "name": "stdout",
     "output_type": "stream",
     "text": [
      "0.692720711212"
     ]
    },
    {
     "name": "stdout",
     "output_type": "stream",
     "text": [
      " 0.671332442833"
     ]
    },
    {
     "name": "stdout",
     "output_type": "stream",
     "text": [
      " 0.720973500513"
     ]
    },
    {
     "name": "stdout",
     "output_type": "stream",
     "text": [
      " 0.692141387266"
     ]
    },
    {
     "name": "stdout",
     "output_type": "stream",
     "text": [
      " 0.677867779397"
     ]
    },
    {
     "name": "stdout",
     "output_type": "stream",
     "text": [
      " 0.718750086987"
     ]
    },
    {
     "name": "stdout",
     "output_type": "stream",
     "text": [
      " 0.555804882982"
     ]
    },
    {
     "name": "stdout",
     "output_type": "stream",
     "text": [
      " 0.656996335486"
     ]
    },
    {
     "name": "stdout",
     "output_type": "stream",
     "text": [
      " 0.606671419669"
     ]
    },
    {
     "name": "stdout",
     "output_type": "stream",
     "text": [
      " 0.703531415537"
     ]
    },
    {
     "name": "stdout",
     "output_type": "stream",
     "text": [
      " \n\t\t[0.05555555555555555, 0.05283258628395537, 0.05881617698622054, 0.06957609240633265, 0.08282146959098531, 0.08662086074052437, 0.0920864297783114, 0.10880530703736425, 0.11108308951264886, 0.1190692850808743]\n"
     ]
    },
    {
     "name": "stdout",
     "output_type": "stream",
     "text": [
      "0.682706527467"
     ]
    },
    {
     "name": "stdout",
     "output_type": "stream",
     "text": [
      " 0.644239415505"
     ]
    },
    {
     "name": "stdout",
     "output_type": "stream",
     "text": [
      " 0.64896699418"
     ]
    },
    {
     "name": "stdout",
     "output_type": "stream",
     "text": [
      " 0.673434407501"
     ]
    },
    {
     "name": "stdout",
     "output_type": "stream",
     "text": [
      " 0.656394402662"
     ]
    },
    {
     "name": "stdout",
     "output_type": "stream",
     "text": [
      " 0.74202298068"
     ]
    },
    {
     "name": "stdout",
     "output_type": "stream",
     "text": [
      " 0.703011013166"
     ]
    },
    {
     "name": "stdout",
     "output_type": "stream",
     "text": [
      " 0.666871918849"
     ]
    },
    {
     "name": "stdout",
     "output_type": "stream",
     "text": [
      " 0.750320976238"
     ]
    },
    {
     "name": "stdout",
     "output_type": "stream",
     "text": [
      " 0.662472954641"
     ]
    },
    {
     "name": "stdout",
     "output_type": "stream",
     "text": [
      " \n\t\t[0.07407407407407407, 0.06318219698767333, 0.06600846429516764, 0.07782600727494221, 0.08324129418687364, 0.08677505397449829, 0.11027521488450368, 0.11254383339160753, 0.11513517675924285, 0.1257366958986182]\n"
     ]
    },
    {
     "name": "stdout",
     "output_type": "stream",
     "text": [
      "0.623183358758"
     ]
    },
    {
     "name": "stdout",
     "output_type": "stream",
     "text": [
      " 0.662318799248"
     ]
    },
    {
     "name": "stdout",
     "output_type": "stream",
     "text": [
      " 0.755919944623"
     ]
    },
    {
     "name": "stdout",
     "output_type": "stream",
     "text": [
      " 0.76064135069"
     ]
    },
    {
     "name": "stdout",
     "output_type": "stream",
     "text": [
      " 0.664350788474"
     ]
    },
    {
     "name": "stdout",
     "output_type": "stream",
     "text": [
      " 0.656231822903"
     ]
    },
    {
     "name": "stdout",
     "output_type": "stream",
     "text": [
      " 0.721168758516"
     ]
    },
    {
     "name": "stdout",
     "output_type": "stream",
     "text": [
      " 0.620159108596"
     ]
    },
    {
     "name": "stdout",
     "output_type": "stream",
     "text": [
      " 0.657029561389"
     ]
    },
    {
     "name": "stdout",
     "output_type": "stream",
     "text": [
      " 0.61770912289"
     ]
    },
    {
     "name": "stdout",
     "output_type": "stream",
     "text": [
      " \n\t\t[0.09259259259259259, 0.08274274225429802, 0.08250036435254084, 0.08961522466024893, 0.0944580438236081, 0.09875983378037935, 0.12718411108297825, 0.1271763304819068, 0.13306506601246199, 0.1361482583365881]\n"
     ]
    },
    {
     "name": "stdout",
     "output_type": "stream",
     "text": [
      "0.650282111371"
     ]
    },
    {
     "name": "stdout",
     "output_type": "stream",
     "text": [
      " 0.811674425117"
     ]
    },
    {
     "name": "stdout",
     "output_type": "stream",
     "text": [
      " 0.697397121509"
     ]
    },
    {
     "name": "stdout",
     "output_type": "stream",
     "text": [
      " 0.613243959225"
     ]
    },
    {
     "name": "stdout",
     "output_type": "stream",
     "text": [
      " 0.669751509011"
     ]
    },
    {
     "name": "stdout",
     "output_type": "stream",
     "text": [
      " 0.578369500753"
     ]
    },
    {
     "name": "stdout",
     "output_type": "stream",
     "text": [
      " 0.579531065533"
     ]
    },
    {
     "name": "stdout",
     "output_type": "stream",
     "text": [
      " 0.6080869058"
     ]
    },
    {
     "name": "stdout",
     "output_type": "stream",
     "text": [
      " 0.649477568512"
     ]
    },
    {
     "name": "stdout",
     "output_type": "stream",
     "text": [
      " 0.647809873642"
     ]
    },
    {
     "name": "stdout",
     "output_type": "stream",
     "text": [
      " \n\t\t[0.08641975308641976, 0.06299060055964543, 0.06454570414503265, 0.07551766408040622, 0.08997763588225792, 0.09842238413504172, 0.11861878752273033, 0.12097977771049176, 0.12889927182587135, 0.13419460535583821]\n"
     ]
    },
    {
     "name": "stdout",
     "output_type": "stream",
     "text": [
      "0.733898179349"
     ]
    },
    {
     "name": "stdout",
     "output_type": "stream",
     "text": [
      " 0.745025903693"
     ]
    },
    {
     "name": "stdout",
     "output_type": "stream",
     "text": [
      " 0.77531518458"
     ]
    },
    {
     "name": "stdout",
     "output_type": "stream",
     "text": [
      " 0.617380859888"
     ]
    },
    {
     "name": "stdout",
     "output_type": "stream",
     "text": [
      " 0.653420147297"
     ]
    },
    {
     "name": "stdout",
     "output_type": "stream",
     "text": [
      " 0.714131016113"
     ]
    },
    {
     "name": "stdout",
     "output_type": "stream",
     "text": [
      " 0.593079392835"
     ]
    },
    {
     "name": "stdout",
     "output_type": "stream",
     "text": [
      " 0.634354943139"
     ]
    },
    {
     "name": "stdout",
     "output_type": "stream",
     "text": [
      " 0.659665785165"
     ]
    },
    {
     "name": "stdout",
     "output_type": "stream",
     "text": [
      " 0.693988318595"
     ]
    },
    {
     "name": "stdout",
     "output_type": "stream",
     "text": [
      " \n\t\t[0.030864197530864196, 0.03164983689983126, 0.04053064019523908, 0.052970018761362606, 0.06630753646310764, 0.07411326133555113, 0.07980040193580595, 0.09227937506113572, 0.099255321231606, 0.104594813160983]\n"
     ]
    },
    {
     "name": "stdout",
     "output_type": "stream",
     "text": [
      "0.736279454824"
     ]
    },
    {
     "name": "stdout",
     "output_type": "stream",
     "text": [
      " 0.686691956526"
     ]
    },
    {
     "name": "stdout",
     "output_type": "stream",
     "text": [
      " 0.538012328252"
     ]
    },
    {
     "name": "stdout",
     "output_type": "stream",
     "text": [
      " 0.563917025499"
     ]
    },
    {
     "name": "stdout",
     "output_type": "stream",
     "text": [
      " 0.650722944446"
     ]
    },
    {
     "name": "stdout",
     "output_type": "stream",
     "text": [
      " 0.605653999071"
     ]
    },
    {
     "name": "stdout",
     "output_type": "stream",
     "text": [
      " 0.632893004208"
     ]
    },
    {
     "name": "stdout",
     "output_type": "stream",
     "text": [
      " 0.5477445761"
     ]
    },
    {
     "name": "stdout",
     "output_type": "stream",
     "text": [
      " 0.600335025562"
     ]
    },
    {
     "name": "stdout",
     "output_type": "stream",
     "text": [
      " 0.709263088368"
     ]
    },
    {
     "name": "stdout",
     "output_type": "stream",
     "text": [
      " \n\t\t[0.07407407407407407, 0.07411113388209342, 0.06423577715740196, 0.07713643151388769, 0.08287992774075086, 0.09145173073941179, 0.09629173855541623, 0.10961731262127992, 0.11754249897165964, 0.12348556710720565]\n"
     ]
    },
    {
     "name": "stdout",
     "output_type": "stream",
     "text": [
      "0.67181072146"
     ]
    },
    {
     "name": "stdout",
     "output_type": "stream",
     "text": [
      " 0.687770324343"
     ]
    },
    {
     "name": "stdout",
     "output_type": "stream",
     "text": [
      " 0.720789180902"
     ]
    },
    {
     "name": "stdout",
     "output_type": "stream",
     "text": [
      " 0.583387057042"
     ]
    },
    {
     "name": "stdout",
     "output_type": "stream",
     "text": [
      " 0.68292365723"
     ]
    },
    {
     "name": "stdout",
     "output_type": "stream",
     "text": [
      " 0.607274477464"
     ]
    },
    {
     "name": "stdout",
     "output_type": "stream",
     "text": [
      " 0.621459735364"
     ]
    },
    {
     "name": "stdout",
     "output_type": "stream",
     "text": [
      " 0.65978263505"
     ]
    },
    {
     "name": "stdout",
     "output_type": "stream",
     "text": [
      " 0.685917064906"
     ]
    },
    {
     "name": "stdout",
     "output_type": "stream",
     "text": [
      " 0.702849849681"
     ]
    },
    {
     "name": "stdout",
     "output_type": "stream",
     "text": [
      " \n\t\t[0.06790123456790123, 0.06152293306215456, 0.06251111665724002, 0.07005736680772454, 0.0788706414385297, 0.08642284795477455, 0.09287112093751164, 0.10561088240915305, 0.11214463168200436, 0.12178144690923733]\n"
     ]
    },
    {
     "name": "stdout",
     "output_type": "stream",
     "text": [
      "0.699779288589"
     ]
    },
    {
     "name": "stdout",
     "output_type": "stream",
     "text": [
      " 0.663080084656"
     ]
    },
    {
     "name": "stdout",
     "output_type": "stream",
     "text": [
      " 0.709945465517"
     ]
    },
    {
     "name": "stdout",
     "output_type": "stream",
     "text": [
      " 0.649540168786"
     ]
    },
    {
     "name": "stdout",
     "output_type": "stream",
     "text": [
      " 0.626214751107"
     ]
    },
    {
     "name": "stdout",
     "output_type": "stream",
     "text": [
      " 0.683049119125"
     ]
    },
    {
     "name": "stdout",
     "output_type": "stream",
     "text": [
      " 0.645157729029"
     ]
    },
    {
     "name": "stdout",
     "output_type": "stream",
     "text": [
      " 0.791895266719"
     ]
    },
    {
     "name": "stdout",
     "output_type": "stream",
     "text": [
      " 0.635671658443"
     ]
    },
    {
     "name": "stdout",
     "output_type": "stream",
     "text": [
      " 0.699351752591"
     ]
    },
    {
     "name": "stdout",
     "output_type": "stream",
     "text": [
      " \n\t\t[0.04938271604938271, 0.05632732935297668, 0.05814523512615497, 0.06174082381369814, 0.07098249391368913, 0.08702801121939195, 0.08905125723901038, 0.10038827987032363, 0.10621447840086068, 0.11138136465931067]\n"
     ]
    },
    {
     "name": "stdout",
     "output_type": "stream",
     "text": [
      "0.703222057207"
     ]
    },
    {
     "name": "stdout",
     "output_type": "stream",
     "text": [
      " 0.573853912166"
     ]
    },
    {
     "name": "stdout",
     "output_type": "stream",
     "text": [
      " 0.692048503169"
     ]
    },
    {
     "name": "stdout",
     "output_type": "stream",
     "text": [
      " 0.600550664115"
     ]
    },
    {
     "name": "stdout",
     "output_type": "stream",
     "text": [
      " 0.698220344884"
     ]
    },
    {
     "name": "stdout",
     "output_type": "stream",
     "text": [
      " 0.6471459198"
     ]
    },
    {
     "name": "stdout",
     "output_type": "stream",
     "text": [
      " 0.685896884689"
     ]
    },
    {
     "name": "stdout",
     "output_type": "stream",
     "text": [
      " 0.789179121235"
     ]
    },
    {
     "name": "stdout",
     "output_type": "stream",
     "text": [
      " 0.617797192469"
     ]
    },
    {
     "name": "stdout",
     "output_type": "stream",
     "text": [
      " 0.564308090383"
     ]
    },
    {
     "name": "stdout",
     "output_type": "stream",
     "text": [
      " \n\t\t[0.08641975308641976, 0.07287751070595935, 0.06712706058188325, 0.07711713700437704, 0.08605902437543585, 0.09250989781349421, 0.11627427723712992, 0.12039007412652426, 0.1235095544273469, 0.12717971345439988]\n"
     ]
    },
    {
     "name": "stdout",
     "output_type": "stream",
     "text": [
      "0.603312459133"
     ]
    },
    {
     "name": "stdout",
     "output_type": "stream",
     "text": [
      " 0.707756332707"
     ]
    },
    {
     "name": "stdout",
     "output_type": "stream",
     "text": [
      " 0.690950259217"
     ]
    },
    {
     "name": "stdout",
     "output_type": "stream",
     "text": [
      " 0.653154231879"
     ]
    },
    {
     "name": "stdout",
     "output_type": "stream",
     "text": [
      " 0.654561050149"
     ]
    },
    {
     "name": "stdout",
     "output_type": "stream",
     "text": [
      " 0.679012438129"
     ]
    },
    {
     "name": "stdout",
     "output_type": "stream",
     "text": [
      " 0.705425868875"
     ]
    },
    {
     "name": "stdout",
     "output_type": "stream",
     "text": [
      " 0.584956823046"
     ]
    },
    {
     "name": "stdout",
     "output_type": "stream",
     "text": [
      " 0.689579015717"
     ]
    },
    {
     "name": "stdout",
     "output_type": "stream",
     "text": [
      " 0.734262286962"
     ]
    },
    {
     "name": "stdout",
     "output_type": "stream",
     "text": [
      " \n\t\t[0.08641975308641976, 0.08004145158067308, 0.06602781742066804, 0.07497064979983667, 0.09148568672522848, 0.09252828458245572, 0.0967871968795217, 0.12107550500270908, 0.12491368465695786, 0.12918222903057722]\n"
     ]
    },
    {
     "name": "stdout",
     "output_type": "stream",
     "text": [
      "0.715742725094"
     ]
    },
    {
     "name": "stdout",
     "output_type": "stream",
     "text": [
      " 0.782057351972"
     ]
    },
    {
     "name": "stdout",
     "output_type": "stream",
     "text": [
      " 0.663802372643"
     ]
    },
    {
     "name": "stdout",
     "output_type": "stream",
     "text": [
      " 0.659630180395"
     ]
    },
    {
     "name": "stdout",
     "output_type": "stream",
     "text": [
      " 0.548422093063"
     ]
    },
    {
     "name": "stdout",
     "output_type": "stream",
     "text": [
      " 0.61033731081"
     ]
    },
    {
     "name": "stdout",
     "output_type": "stream",
     "text": [
      " 0.72607671981"
     ]
    },
    {
     "name": "stdout",
     "output_type": "stream",
     "text": [
      " 0.569598909914"
     ]
    },
    {
     "name": "stdout",
     "output_type": "stream",
     "text": [
      " 0.711554170694"
     ]
    },
    {
     "name": "stdout",
     "output_type": "stream",
     "text": [
      " 0.700054252819"
     ]
    },
    {
     "name": "stdout",
     "output_type": "stream",
     "text": [
      " \n\t\t[0.06790123456790123, 0.0686868739368683, 0.06141187349602482, 0.07389077895381738, 0.08047032175185409, 0.08805553698563828, 0.10148533527970421, 0.10817759637864749, 0.11331247832949026, 0.11758498399826242]\n"
     ]
    },
    {
     "name": "stdout",
     "output_type": "stream",
     "text": [
      "0.603780051165"
     ]
    },
    {
     "name": "stdout",
     "output_type": "stream",
     "text": [
      " 0.68847517508"
     ]
    },
    {
     "name": "stdout",
     "output_type": "stream",
     "text": [
      " 0.634308577707"
     ]
    },
    {
     "name": "stdout",
     "output_type": "stream",
     "text": [
      " 0.562087137641"
     ]
    },
    {
     "name": "stdout",
     "output_type": "stream",
     "text": [
      " 0.776566994626"
     ]
    },
    {
     "name": "stdout",
     "output_type": "stream",
     "text": [
      " 0.627633673957"
     ]
    },
    {
     "name": "stdout",
     "output_type": "stream",
     "text": [
      " 0.626747268266"
     ]
    },
    {
     "name": "stdout",
     "output_type": "stream",
     "text": [
      " 0.710976505761"
     ]
    },
    {
     "name": "stdout",
     "output_type": "stream",
     "text": [
      " 0.578852861237"
     ]
    },
    {
     "name": "stdout",
     "output_type": "stream",
     "text": [
      " 0.608574129119"
     ]
    },
    {
     "name": "stdout",
     "output_type": "stream",
     "text": [
      " \n\t\t[0.04938271604938271, 0.04744538614674959, 0.060291353675670636, 0.06086689556504391, 0.06766332105208445, 0.07081764021200965, 0.0856031162793743, 0.10091238130343091, 0.10536285860166929, 0.11203898990015008]\n"
     ]
    },
    {
     "name": "stdout",
     "output_type": "stream",
     "text": [
      "0.653719984058"
     ]
    },
    {
     "name": "stdout",
     "output_type": "stream",
     "text": [
      " 0.621645705291"
     ]
    },
    {
     "name": "stdout",
     "output_type": "stream",
     "text": [
      " 0.734075339485"
     ]
    },
    {
     "name": "stdout",
     "output_type": "stream",
     "text": [
      " 0.684447119737"
     ]
    },
    {
     "name": "stdout",
     "output_type": "stream",
     "text": [
      " 0.623049775846"
     ]
    },
    {
     "name": "stdout",
     "output_type": "stream",
     "text": [
      " 0.6881698634"
     ]
    },
    {
     "name": "stdout",
     "output_type": "stream",
     "text": [
      " 0.70788972185"
     ]
    },
    {
     "name": "stdout",
     "output_type": "stream",
     "text": [
      " 0.790021595135"
     ]
    },
    {
     "name": "stdout",
     "output_type": "stream",
     "text": [
      " 0.615952589804"
     ]
    },
    {
     "name": "stdout",
     "output_type": "stream",
     "text": [
      " 0.793052303059"
     ]
    },
    {
     "name": "stdout",
     "output_type": "stream",
     "text": [
      " \n\t\t[0.08641975308641976, 0.06571356983124563, 0.058994415893812005, 0.07505890531009064, 0.08321841943860676, 0.0904740074963448, 0.10156532240245887, 0.11460090548508664, 0.11648784796697914, 0.11692843358512375]\n"
     ]
    },
    {
     "name": "stdout",
     "output_type": "stream",
     "text": [
      "0.691382450079"
     ]
    },
    {
     "name": "stdout",
     "output_type": "stream",
     "text": [
      " 0.718268964745"
     ]
    },
    {
     "name": "stdout",
     "output_type": "stream",
     "text": [
      " 0.647768592686"
     ]
    },
    {
     "name": "stdout",
     "output_type": "stream",
     "text": [
      " 0.756584228569"
     ]
    },
    {
     "name": "stdout",
     "output_type": "stream",
     "text": [
      " 0.658524142355"
     ]
    },
    {
     "name": "stdout",
     "output_type": "stream",
     "text": [
      " 0.68241336952"
     ]
    },
    {
     "name": "stdout",
     "output_type": "stream",
     "text": [
      " 0.618614727875"
     ]
    },
    {
     "name": "stdout",
     "output_type": "stream",
     "text": [
      " 0.648648737463"
     ]
    },
    {
     "name": "stdout",
     "output_type": "stream",
     "text": [
      " 0.515413406768"
     ]
    },
    {
     "name": "stdout",
     "output_type": "stream",
     "text": [
      " 0.655709697139"
     ]
    },
    {
     "name": "stdout",
     "output_type": "stream",
     "text": [
      " \n\t\t[0.05555555555555555, 0.05659758230366174, 0.060830607455696975, 0.06596967514138928, 0.07159783605685924, 0.0820385732576501, 0.08949220846174616, 0.10229988413828542, 0.10747080789945013, 0.11408625242670728]\n"
     ]
    },
    {
     "name": "stdout",
     "output_type": "stream",
     "text": [
      "0.658576418743"
     ]
    },
    {
     "name": "stdout",
     "output_type": "stream",
     "text": [
      " 0.551372435151"
     ]
    },
    {
     "name": "stdout",
     "output_type": "stream",
     "text": [
      " 0.612577066895"
     ]
    },
    {
     "name": "stdout",
     "output_type": "stream",
     "text": [
      " 0.654912951931"
     ]
    },
    {
     "name": "stdout",
     "output_type": "stream",
     "text": [
      " 0.576461404147"
     ]
    },
    {
     "name": "stdout",
     "output_type": "stream",
     "text": [
      " 0.717719965557"
     ]
    },
    {
     "name": "stdout",
     "output_type": "stream",
     "text": [
      " 0.615671558527"
     ]
    },
    {
     "name": "stdout",
     "output_type": "stream",
     "text": [
      " 0.628166263361"
     ]
    },
    {
     "name": "stdout",
     "output_type": "stream",
     "text": [
      " 0.697747577211"
     ]
    },
    {
     "name": "stdout",
     "output_type": "stream",
     "text": [
      " 0.603810787343"
     ]
    },
    {
     "name": "stdout",
     "output_type": "stream",
     "text": [
      " \n\t\t[0.06790123456790123, 0.06596390466526811, 0.06835012945594333, 0.07759782163591351, 0.08283346987350357, 0.09671312067019881, 0.10120411172214706, 0.11697798065354206, 0.12349234056768628, 0.12452645186827448]\n"
     ]
    },
    {
     "name": "stdout",
     "output_type": "stream",
     "text": [
      "0.77185254054"
     ]
    },
    {
     "name": "stdout",
     "output_type": "stream",
     "text": [
      " 0.662539832997"
     ]
    },
    {
     "name": "stdout",
     "output_type": "stream",
     "text": [
      " 0.637527853471"
     ]
    },
    {
     "name": "stdout",
     "output_type": "stream",
     "text": [
      " 0.667699320381"
     ]
    },
    {
     "name": "stdout",
     "output_type": "stream",
     "text": [
      " 0.550455222405"
     ]
    },
    {
     "name": "stdout",
     "output_type": "stream",
     "text": [
      " 0.766804786108"
     ]
    },
    {
     "name": "stdout",
     "output_type": "stream",
     "text": [
      " 0.693982035747"
     ]
    },
    {
     "name": "stdout",
     "output_type": "stream",
     "text": [
      " 0.73386864585"
     ]
    },
    {
     "name": "stdout",
     "output_type": "stream",
     "text": [
      " 0.685496707253"
     ]
    },
    {
     "name": "stdout",
     "output_type": "stream",
     "text": [
      " 0.681883390379"
     ]
    },
    {
     "name": "stdout",
     "output_type": "stream",
     "text": [
      " \n\t\t[0.07407407407407407, 0.05258225144993287, 0.05912370444491789, 0.06607264477747249, 0.07438750892551366, 0.08443492234031812, 0.09023512621841563, 0.10624822591451909, 0.11280608516433653, 0.11882634418063703]\n"
     ]
    },
    {
     "name": "stdout",
     "output_type": "stream",
     "text": [
      "0.641531539387"
     ]
    },
    {
     "name": "stdout",
     "output_type": "stream",
     "text": [
      " 0.624722965129"
     ]
    },
    {
     "name": "stdout",
     "output_type": "stream",
     "text": [
      " 0.62421675978"
     ]
    },
    {
     "name": "stdout",
     "output_type": "stream",
     "text": [
      " 0.686774704117"
     ]
    },
    {
     "name": "stdout",
     "output_type": "stream",
     "text": [
      " 0.537517266903"
     ]
    },
    {
     "name": "stdout",
     "output_type": "stream",
     "text": [
      " 0.695606076776"
     ]
    },
    {
     "name": "stdout",
     "output_type": "stream",
     "text": [
      " 0.659818372104"
     ]
    },
    {
     "name": "stdout",
     "output_type": "stream",
     "text": [
      " 0.627018940037"
     ]
    },
    {
     "name": "stdout",
     "output_type": "stream",
     "text": [
      " 0.625978308781"
     ]
    },
    {
     "name": "stdout",
     "output_type": "stream",
     "text": [
      " 0.598805559037"
     ]
    },
    {
     "name": "stdout",
     "output_type": "stream",
     "text": [
      " \n\t\t[0.05555555555555555, 0.0599965271586691, 0.05771693382500533, 0.07041955487710891, 0.08281765643474508, 0.0859369731712383, 0.09583757655877628, 0.10858348488721506, 0.11517645685122709, 0.11738507213958307]\n"
     ]
    },
    {
     "name": "stdout",
     "output_type": "stream",
     "text": [
      "0.665978580558"
     ]
    },
    {
     "name": "stdout",
     "output_type": "stream",
     "text": [
      " 0.66671733881"
     ]
    },
    {
     "name": "stdout",
     "output_type": "stream",
     "text": [
      " 0.603946943742"
     ]
    },
    {
     "name": "stdout",
     "output_type": "stream",
     "text": [
      " 0.704694412101"
     ]
    },
    {
     "name": "stdout",
     "output_type": "stream",
     "text": [
      " 0.685904694709"
     ]
    },
    {
     "name": "stdout",
     "output_type": "stream",
     "text": [
      " 0.724260224323"
     ]
    },
    {
     "name": "stdout",
     "output_type": "stream",
     "text": [
      " 0.729218791882"
     ]
    },
    {
     "name": "stdout",
     "output_type": "stream",
     "text": [
      " 0.775651579218"
     ]
    },
    {
     "name": "stdout",
     "output_type": "stream",
     "text": [
      " 0.568661837194"
     ]
    },
    {
     "name": "stdout",
     "output_type": "stream",
     "text": [
      " 0.660481377771"
     ]
    },
    {
     "name": "stdout",
     "output_type": "stream",
     "text": [
      " \n\t\t[0.04938271604938271, 0.05289132468994997, 0.06379382660401742, 0.06342818670614372, 0.07040948465258516, 0.08398645751866517, 0.09025151199916684, 0.10609141612875665, 0.11264084682652274, 0.11434884776922852]\n"
     ]
    },
    {
     "name": "stdout",
     "output_type": "stream",
     "text": [
      "0.621906720186"
     ]
    },
    {
     "name": "stdout",
     "output_type": "stream",
     "text": [
      " 0.725605101617"
     ]
    },
    {
     "name": "stdout",
     "output_type": "stream",
     "text": [
      " 0.74642565144"
     ]
    },
    {
     "name": "stdout",
     "output_type": "stream",
     "text": [
      " 0.784010826592"
     ]
    },
    {
     "name": "stdout",
     "output_type": "stream",
     "text": [
      " 0.611539422252"
     ]
    },
    {
     "name": "stdout",
     "output_type": "stream",
     "text": [
      " 0.640109089767"
     ]
    },
    {
     "name": "stdout",
     "output_type": "stream",
     "text": [
      " 0.726166527217"
     ]
    },
    {
     "name": "stdout",
     "output_type": "stream",
     "text": [
      " 0.65691964841"
     ]
    },
    {
     "name": "stdout",
     "output_type": "stream",
     "text": [
      " 0.754175138285"
     ]
    },
    {
     "name": "stdout",
     "output_type": "stream",
     "text": [
      " 0.683130355529"
     ]
    },
    {
     "name": "stdout",
     "output_type": "stream",
     "text": [
      " \n\t\t[0.08641975308641976, 0.08448242318378663, 0.08272334128191962, 0.08372683423924256, 0.08851026868889376, 0.09211941242375302, 0.09528986827251613, 0.09838942497654084, 0.11686192267442243, 0.1260760859995958]\n"
     ]
    },
    {
     "name": "stdout",
     "output_type": "stream",
     "text": [
      "0.545517543382"
     ]
    },
    {
     "name": "stdout",
     "output_type": "stream",
     "text": [
      " 0.696438107813"
     ]
    },
    {
     "name": "stdout",
     "output_type": "stream",
     "text": [
      " 0.624290433591"
     ]
    },
    {
     "name": "stdout",
     "output_type": "stream",
     "text": [
      " 0.665653746623"
     ]
    },
    {
     "name": "stdout",
     "output_type": "stream",
     "text": [
      " 0.597136138439"
     ]
    },
    {
     "name": "stdout",
     "output_type": "stream",
     "text": [
      " 0.67243468452"
     ]
    },
    {
     "name": "stdout",
     "output_type": "stream",
     "text": [
      " 0.668382123812"
     ]
    },
    {
     "name": "stdout",
     "output_type": "stream",
     "text": [
      " 0.642415384596"
     ]
    },
    {
     "name": "stdout",
     "output_type": "stream",
     "text": [
      " 0.714252225963"
     ]
    },
    {
     "name": "stdout",
     "output_type": "stream",
     "text": [
      " 0.708174170074"
     ]
    },
    {
     "name": "stdout",
     "output_type": "stream",
     "text": [
      " \n\t\t[0.05555555555555555, 0.0583155846351751, 0.059783732067396504, 0.06749511575692556, 0.07637622059688504, 0.08545602899319407, 0.10173266878937828, 0.10734915852564472, 0.11813492388306239, 0.11916827526029553]\n"
     ]
    },
    {
     "name": "stdout",
     "output_type": "stream",
     "text": [
      "0.729190519826"
     ]
    },
    {
     "name": "stdout",
     "output_type": "stream",
     "text": [
      " 0.656447344065"
     ]
    },
    {
     "name": "stdout",
     "output_type": "stream",
     "text": [
      " 0.793206215409"
     ]
    },
    {
     "name": "stdout",
     "output_type": "stream",
     "text": [
      " 0.608529228411"
     ]
    },
    {
     "name": "stdout",
     "output_type": "stream",
     "text": [
      " 0.634838120147"
     ]
    },
    {
     "name": "stdout",
     "output_type": "stream",
     "text": [
      " 0.515145881022"
     ]
    },
    {
     "name": "stdout",
     "output_type": "stream",
     "text": [
      " 0.642753073893"
     ]
    },
    {
     "name": "stdout",
     "output_type": "stream",
     "text": [
      " 0.691447072525"
     ]
    },
    {
     "name": "stdout",
     "output_type": "stream",
     "text": [
      " 0.69721263889"
     ]
    },
    {
     "name": "stdout",
     "output_type": "stream",
     "text": [
      " 0.607164078976"
     ]
    },
    {
     "name": "stdout",
     "output_type": "stream",
     "text": [
      " \n\t\t[0.10493827160493828, 0.06546323499722313, 0.06669182269454833, 0.07700293099698914, 0.08319977993797892, 0.09668675721873755, 0.10245870597092901, 0.11615074623906264, 0.12085536511693835, 0.12196812772998618]\n"
     ]
    },
    {
     "name": "stdout",
     "output_type": "stream",
     "text": [
      "0.62600770582"
     ]
    },
    {
     "name": "stdout",
     "output_type": "stream",
     "text": [
      " 0.684119525411"
     ]
    },
    {
     "name": "stdout",
     "output_type": "stream",
     "text": [
      " 0.611657405748"
     ]
    },
    {
     "name": "stdout",
     "output_type": "stream",
     "text": [
      " 0.694779134988"
     ]
    },
    {
     "name": "stdout",
     "output_type": "stream",
     "text": [
      " 0.561578185826"
     ]
    },
    {
     "name": "stdout",
     "output_type": "stream",
     "text": [
      " 0.67863344948"
     ]
    },
    {
     "name": "stdout",
     "output_type": "stream",
     "text": [
      " 0.646739557506"
     ]
    },
    {
     "name": "stdout",
     "output_type": "stream",
     "text": [
      " 0.751304639654"
     ]
    },
    {
     "name": "stdout",
     "output_type": "stream",
     "text": [
      " 0.689020938977"
     ]
    },
    {
     "name": "stdout",
     "output_type": "stream",
     "text": [
      " 0.684360145658"
     ]
    },
    {
     "name": "stdout",
     "output_type": "stream",
     "text": [
      " \n\t\t[0.06790123456790123, 0.06152293306215456, 0.06251111665724002, 0.07304731648304114, 0.08047413490809431, 0.09988764041252116, 0.10025884278724513, 0.11298321755678664, 0.11811057747740657, 0.12237948019235205]\n"
     ]
    },
    {
     "name": "stdout",
     "output_type": "stream",
     "text": [
      "0.534899339362"
     ]
    },
    {
     "name": "stdout",
     "output_type": "stream",
     "text": [
      " 0.696080885071"
     ]
    },
    {
     "name": "stdout",
     "output_type": "stream",
     "text": [
      " 0.640794841604"
     ]
    },
    {
     "name": "stdout",
     "output_type": "stream",
     "text": [
      " 0.722665310145"
     ]
    },
    {
     "name": "stdout",
     "output_type": "stream",
     "text": [
      " 0.583427591813"
     ]
    },
    {
     "name": "stdout",
     "output_type": "stream",
     "text": [
      " 0.760799459936"
     ]
    },
    {
     "name": "stdout",
     "output_type": "stream",
     "text": [
      " 0.582004127372"
     ]
    },
    {
     "name": "stdout",
     "output_type": "stream",
     "text": [
      " 0.756545406904"
     ]
    },
    {
     "name": "stdout",
     "output_type": "stream",
     "text": [
      " 0.659454506997"
     ]
    },
    {
     "name": "stdout",
     "output_type": "stream",
     "text": [
      " 0.767522413332"
     ]
    },
    {
     "name": "stdout",
     "output_type": "stream",
     "text": [
      " \n\t\t[0.06790123456790123, 0.06051796612206774, 0.054628534362726945, 0.06674236231606424, 0.0753302719137662, 0.09077676696955152, 0.09283608335803598, 0.10591880419067952, 0.10781470822141219, 0.11256780729366732]\n"
     ]
    },
    {
     "name": "stdout",
     "output_type": "stream",
     "text": [
      "0.782608405012"
     ]
    },
    {
     "name": "stdout",
     "output_type": "stream",
     "text": [
      " 0.733738354724"
     ]
    },
    {
     "name": "stdout",
     "output_type": "stream",
     "text": [
      " 0.707485954465"
     ]
    },
    {
     "name": "stdout",
     "output_type": "stream",
     "text": [
      " 0.605077974664"
     ]
    },
    {
     "name": "stdout",
     "output_type": "stream",
     "text": [
      " 0.611313975369"
     ]
    },
    {
     "name": "stdout",
     "output_type": "stream",
     "text": [
      " 0.709730617534"
     ]
    },
    {
     "name": "stdout",
     "output_type": "stream",
     "text": [
      " 0.692492247607"
     ]
    },
    {
     "name": "stdout",
     "output_type": "stream",
     "text": [
      " 0.658600940815"
     ]
    },
    {
     "name": "stdout",
     "output_type": "stream",
     "text": [
      " 0.646214396468"
     ]
    },
    {
     "name": "stdout",
     "output_type": "stream",
     "text": [
      " 0.708598038178"
     ]
    },
    {
     "name": "stdout",
     "output_type": "stream",
     "text": [
      " \n\t\t[0.04938271604938271, 0.05632732935297668, 0.05814523512615497, 0.06473077348901474, 0.07258598738325375, 0.09067954830335632, 0.10700767046051346, 0.1105525161887334, 0.11633698172719747, 0.11736851371458526]\n"
     ]
    },
    {
     "name": "stdout",
     "output_type": "stream",
     "text": [
      "0.726741422008"
     ]
    },
    {
     "name": "stdout",
     "output_type": "stream",
     "text": [
      " 0.731186506691"
     ]
    },
    {
     "name": "stdout",
     "output_type": "stream",
     "text": [
      " 0.655438742031"
     ]
    },
    {
     "name": "stdout",
     "output_type": "stream",
     "text": [
      " 0.626406580868"
     ]
    },
    {
     "name": "stdout",
     "output_type": "stream",
     "text": [
      " 0.615165461067"
     ]
    },
    {
     "name": "stdout",
     "output_type": "stream",
     "text": [
      " 0.749955753747"
     ]
    },
    {
     "name": "stdout",
     "output_type": "stream",
     "text": [
      " 0.700292574163"
     ]
    },
    {
     "name": "stdout",
     "output_type": "stream",
     "text": [
      " 0.600386216611"
     ]
    },
    {
     "name": "stdout",
     "output_type": "stream",
     "text": [
      " 0.763671947632"
     ]
    },
    {
     "name": "stdout",
     "output_type": "stream",
     "text": [
      " 0.692822539786"
     ]
    },
    {
     "name": "stdout",
     "output_type": "stream",
     "text": [
      " \n\t\t[0.05555555555555555, 0.0583155846351751, 0.059783732067396504, 0.06749511575692556, 0.07637622059688504, 0.08545602899319407, 0.09092387167983453, 0.10925673142322301, 0.11748015171019971, 0.12115269687122533]\n"
     ]
    },
    {
     "name": "stdout",
     "output_type": "stream",
     "text": [
      "0.662364491682"
     ]
    },
    {
     "name": "stdout",
     "output_type": "stream",
     "text": [
      " 0.670841293139"
     ]
    },
    {
     "name": "stdout",
     "output_type": "stream",
     "text": [
      " 0.743611109896"
     ]
    },
    {
     "name": "stdout",
     "output_type": "stream",
     "text": [
      " 0.659983628866"
     ]
    },
    {
     "name": "stdout",
     "output_type": "stream",
     "text": [
      " 0.708896800694"
     ]
    },
    {
     "name": "stdout",
     "output_type": "stream",
     "text": [
      " 0.793283468763"
     ]
    },
    {
     "name": "stdout",
     "output_type": "stream",
     "text": [
      " 0.702412566371"
     ]
    },
    {
     "name": "stdout",
     "output_type": "stream",
     "text": [
      " 0.610111164168"
     ]
    },
    {
     "name": "stdout",
     "output_type": "stream",
     "text": [
      " 0.70992293596"
     ]
    },
    {
     "name": "stdout",
     "output_type": "stream",
     "text": [
      " 0.669161570927"
     ]
    },
    {
     "name": "stdout",
     "output_type": "stream",
     "text": [
      " \n\t\t[0.04938271604938271, 0.04916338847826295, 0.05001259043808372, 0.06267254179472834, 0.06974538244642466, 0.08721611425951836, 0.092207252053516, 0.09298809689289557, 0.10808842428106774, 0.10910706763869324]\n"
     ]
    },
    {
     "name": "stdout",
     "output_type": "stream",
     "text": [
      "0.608220977065"
     ]
    },
    {
     "name": "stdout",
     "output_type": "stream",
     "text": [
      " 0.701435153544"
     ]
    },
    {
     "name": "stdout",
     "output_type": "stream",
     "text": [
      " 0.716151223999"
     ]
    },
    {
     "name": "stdout",
     "output_type": "stream",
     "text": [
      " 0.641344422698"
     ]
    },
    {
     "name": "stdout",
     "output_type": "stream",
     "text": [
      " 0.719038492784"
     ]
    },
    {
     "name": "stdout",
     "output_type": "stream",
     "text": [
      " 0.660709418945"
     ]
    },
    {
     "name": "stdout",
     "output_type": "stream",
     "text": [
      " 0.661133526652"
     ]
    },
    {
     "name": "stdout",
     "output_type": "stream",
     "text": [
      " 0.588400222914"
     ]
    },
    {
     "name": "stdout",
     "output_type": "stream",
     "text": [
      " 0.615406341244"
     ]
    },
    {
     "name": "stdout",
     "output_type": "stream",
     "text": [
      " 0.721511580061"
     ]
    },
    {
     "name": "stdout",
     "output_type": "stream",
     "text": [
      " \n\t\t[0.07407407407407407, 0.06967016227897987, 0.07031437864462863, 0.07527577834355838, 0.08043271421217286, 0.0881805840849817, 0.09215836438821048, 0.09921484223586796, 0.10441170265019716, 0.1198232995183002]\n"
     ]
    },
    {
     "name": "stdout",
     "output_type": "stream",
     "text": [
      "0.570030601342"
     ]
    },
    {
     "name": "stdout",
     "output_type": "stream",
     "text": [
      " 0.571081762779"
     ]
    },
    {
     "name": "stdout",
     "output_type": "stream",
     "text": [
      " 0.706977883005"
     ]
    },
    {
     "name": "stdout",
     "output_type": "stream",
     "text": [
      " 0.645167686245"
     ]
    },
    {
     "name": "stdout",
     "output_type": "stream",
     "text": [
      " 0.766005624712"
     ]
    },
    {
     "name": "stdout",
     "output_type": "stream",
     "text": [
      " 0.769394791627"
     ]
    },
    {
     "name": "stdout",
     "output_type": "stream",
     "text": [
      " 0.701921116241"
     ]
    },
    {
     "name": "stdout",
     "output_type": "stream",
     "text": [
      " 0.717453517877"
     ]
    },
    {
     "name": "stdout",
     "output_type": "stream",
     "text": [
      " 0.698820067476"
     ]
    },
    {
     "name": "stdout",
     "output_type": "stream",
     "text": [
      " 0.633401859902"
     ]
    },
    {
     "name": "stdout",
     "output_type": "stream",
     "text": [
      " \n\t\t[0.08641975308641976, 0.07287751070595935, 0.07304176323447213, 0.07484807971904076, 0.08132364158425294, 0.0924150683429734, 0.09443665039154786, 0.1083122922182695, 0.11617380969600534, 0.1210644194152365]\n"
     ]
    },
    {
     "name": "stdout",
     "output_type": "stream",
     "text": [
      "0.725839872261"
     ]
    },
    {
     "name": "stdout",
     "output_type": "stream",
     "text": [
      " 0.671656992433"
     ]
    },
    {
     "name": "stdout",
     "output_type": "stream",
     "text": [
      " 0.604545001035"
     ]
    },
    {
     "name": "stdout",
     "output_type": "stream",
     "text": [
      " 0.644233771146"
     ]
    },
    {
     "name": "stdout",
     "output_type": "stream",
     "text": [
      " 0.592249344581"
     ]
    },
    {
     "name": "stdout",
     "output_type": "stream",
     "text": [
      " 0.521140349054"
     ]
    },
    {
     "name": "stdout",
     "output_type": "stream",
     "text": [
      " 0.735605832828"
     ]
    },
    {
     "name": "stdout",
     "output_type": "stream",
     "text": [
      " 0.621059829329"
     ]
    },
    {
     "name": "stdout",
     "output_type": "stream",
     "text": [
      " 0.702551670549"
     ]
    },
    {
     "name": "stdout",
     "output_type": "stream",
     "text": [
      " 0.843138065118"
     ]
    },
    {
     "name": "stdout",
     "output_type": "stream",
     "text": [
      " \n\t\t[0.06790123456790123, 0.06768190699678146, 0.06645611872181768, 0.07077684324940081, 0.0787875054715266, 0.09877347464347268, 0.10113787166403602, 0.11697419410304229, 0.12009265426130376, 0.12376232471081644]\n"
     ]
    },
    {
     "name": "stdout",
     "output_type": "stream",
     "text": [
      "0.664703324812"
     ]
    },
    {
     "name": "stdout",
     "output_type": "stream",
     "text": [
      " 0.516151253086"
     ]
    },
    {
     "name": "stdout",
     "output_type": "stream",
     "text": [
      " 0.678753302251"
     ]
    },
    {
     "name": "stdout",
     "output_type": "stream",
     "text": [
      " 0.615202699668"
     ]
    },
    {
     "name": "stdout",
     "output_type": "stream",
     "text": [
      " 0.640361006329"
     ]
    },
    {
     "name": "stdout",
     "output_type": "stream",
     "text": [
      " 0.634439228407"
     ]
    },
    {
     "name": "stdout",
     "output_type": "stream",
     "text": [
      " 0.560905455243"
     ]
    },
    {
     "name": "stdout",
     "output_type": "stream",
     "text": [
      " 0.649267457365"
     ]
    },
    {
     "name": "stdout",
     "output_type": "stream",
     "text": [
      " 0.696119895193"
     ]
    },
    {
     "name": "stdout",
     "output_type": "stream",
     "text": [
      " 0.876341439785"
     ]
    },
    {
     "name": "stdout",
     "output_type": "stream",
     "text": [
      " \n\t\t[0.06790123456790123, 0.06051796612206774, 0.054628534362726945, 0.06674236231606424, 0.0753302719137662, 0.09077676696955152, 0.09283608335803598, 0.10591880419067952, 0.10781470822141219, 0.11520744274198448]\n"
     ]
    },
    {
     "name": "stdout",
     "output_type": "stream",
     "text": [
      "0.67896347129"
     ]
    },
    {
     "name": "stdout",
     "output_type": "stream",
     "text": [
      " 0.641984317307"
     ]
    },
    {
     "name": "stdout",
     "output_type": "stream",
     "text": [
      " 0.667964597464"
     ]
    },
    {
     "name": "stdout",
     "output_type": "stream",
     "text": [
      " 0.629330304211"
     ]
    },
    {
     "name": "stdout",
     "output_type": "stream",
     "text": [
      " 0.631062168724"
     ]
    },
    {
     "name": "stdout",
     "output_type": "stream",
     "text": [
      " 0.702383436772"
     ]
    },
    {
     "name": "stdout",
     "output_type": "stream",
     "text": [
      " 0.682993225936"
     ]
    },
    {
     "name": "stdout",
     "output_type": "stream",
     "text": [
      " 0.731681844313"
     ]
    },
    {
     "name": "stdout",
     "output_type": "stream",
     "text": [
      " 0.640232261491"
     ]
    },
    {
     "name": "stdout",
     "output_type": "stream",
     "text": [
      " 0.751349660576"
     ]
    },
    {
     "name": "stdout",
     "output_type": "stream",
     "text": [
      " \n\t\t[0.06790123456790123, 0.06768190699678146, 0.0627611790507982, 0.06581064433503403, 0.07656738338103068, 0.08787418703273243, 0.09152686476127328, 0.09752203233448593, 0.11536396476975418, 0.12033617347334022]\n"
     ]
    },
    {
     "name": "stdout",
     "output_type": "stream",
     "text": [
      "0.679955287312"
     ]
    },
    {
     "name": "stdout",
     "output_type": "stream",
     "text": [
      " 0.669555901989"
     ]
    },
    {
     "name": "stdout",
     "output_type": "stream",
     "text": [
      " 0.581446918809"
     ]
    },
    {
     "name": "stdout",
     "output_type": "stream",
     "text": [
      " 0.691588761075"
     ]
    },
    {
     "name": "stdout",
     "output_type": "stream",
     "text": [
      " 0.613274363323"
     ]
    },
    {
     "name": "stdout",
     "output_type": "stream",
     "text": [
      " 0.610961619314"
     ]
    },
    {
     "name": "stdout",
     "output_type": "stream",
     "text": [
      " 0.752093460941"
     ]
    },
    {
     "name": "stdout",
     "output_type": "stream",
     "text": [
      " 0.605126038333"
     ]
    },
    {
     "name": "stdout",
     "output_type": "stream",
     "text": [
      " 0.650453602939"
     ]
    },
    {
     "name": "stdout",
     "output_type": "stream",
     "text": [
      " 0.707960099826"
     ]
    },
    {
     "name": "stdout",
     "output_type": "stream",
     "text": [
      " \n\t\t[0.06790123456790123, 0.04547704898121374, 0.05652459051868445, 0.06712520686478393, 0.07271086364009591, 0.08136190952485021, 0.08946762423408387, 0.10195613078174705, 0.1044868923232438, 0.1125528344720682]\n"
     ]
    },
    {
     "name": "stdout",
     "output_type": "stream",
     "text": [
      "0.677314846676"
     ]
    },
    {
     "name": "stdout",
     "output_type": "stream",
     "text": [
      " 0.675256185814"
     ]
    },
    {
     "name": "stdout",
     "output_type": "stream",
     "text": [
      " 0.660503078998"
     ]
    },
    {
     "name": "stdout",
     "output_type": "stream",
     "text": [
      " 0.793403885295"
     ]
    },
    {
     "name": "stdout",
     "output_type": "stream",
     "text": [
      " 0.721497090616"
     ]
    },
    {
     "name": "stdout",
     "output_type": "stream",
     "text": [
      " 0.670660875768"
     ]
    },
    {
     "name": "stdout",
     "output_type": "stream",
     "text": [
      " 0.693459668318"
     ]
    },
    {
     "name": "stdout",
     "output_type": "stream",
     "text": [
      " 0.633352478595"
     ]
    },
    {
     "name": "stdout",
     "output_type": "stream",
     "text": [
      " 0.791719365387"
     ]
    },
    {
     "name": "stdout",
     "output_type": "stream",
     "text": [
      " 0.764709935384"
     ]
    },
    {
     "name": "stdout",
     "output_type": "stream",
     "text": [
      " \n\t\t[0.012345679012345678, 0.031900171733853754, 0.04164933906950626, 0.054843711826635506, 0.05831569359059765, 0.08092710376321637, 0.08159791139683784, 0.09557431263139692, 0.09876461111203891, 0.10053215864447552]\n"
     ]
    },
    {
     "name": "stdout",
     "output_type": "stream",
     "text": [
      "0.757154689397"
     ]
    },
    {
     "name": "stdout",
     "output_type": "stream",
     "text": [
      " 0.604271613209"
     ]
    },
    {
     "name": "stdout",
     "output_type": "stream",
     "text": [
      " 0.769839579692"
     ]
    },
    {
     "name": "stdout",
     "output_type": "stream",
     "text": [
      " 0.725979666171"
     ]
    },
    {
     "name": "stdout",
     "output_type": "stream",
     "text": [
      " 0.554475514998"
     ]
    },
    {
     "name": "stdout",
     "output_type": "stream",
     "text": [
      " 0.698471354598"
     ]
    },
    {
     "name": "stdout",
     "output_type": "stream",
     "text": [
      " 0.688547894199"
     ]
    },
    {
     "name": "stdout",
     "output_type": "stream",
     "text": [
      " 0.67599488395"
     ]
    },
    {
     "name": "stdout",
     "output_type": "stream",
     "text": [
      " 0.695400003496"
     ]
    },
    {
     "name": "stdout",
     "output_type": "stream",
     "text": [
      " 0.819054531387"
     ]
    },
    {
     "name": "stdout",
     "output_type": "stream",
     "text": [
      " \n\t\t[0.06790123456790123, 0.06768190699678146, 0.0627611790507982, 0.06880059401035063, 0.0781708768505953, 0.09281265728670096, 0.09485293084252344, 0.1082531774665892, 0.11278618648392923, 0.12136659424433331]\n"
     ]
    },
    {
     "name": "stdout",
     "output_type": "stream",
     "text": [
      "0.615120020778"
     ]
    },
    {
     "name": "stdout",
     "output_type": "stream",
     "text": [
      " 0.654064726667"
     ]
    },
    {
     "name": "stdout",
     "output_type": "stream",
     "text": [
      " 0.615946884767"
     ]
    },
    {
     "name": "stdout",
     "output_type": "stream",
     "text": [
      " 0.722574764943"
     ]
    },
    {
     "name": "stdout",
     "output_type": "stream",
     "text": [
      " 0.818583617786"
     ]
    },
    {
     "name": "stdout",
     "output_type": "stream",
     "text": [
      " 0.673293189739"
     ]
    },
    {
     "name": "stdout",
     "output_type": "stream",
     "text": [
      " 0.623500446887"
     ]
    },
    {
     "name": "stdout",
     "output_type": "stream",
     "text": [
      " 0.800823753171"
     ]
    },
    {
     "name": "stdout",
     "output_type": "stream",
     "text": [
      " 0.680099791527"
     ]
    },
    {
     "name": "stdout",
     "output_type": "stream",
     "text": [
      " 0.615378752739"
     ]
    },
    {
     "name": "stdout",
     "output_type": "stream",
     "text": [
      " \n\t\t[0.030864197530864196, 0.06858568763754481, 0.06426309916931248, 0.07672406197562921, 0.08545662599529838, 0.10028331701241304, 0.11388321147920945, 0.12698436684319697, 0.12888480338851574, 0.1319714833794479]\n"
     ]
    },
    {
     "name": "stdout",
     "output_type": "stream",
     "text": [
      "0.749237226"
     ]
    },
    {
     "name": "stdout",
     "output_type": "stream",
     "text": [
      " 0.589253078504"
     ]
    },
    {
     "name": "stdout",
     "output_type": "stream",
     "text": [
      " 0.575667376927"
     ]
    },
    {
     "name": "stdout",
     "output_type": "stream",
     "text": [
      " 0.692388068888"
     ]
    },
    {
     "name": "stdout",
     "output_type": "stream",
     "text": [
      " 0.670653166919"
     ]
    },
    {
     "name": "stdout",
     "output_type": "stream",
     "text": [
      " 0.62611285195"
     ]
    },
    {
     "name": "stdout",
     "output_type": "stream",
     "text": [
      " 0.750121327979"
     ]
    },
    {
     "name": "stdout",
     "output_type": "stream",
     "text": [
      " 0.750642689554"
     ]
    },
    {
     "name": "stdout",
     "output_type": "stream",
     "text": [
      " 0.712948815724"
     ]
    },
    {
     "name": "stdout",
     "output_type": "stream",
     "text": [
      " 0.650595653942"
     ]
    },
    {
     "name": "stdout",
     "output_type": "stream",
     "text": [
      " \n\t\t[0.06790123456790123, 0.06152293306215456, 0.06251111665724002, 0.07304731648304114, 0.08047413490809431, 0.08950459978261041, 0.09307398282001868, 0.10582579960423215, 0.11302379385921364, 0.11465735308625673]\n"
     ]
    },
    {
     "name": "stdout",
     "output_type": "stream",
     "text": [
      "0.648621899057"
     ]
    },
    {
     "name": "stdout",
     "output_type": "stream",
     "text": [
      " 0.683851724981"
     ]
    },
    {
     "name": "stdout",
     "output_type": "stream",
     "text": [
      " 0.619384718573"
     ]
    },
    {
     "name": "stdout",
     "output_type": "stream",
     "text": [
      " 0.564587063638"
     ]
    },
    {
     "name": "stdout",
     "output_type": "stream",
     "text": [
      " 0.573866402686"
     ]
    },
    {
     "name": "stdout",
     "output_type": "stream",
     "text": [
      " 0.581652956175"
     ]
    },
    {
     "name": "stdout",
     "output_type": "stream",
     "text": [
      " 0.556813047118"
     ]
    },
    {
     "name": "stdout",
     "output_type": "stream",
     "text": [
      " 0.745858364015"
     ]
    },
    {
     "name": "stdout",
     "output_type": "stream",
     "text": [
      " 0.715149870491"
     ]
    },
    {
     "name": "stdout",
     "output_type": "stream",
     "text": [
      " 0.640309975756"
     ]
    },
    {
     "name": "stdout",
     "output_type": "stream",
     "text": [
      " \n\t\t[0.06790123456790123, 0.06768190699678146, 0.0627611790507982, 0.06581064433503403, 0.07656738338103068, 0.08689839732574141, 0.09368553311521428, 0.10710342462760282, 0.11232232779542414, 0.1174862981072601]\n"
     ]
    },
    {
     "name": "stdout",
     "output_type": "stream",
     "text": [
      "0.669711327504"
     ]
    },
    {
     "name": "stdout",
     "output_type": "stream",
     "text": [
      " 0.653341232196"
     ]
    },
    {
     "name": "stdout",
     "output_type": "stream",
     "text": [
      " 0.579860070658"
     ]
    },
    {
     "name": "stdout",
     "output_type": "stream",
     "text": [
      " 0.664089087061"
     ]
    },
    {
     "name": "stdout",
     "output_type": "stream",
     "text": [
      " 0.61328149981"
     ]
    },
    {
     "name": "stdout",
     "output_type": "stream",
     "text": [
      " 0.593823037462"
     ]
    },
    {
     "name": "stdout",
     "output_type": "stream",
     "text": [
      " 0.639435071848"
     ]
    },
    {
     "name": "stdout",
     "output_type": "stream",
     "text": [
      " 0.738349703762"
     ]
    },
    {
     "name": "stdout",
     "output_type": "stream",
     "text": [
      " 0.697884118841"
     ]
    },
    {
     "name": "stdout",
     "output_type": "stream",
     "text": [
      " 0.675278148384"
     ]
    },
    {
     "name": "stdout",
     "output_type": "stream",
     "text": [
      " \n\t\t[0.06790123456790123, 0.052640989855927474, 0.06096229553573621, 0.06421723964470355, 0.0733313464864291, 0.08263195425843993, 0.08820029989249435, 0.1034716118941881, 0.10930021065790506, 0.11579688345578797]\n"
     ]
    },
    {
     "name": "stdout",
     "output_type": "stream",
     "text": [
      "0.724418784121"
     ]
    },
    {
     "name": "stdout",
     "output_type": "stream",
     "text": [
      " 0.681349946192"
     ]
    },
    {
     "name": "stdout",
     "output_type": "stream",
     "text": [
      " 0.670661055944"
     ]
    },
    {
     "name": "stdout",
     "output_type": "stream",
     "text": [
      " 0.682687581707"
     ]
    },
    {
     "name": "stdout",
     "output_type": "stream",
     "text": [
      " 0.631314165601"
     ]
    },
    {
     "name": "stdout",
     "output_type": "stream",
     "text": [
      " 0.598401369593"
     ]
    },
    {
     "name": "stdout",
     "output_type": "stream",
     "text": [
      " 0.666025107583"
     ]
    },
    {
     "name": "stdout",
     "output_type": "stream",
     "text": [
      " 0.660828121753"
     ]
    },
    {
     "name": "stdout",
     "output_type": "stream",
     "text": [
      " 0.740849354296"
     ]
    },
    {
     "name": "stdout",
     "output_type": "stream",
     "text": [
      " 0.682200724599"
     ]
    },
    {
     "name": "stdout",
     "output_type": "stream",
     "text": [
      " \n\t\t[0.06790123456790123, 0.06152293306215456, 0.06251111665724002, 0.07304731648304114, 0.08047413490809431, 0.0934286696975764, 0.09866053594273173, 0.1138495985445527, 0.11903320465298904, 0.12064178597120577]\n"
     ]
    },
    {
     "name": "stdout",
     "output_type": "stream",
     "text": [
      "0.603898864668"
     ]
    },
    {
     "name": "stdout",
     "output_type": "stream",
     "text": [
      " 0.644613843462"
     ]
    },
    {
     "name": "stdout",
     "output_type": "stream",
     "text": [
      " 0.608386577"
     ]
    },
    {
     "name": "stdout",
     "output_type": "stream",
     "text": [
      " 0.596857374754"
     ]
    },
    {
     "name": "stdout",
     "output_type": "stream",
     "text": [
      " 0.691257327252"
     ]
    },
    {
     "name": "stdout",
     "output_type": "stream",
     "text": [
      " 0.652720954411"
     ]
    },
    {
     "name": "stdout",
     "output_type": "stream",
     "text": [
      " 0.694659014861"
     ]
    },
    {
     "name": "stdout",
     "output_type": "stream",
     "text": [
      " 0.692457293879"
     ]
    },
    {
     "name": "stdout",
     "output_type": "stream",
     "text": [
      " 0.656275805945"
     ]
    },
    {
     "name": "stdout",
     "output_type": "stream",
     "text": [
      " 0.690876129905"
     ]
    },
    {
     "name": "stdout",
     "output_type": "stream",
     "text": [
      " \n\t\t[0.08641975308641976, 0.06299060055964543, 0.059929760220389434, 0.07380703872430745, 0.08093406333224205, 0.09029977622971251, 0.10680832063591836, 0.1081339714405029, 0.11342201838396031, 0.11865608764880843]\n"
     ]
    },
    {
     "name": "stdout",
     "output_type": "stream",
     "text": [
      "0.669675279581"
     ]
    },
    {
     "name": "stdout",
     "output_type": "stream",
     "text": [
      " 0.578570440772"
     ]
    },
    {
     "name": "stdout",
     "output_type": "stream",
     "text": [
      " 0.622990082621"
     ]
    },
    {
     "name": "stdout",
     "output_type": "stream",
     "text": [
      " 0.761631347823"
     ]
    },
    {
     "name": "stdout",
     "output_type": "stream",
     "text": [
      " 0.55135132974"
     ]
    },
    {
     "name": "stdout",
     "output_type": "stream",
     "text": [
      " 0.748697680633"
     ]
    },
    {
     "name": "stdout",
     "output_type": "stream",
     "text": [
      " 0.677927183922"
     ]
    },
    {
     "name": "stdout",
     "output_type": "stream",
     "text": [
      " 0.612003756367"
     ]
    },
    {
     "name": "stdout",
     "output_type": "stream",
     "text": [
      " 0.764974929839"
     ]
    },
    {
     "name": "stdout",
     "output_type": "stream",
     "text": [
      " 0.813279841183"
     ]
    },
    {
     "name": "stdout",
     "output_type": "stream",
     "text": [
      " \n\t\t[0.04938271604938271, 0.05632732935297668, 0.05814523512615497, 0.06473077348901474, 0.07258598738325375, 0.08868221932053927, 0.09107821146525007, 0.106299372392892, 0.11003112669467487, 0.11801480758449033]\n"
     ]
    },
    {
     "name": "stdout",
     "output_type": "stream",
     "text": [
      "0.695848974882"
     ]
    },
    {
     "name": "stdout",
     "output_type": "stream",
     "text": [
      " 0.664015822767"
     ]
    },
    {
     "name": "stdout",
     "output_type": "stream",
     "text": [
      " 0.754601709191"
     ]
    },
    {
     "name": "stdout",
     "output_type": "stream",
     "text": [
      " 0.676578318756"
     ]
    },
    {
     "name": "stdout",
     "output_type": "stream",
     "text": [
      " 0.676220150868"
     ]
    },
    {
     "name": "stdout",
     "output_type": "stream",
     "text": [
      " 0.679149956532"
     ]
    },
    {
     "name": "stdout",
     "output_type": "stream",
     "text": [
      " 0.678784218315"
     ]
    },
    {
     "name": "stdout",
     "output_type": "stream",
     "text": [
      " 0.694726578734"
     ]
    },
    {
     "name": "stdout",
     "output_type": "stream",
     "text": [
      " 0.581827262198"
     ]
    },
    {
     "name": "stdout",
     "output_type": "stream",
     "text": [
      " 0.712167840909"
     ]
    },
    {
     "name": "stdout",
     "output_type": "stream",
     "text": [
      " \n\t\t[0.012345679012345678, 0.04078211494008085, 0.043198160191010075, 0.05321529672531754, 0.06181924800473304, 0.07669215467077255, 0.08086056264002187, 0.08166388112879551, 0.09472706867685764, 0.1012692409286635]\n"
     ]
    },
    {
     "name": "stdout",
     "output_type": "stream",
     "text": [
      "0.483384236939"
     ]
    },
    {
     "name": "stdout",
     "output_type": "stream",
     "text": [
      " 0.759666927792"
     ]
    },
    {
     "name": "stdout",
     "output_type": "stream",
     "text": [
      " 0.68978346305"
     ]
    },
    {
     "name": "stdout",
     "output_type": "stream",
     "text": [
      " 0.657397993121"
     ]
    },
    {
     "name": "stdout",
     "output_type": "stream",
     "text": [
      " 0.73528270889"
     ]
    },
    {
     "name": "stdout",
     "output_type": "stream",
     "text": [
      " 0.809193974845"
     ]
    },
    {
     "name": "stdout",
     "output_type": "stream",
     "text": [
      " 0.668874044444"
     ]
    },
    {
     "name": "stdout",
     "output_type": "stream",
     "text": [
      " 0.758426121374"
     ]
    },
    {
     "name": "stdout",
     "output_type": "stream",
     "text": [
      " 0.603891384156"
     ]
    },
    {
     "name": "stdout",
     "output_type": "stream",
     "text": [
      " 0.693382699015"
     ]
    },
    {
     "name": "stdout",
     "output_type": "stream",
     "text": [
      " \n\t\t[0.04938271604938271, 0.05632732935297668, 0.05814523512615497, 0.06174082381369814, 0.07098249391368913, 0.08709803372540821, 0.08915352542044588, 0.10049054805175917, 0.10631674658229621, 0.11052625028659159]\n"
     ]
    },
    {
     "name": "stdout",
     "output_type": "stream",
     "text": [
      "0.570238676124"
     ]
    },
    {
     "name": "stdout",
     "output_type": "stream",
     "text": [
      " 0.573999002452"
     ]
    },
    {
     "name": "stdout",
     "output_type": "stream",
     "text": [
      " 0.616968417547"
     ]
    },
    {
     "name": "stdout",
     "output_type": "stream",
     "text": [
      " 0.654919256107"
     ]
    },
    {
     "name": "stdout",
     "output_type": "stream",
     "text": [
      " 0.623776413819"
     ]
    },
    {
     "name": "stdout",
     "output_type": "stream",
     "text": [
      " 0.582725557461"
     ]
    },
    {
     "name": "stdout",
     "output_type": "stream",
     "text": [
      " 0.587756961256"
     ]
    },
    {
     "name": "stdout",
     "output_type": "stream",
     "text": [
      " 0.693468422375"
     ]
    },
    {
     "name": "stdout",
     "output_type": "stream",
     "text": [
      " 0.648547444152"
     ]
    },
    {
     "name": "stdout",
     "output_type": "stream",
     "text": [
      " 0.636955537907"
     ]
    },
    {
     "name": "stdout",
     "output_type": "stream",
     "text": [
      " \n\t\t[0.06790123456790123, 0.06768190699678146, 0.0627611790507982, 0.06880059401035063, 0.0781708768505953, 0.09809424842233924, 0.1001144966937088, 0.10149502203868695, 0.11483783463711371, 0.12045016330135322]\n"
     ]
    },
    {
     "name": "stdout",
     "output_type": "stream",
     "text": [
      "0.795706765251"
     ]
    },
    {
     "name": "stdout",
     "output_type": "stream",
     "text": [
      " 0.65392359825"
     ]
    },
    {
     "name": "stdout",
     "output_type": "stream",
     "text": [
      " 0.699967673129"
     ]
    },
    {
     "name": "stdout",
     "output_type": "stream",
     "text": [
      " 0.713958119481"
     ]
    },
    {
     "name": "stdout",
     "output_type": "stream",
     "text": [
      " 0.750186984973"
     ]
    },
    {
     "name": "stdout",
     "output_type": "stream",
     "text": [
      " 0.680979805261"
     ]
    },
    {
     "name": "stdout",
     "output_type": "stream",
     "text": [
      " 0.593260580579"
     ]
    },
    {
     "name": "stdout",
     "output_type": "stream",
     "text": [
      " 0.609041125365"
     ]
    },
    {
     "name": "stdout",
     "output_type": "stream",
     "text": [
      " 0.658835517903"
     ]
    },
    {
     "name": "stdout",
     "output_type": "stream",
     "text": [
      " 0.616066164432"
     ]
    },
    {
     "name": "stdout",
     "output_type": "stream",
     "text": [
      " \n\t\t[0.06790123456790123, 0.054358992187440835, 0.05437847196916878, 0.07098908478875475, 0.0738178823229258, 0.08917745883177589, 0.09282144122181146, 0.09359710667044496, 0.1092982934886449, 0.11237952296375858]\n"
     ]
    },
    {
     "name": "stdout",
     "output_type": "stream",
     "text": [
      "0.631304552241"
     ]
    },
    {
     "name": "stdout",
     "output_type": "stream",
     "text": [
      " 0.600735834486"
     ]
    },
    {
     "name": "stdout",
     "output_type": "stream",
     "text": [
      " 0.709360565353"
     ]
    },
    {
     "name": "stdout",
     "output_type": "stream",
     "text": [
      " 0.800778510867"
     ]
    },
    {
     "name": "stdout",
     "output_type": "stream",
     "text": [
      " 0.689518101574"
     ]
    },
    {
     "name": "stdout",
     "output_type": "stream",
     "text": [
      " 0.557390713056"
     ]
    },
    {
     "name": "stdout",
     "output_type": "stream",
     "text": [
      " 0.641411624303"
     ]
    },
    {
     "name": "stdout",
     "output_type": "stream",
     "text": [
      " 0.688110933451"
     ]
    },
    {
     "name": "stdout",
     "output_type": "stream",
     "text": [
      " 0.737422128081"
     ]
    },
    {
     "name": "stdout",
     "output_type": "stream",
     "text": [
      " 0.666994095375"
     ]
    },
    {
     "name": "stdout",
     "output_type": "stream",
     "text": [
      " \n\t\t[0.04938271604938271, 0.04916338847826295, 0.05001259043808372, 0.05819394920570598, 0.06549748772968464, 0.0865148609507055, 0.09152054828221769, 0.09233128301851527, 0.10539167589267444, 0.10971245132161771]\n"
     ]
    },
    {
     "name": "stdout",
     "output_type": "stream",
     "text": [
      "0.724133203632"
     ]
    },
    {
     "name": "stdout",
     "output_type": "stream",
     "text": [
      " 0.612015344357"
     ]
    },
    {
     "name": "stdout",
     "output_type": "stream",
     "text": [
      " 0.749321734953"
     ]
    },
    {
     "name": "stdout",
     "output_type": "stream",
     "text": [
      " 0.67794760596"
     ]
    },
    {
     "name": "stdout",
     "output_type": "stream",
     "text": [
      " 0.674842265309"
     ]
    },
    {
     "name": "stdout",
     "output_type": "stream",
     "text": [
      " 0.760089842939"
     ]
    },
    {
     "name": "stdout",
     "output_type": "stream",
     "text": [
      " 0.644247513829"
     ]
    },
    {
     "name": "stdout",
     "output_type": "stream",
     "text": [
      " 0.746660802345"
     ]
    },
    {
     "name": "stdout",
     "output_type": "stream",
     "text": [
      " 0.618813146006"
     ]
    },
    {
     "name": "stdout",
     "output_type": "stream",
     "text": [
      " 0.744060358675"
     ]
    },
    {
     "name": "stdout",
     "output_type": "stream",
     "text": [
      " \n\t\t[0.05555555555555555, 0.07375961274874746, 0.06835014482654261, 0.07763915664360785, 0.0876813526562161, 0.10317719123379437, 0.11104522154967066, 0.11454604299362543, 0.1325835443931375, 0.13566558484944463]\n"
     ]
    },
    {
     "name": "stdout",
     "output_type": "stream",
     "text": [
      "0.559039454399"
     ]
    },
    {
     "name": "stdout",
     "output_type": "stream",
     "text": [
      " 0.612812959131"
     ]
    },
    {
     "name": "stdout",
     "output_type": "stream",
     "text": [
      " 0.604828784791"
     ]
    },
    {
     "name": "stdout",
     "output_type": "stream",
     "text": [
      " 0.622014954522"
     ]
    },
    {
     "name": "stdout",
     "output_type": "stream",
     "text": [
      " 0.651610479957"
     ]
    },
    {
     "name": "stdout",
     "output_type": "stream",
     "text": [
      " 0.636825136666"
     ]
    },
    {
     "name": "stdout",
     "output_type": "stream",
     "text": [
      " 0.783406565585"
     ]
    },
    {
     "name": "stdout",
     "output_type": "stream",
     "text": [
      " 0.644330504303"
     ]
    },
    {
     "name": "stdout",
     "output_type": "stream",
     "text": [
      " 0.656390658736"
     ]
    },
    {
     "name": "stdout",
     "output_type": "stream",
     "text": [
      " 0.767940404046"
     ]
    },
    {
     "name": "stdout",
     "output_type": "stream",
     "text": [
      " \n\t\t[0.06790123456790123, 0.06768190699678146, 0.0627611790507982, 0.06581064433503403, 0.07656738338103068, 0.08787418703273243, 0.0940907243312556, 0.11139655878380765, 0.11452654532579494, 0.11756096051018529]\n"
     ]
    },
    {
     "name": "stdout",
     "output_type": "stream",
     "text": [
      "0.598327821921"
     ]
    },
    {
     "name": "stdout",
     "output_type": "stream",
     "text": [
      " 0.683561583958"
     ]
    },
    {
     "name": "stdout",
     "output_type": "stream",
     "text": [
      " 0.861096070775"
     ]
    },
    {
     "name": "stdout",
     "output_type": "stream",
     "text": [
      " 0.731289715914"
     ]
    },
    {
     "name": "stdout",
     "output_type": "stream",
     "text": [
      " 0.807212550565"
     ]
    },
    {
     "name": "stdout",
     "output_type": "stream",
     "text": [
      " 0.648901328425"
     ]
    },
    {
     "name": "stdout",
     "output_type": "stream",
     "text": [
      " 0.645053263772"
     ]
    },
    {
     "name": "stdout",
     "output_type": "stream",
     "text": [
      " 0.739613354487"
     ]
    },
    {
     "name": "stdout",
     "output_type": "stream",
     "text": [
      " 0.673650678784"
     ]
    },
    {
     "name": "stdout",
     "output_type": "stream",
     "text": [
      " 0.645515342604"
     ]
    },
    {
     "name": "stdout",
     "output_type": "stream",
     "text": [
      " \n\t\t[0.037037037037037035, 0.04595604005128348, 0.047285205848240204, 0.05712034106861276, 0.07573312327617941, 0.08590482153124633, 0.09853197657008217, 0.11101521218107206, 0.11420843246317053, 0.1172322393490294]\n"
     ]
    },
    {
     "name": "stdout",
     "output_type": "stream",
     "text": [
      "0.739364382636"
     ]
    },
    {
     "name": "stdout",
     "output_type": "stream",
     "text": [
      " 0.559149553708"
     ]
    },
    {
     "name": "stdout",
     "output_type": "stream",
     "text": [
      " 0.699845805151"
     ]
    },
    {
     "name": "stdout",
     "output_type": "stream",
     "text": [
      " 0.607333066879"
     ]
    },
    {
     "name": "stdout",
     "output_type": "stream",
     "text": [
      " 0.760049626981"
     ]
    },
    {
     "name": "stdout",
     "output_type": "stream",
     "text": [
      " 0.606329858518"
     ]
    },
    {
     "name": "stdout",
     "output_type": "stream",
     "text": [
      " 0.668296794584"
     ]
    },
    {
     "name": "stdout",
     "output_type": "stream",
     "text": [
      " 0.636940780899"
     ]
    },
    {
     "name": "stdout",
     "output_type": "stream",
     "text": [
      " 0.578369519752"
     ]
    },
    {
     "name": "stdout",
     "output_type": "stream",
     "text": [
      " 0.766078203465"
     ]
    },
    {
     "name": "stdout",
     "output_type": "stream",
     "text": [
      " \n\t\t[0.04938271604938271, 0.05632732935297668, 0.05814523512615497, 0.06174082381369814, 0.07098249391368913, 0.07391271083080081, 0.08705978800433084, 0.10230278216094346, 0.10872004795798575, 0.11520235198891136]\n"
     ]
    },
    {
     "name": "stdout",
     "output_type": "stream",
     "text": [
      "0.572085695117"
     ]
    },
    {
     "name": "stdout",
     "output_type": "stream",
     "text": [
      " 0.674622990015"
     ]
    },
    {
     "name": "stdout",
     "output_type": "stream",
     "text": [
      " 0.623289151425"
     ]
    },
    {
     "name": "stdout",
     "output_type": "stream",
     "text": [
      " 0.786605418946"
     ]
    },
    {
     "name": "stdout",
     "output_type": "stream",
     "text": [
      " 0.637032047452"
     ]
    },
    {
     "name": "stdout",
     "output_type": "stream",
     "text": [
      " 0.659469125097"
     ]
    },
    {
     "name": "stdout",
     "output_type": "stream",
     "text": [
      " 0.570121431028"
     ]
    },
    {
     "name": "stdout",
     "output_type": "stream",
     "text": [
      " 0.641303113595"
     ]
    },
    {
     "name": "stdout",
     "output_type": "stream",
     "text": [
      " 0.713906539187"
     ]
    },
    {
     "name": "stdout",
     "output_type": "stream",
     "text": [
      " 0.63417070055"
     ]
    },
    {
     "name": "stdout",
     "output_type": "stream",
     "text": [
      " \n\t\t[0.06790123456790123, 0.06051796612206774, 0.054628534362726945, 0.06375241264074764, 0.0737267784442016, 0.08271582779748803, 0.09077639474288256, 0.10386190520050169, 0.10576046203047085, 0.111718393226675]\n"
     ]
    },
    {
     "name": "stdout",
     "output_type": "stream",
     "text": [
      "0.699491982356"
     ]
    },
    {
     "name": "stdout",
     "output_type": "stream",
     "text": [
      " 0.719226057688"
     ]
    },
    {
     "name": "stdout",
     "output_type": "stream",
     "text": [
      " 0.675856549644"
     ]
    },
    {
     "name": "stdout",
     "output_type": "stream",
     "text": [
      " 0.708237182218"
     ]
    },
    {
     "name": "stdout",
     "output_type": "stream",
     "text": [
      " 0.617333225089"
     ]
    },
    {
     "name": "stdout",
     "output_type": "stream",
     "text": [
      " 0.733057582742"
     ]
    },
    {
     "name": "stdout",
     "output_type": "stream",
     "text": [
      " 0.530429248366"
     ]
    },
    {
     "name": "stdout",
     "output_type": "stream",
     "text": [
      " 0.598999238344"
     ]
    },
    {
     "name": "stdout",
     "output_type": "stream",
     "text": [
      " 0.647567745188"
     ]
    },
    {
     "name": "stdout",
     "output_type": "stream",
     "text": [
      " 0.549043951849"
     ]
    },
    {
     "name": "stdout",
     "output_type": "stream",
     "text": [
      " \n\t\t[0.10493827160493828, 0.08658900645666533, 0.08069957469732454, 0.08982345297534522, 0.09979781877879919, 0.10878686813208563, 0.12110411769347766, 0.13420457033196806, 0.13679035142377766, 0.13981117347958932]\n"
     ]
    },
    {
     "name": "stdout",
     "output_type": "stream",
     "text": [
      "0.702210813379"
     ]
    },
    {
     "name": "stdout",
     "output_type": "stream",
     "text": [
      " 0.645691841534"
     ]
    },
    {
     "name": "stdout",
     "output_type": "stream",
     "text": [
      " 0.657072582025"
     ]
    },
    {
     "name": "stdout",
     "output_type": "stream",
     "text": [
      " 0.594235067246"
     ]
    },
    {
     "name": "stdout",
     "output_type": "stream",
     "text": [
      " 0.613524497919"
     ]
    },
    {
     "name": "stdout",
     "output_type": "stream",
     "text": [
      " 0.649621182769"
     ]
    },
    {
     "name": "stdout",
     "output_type": "stream",
     "text": [
      " 0.729819674036"
     ]
    },
    {
     "name": "stdout",
     "output_type": "stream",
     "text": [
      " 0.781670392423"
     ]
    },
    {
     "name": "stdout",
     "output_type": "stream",
     "text": [
      " 0.718197504427"
     ]
    },
    {
     "name": "stdout",
     "output_type": "stream",
     "text": [
      " 0.664787099535"
     ]
    },
    {
     "name": "stdout",
     "output_type": "stream",
     "text": [
      " \n\t\t[0.06790123456790123, 0.05163602291584065, 0.06611523340852192, 0.07542639823404781, 0.08165525072780039, 0.0972822927989743, 0.10098558133141908, 0.1195855687634399, 0.12217134985524952, 0.1251921719110612]\n"
     ]
    },
    {
     "name": "stdout",
     "output_type": "stream",
     "text": [
      "0.764062915582"
     ]
    },
    {
     "name": "stdout",
     "output_type": "stream",
     "text": [
      " 0.598444093147"
     ]
    },
    {
     "name": "stdout",
     "output_type": "stream",
     "text": [
      " 0.643608009577"
     ]
    },
    {
     "name": "stdout",
     "output_type": "stream",
     "text": [
      " 0.816672240015"
     ]
    },
    {
     "name": "stdout",
     "output_type": "stream",
     "text": [
      " 0.710616343608"
     ]
    },
    {
     "name": "stdout",
     "output_type": "stream",
     "text": [
      " 0.671394074632"
     ]
    },
    {
     "name": "stdout",
     "output_type": "stream",
     "text": [
      " 0.600107299898"
     ]
    },
    {
     "name": "stdout",
     "output_type": "stream",
     "text": [
      " 0.655117874978"
     ]
    },
    {
     "name": "stdout",
     "output_type": "stream",
     "text": [
      " 0.686091962596"
     ]
    },
    {
     "name": "stdout",
     "output_type": "stream",
     "text": [
      " 0.529148227241"
     ]
    },
    {
     "name": "stdout",
     "output_type": "stream",
     "text": [
      " \n\t\t[0.06790123456790123, 0.06768190699678146, 0.0627611790507982, 0.06581064433503403, 0.07656738338103068, 0.0912284716915699, 0.09362110147339503, 0.10947071006317811, 0.1126018047120774, 0.11914967386887279]\n"
     ]
    },
    {
     "name": "stdout",
     "output_type": "stream",
     "text": [
      "0.58636167712"
     ]
    },
    {
     "name": "stdout",
     "output_type": "stream",
     "text": [
      " 0.628973107283"
     ]
    },
    {
     "name": "stdout",
     "output_type": "stream",
     "text": [
      " 0.694656679363"
     ]
    },
    {
     "name": "stdout",
     "output_type": "stream",
     "text": [
      " 0.774974264124"
     ]
    },
    {
     "name": "stdout",
     "output_type": "stream",
     "text": [
      " 0.708774041737"
     ]
    },
    {
     "name": "stdout",
     "output_type": "stream",
     "text": [
      " 0.614034844401"
     ]
    },
    {
     "name": "stdout",
     "output_type": "stream",
     "text": [
      " 0.616872436627"
     ]
    },
    {
     "name": "stdout",
     "output_type": "stream",
     "text": [
      " 0.54269540264"
     ]
    },
    {
     "name": "stdout",
     "output_type": "stream",
     "text": [
      " 0.611848760092"
     ]
    },
    {
     "name": "stdout",
     "output_type": "stream",
     "text": [
      " 0.72697024123"
     ]
    },
    {
     "name": "stdout",
     "output_type": "stream",
     "text": [
      " \n\t\t[0.08641975308641976, 0.07287751070595935, 0.06712706058188325, 0.07412718732906044, 0.08445553090587125, 0.09198082964762479, 0.09281951485438145, 0.11155694716434529, 0.11537526607508503, 0.11898602609148792]\n"
     ]
    },
    {
     "name": "stdout",
     "output_type": "stream",
     "text": [
      "0.748077108849"
     ]
    },
    {
     "name": "stdout",
     "output_type": "stream",
     "text": [
      " 0.601275227561"
     ]
    },
    {
     "name": "stdout",
     "output_type": "stream",
     "text": [
      " 0.701804588357"
     ]
    },
    {
     "name": "stdout",
     "output_type": "stream",
     "text": [
      " 0.690789329705"
     ]
    },
    {
     "name": "stdout",
     "output_type": "stream",
     "text": [
      " 0.67481677778"
     ]
    },
    {
     "name": "stdout",
     "output_type": "stream",
     "text": [
      " 0.680737197639"
     ]
    },
    {
     "name": "stdout",
     "output_type": "stream",
     "text": [
      " 0.781661855021"
     ]
    },
    {
     "name": "stdout",
     "output_type": "stream",
     "text": [
      " 0.736685935918"
     ]
    },
    {
     "name": "stdout",
     "output_type": "stream",
     "text": [
      " 0.628649446698"
     ]
    },
    {
     "name": "stdout",
     "output_type": "stream",
     "text": [
      " 0.611352467535"
     ]
    },
    {
     "name": "stdout",
     "output_type": "stream",
     "text": [
      " \n\t\t[0.030864197530864196, 0.05970374443131772, 0.06271427804780866, 0.07237257772631399, 0.07874608464203377, 0.08809398396931924, 0.10364410551765661, 0.11678813823850966, 0.11938673861510823, 0.123371079006556]\n"
     ]
    },
    {
     "name": "stdout",
     "output_type": "stream",
     "text": [
      "0.675334918793"
     ]
    },
    {
     "name": "stdout",
     "output_type": "stream",
     "text": [
      " 0.62243850786"
     ]
    },
    {
     "name": "stdout",
     "output_type": "stream",
     "text": [
      " 0.654687597591"
     ]
    },
    {
     "name": "stdout",
     "output_type": "stream",
     "text": [
      " 0.807270719095"
     ]
    },
    {
     "name": "stdout",
     "output_type": "stream",
     "text": [
      " 0.689009581142"
     ]
    },
    {
     "name": "stdout",
     "output_type": "stream",
     "text": [
      " 0.673571878016"
     ]
    },
    {
     "name": "stdout",
     "output_type": "stream",
     "text": [
      " 0.551687192747"
     ]
    },
    {
     "name": "stdout",
     "output_type": "stream",
     "text": [
      " 0.641235333135"
     ]
    },
    {
     "name": "stdout",
     "output_type": "stream",
     "text": [
      " 0.689265355507"
     ]
    },
    {
     "name": "stdout",
     "output_type": "stream",
     "text": [
      " 0.655269345599"
     ]
    },
    {
     "name": "stdout",
     "output_type": "stream",
     "text": [
      " \n\t\t[0.06790123456790123, 0.06051796612206774, 0.054628534362726945, 0.059273820051725275, 0.06947888372746158, 0.0786602898298377, 0.08680500069449844, 0.09995233612233997, 0.10255985548565798, 0.10720055671862488]\n"
     ]
    },
    {
     "name": "stdout",
     "output_type": "stream",
     "text": [
      "0.658830588414"
     ]
    },
    {
     "name": "stdout",
     "output_type": "stream",
     "text": [
      " 0.655817012369"
     ]
    },
    {
     "name": "stdout",
     "output_type": "stream",
     "text": [
      " 0.608881371064"
     ]
    },
    {
     "name": "stdout",
     "output_type": "stream",
     "text": [
      " 0.690920724537"
     ]
    },
    {
     "name": "stdout",
     "output_type": "stream",
     "text": [
      " 0.614492210304"
     ]
    },
    {
     "name": "stdout",
     "output_type": "stream",
     "text": [
      " 0.598721320546"
     ]
    },
    {
     "name": "stdout",
     "output_type": "stream",
     "text": [
      " 0.600146523408"
     ]
    },
    {
     "name": "stdout",
     "output_type": "stream",
     "text": [
      " 0.78458531751"
     ]
    },
    {
     "name": "stdout",
     "output_type": "stream",
     "text": [
      " 0.658504412457"
     ]
    },
    {
     "name": "stdout",
     "output_type": "stream",
     "text": [
      " 0.677376039373"
     ]
    },
    {
     "name": "stdout",
     "output_type": "stream",
     "text": [
      " \n\t\t[0.030864197530864196, 0.05213669258388563, 0.04781410411565331, 0.05728511724665343, 0.06740413747207459, 0.08299752872932117, 0.08512071883431822, 0.09679291735142678, 0.09939151772802537, 0.10241847556531855]\n"
     ]
    },
    {
     "name": "stdout",
     "output_type": "stream",
     "text": [
      "0.642646339819"
     ]
    },
    {
     "name": "stdout",
     "output_type": "stream",
     "text": [
      " 0.672454803059"
     ]
    },
    {
     "name": "stdout",
     "output_type": "stream",
     "text": [
      " 0.605227495188"
     ]
    },
    {
     "name": "stdout",
     "output_type": "stream",
     "text": [
      " 0.579125138596"
     ]
    },
    {
     "name": "stdout",
     "output_type": "stream",
     "text": [
      " 0.649652199332"
     ]
    },
    {
     "name": "stdout",
     "output_type": "stream",
     "text": [
      " 0.702469723087"
     ]
    },
    {
     "name": "stdout",
     "output_type": "stream",
     "text": [
      " 0.598119877755"
     ]
    },
    {
     "name": "stdout",
     "output_type": "stream",
     "text": [
      " 0.81640555433"
     ]
    },
    {
     "name": "stdout",
     "output_type": "stream",
     "text": [
      " 0.623542475087"
     ]
    },
    {
     "name": "stdout",
     "output_type": "stream",
     "text": [
      " 0.613117886344"
     ]
    },
    {
     "name": "stdout",
     "output_type": "stream",
     "text": [
      " \n\t\t[0.08641975308641976, 0.06571356983124563, 0.058994415893812005, 0.07206895563477404, 0.08161492596904214, 0.08926756947079323, 0.09508936233961943, 0.10606697313567996, 0.10925407873313861, 0.110360190227891]\n"
     ]
    },
    {
     "name": "stdout",
     "output_type": "stream",
     "text": [
      "0.64834046381"
     ]
    },
    {
     "name": "stdout",
     "output_type": "stream",
     "text": [
      " 0.652466546877"
     ]
    },
    {
     "name": "stdout",
     "output_type": "stream",
     "text": [
      " 0.685873579824"
     ]
    },
    {
     "name": "stdout",
     "output_type": "stream",
     "text": [
      " 0.684266057407"
     ]
    },
    {
     "name": "stdout",
     "output_type": "stream",
     "text": [
      " 0.583480620783"
     ]
    },
    {
     "name": "stdout",
     "output_type": "stream",
     "text": [
      " 0.726624243744"
     ]
    },
    {
     "name": "stdout",
     "output_type": "stream",
     "text": [
      " 0.668655228485"
     ]
    },
    {
     "name": "stdout",
     "output_type": "stream",
     "text": [
      " 0.662998539948"
     ]
    },
    {
     "name": "stdout",
     "output_type": "stream",
     "text": [
      " 0.663326834132"
     ]
    },
    {
     "name": "stdout",
     "output_type": "stream",
     "text": [
      " 0.710725063883"
     ]
    },
    {
     "name": "stdout",
     "output_type": "stream",
     "text": [
      " \n\t\t[0.030864197530864196, 0.05213669258388563, 0.04781410411565331, 0.05728511724665343, 0.06740413747207459, 0.07577338278669037, 0.08389888634359666, 0.09766752945307788, 0.099579082460746, 0.10554323410588846]\n"
     ]
    },
    {
     "name": "stdout",
     "output_type": "stream",
     "text": [
      "0.605235985337"
     ]
    },
    {
     "name": "stdout",
     "output_type": "stream",
     "text": [
      " 0.592365392154"
     ]
    },
    {
     "name": "stdout",
     "output_type": "stream",
     "text": [
      " 0.64618079128"
     ]
    },
    {
     "name": "stdout",
     "output_type": "stream",
     "text": [
      " 0.661487778138"
     ]
    },
    {
     "name": "stdout",
     "output_type": "stream",
     "text": [
      " 0.727346420086"
     ]
    },
    {
     "name": "stdout",
     "output_type": "stream",
     "text": [
      " 0.664452944973"
     ]
    },
    {
     "name": "stdout",
     "output_type": "stream",
     "text": [
      " 0.729587591293"
     ]
    },
    {
     "name": "stdout",
     "output_type": "stream",
     "text": [
      " 0.696102139313"
     ]
    },
    {
     "name": "stdout",
     "output_type": "stream",
     "text": [
      " 0.681276206742"
     ]
    },
    {
     "name": "stdout",
     "output_type": "stream",
     "text": [
      " 0.770810153607"
     ]
    },
    {
     "name": "stdout",
     "output_type": "stream",
     "text": [
      " \n\t\t[0.06790123456790123, 0.06051796612206774, 0.054628534362726945, 0.06375241264074764, 0.0737267784442016, 0.08271582779748803, 0.09077639474288256, 0.10242154961993917, 0.10500733071174878, 0.10898553532171507]\n"
     ]
    },
    {
     "name": "stdout",
     "output_type": "stream",
     "text": [
      "0.668814290647"
     ]
    },
    {
     "name": "stdout",
     "output_type": "stream",
     "text": [
      " 0.63422739504"
     ]
    },
    {
     "name": "stdout",
     "output_type": "stream",
     "text": [
      " 0.73183320575"
     ]
    },
    {
     "name": "stdout",
     "output_type": "stream",
     "text": [
      " 0.84035768432"
     ]
    },
    {
     "name": "stdout",
     "output_type": "stream",
     "text": [
      " 0.766998502908"
     ]
    },
    {
     "name": "stdout",
     "output_type": "stream",
     "text": [
      " 0.708292933543"
     ]
    },
    {
     "name": "stdout",
     "output_type": "stream",
     "text": [
      " 0.678625567108"
     ]
    },
    {
     "name": "stdout",
     "output_type": "stream",
     "text": [
      " 0.792997044782"
     ]
    },
    {
     "name": "stdout",
     "output_type": "stream",
     "text": [
      " 0.570211478703"
     ]
    },
    {
     "name": "stdout",
     "output_type": "stream",
     "text": [
      " 0.648539707399"
     ]
    },
    {
     "name": "stdout",
     "output_type": "stream",
     "text": [
      " \n\t\t[0.06790123456790123, 0.06051796612206774, 0.054628534362726945, 0.059273820051725275, 0.06947888372746158, 0.0850670209007539, 0.08875329099947124, 0.0902017999210442, 0.1032713541211877, 0.10893439938623786]\n"
     ]
    },
    {
     "name": "stdout",
     "output_type": "stream",
     "text": [
      "0.707241021526"
     ]
    },
    {
     "name": "stdout",
     "output_type": "stream",
     "text": [
      " 0.645789042177"
     ]
    },
    {
     "name": "stdout",
     "output_type": "stream",
     "text": [
      " 0.525575664165"
     ]
    },
    {
     "name": "stdout",
     "output_type": "stream",
     "text": [
      " 0.646787556948"
     ]
    },
    {
     "name": "stdout",
     "output_type": "stream",
     "text": [
      " 0.616013926849"
     ]
    },
    {
     "name": "stdout",
     "output_type": "stream",
     "text": [
      " 0.601272416954"
     ]
    },
    {
     "name": "stdout",
     "output_type": "stream",
     "text": [
      " 0.701746859296"
     ]
    },
    {
     "name": "stdout",
     "output_type": "stream",
     "text": [
      " 0.820100570255"
     ]
    },
    {
     "name": "stdout",
     "output_type": "stream",
     "text": [
      " 0.613574110413"
     ]
    },
    {
     "name": "stdout",
     "output_type": "stream",
     "text": [
      " 0.716425230266"
     ]
    },
    {
     "name": "stdout",
     "output_type": "stream",
     "text": [
      " \n\t\t[0.06790123456790123, 0.06808501796949983, 0.06952870829488231, 0.0788398731204082, 0.08506872561416078, 0.09428903661441852, 0.10978121233440807, 0.11121431708981179, 0.12494935728028737, 0.12797017933609903]\n"
     ]
    },
    {
     "name": "stdout",
     "output_type": "stream",
     "text": [
      "0.640830357839"
     ]
    },
    {
     "name": "stdout",
     "output_type": "stream",
     "text": [
      " 0.683101261559"
     ]
    },
    {
     "name": "stdout",
     "output_type": "stream",
     "text": [
      " 0.607756188965"
     ]
    },
    {
     "name": "stdout",
     "output_type": "stream",
     "text": [
      " 0.760667963547"
     ]
    },
    {
     "name": "stdout",
     "output_type": "stream",
     "text": [
      " 0.741252286681"
     ]
    },
    {
     "name": "stdout",
     "output_type": "stream",
     "text": [
      " 0.629487510987"
     ]
    },
    {
     "name": "stdout",
     "output_type": "stream",
     "text": [
      " 0.74893429944"
     ]
    },
    {
     "name": "stdout",
     "output_type": "stream",
     "text": [
      " 0.582646960901"
     ]
    },
    {
     "name": "stdout",
     "output_type": "stream",
     "text": [
      " 0.609878888073"
     ]
    },
    {
     "name": "stdout",
     "output_type": "stream",
     "text": [
      " 0.742535554953"
     ]
    },
    {
     "name": "stdout",
     "output_type": "stream",
     "text": [
      " \n\t\t[0.030864197530864196, 0.043254749377658545, 0.04626528299414949, 0.05592358267265479, 0.06229708958837459, 0.07059575830320287, 0.07826979269194242, 0.09288837628856621, 0.0954870759777105, 0.09725922510341307]\n"
     ]
    },
    {
     "name": "stdout",
     "output_type": "stream",
     "text": [
      "0.741936982215"
     ]
    },
    {
     "name": "stdout",
     "output_type": "stream",
     "text": [
      " 0.613821535525"
     ]
    },
    {
     "name": "stdout",
     "output_type": "stream",
     "text": [
      " 0.708238760668"
     ]
    },
    {
     "name": "stdout",
     "output_type": "stream",
     "text": [
      " 0.664653443359"
     ]
    },
    {
     "name": "stdout",
     "output_type": "stream",
     "text": [
      " 0.647329392553"
     ]
    },
    {
     "name": "stdout",
     "output_type": "stream",
     "text": [
      " 0.698296779614"
     ]
    },
    {
     "name": "stdout",
     "output_type": "stream",
     "text": [
      " 0.786706938897"
     ]
    },
    {
     "name": "stdout",
     "output_type": "stream",
     "text": [
      " 0.737149143895"
     ]
    },
    {
     "name": "stdout",
     "output_type": "stream",
     "text": [
      " 0.641266628517"
     ]
    },
    {
     "name": "stdout",
     "output_type": "stream",
     "text": [
      " 0.699509410879"
     ]
    },
    {
     "name": "stdout",
     "output_type": "stream",
     "text": [
      " \n\t\t[0.030864197530864196, 0.05213669258388563, 0.04319816019101007, 0.051017605841979646, 0.06624727098605135, 0.08111661497345377, 0.08395025500343022, 0.09562761126073814, 0.09822865652050909, 0.10221416712302095]\n"
     ]
    },
    {
     "name": "stdout",
     "output_type": "stream",
     "text": [
      "0.553728424495"
     ]
    },
    {
     "name": "stdout",
     "output_type": "stream",
     "text": [
      " 0.70416909106"
     ]
    },
    {
     "name": "stdout",
     "output_type": "stream",
     "text": [
      " 0.569107929106"
     ]
    },
    {
     "name": "stdout",
     "output_type": "stream",
     "text": [
      " 0.547917709676"
     ]
    },
    {
     "name": "stdout",
     "output_type": "stream",
     "text": [
      " 0.608463063924"
     ]
    },
    {
     "name": "stdout",
     "output_type": "stream",
     "text": [
      " 0.60965857023"
     ]
    },
    {
     "name": "stdout",
     "output_type": "stream",
     "text": [
      " 0.628807652379"
     ]
    },
    {
     "name": "stdout",
     "output_type": "stream",
     "text": [
      " 0.64478274433"
     ]
    },
    {
     "name": "stdout",
     "output_type": "stream",
     "text": [
      " 0.676267221182"
     ]
    },
    {
     "name": "stdout",
     "output_type": "stream",
     "text": [
      " 0.699897731418"
     ]
    },
    {
     "name": "stdout",
     "output_type": "stream",
     "text": [
      " \n\t\t[0.06790123456790123, 0.06051796612206774, 0.054628534362726945, 0.06375241264074764, 0.0737267784442016, 0.08912255886840423, 0.08965092124225149, 0.10753400755831352, 0.11011978865012315, 0.11409799326008943]\n"
     ]
    },
    {
     "name": "stdout",
     "output_type": "stream",
     "text": [
      "0.640859056751"
     ]
    },
    {
     "name": "stdout",
     "output_type": "stream",
     "text": [
      " 0.70997252944"
     ]
    },
    {
     "name": "stdout",
     "output_type": "stream",
     "text": [
      " 0.606194917192"
     ]
    },
    {
     "name": "stdout",
     "output_type": "stream",
     "text": [
      " 0.713762594002"
     ]
    },
    {
     "name": "stdout",
     "output_type": "stream",
     "text": [
      " 0.627587958759"
     ]
    },
    {
     "name": "stdout",
     "output_type": "stream",
     "text": [
      " 0.625123937914"
     ]
    },
    {
     "name": "stdout",
     "output_type": "stream",
     "text": [
      " 0.649301679297"
     ]
    },
    {
     "name": "stdout",
     "output_type": "stream",
     "text": [
      " 0.611824077064"
     ]
    },
    {
     "name": "stdout",
     "output_type": "stream",
     "text": [
      " 0.649149627892"
     ]
    },
    {
     "name": "stdout",
     "output_type": "stream",
     "text": [
      " 0.621522892389"
     ]
    },
    {
     "name": "stdout",
     "output_type": "stream",
     "text": [
      " \n\t\t[0.06790123456790123, 0.06051796612206774, 0.054628534362726945, 0.06375241264074764, 0.0737267784442016, 0.08166659718503087, 0.09423505341485375, 0.09421557708085, 0.10795071658387129, 0.11163149503640159]\n"
     ]
    },
    {
     "name": "stdout",
     "output_type": "stream",
     "text": [
      "0.671176420798"
     ]
    },
    {
     "name": "stdout",
     "output_type": "stream",
     "text": [
      " 0.612585076016"
     ]
    },
    {
     "name": "stdout",
     "output_type": "stream",
     "text": [
      " 0.605188194556"
     ]
    },
    {
     "name": "stdout",
     "output_type": "stream",
     "text": [
      " 0.87132340856"
     ]
    },
    {
     "name": "stdout",
     "output_type": "stream",
     "text": [
      " 0.542091270371"
     ]
    },
    {
     "name": "stdout",
     "output_type": "stream",
     "text": [
      " 0.629829829341"
     ]
    },
    {
     "name": "stdout",
     "output_type": "stream",
     "text": [
      " 0.675211058491"
     ]
    },
    {
     "name": "stdout",
     "output_type": "stream",
     "text": [
      " 0.549566467867"
     ]
    },
    {
     "name": "stdout",
     "output_type": "stream",
     "text": [
      " 0.770988169279"
     ]
    },
    {
     "name": "stdout",
     "output_type": "stream",
     "text": [
      " 0.673111502961"
     ]
    },
    {
     "name": "stdout",
     "output_type": "stream",
     "text": [
      " \n\t\t[0.06790123456790123, 0.06051796612206774, 0.054628534362726945, 0.06375241264074764, 0.0737267784442016, 0.08271582779748803, 0.08920933782154616, 0.09062590613463917, 0.10436094632511475, 0.10833915093508105]\n"
     ]
    },
    {
     "name": "stdout",
     "output_type": "stream",
     "text": [
      "0.66816187219"
     ]
    },
    {
     "name": "stdout",
     "output_type": "stream",
     "text": [
      " 0.663024580976"
     ]
    },
    {
     "name": "stdout",
     "output_type": "stream",
     "text": [
      " 0.724406794375"
     ]
    },
    {
     "name": "stdout",
     "output_type": "stream",
     "text": [
      " 0.705686812666"
     ]
    },
    {
     "name": "stdout",
     "output_type": "stream",
     "text": [
      " 0.724652292222"
     ]
    },
    {
     "name": "stdout",
     "output_type": "stream",
     "text": [
      " 0.694880639218"
     ]
    },
    {
     "name": "stdout",
     "output_type": "stream",
     "text": [
      " 0.626859988129"
     ]
    },
    {
     "name": "stdout",
     "output_type": "stream",
     "text": [
      " 0.562213983588"
     ]
    },
    {
     "name": "stdout",
     "output_type": "stream",
     "text": [
      " 0.561915980107"
     ]
    },
    {
     "name": "stdout",
     "output_type": "stream",
     "text": [
      " 0.637776631914"
     ]
    },
    {
     "name": "stdout",
     "output_type": "stream",
     "text": [
      " \n\t\t[0.06790123456790123, 0.07696696117572692, 0.07107752941638613, 0.08020140769440681, 0.09017577349786077, 0.09245625353347228, 0.10526665495077593, 0.11693085343182764, 0.1257465618466481, 0.1275117216279333]\n"
     ]
    },
    {
     "name": "stdout",
     "output_type": "stream",
     "text": [
      "0.670093945846"
     ]
    },
    {
     "name": "stdout",
     "output_type": "stream",
     "text": [
      " 0.698870660612"
     ]
    },
    {
     "name": "stdout",
     "output_type": "stream",
     "text": [
      " 0.716001009615"
     ]
    },
    {
     "name": "stdout",
     "output_type": "stream",
     "text": [
      " 0.668022529166"
     ]
    },
    {
     "name": "stdout",
     "output_type": "stream",
     "text": [
      " 0.698291977565"
     ]
    },
    {
     "name": "stdout",
     "output_type": "stream",
     "text": [
      " 0.682622912806"
     ]
    },
    {
     "name": "stdout",
     "output_type": "stream",
     "text": [
      " 0.755242799834"
     ]
    },
    {
     "name": "stdout",
     "output_type": "stream",
     "text": [
      " 0.656031821856"
     ]
    },
    {
     "name": "stdout",
     "output_type": "stream",
     "text": [
      " 0.643443399782"
     ]
    },
    {
     "name": "stdout",
     "output_type": "stream",
     "text": [
      " 0.633801685256"
     ]
    },
    {
     "name": "stdout",
     "output_type": "stream",
     "text": [
      " \n\t\t[0.10493827160493828, 0.07434517820345021, 0.07046040679762153, 0.07817638787308857, 0.08378032062777604, 0.09300063162803378, 0.09962547902362001, 0.10294621197614463, 0.11728071368334952, 0.11904584182686895]\n"
     ]
    },
    {
     "name": "stdout",
     "output_type": "stream",
     "text": [
      "0.705197746697"
     ]
    },
    {
     "name": "stdout",
     "output_type": "stream",
     "text": [
      " 0.641880694205"
     ]
    },
    {
     "name": "stdout",
     "output_type": "stream",
     "text": [
      " 0.661133087767"
     ]
    },
    {
     "name": "stdout",
     "output_type": "stream",
     "text": [
      " 0.693984346404"
     ]
    },
    {
     "name": "stdout",
     "output_type": "stream",
     "text": [
      " 0.61319147263"
     ]
    },
    {
     "name": "stdout",
     "output_type": "stream",
     "text": [
      " 0.685414404381"
     ]
    },
    {
     "name": "stdout",
     "output_type": "stream",
     "text": [
      " 0.658658235794"
     ]
    },
    {
     "name": "stdout",
     "output_type": "stream",
     "text": [
      " 0.674991105119"
     ]
    },
    {
     "name": "stdout",
     "output_type": "stream",
     "text": [
      " 0.733239120411"
     ]
    },
    {
     "name": "stdout",
     "output_type": "stream",
     "text": [
      " 0.824322312097"
     ]
    },
    {
     "name": "stdout",
     "output_type": "stream",
     "text": [
      " \n\t\t[0.030864197530864196, 0.05213669258388563, 0.04319816019101007, 0.051017605841979646, 0.06624727098605135, 0.06793129207884639, 0.08151008924947728, 0.09798912278835196, 0.10059016804812293, 0.1039157697885555]\n"
     ]
    },
    {
     "name": "stdout",
     "output_type": "stream",
     "text": [
      "0.629451312602"
     ]
    },
    {
     "name": "stdout",
     "output_type": "stream",
     "text": [
      " 0.761602996167"
     ]
    },
    {
     "name": "stdout",
     "output_type": "stream",
     "text": [
      " 0.581197683685"
     ]
    },
    {
     "name": "stdout",
     "output_type": "stream",
     "text": [
      " 0.598825781589"
     ]
    },
    {
     "name": "stdout",
     "output_type": "stream",
     "text": [
      " 0.733615838815"
     ]
    },
    {
     "name": "stdout",
     "output_type": "stream",
     "text": [
      " 0.579884931898"
     ]
    },
    {
     "name": "stdout",
     "output_type": "stream",
     "text": [
      " 0.672747731663"
     ]
    },
    {
     "name": "stdout",
     "output_type": "stream",
     "text": [
      " 0.631031500003"
     ]
    },
    {
     "name": "stdout",
     "output_type": "stream",
     "text": [
      " 0.79640504393"
     ]
    },
    {
     "name": "stdout",
     "output_type": "stream",
     "text": [
      " 0.657085885527"
     ]
    },
    {
     "name": "stdout",
     "output_type": "stream",
     "text": [
      " \n\t\t[0.06790123456790123, 0.05163602291584065, 0.05307971324122313, 0.05791228547772666, 0.06437183584376159, 0.0730371112274106, 0.0819828319039047, 0.08971590257887817, 0.10347278035340783, 0.10781605542893873]\n"
     ]
    },
    {
     "name": "stdout",
     "output_type": "stream",
     "text": [
      "0.596810729711"
     ]
    },
    {
     "name": "stdout",
     "output_type": "stream",
     "text": [
      " 0.669949634768"
     ]
    },
    {
     "name": "stdout",
     "output_type": "stream",
     "text": [
      " 0.664728838686"
     ]
    },
    {
     "name": "stdout",
     "output_type": "stream",
     "text": [
      " 0.642283620569"
     ]
    },
    {
     "name": "stdout",
     "output_type": "stream",
     "text": [
      " 0.73846040413"
     ]
    },
    {
     "name": "stdout",
     "output_type": "stream",
     "text": [
      " 0.768688844368"
     ]
    },
    {
     "name": "stdout",
     "output_type": "stream",
     "text": [
      " 0.739644459116"
     ]
    },
    {
     "name": "stdout",
     "output_type": "stream",
     "text": [
      " 0.777825150303"
     ]
    },
    {
     "name": "stdout",
     "output_type": "stream",
     "text": [
      " 0.636772623121"
     ]
    },
    {
     "name": "stdout",
     "output_type": "stream",
     "text": [
      " 0.641796865975"
     ]
    },
    {
     "name": "stdout",
     "output_type": "stream",
     "text": [
      " \n\t\t[0.06790123456790123, 0.06051796612206774, 0.054628534362726945, 0.059273820051725275, 0.06947888372746158, 0.0779128974641393, 0.08675745578763976, 0.10468763440339487, 0.10791643898976011, 0.1151302496711618]\n"
     ]
    },
    {
     "name": "stdout",
     "output_type": "stream",
     "text": [
      "0.779274664858"
     ]
    },
    {
     "name": "stdout",
     "output_type": "stream",
     "text": [
      " 0.654968962394"
     ]
    },
    {
     "name": "stdout",
     "output_type": "stream",
     "text": [
      " 0.629851188569"
     ]
    },
    {
     "name": "stdout",
     "output_type": "stream",
     "text": [
      " 0.743546420776"
     ]
    },
    {
     "name": "stdout",
     "output_type": "stream",
     "text": [
      " 0.646168680562"
     ]
    },
    {
     "name": "stdout",
     "output_type": "stream",
     "text": [
      " 0.666528212388"
     ]
    },
    {
     "name": "stdout",
     "output_type": "stream",
     "text": [
      " 0.847762777681"
     ]
    },
    {
     "name": "stdout",
     "output_type": "stream",
     "text": [
      " 0.631157178654"
     ]
    },
    {
     "name": "stdout",
     "output_type": "stream",
     "text": [
      " 0.628237211054"
     ]
    },
    {
     "name": "stdout",
     "output_type": "stream",
     "text": [
      " 0.620665326044"
     ]
    },
    {
     "name": "stdout",
     "output_type": "stream",
     "text": [
      " \n\t\t[0.06790123456790123, 0.06051796612206774, 0.054628534362726945, 0.06375241264074764, 0.0737267784442016, 0.0849580048945832, 0.09215357426335966, 0.105241185862811, 0.10981651445168548, 0.11570495868124905]\n"
     ]
    },
    {
     "name": "stdout",
     "output_type": "stream",
     "text": [
      "0.754311616297"
     ]
    },
    {
     "name": "stdout",
     "output_type": "stream",
     "text": [
      " 0.645910768583"
     ]
    },
    {
     "name": "stdout",
     "output_type": "stream",
     "text": [
      " 0.705922479473"
     ]
    },
    {
     "name": "stdout",
     "output_type": "stream",
     "text": [
      " 0.733253241014"
     ]
    },
    {
     "name": "stdout",
     "output_type": "stream",
     "text": [
      " 0.678994677411"
     ]
    },
    {
     "name": "stdout",
     "output_type": "stream",
     "text": [
      " 0.700611679973"
     ]
    },
    {
     "name": "stdout",
     "output_type": "stream",
     "text": [
      " 0.675631265982"
     ]
    },
    {
     "name": "stdout",
     "output_type": "stream",
     "text": [
      " 0.679682281638"
     ]
    },
    {
     "name": "stdout",
     "output_type": "stream",
     "text": [
      " 0.587713177488"
     ]
    },
    {
     "name": "stdout",
     "output_type": "stream",
     "text": [
      " 0.625219292767"
     ]
    },
    {
     "name": "stdout",
     "output_type": "stream",
     "text": [
      " \n\t\t[0.06790123456790123, 0.07696696117572692, 0.07107752941638613, 0.07572281510538445, 0.08592787878112075, 0.09436189251779849, 0.11232616220831505, 0.13025046174470356, 0.131478041175054, 0.1339038735742322]\n"
     ]
    },
    {
     "name": "stdout",
     "output_type": "stream",
     "text": [
      "0.582665764652"
     ]
    },
    {
     "name": "stdout",
     "output_type": "stream",
     "text": [
      " 0.576296135407"
     ]
    },
    {
     "name": "stdout",
     "output_type": "stream",
     "text": [
      " 0.612090606368"
     ]
    },
    {
     "name": "stdout",
     "output_type": "stream",
     "text": [
      " 0.595617591969"
     ]
    },
    {
     "name": "stdout",
     "output_type": "stream",
     "text": [
      " 0.628179965492"
     ]
    },
    {
     "name": "stdout",
     "output_type": "stream",
     "text": [
      " 0.730872413674"
     ]
    },
    {
     "name": "stdout",
     "output_type": "stream",
     "text": [
      " 0.675787282346"
     ]
    },
    {
     "name": "stdout",
     "output_type": "stream",
     "text": [
      " 0.612435101658"
     ]
    },
    {
     "name": "stdout",
     "output_type": "stream",
     "text": [
      " 0.730381309404"
     ]
    },
    {
     "name": "stdout",
     "output_type": "stream",
     "text": [
      " 0.576599108976"
     ]
    },
    {
     "name": "stdout",
     "output_type": "stream",
     "text": [
      " \n\t\t[0.06790123456790123, 0.06051796612206774, 0.054628534362726945, 0.059273820051725275, 0.06947888372746158, 0.07761105921738054, 0.08367324744124288, 0.09829513374485517, 0.10389620407199257, 0.10691724333847533]\n"
     ]
    },
    {
     "name": "stdout",
     "output_type": "stream",
     "text": [
      "0.696956615866"
     ]
    },
    {
     "name": "stdout",
     "output_type": "stream",
     "text": [
      " 0.673028882628"
     ]
    },
    {
     "name": "stdout",
     "output_type": "stream",
     "text": [
      " 0.738409383294"
     ]
    },
    {
     "name": "stdout",
     "output_type": "stream",
     "text": [
      " 0.59196607076"
     ]
    },
    {
     "name": "stdout",
     "output_type": "stream",
     "text": [
      " 0.639857307254"
     ]
    },
    {
     "name": "stdout",
     "output_type": "stream",
     "text": [
      " 0.723328126806"
     ]
    },
    {
     "name": "stdout",
     "output_type": "stream",
     "text": [
      " 0.625569157205"
     ]
    },
    {
     "name": "stdout",
     "output_type": "stream",
     "text": [
      " 0.648024705225"
     ]
    },
    {
     "name": "stdout",
     "output_type": "stream",
     "text": [
      " 0.620072176858"
     ]
    },
    {
     "name": "stdout",
     "output_type": "stream",
     "text": [
      " 0.562179333614"
     ]
    },
    {
     "name": "stdout",
     "output_type": "stream",
     "text": [
      " \n\t\t[0.018518518518518517, 0.04892934415690617, 0.04047077560116655, 0.04845535479118067, 0.06375285014440667, 0.07187363795547728, 0.07837233638900759, 0.0958942668825868, 0.09712499035684562, 0.10081500368867742]\n"
     ]
    },
    {
     "name": "stdout",
     "output_type": "stream",
     "text": [
      "0.595939031425"
     ]
    },
    {
     "name": "stdout",
     "output_type": "stream",
     "text": [
      " 0.685998705868"
     ]
    },
    {
     "name": "stdout",
     "output_type": "stream",
     "text": [
      " 0.654532142489"
     ]
    },
    {
     "name": "stdout",
     "output_type": "stream",
     "text": [
      " 0.591695739796"
     ]
    },
    {
     "name": "stdout",
     "output_type": "stream",
     "text": [
      " 0.66006634704"
     ]
    },
    {
     "name": "stdout",
     "output_type": "stream",
     "text": [
      " 0.623221155021"
     ]
    },
    {
     "name": "stdout",
     "output_type": "stream",
     "text": [
      " 0.583121414696"
     ]
    },
    {
     "name": "stdout",
     "output_type": "stream",
     "text": [
      " 0.712951347795"
     ]
    },
    {
     "name": "stdout",
     "output_type": "stream",
     "text": [
      " 0.656543033183"
     ]
    },
    {
     "name": "stdout",
     "output_type": "stream",
     "text": [
      " 0.668160200355"
     ]
    },
    {
     "name": "stdout",
     "output_type": "stream",
     "text": [
      " \n\t\t[0.06790123456790123, 0.05708196145904102, 0.0565821861695699, 0.06047357661882645, 0.07093364709260169, 0.08316573105821716, 0.08919851383433801, 0.09303365203282318, 0.10715748917250494, 0.11160878463915323]\n"
     ]
    },
    {
     "name": "stdout",
     "output_type": "stream",
     "text": [
      "0.664255604293"
     ]
    },
    {
     "name": "stdout",
     "output_type": "stream",
     "text": [
      " 0.713999226619"
     ]
    },
    {
     "name": "stdout",
     "output_type": "stream",
     "text": [
      " 0.643303402745"
     ]
    },
    {
     "name": "stdout",
     "output_type": "stream",
     "text": [
      " 0.6183245655"
     ]
    },
    {
     "name": "stdout",
     "output_type": "stream",
     "text": [
      " 0.748214861969"
     ]
    },
    {
     "name": "stdout",
     "output_type": "stream",
     "text": [
      " 0.653452896666"
     ]
    },
    {
     "name": "stdout",
     "output_type": "stream",
     "text": [
      " 0.758476122315"
     ]
    },
    {
     "name": "stdout",
     "output_type": "stream",
     "text": [
      " 0.65955188765"
     ]
    },
    {
     "name": "stdout",
     "output_type": "stream",
     "text": [
      " 0.575184881773"
     ]
    },
    {
     "name": "stdout",
     "output_type": "stream",
     "text": [
      " 0.729256364884"
     ]
    },
    {
     "name": "stdout",
     "output_type": "stream",
     "text": [
      " \n\t\t[0.06790123456790123, 0.06051796612206774, 0.054628534362726945, 0.06375241264074764, 0.0737267784442016, 0.08166659718503087, 0.08848866671675318, 0.10080895420961504, 0.10339491219433461, 0.10671329260967842]\n"
     ]
    },
    {
     "name": "stdout",
     "output_type": "stream",
     "text": [
      "0.734289486817"
     ]
    },
    {
     "name": "stdout",
     "output_type": "stream",
     "text": [
      " 0.799403459047"
     ]
    },
    {
     "name": "stdout",
     "output_type": "stream",
     "text": [
      " 0.628882517944"
     ]
    },
    {
     "name": "stdout",
     "output_type": "stream",
     "text": [
      " 0.69646460593"
     ]
    },
    {
     "name": "stdout",
     "output_type": "stream",
     "text": [
      " 0.628594860279"
     ]
    },
    {
     "name": "stdout",
     "output_type": "stream",
     "text": [
      " 0.684272832357"
     ]
    },
    {
     "name": "stdout",
     "output_type": "stream",
     "text": [
      " 0.736520857008"
     ]
    },
    {
     "name": "stdout",
     "output_type": "stream",
     "text": [
      " 0.674273174057"
     ]
    },
    {
     "name": "stdout",
     "output_type": "stream",
     "text": [
      " 0.610434343922"
     ]
    },
    {
     "name": "stdout",
     "output_type": "stream",
     "text": [
      " 0.599467366759"
     ]
    },
    {
     "name": "stdout",
     "output_type": "stream",
     "text": [
      " \n\t\t[0.06790123456790123, 0.06051796612206774, 0.054628534362726945, 0.06375241264074764, 0.0737267784442016, 0.08912255886840423, 0.08965092124225149, 0.10753400755831352, 0.10874534012644223, 0.11051130593602397]\n"
     ]
    },
    {
     "name": "stdout",
     "output_type": "stream",
     "text": [
      "0.606491393378"
     ]
    },
    {
     "name": "stdout",
     "output_type": "stream",
     "text": [
      " 0.53639463172"
     ]
    },
    {
     "name": "stdout",
     "output_type": "stream",
     "text": [
      " 0.619256853393"
     ]
    },
    {
     "name": "stdout",
     "output_type": "stream",
     "text": [
      " 0.700798226524"
     ]
    },
    {
     "name": "stdout",
     "output_type": "stream",
     "text": [
      " 0.637004566619"
     ]
    },
    {
     "name": "stdout",
     "output_type": "stream",
     "text": [
      " 0.65195248401"
     ]
    },
    {
     "name": "stdout",
     "output_type": "stream",
     "text": [
      " 0.659945326412"
     ]
    },
    {
     "name": "stdout",
     "output_type": "stream",
     "text": [
      " 0.522842427798"
     ]
    },
    {
     "name": "stdout",
     "output_type": "stream",
     "text": [
      " 0.6060467266"
     ]
    },
    {
     "name": "stdout",
     "output_type": "stream",
     "text": [
      " 0.73375169867"
     ]
    },
    {
     "name": "stdout",
     "output_type": "stream",
     "text": [
      " \n\t\t[0.030864197530864196, 0.05213669258388563, 0.04319816019101007, 0.04653901325295729, 0.06199937626931134, 0.07058432342887101, 0.07880457337118323, 0.08573873903291863, 0.09813641071954728, 0.1034443639399565]\n"
     ]
    },
    {
     "name": "stdout",
     "output_type": "stream",
     "text": [
      "0.674706369952"
     ]
    },
    {
     "name": "stdout",
     "output_type": "stream",
     "text": [
      " 0.696621068833"
     ]
    },
    {
     "name": "stdout",
     "output_type": "stream",
     "text": [
      " 0.808311366628"
     ]
    },
    {
     "name": "stdout",
     "output_type": "stream",
     "text": [
      " 0.609692802321"
     ]
    },
    {
     "name": "stdout",
     "output_type": "stream",
     "text": [
      " 0.68084050272"
     ]
    },
    {
     "name": "stdout",
     "output_type": "stream",
     "text": [
      " 0.658296451398"
     ]
    },
    {
     "name": "stdout",
     "output_type": "stream",
     "text": [
      " 0.614656268832"
     ]
    },
    {
     "name": "stdout",
     "output_type": "stream",
     "text": [
      " 0.61603039126"
     ]
    },
    {
     "name": "stdout",
     "output_type": "stream",
     "text": [
      " 0.653635212912"
     ]
    },
    {
     "name": "stdout",
     "output_type": "stream",
     "text": [
      " 0.660877766605"
     ]
    },
    {
     "name": "stdout",
     "output_type": "stream",
     "text": [
      " \n\t\t[0.030864197530864196, 0.048700687920858916, 0.04515181199785303, 0.047738769820058466, 0.06345413963445144, 0.0750897646572505, 0.07735195603317528, 0.09355905943877739, 0.09828568018972306, 0.10438102243182074]\n"
     ]
    },
    {
     "name": "stdout",
     "output_type": "stream",
     "text": [
      "0.6583956482"
     ]
    },
    {
     "name": "stdout",
     "output_type": "stream",
     "text": [
      " 0.614001451403"
     ]
    },
    {
     "name": "stdout",
     "output_type": "stream",
     "text": [
      " 0.676837261422"
     ]
    },
    {
     "name": "stdout",
     "output_type": "stream",
     "text": [
      " 0.646536820355"
     ]
    },
    {
     "name": "stdout",
     "output_type": "stream",
     "text": [
      " 0.667786053874"
     ]
    },
    {
     "name": "stdout",
     "output_type": "stream",
     "text": [
      " 0.64681861646"
     ]
    },
    {
     "name": "stdout",
     "output_type": "stream",
     "text": [
      " 0.648838281537"
     ]
    },
    {
     "name": "stdout",
     "output_type": "stream",
     "text": [
      " 0.715982405594"
     ]
    },
    {
     "name": "stdout",
     "output_type": "stream",
     "text": [
      " 0.686116823865"
     ]
    },
    {
     "name": "stdout",
     "output_type": "stream",
     "text": [
      " 0.736881081363"
     ]
    },
    {
     "name": "stdout",
     "output_type": "stream",
     "text": [
      " \n\t\t[0.06790123456790123, 0.06808501796949983, 0.06952870829488231, 0.07436128053138583, 0.08082083089742076, 0.08993166040000941, 0.10118872803682513, 0.11522678602636872, 0.11980997910647097, 0.12511059621412773]\n"
     ]
    },
    {
     "name": "stdout",
     "output_type": "stream",
     "text": [
      "0.67428783928"
     ]
    },
    {
     "name": "stdout",
     "output_type": "stream",
     "text": [
      " 0.701492169576"
     ]
    },
    {
     "name": "stdout",
     "output_type": "stream",
     "text": [
      " 0.720147493281"
     ]
    },
    {
     "name": "stdout",
     "output_type": "stream",
     "text": [
      " 0.658425748543"
     ]
    },
    {
     "name": "stdout",
     "output_type": "stream",
     "text": [
      " 0.600834497355"
     ]
    },
    {
     "name": "stdout",
     "output_type": "stream",
     "text": [
      " 0.691974951442"
     ]
    },
    {
     "name": "stdout",
     "output_type": "stream",
     "text": [
      " 0.677987791994"
     ]
    },
    {
     "name": "stdout",
     "output_type": "stream",
     "text": [
      " 0.63656096515"
     ]
    },
    {
     "name": "stdout",
     "output_type": "stream",
     "text": [
      " 0.751486466452"
     ]
    },
    {
     "name": "stdout",
     "output_type": "stream",
     "text": [
      " 0.765721296198"
     ]
    },
    {
     "name": "stdout",
     "output_type": "stream",
     "text": [
      " \n\t\t[0.06790123456790123, 0.08241289971892728, 0.07458000234473289, 0.07828410624648426, 0.08867404238162147, 0.09727990564549574, 0.11030142212605328, 0.12580347669849593, 0.127036547538133, 0.13339530047059078]\n"
     ]
    },
    {
     "name": "stdout",
     "output_type": "stream",
     "text": [
      "0.669384662974"
     ]
    },
    {
     "name": "stdout",
     "output_type": "stream",
     "text": [
      " 0.728199597356"
     ]
    },
    {
     "name": "stdout",
     "output_type": "stream",
     "text": [
      " 0.66990255913"
     ]
    },
    {
     "name": "stdout",
     "output_type": "stream",
     "text": [
      " 0.660482402191"
     ]
    },
    {
     "name": "stdout",
     "output_type": "stream",
     "text": [
      " 0.600897792308"
     ]
    },
    {
     "name": "stdout",
     "output_type": "stream",
     "text": [
      " 0.614073605527"
     ]
    },
    {
     "name": "stdout",
     "output_type": "stream",
     "text": [
      " 0.642039046341"
     ]
    },
    {
     "name": "stdout",
     "output_type": "stream",
     "text": [
      " 0.61074168967"
     ]
    },
    {
     "name": "stdout",
     "output_type": "stream",
     "text": [
      " 0.790820032077"
     ]
    },
    {
     "name": "stdout",
     "output_type": "stream",
     "text": [
      " 0.743382612221"
     ]
    },
    {
     "name": "stdout",
     "output_type": "stream",
     "text": [
      " \n\t\t[0.06790123456790123, 0.05163602291584065, 0.05585535736683346, 0.05994206068376289, 0.06572092734240445, 0.07469729561413534, 0.0859306151674005, 0.08974878541444577, 0.10560451727595745, 0.10838083354224362]\n"
     ]
    },
    {
     "name": "stdout",
     "output_type": "stream",
     "text": [
      "0.565686550012"
     ]
    },
    {
     "name": "stdout",
     "output_type": "stream",
     "text": [
      " 0.681070400534"
     ]
    },
    {
     "name": "stdout",
     "output_type": "stream",
     "text": [
      " 0.623393827527"
     ]
    },
    {
     "name": "stdout",
     "output_type": "stream",
     "text": [
      " 0.493755106586"
     ]
    },
    {
     "name": "stdout",
     "output_type": "stream",
     "text": [
      " 0.632164268536"
     ]
    },
    {
     "name": "stdout",
     "output_type": "stream",
     "text": [
      " 0.701312723173"
     ]
    },
    {
     "name": "stdout",
     "output_type": "stream",
     "text": [
      " 0.608041568076"
     ]
    },
    {
     "name": "stdout",
     "output_type": "stream",
     "text": [
      " 0.604343979417"
     ]
    },
    {
     "name": "stdout",
     "output_type": "stream",
     "text": [
      " 0.720023424905"
     ]
    },
    {
     "name": "stdout",
     "output_type": "stream",
     "text": [
      " 0.620232532655"
     ]
    },
    {
     "name": "stdout",
     "output_type": "stream",
     "text": [
      " \n\t\t[0.06790123456790123, 0.05163602291584065, 0.05307971324122313, 0.05791228547772664, 0.06818748349210099, 0.08383409893936482, 0.09106259770628038, 0.10360314398875374, 0.10544822062716194, 0.11075900668426165]\n"
     ]
    },
    {
     "name": "stdout",
     "output_type": "stream",
     "text": [
      "0.741623868622"
     ]
    },
    {
     "name": "stdout",
     "output_type": "stream",
     "text": [
      " 0.640880552866"
     ]
    },
    {
     "name": "stdout",
     "output_type": "stream",
     "text": [
      " 0.653985778431"
     ]
    },
    {
     "name": "stdout",
     "output_type": "stream",
     "text": [
      " 0.661414189993"
     ]
    },
    {
     "name": "stdout",
     "output_type": "stream",
     "text": [
      " 0.693336239566"
     ]
    },
    {
     "name": "stdout",
     "output_type": "stream",
     "text": [
      " 0.617636742518"
     ]
    },
    {
     "name": "stdout",
     "output_type": "stream",
     "text": [
      " 0.627878538605"
     ]
    },
    {
     "name": "stdout",
     "output_type": "stream",
     "text": [
      " 0.604813791496"
     ]
    },
    {
     "name": "stdout",
     "output_type": "stream",
     "text": [
      " 0.642723777295"
     ]
    },
    {
     "name": "stdout",
     "output_type": "stream",
     "text": [
      " 0.706318463706"
     ]
    },
    {
     "name": "stdout",
     "output_type": "stream",
     "text": [
      " \n\t\t[0.06790123456790123, 0.07696696117572692, 0.07107752941638613, 0.08020140769440681, 0.09017577349786077, 0.09916482285114724, 0.11148207241253927, 0.11289864072563228, 0.12982302475464197, 0.13446113822668754]\n"
     ]
    },
    {
     "name": "stdout",
     "output_type": "stream",
     "text": [
      "0.622870994939"
     ]
    },
    {
     "name": "stdout",
     "output_type": "stream",
     "text": [
      " 0.627569818024"
     ]
    },
    {
     "name": "stdout",
     "output_type": "stream",
     "text": [
      " 0.693378573022"
     ]
    },
    {
     "name": "stdout",
     "output_type": "stream",
     "text": [
      " 0.645885196014"
     ]
    },
    {
     "name": "stdout",
     "output_type": "stream",
     "text": [
      " 0.548708240743"
     ]
    },
    {
     "name": "stdout",
     "output_type": "stream",
     "text": [
      " 0.69535701738"
     ]
    },
    {
     "name": "stdout",
     "output_type": "stream",
     "text": [
      " 0.791403133276"
     ]
    },
    {
     "name": "stdout",
     "output_type": "stream",
     "text": [
      " 0.635565659409"
     ]
    },
    {
     "name": "stdout",
     "output_type": "stream",
     "text": [
      " 0.62776809876"
     ]
    },
    {
     "name": "stdout",
     "output_type": "stream",
     "text": [
      " 0.673567075765"
     ]
    },
    {
     "name": "stdout",
     "output_type": "stream",
     "text": [
      " \n\t\t[0.06790123456790123, 0.06596390466526811, 0.05813100729107371, 0.06631370378184745, 0.0764729420447023, 0.07773232512287231, 0.08882702184556998, 0.10428240313900333, 0.11022398763255573, 0.11591787339176267]\n"
     ]
    },
    {
     "name": "stdout",
     "output_type": "stream",
     "text": [
      "0.65247550892"
     ]
    },
    {
     "name": "stdout",
     "output_type": "stream",
     "text": [
      " 0.625116200493"
     ]
    },
    {
     "name": "stdout",
     "output_type": "stream",
     "text": [
      " 0.603185115937"
     ]
    },
    {
     "name": "stdout",
     "output_type": "stream",
     "text": [
      " 0.648835131648"
     ]
    },
    {
     "name": "stdout",
     "output_type": "stream",
     "text": [
      " 0.684223828946"
     ]
    },
    {
     "name": "stdout",
     "output_type": "stream",
     "text": [
      " 0.650748252952"
     ]
    },
    {
     "name": "stdout",
     "output_type": "stream",
     "text": [
      " 0.676580802679"
     ]
    },
    {
     "name": "stdout",
     "output_type": "stream",
     "text": [
      " 0.588966407933"
     ]
    },
    {
     "name": "stdout",
     "output_type": "stream",
     "text": [
      " 0.665144055651"
     ]
    },
    {
     "name": "stdout",
     "output_type": "stream",
     "text": [
      " 0.538841437396"
     ]
    },
    {
     "name": "stdout",
     "output_type": "stream",
     "text": [
      " \n\t\t[0.06790123456790123, 0.06051796612206774, 0.054628534362726945, 0.06375241264074764, 0.0737267784442016, 0.08196843543178964, 0.08919196793322194, 0.10229263008205419, 0.1035040619627286, 0.10527007530694969]\n"
     ]
    },
    {
     "name": "stdout",
     "output_type": "stream",
     "text": [
      "0.65299255016"
     ]
    },
    {
     "name": "stdout",
     "output_type": "stream",
     "text": [
      " 0.689465038023"
     ]
    },
    {
     "name": "stdout",
     "output_type": "stream",
     "text": [
      " 0.573239388031"
     ]
    },
    {
     "name": "stdout",
     "output_type": "stream",
     "text": [
      " 0.727189835914"
     ]
    },
    {
     "name": "stdout",
     "output_type": "stream",
     "text": [
      " 0.618855075408"
     ]
    },
    {
     "name": "stdout",
     "output_type": "stream",
     "text": [
      " 0.564406671979"
     ]
    },
    {
     "name": "stdout",
     "output_type": "stream",
     "text": [
      " 0.836670235716"
     ]
    },
    {
     "name": "stdout",
     "output_type": "stream",
     "text": [
      " 0.708105273915"
     ]
    },
    {
     "name": "stdout",
     "output_type": "stream",
     "text": [
      " 0.696848496559"
     ]
    },
    {
     "name": "stdout",
     "output_type": "stream",
     "text": [
      " 0.593675829643"
     ]
    },
    {
     "name": "stdout",
     "output_type": "stream",
     "text": [
      " \n\t\t[0.06790123456790123, 0.06596390466526811, 0.05813100729107371, 0.06631370378184745, 0.0764729420447023, 0.0841390561937885, 0.08539229976989333, 0.10084768106332666, 0.10405474737818354, 0.11262158682815081]\n"
     ]
    },
    {
     "name": "stdout",
     "output_type": "stream",
     "text": [
      "0.61623652677"
     ]
    },
    {
     "name": "stdout",
     "output_type": "stream",
     "text": [
      " 0.779976459618"
     ]
    },
    {
     "name": "stdout",
     "output_type": "stream",
     "text": [
      " 0.636251446824"
     ]
    },
    {
     "name": "stdout",
     "output_type": "stream",
     "text": [
      " 0.709920774998"
     ]
    },
    {
     "name": "stdout",
     "output_type": "stream",
     "text": [
      " 0.625112970695"
     ]
    },
    {
     "name": "stdout",
     "output_type": "stream",
     "text": [
      " 0.742813519923"
     ]
    },
    {
     "name": "stdout",
     "output_type": "stream",
     "text": [
      " 0.687885305697"
     ]
    },
    {
     "name": "stdout",
     "output_type": "stream",
     "text": [
      " 0.609958078741"
     ]
    },
    {
     "name": "stdout",
     "output_type": "stream",
     "text": [
      " 0.619139749559"
     ]
    },
    {
     "name": "stdout",
     "output_type": "stream",
     "text": [
      " 0.690622313151"
     ]
    },
    {
     "name": "stdout",
     "output_type": "stream",
     "text": [
      " \n\t\t[0.06790123456790123, 0.06808501796949983, 0.06952870829488231, 0.07436128053138583, 0.08082083089742076, 0.08277753696339482, 0.1007297747277956, 0.1037141975100637, 0.1188455238082743, 0.12266364387513551]\n"
     ]
    },
    {
     "name": "stdout",
     "output_type": "stream",
     "text": [
      "0.685149269701"
     ]
    },
    {
     "name": "stdout",
     "output_type": "stream",
     "text": [
      " 0.710051727967"
     ]
    },
    {
     "name": "stdout",
     "output_type": "stream",
     "text": [
      " 0.662992890178"
     ]
    },
    {
     "name": "stdout",
     "output_type": "stream",
     "text": [
      " 0.614467229673"
     ]
    },
    {
     "name": "stdout",
     "output_type": "stream",
     "text": [
      " 0.635644917174"
     ]
    },
    {
     "name": "stdout",
     "output_type": "stream",
     "text": [
      " 0.634273205678"
     ]
    },
    {
     "name": "stdout",
     "output_type": "stream",
     "text": [
      " 0.661282962177"
     ]
    },
    {
     "name": "stdout",
     "output_type": "stream",
     "text": [
      " 0.652680906198"
     ]
    },
    {
     "name": "stdout",
     "output_type": "stream",
     "text": [
      " 0.656076914335"
     ]
    },
    {
     "name": "stdout",
     "output_type": "stream",
     "text": [
      " 0.631200386129"
     ]
    },
    {
     "name": "stdout",
     "output_type": "stream",
     "text": [
      " \n\t\t[0.06790123456790123, 0.07696696117572692, 0.07107752941638613, 0.07572281510538445, 0.08592787878112075, 0.08840071556582194, 0.10750153471667584, 0.12215309587168868, 0.1261350637586876, 0.13143567385373378]\n"
     ]
    },
    {
     "name": "stdout",
     "output_type": "stream",
     "text": [
      "0.571898729131"
     ]
    },
    {
     "name": "stdout",
     "output_type": "stream",
     "text": [
      " 0.722625774262"
     ]
    },
    {
     "name": "stdout",
     "output_type": "stream",
     "text": [
      " 0.683861872381"
     ]
    },
    {
     "name": "stdout",
     "output_type": "stream",
     "text": [
      " 0.617445031042"
     ]
    },
    {
     "name": "stdout",
     "output_type": "stream",
     "text": [
      " 0.664745151077"
     ]
    },
    {
     "name": "stdout",
     "output_type": "stream",
     "text": [
      " 0.708827119324"
     ]
    },
    {
     "name": "stdout",
     "output_type": "stream",
     "text": [
      " 0.808012098622"
     ]
    },
    {
     "name": "stdout",
     "output_type": "stream",
     "text": [
      " 0.796509651993"
     ]
    },
    {
     "name": "stdout",
     "output_type": "stream",
     "text": [
      " 0.706705998022"
     ]
    },
    {
     "name": "stdout",
     "output_type": "stream",
     "text": [
      " 0.678037165212"
     ]
    },
    {
     "name": "stdout",
     "output_type": "stream",
     "text": [
      " \n\t\t[0.06790123456790123, 0.05163602291584065, 0.05585535736683346, 0.06442065327278526, 0.06996882205914448, 0.0830424608087674, 0.0874916777528676, 0.09126296521056171, 0.10536025783896068, 0.11105651414841784]\n"
     ]
    },
    {
     "name": "stdout",
     "output_type": "stream",
     "text": [
      "0.623367419422"
     ]
    },
    {
     "name": "stdout",
     "output_type": "stream",
     "text": [
      " 0.720069182354"
     ]
    },
    {
     "name": "stdout",
     "output_type": "stream",
     "text": [
      " 0.695443153326"
     ]
    },
    {
     "name": "stdout",
     "output_type": "stream",
     "text": [
      " 0.677917250478"
     ]
    },
    {
     "name": "stdout",
     "output_type": "stream",
     "text": [
      " 0.610752503926"
     ]
    },
    {
     "name": "stdout",
     "output_type": "stream",
     "text": [
      " 0.581486167158"
     ]
    },
    {
     "name": "stdout",
     "output_type": "stream",
     "text": [
      " 0.59930357563"
     ]
    },
    {
     "name": "stdout",
     "output_type": "stream",
     "text": [
      " 0.547982331198"
     ]
    },
    {
     "name": "stdout",
     "output_type": "stream",
     "text": [
      " 0.67499585572"
     ]
    },
    {
     "name": "stdout",
     "output_type": "stream",
     "text": [
      " 0.783075322939"
     ]
    },
    {
     "name": "stdout",
     "output_type": "stream",
     "text": [
      " \n\t\t[0.06790123456790123, 0.06808501796949983, 0.07230435242049264, 0.07639105573742207, 0.08216992239606365, 0.08830730202464804, 0.10632815456237103, 0.12660656030141346, 0.13130705869836573, 0.13738488886565745]\n"
     ]
    },
    {
     "name": "stdout",
     "output_type": "stream",
     "text": [
      "0.678455592819"
     ]
    },
    {
     "name": "stdout",
     "output_type": "stream",
     "text": [
      " 0.700507470244"
     ]
    },
    {
     "name": "stdout",
     "output_type": "stream",
     "text": [
      " 0.693196510037"
     ]
    },
    {
     "name": "stdout",
     "output_type": "stream",
     "text": [
      " 0.786286336961"
     ]
    },
    {
     "name": "stdout",
     "output_type": "stream",
     "text": [
      " 0.599892519298"
     ]
    },
    {
     "name": "stdout",
     "output_type": "stream",
     "text": [
      " 0.685703450696"
     ]
    },
    {
     "name": "stdout",
     "output_type": "stream",
     "text": [
      " 0.653146903075"
     ]
    },
    {
     "name": "stdout",
     "output_type": "stream",
     "text": [
      " 0.70271925347"
     ]
    },
    {
     "name": "stdout",
     "output_type": "stream",
     "text": [
      " 0.637863602902"
     ]
    },
    {
     "name": "stdout",
     "output_type": "stream",
     "text": [
      " 0.606677358313"
     ]
    },
    {
     "name": "stdout",
     "output_type": "stream",
     "text": [
      " \n\t\t[0.06790123456790123, 0.06051796612206774, 0.054628534362726945, 0.059273820051725275, 0.06947888372746158, 0.0786602898298377, 0.08680500069449844, 0.09995233612233997, 0.10417885861325074, 0.10851966806925274]\n"
     ]
    },
    {
     "name": "stdout",
     "output_type": "stream",
     "text": [
      "0.754254828899"
     ]
    },
    {
     "name": "stdout",
     "output_type": "stream",
     "text": [
      " 0.681198935048"
     ]
    },
    {
     "name": "stdout",
     "output_type": "stream",
     "text": [
      " 0.657368260588"
     ]
    },
    {
     "name": "stdout",
     "output_type": "stream",
     "text": [
      " 0.687816707558"
     ]
    },
    {
     "name": "stdout",
     "output_type": "stream",
     "text": [
      " 0.577625077145"
     ]
    },
    {
     "name": "stdout",
     "output_type": "stream",
     "text": [
      " 0.694795229674"
     ]
    },
    {
     "name": "stdout",
     "output_type": "stream",
     "text": [
      " 0.574295421637"
     ]
    },
    {
     "name": "stdout",
     "output_type": "stream",
     "text": [
      " 0.700935851995"
     ]
    },
    {
     "name": "stdout",
     "output_type": "stream",
     "text": [
      " 0.68086175347"
     ]
    },
    {
     "name": "stdout",
     "output_type": "stream",
     "text": [
      " 0.680904177046"
     ]
    },
    {
     "name": "stdout",
     "output_type": "stream",
     "text": [
      " \n\t\t[0.06790123456790123, 0.06808501796949983, 0.06952870829488231, 0.07436128053138583, 0.08082083089742076, 0.08277753696339482, 0.09765601092219175, 0.10067031806620229, 0.11580164436441288, 0.12242211971825699]\n"
     ]
    },
    {
     "name": "stdout",
     "output_type": "stream",
     "text": [
      "0.597958814608"
     ]
    },
    {
     "name": "stdout",
     "output_type": "stream",
     "text": [
      " 0.64458188777"
     ]
    },
    {
     "name": "stdout",
     "output_type": "stream",
     "text": [
      " 0.711884313946"
     ]
    },
    {
     "name": "stdout",
     "output_type": "stream",
     "text": [
      " 0.661181267184"
     ]
    },
    {
     "name": "stdout",
     "output_type": "stream",
     "text": [
      " 0.662447155984"
     ]
    },
    {
     "name": "stdout",
     "output_type": "stream",
     "text": [
      " 0.678114057513"
     ]
    },
    {
     "name": "stdout",
     "output_type": "stream",
     "text": [
      " 0.692511658189"
     ]
    },
    {
     "name": "stdout",
     "output_type": "stream",
     "text": [
      " 0.596419596058"
     ]
    },
    {
     "name": "stdout",
     "output_type": "stream",
     "text": [
      " 0.66069531298"
     ]
    },
    {
     "name": "stdout",
     "output_type": "stream",
     "text": [
      " 0.551061239573"
     ]
    },
    {
     "name": "stdout",
     "output_type": "stream",
     "text": [
      " \n\t\t[0.06790123456790123, 0.06596390466526811, 0.07116652745837251, 0.07487063136012387, 0.08264596034566679, 0.08725507031687235, 0.10503510060881932, 0.1168975582854399, 0.1216043737105606, 0.12438085408831302]\n"
     ]
    },
    {
     "name": "stdout",
     "output_type": "stream",
     "text": [
      "0.619050754463"
     ]
    },
    {
     "name": "stdout",
     "output_type": "stream",
     "text": [
      " 0.623548475134"
     ]
    },
    {
     "name": "stdout",
     "output_type": "stream",
     "text": [
      " 0.613086072083"
     ]
    },
    {
     "name": "stdout",
     "output_type": "stream",
     "text": [
      " 0.579293303254"
     ]
    },
    {
     "name": "stdout",
     "output_type": "stream",
     "text": [
      " 0.647525395435"
     ]
    },
    {
     "name": "stdout",
     "output_type": "stream",
     "text": [
      " 0.806124736807"
     ]
    },
    {
     "name": "stdout",
     "output_type": "stream",
     "text": [
      " 0.759042955934"
     ]
    },
    {
     "name": "stdout",
     "output_type": "stream",
     "text": [
      " 0.770474915373"
     ]
    },
    {
     "name": "stdout",
     "output_type": "stream",
     "text": [
      " 0.727174554313"
     ]
    },
    {
     "name": "stdout",
     "output_type": "stream",
     "text": [
      " 0.788479483829"
     ]
    },
    {
     "name": "stdout",
     "output_type": "stream",
     "text": [
      " \n\t\t[0.06790123456790123, 0.06051796612206774, 0.054628534362726945, 0.059273820051725275, 0.06947888372746158, 0.07120432814646437, 0.08326183903907201, 0.09788372534268432, 0.10049134401854802, 0.10711181937239213]\n"
     ]
    },
    {
     "name": "stdout",
     "output_type": "stream",
     "text": [
      "0.83939348681"
     ]
    },
    {
     "name": "stdout",
     "output_type": "stream",
     "text": [
      " 0.722277520039"
     ]
    },
    {
     "name": "stdout",
     "output_type": "stream",
     "text": [
      " 0.761274971949"
     ]
    },
    {
     "name": "stdout",
     "output_type": "stream",
     "text": [
      " 0.758744428233"
     ]
    },
    {
     "name": "stdout",
     "output_type": "stream",
     "text": [
      " 0.678556122376"
     ]
    },
    {
     "name": "stdout",
     "output_type": "stream",
     "text": [
      " 0.627580913794"
     ]
    },
    {
     "name": "stdout",
     "output_type": "stream",
     "text": [
      " 0.603034017577"
     ]
    },
    {
     "name": "stdout",
     "output_type": "stream",
     "text": [
      " 0.680204483132"
     ]
    },
    {
     "name": "stdout",
     "output_type": "stream",
     "text": [
      " 0.80237563872"
     ]
    },
    {
     "name": "stdout",
     "output_type": "stream",
     "text": [
      " 0.61937201139"
     ]
    },
    {
     "name": "stdout",
     "output_type": "stream",
     "text": [
      " \n\t\t[0.06790123456790123, 0.06596390466526811, 0.05813100729107371, 0.06183511119282508, 0.0722250473279623, 0.0801535407321544, 0.08687394060817491, 0.10237620469095943, 0.10534607580474653, 0.11309448637148316]\n"
     ]
    },
    {
     "name": "stdout",
     "output_type": "stream",
     "text": [
      "0.661469725755"
     ]
    },
    {
     "name": "stdout",
     "output_type": "stream",
     "text": [
      " 0.596858828397"
     ]
    },
    {
     "name": "stdout",
     "output_type": "stream",
     "text": [
      " 0.658181460438"
     ]
    },
    {
     "name": "stdout",
     "output_type": "stream",
     "text": [
      " 0.650939369766"
     ]
    },
    {
     "name": "stdout",
     "output_type": "stream",
     "text": [
      " 0.674980124484"
     ]
    },
    {
     "name": "stdout",
     "output_type": "stream",
     "text": [
      " 0.639353672952"
     ]
    },
    {
     "name": "stdout",
     "output_type": "stream",
     "text": [
      " 0.643657740319"
     ]
    },
    {
     "name": "stdout",
     "output_type": "stream",
     "text": [
      " 0.706673387891"
     ]
    },
    {
     "name": "stdout",
     "output_type": "stream",
     "text": [
      " 0.703586753545"
     ]
    },
    {
     "name": "stdout",
     "output_type": "stream",
     "text": [
      " 0.69286347904"
     ]
    },
    {
     "name": "stdout",
     "output_type": "stream",
     "text": [
      " \n\t\t[0.06790123456790123, 0.08241289971892728, 0.07458000234473289, 0.07828410624648426, 0.08867404238162147, 0.09509277929554504, 0.11279267213559858, 0.12647474809209724, 0.13118122085494294, 0.13516201322583057]\n"
     ]
    },
    {
     "name": "stdout",
     "output_type": "stream",
     "text": [
      "0.745456276626"
     ]
    },
    {
     "name": "stdout",
     "output_type": "stream",
     "text": [
      " 0.693707514246"
     ]
    },
    {
     "name": "stdout",
     "output_type": "stream",
     "text": [
      " 0.610328165573"
     ]
    },
    {
     "name": "stdout",
     "output_type": "stream",
     "text": [
      " 0.601153598565"
     ]
    },
    {
     "name": "stdout",
     "output_type": "stream",
     "text": [
      " 0.599086616029"
     ]
    },
    {
     "name": "stdout",
     "output_type": "stream",
     "text": [
      " 0.609265047391"
     ]
    },
    {
     "name": "stdout",
     "output_type": "stream",
     "text": [
      " 0.609692084424"
     ]
    },
    {
     "name": "stdout",
     "output_type": "stream",
     "text": [
      " 0.569083767386"
     ]
    },
    {
     "name": "stdout",
     "output_type": "stream",
     "text": [
      " 0.635655860249"
     ]
    },
    {
     "name": "stdout",
     "output_type": "stream",
     "text": [
      " 0.69305487781"
     ]
    },
    {
     "name": "stdout",
     "output_type": "stream",
     "text": [
      " \n\t\t[0.06790123456790123, 0.06596390466526811, 0.05813100729107371, 0.06183511119282508, 0.0722250473279623, 0.07679925607331695, 0.0797431198532416, 0.0864777281772542, 0.1023369140263919, 0.10574722385792847]\n"
     ]
    },
    {
     "name": "stdout",
     "output_type": "stream",
     "text": [
      "0.768275594017"
     ]
    },
    {
     "name": "stdout",
     "output_type": "stream",
     "text": [
      " 0.602560306392"
     ]
    },
    {
     "name": "stdout",
     "output_type": "stream",
     "text": [
      " 0.705569412306"
     ]
    },
    {
     "name": "stdout",
     "output_type": "stream",
     "text": [
      " 0.612257253125"
     ]
    },
    {
     "name": "stdout",
     "output_type": "stream",
     "text": [
      " 0.734224693812"
     ]
    },
    {
     "name": "stdout",
     "output_type": "stream",
     "text": [
      " 0.66822738363"
     ]
    },
    {
     "name": "stdout",
     "output_type": "stream",
     "text": [
      " 0.768366528678"
     ]
    },
    {
     "name": "stdout",
     "output_type": "stream",
     "text": [
      " 0.704918023189"
     ]
    },
    {
     "name": "stdout",
     "output_type": "stream",
     "text": [
      " 0.690059947056"
     ]
    },
    {
     "name": "stdout",
     "output_type": "stream",
     "text": [
      " 0.571577677064"
     ]
    },
    {
     "name": "stdout",
     "output_type": "stream",
     "text": [
      " \n\t\t[0.06790123456790123, 0.06596390466526811, 0.05813100729107371, 0.06183511119282508, 0.069610440178368, 0.07911310633077127, 0.08510337219721116, 0.10380108112224089, 0.10851170678028955, 0.10972952480273722]\n"
     ]
    },
    {
     "name": "stdout",
     "output_type": "stream",
     "text": [
      "0.632501144201"
     ]
    },
    {
     "name": "stdout",
     "output_type": "stream",
     "text": [
      " 0.69167700185"
     ]
    },
    {
     "name": "stdout",
     "output_type": "stream",
     "text": [
      " 0.651827409647"
     ]
    },
    {
     "name": "stdout",
     "output_type": "stream",
     "text": [
      " 0.65014521368"
     ]
    },
    {
     "name": "stdout",
     "output_type": "stream",
     "text": [
      " 0.615033776527"
     ]
    },
    {
     "name": "stdout",
     "output_type": "stream",
     "text": [
      " 0.730639710445"
     ]
    },
    {
     "name": "stdout",
     "output_type": "stream",
     "text": [
      " 0.714384463344"
     ]
    },
    {
     "name": "stdout",
     "output_type": "stream",
     "text": [
      " 0.645114445659"
     ]
    },
    {
     "name": "stdout",
     "output_type": "stream",
     "text": [
      " 0.744697760049"
     ]
    },
    {
     "name": "stdout",
     "output_type": "stream",
     "text": [
      " 0.544643143907"
     ]
    },
    {
     "name": "stdout",
     "output_type": "stream",
     "text": [
      " \n\t\t[0.06790123456790123, 0.06596390466526811, 0.07116652745837251, 0.07487063136012387, 0.08526056749526108, 0.09386643075913535, 0.10568054769511558, 0.11754264503567023, 0.12224911779851594, 0.12789758172726595]\n"
     ]
    },
    {
     "name": "stdout",
     "output_type": "stream",
     "text": [
      "0.6217445493"
     ]
    },
    {
     "name": "stdout",
     "output_type": "stream",
     "text": [
      " 0.66232902333"
     ]
    },
    {
     "name": "stdout",
     "output_type": "stream",
     "text": [
      " 0.699812288656"
     ]
    },
    {
     "name": "stdout",
     "output_type": "stream",
     "text": [
      " 0.523966827763"
     ]
    },
    {
     "name": "stdout",
     "output_type": "stream",
     "text": [
      " 0.666068732728"
     ]
    },
    {
     "name": "stdout",
     "output_type": "stream",
     "text": [
      " 0.665887749969"
     ]
    },
    {
     "name": "stdout",
     "output_type": "stream",
     "text": [
      " 0.625529922898"
     ]
    },
    {
     "name": "stdout",
     "output_type": "stream",
     "text": [
      " 0.681567626168"
     ]
    },
    {
     "name": "stdout",
     "output_type": "stream",
     "text": [
      " 0.626835501712"
     ]
    },
    {
     "name": "stdout",
     "output_type": "stream",
     "text": [
      " 0.661467688417"
     ]
    },
    {
     "name": "stdout",
     "output_type": "stream",
     "text": [
      " \n\t\t[0.06790123456790123, 0.08241289971892728, 0.07458000234473289, 0.07828410624648426, 0.08867404238162147, 0.09628202677146826, 0.11518486909288735, 0.11900094516960869, 0.13311798461421825, 0.13422567555366094]\n"
     ]
    },
    {
     "name": "stdout",
     "output_type": "stream",
     "text": [
      "0.66389067218"
     ]
    },
    {
     "name": "stdout",
     "output_type": "stream",
     "text": [
      " 0.678700380958"
     ]
    },
    {
     "name": "stdout",
     "output_type": "stream",
     "text": [
      " 0.64483879432"
     ]
    },
    {
     "name": "stdout",
     "output_type": "stream",
     "text": [
      " 0.654062525331"
     ]
    },
    {
     "name": "stdout",
     "output_type": "stream",
     "text": [
      " 0.757133085858"
     ]
    },
    {
     "name": "stdout",
     "output_type": "stream",
     "text": [
      " 0.732360384447"
     ]
    },
    {
     "name": "stdout",
     "output_type": "stream",
     "text": [
      " 0.640718230092"
     ]
    },
    {
     "name": "stdout",
     "output_type": "stream",
     "text": [
      " 0.725066900329"
     ]
    },
    {
     "name": "stdout",
     "output_type": "stream",
     "text": [
      " 0.767772272473"
     ]
    },
    {
     "name": "stdout",
     "output_type": "stream",
     "text": [
      " 0.639586454806"
     ]
    },
    {
     "name": "stdout",
     "output_type": "stream",
     "text": [
      " \n\t\t[0.10493827160493828, 0.0920349449998657, 0.08420204762567131, 0.08790615152742268, 0.09829608766255987, 0.10471482457648344, 0.11257326426994416, 0.12684800937552043, 0.14096704027542778, 0.14207568498385156]\n"
     ]
    },
    {
     "name": "stdout",
     "output_type": "stream",
     "text": [
      "0.61851158062"
     ]
    },
    {
     "name": "stdout",
     "output_type": "stream",
     "text": [
      " 0.550858767786"
     ]
    },
    {
     "name": "stdout",
     "output_type": "stream",
     "text": [
      " 0.668064053726"
     ]
    },
    {
     "name": "stdout",
     "output_type": "stream",
     "text": [
      " 0.636483116449"
     ]
    },
    {
     "name": "stdout",
     "output_type": "stream",
     "text": [
      " 0.614745323589"
     ]
    },
    {
     "name": "stdout",
     "output_type": "stream",
     "text": [
      " 0.710505683096"
     ]
    },
    {
     "name": "stdout",
     "output_type": "stream",
     "text": [
      " 0.724419799072"
     ]
    },
    {
     "name": "stdout",
     "output_type": "stream",
     "text": [
      " 0.576048105768"
     ]
    },
    {
     "name": "stdout",
     "output_type": "stream",
     "text": [
      " 0.708169503698"
     ]
    },
    {
     "name": "stdout",
     "output_type": "stream",
     "text": [
      " 0.772781651051"
     ]
    },
    {
     "name": "stdout",
     "output_type": "stream",
     "text": [
      " \n\t\t[0.06790123456790123, 0.06596390466526811, 0.05813100729107371, 0.06183511119282508, 0.0722250473279623, 0.08008351822613816, 0.08680391810215865, 0.09866622495305519, 0.1033727970284466, 0.10902130849183592]\n"
     ]
    },
    {
     "name": "stdout",
     "output_type": "stream",
     "text": [
      "0.800876421602"
     ]
    },
    {
     "name": "stdout",
     "output_type": "stream",
     "text": [
      " 0.74311597222"
     ]
    },
    {
     "name": "stdout",
     "output_type": "stream",
     "text": [
      " 0.709529979555"
     ]
    },
    {
     "name": "stdout",
     "output_type": "stream",
     "text": [
      " 0.81702641484"
     ]
    },
    {
     "name": "stdout",
     "output_type": "stream",
     "text": [
      " 0.752070962264"
     ]
    },
    {
     "name": "stdout",
     "output_type": "stream",
     "text": [
      " 0.650407130841"
     ]
    },
    {
     "name": "stdout",
     "output_type": "stream",
     "text": [
      " 0.724485335339"
     ]
    },
    {
     "name": "stdout",
     "output_type": "stream",
     "text": [
      " 0.629402593982"
     ]
    },
    {
     "name": "stdout",
     "output_type": "stream",
     "text": [
      " 0.638504292768"
     ]
    },
    {
     "name": "stdout",
     "output_type": "stream",
     "text": [
      " 0.6416998486"
     ]
    },
    {
     "name": "stdout",
     "output_type": "stream",
     "text": [
      " \n\t\t[0.06790123456790123, 0.06596390466526811, 0.05813100729107371, 0.06183511119282508, 0.069610440178368, 0.07750039390294489, 0.08423045961114478, 0.09609731513875516, 0.10080821278701721, 0.10880578855362905]\n"
     ]
    },
    {
     "name": "stdout",
     "output_type": "stream",
     "text": [
      "0.712585803947"
     ]
    },
    {
     "name": "stdout",
     "output_type": "stream",
     "text": [
      " 0.672975152522"
     ]
    },
    {
     "name": "stdout",
     "output_type": "stream",
     "text": [
      " 0.643633598637"
     ]
    },
    {
     "name": "stdout",
     "output_type": "stream",
     "text": [
      " 0.662152917052"
     ]
    },
    {
     "name": "stdout",
     "output_type": "stream",
     "text": [
      " 0.613937347849"
     ]
    },
    {
     "name": "stdout",
     "output_type": "stream",
     "text": [
      " 0.665409577082"
     ]
    },
    {
     "name": "stdout",
     "output_type": "stream",
     "text": [
      " 0.661493220134"
     ]
    },
    {
     "name": "stdout",
     "output_type": "stream",
     "text": [
      " 0.70977173511"
     ]
    },
    {
     "name": "stdout",
     "output_type": "stream",
     "text": [
      " 0.717079959918"
     ]
    },
    {
     "name": "stdout",
     "output_type": "stream",
     "text": [
      " 0.626632266354"
     ]
    },
    {
     "name": "stdout",
     "output_type": "stream",
     "text": [
      " \n\t\t[0.10493827160493828, 0.0907941732571094, 0.08968504597689105, 0.09084957610749991, 0.09473141148027164, 0.10005770003468534, 0.11830914079824081, 0.13495408132670902, 0.13966065340210046, 0.14669877496512929]\n"
     ]
    },
    {
     "name": "stdout",
     "output_type": "stream",
     "text": [
      "0.553588605428"
     ]
    },
    {
     "name": "stdout",
     "output_type": "stream",
     "text": [
      " 0.556352349145"
     ]
    },
    {
     "name": "stdout",
     "output_type": "stream",
     "text": [
      " 0.617502274164"
     ]
    },
    {
     "name": "stdout",
     "output_type": "stream",
     "text": [
      " 0.757983699995"
     ]
    },
    {
     "name": "stdout",
     "output_type": "stream",
     "text": [
      " 0.675219481617"
     ]
    },
    {
     "name": "stdout",
     "output_type": "stream",
     "text": [
      " 0.629598531351"
     ]
    },
    {
     "name": "stdout",
     "output_type": "stream",
     "text": [
      " 0.857816624633"
     ]
    },
    {
     "name": "stdout",
     "output_type": "stream",
     "text": [
      " 0.645188065319"
     ]
    },
    {
     "name": "stdout",
     "output_type": "stream",
     "text": [
      " 0.707213732388"
     ]
    },
    {
     "name": "stdout",
     "output_type": "stream",
     "text": [
      " 0.621941271775"
     ]
    },
    {
     "name": "stdout",
     "output_type": "stream",
     "text": [
      " \n\t\t[0.06790123456790123, 0.08241289971892728, 0.07458000234473289, 0.07828410624648426, 0.08867404238162147, 0.09653251327979735, 0.10901423199919803, 0.12087653885009457, 0.13014690328770098, 0.13292326708862648]\n"
     ]
    },
    {
     "name": "stdout",
     "output_type": "stream",
     "text": [
      "0.672906432345"
     ]
    },
    {
     "name": "stdout",
     "output_type": "stream",
     "text": [
      " 0.680581370812"
     ]
    },
    {
     "name": "stdout",
     "output_type": "stream",
     "text": [
      " 0.674690337258"
     ]
    },
    {
     "name": "stdout",
     "output_type": "stream",
     "text": [
      " 0.686924670417"
     ]
    },
    {
     "name": "stdout",
     "output_type": "stream",
     "text": [
      " 0.634571144203"
     ]
    },
    {
     "name": "stdout",
     "output_type": "stream",
     "text": [
      " 0.721816207066"
     ]
    },
    {
     "name": "stdout",
     "output_type": "stream",
     "text": [
      " 0.621776330209"
     ]
    },
    {
     "name": "stdout",
     "output_type": "stream",
     "text": [
      " 0.60839337938"
     ]
    },
    {
     "name": "stdout",
     "output_type": "stream",
     "text": [
      " 0.752758727752"
     ]
    },
    {
     "name": "stdout",
     "output_type": "stream",
     "text": [
      " 0.634333858109"
     ]
    },
    {
     "name": "stdout",
     "output_type": "stream",
     "text": [
      " \n\t\t[0.06790123456790123, 0.08241289971892728, 0.07458000234473289, 0.07828410624648426, 0.08867404238162147, 0.10075211800076282, 0.10348459495884453, 0.11278597306745146, 0.12790292049699575, 0.1337357599271266]\n"
     ]
    },
    {
     "name": "stdout",
     "output_type": "stream",
     "text": [
      "0.76075736342"
     ]
    },
    {
     "name": "stdout",
     "output_type": "stream",
     "text": [
      " 0.759347240013"
     ]
    },
    {
     "name": "stdout",
     "output_type": "stream",
     "text": [
      " 0.595953756545"
     ]
    },
    {
     "name": "stdout",
     "output_type": "stream",
     "text": [
      " 0.742820769164"
     ]
    },
    {
     "name": "stdout",
     "output_type": "stream",
     "text": [
      " 0.628762545196"
     ]
    },
    {
     "name": "stdout",
     "output_type": "stream",
     "text": [
      " 0.692024068875"
     ]
    },
    {
     "name": "stdout",
     "output_type": "stream",
     "text": [
      " 0.595363577282"
     ]
    },
    {
     "name": "stdout",
     "output_type": "stream",
     "text": [
      " 0.782954304317"
     ]
    },
    {
     "name": "stdout",
     "output_type": "stream",
     "text": [
      " 0.765750238273"
     ]
    },
    {
     "name": "stdout",
     "output_type": "stream",
     "text": [
      " 0.702068085537"
     ]
    },
    {
     "name": "stdout",
     "output_type": "stream",
     "text": [
      " \n\t\t[0.06790123456790123, 0.06596390466526811, 0.05813100729107371, 0.06183511119282508, 0.069610440178368, 0.07750039390294489, 0.08419821393572552, 0.0960650694633359, 0.10077596711159795, 0.10738393277857027]\n"
     ]
    },
    {
     "name": "stdout",
     "output_type": "stream",
     "text": [
      "0.546905964235"
     ]
    },
    {
     "name": "stdout",
     "output_type": "stream",
     "text": [
      " 0.652695049723"
     ]
    },
    {
     "name": "stdout",
     "output_type": "stream",
     "text": [
      " 0.616601843086"
     ]
    },
    {
     "name": "stdout",
     "output_type": "stream",
     "text": [
      " 0.688012093224"
     ]
    },
    {
     "name": "stdout",
     "output_type": "stream",
     "text": [
      " 0.673769013225"
     ]
    },
    {
     "name": "stdout",
     "output_type": "stream",
     "text": [
      " 0.704392226606"
     ]
    },
    {
     "name": "stdout",
     "output_type": "stream",
     "text": [
      " 0.60862230228"
     ]
    },
    {
     "name": "stdout",
     "output_type": "stream",
     "text": [
      " 0.641516957277"
     ]
    },
    {
     "name": "stdout",
     "output_type": "stream",
     "text": [
      " 0.746098464073"
     ]
    },
    {
     "name": "stdout",
     "output_type": "stream",
     "text": [
      " 0.636690038994"
     ]
    },
    {
     "name": "stdout",
     "output_type": "stream",
     "text": [
      " \n\t\t[0.06790123456790123, 0.05163602291584065, 0.05585535736683346, 0.05994206068376289, 0.06310632019281018, 0.07136677892524367, 0.07437770559383636, 0.08988451835333472, 0.09459541600159677, 0.0995357101107067]\n"
     ]
    },
    {
     "name": "stdout",
     "output_type": "stream",
     "text": [
      "0.640414711399"
     ]
    },
    {
     "name": "stdout",
     "output_type": "stream",
     "text": [
      " 0.707022548974"
     ]
    },
    {
     "name": "stdout",
     "output_type": "stream",
     "text": [
      " 0.655470941032"
     ]
    },
    {
     "name": "stdout",
     "output_type": "stream",
     "text": [
      " 0.709573476926"
     ]
    },
    {
     "name": "stdout",
     "output_type": "stream",
     "text": [
      " 0.583941093211"
     ]
    },
    {
     "name": "stdout",
     "output_type": "stream",
     "text": [
      " 0.709890355138"
     ]
    },
    {
     "name": "stdout",
     "output_type": "stream",
     "text": [
      " 0.710534601862"
     ]
    },
    {
     "name": "stdout",
     "output_type": "stream",
     "text": [
      " 0.62549302378"
     ]
    },
    {
     "name": "stdout",
     "output_type": "stream",
     "text": [
      " 0.669842130829"
     ]
    },
    {
     "name": "stdout",
     "output_type": "stream",
     "text": [
      " 0.741031312617"
     ]
    },
    {
     "name": "stdout",
     "output_type": "stream",
     "text": [
      " \n\t\t[0.06790123456790123, 0.06596390466526811, 0.05813100729107371, 0.06183511119282508, 0.0722250473279623, 0.08083091059183654, 0.08685146300901733, 0.09976098821216788, 0.10446569729863958, 0.10724116888625283]\n"
     ]
    },
    {
     "name": "stdout",
     "output_type": "stream",
     "text": [
      "0.641887356717"
     ]
    },
    {
     "name": "stdout",
     "output_type": "stream",
     "text": [
      " 0.608131154309"
     ]
    },
    {
     "name": "stdout",
     "output_type": "stream",
     "text": [
      " 0.669798785926"
     ]
    },
    {
     "name": "stdout",
     "output_type": "stream",
     "text": [
      " 0.665289419935"
     ]
    },
    {
     "name": "stdout",
     "output_type": "stream",
     "text": [
      " 0.582134284237"
     ]
    },
    {
     "name": "stdout",
     "output_type": "stream",
     "text": [
      " 0.577078321466"
     ]
    },
    {
     "name": "stdout",
     "output_type": "stream",
     "text": [
      " 0.762359696898"
     ]
    },
    {
     "name": "stdout",
     "output_type": "stream",
     "text": [
      " 0.69458018203"
     ]
    },
    {
     "name": "stdout",
     "output_type": "stream",
     "text": [
      " 0.623101876399"
     ]
    },
    {
     "name": "stdout",
     "output_type": "stream",
     "text": [
      " 0.603587920732"
     ]
    },
    {
     "name": "stdout",
     "output_type": "stream",
     "text": [
      " \n\t\t[0.06790123456790123, 0.06596390466526811, 0.05813100729107371, 0.06183511119282508, 0.069610440178368, 0.08246739098960877, 0.08454193199644944, 0.10214339097079773, 0.10511396099216179, 0.10955833110839287]\n"
     ]
    },
    {
     "name": "stdout",
     "output_type": "stream",
     "text": [
      "0.684483590803"
     ]
    },
    {
     "name": "stdout",
     "output_type": "stream",
     "text": [
      " 0.606395010806"
     ]
    },
    {
     "name": "stdout",
     "output_type": "stream",
     "text": [
      " 0.689543833348"
     ]
    },
    {
     "name": "stdout",
     "output_type": "stream",
     "text": [
      " 0.570250760638"
     ]
    },
    {
     "name": "stdout",
     "output_type": "stream",
     "text": [
      " 0.719307329203"
     ]
    },
    {
     "name": "stdout",
     "output_type": "stream",
     "text": [
      " 0.699651512426"
     ]
    },
    {
     "name": "stdout",
     "output_type": "stream",
     "text": [
      " 0.677068611396"
     ]
    },
    {
     "name": "stdout",
     "output_type": "stream",
     "text": [
      " 0.647097696919"
     ]
    },
    {
     "name": "stdout",
     "output_type": "stream",
     "text": [
      " 0.707446661984"
     ]
    },
    {
     "name": "stdout",
     "output_type": "stream",
     "text": [
      " 0.595778477655"
     ]
    },
    {
     "name": "stdout",
     "output_type": "stream",
     "text": [
      " \n\t\t[0.06790123456790123, 0.05163602291584065, 0.05585535736683346, 0.05994206068376289, 0.06310632019281018, 0.07633377601190754, 0.08241368461025529, 0.08833125925920624, 0.10245108837923624, 0.10828506859510686]\n"
     ]
    },
    {
     "name": "stdout",
     "output_type": "stream",
     "text": [
      "0.655344874314"
     ]
    },
    {
     "name": "stdout",
     "output_type": "stream",
     "text": [
      " 0.711439429969"
     ]
    },
    {
     "name": "stdout",
     "output_type": "stream",
     "text": [
      " 0.661498625976"
     ]
    },
    {
     "name": "stdout",
     "output_type": "stream",
     "text": [
      " 0.60012832171"
     ]
    },
    {
     "name": "stdout",
     "output_type": "stream",
     "text": [
      " 0.646021750387"
     ]
    },
    {
     "name": "stdout",
     "output_type": "stream",
     "text": [
      " 0.643098124077"
     ]
    },
    {
     "name": "stdout",
     "output_type": "stream",
     "text": [
      " 0.774022131635"
     ]
    },
    {
     "name": "stdout",
     "output_type": "stream",
     "text": [
      " 0.70133180792"
     ]
    },
    {
     "name": "stdout",
     "output_type": "stream",
     "text": [
      " 0.685833236474"
     ]
    },
    {
     "name": "stdout",
     "output_type": "stream",
     "text": [
      " 0.685939621513"
     ]
    },
    {
     "name": "stdout",
     "output_type": "stream",
     "text": [
      " \n\t\t[0.06790123456790123, 0.06596390466526811, 0.05813100729107371, 0.06183511119282508, 0.0722250473279623, 0.08505051531280204, 0.08711539048746329, 0.10261744505990594, 0.10558721686114733, 0.11095761933167446]\n"
     ]
    },
    {
     "name": "stdout",
     "output_type": "stream",
     "text": [
      "0.734710683859"
     ]
    },
    {
     "name": "stdout",
     "output_type": "stream",
     "text": [
      " 0.620779461511"
     ]
    },
    {
     "name": "stdout",
     "output_type": "stream",
     "text": [
      " 0.700496126178"
     ]
    },
    {
     "name": "stdout",
     "output_type": "stream",
     "text": [
      " 0.674226875775"
     ]
    },
    {
     "name": "stdout",
     "output_type": "stream",
     "text": [
      " 0.768390832998"
     ]
    },
    {
     "name": "stdout",
     "output_type": "stream",
     "text": [
      " 0.683197263659"
     ]
    },
    {
     "name": "stdout",
     "output_type": "stream",
     "text": [
      " 0.580803041535"
     ]
    },
    {
     "name": "stdout",
     "output_type": "stream",
     "text": [
      " 0.550909081512"
     ]
    },
    {
     "name": "stdout",
     "output_type": "stream",
     "text": [
      " 0.736574664351"
     ]
    },
    {
     "name": "stdout",
     "output_type": "stream",
     "text": [
      " 0.618631244283"
     ]
    },
    {
     "name": "stdout",
     "output_type": "stream",
     "text": [
      " \n\t\t[0.10493827160493828, 0.0907941732571094, 0.08690940185128071, 0.09504674668928284, 0.09497661121635256, 0.10248909537528456, 0.11100784299528549, 0.11480613011153774, 0.13065264487557868, 0.13796004006937748]\n"
     ]
    },
    {
     "name": "stdout",
     "output_type": "stream",
     "text": [
      "0.603367855127"
     ]
    },
    {
     "name": "stdout",
     "output_type": "stream",
     "text": [
      " 0.812910022475"
     ]
    },
    {
     "name": "stdout",
     "output_type": "stream",
     "text": [
      " 0.524654125623"
     ]
    },
    {
     "name": "stdout",
     "output_type": "stream",
     "text": [
      " 0.792961905176"
     ]
    },
    {
     "name": "stdout",
     "output_type": "stream",
     "text": [
      " 0.794391883265"
     ]
    },
    {
     "name": "stdout",
     "output_type": "stream",
     "text": [
      " 0.57320958653"
     ]
    },
    {
     "name": "stdout",
     "output_type": "stream",
     "text": [
      " 0.67834265648"
     ]
    },
    {
     "name": "stdout",
     "output_type": "stream",
     "text": [
      " 0.69648906438"
     ]
    },
    {
     "name": "stdout",
     "output_type": "stream",
     "text": [
      " 0.612165463165"
     ]
    },
    {
     "name": "stdout",
     "output_type": "stream",
     "text": [
      " 0.725147763464"
     ]
    },
    {
     "name": "stdout",
     "output_type": "stream",
     "text": [
      " \n\t\t[0.06790123456790123, 0.08241289971892728, 0.08049470499732177, 0.08348359122548693, 0.08979004777674317, 0.09424369811910509, 0.10295902015716843, 0.11771746293355546, 0.11894467135080211, 0.13074325090121566]\n"
     ]
    },
    {
     "name": "stdout",
     "output_type": "stream",
     "text": [
      "0.717435889758"
     ]
    },
    {
     "name": "stdout",
     "output_type": "stream",
     "text": [
      " 0.535388787724"
     ]
    },
    {
     "name": "stdout",
     "output_type": "stream",
     "text": [
      " 0.593943702185"
     ]
    },
    {
     "name": "stdout",
     "output_type": "stream",
     "text": [
      " 0.61704810677"
     ]
    },
    {
     "name": "stdout",
     "output_type": "stream",
     "text": [
      " 0.643359982754"
     ]
    },
    {
     "name": "stdout",
     "output_type": "stream",
     "text": [
      " 0.623505802475"
     ]
    },
    {
     "name": "stdout",
     "output_type": "stream",
     "text": [
      " 0.580799308512"
     ]
    },
    {
     "name": "stdout",
     "output_type": "stream",
     "text": [
      " 0.749728062614"
     ]
    },
    {
     "name": "stdout",
     "output_type": "stream",
     "text": [
      " 0.666595272303"
     ]
    },
    {
     "name": "stdout",
     "output_type": "stream",
     "text": [
      " 0.652166016069"
     ]
    },
    {
     "name": "stdout",
     "output_type": "stream",
     "text": [
      " \n\t\t[0.06790123456790123, 0.05163602291584065, 0.05585535736683346, 0.05994206068376289, 0.06572092734240445, 0.06754317217752076, 0.07657200135809861, 0.09207426544088315, 0.09678083751627455, 0.10409702053752629]\n"
     ]
    },
    {
     "name": "stdout",
     "output_type": "stream",
     "text": [
      "0.590306303987"
     ]
    },
    {
     "name": "stdout",
     "output_type": "stream",
     "text": [
      " 0.615389942696"
     ]
    },
    {
     "name": "stdout",
     "output_type": "stream",
     "text": [
      " 0.729747397378"
     ]
    },
    {
     "name": "stdout",
     "output_type": "stream",
     "text": [
      " 0.675726051118"
     ]
    },
    {
     "name": "stdout",
     "output_type": "stream",
     "text": [
      " 0.698320526715"
     ]
    },
    {
     "name": "stdout",
     "output_type": "stream",
     "text": [
      " 0.698743130174"
     ]
    },
    {
     "name": "stdout",
     "output_type": "stream",
     "text": [
      " 0.71672431915"
     ]
    },
    {
     "name": "stdout",
     "output_type": "stream",
     "text": [
      " 0.696506058586"
     ]
    },
    {
     "name": "stdout",
     "output_type": "stream",
     "text": [
      " 0.638743241854"
     ]
    },
    {
     "name": "stdout",
     "output_type": "stream",
     "text": [
      " 0.677001632902"
     ]
    },
    {
     "name": "stdout",
     "output_type": "stream",
     "text": [
      " \n\t\t[0.06790123456790123, 0.06596390466526811, 0.05813100729107371, 0.06183511119282508, 0.0722250473279623, 0.08008351822613816, 0.08295778762431115, 0.08782359524429423, 0.10020426081876899, 0.10464745149888396]\n"
     ]
    },
    {
     "name": "stdout",
     "output_type": "stream",
     "text": [
      "0.652154402731"
     ]
    },
    {
     "name": "stdout",
     "output_type": "stream",
     "text": [
      " 0.666818993317"
     ]
    },
    {
     "name": "stdout",
     "output_type": "stream",
     "text": [
      " 0.751176069728"
     ]
    },
    {
     "name": "stdout",
     "output_type": "stream",
     "text": [
      " 0.737205551331"
     ]
    },
    {
     "name": "stdout",
     "output_type": "stream",
     "text": [
      " 0.638440373533"
     ]
    },
    {
     "name": "stdout",
     "output_type": "stream",
     "text": [
      " 0.755142576946"
     ]
    },
    {
     "name": "stdout",
     "output_type": "stream",
     "text": [
      " 0.473321003646"
     ]
    },
    {
     "name": "stdout",
     "output_type": "stream",
     "text": [
      " 0.699303083721"
     ]
    },
    {
     "name": "stdout",
     "output_type": "stream",
     "text": [
      " 0.653460065817"
     ]
    },
    {
     "name": "stdout",
     "output_type": "stream",
     "text": [
      " 0.706873726844"
     ]
    },
    {
     "name": "stdout",
     "output_type": "stream",
     "text": [
      " \n\t\t[0.06790123456790123, 0.06808501796949983, 0.06361400564229344, 0.07364038814140551, 0.07752246542110539, 0.08594834790528323, 0.08902889897910837, 0.10634014137577211, 0.11032653414818736, 0.11929607380525395]\n"
     ]
    },
    {
     "name": "stdout",
     "output_type": "stream",
     "text": [
      "0.610170730373"
     ]
    },
    {
     "name": "stdout",
     "output_type": "stream",
     "text": [
      " 0.645181611055"
     ]
    },
    {
     "name": "stdout",
     "output_type": "stream",
     "text": [
      " 0.612706587499"
     ]
    },
    {
     "name": "stdout",
     "output_type": "stream",
     "text": [
      " 0.666954433335"
     ]
    },
    {
     "name": "stdout",
     "output_type": "stream",
     "text": [
      " 0.572602980146"
     ]
    },
    {
     "name": "stdout",
     "output_type": "stream",
     "text": [
      " 0.725235177406"
     ]
    },
    {
     "name": "stdout",
     "output_type": "stream",
     "text": [
      " 0.598691835645"
     ]
    },
    {
     "name": "stdout",
     "output_type": "stream",
     "text": [
      " 0.641915006235"
     ]
    },
    {
     "name": "stdout",
     "output_type": "stream",
     "text": [
      " 0.721467599745"
     ]
    },
    {
     "name": "stdout",
     "output_type": "stream",
     "text": [
      " 0.635732421618"
     ]
    },
    {
     "name": "stdout",
     "output_type": "stream",
     "text": [
      " \n\t\t[0.06790123456790123, 0.06051796612206774, 0.054628534362726945, 0.059273820051725275, 0.0668642765778673, 0.07740642984603374, 0.08346938377565195, 0.08352703492880777, 0.09865870388929336, 0.10108737796798131]\n"
     ]
    },
    {
     "name": "stdout",
     "output_type": "stream",
     "text": [
      "0.758000317079"
     ]
    },
    {
     "name": "stdout",
     "output_type": "stream",
     "text": [
      " 0.665916564416"
     ]
    },
    {
     "name": "stdout",
     "output_type": "stream",
     "text": [
      " 0.595642467856"
     ]
    },
    {
     "name": "stdout",
     "output_type": "stream",
     "text": [
      " 0.694719961023"
     ]
    },
    {
     "name": "stdout",
     "output_type": "stream",
     "text": [
      " 0.750126519226"
     ]
    },
    {
     "name": "stdout",
     "output_type": "stream",
     "text": [
      " 0.62848816898"
     ]
    },
    {
     "name": "stdout",
     "output_type": "stream",
     "text": [
      " 0.699966383304"
     ]
    },
    {
     "name": "stdout",
     "output_type": "stream",
     "text": [
      " 0.59442367743"
     ]
    },
    {
     "name": "stdout",
     "output_type": "stream",
     "text": [
      " 0.699831456417"
     ]
    },
    {
     "name": "stdout",
     "output_type": "stream",
     "text": [
      " 0.729019202235"
     ]
    },
    {
     "name": "stdout",
     "output_type": "stream",
     "text": [
      " \n\t\t[0.10493827160493828, 0.07770706325043823, 0.07915075357582071, 0.08398332581232423, 0.09044287617835917, 0.09880631331524942, 0.10699660792962527, 0.11066679457510407, 0.13036199081589395, 0.13434286785423835]\n"
     ]
    },
    {
     "name": "stdout",
     "output_type": "stream",
     "text": [
      "0.591200955991"
     ]
    },
    {
     "name": "stdout",
     "output_type": "stream",
     "text": [
      " 0.585921965695"
     ]
    },
    {
     "name": "stdout",
     "output_type": "stream",
     "text": [
      " 0.622364746584"
     ]
    },
    {
     "name": "stdout",
     "output_type": "stream",
     "text": [
      " 0.617669033917"
     ]
    },
    {
     "name": "stdout",
     "output_type": "stream",
     "text": [
      " 0.6132226563"
     ]
    },
    {
     "name": "stdout",
     "output_type": "stream",
     "text": [
      " 0.657951922249"
     ]
    },
    {
     "name": "stdout",
     "output_type": "stream",
     "text": [
      " 0.719744508084"
     ]
    },
    {
     "name": "stdout",
     "output_type": "stream",
     "text": [
      " 0.551100042107"
     ]
    },
    {
     "name": "stdout",
     "output_type": "stream",
     "text": [
      " 0.652149208445"
     ]
    },
    {
     "name": "stdout",
     "output_type": "stream",
     "text": [
      " 0.825447878293"
     ]
    },
    {
     "name": "stdout",
     "output_type": "stream",
     "text": [
      " \n\t\t[0.10493827160493828, 0.07770706325043823, 0.07915075357582071, 0.08398332581232423, 0.09044287617835917, 0.09314697461003164, 0.11039936491559266, 0.12506746251291626, 0.12630053335255334, 0.13431057127139762]\n"
     ]
    },
    {
     "name": "stdout",
     "output_type": "stream",
     "text": [
      "0.645824515839"
     ]
    },
    {
     "name": "stdout",
     "output_type": "stream",
     "text": [
      " 0.654991136672"
     ]
    },
    {
     "name": "stdout",
     "output_type": "stream",
     "text": [
      " 0.646552175292"
     ]
    },
    {
     "name": "stdout",
     "output_type": "stream",
     "text": [
      " 0.596146590791"
     ]
    },
    {
     "name": "stdout",
     "output_type": "stream",
     "text": [
      " 0.642744170744"
     ]
    },
    {
     "name": "stdout",
     "output_type": "stream",
     "text": [
      " 0.60110339429"
     ]
    },
    {
     "name": "stdout",
     "output_type": "stream",
     "text": [
      " 0.657261457715"
     ]
    },
    {
     "name": "stdout",
     "output_type": "stream",
     "text": [
      " 0.637373409504"
     ]
    },
    {
     "name": "stdout",
     "output_type": "stream",
     "text": [
      " 0.546261027616"
     ]
    },
    {
     "name": "stdout",
     "output_type": "stream",
     "text": [
      " 0.688054147087"
     ]
    },
    {
     "name": "stdout",
     "output_type": "stream",
     "text": [
      " \n\t\t[0.06790123456790123, 0.05163602291584065, 0.04716501058863427, 0.05893974628654314, 0.06485012168336367, 0.06336768701118657, 0.07633356055039069, 0.09475205319980064, 0.09946197995027238, 0.10382967233596353]\n"
     ]
    },
    {
     "name": "stdout",
     "output_type": "stream",
     "text": [
      "0.664866228597"
     ]
    },
    {
     "name": "stdout",
     "output_type": "stream",
     "text": [
      " 0.657063324724"
     ]
    },
    {
     "name": "stdout",
     "output_type": "stream",
     "text": [
      " 0.591003370782"
     ]
    },
    {
     "name": "stdout",
     "output_type": "stream",
     "text": [
      " 0.577929310252"
     ]
    },
    {
     "name": "stdout",
     "output_type": "stream",
     "text": [
      " 0.808687701769"
     ]
    },
    {
     "name": "stdout",
     "output_type": "stream",
     "text": [
      " 0.711457092559"
     ]
    },
    {
     "name": "stdout",
     "output_type": "stream",
     "text": [
      " 0.705500487907"
     ]
    },
    {
     "name": "stdout",
     "output_type": "stream",
     "text": [
      " 0.732537455683"
     ]
    },
    {
     "name": "stdout",
     "output_type": "stream",
     "text": [
      " 0.601743315366"
     ]
    },
    {
     "name": "stdout",
     "output_type": "stream",
     "text": [
      " 0.615513213057"
     ]
    },
    {
     "name": "stdout",
     "output_type": "stream",
     "text": [
      " \n\t\t[0.06790123456790123, 0.06596390466526811, 0.05813100729107371, 0.06183511119282508, 0.0722250473279623, 0.07442417952092037, 0.08644005460684648, 0.10308478562497277, 0.10779125838781847, 0.11343972231656849]\n"
     ]
    },
    {
     "name": "stdout",
     "output_type": "stream",
     "text": [
      "0.589380041196"
     ]
    },
    {
     "name": "stdout",
     "output_type": "stream",
     "text": [
      " 0.772150099756"
     ]
    },
    {
     "name": "stdout",
     "output_type": "stream",
     "text": [
      " 0.688201649914"
     ]
    },
    {
     "name": "stdout",
     "output_type": "stream",
     "text": [
      " 0.707658480949"
     ]
    },
    {
     "name": "stdout",
     "output_type": "stream",
     "text": [
      " 0.710038865364"
     ]
    },
    {
     "name": "stdout",
     "output_type": "stream",
     "text": [
      " 0.654788346749"
     ]
    },
    {
     "name": "stdout",
     "output_type": "stream",
     "text": [
      " 0.591590710129"
     ]
    },
    {
     "name": "stdout",
     "output_type": "stream",
     "text": [
      " 0.650763078916"
     ]
    },
    {
     "name": "stdout",
     "output_type": "stream",
     "text": [
      " 0.727306547983"
     ]
    },
    {
     "name": "stdout",
     "output_type": "stream",
     "text": [
      " 0.863242007541"
     ]
    },
    {
     "name": "stdout",
     "output_type": "stream",
     "text": [
      " \n\t\t[0.06790123456790123, 0.06808501796949983, 0.06361400564229344, 0.07364038814140551, 0.08013707257069967, 0.08853147222847652, 0.09742816766434095, 0.11691520787176785, 0.12089727507131248, 0.12626772507647893]\n"
     ]
    },
    {
     "name": "stdout",
     "output_type": "stream",
     "text": [
      "0.664063608883"
     ]
    },
    {
     "name": "stdout",
     "output_type": "stream",
     "text": [
      " 0.721257875145"
     ]
    },
    {
     "name": "stdout",
     "output_type": "stream",
     "text": [
      " 0.786788238001"
     ]
    },
    {
     "name": "stdout",
     "output_type": "stream",
     "text": [
      " 0.767705180444"
     ]
    },
    {
     "name": "stdout",
     "output_type": "stream",
     "text": [
      " 0.607860357441"
     ]
    },
    {
     "name": "stdout",
     "output_type": "stream",
     "text": [
      " 0.685919652392"
     ]
    },
    {
     "name": "stdout",
     "output_type": "stream",
     "text": [
      " 0.639521192718"
     ]
    },
    {
     "name": "stdout",
     "output_type": "stream",
     "text": [
      " 0.640868698378"
     ]
    },
    {
     "name": "stdout",
     "output_type": "stream",
     "text": [
      " 0.68316253795"
     ]
    },
    {
     "name": "stdout",
     "output_type": "stream",
     "text": [
      " 0.5142518472"
     ]
    },
    {
     "name": "stdout",
     "output_type": "stream",
     "text": [
      " \n\t\t[0.10493827160493828, 0.07770706325043823, 0.0850654562284096, 0.08918281079132691, 0.09155888157348088, 0.09645462120527203, 0.11366393290068037, 0.1300024041818942, 0.13578217794060252, 0.1395179492919162]\n"
     ]
    },
    {
     "name": "stdout",
     "output_type": "stream",
     "text": [
      "0.58679092171"
     ]
    },
    {
     "name": "stdout",
     "output_type": "stream",
     "text": [
      " 0.644947423731"
     ]
    },
    {
     "name": "stdout",
     "output_type": "stream",
     "text": [
      " 0.711456281485"
     ]
    },
    {
     "name": "stdout",
     "output_type": "stream",
     "text": [
      " 0.584285612819"
     ]
    },
    {
     "name": "stdout",
     "output_type": "stream",
     "text": [
      " 0.565669469252"
     ]
    },
    {
     "name": "stdout",
     "output_type": "stream",
     "text": [
      " 0.626905032227"
     ]
    },
    {
     "name": "stdout",
     "output_type": "stream",
     "text": [
      " 0.747926990117"
     ]
    },
    {
     "name": "stdout",
     "output_type": "stream",
     "text": [
      " 0.660215259804"
     ]
    },
    {
     "name": "stdout",
     "output_type": "stream",
     "text": [
      " 0.60772641989"
     ]
    },
    {
     "name": "stdout",
     "output_type": "stream",
     "text": [
      " 0.5682167427"
     ]
    },
    {
     "name": "stdout",
     "output_type": "stream",
     "text": [
      " \n\t\t[0.06790123456790123, 0.06808501796949983, 0.06361400564229344, 0.07364038814140551, 0.08013707257069967, 0.0828721335232587, 0.09706430416902875, 0.11176850118854206, 0.115750469075541, 0.1197312614464286]\n"
     ]
    },
    {
     "name": "stdout",
     "output_type": "stream",
     "text": [
      "0.692608994155"
     ]
    },
    {
     "name": "stdout",
     "output_type": "stream",
     "text": [
      " 0.720763126155"
     ]
    },
    {
     "name": "stdout",
     "output_type": "stream",
     "text": [
      " 0.712696635082"
     ]
    },
    {
     "name": "stdout",
     "output_type": "stream",
     "text": [
      " 0.678752135077"
     ]
    },
    {
     "name": "stdout",
     "output_type": "stream",
     "text": [
      " 0.592089596085"
     ]
    },
    {
     "name": "stdout",
     "output_type": "stream",
     "text": [
      " 0.776965431058"
     ]
    },
    {
     "name": "stdout",
     "output_type": "stream",
     "text": [
      " 0.689150740862"
     ]
    },
    {
     "name": "stdout",
     "output_type": "stream",
     "text": [
      " 0.613372377287"
     ]
    },
    {
     "name": "stdout",
     "output_type": "stream",
     "text": [
      " 0.691978547597"
     ]
    },
    {
     "name": "stdout",
     "output_type": "stream",
     "text": [
      " 0.64954967049"
     ]
    },
    {
     "name": "stdout",
     "output_type": "stream",
     "text": [
      " \n\t\t[0.06790123456790123, 0.07696696117572692, 0.07107752941638613, 0.07572281510538445, 0.08592787878112075, 0.08840071556582194, 0.09648285704404017, 0.10797662874022806, 0.12492275104074613, 0.1316129712354318]\n"
     ]
    },
    {
     "name": "stdout",
     "output_type": "stream",
     "text": [
      "0.669644443465"
     ]
    },
    {
     "name": "stdout",
     "output_type": "stream",
     "text": [
      " 0.737841030159"
     ]
    },
    {
     "name": "stdout",
     "output_type": "stream",
     "text": [
      " 0.770848844835"
     ]
    },
    {
     "name": "stdout",
     "output_type": "stream",
     "text": [
      " 0.633643015675"
     ]
    },
    {
     "name": "stdout",
     "output_type": "stream",
     "text": [
      " 0.653496841232"
     ]
    },
    {
     "name": "stdout",
     "output_type": "stream",
     "text": [
      " 0.630685352603"
     ]
    },
    {
     "name": "stdout",
     "output_type": "stream",
     "text": [
      " 0.675974104093"
     ]
    },
    {
     "name": "stdout",
     "output_type": "stream",
     "text": [
      " 0.629181627651"
     ]
    },
    {
     "name": "stdout",
     "output_type": "stream",
     "text": [
      " 0.726547156337"
     ]
    },
    {
     "name": "stdout",
     "output_type": "stream",
     "text": [
      " 0.634777142891"
     ]
    },
    {
     "name": "stdout",
     "output_type": "stream",
     "text": [
      " \n\t\t[0.06790123456790123, 0.05163602291584065, 0.06611523340852192, 0.07094780564502544, 0.07740735601106037, 0.0860726313947094, 0.10078174157146849, 0.11541606289426765, 0.12258747393234636, 0.12927774166167139]\n"
     ]
    },
    {
     "name": "stdout",
     "output_type": "stream",
     "text": [
      "0.6484026347"
     ]
    },
    {
     "name": "stdout",
     "output_type": "stream",
     "text": [
      " 0.673239719725"
     ]
    },
    {
     "name": "stdout",
     "output_type": "stream",
     "text": [
      " 0.648544121771"
     ]
    },
    {
     "name": "stdout",
     "output_type": "stream",
     "text": [
      " 0.646112260091"
     ]
    },
    {
     "name": "stdout",
     "output_type": "stream",
     "text": [
      " 0.632520313661"
     ]
    },
    {
     "name": "stdout",
     "output_type": "stream",
     "text": [
      " 0.702641092099"
     ]
    },
    {
     "name": "stdout",
     "output_type": "stream",
     "text": [
      " 0.666077516955"
     ]
    },
    {
     "name": "stdout",
     "output_type": "stream",
     "text": [
      " 0.662819676742"
     ]
    },
    {
     "name": "stdout",
     "output_type": "stream",
     "text": [
      " 0.569339816248"
     ]
    },
    {
     "name": "stdout",
     "output_type": "stream",
     "text": [
      " 0.714031080472"
     ]
    },
    {
     "name": "stdout",
     "output_type": "stream",
     "text": [
      " \n\t\t[0.15123456790123455, 0.10670136389085261, 0.1080216747011372, 0.11020437290722358, 0.11174921385307546, 0.11021148418893609, 0.11908781631696187, 0.13943754556036103, 0.14193765158033647, 0.14725665921337616]\n"
     ]
    },
    {
     "name": "stdout",
     "output_type": "stream",
     "text": [
      "0.600122716614"
     ]
    },
    {
     "name": "stdout",
     "output_type": "stream",
     "text": [
      " 0.667387946101"
     ]
    },
    {
     "name": "stdout",
     "output_type": "stream",
     "text": [
      " 0.629382094424"
     ]
    },
    {
     "name": "stdout",
     "output_type": "stream",
     "text": [
      " 0.580692017244"
     ]
    },
    {
     "name": "stdout",
     "output_type": "stream",
     "text": [
      " 0.64877601856"
     ]
    },
    {
     "name": "stdout",
     "output_type": "stream",
     "text": [
      " 0.656850593423"
     ]
    },
    {
     "name": "stdout",
     "output_type": "stream",
     "text": [
      " 0.632758920233"
     ]
    },
    {
     "name": "stdout",
     "output_type": "stream",
     "text": [
      " 0.673693259282"
     ]
    },
    {
     "name": "stdout",
     "output_type": "stream",
     "text": [
      " 0.769143220277"
     ]
    },
    {
     "name": "stdout",
     "output_type": "stream",
     "text": [
      " 0.578387267371"
     ]
    },
    {
     "name": "stdout",
     "output_type": "stream",
     "text": [
      " \n\t\t[0.06790123456790123, 0.06051796612206774, 0.054628534362726945, 0.059273820051725275, 0.06947888372746158, 0.08060062868017409, 0.0866348537713806, 0.09836297836448694, 0.10233885931436824, 0.10902616607693506]\n"
     ]
    },
    {
     "name": "stdout",
     "output_type": "stream",
     "text": [
      "0.74486518146"
     ]
    },
    {
     "name": "stdout",
     "output_type": "stream",
     "text": [
      " 0.571191918221"
     ]
    },
    {
     "name": "stdout",
     "output_type": "stream",
     "text": [
      " 0.728428431974"
     ]
    },
    {
     "name": "stdout",
     "output_type": "stream",
     "text": [
      " 0.623671847678"
     ]
    },
    {
     "name": "stdout",
     "output_type": "stream",
     "text": [
      " 0.843797355866"
     ]
    },
    {
     "name": "stdout",
     "output_type": "stream",
     "text": [
      " 0.623920398719"
     ]
    },
    {
     "name": "stdout",
     "output_type": "stream",
     "text": [
      " 0.611482618428"
     ]
    },
    {
     "name": "stdout",
     "output_type": "stream",
     "text": [
      " 0.617070552555"
     ]
    },
    {
     "name": "stdout",
     "output_type": "stream",
     "text": [
      " 0.805331993604"
     ]
    },
    {
     "name": "stdout",
     "output_type": "stream",
     "text": [
      " 0.61604968126"
     ]
    },
    {
     "name": "stdout",
     "output_type": "stream",
     "text": [
      " \n\t\t[0.08641975308641976, 0.06571356983124563, 0.07082382119898975, 0.07351074041473468, 0.07535114732580553, 0.07755807132054894, 0.08879941471649161, 0.10335776658745296, 0.1073304180644354, 0.11401185043166819]\n"
     ]
    },
    {
     "name": "stdout",
     "output_type": "stream",
     "text": [
      "0.688105461795"
     ]
    },
    {
     "name": "stdout",
     "output_type": "stream",
     "text": [
      " 0.814346931292"
     ]
    },
    {
     "name": "stdout",
     "output_type": "stream",
     "text": [
      " 0.714636096381"
     ]
    },
    {
     "name": "stdout",
     "output_type": "stream",
     "text": [
      " 0.750619746889"
     ]
    },
    {
     "name": "stdout",
     "output_type": "stream",
     "text": [
      " 0.619598332606"
     ]
    },
    {
     "name": "stdout",
     "output_type": "stream",
     "text": [
      " 0.748385399783"
     ]
    },
    {
     "name": "stdout",
     "output_type": "stream",
     "text": [
      " 0.62701253577"
     ]
    },
    {
     "name": "stdout",
     "output_type": "stream",
     "text": [
      " 0.660278857661"
     ]
    },
    {
     "name": "stdout",
     "output_type": "stream",
     "text": [
      " 0.640868502303"
     ]
    },
    {
     "name": "stdout",
     "output_type": "stream",
     "text": [
      " 0.558696439805"
     ]
    },
    {
     "name": "stdout",
     "output_type": "stream",
     "text": [
      " \n\t\t[0.05555555555555555, 0.04842867448886118, 0.05035232865137962, 0.05535003442692768, 0.05926280785252262, 0.06202842475795549, 0.07350613789732409, 0.0881831237579027, 0.0941691783901235, 0.09660007683693646]\n"
     ]
    },
    {
     "name": "stdout",
     "output_type": "stream",
     "text": [
      "0.61515120269"
     ]
    },
    {
     "name": "stdout",
     "output_type": "stream",
     "text": [
      " 0.712594483375"
     ]
    },
    {
     "name": "stdout",
     "output_type": "stream",
     "text": [
      " 0.732973197511"
     ]
    },
    {
     "name": "stdout",
     "output_type": "stream",
     "text": [
      " 0.752598476014"
     ]
    },
    {
     "name": "stdout",
     "output_type": "stream",
     "text": [
      " 0.654887117805"
     ]
    },
    {
     "name": "stdout",
     "output_type": "stream",
     "text": [
      " 0.748623639763"
     ]
    },
    {
     "name": "stdout",
     "output_type": "stream",
     "text": [
      " 0.652240398833"
     ]
    },
    {
     "name": "stdout",
     "output_type": "stream",
     "text": [
      " 0.590182238171"
     ]
    },
    {
     "name": "stdout",
     "output_type": "stream",
     "text": [
      " 0.733463831522"
     ]
    },
    {
     "name": "stdout",
     "output_type": "stream",
     "text": [
      " 0.510408580517"
     ]
    },
    {
     "name": "stdout",
     "output_type": "stream",
     "text": [
      " \n\t\t[0.06790123456790123, 0.05163602291584065, 0.06611523340852192, 0.07094780564502544, 0.07479274886146609, 0.07752833011953957, 0.08879506358853471, 0.11123650676872321, 0.11978306523805982, 0.1236015200623642]\n"
     ]
    },
    {
     "name": "stdout",
     "output_type": "stream",
     "text": [
      "0.761886167735"
     ]
    },
    {
     "name": "stdout",
     "output_type": "stream",
     "text": [
      " 0.705011681621"
     ]
    },
    {
     "name": "stdout",
     "output_type": "stream",
     "text": [
      " 0.66931956466"
     ]
    },
    {
     "name": "stdout",
     "output_type": "stream",
     "text": [
      " 0.833567531914"
     ]
    },
    {
     "name": "stdout",
     "output_type": "stream",
     "text": [
      " 0.711198235922"
     ]
    },
    {
     "name": "stdout",
     "output_type": "stream",
     "text": [
      " 0.71653168013"
     ]
    },
    {
     "name": "stdout",
     "output_type": "stream",
     "text": [
      " 0.713488907146"
     ]
    },
    {
     "name": "stdout",
     "output_type": "stream",
     "text": [
      " 0.614272418211"
     ]
    },
    {
     "name": "stdout",
     "output_type": "stream",
     "text": [
      " 0.538081072684"
     ]
    },
    {
     "name": "stdout",
     "output_type": "stream",
     "text": [
      " 0.736551930224"
     ]
    },
    {
     "name": "stdout",
     "output_type": "stream",
     "text": [
      " \n\t\t[0.10493827160493828, 0.07770706325043823, 0.0850654562284096, 0.08918281079132691, 0.09155888157348088, 0.09651749815455718, 0.0996545730469002, 0.12273189879301837, 0.12670800425762685, 0.13203887270631987]\n"
     ]
    },
    {
     "name": "stdout",
     "output_type": "stream",
     "text": [
      "0.599283567469"
     ]
    },
    {
     "name": "stdout",
     "output_type": "stream",
     "text": [
      " 0.591312626362"
     ]
    },
    {
     "name": "stdout",
     "output_type": "stream",
     "text": [
      " 0.581168529619"
     ]
    },
    {
     "name": "stdout",
     "output_type": "stream",
     "text": [
      " 0.672385679132"
     ]
    },
    {
     "name": "stdout",
     "output_type": "stream",
     "text": [
      " 0.679575792003"
     ]
    },
    {
     "name": "stdout",
     "output_type": "stream",
     "text": [
      " 0.56817388901"
     ]
    },
    {
     "name": "stdout",
     "output_type": "stream",
     "text": [
      " 0.659033990408"
     ]
    },
    {
     "name": "stdout",
     "output_type": "stream",
     "text": [
      " 0.53460543473"
     ]
    },
    {
     "name": "stdout",
     "output_type": "stream",
     "text": [
      " 0.65378147175"
     ]
    },
    {
     "name": "stdout",
     "output_type": "stream",
     "text": [
      " 0.752174660923"
     ]
    },
    {
     "name": "stdout",
     "output_type": "stream",
     "text": [
      " \n\t\t[0.10493827160493828, 0.08867305995287769, 0.0755117008474721, 0.07762062099916466, 0.08477103024564245, 0.09340837633591775, 0.0955924641074304, 0.11109906735658688, 0.11233646376909459, 0.12061205345928998]\n"
     ]
    },
    {
     "name": "stdout",
     "output_type": "stream",
     "text": [
      "0.72775132916"
     ]
    },
    {
     "name": "stdout",
     "output_type": "stream",
     "text": [
      " 0.699664006467"
     ]
    },
    {
     "name": "stdout",
     "output_type": "stream",
     "text": [
      " 0.606610100742"
     ]
    },
    {
     "name": "stdout",
     "output_type": "stream",
     "text": [
      " 0.636853178366"
     ]
    },
    {
     "name": "stdout",
     "output_type": "stream",
     "text": [
      " 0.761986969531"
     ]
    },
    {
     "name": "stdout",
     "output_type": "stream",
     "text": [
      " 0.541218799443"
     ]
    },
    {
     "name": "stdout",
     "output_type": "stream",
     "text": [
      " 0.638304419327"
     ]
    },
    {
     "name": "stdout",
     "output_type": "stream",
     "text": [
      " 0.640335980192"
     ]
    },
    {
     "name": "stdout",
     "output_type": "stream",
     "text": [
      " 0.569353466132"
     ]
    },
    {
     "name": "stdout",
     "output_type": "stream",
     "text": [
      " 0.669841165967"
     ]
    },
    {
     "name": "stdout",
     "output_type": "stream",
     "text": [
      " \n\t\t[0.06790123456790123, 0.08241289971892728, 0.07458000234473289, 0.07828410624648426, 0.08867404238162147, 0.09653251327979735, 0.10325291315581785, 0.1205982183579341, 0.12530479043332554, 0.13234291199635437]\n"
     ]
    },
    {
     "name": "stdout",
     "output_type": "stream",
     "text": [
      "0.64593409783"
     ]
    },
    {
     "name": "stdout",
     "output_type": "stream",
     "text": [
      " 0.677254203026"
     ]
    },
    {
     "name": "stdout",
     "output_type": "stream",
     "text": [
      " 0.648466542529"
     ]
    },
    {
     "name": "stdout",
     "output_type": "stream",
     "text": [
      " 0.588137374966"
     ]
    },
    {
     "name": "stdout",
     "output_type": "stream",
     "text": [
      " 0.701780417582"
     ]
    },
    {
     "name": "stdout",
     "output_type": "stream",
     "text": [
      " 0.645906698369"
     ]
    },
    {
     "name": "stdout",
     "output_type": "stream",
     "text": [
      " 0.567723667568"
     ]
    },
    {
     "name": "stdout",
     "output_type": "stream",
     "text": [
      " 0.628661425779"
     ]
    },
    {
     "name": "stdout",
     "output_type": "stream",
     "text": [
      " 0.74735814664"
     ]
    },
    {
     "name": "stdout",
     "output_type": "stream",
     "text": [
      " 0.738875965786"
     ]
    },
    {
     "name": "stdout",
     "output_type": "stream",
     "text": [
      " \n\t\t[0.06790123456790123, 0.08241289971892728, 0.07458000234473289, 0.07828410624648426, 0.08867404238162147, 0.09012578220888116, 0.10863506927244643, 0.12154480398593889, 0.1262496123849563, 0.13479713494152176]\n"
     ]
    },
    {
     "name": "stdout",
     "output_type": "stream",
     "text": [
      "0.594857607947"
     ]
    },
    {
     "name": "stdout",
     "output_type": "stream",
     "text": [
      " 0.640069718884"
     ]
    },
    {
     "name": "stdout",
     "output_type": "stream",
     "text": [
      " 0.594516799184"
     ]
    },
    {
     "name": "stdout",
     "output_type": "stream",
     "text": [
      " 0.677196615337"
     ]
    },
    {
     "name": "stdout",
     "output_type": "stream",
     "text": [
      " 0.705233177503"
     ]
    },
    {
     "name": "stdout",
     "output_type": "stream",
     "text": [
      " 0.726093352674"
     ]
    },
    {
     "name": "stdout",
     "output_type": "stream",
     "text": [
      " 0.613746306176"
     ]
    },
    {
     "name": "stdout",
     "output_type": "stream",
     "text": [
      " 0.759991810094"
     ]
    },
    {
     "name": "stdout",
     "output_type": "stream",
     "text": [
      " 0.726268817271"
     ]
    },
    {
     "name": "stdout",
     "output_type": "stream",
     "text": [
      " 0.585406822794"
     ]
    },
    {
     "name": "stdout",
     "output_type": "stream",
     "text": [
      " \n\t\t[0.06790123456790123, 0.08241289971892728, 0.07458000234473289, 0.07828410624648426, 0.08605943523202718, 0.09469678132230247, 0.10652056409046212, 0.11838721010773062, 0.12309800844344693, 0.13109553667541943]\n"
     ]
    },
    {
     "name": "stdout",
     "output_type": "stream",
     "text": [
      "0.740485031098"
     ]
    },
    {
     "name": "stdout",
     "output_type": "stream",
     "text": [
      " 0.754104700881"
     ]
    },
    {
     "name": "stdout",
     "output_type": "stream",
     "text": [
      " 0.694714268263"
     ]
    },
    {
     "name": "stdout",
     "output_type": "stream",
     "text": [
      " 0.651002267464"
     ]
    },
    {
     "name": "stdout",
     "output_type": "stream",
     "text": [
      " 0.576019296263"
     ]
    },
    {
     "name": "stdout",
     "output_type": "stream",
     "text": [
      " 0.666979164382"
     ]
    },
    {
     "name": "stdout",
     "output_type": "stream",
     "text": [
      " 0.555590133307"
     ]
    },
    {
     "name": "stdout",
     "output_type": "stream",
     "text": [
      " 0.67159254038"
     ]
    },
    {
     "name": "stdout",
     "output_type": "stream",
     "text": [
      " 0.662020918452"
     ]
    },
    {
     "name": "stdout",
     "output_type": "stream",
     "text": [
      " 0.725700422263"
     ]
    },
    {
     "name": "stdout",
     "output_type": "stream",
     "text": [
      " \n\t\t[0.06790123456790123, 0.06596390466526811, 0.06404570994366258, 0.06703459617182776, 0.07334105272308399, 0.08114898772428338, 0.08400115086179559, 0.0988532826956652, 0.10524215399314986, 0.11254955619955928]\n"
     ]
    },
    {
     "name": "stdout",
     "output_type": "stream",
     "text": [
      "0.605834954136"
     ]
    },
    {
     "name": "stdout",
     "output_type": "stream",
     "text": [
      " 0.652932275201"
     ]
    },
    {
     "name": "stdout",
     "output_type": "stream",
     "text": [
      " 0.548051394902"
     ]
    },
    {
     "name": "stdout",
     "output_type": "stream",
     "text": [
      " 0.801567069176"
     ]
    },
    {
     "name": "stdout",
     "output_type": "stream",
     "text": [
      " 0.648633356157"
     ]
    },
    {
     "name": "stdout",
     "output_type": "stream",
     "text": [
      " 0.716995994381"
     ]
    },
    {
     "name": "stdout",
     "output_type": "stream",
     "text": [
      " 0.787768979987"
     ]
    },
    {
     "name": "stdout",
     "output_type": "stream",
     "text": [
      " 0.714966162771"
     ]
    },
    {
     "name": "stdout",
     "output_type": "stream",
     "text": [
      " 0.602558263612"
     ]
    },
    {
     "name": "stdout",
     "output_type": "stream",
     "text": [
      " 0.869237728846"
     ]
    },
    {
     "name": "stdout",
     "output_type": "stream",
     "text": [
      " \n\t\t[0.10493827160493828, 0.0920349449998657, 0.09011675027826017, 0.09310563650642535, 0.0967974859080873, 0.1046369037356877, 0.11713842770202627, 0.11730130626310441, 0.13315214660001595, 0.13975132443953533]\n"
     ]
    },
    {
     "name": "stdout",
     "output_type": "stream",
     "text": [
      "0.647214341216"
     ]
    },
    {
     "name": "stdout",
     "output_type": "stream",
     "text": [
      " 0.68137893444"
     ]
    },
    {
     "name": "stdout",
     "output_type": "stream",
     "text": [
      " 0.662121105778"
     ]
    },
    {
     "name": "stdout",
     "output_type": "stream",
     "text": [
      " 0.647275687"
     ]
    },
    {
     "name": "stdout",
     "output_type": "stream",
     "text": [
      " 0.692384537387"
     ]
    },
    {
     "name": "stdout",
     "output_type": "stream",
     "text": [
      " 0.63456264238"
     ]
    },
    {
     "name": "stdout",
     "output_type": "stream",
     "text": [
      " 0.735970348625"
     ]
    },
    {
     "name": "stdout",
     "output_type": "stream",
     "text": [
      " 0.559638177239"
     ]
    },
    {
     "name": "stdout",
     "output_type": "stream",
     "text": [
      " 0.59176455157"
     ]
    },
    {
     "name": "stdout",
     "output_type": "stream",
     "text": [
      " 0.606721135013"
     ]
    },
    {
     "name": "stdout",
     "output_type": "stream",
     "text": [
      " \n\t\t[0.06790123456790123, 0.08241289971892728, 0.07458000234473289, 0.07828410624648426, 0.08867404238162147, 0.09653251327979735, 0.1052003471967698, 0.10838868734637697, 0.12593613415254407, 0.13325232418640637]\n"
     ]
    },
    {
     "name": "stdout",
     "output_type": "stream",
     "text": [
      "0.767182192406"
     ]
    },
    {
     "name": "stdout",
     "output_type": "stream",
     "text": [
      " 0.745393484136"
     ]
    },
    {
     "name": "stdout",
     "output_type": "stream",
     "text": [
      " 0.695826905318"
     ]
    },
    {
     "name": "stdout",
     "output_type": "stream",
     "text": [
      " 0.707393536871"
     ]
    },
    {
     "name": "stdout",
     "output_type": "stream",
     "text": [
      " 0.547581133182"
     ]
    },
    {
     "name": "stdout",
     "output_type": "stream",
     "text": [
      " 0.654661503813"
     ]
    },
    {
     "name": "stdout",
     "output_type": "stream",
     "text": [
      " 0.735075168138"
     ]
    },
    {
     "name": "stdout",
     "output_type": "stream",
     "text": [
      " 0.67854303127"
     ]
    },
    {
     "name": "stdout",
     "output_type": "stream",
     "text": [
      " 0.639301256679"
     ]
    },
    {
     "name": "stdout",
     "output_type": "stream",
     "text": [
      " 0.779795834823"
     ]
    },
    {
     "name": "stdout",
     "output_type": "stream",
     "text": [
      " \n\t\t[0.06790123456790123, 0.06596390466526811, 0.05813100729107371, 0.06183511119282508, 0.0722250473279623, 0.07789639187618745, 0.08665643717843377, 0.09047481693582095, 0.104593947148274, 0.11329974026916523]\n"
     ]
    },
    {
     "name": "stdout",
     "output_type": "stream",
     "text": [
      "0.640618485927"
     ]
    },
    {
     "name": "stdout",
     "output_type": "stream",
     "text": [
      " 0.675568272025"
     ]
    },
    {
     "name": "stdout",
     "output_type": "stream",
     "text": [
      " 0.683327474906"
     ]
    },
    {
     "name": "stdout",
     "output_type": "stream",
     "text": [
      " 0.629171764474"
     ]
    },
    {
     "name": "stdout",
     "output_type": "stream",
     "text": [
      " 0.602034632539"
     ]
    },
    {
     "name": "stdout",
     "output_type": "stream",
     "text": [
      " 0.675159125237"
     ]
    },
    {
     "name": "stdout",
     "output_type": "stream",
     "text": [
      " 0.628433395586"
     ]
    },
    {
     "name": "stdout",
     "output_type": "stream",
     "text": [
      " 0.669398840127"
     ]
    },
    {
     "name": "stdout",
     "output_type": "stream",
     "text": [
      " 0.669097765353"
     ]
    },
    {
     "name": "stdout",
     "output_type": "stream",
     "text": [
      " 0.666900808201"
     ]
    },
    {
     "name": "stdout",
     "output_type": "stream",
     "text": [
      " \n\t\t[0.05555555555555555, 0.07920555129194781, 0.07185261775488938, 0.07572185519568528, 0.08356501439038251, 0.09447457322511234, 0.10313333136203597, 0.11499147592680661, 0.12169594849775661, 0.12419372588793162]\n"
     ]
    },
    {
     "name": "stdout",
     "output_type": "stream",
     "text": [
      "0.64924799305"
     ]
    },
    {
     "name": "stdout",
     "output_type": "stream",
     "text": [
      " 0.728442319304"
     ]
    },
    {
     "name": "stdout",
     "output_type": "stream",
     "text": [
      " 0.64583076485"
     ]
    },
    {
     "name": "stdout",
     "output_type": "stream",
     "text": [
      " 0.638175670483"
     ]
    },
    {
     "name": "stdout",
     "output_type": "stream",
     "text": [
      " 0.621077789705"
     ]
    },
    {
     "name": "stdout",
     "output_type": "stream",
     "text": [
      " 0.524245699554"
     ]
    },
    {
     "name": "stdout",
     "output_type": "stream",
     "text": [
      " 0.696003877283"
     ]
    },
    {
     "name": "stdout",
     "output_type": "stream",
     "text": [
      " 0.702598387127"
     ]
    },
    {
     "name": "stdout",
     "output_type": "stream",
     "text": [
      " 0.663301827995"
     ]
    },
    {
     "name": "stdout",
     "output_type": "stream",
     "text": [
      " 0.64398638574"
     ]
    },
    {
     "name": "stdout",
     "output_type": "stream",
     "text": [
      " \n\t\t[0.06790123456790123, 0.08241289971892728, 0.08049470499732177, 0.08348359122548693, 0.08979004777674317, 0.09424369811910509, 0.10295902015716843, 0.10967353584004612, 0.12205000335595875, 0.1280765794720594]\n"
     ]
    },
    {
     "name": "stdout",
     "output_type": "stream",
     "text": [
      "0.74450790385"
     ]
    },
    {
     "name": "stdout",
     "output_type": "stream",
     "text": [
      " 0.629324306598"
     ]
    },
    {
     "name": "stdout",
     "output_type": "stream",
     "text": [
      " 0.71608390076"
     ]
    },
    {
     "name": "stdout",
     "output_type": "stream",
     "text": [
      " 0.668731942646"
     ]
    },
    {
     "name": "stdout",
     "output_type": "stream",
     "text": [
      " 0.704554830874"
     ]
    },
    {
     "name": "stdout",
     "output_type": "stream",
     "text": [
      " 0.680841327957"
     ]
    },
    {
     "name": "stdout",
     "output_type": "stream",
     "text": [
      " 0.695495689039"
     ]
    },
    {
     "name": "stdout",
     "output_type": "stream",
     "text": [
      " 0.642723285231"
     ]
    },
    {
     "name": "stdout",
     "output_type": "stream",
     "text": [
      " 0.607561226475"
     ]
    },
    {
     "name": "stdout",
     "output_type": "stream",
     "text": [
      " 0.569651767986"
     ]
    },
    {
     "name": "stdout",
     "output_type": "stream",
     "text": [
      " \n\t\t[0.06790123456790123, 0.06596390466526811, 0.06404570994366258, 0.06703459617182776, 0.07072644557348971, 0.0785658634010901, 0.08142769237078172, 0.09691441248914519, 0.09814259180418215, 0.10640944120156393]\n"
     ]
    },
    {
     "name": "stdout",
     "output_type": "stream",
     "text": [
      "0.633363196275"
     ]
    },
    {
     "name": "stdout",
     "output_type": "stream",
     "text": [
      " 0.551299623035"
     ]
    },
    {
     "name": "stdout",
     "output_type": "stream",
     "text": [
      " 0.71880441536"
     ]
    },
    {
     "name": "stdout",
     "output_type": "stream",
     "text": [
      " 0.748239564868"
     ]
    },
    {
     "name": "stdout",
     "output_type": "stream",
     "text": [
      " 0.600556165525"
     ]
    },
    {
     "name": "stdout",
     "output_type": "stream",
     "text": [
      " 0.640014919329"
     ]
    },
    {
     "name": "stdout",
     "output_type": "stream",
     "text": [
      " 0.637613521104"
     ]
    },
    {
     "name": "stdout",
     "output_type": "stream",
     "text": [
      " 0.615792004238"
     ]
    },
    {
     "name": "stdout",
     "output_type": "stream",
     "text": [
      " 0.532913479062"
     ]
    },
    {
     "name": "stdout",
     "output_type": "stream",
     "text": [
      " 0.56808851143"
     ]
    },
    {
     "name": "stdout",
     "output_type": "stream",
     "text": [
      " \n\t\t[0.10493827160493828, 0.0920349449998657, 0.09011675027826017, 0.09310563650642535, 0.09941209305768159, 0.10380286645075835, 0.1216347534543044, 0.12243591229075602, 0.13827631838549787, 0.14530272828713306]\n"
     ]
    },
    {
     "name": "stdout",
     "output_type": "stream",
     "text": [
      "0.727043726369"
     ]
    },
    {
     "name": "stdout",
     "output_type": "stream",
     "text": [
      " 0.634395657545"
     ]
    },
    {
     "name": "stdout",
     "output_type": "stream",
     "text": [
      " 0.708818994356"
     ]
    },
    {
     "name": "stdout",
     "output_type": "stream",
     "text": [
      " 0.60395156809"
     ]
    },
    {
     "name": "stdout",
     "output_type": "stream",
     "text": [
      " 0.617170885222"
     ]
    },
    {
     "name": "stdout",
     "output_type": "stream",
     "text": [
      " 0.672920624458"
     ]
    },
    {
     "name": "stdout",
     "output_type": "stream",
     "text": [
      " 0.643111148113"
     ]
    },
    {
     "name": "stdout",
     "output_type": "stream",
     "text": [
      " 0.630018973149"
     ]
    },
    {
     "name": "stdout",
     "output_type": "stream",
     "text": [
      " 0.667144265921"
     ]
    },
    {
     "name": "stdout",
     "output_type": "stream",
     "text": [
      " 0.712966180525"
     ]
    },
    {
     "name": "stdout",
     "output_type": "stream",
     "text": [
      " \n\t\t[0.10493827160493828, 0.0920349449998657, 0.08420204762567131, 0.08790615152742268, 0.09829608766255987, 0.10277471531531868, 0.12125575992592975, 0.1330885054671752, 0.13778882214259397, 0.1478133427359575]\n"
     ]
    },
    {
     "name": "stdout",
     "output_type": "stream",
     "text": [
      "0.62893347064"
     ]
    },
    {
     "name": "stdout",
     "output_type": "stream",
     "text": [
      " 0.583518642733"
     ]
    },
    {
     "name": "stdout",
     "output_type": "stream",
     "text": [
      " 0.68223609844"
     ]
    },
    {
     "name": "stdout",
     "output_type": "stream",
     "text": [
      " 0.622981988289"
     ]
    },
    {
     "name": "stdout",
     "output_type": "stream",
     "text": [
      " 0.660138575894"
     ]
    },
    {
     "name": "stdout",
     "output_type": "stream",
     "text": [
      " 0.552576756578"
     ]
    },
    {
     "name": "stdout",
     "output_type": "stream",
     "text": [
      " 0.654919161577"
     ]
    },
    {
     "name": "stdout",
     "output_type": "stream",
     "text": [
      " 0.55855191916"
     ]
    },
    {
     "name": "stdout",
     "output_type": "stream",
     "text": [
      " 0.772908426276"
     ]
    },
    {
     "name": "stdout",
     "output_type": "stream",
     "text": [
      " 0.744882823288"
     ]
    },
    {
     "name": "stdout",
     "output_type": "stream",
     "text": [
      " \n\t\t[0.0771604938271605, 0.07437016332230463, 0.08379457998941071, 0.08682659302598188, 0.0857010628539112, 0.0916552673017562, 0.1102568423615114, 0.12779335436443737, 0.13101534321448888, 0.1337643448704128]\n"
     ]
    },
    {
     "name": "stdout",
     "output_type": "stream",
     "text": [
      "0.570008718098"
     ]
    },
    {
     "name": "stdout",
     "output_type": "stream",
     "text": [
      " 0.633890542869"
     ]
    },
    {
     "name": "stdout",
     "output_type": "stream",
     "text": [
      " 0.676323081132"
     ]
    },
    {
     "name": "stdout",
     "output_type": "stream",
     "text": [
      " 0.62666024895"
     ]
    },
    {
     "name": "stdout",
     "output_type": "stream",
     "text": [
      " 0.681089501957"
     ]
    },
    {
     "name": "stdout",
     "output_type": "stream",
     "text": [
      " 0.686447101364"
     ]
    },
    {
     "name": "stdout",
     "output_type": "stream",
     "text": [
      " 0.684055364642"
     ]
    },
    {
     "name": "stdout",
     "output_type": "stream",
     "text": [
      " 0.704280251345"
     ]
    },
    {
     "name": "stdout",
     "output_type": "stream",
     "text": [
      " 0.64193859307"
     ]
    },
    {
     "name": "stdout",
     "output_type": "stream",
     "text": [
      " 0.743790601268"
     ]
    },
    {
     "name": "stdout",
     "output_type": "stream",
     "text": [
      " \n\t\t[0.08641975308641976, 0.05683162662501853, 0.07917146171780616, 0.0820150162350684, 0.08089809856333122, 0.09195965853426259, 0.10382729088355387, 0.11987939538132972, 0.12454442926837324, 0.13111203465745025]\n"
     ]
    },
    {
     "name": "stdout",
     "output_type": "stream",
     "text": [
      "0.700248208267"
     ]
    },
    {
     "name": "stdout",
     "output_type": "stream",
     "text": [
      " 0.643096482429"
     ]
    },
    {
     "name": "stdout",
     "output_type": "stream",
     "text": [
      " 0.809271180116"
     ]
    },
    {
     "name": "stdout",
     "output_type": "stream",
     "text": [
      " 0.65828208911"
     ]
    },
    {
     "name": "stdout",
     "output_type": "stream",
     "text": [
      " 0.611402034017"
     ]
    },
    {
     "name": "stdout",
     "output_type": "stream",
     "text": [
      " 0.598842948436"
     ]
    },
    {
     "name": "stdout",
     "output_type": "stream",
     "text": [
      " 0.765793911576"
     ]
    },
    {
     "name": "stdout",
     "output_type": "stream",
     "text": [
      " 0.660639033535"
     ]
    },
    {
     "name": "stdout",
     "output_type": "stream",
     "text": [
      " 0.634048200086"
     ]
    },
    {
     "name": "stdout",
     "output_type": "stream",
     "text": [
      " 0.629393051367"
     ]
    },
    {
     "name": "stdout",
     "output_type": "stream",
     "text": [
      " \n\t\t[0.06790123456790123, 0.05163602291584065, 0.05585535736683346, 0.05994206068376289, 0.06310632019281018, 0.07568331482091097, 0.0824628694722269, 0.10005730228762125, 0.10302790603071799, 0.10746522788761055]\n"
     ]
    },
    {
     "name": "stdout",
     "output_type": "stream",
     "text": [
      "0.754653968301"
     ]
    },
    {
     "name": "stdout",
     "output_type": "stream",
     "text": [
      " 0.809403422485"
     ]
    },
    {
     "name": "stdout",
     "output_type": "stream",
     "text": [
      " 0.612667981228"
     ]
    },
    {
     "name": "stdout",
     "output_type": "stream",
     "text": [
      " 0.583483829363"
     ]
    },
    {
     "name": "stdout",
     "output_type": "stream",
     "text": [
      " 0.642968924007"
     ]
    },
    {
     "name": "stdout",
     "output_type": "stream",
     "text": [
      " 0.632966386668"
     ]
    },
    {
     "name": "stdout",
     "output_type": "stream",
     "text": [
      " 0.607854299266"
     ]
    },
    {
     "name": "stdout",
     "output_type": "stream",
     "text": [
      " 0.612953832056"
     ]
    },
    {
     "name": "stdout",
     "output_type": "stream",
     "text": [
      " 0.559680551017"
     ]
    },
    {
     "name": "stdout",
     "output_type": "stream",
     "text": [
      " 0.681434347005"
     ]
    },
    {
     "name": "stdout",
     "output_type": "stream",
     "text": [
      " \n\t\t[0.06790123456790123, 0.08241289971892728, 0.07458000234473289, 0.07828410624648426, 0.08867404238162147, 0.09962942361131269, 0.11142228887750269, 0.12391091392021643, 0.12861130817599942, 0.13468434756895584]\n"
     ]
    },
    {
     "name": "stdout",
     "output_type": "stream",
     "text": [
      "0.668353826938"
     ]
    },
    {
     "name": "stdout",
     "output_type": "stream",
     "text": [
      " 0.652263959263"
     ]
    },
    {
     "name": "stdout",
     "output_type": "stream",
     "text": [
      " 0.701763544744"
     ]
    },
    {
     "name": "stdout",
     "output_type": "stream",
     "text": [
      " 0.644884017856"
     ]
    },
    {
     "name": "stdout",
     "output_type": "stream",
     "text": [
      " 0.554910895908"
     ]
    },
    {
     "name": "stdout",
     "output_type": "stream",
     "text": [
      " 0.5938436653"
     ]
    },
    {
     "name": "stdout",
     "output_type": "stream",
     "text": [
      " 0.601456574995"
     ]
    },
    {
     "name": "stdout",
     "output_type": "stream",
     "text": [
      " 0.788393768271"
     ]
    },
    {
     "name": "stdout",
     "output_type": "stream",
     "text": [
      " 0.714659733686"
     ]
    },
    {
     "name": "stdout",
     "output_type": "stream",
     "text": [
      " 0.624349934867"
     ]
    },
    {
     "name": "stdout",
     "output_type": "stream",
     "text": [
      " \n\t\t[0.06790123456790123, 0.05163602291584065, 0.04716501058863427, 0.05893974628654314, 0.06485012168336367, 0.07323604360966202, 0.07836916032725057, 0.0902057970368669, 0.09552960589326978, 0.10283966197862891]\n"
     ]
    },
    {
     "name": "stdout",
     "output_type": "stream",
     "text": [
      "0.684604981997"
     ]
    },
    {
     "name": "stdout",
     "output_type": "stream",
     "text": [
      " 0.718014296012"
     ]
    },
    {
     "name": "stdout",
     "output_type": "stream",
     "text": [
      " 0.672799533691"
     ]
    },
    {
     "name": "stdout",
     "output_type": "stream",
     "text": [
      " 0.767310710029"
     ]
    },
    {
     "name": "stdout",
     "output_type": "stream",
     "text": [
      " 0.648763726295"
     ]
    },
    {
     "name": "stdout",
     "output_type": "stream",
     "text": [
      " 0.692473883996"
     ]
    },
    {
     "name": "stdout",
     "output_type": "stream",
     "text": [
      " 0.678828564542"
     ]
    },
    {
     "name": "stdout",
     "output_type": "stream",
     "text": [
      " 0.612048887138"
     ]
    },
    {
     "name": "stdout",
     "output_type": "stream",
     "text": [
      " 0.528676460654"
     ]
    },
    {
     "name": "stdout",
     "output_type": "stream",
     "text": [
      " 0.658676584459"
     ]
    },
    {
     "name": "stdout",
     "output_type": "stream",
     "text": [
      " \n\t\t[0.06790123456790123, 0.06596390466526811, 0.05813100729107371, 0.06183511119282508, 0.069610440178368, 0.08051687203442402, 0.08721877320409656, 0.09906067298216056, 0.10376533451944091, 0.11475274859635119]\n"
     ]
    },
    {
     "name": "stdout",
     "output_type": "stream",
     "text": [
      "0.767547449512"
     ]
    },
    {
     "name": "stdout",
     "output_type": "stream",
     "text": [
      " 0.726761622015"
     ]
    },
    {
     "name": "stdout",
     "output_type": "stream",
     "text": [
      " 0.644897121283"
     ]
    },
    {
     "name": "stdout",
     "output_type": "stream",
     "text": [
      " 0.620409806378"
     ]
    },
    {
     "name": "stdout",
     "output_type": "stream",
     "text": [
      " 0.698430849816"
     ]
    },
    {
     "name": "stdout",
     "output_type": "stream",
     "text": [
      " 0.614604954837"
     ]
    },
    {
     "name": "stdout",
     "output_type": "stream",
     "text": [
      " 0.843645151147"
     ]
    },
    {
     "name": "stdout",
     "output_type": "stream",
     "text": [
      " 0.55416161044"
     ]
    },
    {
     "name": "stdout",
     "output_type": "stream",
     "text": [
      " 0.542545737367"
     ]
    },
    {
     "name": "stdout",
     "output_type": "stream",
     "text": [
      " 0.571738406667"
     ]
    },
    {
     "name": "stdout",
     "output_type": "stream",
     "text": [
      " \n\t\t[0.06790123456790123, 0.08241289971892728, 0.08049470499732177, 0.08348359122548693, 0.08717544062714888, 0.08860812738383311, 0.10717050002789018, 0.12111211863955748, 0.12581017252505508, 0.12996774089024968]\n"
     ]
    },
    {
     "name": "stdout",
     "output_type": "stream",
     "text": [
      "0.623022158811"
     ]
    },
    {
     "name": "stdout",
     "output_type": "stream",
     "text": [
      " 0.67289658621"
     ]
    },
    {
     "name": "stdout",
     "output_type": "stream",
     "text": [
      " 0.660850312255"
     ]
    },
    {
     "name": "stdout",
     "output_type": "stream",
     "text": [
      " 0.767491765253"
     ]
    },
    {
     "name": "stdout",
     "output_type": "stream",
     "text": [
      " 0.849593414651"
     ]
    },
    {
     "name": "stdout",
     "output_type": "stream",
     "text": [
      " 0.780473844988"
     ]
    },
    {
     "name": "stdout",
     "output_type": "stream",
     "text": [
      " 0.652026052885"
     ]
    },
    {
     "name": "stdout",
     "output_type": "stream",
     "text": [
      " 0.655549958229"
     ]
    },
    {
     "name": "stdout",
     "output_type": "stream",
     "text": [
      " 0.674646892823"
     ]
    },
    {
     "name": "stdout",
     "output_type": "stream",
     "text": [
      " 0.71795348713"
     ]
    },
    {
     "name": "stdout",
     "output_type": "stream",
     "text": [
      " \n\t\t[0.06790123456790123, 0.08241289971892728, 0.08049470499732177, 0.08348359122548693, 0.08979004777674317, 0.09734060845062044, 0.10918096183790135, 0.12456572280610559, 0.13382394768916747, 0.13956611527516355]\n"
     ]
    },
    {
     "name": "stdout",
     "output_type": "stream",
     "text": [
      "0.652219727111"
     ]
    },
    {
     "name": "stdout",
     "output_type": "stream",
     "text": [
      " 0.712908352174"
     ]
    },
    {
     "name": "stdout",
     "output_type": "stream",
     "text": [
      " 0.621880228369"
     ]
    },
    {
     "name": "stdout",
     "output_type": "stream",
     "text": [
      " 0.674370941562"
     ]
    },
    {
     "name": "stdout",
     "output_type": "stream",
     "text": [
      " 0.649936283538"
     ]
    },
    {
     "name": "stdout",
     "output_type": "stream",
     "text": [
      " 0.596612700588"
     ]
    },
    {
     "name": "stdout",
     "output_type": "stream",
     "text": [
      " 0.777043934903"
     ]
    },
    {
     "name": "stdout",
     "output_type": "stream",
     "text": [
      " 0.654574012966"
     ]
    },
    {
     "name": "stdout",
     "output_type": "stream",
     "text": [
      " 0.638008601843"
     ]
    },
    {
     "name": "stdout",
     "output_type": "stream",
     "text": [
      " 0.698817994109"
     ]
    },
    {
     "name": "stdout",
     "output_type": "stream",
     "text": [
      " \n\t\t[0.06790123456790123, 0.06596390466526811, 0.06404570994366258, 0.06703459617182776, 0.07072644557348971, 0.07863588590710636, 0.08742241538167275, 0.08759892132842576, 0.10604090987350688, 0.11019582885668147]\n"
     ]
    },
    {
     "name": "stdout",
     "output_type": "stream",
     "text": [
      "0.764165367984"
     ]
    },
    {
     "name": "stdout",
     "output_type": "stream",
     "text": [
      " 0.631465619335"
     ]
    },
    {
     "name": "stdout",
     "output_type": "stream",
     "text": [
      " 0.547203256962"
     ]
    },
    {
     "name": "stdout",
     "output_type": "stream",
     "text": [
      " 0.639246540231"
     ]
    },
    {
     "name": "stdout",
     "output_type": "stream",
     "text": [
      " 0.689978920933"
     ]
    },
    {
     "name": "stdout",
     "output_type": "stream",
     "text": [
      " 0.653479225856"
     ]
    },
    {
     "name": "stdout",
     "output_type": "stream",
     "text": [
      " 0.468555100562"
     ]
    },
    {
     "name": "stdout",
     "output_type": "stream",
     "text": [
      " 0.689515409237"
     ]
    },
    {
     "name": "stdout",
     "output_type": "stream",
     "text": [
      " 0.660642766429"
     ]
    },
    {
     "name": "stdout",
     "output_type": "stream",
     "text": [
      " 0.687846039092"
     ]
    },
    {
     "name": "stdout",
     "output_type": "stream",
     "text": [
      " \n\t\t[0.10493827160493828, 0.08867305995287769, 0.09446192366735978, 0.09585562614546612, 0.09892255580806296, 0.10683199614167961, 0.1193335201080182, 0.13118028299449366, 0.13588186423273924, 0.14387065217189815]\n"
     ]
    },
    {
     "name": "stdout",
     "output_type": "stream",
     "text": [
      "0.563400976477"
     ]
    },
    {
     "name": "stdout",
     "output_type": "stream",
     "text": [
      " 0.732611476741"
     ]
    },
    {
     "name": "stdout",
     "output_type": "stream",
     "text": [
      " 0.720138695831"
     ]
    },
    {
     "name": "stdout",
     "output_type": "stream",
     "text": [
      " 0.726934164978"
     ]
    },
    {
     "name": "stdout",
     "output_type": "stream",
     "text": [
      " 0.670733262216"
     ]
    },
    {
     "name": "stdout",
     "output_type": "stream",
     "text": [
      " 0.708330189022"
     ]
    },
    {
     "name": "stdout",
     "output_type": "stream",
     "text": [
      " 0.671621252849"
     ]
    },
    {
     "name": "stdout",
     "output_type": "stream",
     "text": [
      " 0.608736397345"
     ]
    },
    {
     "name": "stdout",
     "output_type": "stream",
     "text": [
      " 0.778285882594"
     ]
    },
    {
     "name": "stdout",
     "output_type": "stream",
     "text": [
      " 0.643737790825"
     ]
    },
    {
     "name": "stdout",
     "output_type": "stream",
     "text": [
      " \n\t\t[0.10493827160493828, 0.0920349449998657, 0.09011675027826017, 0.09310563650642535, 0.09941209305768159, 0.11027962002769078, 0.1227435150291941, 0.13562010655217074, 0.1403094122915084, 0.14446279271918933]\n"
     ]
    },
    {
     "name": "stdout",
     "output_type": "stream",
     "text": [
      "0.680629915242"
     ]
    },
    {
     "name": "stdout",
     "output_type": "stream",
     "text": [
      " 0.657827213315"
     ]
    },
    {
     "name": "stdout",
     "output_type": "stream",
     "text": [
      " 0.770957727136"
     ]
    },
    {
     "name": "stdout",
     "output_type": "stream",
     "text": [
      " 0.576193417961"
     ]
    },
    {
     "name": "stdout",
     "output_type": "stream",
     "text": [
      " 0.674449338116"
     ]
    },
    {
     "name": "stdout",
     "output_type": "stream",
     "text": [
      " 0.56968593499"
     ]
    },
    {
     "name": "stdout",
     "output_type": "stream",
     "text": [
      " 0.616996914163"
     ]
    },
    {
     "name": "stdout",
     "output_type": "stream",
     "text": [
      " 0.772193994849"
     ]
    },
    {
     "name": "stdout",
     "output_type": "stream",
     "text": [
      " 0.638824129987"
     ]
    },
    {
     "name": "stdout",
     "output_type": "stream",
     "text": [
      " 0.641689441116"
     ]
    },
    {
     "name": "stdout",
     "output_type": "stream",
     "text": [
      " \n\t\t[0.06790123456790123, 0.06808501796949983, 0.06361400564229344, 0.07538874134020232, 0.08129911673702284, 0.08964772030061567, 0.10234224130812225, 0.11784450539090677, 0.12255107746629819, 0.12958919902932703]\n"
     ]
    },
    {
     "name": "stdout",
     "output_type": "stream",
     "text": [
      "0.70395769458"
     ]
    },
    {
     "name": "stdout",
     "output_type": "stream",
     "text": [
      " 0.656683888582"
     ]
    },
    {
     "name": "stdout",
     "output_type": "stream",
     "text": [
      " 0.662599961188"
     ]
    },
    {
     "name": "stdout",
     "output_type": "stream",
     "text": [
      " 0.705175246863"
     ]
    },
    {
     "name": "stdout",
     "output_type": "stream",
     "text": [
      " 0.604497765124"
     ]
    },
    {
     "name": "stdout",
     "output_type": "stream",
     "text": [
      " 0.567540178189"
     ]
    },
    {
     "name": "stdout",
     "output_type": "stream",
     "text": [
      " 0.666303102722"
     ]
    },
    {
     "name": "stdout",
     "output_type": "stream",
     "text": [
      " 0.681752653517"
     ]
    },
    {
     "name": "stdout",
     "output_type": "stream",
     "text": [
      " 0.575454070775"
     ]
    },
    {
     "name": "stdout",
     "output_type": "stream",
     "text": [
      " 0.638721114969"
     ]
    },
    {
     "name": "stdout",
     "output_type": "stream",
     "text": [
      " \n\t\t[0.06790123456790123, 0.06808501796949983, 0.07230435242049264, 0.07639105573742207, 0.08216992239606365, 0.09468852552907786, 0.10725218027288538, 0.11911448712378192, 0.12382105919917333, 0.13385196399723603]\n"
     ]
    },
    {
     "name": "stdout",
     "output_type": "stream",
     "text": [
      "0.663231396816"
     ]
    },
    {
     "name": "stdout",
     "output_type": "stream",
     "text": [
      " 0.680921973236"
     ]
    },
    {
     "name": "stdout",
     "output_type": "stream",
     "text": [
      " 0.750560341002"
     ]
    },
    {
     "name": "stdout",
     "output_type": "stream",
     "text": [
      " 0.541676593808"
     ]
    },
    {
     "name": "stdout",
     "output_type": "stream",
     "text": [
      " 0.679258133455"
     ]
    },
    {
     "name": "stdout",
     "output_type": "stream",
     "text": [
      " 0.627070469007"
     ]
    },
    {
     "name": "stdout",
     "output_type": "stream",
     "text": [
      " 0.545141227935"
     ]
    },
    {
     "name": "stdout",
     "output_type": "stream",
     "text": [
      " 0.7532479753"
     ]
    },
    {
     "name": "stdout",
     "output_type": "stream",
     "text": [
      " 0.673990620648"
     ]
    },
    {
     "name": "stdout",
     "output_type": "stream",
     "text": [
      " 0.720246525018"
     ]
    },
    {
     "name": "stdout",
     "output_type": "stream",
     "text": [
      " \n\t\t[0.06790123456790123, 0.06596390466526811, 0.07116652745837251, 0.07487063136012387, 0.08526056749526108, 0.08973919514801987, 0.10759290909192838, 0.1200815341346421, 0.12934572075264011, 0.13637749524378726]\n"
     ]
    },
    {
     "name": "stdout",
     "output_type": "stream",
     "text": [
      "0.736448603097"
     ]
    },
    {
     "name": "stdout",
     "output_type": "stream",
     "text": [
      " 0.650192273388"
     ]
    },
    {
     "name": "stdout",
     "output_type": "stream",
     "text": [
      " 0.592301152906"
     ]
    },
    {
     "name": "stdout",
     "output_type": "stream",
     "text": [
      " 0.660702624021"
     ]
    },
    {
     "name": "stdout",
     "output_type": "stream",
     "text": [
      " 0.646274529719"
     ]
    },
    {
     "name": "stdout",
     "output_type": "stream",
     "text": [
      " 0.724650211905"
     ]
    },
    {
     "name": "stdout",
     "output_type": "stream",
     "text": [
      " 0.621178427964"
     ]
    },
    {
     "name": "stdout",
     "output_type": "stream",
     "text": [
      " 0.762431649284"
     ]
    },
    {
     "name": "stdout",
     "output_type": "stream",
     "text": [
      " 0.565492336314"
     ]
    },
    {
     "name": "stdout",
     "output_type": "stream",
     "text": [
      " 0.712292987923"
     ]
    },
    {
     "name": "stdout",
     "output_type": "stream",
     "text": [
      " \n\t\t[0.07407407407407407, 0.06795215994746652, 0.06568420688490413, 0.07953848144272992, 0.08310046345664268, 0.09163946828701504, 0.10337813172548092, 0.117255499226701, 0.12192714452875304, 0.1260528721426109]\n"
     ]
    },
    {
     "name": "stdout",
     "output_type": "stream",
     "text": [
      "0.605444487971"
     ]
    },
    {
     "name": "stdout",
     "output_type": "stream",
     "text": [
      " 0.670676753578"
     ]
    },
    {
     "name": "stdout",
     "output_type": "stream",
     "text": [
      " 0.652720178005"
     ]
    },
    {
     "name": "stdout",
     "output_type": "stream",
     "text": [
      " 0.582554650352"
     ]
    },
    {
     "name": "stdout",
     "output_type": "stream",
     "text": [
      " 0.64536575959"
     ]
    },
    {
     "name": "stdout",
     "output_type": "stream",
     "text": [
      " 0.637326988525"
     ]
    },
    {
     "name": "stdout",
     "output_type": "stream",
     "text": [
      " 0.641517184197"
     ]
    },
    {
     "name": "stdout",
     "output_type": "stream",
     "text": [
      " 0.597792681584"
     ]
    },
    {
     "name": "stdout",
     "output_type": "stream",
     "text": [
      " 0.566145780479"
     ]
    },
    {
     "name": "stdout",
     "output_type": "stream",
     "text": [
      " 0.629236793112"
     ]
    },
    {
     "name": "stdout",
     "output_type": "stream",
     "text": [
      " \n\t\t[0.05555555555555555, 0.07920555129194781, 0.07776732040747826, 0.08092134017468797, 0.08468101978550421, 0.09562704270897653, 0.10810969799013001, 0.11035587949942322, 0.12620108578360828, 0.13035256462387168]\n"
     ]
    },
    {
     "name": "stdout",
     "output_type": "stream",
     "text": [
      "0.698963525511"
     ]
    },
    {
     "name": "stdout",
     "output_type": "stream",
     "text": [
      " 0.760475962458"
     ]
    },
    {
     "name": "stdout",
     "output_type": "stream",
     "text": [
      " 0.716553224423"
     ]
    },
    {
     "name": "stdout",
     "output_type": "stream",
     "text": [
      " 0.671647956271"
     ]
    },
    {
     "name": "stdout",
     "output_type": "stream",
     "text": [
      " 0.629783764536"
     ]
    },
    {
     "name": "stdout",
     "output_type": "stream",
     "text": [
      " 0.637916298664"
     ]
    },
    {
     "name": "stdout",
     "output_type": "stream",
     "text": [
      " 0.833417759898"
     ]
    },
    {
     "name": "stdout",
     "output_type": "stream",
     "text": [
      " 0.661193646221"
     ]
    },
    {
     "name": "stdout",
     "output_type": "stream",
     "text": [
      " 0.639204505315"
     ]
    },
    {
     "name": "stdout",
     "output_type": "stream",
     "text": [
      " 0.695156024738"
     ]
    },
    {
     "name": "stdout",
     "output_type": "stream",
     "text": [
      " \n\t\t[0.06481481481481481, 0.08549069664475263, 0.08334284532380745, 0.08615739248424509, 0.08971076199782436, 0.10179720500516909, 0.1102978388933422, 0.12094183369014253, 0.1335805258177535, 0.1380011662673447]\n"
     ]
    },
    {
     "name": "stdout",
     "output_type": "stream",
     "text": [
      "0.611398314028"
     ]
    },
    {
     "name": "stdout",
     "output_type": "stream",
     "text": [
      " 0.767316847393"
     ]
    },
    {
     "name": "stdout",
     "output_type": "stream",
     "text": [
      " 0.663622514586"
     ]
    },
    {
     "name": "stdout",
     "output_type": "stream",
     "text": [
      " 0.664476068671"
     ]
    },
    {
     "name": "stdout",
     "output_type": "stream",
     "text": [
      " 0.757653873181"
     ]
    },
    {
     "name": "stdout",
     "output_type": "stream",
     "text": [
      " 0.602732066449"
     ]
    },
    {
     "name": "stdout",
     "output_type": "stream",
     "text": [
      " 0.549687051573"
     ]
    },
    {
     "name": "stdout",
     "output_type": "stream",
     "text": [
      " 0.537444787574"
     ]
    },
    {
     "name": "stdout",
     "output_type": "stream",
     "text": [
      " 0.749535781564"
     ]
    },
    {
     "name": "stdout",
     "output_type": "stream",
     "text": [
      " 0.712479457645"
     ]
    },
    {
     "name": "stdout",
     "output_type": "stream",
     "text": [
      " \n\t\t[0.08333333333333333, 0.07635841860450306, 0.08543307693065225, 0.08810229238018695, 0.08684689482036706, 0.08844264354166576, 0.10704693294723265, 0.12242711376328774, 0.1256264020154951, 0.13218903765866438]\n"
     ]
    },
    {
     "name": "stdout",
     "output_type": "stream",
     "text": [
      "0.680228087267"
     ]
    },
    {
     "name": "stdout",
     "output_type": "stream",
     "text": [
      " 0.673933437327"
     ]
    },
    {
     "name": "stdout",
     "output_type": "stream",
     "text": [
      " 0.729788079333"
     ]
    },
    {
     "name": "stdout",
     "output_type": "stream",
     "text": [
      " 0.675290018545"
     ]
    },
    {
     "name": "stdout",
     "output_type": "stream",
     "text": [
      " 0.705189463633"
     ]
    },
    {
     "name": "stdout",
     "output_type": "stream",
     "text": [
      " 0.643807315129"
     ]
    },
    {
     "name": "stdout",
     "output_type": "stream",
     "text": [
      " 0.746839148709"
     ]
    },
    {
     "name": "stdout",
     "output_type": "stream",
     "text": [
      " 0.640054696383"
     ]
    },
    {
     "name": "stdout",
     "output_type": "stream",
     "text": [
      " 0.678496905947"
     ]
    },
    {
     "name": "stdout",
     "output_type": "stream",
     "text": [
      " 0.625034492133"
     ]
    },
    {
     "name": "stdout",
     "output_type": "stream",
     "text": [
      " \n\t\t[0.06790123456790123, 0.06596390466526811, 0.0770812301109614, 0.08007011633912654, 0.0837619657407885, 0.08834403008425326, 0.10091494702647198, 0.10398214895401006, 0.12440008646689858, 0.12727313097761914]\n"
     ]
    },
    {
     "name": "stdout",
     "output_type": "stream",
     "text": [
      "0.671392144971"
     ]
    },
    {
     "name": "stdout",
     "output_type": "stream",
     "text": [
      " 0.754683985799"
     ]
    },
    {
     "name": "stdout",
     "output_type": "stream",
     "text": [
      " 0.672094163977"
     ]
    },
    {
     "name": "stdout",
     "output_type": "stream",
     "text": [
      " 0.558891603644"
     ]
    },
    {
     "name": "stdout",
     "output_type": "stream",
     "text": [
      " 0.644844164761"
     ]
    },
    {
     "name": "stdout",
     "output_type": "stream",
     "text": [
      " 0.640196918329"
     ]
    },
    {
     "name": "stdout",
     "output_type": "stream",
     "text": [
      " 0.602167328565"
     ]
    },
    {
     "name": "stdout",
     "output_type": "stream",
     "text": [
      " 0.583190640062"
     ]
    },
    {
     "name": "stdout",
     "output_type": "stream",
     "text": [
      " 0.71041198593"
     ]
    },
    {
     "name": "stdout",
     "output_type": "stream",
     "text": [
      " 0.580852666554"
     ]
    },
    {
     "name": "stdout",
     "output_type": "stream",
     "text": [
      " \n\t\t[0.06790123456790123, 0.08241289971892728, 0.08049470499732177, 0.08348359122548693, 0.08979004777674317, 0.09122857006973192, 0.11483452758373608, 0.11577279380602178, 0.13220747710487657, 0.13654755045661843]\n"
     ]
    },
    {
     "name": "stdout",
     "output_type": "stream",
     "text": [
      "0.722183434003"
     ]
    },
    {
     "name": "stdout",
     "output_type": "stream",
     "text": [
      " 0.647040402"
     ]
    },
    {
     "name": "stdout",
     "output_type": "stream",
     "text": [
      " 0.631432084582"
     ]
    },
    {
     "name": "stdout",
     "output_type": "stream",
     "text": [
      " 0.54628215288"
     ]
    },
    {
     "name": "stdout",
     "output_type": "stream",
     "text": [
      " 0.677791010402"
     ]
    },
    {
     "name": "stdout",
     "output_type": "stream",
     "text": [
      " 0.586747459671"
     ]
    },
    {
     "name": "stdout",
     "output_type": "stream",
     "text": [
      " 0.602270580672"
     ]
    },
    {
     "name": "stdout",
     "output_type": "stream",
     "text": [
      " 0.716814294775"
     ]
    },
    {
     "name": "stdout",
     "output_type": "stream",
     "text": [
      " 0.664384813487"
     ]
    },
    {
     "name": "stdout",
     "output_type": "stream",
     "text": [
      " 0.70431632447"
     ]
    },
    {
     "name": "stdout",
     "output_type": "stream",
     "text": [
      " \n\t\t[0.08641975308641976, 0.08760850342810517, 0.08486058652840683, 0.08732154163049098, 0.09081569343524942, 0.08875616320577698, 0.10125497263149201, 0.12531643138780615, 0.12825422765762473, 0.13660121946044623]\n"
     ]
    },
    {
     "name": "stdout",
     "output_type": "stream",
     "text": [
      "0.652719690314"
     ]
    },
    {
     "name": "stdout",
     "output_type": "stream",
     "text": [
      " 0.785030274185"
     ]
    },
    {
     "name": "stdout",
     "output_type": "stream",
     "text": [
      " 0.676843589862"
     ]
    },
    {
     "name": "stdout",
     "output_type": "stream",
     "text": [
      " 0.751458971"
     ]
    },
    {
     "name": "stdout",
     "output_type": "stream",
     "text": [
      " 0.692776325457"
     ]
    },
    {
     "name": "stdout",
     "output_type": "stream",
     "text": [
      " 0.672785227009"
     ]
    },
    {
     "name": "stdout",
     "output_type": "stream",
     "text": [
      " 0.911939627978"
     ]
    },
    {
     "name": "stdout",
     "output_type": "stream",
     "text": [
      " 0.635531306268"
     ]
    },
    {
     "name": "stdout",
     "output_type": "stream",
     "text": [
      " 0.596989215391"
     ]
    },
    {
     "name": "stdout",
     "output_type": "stream",
     "text": [
      " 0.647567801572"
     ]
    },
    {
     "name": "stdout",
     "output_type": "stream",
     "text": [
      " \n\t\t[0.0771604938271605, 0.0886980450717321, 0.08015552726106209, 0.08352015855604139, 0.09108917744434733, 0.10320605189029201, 0.11677302620820845, 0.13223010559620793, 0.1337282529769142, 0.14199204542811839]\n"
     ]
    },
    {
     "name": "stdout",
     "output_type": "stream",
     "text": [
      "0.626069598961"
     ]
    },
    {
     "name": "stdout",
     "output_type": "stream",
     "text": [
      " 0.648260334514"
     ]
    },
    {
     "name": "stdout",
     "output_type": "stream",
     "text": [
      " 0.65513332831"
     ]
    },
    {
     "name": "stdout",
     "output_type": "stream",
     "text": [
      " 0.589074018772"
     ]
    },
    {
     "name": "stdout",
     "output_type": "stream",
     "text": [
      " 0.637398439621"
     ]
    },
    {
     "name": "stdout",
     "output_type": "stream",
     "text": [
      " 0.677486516816"
     ]
    },
    {
     "name": "stdout",
     "output_type": "stream",
     "text": [
      " 0.615631115472"
     ]
    },
    {
     "name": "stdout",
     "output_type": "stream",
     "text": [
      " 0.622350125559"
     ]
    },
    {
     "name": "stdout",
     "output_type": "stream",
     "text": [
      " 0.674905891372"
     ]
    },
    {
     "name": "stdout",
     "output_type": "stream",
     "text": [
      " 0.676522388489"
     ]
    },
    {
     "name": "stdout",
     "output_type": "stream",
     "text": [
      " \n\t\t[0.05555555555555555, 0.07920555129194781, 0.07776732040747826, 0.08092134017468797, 0.08468101978550421, 0.0892831885873455, 0.10622407472965557, 0.12163977392575925, 0.12769770372041084, 0.13439800291167867]\n"
     ]
    },
    {
     "name": "stdout",
     "output_type": "stream",
     "text": [
      "0.690855913996"
     ]
    },
    {
     "name": "stdout",
     "output_type": "stream",
     "text": [
      " 0.738754317155"
     ]
    },
    {
     "name": "stdout",
     "output_type": "stream",
     "text": [
      " 0.629656001807"
     ]
    },
    {
     "name": "stdout",
     "output_type": "stream",
     "text": [
      " 0.762527168431"
     ]
    },
    {
     "name": "stdout",
     "output_type": "stream",
     "text": [
      " 0.844809691342"
     ]
    },
    {
     "name": "stdout",
     "output_type": "stream",
     "text": [
      " 0.754852547711"
     ]
    },
    {
     "name": "stdout",
     "output_type": "stream",
     "text": [
      " 0.684957869459"
     ]
    },
    {
     "name": "stdout",
     "output_type": "stream",
     "text": [
      " 0.68937301528"
     ]
    },
    {
     "name": "stdout",
     "output_type": "stream",
     "text": [
      " 0.665782875842"
     ]
    },
    {
     "name": "stdout",
     "output_type": "stream",
     "text": [
      " 0.651573034572"
     ]
    },
    {
     "name": "stdout",
     "output_type": "stream",
     "text": [
      " \n\t\t[0.06790123456790123, 0.06596390466526811, 0.07116652745837251, 0.07487063136012387, 0.08526056749526108, 0.08674962568522632, 0.10532415943746641, 0.12195258920566449, 0.12665909213074653, 0.1336937904558344]\n"
     ]
    },
    {
     "name": "stdout",
     "output_type": "stream",
     "text": [
      "0.669173566612"
     ]
    },
    {
     "name": "stdout",
     "output_type": "stream",
     "text": [
      " 0.470648034873"
     ]
    },
    {
     "name": "stdout",
     "output_type": "stream",
     "text": [
      " 0.697939607627"
     ]
    },
    {
     "name": "stdout",
     "output_type": "stream",
     "text": [
      " 0.667217529212"
     ]
    },
    {
     "name": "stdout",
     "output_type": "stream",
     "text": [
      " 0.657775381119"
     ]
    },
    {
     "name": "stdout",
     "output_type": "stream",
     "text": [
      " 0.548819328462"
     ]
    },
    {
     "name": "stdout",
     "output_type": "stream",
     "text": [
      " 0.692722158931"
     ]
    },
    {
     "name": "stdout",
     "output_type": "stream",
     "text": [
      " 0.66043606412"
     ]
    },
    {
     "name": "stdout",
     "output_type": "stream",
     "text": [
      " 0.675035942111"
     ]
    },
    {
     "name": "stdout",
     "output_type": "stream",
     "text": [
      " 0.737905417283"
     ]
    },
    {
     "name": "stdout",
     "output_type": "stream",
     "text": [
      " \n\t\t[0.05555555555555555, 0.07920555129194781, 0.07185261775488938, 0.07572185519568528, 0.08356501439038251, 0.08509525017110534, 0.0911415536511002, 0.103196185591536, 0.11906051519800774, 0.1270621113752647]\n"
     ]
    },
    {
     "name": "stdout",
     "output_type": "stream",
     "text": [
      "0.61897572837"
     ]
    },
    {
     "name": "stdout",
     "output_type": "stream",
     "text": [
      " 0.641101574708"
     ]
    },
    {
     "name": "stdout",
     "output_type": "stream",
     "text": [
      " 0.724206030435"
     ]
    },
    {
     "name": "stdout",
     "output_type": "stream",
     "text": [
      " 0.628384460588"
     ]
    },
    {
     "name": "stdout",
     "output_type": "stream",
     "text": [
      " 0.639812303452"
     ]
    },
    {
     "name": "stdout",
     "output_type": "stream",
     "text": [
      " 0.633193412115"
     ]
    },
    {
     "name": "stdout",
     "output_type": "stream",
     "text": [
      " 0.55807471146"
     ]
    },
    {
     "name": "stdout",
     "output_type": "stream",
     "text": [
      " 0.666615821981"
     ]
    },
    {
     "name": "stdout",
     "output_type": "stream",
     "text": [
      " 0.634805925006"
     ]
    },
    {
     "name": "stdout",
     "output_type": "stream",
     "text": [
      " 0.557365502757"
     ]
    },
    {
     "name": "stdout",
     "output_type": "stream",
     "text": [
      " \n\t\t[0.06790123456790123, 0.08241289971892728, 0.08049470499732177, 0.08348359122548693, 0.08717544062714888, 0.09102311606554646, 0.10573018495724201, 0.12119657081692921, 0.13045789388451584, 0.13460792850563003]\n"
     ]
    },
    {
     "name": "stdout",
     "output_type": "stream",
     "text": [
      "0.60885973693"
     ]
    },
    {
     "name": "stdout",
     "output_type": "stream",
     "text": [
      " 0.58974004778"
     ]
    },
    {
     "name": "stdout",
     "output_type": "stream",
     "text": [
      " 0.644145346584"
     ]
    },
    {
     "name": "stdout",
     "output_type": "stream",
     "text": [
      " 0.694138917786"
     ]
    },
    {
     "name": "stdout",
     "output_type": "stream",
     "text": [
      " 0.605506836474"
     ]
    },
    {
     "name": "stdout",
     "output_type": "stream",
     "text": [
      " 0.840101394487"
     ]
    },
    {
     "name": "stdout",
     "output_type": "stream",
     "text": [
      " 0.673346873801"
     ]
    },
    {
     "name": "stdout",
     "output_type": "stream",
     "text": [
      " 0.675395024671"
     ]
    },
    {
     "name": "stdout",
     "output_type": "stream",
     "text": [
      " 0.676904706517"
     ]
    },
    {
     "name": "stdout",
     "output_type": "stream",
     "text": [
      " 0.628259412295"
     ]
    },
    {
     "name": "stdout",
     "output_type": "stream",
     "text": [
      " \n\t\t[0.06790123456790123, 0.06596390466526811, 0.07116652745837251, 0.07487063136012387, 0.08264596034566679, 0.08912308875467695, 0.10305184155216403, 0.12332917327872676, 0.12630322079152043, 0.1359684366233781]\n"
     ]
    },
    {
     "name": "stdout",
     "output_type": "stream",
     "text": [
      "0.65091962734"
     ]
    },
    {
     "name": "stdout",
     "output_type": "stream",
     "text": [
      " 0.73420629032"
     ]
    },
    {
     "name": "stdout",
     "output_type": "stream",
     "text": [
      " 0.698906412283"
     ]
    },
    {
     "name": "stdout",
     "output_type": "stream",
     "text": [
      " 0.638203953061"
     ]
    },
    {
     "name": "stdout",
     "output_type": "stream",
     "text": [
      " 0.679575935247"
     ]
    },
    {
     "name": "stdout",
     "output_type": "stream",
     "text": [
      " 0.711979112733"
     ]
    },
    {
     "name": "stdout",
     "output_type": "stream",
     "text": [
      " 0.785328134394"
     ]
    },
    {
     "name": "stdout",
     "output_type": "stream",
     "text": [
      " 0.778110985136"
     ]
    },
    {
     "name": "stdout",
     "output_type": "stream",
     "text": [
      " 0.661463623995"
     ]
    },
    {
     "name": "stdout",
     "output_type": "stream",
     "text": [
      " 0.753312481972"
     ]
    },
    {
     "name": "stdout",
     "output_type": "stream",
     "text": [
      " \n\t\t[0.08641975308641976, 0.08760850342810517, 0.08486058652840683, 0.08732154163049098, 0.09343030058484371, 0.09545137424752609, 0.10359215176711499, 0.12447506191686279, 0.13370555266101306, 0.14070275096548426]\n"
     ]
    },
    {
     "name": "stdout",
     "output_type": "stream",
     "text": [
      "0.611786472564"
     ]
    },
    {
     "name": "stdout",
     "output_type": "stream",
     "text": [
      " 0.636137218087"
     ]
    },
    {
     "name": "stdout",
     "output_type": "stream",
     "text": [
      " 0.677261480227"
     ]
    },
    {
     "name": "stdout",
     "output_type": "stream",
     "text": [
      " 0.656298384232"
     ]
    },
    {
     "name": "stdout",
     "output_type": "stream",
     "text": [
      " 0.785859914192"
     ]
    },
    {
     "name": "stdout",
     "output_type": "stream",
     "text": [
      " 0.672790643962"
     ]
    },
    {
     "name": "stdout",
     "output_type": "stream",
     "text": [
      " 0.616016891621"
     ]
    },
    {
     "name": "stdout",
     "output_type": "stream",
     "text": [
      " 0.646703634665"
     ]
    },
    {
     "name": "stdout",
     "output_type": "stream",
     "text": [
      " 0.646695527853"
     ]
    },
    {
     "name": "stdout",
     "output_type": "stream",
     "text": [
      " 0.614305855052"
     ]
    },
    {
     "name": "stdout",
     "output_type": "stream",
     "text": [
      " \n\t\t[0.06790123456790123, 0.08241289971892728, 0.07458000234473289, 0.07828410624648426, 0.08605943523202718, 0.09055913601716703, 0.10236174502996323, 0.12423543618538375, 0.12720347434142407, 0.13686581387398034]\n"
     ]
    },
    {
     "name": "stdout",
     "output_type": "stream",
     "text": [
      "0.668123921899"
     ]
    },
    {
     "name": "stdout",
     "output_type": "stream",
     "text": [
      " 0.60973475853"
     ]
    },
    {
     "name": "stdout",
     "output_type": "stream",
     "text": [
      " 0.673701475158"
     ]
    },
    {
     "name": "stdout",
     "output_type": "stream",
     "text": [
      " 0.769013356451"
     ]
    },
    {
     "name": "stdout",
     "output_type": "stream",
     "text": [
      " 0.670932559798"
     ]
    },
    {
     "name": "stdout",
     "output_type": "stream",
     "text": [
      " 0.650759598826"
     ]
    },
    {
     "name": "stdout",
     "output_type": "stream",
     "text": [
      " 0.759437722057"
     ]
    },
    {
     "name": "stdout",
     "output_type": "stream",
     "text": [
      " 0.801407431094"
     ]
    },
    {
     "name": "stdout",
     "output_type": "stream",
     "text": [
      " 0.742996634833"
     ]
    },
    {
     "name": "stdout",
     "output_type": "stream",
     "text": [
      " 0.650064007976"
     ]
    },
    {
     "name": "stdout",
     "output_type": "stream",
     "text": [
      " \n\t\t[0.06790123456790123, 0.08241289971892728, 0.07458000234473289, 0.07828410624648426, 0.08867404238162147, 0.0901631005715867, 0.1050226398320546, 0.11534811042741208, 0.1300827058797553, 0.1359044712615807]\n"
     ]
    },
    {
     "name": "stdout",
     "output_type": "stream",
     "text": [
      "0.603070131313"
     ]
    },
    {
     "name": "stdout",
     "output_type": "stream",
     "text": [
      " 0.571623701859"
     ]
    },
    {
     "name": "stdout",
     "output_type": "stream",
     "text": [
      " 0.65303405337"
     ]
    },
    {
     "name": "stdout",
     "output_type": "stream",
     "text": [
      " 0.673834365595"
     ]
    },
    {
     "name": "stdout",
     "output_type": "stream",
     "text": [
      " 0.730450651188"
     ]
    },
    {
     "name": "stdout",
     "output_type": "stream",
     "text": [
      " 0.606910507354"
     ]
    },
    {
     "name": "stdout",
     "output_type": "stream",
     "text": [
      " 0.613165396476"
     ]
    },
    {
     "name": "stdout",
     "output_type": "stream",
     "text": [
      " 0.570868079085"
     ]
    },
    {
     "name": "stdout",
     "output_type": "stream",
     "text": [
      " 0.52367471976"
     ]
    },
    {
     "name": "stdout",
     "output_type": "stream",
     "text": [
      " 0.745010430116"
     ]
    },
    {
     "name": "stdout",
     "output_type": "stream",
     "text": [
      " \n\t\t[0.05555555555555555, 0.06275655623828864, 0.07435384552111787, 0.07750786528832758, 0.08126754489914383, 0.08812489425871149, 0.09605959051769916, 0.10258965185788863, 0.12299827049534003, 0.12548167696045595]\n"
     ]
    },
    {
     "name": "stdout",
     "output_type": "stream",
     "text": [
      "0.768060624902"
     ]
    },
    {
     "name": "stdout",
     "output_type": "stream",
     "text": [
      " 0.657937796351"
     ]
    },
    {
     "name": "stdout",
     "output_type": "stream",
     "text": [
      " 0.552052158908"
     ]
    },
    {
     "name": "stdout",
     "output_type": "stream",
     "text": [
      " 0.628293323263"
     ]
    },
    {
     "name": "stdout",
     "output_type": "stream",
     "text": [
      " 0.59341096258"
     ]
    },
    {
     "name": "stdout",
     "output_type": "stream",
     "text": [
      " 0.696249794767"
     ]
    },
    {
     "name": "stdout",
     "output_type": "stream",
     "text": [
      " 0.638355433624"
     ]
    },
    {
     "name": "stdout",
     "output_type": "stream",
     "text": [
      " 0.648557672818"
     ]
    },
    {
     "name": "stdout",
     "output_type": "stream",
     "text": [
      " 0.725756717321"
     ]
    },
    {
     "name": "stdout",
     "output_type": "stream",
     "text": [
      " 0.654752068217"
     ]
    },
    {
     "name": "stdout",
     "output_type": "stream",
     "text": [
      " \n\t\t[0.05555555555555555, 0.07920555129194781, 0.07776732040747826, 0.08092134017468797, 0.08468101978550421, 0.08616071966925054, 0.10473218676077833, 0.11177405249702413, 0.1276254450308725, 0.13177988483789416]\n"
     ]
    },
    {
     "name": "stdout",
     "output_type": "stream",
     "text": [
      "0.711758535819"
     ]
    },
    {
     "name": "stdout",
     "output_type": "stream",
     "text": [
      " 0.611184861354"
     ]
    },
    {
     "name": "stdout",
     "output_type": "stream",
     "text": [
      " 0.581387635093"
     ]
    },
    {
     "name": "stdout",
     "output_type": "stream",
     "text": [
      " 0.591810939805"
     ]
    },
    {
     "name": "stdout",
     "output_type": "stream",
     "text": [
      " 0.653339941424"
     ]
    },
    {
     "name": "stdout",
     "output_type": "stream",
     "text": [
      " 0.726271817337"
     ]
    },
    {
     "name": "stdout",
     "output_type": "stream",
     "text": [
      " 0.528097204758"
     ]
    },
    {
     "name": "stdout",
     "output_type": "stream",
     "text": [
      " 0.656960554927"
     ]
    },
    {
     "name": "stdout",
     "output_type": "stream",
     "text": [
      " 0.590705159764"
     ]
    },
    {
     "name": "stdout",
     "output_type": "stream",
     "text": [
      " 0.561145808556"
     ]
    },
    {
     "name": "stdout",
     "output_type": "stream",
     "text": [
      " \n\t\t[0.06790123456790123, 0.08241289971892728, 0.07458000234473289, 0.07828410624648426, 0.08867404238162147, 0.09315267003438026, 0.10494553530057027, 0.1279527486648559, 0.1326531429206389, 0.13968491741178604]\n"
     ]
    },
    {
     "name": "stdout",
     "output_type": "stream",
     "text": [
      "0.624656418192"
     ]
    },
    {
     "name": "stdout",
     "output_type": "stream",
     "text": [
      " 0.607354155028"
     ]
    },
    {
     "name": "stdout",
     "output_type": "stream",
     "text": [
      " 0.600982549586"
     ]
    },
    {
     "name": "stdout",
     "output_type": "stream",
     "text": [
      " 0.723115458753"
     ]
    },
    {
     "name": "stdout",
     "output_type": "stream",
     "text": [
      " 0.681593684736"
     ]
    },
    {
     "name": "stdout",
     "output_type": "stream",
     "text": [
      " 0.543280693924"
     ]
    },
    {
     "name": "stdout",
     "output_type": "stream",
     "text": [
      " 0.769424666457"
     ]
    },
    {
     "name": "stdout",
     "output_type": "stream",
     "text": [
      " 0.775776466529"
     ]
    },
    {
     "name": "stdout",
     "output_type": "stream",
     "text": [
      " 0.569018486498"
     ]
    },
    {
     "name": "stdout",
     "output_type": "stream",
     "text": [
      " 0.633989791354"
     ]
    },
    {
     "name": "stdout",
     "output_type": "stream",
     "text": [
      " \n\t\t[0.10493827160493828, 0.0907941732571094, 0.08690940185128071, 0.09504674668928284, 0.09497661121635256, 0.09910925212986747, 0.10717418478015744, 0.12981543539287477, 0.13906853405973496, 0.1415459483623936]\n"
     ]
    },
    {
     "name": "stdout",
     "output_type": "stream",
     "text": [
      "0.660080689629"
     ]
    },
    {
     "name": "stdout",
     "output_type": "stream",
     "text": [
      " 0.645280100087"
     ]
    },
    {
     "name": "stdout",
     "output_type": "stream",
     "text": [
      " 0.609649981243"
     ]
    },
    {
     "name": "stdout",
     "output_type": "stream",
     "text": [
      " 0.73871637249"
     ]
    },
    {
     "name": "stdout",
     "output_type": "stream",
     "text": [
      " 0.778771348781"
     ]
    },
    {
     "name": "stdout",
     "output_type": "stream",
     "text": [
      " 0.66973316989"
     ]
    },
    {
     "name": "stdout",
     "output_type": "stream",
     "text": [
      " 0.656859633967"
     ]
    },
    {
     "name": "stdout",
     "output_type": "stream",
     "text": [
      " 0.685138783413"
     ]
    },
    {
     "name": "stdout",
     "output_type": "stream",
     "text": [
      " 0.65405399501"
     ]
    },
    {
     "name": "stdout",
     "output_type": "stream",
     "text": [
      " 0.609573456041"
     ]
    },
    {
     "name": "stdout",
     "output_type": "stream",
     "text": [
      " \n\t\t[0.09259259259259259, 0.08758682483012993, 0.09287236403963639, 0.09348681003570362, 0.09073838888415439, 0.09486260223688282, 0.11044723640874861, 0.13369425378328983, 0.1401036863386166, 0.14784037406337316]\n"
     ]
    },
    {
     "name": "stdout",
     "output_type": "stream",
     "text": [
      "0.668932360989"
     ]
    },
    {
     "name": "stdout",
     "output_type": "stream",
     "text": [
      " 0.627503597814"
     ]
    },
    {
     "name": "stdout",
     "output_type": "stream",
     "text": [
      " 0.738233805254"
     ]
    },
    {
     "name": "stdout",
     "output_type": "stream",
     "text": [
      " 0.675216314988"
     ]
    },
    {
     "name": "stdout",
     "output_type": "stream",
     "text": [
      " 0.625582591404"
     ]
    },
    {
     "name": "stdout",
     "output_type": "stream",
     "text": [
      " 0.693864750092"
     ]
    },
    {
     "name": "stdout",
     "output_type": "stream",
     "text": [
      " 0.694450430712"
     ]
    },
    {
     "name": "stdout",
     "output_type": "stream",
     "text": [
      " 0.601029746189"
     ]
    },
    {
     "name": "stdout",
     "output_type": "stream",
     "text": [
      " 0.548719688539"
     ]
    },
    {
     "name": "stdout",
     "output_type": "stream",
     "text": [
      " 0.708076798506"
     ]
    },
    {
     "name": "stdout",
     "output_type": "stream",
     "text": [
      " \n\t\t[0.05555555555555555, 0.06487766954252036, 0.07549167048323799, 0.07902828966562578, 0.0781768997999464, 0.08002710469154933, 0.09484615240991599, 0.11616098791292183, 0.12542691371031925, 0.12983115215585997]\n"
     ]
    },
    {
     "name": "stdout",
     "output_type": "stream",
     "text": [
      "0.640633890595"
     ]
    },
    {
     "name": "stdout",
     "output_type": "stream",
     "text": [
      " 0.66411209615"
     ]
    },
    {
     "name": "stdout",
     "output_type": "stream",
     "text": [
      " 0.648727435683"
     ]
    },
    {
     "name": "stdout",
     "output_type": "stream",
     "text": [
      " 0.814288426568"
     ]
    },
    {
     "name": "stdout",
     "output_type": "stream",
     "text": [
      " 0.627405391254"
     ]
    },
    {
     "name": "stdout",
     "output_type": "stream",
     "text": [
      " 0.536868777024"
     ]
    },
    {
     "name": "stdout",
     "output_type": "stream",
     "text": [
      " 0.697996102356"
     ]
    },
    {
     "name": "stdout",
     "output_type": "stream",
     "text": [
      " 0.6825642646"
     ]
    },
    {
     "name": "stdout",
     "output_type": "stream",
     "text": [
      " 0.675541581971"
     ]
    },
    {
     "name": "stdout",
     "output_type": "stream",
     "text": [
      " 0.68279229457"
     ]
    },
    {
     "name": "stdout",
     "output_type": "stream",
     "text": [
      " \n\t\t[0.06790123456790123, 0.08241289971892728, 0.08049470499732177, 0.07997803863727612, 0.08526461651973795, 0.09393670687108414, 0.10926907427296459, 0.11452009323303668, 0.1320752450763217, 0.14038846677976557]\n"
     ]
    },
    {
     "name": "stdout",
     "output_type": "stream",
     "text": [
      "0.615589939735"
     ]
    },
    {
     "name": "stdout",
     "output_type": "stream",
     "text": [
      " 0.704768279865"
     ]
    },
    {
     "name": "stdout",
     "output_type": "stream",
     "text": [
      " 0.671247035997"
     ]
    },
    {
     "name": "stdout",
     "output_type": "stream",
     "text": [
      " 0.755627461635"
     ]
    },
    {
     "name": "stdout",
     "output_type": "stream",
     "text": [
      " 0.711011113254"
     ]
    },
    {
     "name": "stdout",
     "output_type": "stream",
     "text": [
      " 0.680613284339"
     ]
    },
    {
     "name": "stdout",
     "output_type": "stream",
     "text": [
      " 0.648077592199"
     ]
    },
    {
     "name": "stdout",
     "output_type": "stream",
     "text": [
      " 0.672128417185"
     ]
    },
    {
     "name": "stdout",
     "output_type": "stream",
     "text": [
      " 0.619463415404"
     ]
    },
    {
     "name": "stdout",
     "output_type": "stream",
     "text": [
      " 0.609836396645"
     ]
    },
    {
     "name": "stdout",
     "output_type": "stream",
     "text": [
      " \n\t\t[0.05555555555555555, 0.06487766954252036, 0.08533707724728969, 0.08834063444408695, 0.08726817281652412, 0.08911837770812706, 0.10178823323559592, 0.11342337717015827, 0.13036516014301303, 0.13618727150789706]\n"
     ]
    },
    {
     "name": "stdout",
     "output_type": "stream",
     "text": [
      "0.564801059261"
     ]
    },
    {
     "name": "stdout",
     "output_type": "stream",
     "text": [
      " 0.65319595225"
     ]
    },
    {
     "name": "stdout",
     "output_type": "stream",
     "text": [
      " 0.550738070824"
     ]
    },
    {
     "name": "stdout",
     "output_type": "stream",
     "text": [
      " 0.633325007244"
     ]
    },
    {
     "name": "stdout",
     "output_type": "stream",
     "text": [
      " 0.581734078266"
     ]
    },
    {
     "name": "stdout",
     "output_type": "stream",
     "text": [
      " 0.548488352293"
     ]
    },
    {
     "name": "stdout",
     "output_type": "stream",
     "text": [
      " 0.573946726547"
     ]
    },
    {
     "name": "stdout",
     "output_type": "stream",
     "text": [
      " 0.634824356647"
     ]
    },
    {
     "name": "stdout",
     "output_type": "stream",
     "text": [
      " 0.639726062336"
     ]
    },
    {
     "name": "stdout",
     "output_type": "stream",
     "text": [
      " 0.657402493855"
     ]
    },
    {
     "name": "stdout",
     "output_type": "stream",
     "text": [
      " \n\t\t[0.06790123456790123, 0.08241289971892728, 0.08049470499732177, 0.08348359122548693, 0.08717544062714888, 0.09511178962945112, 0.10692025551424243, 0.1262931516356538, 0.1309912175107026, 0.13706252734619143]\n"
     ]
    },
    {
     "name": "stdout",
     "output_type": "stream",
     "text": [
      "0.672441858372"
     ]
    },
    {
     "name": "stdout",
     "output_type": "stream",
     "text": [
      " 0.718493755085"
     ]
    },
    {
     "name": "stdout",
     "output_type": "stream",
     "text": [
      " 0.755289494734"
     ]
    },
    {
     "name": "stdout",
     "output_type": "stream",
     "text": [
      " 0.614511894407"
     ]
    },
    {
     "name": "stdout",
     "output_type": "stream",
     "text": [
      " 0.590224247163"
     ]
    },
    {
     "name": "stdout",
     "output_type": "stream",
     "text": [
      " 0.711368259409"
     ]
    },
    {
     "name": "stdout",
     "output_type": "stream",
     "text": [
      " 0.586896170999"
     ]
    },
    {
     "name": "stdout",
     "output_type": "stream",
     "text": [
      " 0.60998083002"
     ]
    },
    {
     "name": "stdout",
     "output_type": "stream",
     "text": [
      " 0.58872419929"
     ]
    },
    {
     "name": "stdout",
     "output_type": "stream",
     "text": [
      " 0.586651287198"
     ]
    },
    {
     "name": "stdout",
     "output_type": "stream",
     "text": [
      " \n\t\t[0.1234567901234568, 0.09386866366205558, 0.09882780519844483, 0.09969357655047018, 0.10517741576575777, 0.11292785063967418, 0.11955375741823183, 0.12511303552103617, 0.12977983321551712, 0.14460697843849568]\n"
     ]
    },
    {
     "name": "stdout",
     "output_type": "stream",
     "text": [
      "0.758930551449"
     ]
    },
    {
     "name": "stdout",
     "output_type": "stream",
     "text": [
      " 0.601708294138"
     ]
    },
    {
     "name": "stdout",
     "output_type": "stream",
     "text": [
      " 0.701785351459"
     ]
    },
    {
     "name": "stdout",
     "output_type": "stream",
     "text": [
      " 0.624722527465"
     ]
    },
    {
     "name": "stdout",
     "output_type": "stream",
     "text": [
      " 0.630720617273"
     ]
    },
    {
     "name": "stdout",
     "output_type": "stream",
     "text": [
      " 0.628444881819"
     ]
    },
    {
     "name": "stdout",
     "output_type": "stream",
     "text": [
      " 0.64986465425"
     ]
    },
    {
     "name": "stdout",
     "output_type": "stream",
     "text": [
      " 0.687712301132"
     ]
    },
    {
     "name": "stdout",
     "output_type": "stream",
     "text": [
      " 0.725201224441"
     ]
    },
    {
     "name": "stdout",
     "output_type": "stream",
     "text": [
      " 0.667463093593"
     ]
    },
    {
     "name": "stdout",
     "output_type": "stream",
     "text": [
      " \n\t\t[0.06790123456790123, 0.06808501796949983, 0.07821905507308152, 0.08159054071642474, 0.08067132064159106, 0.08559698132422687, 0.09832733678597669, 0.1119238905483317, 0.12430115628436697, 0.1288455771297258]\n"
     ]
    },
    {
     "name": "stdout",
     "output_type": "stream",
     "text": [
      "0.583922051352"
     ]
    },
    {
     "name": "stdout",
     "output_type": "stream",
     "text": [
      " 0.615594357011"
     ]
    },
    {
     "name": "stdout",
     "output_type": "stream",
     "text": [
      " 0.555988392229"
     ]
    },
    {
     "name": "stdout",
     "output_type": "stream",
     "text": [
      " 0.777766676271"
     ]
    },
    {
     "name": "stdout",
     "output_type": "stream",
     "text": [
      " 0.64326060343"
     ]
    },
    {
     "name": "stdout",
     "output_type": "stream",
     "text": [
      " 0.642819220889"
     ]
    },
    {
     "name": "stdout",
     "output_type": "stream",
     "text": [
      " 0.630540083561"
     ]
    },
    {
     "name": "stdout",
     "output_type": "stream",
     "text": [
      " 0.656347009423"
     ]
    },
    {
     "name": "stdout",
     "output_type": "stream",
     "text": [
      " 0.611331029783"
     ]
    },
    {
     "name": "stdout",
     "output_type": "stream",
     "text": [
      " 0.721536765249"
     ]
    },
    {
     "name": "stdout",
     "output_type": "stream",
     "text": [
      " \n\t\t[0.10493827160493828, 0.0907941732571094, 0.08099469919869183, 0.08984726171028017, 0.09610544598690848, 0.10349315459299138, 0.11192470288984034, 0.1306690478202142, 0.13537641811572826, 0.1414608693517581]\n"
     ]
    },
    {
     "name": "stdout",
     "output_type": "stream",
     "text": [
      "0.699698249497"
     ]
    },
    {
     "name": "stdout",
     "output_type": "stream",
     "text": [
      " 0.714085134218"
     ]
    },
    {
     "name": "stdout",
     "output_type": "stream",
     "text": [
      " 0.680384821547"
     ]
    },
    {
     "name": "stdout",
     "output_type": "stream",
     "text": [
      " 0.639653798455"
     ]
    },
    {
     "name": "stdout",
     "output_type": "stream",
     "text": [
      " 0.686086222406"
     ]
    },
    {
     "name": "stdout",
     "output_type": "stream",
     "text": [
      " 0.636901756211"
     ]
    },
    {
     "name": "stdout",
     "output_type": "stream",
     "text": [
      " 0.637618010375"
     ]
    },
    {
     "name": "stdout",
     "output_type": "stream",
     "text": [
      " 0.500480938789"
     ]
    },
    {
     "name": "stdout",
     "output_type": "stream",
     "text": [
      " 0.572674061569"
     ]
    },
    {
     "name": "stdout",
     "output_type": "stream",
     "text": [
      " 0.657898598744"
     ]
    },
    {
     "name": "stdout",
     "output_type": "stream",
     "text": [
      " \n\t\t[0.06790123456790123, 0.06596390466526811, 0.0770812301109614, 0.07656456375091573, 0.08446574878297185, 0.09358427093367168, 0.1035623797852378, 0.11839438647094944, 0.11876544384262733, 0.12456935625220945]\n"
     ]
    },
    {
     "name": "stdout",
     "output_type": "stream",
     "text": [
      "0.777794737499"
     ]
    },
    {
     "name": "stdout",
     "output_type": "stream",
     "text": [
      " 0.664072745152"
     ]
    },
    {
     "name": "stdout",
     "output_type": "stream",
     "text": [
      " 0.690084859521"
     ]
    },
    {
     "name": "stdout",
     "output_type": "stream",
     "text": [
      " 0.589700588416"
     ]
    },
    {
     "name": "stdout",
     "output_type": "stream",
     "text": [
      " 0.578841409784"
     ]
    },
    {
     "name": "stdout",
     "output_type": "stream",
     "text": [
      " 0.736184962461"
     ]
    },
    {
     "name": "stdout",
     "output_type": "stream",
     "text": [
      " 0.594988871805"
     ]
    },
    {
     "name": "stdout",
     "output_type": "stream",
     "text": [
      " 0.618726056039"
     ]
    },
    {
     "name": "stdout",
     "output_type": "stream",
     "text": [
      " 0.721458839441"
     ]
    },
    {
     "name": "stdout",
     "output_type": "stream",
     "text": [
      " 0.65126354461"
     ]
    },
    {
     "name": "stdout",
     "output_type": "stream",
     "text": [
      " \n\t\t[0.06790123456790123, 0.08241289971892728, 0.08049470499732177, 0.08348359122548693, 0.08717544062714888, 0.10171358883139696, 0.11420593952322154, 0.11434848382562335, 0.1307431109506978, 0.13926060901274318]\n"
     ]
    },
    {
     "name": "stdout",
     "output_type": "stream",
     "text": [
      "0.672497265951"
     ]
    },
    {
     "name": "stdout",
     "output_type": "stream",
     "text": [
      " 0.557175846878"
     ]
    },
    {
     "name": "stdout",
     "output_type": "stream",
     "text": [
      " 0.681593689977"
     ]
    },
    {
     "name": "stdout",
     "output_type": "stream",
     "text": [
      " 0.712429212211"
     ]
    },
    {
     "name": "stdout",
     "output_type": "stream",
     "text": [
      " 0.584633186975"
     ]
    },
    {
     "name": "stdout",
     "output_type": "stream",
     "text": [
      " 0.629155020083"
     ]
    },
    {
     "name": "stdout",
     "output_type": "stream",
     "text": [
      " 0.707175813978"
     ]
    },
    {
     "name": "stdout",
     "output_type": "stream",
     "text": [
      " 0.608633958993"
     ]
    },
    {
     "name": "stdout",
     "output_type": "stream",
     "text": [
      " 0.73897543413"
     ]
    },
    {
     "name": "stdout",
     "output_type": "stream",
     "text": [
      " 0.662974761182"
     ]
    },
    {
     "name": "stdout",
     "output_type": "stream",
     "text": [
      " \n\t\t[0.05555555555555555, 0.07920555129194781, 0.07776732040747826, 0.08092134017468797, 0.08468101978550421, 0.09263747324618297, 0.10514809165999228, 0.10740732371866642, 0.12380655357355164, 0.13232845682150446]\n"
     ]
    },
    {
     "name": "stdout",
     "output_type": "stream",
     "text": [
      "0.544503664981"
     ]
    },
    {
     "name": "stdout",
     "output_type": "stream",
     "text": [
      " 0.749939001263"
     ]
    },
    {
     "name": "stdout",
     "output_type": "stream",
     "text": [
      " 0.624656499042"
     ]
    },
    {
     "name": "stdout",
     "output_type": "stream",
     "text": [
      " 0.667937676984"
     ]
    },
    {
     "name": "stdout",
     "output_type": "stream",
     "text": [
      " 0.701421169322"
     ]
    },
    {
     "name": "stdout",
     "output_type": "stream",
     "text": [
      " 0.778816778381"
     ]
    },
    {
     "name": "stdout",
     "output_type": "stream",
     "text": [
      " 0.644124996006"
     ]
    },
    {
     "name": "stdout",
     "output_type": "stream",
     "text": [
      " 0.638004010091"
     ]
    },
    {
     "name": "stdout",
     "output_type": "stream",
     "text": [
      " 0.668761175111"
     ]
    },
    {
     "name": "stdout",
     "output_type": "stream",
     "text": [
      " 0.619811728137"
     ]
    },
    {
     "name": "stdout",
     "output_type": "stream",
     "text": [
      " \n\t\t[0.06790123456790123, 0.08241289971892728, 0.08049470499732177, 0.08348359122548693, 0.08717544062714888, 0.09810135909224467, 0.10988186184438013, 0.11277518941344154, 0.13172788253145995, 0.13586373722775816]\n"
     ]
    },
    {
     "name": "stdout",
     "output_type": "stream",
     "text": [
      "0.717459809621"
     ]
    },
    {
     "name": "stdout",
     "output_type": "stream",
     "text": [
      " 0.620416115026"
     ]
    },
    {
     "name": "stdout",
     "output_type": "stream",
     "text": [
      " 0.698432562281"
     ]
    },
    {
     "name": "stdout",
     "output_type": "stream",
     "text": [
      " 0.745249822375"
     ]
    },
    {
     "name": "stdout",
     "output_type": "stream",
     "text": [
      " 0.625602992911"
     ]
    },
    {
     "name": "stdout",
     "output_type": "stream",
     "text": [
      " 0.712944020411"
     ]
    },
    {
     "name": "stdout",
     "output_type": "stream",
     "text": [
      " 0.866252978346"
     ]
    },
    {
     "name": "stdout",
     "output_type": "stream",
     "text": [
      " 0.616149577692"
     ]
    },
    {
     "name": "stdout",
     "output_type": "stream",
     "text": [
      " 0.595706909408"
     ]
    },
    {
     "name": "stdout",
     "output_type": "stream",
     "text": [
      " 0.761247763401"
     ]
    },
    {
     "name": "stdout",
     "output_type": "stream",
     "text": [
      " \n\t\t[0.05555555555555555, 0.06487766954252036, 0.07549167048323799, 0.07552273707741496, 0.07626607569253546, 0.08759180989812915, 0.09703186158929292, 0.1146283246909273, 0.12503749022390936, 0.12750654891867283]\n"
     ]
    },
    {
     "name": "stdout",
     "output_type": "stream",
     "text": [
      "0.64320707873"
     ]
    },
    {
     "name": "stdout",
     "output_type": "stream",
     "text": [
      " 0.733875412591"
     ]
    },
    {
     "name": "stdout",
     "output_type": "stream",
     "text": [
      " 0.72043855507"
     ]
    },
    {
     "name": "stdout",
     "output_type": "stream",
     "text": [
      " 0.614238667259"
     ]
    },
    {
     "name": "stdout",
     "output_type": "stream",
     "text": [
      " 0.672138750696"
     ]
    },
    {
     "name": "stdout",
     "output_type": "stream",
     "text": [
      " 0.643425853865"
     ]
    },
    {
     "name": "stdout",
     "output_type": "stream",
     "text": [
      " 0.679621610227"
     ]
    },
    {
     "name": "stdout",
     "output_type": "stream",
     "text": [
      " 0.715594783191"
     ]
    },
    {
     "name": "stdout",
     "output_type": "stream",
     "text": [
      " 0.684969569021"
     ]
    },
    {
     "name": "stdout",
     "output_type": "stream",
     "text": [
      " 0.676909373327"
     ]
    },
    {
     "name": "stdout",
     "output_type": "stream",
     "text": [
      " \n\t\t[0.06790123456790123, 0.09886189477258646, 0.09448218925390812, 0.09311862994513007, 0.09805733830225985, 0.10888935664581681, 0.11811320127122482, 0.12292249422613531, 0.13898380955245737, 0.14476882938529442]\n"
     ]
    },
    {
     "name": "stdout",
     "output_type": "stream",
     "text": [
      "0.687394787377"
     ]
    },
    {
     "name": "stdout",
     "output_type": "stream",
     "text": [
      " 0.618475102834"
     ]
    },
    {
     "name": "stdout",
     "output_type": "stream",
     "text": [
      " 0.617539708468"
     ]
    },
    {
     "name": "stdout",
     "output_type": "stream",
     "text": [
      " 0.655367307149"
     ]
    },
    {
     "name": "stdout",
     "output_type": "stream",
     "text": [
      " 0.598452794015"
     ]
    },
    {
     "name": "stdout",
     "output_type": "stream",
     "text": [
      " 0.500195159691"
     ]
    },
    {
     "name": "stdout",
     "output_type": "stream",
     "text": [
      " 0.582160948932"
     ]
    },
    {
     "name": "stdout",
     "output_type": "stream",
     "text": [
      " 0.660333529615"
     ]
    },
    {
     "name": "stdout",
     "output_type": "stream",
     "text": [
      " 0.612783646306"
     ]
    },
    {
     "name": "stdout",
     "output_type": "stream",
     "text": [
      " 0.619310896638"
     ]
    },
    {
     "name": "stdout",
     "output_type": "stream",
     "text": [
      " \n\t\t[0.06790123456790123, 0.09886189477258646, 0.09448218925390812, 0.09662418253334089, 0.09996816240967081, 0.11018948502919722, 0.11809517446874455, 0.1341726500783042, 0.13948718998598494, 0.14527127522720737]\n"
     ]
    },
    {
     "name": "stdout",
     "output_type": "stream",
     "text": [
      "0.568964300628"
     ]
    },
    {
     "name": "stdout",
     "output_type": "stream",
     "text": [
      " 0.654340196815"
     ]
    },
    {
     "name": "stdout",
     "output_type": "stream",
     "text": [
      " 0.830976550899"
     ]
    },
    {
     "name": "stdout",
     "output_type": "stream",
     "text": [
      " 0.671126746896"
     ]
    },
    {
     "name": "stdout",
     "output_type": "stream",
     "text": [
      " 0.602381916946"
     ]
    },
    {
     "name": "stdout",
     "output_type": "stream",
     "text": [
      " 0.737956958257"
     ]
    },
    {
     "name": "stdout",
     "output_type": "stream",
     "text": [
      " 0.586610133354"
     ]
    },
    {
     "name": "stdout",
     "output_type": "stream",
     "text": [
      " 0.677260516858"
     ]
    },
    {
     "name": "stdout",
     "output_type": "stream",
     "text": [
      " 0.574347003077"
     ]
    },
    {
     "name": "stdout",
     "output_type": "stream",
     "text": [
      " 0.607085493696"
     ]
    },
    {
     "name": "stdout",
     "output_type": "stream",
     "text": [
      " \n\t\t[0.05555555555555555, 0.07920555129194781, 0.07776732040747826, 0.08092134017468797, 0.08468101978550421, 0.09263747324618297, 0.10060910450646902, 0.12363069130146843, 0.12340726242555837, 0.13209392217685426]\n"
     ]
    },
    {
     "name": "stdout",
     "output_type": "stream",
     "text": [
      "0.699707386361"
     ]
    },
    {
     "name": "stdout",
     "output_type": "stream",
     "text": [
      " 0.623213689408"
     ]
    },
    {
     "name": "stdout",
     "output_type": "stream",
     "text": [
      " 0.72827721141"
     ]
    },
    {
     "name": "stdout",
     "output_type": "stream",
     "text": [
      " 0.655542824102"
     ]
    },
    {
     "name": "stdout",
     "output_type": "stream",
     "text": [
      " 0.740908798967"
     ]
    },
    {
     "name": "stdout",
     "output_type": "stream",
     "text": [
      " 0.543807837821"
     ]
    },
    {
     "name": "stdout",
     "output_type": "stream",
     "text": [
      " 0.580944577904"
     ]
    },
    {
     "name": "stdout",
     "output_type": "stream",
     "text": [
      " 0.629101165432"
     ]
    },
    {
     "name": "stdout",
     "output_type": "stream",
     "text": [
      " 0.63615886406"
     ]
    },
    {
     "name": "stdout",
     "output_type": "stream",
     "text": [
      " 0.604452739289"
     ]
    },
    {
     "name": "stdout",
     "output_type": "stream",
     "text": [
      " \n\t\t[0.06790123456790123, 0.06808501796949983, 0.07821905507308152, 0.08159054071642474, 0.08067132064159106, 0.09319777937271538, 0.09926237108769477, 0.1193356318827542, 0.12258145978955494, 0.12672027545261133]\n"
     ]
    },
    {
     "name": "stdout",
     "output_type": "stream",
     "text": [
      "0.605824453105"
     ]
    },
    {
     "name": "stdout",
     "output_type": "stream",
     "text": [
      " 0.743845584891"
     ]
    },
    {
     "name": "stdout",
     "output_type": "stream",
     "text": [
      " 0.749969745752"
     ]
    },
    {
     "name": "stdout",
     "output_type": "stream",
     "text": [
      " 0.665595367725"
     ]
    },
    {
     "name": "stdout",
     "output_type": "stream",
     "text": [
      " 0.66116321167"
     ]
    },
    {
     "name": "stdout",
     "output_type": "stream",
     "text": [
      " 0.683053729779"
     ]
    },
    {
     "name": "stdout",
     "output_type": "stream",
     "text": [
      " 0.561032064161"
     ]
    },
    {
     "name": "stdout",
     "output_type": "stream",
     "text": [
      " 0.650864216998"
     ]
    },
    {
     "name": "stdout",
     "output_type": "stream",
     "text": [
      " 0.630896962014"
     ]
    },
    {
     "name": "stdout",
     "output_type": "stream",
     "text": [
      " 0.682201877707"
     ]
    },
    {
     "name": "stdout",
     "output_type": "stream",
     "text": [
      " \n\t\t[0.030864197530864196, 0.05970374443131772, 0.06678868090136462, 0.06535018132944595, 0.07128098907602988, 0.07974798278333542, 0.09312138052614782, 0.11075415260537248, 0.11054234877417032, 0.12131565906708787]\n"
     ]
    },
    {
     "name": "stdout",
     "output_type": "stream",
     "text": [
      "0.600510359957"
     ]
    },
    {
     "name": "stdout",
     "output_type": "stream",
     "text": [
      " 0.733031637838"
     ]
    },
    {
     "name": "stdout",
     "output_type": "stream",
     "text": [
      " 0.836708358957"
     ]
    },
    {
     "name": "stdout",
     "output_type": "stream",
     "text": [
      " 0.676935405331"
     ]
    },
    {
     "name": "stdout",
     "output_type": "stream",
     "text": [
      " 0.631528733868"
     ]
    },
    {
     "name": "stdout",
     "output_type": "stream",
     "text": [
      " 0.575885006292"
     ]
    },
    {
     "name": "stdout",
     "output_type": "stream",
     "text": [
      " 0.664899306818"
     ]
    },
    {
     "name": "stdout",
     "output_type": "stream",
     "text": [
      " 0.649391661177"
     ]
    },
    {
     "name": "stdout",
     "output_type": "stream",
     "text": [
      " 0.510269681238"
     ]
    },
    {
     "name": "stdout",
     "output_type": "stream",
     "text": [
      " 0.651184170414"
     ]
    },
    {
     "name": "stdout",
     "output_type": "stream",
     "text": [
      " \n\t\t[0.06790123456790123, 0.08241289971892728, 0.08416937445776303, 0.0833142542877346, 0.08575330226764882, 0.09648509816181508, 0.10818584967310023, 0.12578218429489155, 0.13218335027971986, 0.13799084539428708]\n"
     ]
    },
    {
     "name": "stdout",
     "output_type": "stream",
     "text": [
      "0.669144877598"
     ]
    },
    {
     "name": "stdout",
     "output_type": "stream",
     "text": [
      " 0.671434783954"
     ]
    },
    {
     "name": "stdout",
     "output_type": "stream",
     "text": [
      " 0.677316566871"
     ]
    },
    {
     "name": "stdout",
     "output_type": "stream",
     "text": [
      " 0.686054429307"
     ]
    },
    {
     "name": "stdout",
     "output_type": "stream",
     "text": [
      " 0.642196465165"
     ]
    },
    {
     "name": "stdout",
     "output_type": "stream",
     "text": [
      " 0.607109019499"
     ]
    },
    {
     "name": "stdout",
     "output_type": "stream",
     "text": [
      " 0.576399303868"
     ]
    },
    {
     "name": "stdout",
     "output_type": "stream",
     "text": [
      " 0.601032276563"
     ]
    },
    {
     "name": "stdout",
     "output_type": "stream",
     "text": [
      " 0.740263799371"
     ]
    },
    {
     "name": "stdout",
     "output_type": "stream",
     "text": [
      " 0.686192725254"
     ]
    },
    {
     "name": "stdout",
     "output_type": "stream",
     "text": [
      " \n\t\t[0.06790123456790123, 0.06596390466526811, 0.0770812301109614, 0.08007011633912654, 0.0837619657407885, 0.0946878842058843, 0.10646838695801973, 0.12104559885247854, 0.12428524050961594, 0.13280348854058752]\n"
     ]
    },
    {
     "name": "stdout",
     "output_type": "stream",
     "text": [
      "0.754481120024"
     ]
    },
    {
     "name": "stdout",
     "output_type": "stream",
     "text": [
      " 0.593971803807"
     ]
    },
    {
     "name": "stdout",
     "output_type": "stream",
     "text": [
      " 0.616981217164"
     ]
    },
    {
     "name": "stdout",
     "output_type": "stream",
     "text": [
      " 0.707430506831"
     ]
    },
    {
     "name": "stdout",
     "output_type": "stream",
     "text": [
      " 0.694876217621"
     ]
    },
    {
     "name": "stdout",
     "output_type": "stream",
     "text": [
      " 0.772004675878"
     ]
    },
    {
     "name": "stdout",
     "output_type": "stream",
     "text": [
      " 0.66984585552"
     ]
    },
    {
     "name": "stdout",
     "output_type": "stream",
     "text": [
      " 0.706185375247"
     ]
    },
    {
     "name": "stdout",
     "output_type": "stream",
     "text": [
      " 0.521799599279"
     ]
    },
    {
     "name": "stdout",
     "output_type": "stream",
     "text": [
      " 0.638322783729"
     ]
    },
    {
     "name": "stdout",
     "output_type": "stream",
     "text": [
      " \n\t\t[0.06790123456790123, 0.06596390466526811, 0.0770812301109614, 0.08007011633912654, 0.0837619657407885, 0.09169831474309073, 0.10035350682571026, 0.11792784699996971, 0.1236969394482444, 0.12950006994141436]\n"
     ]
    },
    {
     "name": "stdout",
     "output_type": "stream",
     "text": [
      "0.680132300964"
     ]
    },
    {
     "name": "stdout",
     "output_type": "stream",
     "text": [
      " 0.693544571734"
     ]
    },
    {
     "name": "stdout",
     "output_type": "stream",
     "text": [
      " 0.632591582893"
     ]
    },
    {
     "name": "stdout",
     "output_type": "stream",
     "text": [
      " 0.606395205503"
     ]
    },
    {
     "name": "stdout",
     "output_type": "stream",
     "text": [
      " 0.628030153051"
     ]
    },
    {
     "name": "stdout",
     "output_type": "stream",
     "text": [
      " 0.74580445108"
     ]
    },
    {
     "name": "stdout",
     "output_type": "stream",
     "text": [
      " 0.631898006483"
     ]
    },
    {
     "name": "stdout",
     "output_type": "stream",
     "text": [
      " 0.706143944939"
     ]
    },
    {
     "name": "stdout",
     "output_type": "stream",
     "text": [
      " 0.775549765563"
     ]
    },
    {
     "name": "stdout",
     "output_type": "stream",
     "text": [
      " 0.696163412257"
     ]
    },
    {
     "name": "stdout",
     "output_type": "stream",
     "text": [
      " \n\t\t[0.06790123456790123, 0.08241289971892728, 0.08049470499732177, 0.07997803863727612, 0.08526461651973795, 0.09321017179630493, 0.10635578413097029, 0.12031660710839753, 0.1255968977818769, 0.13603240155434396]\n"
     ]
    },
    {
     "name": "stdout",
     "output_type": "stream",
     "text": [
      "0.552326403962"
     ]
    },
    {
     "name": "stdout",
     "output_type": "stream",
     "text": [
      " 0.596682306395"
     ]
    },
    {
     "name": "stdout",
     "output_type": "stream",
     "text": [
      " 0.565369063559"
     ]
    },
    {
     "name": "stdout",
     "output_type": "stream",
     "text": [
      " 0.633898936046"
     ]
    },
    {
     "name": "stdout",
     "output_type": "stream",
     "text": [
      " 0.661979882324"
     ]
    },
    {
     "name": "stdout",
     "output_type": "stream",
     "text": [
      " 0.705534967885"
     ]
    },
    {
     "name": "stdout",
     "output_type": "stream",
     "text": [
      " 0.686976550325"
     ]
    },
    {
     "name": "stdout",
     "output_type": "stream",
     "text": [
      " 0.612711437298"
     ]
    },
    {
     "name": "stdout",
     "output_type": "stream",
     "text": [
      " 0.674177619579"
     ]
    },
    {
     "name": "stdout",
     "output_type": "stream",
     "text": [
      " 0.645662653973"
     ]
    },
    {
     "name": "stdout",
     "output_type": "stream",
     "text": [
      " \n\t\t[0.10493827160493828, 0.10724316831076858, 0.10958723288606625, 0.10918965239435655, 0.10602553150832099, 0.11015943346217066, 0.1122018250979749, 0.13773671931192122, 0.13922971397986342, 0.14670125194380348]\n"
     ]
    },
    {
     "name": "stdout",
     "output_type": "stream",
     "text": [
      "0.729981640547"
     ]
    },
    {
     "name": "stdout",
     "output_type": "stream",
     "text": [
      " 0.634766848531"
     ]
    },
    {
     "name": "stdout",
     "output_type": "stream",
     "text": [
      " 0.813994541072"
     ]
    },
    {
     "name": "stdout",
     "output_type": "stream",
     "text": [
      " 0.640902856543"
     ]
    },
    {
     "name": "stdout",
     "output_type": "stream",
     "text": [
      " 0.625143164523"
     ]
    },
    {
     "name": "stdout",
     "output_type": "stream",
     "text": [
      " 0.706231018614"
     ]
    },
    {
     "name": "stdout",
     "output_type": "stream",
     "text": [
      " 0.584569581336"
     ]
    },
    {
     "name": "stdout",
     "output_type": "stream",
     "text": [
      " 0.622007759053"
     ]
    },
    {
     "name": "stdout",
     "output_type": "stream",
     "text": [
      " 0.747115693473"
     ]
    },
    {
     "name": "stdout",
     "output_type": "stream",
     "text": [
      " 0.717330640918"
     ]
    },
    {
     "name": "stdout",
     "output_type": "stream",
     "text": [
      " \n\t\t[0.06790123456790123, 0.06808501796949983, 0.07821905507308152, 0.08159054071642474, 0.08067132064159106, 0.08250142107481748, 0.10122282942666255, 0.10648324566774467, 0.1225698707249568, 0.1283763278256687]\n"
     ]
    },
    {
     "name": "stdout",
     "output_type": "stream",
     "text": [
      "0.676732087617"
     ]
    },
    {
     "name": "stdout",
     "output_type": "stream",
     "text": [
      " 0.752207178089"
     ]
    },
    {
     "name": "stdout",
     "output_type": "stream",
     "text": [
      " 0.739104775113"
     ]
    },
    {
     "name": "stdout",
     "output_type": "stream",
     "text": [
      " 0.687550033208"
     ]
    },
    {
     "name": "stdout",
     "output_type": "stream",
     "text": [
      " 0.547362937666"
     ]
    },
    {
     "name": "stdout",
     "output_type": "stream",
     "text": [
      " 0.596711582991"
     ]
    },
    {
     "name": "stdout",
     "output_type": "stream",
     "text": [
      " 0.693675911038"
     ]
    },
    {
     "name": "stdout",
     "output_type": "stream",
     "text": [
      " 0.644803290566"
     ]
    },
    {
     "name": "stdout",
     "output_type": "stream",
     "text": [
      " 0.718502185308"
     ]
    },
    {
     "name": "stdout",
     "output_type": "stream",
     "text": [
      " 0.595565238445"
     ]
    },
    {
     "name": "stdout",
     "output_type": "stream",
     "text": [
      " \n\t\t[0.10493827160493828, 0.0907941732571094, 0.09559974862947991, 0.0960490610865026, 0.09323280972579907, 0.10157149509998822, 0.11322467066627774, 0.1289788227142513, 0.12875107180493342, 0.1389398676930688]\n"
     ]
    },
    {
     "name": "stdout",
     "output_type": "stream",
     "text": [
      "0.507250824242"
     ]
    },
    {
     "name": "stdout",
     "output_type": "stream",
     "text": [
      " 0.604709087723"
     ]
    },
    {
     "name": "stdout",
     "output_type": "stream",
     "text": [
      " 0.627958650778"
     ]
    },
    {
     "name": "stdout",
     "output_type": "stream",
     "text": [
      " 0.568536201388"
     ]
    },
    {
     "name": "stdout",
     "output_type": "stream",
     "text": [
      " 0.720490052978"
     ]
    },
    {
     "name": "stdout",
     "output_type": "stream",
     "text": [
      " 0.74448472002"
     ]
    },
    {
     "name": "stdout",
     "output_type": "stream",
     "text": [
      " 0.70302008126"
     ]
    },
    {
     "name": "stdout",
     "output_type": "stream",
     "text": [
      " 0.746207457726"
     ]
    },
    {
     "name": "stdout",
     "output_type": "stream",
     "text": [
      " 0.736550319706"
     ]
    },
    {
     "name": "stdout",
     "output_type": "stream",
     "text": [
      " 0.605768332067"
     ]
    },
    {
     "name": "stdout",
     "output_type": "stream",
     "text": [
      " \n\t\t[0.06790123456790123, 0.06808501796949983, 0.07821905507308152, 0.08159054071642474, 0.08067132064159106, 0.08861345945570599, 0.09098309870660568, 0.1175994947507976, 0.12084249108301537, 0.1264122484784264]\n"
     ]
    },
    {
     "name": "stdout",
     "output_type": "stream",
     "text": [
      "0.645663009075"
     ]
    },
    {
     "name": "stdout",
     "output_type": "stream",
     "text": [
      " 0.712448944748"
     ]
    },
    {
     "name": "stdout",
     "output_type": "stream",
     "text": [
      " 0.668758543037"
     ]
    },
    {
     "name": "stdout",
     "output_type": "stream",
     "text": [
      " 0.698206732373"
     ]
    },
    {
     "name": "stdout",
     "output_type": "stream",
     "text": [
      " 0.712249121008"
     ]
    },
    {
     "name": "stdout",
     "output_type": "stream",
     "text": [
      " 0.688777102203"
     ]
    },
    {
     "name": "stdout",
     "output_type": "stream",
     "text": [
      " 0.652669514732"
     ]
    },
    {
     "name": "stdout",
     "output_type": "stream",
     "text": [
      " 0.859310028268"
     ]
    },
    {
     "name": "stdout",
     "output_type": "stream",
     "text": [
      " 0.703139192005"
     ]
    },
    {
     "name": "stdout",
     "output_type": "stream",
     "text": [
      " 0.804356421898"
     ]
    },
    {
     "name": "stdout",
     "output_type": "stream",
     "text": [
      " \n\t\t[0.06790123456790123, 0.07692990136770755, 0.0917218962738421, 0.09086677610381368, 0.0933058240837279, 0.10403761997789414, 0.10994480697037982, 0.12572116297622712, 0.12612558491600862, 0.13193639962550718]\n"
     ]
    },
    {
     "name": "stdout",
     "output_type": "stream",
     "text": [
      "0.728194424597"
     ]
    },
    {
     "name": "stdout",
     "output_type": "stream",
     "text": [
      " 0.617114310663"
     ]
    },
    {
     "name": "stdout",
     "output_type": "stream",
     "text": [
      " 0.615065276571"
     ]
    },
    {
     "name": "stdout",
     "output_type": "stream",
     "text": [
      " 0.707167875492"
     ]
    },
    {
     "name": "stdout",
     "output_type": "stream",
     "text": [
      " 0.794450544625"
     ]
    },
    {
     "name": "stdout",
     "output_type": "stream",
     "text": [
      " 0.595410489624"
     ]
    },
    {
     "name": "stdout",
     "output_type": "stream",
     "text": [
      " 0.640358959752"
     ]
    },
    {
     "name": "stdout",
     "output_type": "stream",
     "text": [
      " 0.689236923853"
     ]
    },
    {
     "name": "stdout",
     "output_type": "stream",
     "text": [
      " 0.633839140945"
     ]
    },
    {
     "name": "stdout",
     "output_type": "stream",
     "text": [
      " 0.632027394741"
     ]
    },
    {
     "name": "stdout",
     "output_type": "stream",
     "text": [
      " \n\t\t[0.030864197530864196, 0.07403162618074519, 0.0690643308256049, 0.07074878442671896, 0.07969593316899864, 0.08778321559418283, 0.09966022977346164, 0.11362965771274583, 0.11751366782539925, 0.12165977194379364]\n"
     ]
    },
    {
     "name": "stdout",
     "output_type": "stream",
     "text": [
      "0.687257754695"
     ]
    },
    {
     "name": "stdout",
     "output_type": "stream",
     "text": [
      " 0.677348412963"
     ]
    },
    {
     "name": "stdout",
     "output_type": "stream",
     "text": [
      " 0.709874749759"
     ]
    },
    {
     "name": "stdout",
     "output_type": "stream",
     "text": [
      " 0.716265051156"
     ]
    },
    {
     "name": "stdout",
     "output_type": "stream",
     "text": [
      " 0.652587519791"
     ]
    },
    {
     "name": "stdout",
     "output_type": "stream",
     "text": [
      " 0.636520646293"
     ]
    },
    {
     "name": "stdout",
     "output_type": "stream",
     "text": [
      " 0.602066063435"
     ]
    },
    {
     "name": "stdout",
     "output_type": "stream",
     "text": [
      " 0.574807463187"
     ]
    },
    {
     "name": "stdout",
     "output_type": "stream",
     "text": [
      " 0.67835491178"
     ]
    },
    {
     "name": "stdout",
     "output_type": "stream",
     "text": [
      " 0.76384385221"
     ]
    },
    {
     "name": "stdout",
     "output_type": "stream",
     "text": [
      " \n\t\t[0.06790123456790123, 0.09674078146835476, 0.0864450243820033, 0.08302874164484769, 0.09294569912886216, 0.09420071905533475, 0.11351735961130192, 0.13041335247588307, 0.1357059764301951, 0.13856509508505718]\n"
     ]
    },
    {
     "name": "stdout",
     "output_type": "stream",
     "text": [
      "0.629386564042"
     ]
    },
    {
     "name": "stdout",
     "output_type": "stream",
     "text": [
      " 0.662288359829"
     ]
    },
    {
     "name": "stdout",
     "output_type": "stream",
     "text": [
      " 0.547471118678"
     ]
    },
    {
     "name": "stdout",
     "output_type": "stream",
     "text": [
      " 0.598543316867"
     ]
    },
    {
     "name": "stdout",
     "output_type": "stream",
     "text": [
      " 0.614089136528"
     ]
    },
    {
     "name": "stdout",
     "output_type": "stream",
     "text": [
      " 0.62455835988"
     ]
    },
    {
     "name": "stdout",
     "output_type": "stream",
     "text": [
      " 0.777746629482"
     ]
    },
    {
     "name": "stdout",
     "output_type": "stream",
     "text": [
      " 0.540257009772"
     ]
    },
    {
     "name": "stdout",
     "output_type": "stream",
     "text": [
      " 0.597308572433"
     ]
    },
    {
     "name": "stdout",
     "output_type": "stream",
     "text": [
      " 0.638848725814"
     ]
    },
    {
     "name": "stdout",
     "output_type": "stream",
     "text": [
      " \n\t\t[0.10493827160493828, 0.0907941732571094, 0.09559974862947991, 0.0960490610865026, 0.09323280972579907, 0.10082410273428984, 0.11525569578644633, 0.11931701363835441, 0.13541971943378409, 0.14122346582393375]\n"
     ]
    },
    {
     "name": "stdout",
     "output_type": "stream",
     "text": [
      "0.547365680267"
     ]
    },
    {
     "name": "stdout",
     "output_type": "stream",
     "text": [
      " 0.620827053328"
     ]
    },
    {
     "name": "stdout",
     "output_type": "stream",
     "text": [
      " 0.695930581746"
     ]
    },
    {
     "name": "stdout",
     "output_type": "stream",
     "text": [
      " 0.624024075769"
     ]
    },
    {
     "name": "stdout",
     "output_type": "stream",
     "text": [
      " 0.713304702171"
     ]
    },
    {
     "name": "stdout",
     "output_type": "stream",
     "text": [
      " 0.669384314297"
     ]
    },
    {
     "name": "stdout",
     "output_type": "stream",
     "text": [
      " 0.614051677629"
     ]
    },
    {
     "name": "stdout",
     "output_type": "stream",
     "text": [
      " 0.786759647552"
     ]
    },
    {
     "name": "stdout",
     "output_type": "stream",
     "text": [
      " 0.631783927771"
     ]
    },
    {
     "name": "stdout",
     "output_type": "stream",
     "text": [
      " 0.719638772766"
     ]
    },
    {
     "name": "stdout",
     "output_type": "stream",
     "text": [
      " \n\t\t[0.06790123456790123, 0.09886189477258646, 0.09448218925390812, 0.09720266763992108, 0.10061078410823386, 0.10495051465807485, 0.11310156825350354, 0.13573649368808158, 0.14004635068173213, 0.1477483665195699]\n"
     ]
    },
    {
     "name": "stdout",
     "output_type": "stream",
     "text": [
      "0.670748528641"
     ]
    },
    {
     "name": "stdout",
     "output_type": "stream",
     "text": [
      " 0.650386532968"
     ]
    },
    {
     "name": "stdout",
     "output_type": "stream",
     "text": [
      " 0.673196172414"
     ]
    },
    {
     "name": "stdout",
     "output_type": "stream",
     "text": [
      " 0.708419737005"
     ]
    },
    {
     "name": "stdout",
     "output_type": "stream",
     "text": [
      " 0.562879499588"
     ]
    },
    {
     "name": "stdout",
     "output_type": "stream",
     "text": [
      " 0.6681656686"
     ]
    },
    {
     "name": "stdout",
     "output_type": "stream",
     "text": [
      " 0.670050838028"
     ]
    },
    {
     "name": "stdout",
     "output_type": "stream",
     "text": [
      " 0.869156689672"
     ]
    },
    {
     "name": "stdout",
     "output_type": "stream",
     "text": [
      " 0.626761520021"
     ]
    },
    {
     "name": "stdout",
     "output_type": "stream",
     "text": [
      " 0.740325735702"
     ]
    },
    {
     "name": "stdout",
     "output_type": "stream",
     "text": [
      " \n\t\t[0.030864197530864196, 0.07403162618074519, 0.0690643308256049, 0.07132726953329915, 0.08033855486756171, 0.0884195093502271, 0.09921889101533711, 0.11684537401513398, 0.12181329741715466, 0.12762397224711688]\n"
     ]
    },
    {
     "name": "stdout",
     "output_type": "stream",
     "text": [
      "0.637436854818"
     ]
    },
    {
     "name": "stdout",
     "output_type": "stream",
     "text": [
      " 0.650758170195"
     ]
    },
    {
     "name": "stdout",
     "output_type": "stream",
     "text": [
      " 0.775101330197"
     ]
    },
    {
     "name": "stdout",
     "output_type": "stream",
     "text": [
      " 0.624473525407"
     ]
    },
    {
     "name": "stdout",
     "output_type": "stream",
     "text": [
      " 0.699897748053"
     ]
    },
    {
     "name": "stdout",
     "output_type": "stream",
     "text": [
      " 0.733805436132"
     ]
    },
    {
     "name": "stdout",
     "output_type": "stream",
     "text": [
      " 0.675487622389"
     ]
    },
    {
     "name": "stdout",
     "output_type": "stream",
     "text": [
      " 0.565666943582"
     ]
    },
    {
     "name": "stdout",
     "output_type": "stream",
     "text": [
      " 0.650447401925"
     ]
    },
    {
     "name": "stdout",
     "output_type": "stream",
     "text": [
      " 0.71395611504"
     ]
    },
    {
     "name": "stdout",
     "output_type": "stream",
     "text": [
      " \n\t\t[0.06790123456790123, 0.08241289971892728, 0.08049470499732177, 0.07997803863727612, 0.08526461651973795, 0.09321017179630493, 0.10635578413097029, 0.12031660710839753, 0.13016069014409193, 0.1342963303855041]\n"
     ]
    },
    {
     "name": "stdout",
     "output_type": "stream",
     "text": [
      "0.618675854347"
     ]
    },
    {
     "name": "stdout",
     "output_type": "stream",
     "text": [
      " 0.624796302527"
     ]
    },
    {
     "name": "stdout",
     "output_type": "stream",
     "text": [
      " 0.724915213184"
     ]
    },
    {
     "name": "stdout",
     "output_type": "stream",
     "text": [
      " 0.590803809386"
     ]
    },
    {
     "name": "stdout",
     "output_type": "stream",
     "text": [
      " 0.637672808383"
     ]
    },
    {
     "name": "stdout",
     "output_type": "stream",
     "text": [
      " 0.674837223681"
     ]
    },
    {
     "name": "stdout",
     "output_type": "stream",
     "text": [
      " 0.744014339823"
     ]
    },
    {
     "name": "stdout",
     "output_type": "stream",
     "text": [
      " 0.65865415692"
     ]
    },
    {
     "name": "stdout",
     "output_type": "stream",
     "text": [
      " 0.675242427934"
     ]
    },
    {
     "name": "stdout",
     "output_type": "stream",
     "text": [
      " 0.716086971567"
     ]
    },
    {
     "name": "stdout",
     "output_type": "stream",
     "text": [
      " \n\t\t[0.06790123456790123, 0.06808501796949983, 0.07821905507308152, 0.08216902582300493, 0.08131394234015413, 0.09260403787058774, 0.10454084899735845, 0.11045061776048097, 0.1219884457933541, 0.13217406536152618]\n"
     ]
    },
    {
     "name": "stdout",
     "output_type": "stream",
     "text": [
      "0.746127876883"
     ]
    },
    {
     "name": "stdout",
     "output_type": "stream",
     "text": [
      " 0.596180022308"
     ]
    },
    {
     "name": "stdout",
     "output_type": "stream",
     "text": [
      " 0.708019610048"
     ]
    },
    {
     "name": "stdout",
     "output_type": "stream",
     "text": [
      " 0.695991698207"
     ]
    },
    {
     "name": "stdout",
     "output_type": "stream",
     "text": [
      " 0.689381025387"
     ]
    },
    {
     "name": "stdout",
     "output_type": "stream",
     "text": [
      " 0.602039738989"
     ]
    },
    {
     "name": "stdout",
     "output_type": "stream",
     "text": [
      " 0.640943725139"
     ]
    },
    {
     "name": "stdout",
     "output_type": "stream",
     "text": [
      " 0.681967223341"
     ]
    },
    {
     "name": "stdout",
     "output_type": "stream",
     "text": [
      " 0.647731100948"
     ]
    },
    {
     "name": "stdout",
     "output_type": "stream",
     "text": [
      " 0.589459278078"
     ]
    },
    {
     "name": "stdout",
     "output_type": "stream",
     "text": [
      " \n\t\t[0.04938271604938271, 0.0946712580034954, 0.0910749741303713, 0.09036964311430176, 0.09548754295760885, 0.10334034771524189, 0.11650810058822235, 0.11769261933714688, 0.1394995367046161, 0.14476346153184635]\n"
     ]
    },
    {
     "name": "stdout",
     "output_type": "stream",
     "text": [
      "0.837813884479"
     ]
    },
    {
     "name": "stdout",
     "output_type": "stream",
     "text": [
      " 0.655555915661"
     ]
    },
    {
     "name": "stdout",
     "output_type": "stream",
     "text": [
      " 0.718452252397"
     ]
    },
    {
     "name": "stdout",
     "output_type": "stream",
     "text": [
      " 0.626652928064"
     ]
    },
    {
     "name": "stdout",
     "output_type": "stream",
     "text": [
      " 0.897342716696"
     ]
    },
    {
     "name": "stdout",
     "output_type": "stream",
     "text": [
      " 0.595949111511"
     ]
    },
    {
     "name": "stdout",
     "output_type": "stream",
     "text": [
      " 0.63472560643"
     ]
    },
    {
     "name": "stdout",
     "output_type": "stream",
     "text": [
      " 0.640914167912"
     ]
    },
    {
     "name": "stdout",
     "output_type": "stream",
     "text": [
      " 0.784570630125"
     ]
    },
    {
     "name": "stdout",
     "output_type": "stream",
     "text": [
      " 0.734881349317"
     ]
    },
    {
     "name": "stdout",
     "output_type": "stream",
     "text": [
      " \n\t\t[0.06790123456790123, 0.08241289971892728, 0.08049470499732177, 0.08348359122548693, 0.08717544062714888, 0.09511178962945112, 0.1030741250363949, 0.12545693878191427, 0.12583058995860968, 0.13355455438852057]\n"
     ]
    },
    {
     "name": "stdout",
     "output_type": "stream",
     "text": [
      "0.675095104898"
     ]
    },
    {
     "name": "stdout",
     "output_type": "stream",
     "text": [
      " 0.577761931728"
     ]
    },
    {
     "name": "stdout",
     "output_type": "stream",
     "text": [
      " 0.592368333306"
     ]
    },
    {
     "name": "stdout",
     "output_type": "stream",
     "text": [
      " 0.629026718987"
     ]
    },
    {
     "name": "stdout",
     "output_type": "stream",
     "text": [
      " 0.607429075899"
     ]
    },
    {
     "name": "stdout",
     "output_type": "stream",
     "text": [
      " 0.701295425569"
     ]
    },
    {
     "name": "stdout",
     "output_type": "stream",
     "text": [
      " 0.569331592256"
     ]
    },
    {
     "name": "stdout",
     "output_type": "stream",
     "text": [
      " 0.733384649075"
     ]
    },
    {
     "name": "stdout",
     "output_type": "stream",
     "text": [
      " 0.630372784389"
     ]
    },
    {
     "name": "stdout",
     "output_type": "stream",
     "text": [
      " 0.695767123013"
     ]
    },
    {
     "name": "stdout",
     "output_type": "stream",
     "text": [
      " \n\t\t[0.06790123456790123, 0.08241289971892728, 0.09106871436754774, 0.0932107076469805, 0.09655468752331041, 0.10402321493376512, 0.11197950749105079, 0.12511710215657082, 0.13601646871191134, 0.14243799549014458]\n"
     ]
    },
    {
     "name": "stdout",
     "output_type": "stream",
     "text": [
      "0.69748672821"
     ]
    },
    {
     "name": "stdout",
     "output_type": "stream",
     "text": [
      " 0.62625200595"
     ]
    },
    {
     "name": "stdout",
     "output_type": "stream",
     "text": [
      " 0.795467212566"
     ]
    },
    {
     "name": "stdout",
     "output_type": "stream",
     "text": [
      " 0.677256055989"
     ]
    },
    {
     "name": "stdout",
     "output_type": "stream",
     "text": [
      " 0.640176024105"
     ]
    },
    {
     "name": "stdout",
     "output_type": "stream",
     "text": [
      " 0.701169871743"
     ]
    },
    {
     "name": "stdout",
     "output_type": "stream",
     "text": [
      " 0.615637756434"
     ]
    },
    {
     "name": "stdout",
     "output_type": "stream",
     "text": [
      " 0.614340281677"
     ]
    },
    {
     "name": "stdout",
     "output_type": "stream",
     "text": [
      " 0.665527993348"
     ]
    },
    {
     "name": "stdout",
     "output_type": "stream",
     "text": [
      " 0.744196006382"
     ]
    },
    {
     "name": "stdout",
     "output_type": "stream",
     "text": [
      " \n\t\t[0.06790123456790123, 0.08453401302315901, 0.08351619255146867, 0.09372881762705895, 0.09259323676507218, 0.10383615899376505, 0.10610984926318617, 0.12417564866772952, 0.13915714661668718, 0.14159975160805818]\n"
     ]
    },
    {
     "name": "stdout",
     "output_type": "stream",
     "text": [
      "0.780015744587"
     ]
    },
    {
     "name": "stdout",
     "output_type": "stream",
     "text": [
      " 0.608765811698"
     ]
    },
    {
     "name": "stdout",
     "output_type": "stream",
     "text": [
      " 0.664654257058"
     ]
    },
    {
     "name": "stdout",
     "output_type": "stream",
     "text": [
      " 0.686879621349"
     ]
    },
    {
     "name": "stdout",
     "output_type": "stream",
     "text": [
      " 0.729463573052"
     ]
    },
    {
     "name": "stdout",
     "output_type": "stream",
     "text": [
      " 0.618132566759"
     ]
    },
    {
     "name": "stdout",
     "output_type": "stream",
     "text": [
      " 0.7491610008"
     ]
    },
    {
     "name": "stdout",
     "output_type": "stream",
     "text": [
      " 0.757290357569"
     ]
    },
    {
     "name": "stdout",
     "output_type": "stream",
     "text": [
      " 0.824272502744"
     ]
    },
    {
     "name": "stdout",
     "output_type": "stream",
     "text": [
      " 0.734222084655"
     ]
    },
    {
     "name": "stdout",
     "output_type": "stream",
     "text": [
      " \n\t\t[0.06790123456790123, 0.08241289971892728, 0.08049470499732177, 0.08082899827098372, 0.08641881383091388, 0.09099842067705095, 0.10049875695367651, 0.12101292005314539, 0.12535174403291102, 0.13051296235785037]\n"
     ]
    },
    {
     "name": "stdout",
     "output_type": "stream",
     "text": [
      "0.643085074542"
     ]
    },
    {
     "name": "stdout",
     "output_type": "stream",
     "text": [
      " 0.676383727794"
     ]
    },
    {
     "name": "stdout",
     "output_type": "stream",
     "text": [
      " 0.713946295707"
     ]
    },
    {
     "name": "stdout",
     "output_type": "stream",
     "text": [
      " 0.680995544745"
     ]
    },
    {
     "name": "stdout",
     "output_type": "stream",
     "text": [
      " 0.657981608535"
     ]
    },
    {
     "name": "stdout",
     "output_type": "stream",
     "text": [
      " 0.754842320557"
     ]
    },
    {
     "name": "stdout",
     "output_type": "stream",
     "text": [
      " 0.604163905712"
     ]
    },
    {
     "name": "stdout",
     "output_type": "stream",
     "text": [
      " 0.576920115032"
     ]
    },
    {
     "name": "stdout",
     "output_type": "stream",
     "text": [
      " 0.687021210735"
     ]
    },
    {
     "name": "stdout",
     "output_type": "stream",
     "text": [
      " 0.567152003927"
     ]
    },
    {
     "name": "stdout",
     "output_type": "stream",
     "text": [
      " \n\t\t[0.06790123456790123, 0.08241289971892728, 0.08049470499732177, 0.0803823823747308, 0.0858133635682097, 0.09375351529275247, 0.10588691933970648, 0.12282134176343475, 0.13064918196326267, 0.13567027345998353]\n"
     ]
    },
    {
     "name": "stdout",
     "output_type": "stream",
     "text": [
      "0.645779883932"
     ]
    },
    {
     "name": "stdout",
     "output_type": "stream",
     "text": [
      " 0.651134392193"
     ]
    },
    {
     "name": "stdout",
     "output_type": "stream",
     "text": [
      " 0.655185965223"
     ]
    },
    {
     "name": "stdout",
     "output_type": "stream",
     "text": [
      " 0.631849980973"
     ]
    },
    {
     "name": "stdout",
     "output_type": "stream",
     "text": [
      " 0.535360003223"
     ]
    },
    {
     "name": "stdout",
     "output_type": "stream",
     "text": [
      " 0.683167532731"
     ]
    },
    {
     "name": "stdout",
     "output_type": "stream",
     "text": [
      " 0.711589925165"
     ]
    },
    {
     "name": "stdout",
     "output_type": "stream",
     "text": [
      " 0.65253852493"
     ]
    },
    {
     "name": "stdout",
     "output_type": "stream",
     "text": [
      " 0.674051378848"
     ]
    },
    {
     "name": "stdout",
     "output_type": "stream",
     "text": [
      " 0.725465138108"
     ]
    },
    {
     "name": "stdout",
     "output_type": "stream",
     "text": [
      " \n\t\t[0.10493827160493828, 0.12157105006019604, 0.12170828957435822, 0.12293948511795381, 0.12557167237463226, 0.12980578275006507, 0.1500318400001861, 0.1605532334047853, 0.1637874222400983, 0.18081574371697803]\n"
     ]
    },
    {
     "name": "stdout",
     "output_type": "stream",
     "text": [
      "0.670455745242"
     ]
    },
    {
     "name": "stdout",
     "output_type": "stream",
     "text": [
      " 0.657212529227"
     ]
    },
    {
     "name": "stdout",
     "output_type": "stream",
     "text": [
      " 0.643364403991"
     ]
    },
    {
     "name": "stdout",
     "output_type": "stream",
     "text": [
      " 0.699514857797"
     ]
    },
    {
     "name": "stdout",
     "output_type": "stream",
     "text": [
      " 0.567426552329"
     ]
    },
    {
     "name": "stdout",
     "output_type": "stream",
     "text": [
      " 0.639200937358"
     ]
    },
    {
     "name": "stdout",
     "output_type": "stream",
     "text": [
      " 0.826779065085"
     ]
    },
    {
     "name": "stdout",
     "output_type": "stream",
     "text": [
      " 0.66451979173"
     ]
    },
    {
     "name": "stdout",
     "output_type": "stream",
     "text": [
      " 0.725354340217"
     ]
    },
    {
     "name": "stdout",
     "output_type": "stream",
     "text": [
      " 0.658151527135"
     ]
    },
    {
     "name": "stdout",
     "output_type": "stream",
     "text": [
      " \n\t\t[0.06790123456790123, 0.05163602291584065, 0.07480558018672111, 0.07507585697930823, 0.0758957686962915, 0.07772967185175847, 0.10097012633178276, 0.11321762174572804, 0.13279374683223535, 0.13717962875618517]\n"
     ]
    },
    {
     "name": "stdout",
     "output_type": "stream",
     "text": [
      "0.747970252446"
     ]
    },
    {
     "name": "stdout",
     "output_type": "stream",
     "text": [
      " 0.672444404745"
     ]
    },
    {
     "name": "stdout",
     "output_type": "stream",
     "text": [
      " 0.729201064027"
     ]
    },
    {
     "name": "stdout",
     "output_type": "stream",
     "text": [
      " 0.743839792297"
     ]
    },
    {
     "name": "stdout",
     "output_type": "stream",
     "text": [
      " 0.662661966651"
     ]
    },
    {
     "name": "stdout",
     "output_type": "stream",
     "text": [
      " 0.627470468438"
     ]
    },
    {
     "name": "stdout",
     "output_type": "stream",
     "text": [
      " 0.609536749495"
     ]
    },
    {
     "name": "stdout",
     "output_type": "stream",
     "text": [
      " 0.583820751224"
     ]
    },
    {
     "name": "stdout",
     "output_type": "stream",
     "text": [
      " 0.74312510772"
     ]
    },
    {
     "name": "stdout",
     "output_type": "stream",
     "text": [
      " 0.690511632932"
     ]
    },
    {
     "name": "stdout",
     "output_type": "stream",
     "text": [
      " \n\t\t[0.06790123456790123, 0.06808501796949983, 0.07821905507308152, 0.08216902582300493, 0.08131394234015413, 0.07978343017202429, 0.11293022719699651, 0.13344094689350938, 0.13839706011519476, 0.1448371276059341]\n"
     ]
    },
    {
     "name": "stdout",
     "output_type": "stream",
     "text": [
      "0.699326781226"
     ]
    },
    {
     "name": "stdout",
     "output_type": "stream",
     "text": [
      " 0.678478196333"
     ]
    },
    {
     "name": "stdout",
     "output_type": "stream",
     "text": [
      " 0.775618465352"
     ]
    },
    {
     "name": "stdout",
     "output_type": "stream",
     "text": [
      " 0.660363919893"
     ]
    },
    {
     "name": "stdout",
     "output_type": "stream",
     "text": [
      " 0.63058621205"
     ]
    },
    {
     "name": "stdout",
     "output_type": "stream",
     "text": [
      " 0.536508097683"
     ]
    },
    {
     "name": "stdout",
     "output_type": "stream",
     "text": [
      " 0.675897658788"
     ]
    },
    {
     "name": "stdout",
     "output_type": "stream",
     "text": [
      " 0.702527171737"
     ]
    },
    {
     "name": "stdout",
     "output_type": "stream",
     "text": [
      " 0.683640103677"
     ]
    },
    {
     "name": "stdout",
     "output_type": "stream",
     "text": [
      " 0.671396091819"
     ]
    },
    {
     "name": "stdout",
     "output_type": "stream",
     "text": [
      " \n\t\t[0.06790123456790123, 0.08241289971892728, 0.08049470499732177, 0.08082899827098372, 0.08641881383091388, 0.09428268282987216, 0.10648485142744907, 0.11173386275241694, 0.12470497882734159, 0.135523349138952]\n"
     ]
    },
    {
     "name": "stdout",
     "output_type": "stream",
     "text": [
      "0.654092605052"
     ]
    },
    {
     "name": "stdout",
     "output_type": "stream",
     "text": [
      " 0.720438869493"
     ]
    },
    {
     "name": "stdout",
     "output_type": "stream",
     "text": [
      " 0.638006320932"
     ]
    },
    {
     "name": "stdout",
     "output_type": "stream",
     "text": [
      " 0.701778667853"
     ]
    },
    {
     "name": "stdout",
     "output_type": "stream",
     "text": [
      " 0.615196304821"
     ]
    },
    {
     "name": "stdout",
     "output_type": "stream",
     "text": [
      " 0.686088049295"
     ]
    },
    {
     "name": "stdout",
     "output_type": "stream",
     "text": [
      " 0.704609302159"
     ]
    },
    {
     "name": "stdout",
     "output_type": "stream",
     "text": [
      " 0.566417693662"
     ]
    },
    {
     "name": "stdout",
     "output_type": "stream",
     "text": [
      " 0.614760721264"
     ]
    },
    {
     "name": "stdout",
     "output_type": "stream",
     "text": [
      " 0.668001880906"
     ]
    },
    {
     "name": "stdout",
     "output_type": "stream",
     "text": [
      " \n\t\t[0.037037037037037035, 0.07501491452285676, 0.07436010528394144, 0.07494858401301276, 0.07720704150939757, 0.0817095437561074, 0.10251469293235392, 0.10479055837349747, 0.12574962331761952, 0.13115906026760105]\n"
     ]
    },
    {
     "name": "stdout",
     "output_type": "stream",
     "text": [
      "0.759079571691"
     ]
    },
    {
     "name": "stdout",
     "output_type": "stream",
     "text": [
      " 0.556328416255"
     ]
    },
    {
     "name": "stdout",
     "output_type": "stream",
     "text": [
      " 0.689362296742"
     ]
    },
    {
     "name": "stdout",
     "output_type": "stream",
     "text": [
      " 0.656509153195"
     ]
    },
    {
     "name": "stdout",
     "output_type": "stream",
     "text": [
      " 0.648406833415"
     ]
    },
    {
     "name": "stdout",
     "output_type": "stream",
     "text": [
      " 0.729203501022"
     ]
    },
    {
     "name": "stdout",
     "output_type": "stream",
     "text": [
      " 0.68647934296"
     ]
    },
    {
     "name": "stdout",
     "output_type": "stream",
     "text": [
      " 0.774091916265"
     ]
    },
    {
     "name": "stdout",
     "output_type": "stream",
     "text": [
      " 0.673787123374"
     ]
    },
    {
     "name": "stdout",
     "output_type": "stream",
     "text": [
      " 0.68928330848"
     ]
    },
    {
     "name": "stdout",
     "output_type": "stream",
     "text": [
      " \n\t\t[0.05555555555555555, 0.07375961274874744, 0.08411025424318318, 0.08867309215603365, 0.092428930411728, 0.09963774096294203, 0.12302357643158013, 0.13385518400842425, 0.14762512663531654, 0.15145232019201824]\n"
     ]
    },
    {
     "name": "stdout",
     "output_type": "stream",
     "text": [
      "0.649488553887"
     ]
    },
    {
     "name": "stdout",
     "output_type": "stream",
     "text": [
      " 0.652644912975"
     ]
    },
    {
     "name": "stdout",
     "output_type": "stream",
     "text": [
      " 0.691596107615"
     ]
    },
    {
     "name": "stdout",
     "output_type": "stream",
     "text": [
      " 0.713575918667"
     ]
    },
    {
     "name": "stdout",
     "output_type": "stream",
     "text": [
      " 0.67556068945"
     ]
    },
    {
     "name": "stdout",
     "output_type": "stream",
     "text": [
      " 0.70284942074"
     ]
    },
    {
     "name": "stdout",
     "output_type": "stream",
     "text": [
      " 0.613800393533"
     ]
    },
    {
     "name": "stdout",
     "output_type": "stream",
     "text": [
      " 0.758312761892"
     ]
    },
    {
     "name": "stdout",
     "output_type": "stream",
     "text": [
      " 0.719932784978"
     ]
    },
    {
     "name": "stdout",
     "output_type": "stream",
     "text": [
      " 0.697592560212"
     ]
    },
    {
     "name": "stdout",
     "output_type": "stream",
     "text": [
      " \n\t\t[0.06790123456790123, 0.07148396282450718, 0.08454475388505406, 0.08905330700704639, 0.09262442054129032, 0.09435139261588442, 0.10847190296214212, 0.1085218955702735, 0.11966012121859977, 0.13415095244703612]\n"
     ]
    },
    {
     "name": "stdout",
     "output_type": "stream",
     "text": [
      "0.631787266137"
     ]
    },
    {
     "name": "stdout",
     "output_type": "stream",
     "text": [
      " 0.771862564187"
     ]
    },
    {
     "name": "stdout",
     "output_type": "stream",
     "text": [
      " 0.60841563898"
     ]
    },
    {
     "name": "stdout",
     "output_type": "stream",
     "text": [
      " 0.725048078437"
     ]
    },
    {
     "name": "stdout",
     "output_type": "stream",
     "text": [
      " 0.614907731779"
     ]
    },
    {
     "name": "stdout",
     "output_type": "stream",
     "text": [
      " 0.765444453766"
     ]
    },
    {
     "name": "stdout",
     "output_type": "stream",
     "text": [
      " 0.570720600585"
     ]
    },
    {
     "name": "stdout",
     "output_type": "stream",
     "text": [
      " 0.540155992209"
     ]
    },
    {
     "name": "stdout",
     "output_type": "stream",
     "text": [
      " 0.73169228684"
     ]
    },
    {
     "name": "stdout",
     "output_type": "stream",
     "text": [
      " 0.815960486779"
     ]
    },
    {
     "name": "stdout",
     "output_type": "stream",
     "text": [
      " \n\t\t[0.06790123456790123, 0.0626020196182801, 0.09561698365321228, 0.09903389241754519, 0.09795773717281092, 0.09968322065005877, 0.11256899219511483, 0.12415354018056417, 0.13569176546362016, 0.14587757517034955]\n"
     ]
    },
    {
     "name": "stdout",
     "output_type": "stream",
     "text": [
      "0.767164870156"
     ]
    },
    {
     "name": "stdout",
     "output_type": "stream",
     "text": [
      " 0.695233007504"
     ]
    },
    {
     "name": "stdout",
     "output_type": "stream",
     "text": [
      " 0.641114940738"
     ]
    },
    {
     "name": "stdout",
     "output_type": "stream",
     "text": [
      " 0.634926557856"
     ]
    },
    {
     "name": "stdout",
     "output_type": "stream",
     "text": [
      " 0.647429994028"
     ]
    }
   ],
   "source": [
    "Nfeature=200\n",
    "Nhidden = 10\n",
    "Lenepisode = 10\n",
    "lr=0.1\n",
    "\n",
    "model = DDRank_1(Lenepisode, Nfeature, Nhidden, lr)\n",
    "\n",
    "\n",
    "model.main(10000, QueryDocs, Doc2Vec, Truth)"
   ]
  },
  {
   "cell_type": "code",
   "execution_count": null,
   "metadata": {},
   "outputs": [],
   "source": [
    ""
   ]
  }
 ],
 "metadata": {
  "kernelspec": {
   "display_name": "Python 2",
   "language": "python",
   "name": "python2"
  },
  "language_info": {
   "codemirror_mode": {
    "name": "ipython",
    "version": 2.0
   },
   "file_extension": ".py",
   "mimetype": "text/x-python",
   "name": "python",
   "nbconvert_exporter": "python",
   "pygments_lexer": "ipython2",
   "version": "2.7.6"
  }
 },
 "nbformat": 4,
 "nbformat_minor": 0
}