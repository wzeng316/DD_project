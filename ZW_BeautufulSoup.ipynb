{
 "cells": [
  {
   "cell_type": "code",
   "execution_count": 1,
   "metadata": {
    "collapsed": true
   },
   "outputs": [],
   "source": [
    "from bs4 import BeautifulSoup"
   ]
  },
  {
   "cell_type": "code",
   "execution_count": 3,
   "metadata": {},
   "outputs": [],
   "source": [
    "soup=BeautifulSoup(open('../data/dynamic-domain-2016-truth-data.xml'),'lxml')"
   ]
  },
  {
   "cell_type": "code",
   "execution_count": 4,
   "metadata": {},
   "outputs": [
    {
     "data": {
      "text/plain": [
       "bs4.BeautifulSoup"
      ]
     },
     "execution_count": 3,
     "metadata": {},
     "output_type": "execute_result"
    }
   ],
   "source": [
    "type(soup)"
   ]
  },
  {
   "cell_type": "code",
   "execution_count": 4,
   "metadata": {
    "collapsed": true
   },
   "outputs": [],
   "source": [
    "results = soup.find_all('topic')"
   ]
  },
  {
   "cell_type": "code",
   "execution_count": 16,
   "metadata": {
    "collapsed": true
   },
   "outputs": [
    {
     "name": "stdout",
     "output_type": "stream",
     "text": [
      "1 \tDD16-1 \tUS Military Crisis Response \t\nWho are key leaders (field grade officers and senior NCO’s) in charge of U.S. military units combating the ebola epidemic in Africa, what are the protocols for personnel safety, and what is their mission? \nUnits from all four services were deployed to West Africa, some 3000 personnel in all, in support of U.S. and international aid workers. The military was not directly involved in treating ebola patients. Their mission was to provide support services such as facilities construction, logistics, telecommunications, road building, etc. so that the medical aid workers could function more effectively. Additionally, the research addressed safety protocols for the U.S. forces, including mandatory quarantines upon return to their home bases. Non relevant information encompasses non-U.S. military units and civilian aid workers and U.S. military units that did not deploy to Africa.\n2 \tDD16-2 \tEbola Conspiracy Theories \t\nIdentify the conspiracies circulating about Ebola.\nAny information on conspiracy theories about Ebola is relevant. Degree of relevance was determined by the specificity of the information. A major grey area is the difference among a conspiracy (an even caused by powerful people or groups to benefit themselves), a myth (an idea or story believed by many people but is not true), a hoax (a trick, deception, or prank), and disinformation (intentionally false or inaccurate information spread deliberately). Information clearly related to a hoax is not relevant. There probably is more data available on this topic.\n3 \tDD16-3 \thealthcare impacts of ebola \t\nWhat were the healthcare impacts of the Ebola virus?\nThe Ebola virus breakout in Africa had significant impacts on healthcare providers. What were these impacts? How much did this cost both in Africa and the rest of the world? Which healthcare companies did it affect the most?. How was healthcare insurance affected? Who paid these costs\n4 \tDD16-4 \tDaniel Berehulak \t\nFind info on photo/journalist Daniel Berehulak.\nHis professional and personal background is relevant. His assignment and activities are relevant. His contacts are relevant. This would include his editors and people he has collaborated with on stories. Individuals named in the captions of pictures he has published are also considered his contacts, since he will have had enough contact with them to learn their names and, presumably, get their permission to identify them for publication.\n5 \tDD16-5 \tEwedu as an Ebola Treatment \t\nFind information that describes ewedu as a treatment for Ebola.\nAny information on ewedu, an herb, as a treatment for Ebola is relevant. Recipes (other than how to prepare ewedu medicinally) and other uses for ewedu are not relevant. Search terms included alternate names for ewedu: kren-kren, corchorus, mallow leaves long-fruited vegetable\n6 \tDD16-6 \tAlleged Alternative Treatments for Ebola \t\nWhat alternative treatments exist to cure or alleviate Ebola?\nInformation on the following alleged treatments for Ebola is relevant (alternate search terms are in parentheses): essential oils, melatonin, cannabis (marijuana, pot, weed), red algae (rhodophyta), bitter kola (bitter cola), spider venom, fermented soy, condensed milk, raw onions, vitamin C (ascorbic acid, ascorbate), and saltwater (salt, saline solution). Specificity of the information, whether the treatment is a potential cure or a \"\"known\"\" cure, and whether the treatment is supportive versus a cure determined the judgments' degree of relevancy.\n7 \tDD16-7 \tUrbanisation/Urbanization  \t\nHow has the movement of people from outlying rural villages to urban centers affected the spread of Ebola?\nSince Ebola was first discovered in 1976, the population of the affected areas in Africa has almost tripled and the percentage of people living in cities has risen dramatically. The disease hasn't changed over time, but the demographics have. Up until this latest outbreak, the disease hit mainly in rural villages, where it was more easily stopped, but now it spreads much more rapidly making it harder to contain and treat. Beyond urbanization is migration, while the virus is oblivious to borders and boundaries.\n8 \tDD16-8 \tDr. Olivet Buck \t\nThis research centered on Dr. Olivet Buck, a Sierra Leone doctor who died of ebola after contracting the disease from her patients.\nDr. Buck was the fourth Sierra Leone doctor to become infected, and when she fell ill, there was official concern, both for her personally and for the potential depletion of the country’s medical personnel. The President of Sierra Leone formally asked the World Health Organization (WHO) to evacuate Dr. Buck to Germany for treatment. WHO refused, saying they did not have the resources to evacuate anyone but their own staff, and Dr. Buck died. Relevant information included the official involvement of the Government of Sierra Leone, WHO’s response, Dr. Buck’s biography, and identification of other medical fatalities in Sierra Leone. Non-relevant information included biographic details of Dr. Buck’s colleagues beyond their names, medical fatalities in other West Africa countries, and treatment of foreign aid workers. \n9 \tDD16-9 \tThomas Eric Duncan \t\nThe research centered on Liberian national Thomas Eric Duncan, the first person to die of ebola in the U.S. \nDuncan flew to the U.S. to visit relatives in Dallas, fell ill, was initially misdiagnosed at a hospital emergency room and sent home. His condition worsened, he returned to the hospital and was correctly diagnosed, but died. Two nurses who treated him subsequently contracted ebola; both recovered. Duncan’s family threatened to sue the hospital but reached a financial settlement out of court. Relevant information encompassed the postmortem repercussions, potential spread of the disease via primary and secondary contacts, Duncan's biographical information, and status of the two infected nurses. Non-relevant information included persons and activities not connected to the Duncan case, including other infected U.S. medical personnel and other fatalities in the U.S. and West Africa.\n10 \tDD16-10 \tEconomic impact of ebola \t\nWhat was the economic impact of the Ebola virus outbreak?\nThe Ebola virus breakout in Africa had a wide spread economic impact, not only in Africa but in various other parts of the world. What were these impact? How extensive were the impacts? What other countries were affected? How did it impact governments in Africa and in other parts of the world? What companies did it affect? And which countries were most affected? \n11 \tDD16-11 \tU.S. healthcare workers \t\nThe research objective was identification of U.S. aid workers infected with ebola as a result of providing medical assistance in West Africa. \nThis encompassed identities and circumstances of medical evacuees, aid workers who returned home before showing symptoms, and protocols for treating them. Relevant information includes identities of U.S. medical aid workers infected in West Africa and the evolving evacuation and treatment protocols of the U.S. healthcare system. U.S. healthcare professionals who contracted ebola in the U.S. and non-U.S. persons are not relevant. \n12 \tDD16-12 \tis there a natural immunity to ebola \t\nIs there a natural immunity to Ebola?\nIs there a natural occurring immunity to the Ebola virus? The searches looked to find if some people are born with an immunity. Is immunity acquired after having the Ebola virus? Do some people have a natural immunity, if so why, who are they, where are they from. Also, can the body’s immune system be used to cure or prevent Ebola? \n13 \tDD16-13 \tDr. Steven Hatch \t\nFind info on Dr. Steven Hatch, an American medical doctor working in Africa.\nHis professional and personal background is relevant. His assignment in Africa and activities there are relevant. His training and preparation for coming to Africa and working with ebola patients is relevant. His motivation for working with ebola patients and his thoughts and attitude regarding the work are all relevant. \n14 \tDD16-14 \tT.B. Joshua \t\nWhat influence has the popularity of T.B. Joshua and his SCOAN ministry had on the spread of EVD in Nigeria?\nInformation regarding T.B. Joshua's claims of healing powers and any events drawing international followers to his Synagogue Church of All Nations in Lagos, Nigeria is relevant. Relevant information includes government efforts to prevent foreign visitors to SCOAN during the Ebola crisis, including Joshua's compliance or lack of compliance, and any real or rumored EVD victims attending at SCOAN events. Information pertaining only to the prevention and/or spread of EVD in regards to Joshua and SCOAN are relevant. The collapse of a SCOAN building or his televangelist network are not relevant.\n15 \tDD16-15 \tMaurice Iwu \t\nWho is Maurice Iwu?\nAny information about Maurice Iwu, a Nigerian doctor who claimed the bitter kola nut could be a potential cure for Ebola, is relevant. Specifically, any information about his research into bitter kola, his efforts to bring the treatment to market, his family, and his professional background is relevant. \n16 \tDD16-16 \tModeling \t\nWhat mathematical and statistical models can be used to track and prevent the Ebola outbreak.\nThere are a number of computer models that allow researchers to experiment and quickly forecast the spread of the Ebola epidemic as compared to conducting tests and collecting data on the ground. Time is of the essence.. Several universities, notably Virginia Tech, working with the government, have been involved in predicting the spread of the disease.. In addition, there is a real-time monitor of infectious diseases on the internet that mines the data and displays it in an interactive map: HealthMap. \n17 \tDD16-17 \tKenema District Government Hospital \t\nHow and when was Sierra Leone's first confirmed Ebola case discovered at the Kenema Government District Hospital?\nInformation regarding Sierra Leone's first confirmed EVD patient at KDGH and the source of this patient's infection is relevant. How the emergence of EVD in Kenema impacted the hospital, its staff, its Lassa Fever Treatment Center and its ability to care for subsequent EVD patients is relevant. Information pertaining only to the Kenema area and KDGH conditions, patients, staff and associates is relevant. Conditions at other Sierra Leone hospitals are not relevant,\n18 \tDD16-18 \tRobots \t\nWhat roles can robots and software play in the diagnosis and treatment of Ebola?\nGiven that health care workers are at the highest risk of contracting Ebola while treating infected patients, what software, electronic, and mechanical devices are currently available and can be developed and used in the field. The goal is to make diagnosis and treatment as \"\"hands off\"\" as possible, to mitigate the risk as much as possible. A number of viable robots already exist, and are used for various purposes, including disinfecting, decontaminating, handling waste, consulting between patients and doctors around the world. Government, private industry, and robotics scientists across the country are working together to adapt and implement these technologies to work in the field of medicine and the challenging conditions in West Africa.\n19 \tDD16-19 \tAttacks on ebola aid \t\nFind mentions of attacks on people, vehicles or facilities in Africa that provide education or medical aid regarding ebola. \nA general statement concerning attacks is relevant. The attack must be physical, not just a threat or angry words. Identification or description of who or what was attacked is relevant. Descriptions of the attackers and motives for the attacks are relevant. Attacks on clinics, burial teams, medical personnel, and educational teams are relevant. Robbery and theft of medical supplies or blood samples is relevant. People raiding and looting a health center is relevant, but people storming a center to get treatment is NOT relevant. Attacks on security personnel or police are NOT relevant. Trying to break out of quarantine is NOT relevant. Precautions against or fear of possible attacks are NOT relevant. Remembrance of a person killed is NOT relevant unless the circumstance of the attack is described. Attacks by animal rights activists in connection with the fate of a dog belonging to an ebola victim is NOT relevant. Mere hindering or disruption of work is not an attack, and therefore NOT relevant.\n20 \tDD16-20 \tPauline Cafferkey \t\nWho is Pauline Cafferkey?\nBiographical information about Pauline Cafferkey, the British nurse who contracted Ebola while volunteering in West Africa, is pertinent. Of interest is who she knows, where she lives, where she works, what her profession is, and who her family is. Mention of her tangentially in articles about other Ebola cases is not relevant. A comedian's jokes about her are not relevant. A caption identifying her from \"\"a Cafferkey family photo\"\" is not relevant. Relevancy was judged based on the specificity of the information. In the Contacts sub-topic, relevancy also was based on the likelihood that the individual knew Cafferkey directly. In all sub-topics,documents that did not mention Cafferkey by name were judged as marginally relevant or relevant.\n21 \tDD16-21 \tEbola medical waste \t\nHow was Ebola medical waste handled?\nThe Ebola virus was very contagious, and this fairly large outbreak created a lot of medical waste. How was all this medical waste handled? What were the dangers of this medical waste? What were the costs involved in handling the waste and disposing of it? How was this medical waste contained? And how was all this medical waste disposed of, what methods were used in various parts of the world, the USA, Africa, Europe? \n22 \tDD16-22 \tradio school \t\nFind info on school lessons on radio to continue children's academic education while schools are closed because of the ebola epidemic.\nRelevant information will include mentions of people or organizations that are involved in producing the radio schools, the content and logistics of the broadcasts, challenges encountered, and the number of students reached. The use of TV or computer for school broadcasts is also relevant. Proposals to broadcast lessons are relevant. Physical gatherings of students with a teacher are NOT relevant. The use of radio or other media to educate the public or students about ebola and how to avoid it is NOT relevant. \n23 \tDD16-23 \tCrowdfunding Crowdsourcing \t\nWhat role can crowdsourcing and crowdfunding on the internet play in the Ebola outbreak.\nCrowdsourcing and crowdfunding on the internet offer some notable advantages over more established ways of approaching a problem. Larger groups of people can get involved to share knowledge and ideas, and they often produce a better outcome faster and more cheaply than various institutions otherwise could. Also, \"\"deep pockets\"\" are not required to get things started, There are several examples of such successful endeavors that have been done for Eboia. \n24 \tDD16-24 \tOlu-Ibukun Koye Spread EVD to Port Harcourt \t\nHow did Olu-Ibukun Koye spread EVD to Port Harcourt, Nigeria, and what was the impact on its citizens?\nInformation regarding who Koye is, how he contracted EVD, how and why he traveled to Port Harcourt, and the outcome of his EVD infection is relevant. Details about the medical treatment he received in Port Harcourt, his contacts there, and any resulting EVD infections or deaths are relevant. Primary, secondary and tertiary contact are relevant. \n25 \tDD16-25 \tEmory University's role in Ebola treatment \t\nWhat was Emory University’s role in Ebola treatment\nEmory University (EU) played a key role in the treatment of Ebola in the USA. What was this role, how successful was EU in curing people who had the Ebola virus. Who were the key people, staff doctor’s etc. at EU working on Ebola? Was EU able to find methods to prevent the spread of Ebola? Did EU have any success in a vaccine for Ebola? In general how successful was EU in Ebola treatment? \n26 \tDD16-26 \tEffects of African Culture \t\nHow did traditional culture affect efforts to contain and eliminate the ebola epidemic in West Africa? \nRecommended medical protocols that contradicted local culture were often ignored, undermining outside medical efforts to contain and eliminate the virus. Relevant information included the role of community elders and respected locals in educating villagers, foreign aid worker awareness of anthropological customs and stigma, and cultural sensitivities surrounding treatment of corpses. Non-relevant information included economic costs of ebola and medical treatments per se. \n27 \tDD16-27 \tkaci hickox \t\nWhat happened to Kaci Hickox, a U.S. nurse who treated ebola patients in Liberia? \nUpon returning to the U.S. via Newark, N.J., Hickox became the first person quarantined under New Jersey’s ebola prevention/containment policy. She maintained she was not infected and threatened to sue. After three days in a New Jersey hospital isolation tent, she was allowed to return to her residence in Maine. Maine officials promptly put her under home quarantine, which she publicly resisted. There was both public support for and criticism of her behavior. Relevant information included actions by both New Jersey and Maine officials, Kaci’s response, and public opinion. Non-relevant information included the treatment, condition, or views of any other medical volunteer or actions taken by other states.\n28 \tDD16-28 \tIs the distribution of permafrost changing in the Arctic? \t\nIs the distribution of permafrost changing in the Arctic?\nI couldn't find anything specific to how the \"distribution\" was changing. At best there were references to previous surveys, MANY references to the impact of reduced permafrost (from societal infrastructure damage through climate change through flora and fona impacts)\n29 \tDD16-29 \tice sheet sea level rise \t\nWhich ice sheet is contributing most to sea level rise?\n Is the Ice Sheet growing or shrinking? Is the change of ice sheet melting rate dependent of the location? What is the available data set to analyze ice sheet melt? \n30 \tDD16-30 \tWhere are basal boundary conditions in East Antarctica? \t\nWhere are basal boundary conditions in East Antarctica?\nThis was both a poorly formulated topic and suffered for lack of advanced search features: \"East Antarctica\" was not seen by the search as a unit and therefore many results were presented for east-other0location and N/W/S-antarctica Baring a survey answering the exact topic question, the only what to deduce and answer was to find studies of basal boundaries within east antarctica and from that infer there location of various instances. Finally, in response to these challenges, with minimal results to present I presume, the results provided were a flood of completely unrelated documents that it became impossible to sort through.\n31 \tDD16-31 \tsea level rise change strom surge \t\nHow will changes in sea-level rise affect storm surges?\nWhat causes sea level rise? Which part of the world is the most vulnerable to storm surge caused by sea level rise? What is the change of the sea level rise? What is the relationship between sea level rise and storm surge? Not much data about storm surge. More information about the recent trend of sea level rise. \n32 \tDD16-32 \tpolar oceans freshwater sensitivity \t\nHow sensitive are the polar oceans to changes in freshwater inputs?\nWe are interested in measuring how sensitive are the polar oceans to changes in freshwater inputs? Documents and data related to polar oceans and having to do with freshwater flux and circulation are also important and relevant.\n33 \tDD16-33 \tsea-level rise and coastal erosion \t\nWe are searching for sea-level rise data as it relates to coastal hazards.\nInterested in satellite remote sensing data in particular LIDAR data related to sea level rise. We are also interested in data related to hazards having to do with sea level rise (coastal hazards data). Model data is fine, but in particular we are interested in remote sensing data.\n34 \tDD16-34 \tmelting ice sheet ocean circulation \t\nHow are melting ice sheets impacting ocean circulation?\nWhat drives ocean global ocean circulation? Does ice sheet melting affect sea salinity? \n35 \tDD16-35 \tsnow accumulation rate Greenland \t\nIs the rate of snow accumulation changing in Greenland?\nHow measure the rate of snow accumulation in Greenland? What kind of dataset is useful to analyze the rate of snow accumulation in Greenland? Is the rate of snow accumulation changing? What modulates the rate of snow accumulation in Greenland?\n36 \tDD16-36 \tIs the rate of snow accumulation changing in Antarctica? \t\nIs the rate of snow accumulation changing in Antarctica?\nThere was greater document duplication than any other topic which seriously hampered efforts - given finite human time duplicates should have been removed prior to this stage of the study. The search resulted in many links from a single blog which, while itself reporting on the practicalities of a highly relevant study, did not actually report any of the results and any publications from such were never provided. Instead a myriad of co-blogs and news reports on the same study appeared which provided no useful information More than in any other topics there were multiple website who's colour theme rendered them illegible In terms of the ML learning what type of document or word selection was most desirable, it was unfortunate that tagging links to highly relevnat studies did not result in those studies being provided for further analysis\n37 \tDD16-37 \twest antarctic ice sheet \t\nWhat is the state of the West Antarctic Ice Sheet?\nWe are interested in information related to the decline of sea ice in the West Antarctic Ice Sheet. We expect documents, HTML pages, and other information related to ice sheet mass balance as well.\n38 \tDD16-38 \tAre significant changes occurring in ocean productivity \t\nre significant changes occurring in ocean productivity?\nI looked for keyword in productivity from the surface of the ocean to the bottom of it. Then i looked at what causes the changes.\n39 \tDD16-39 \tHow will shipping be impacted by changes in Arctic sea ice characteristics? \t\nHow will shipping be impacted by changes in Arctic sea ice characteristics?\nLooked into the shipping, and from that, looked at what came up to see that drilling and shipping are the two big things. Then looked into those two topics.\n40 \tDD16-40 \tPolar terrestrial ecosystems CO2 trace gas \t\nHow will Polar terrestrial ecosystems respond to CO2 and trace gas loading of the atmosphere?\nHow does trace gas impact polar terrestrial ecosystem? What is the most significant trace gas that influences polar terrestrial ecosystem? Does two-way feedback exist between trace gas and ecosystem? Which part of glob exerts the largest amount of trace gas? \n41 \tDD16-41 \tArtic sea ice fishery \t\nHow will commercial fishing be impacted by changes in Arctic sea ice characteristics?\nHow does Artic sea ice extent change? And will this change have an impact on commercial fisheries? If so, what is the relationship between Artic sea ice and fisheries? Unfortunately, I couldn't get right answer for my question... There were results about recent change of Artic sea ice (including Greenland) extent but no result on the fisheries.. \n42 \tDD16-42 \tHow will offshore mineral extraction be impacted by changes in Arctic sea ice characteristics? \t\nHow will offshore mineral extraction be impacted by changes in Arctic sea ice characteristics?\nLooked at the collection of the different minerals and the different discoveries. Then went into each of those.\n43 \tDD16-43 \tIs ice sheet elevation changing \t\nIs the elevation of the ice sheet changing?\nLooking for items that had to due with elevation and the change in the ice sheets, along with increases/decreases in the ice sheets.\n44 \tDD16-44 \tAre changes occurring in the distribution and productivity of Arctic vegetation? \t\nAre changes occurring in the distribution and productivity of Arctic vegetation?\nI was searching for studies that quantified change in vegitation in the arctic. Most resource found were on the impact of seen change or how to monitor such changes rather than quantifying this change and its locations and what it looked like \n45 \tDD16-45 \tHow will subsistence fishing and hunting be impacted by changes in Arctic sea ice characteristics? \t\nHow will subsistence fishing and hunting be impacted by changes in Arctic sea ice characteristics?\nLooked for fishing related documents that had to so with the arctic region. From there i went form fishing testing, to the commercial fishing.\n46 \tDD16-46 \tAre changes occurring the coverage of the Arctic Sea ice \t\nAre changes occurring the coverage of the Arctic Sea ice\nSearched for the changes, then split that into the expansion and the causes for the changes in coverage.\n47 \tDD16-47 \tArctic sea ice thickness \t\ndata from NSIDC and ACADIS and NASA AMD related to measurement and understanding of sea ice.\nLooking for datasets, investigators, people, studies and information related to sea ice thickness. The data would be excellent if it was longitudinal, and representative of several parameters used in computing and measuring sea ice. Model data is relevant as is observational data.\n48 \tDD16-48 \tpolar ocean global ocean circulation \t\nHow do the polar oceans affect global ocean circulation?\nWhat is the characteristics of the polar ocean? How the polar ocean influences global ocean circulation? What are the data sets available for investigating the impact of the polar ocean on the global ocean circulation? \n49 \tDD16-49 \tAre changes occurring in the circulation of the Arctic Sea \t\nAre changes occurring in the circulation of the Arctic Sea\nLooked into water circulation in the Arctic sea region and from there picked out the affects and the changes.\n50 \tDD16-50 \tplanning for sea level rise \t\nI'm looking for information to help plan for the impacts of sea level rise.\nKey information include: 1) impacts of sea level rise including infrastructure damage, storm severity, ecosystem change and loss of land; 2) causes of sea level rise including melting glaciers and ice caps; 3) planning for sea level rise including mapping tools, mitigation efforts, visualization tools; and 3) general information about climate change that is driving sea level rise including green house gas emissions, long-term temperature records, and key government reports. Gray areas include regional-studies about how sea-level rise will impact point x,y on a map (i.e. How will sea level rise impact North Carolina's Outer Banks). \n51 \tDD16-51 \tHow will changes in sea-level rise affect coastal freshwater supply \t\nHow will changes in sea-level rise affect coastal freshwater supply\nSearched for causes,and then the land and ocean affects that came with these changes\n52 \tDD16-52 \talbedo feedback future climate change Poles \t\nHow will the albedo feedback amplify future climate change at the Poles?\nWhat is the mechanism related to albedo feedback behind amplifying climate change at the poles? What kind of dataset will be useful to analyze current & future albedo? \n53 \tDD16-53 \tclimate change polar bears \t\nHow is climate change impacting polar bear populations?\nKey information related to climate impact on polar bears is driven by changes in sea ice. Sea ice is declining, which impacts polar bear habitat and food sources, seals in particular. Sea ice declines are seen as the primary threat to polar bear populations. Gray areas were pages with general information about polar bears, unrelated to how they will be impacted by climate change. \n"
     ]
    }
   ],
   "source": [
    "import json\n",
    "info=[]\n",
    "\n",
    "ite=0\n",
    "for result in results:\n",
    "    ite +=1\n",
    "    \n",
    "    print ite, '\\t',result['id'],'\\t', result['name'], '\\t'\n",
    "    \n",
    "    description = result.find('description').string\n",
    "    print description\n",
    "    \n",
    "    narrative = result.find('narrative').string\n",
    "    print narrative\n",
    "    \n",
    "    info.append({'ite':ite, 'id':result['id'], 'name':result['name'], 'description':description, 'narrative':narrative})\n",
    "    \n",
    "json.dump(info, open('topic_info.json', 'w'))"
   ]
  },
  {
   "cell_type": "code",
   "execution_count": 18,
   "metadata": {
    "collapsed": false
   },
   "outputs": [
    {
     "data": {
      "text/plain": [
       "{u'description': u'Is there a natural immunity to Ebola?',\n u'id': u'DD16-12',\n u'ite': 12,\n u'name': u'is there a natural immunity to ebola',\n u'narrative': u'Is there a natural occurring immunity to the Ebola virus? The searches looked to find if some people are born with an immunity. Is immunity acquired after having the Ebola virus? Do some people have a natural immunity, if so why, who are they, where are they from. Also, can the body\\u2019s immune system be used to cure or prevent Ebola? '}"
      ]
     },
     "execution_count": 18,
     "metadata": {},
     "output_type": "execute_result"
    }
   ],
   "source": [
    "info = json.load(open('topic_info.json', 'r'))\n",
    "info[11]"
   ]
  },
  {
   "cell_type": "code",
   "execution_count": 18,
   "metadata": {
    "collapsed": false
   },
   "outputs": [
    {
     "name": "stdout",
     "output_type": "stream",
     "text": [
      "1 \tUS Military Crisis Response \t3 \t3645\n2 \tEbola Conspiracy Theories \t3 \t5522\n3 \thealthcare impacts of ebola \t3 \t202\n4 \tDaniel Berehulak \t3 \t257\n5 \tEwedu as an Ebola Treatment \t1 \t4\n6 \tAlleged Alternative Treatments for Ebola \t11 \t12578\n7 \tUrbanisation/Urbanization  \t2 \t1853\n"
     ]
    },
    {
     "name": "stdout",
     "output_type": "stream",
     "text": [
      "8 \tDr. Olivet Buck \t4 \t1433\n9 \tThomas Eric Duncan \t4 \t5587\n10 \tEconomic impact of ebola \t4 \t572\n11 \tU.S. healthcare workers \t3 \t4739\n12 \tis there a natural immunity to ebola \t3 \t350\n13 \tDr. Steven Hatch \t3 \t89\n14 \tT.B. Joshua \t7 \t149\n15 \tMaurice Iwu \t5 \t301\n16 \tModeling \t6 \t2884\n17 \tKenema District Government Hospital \t11 \t42645\n18 \tRobots \t3 \t1381\n19 \tAttacks on ebola aid \t4 \t2430\n20 \tPauline Cafferkey \t3 \t2729\n21 \tEbola medical waste \t4 \t119\n22 \tradio school \t4 \t266\n23 \tCrowdfunding Crowdsourcing \t4 \t4070\n24 \tOlu-Ibukun Koye Spread EVD to Port Harcourt \t11 \t2230\n25 \tEmory University's role in Ebola treatment \t4 \t393\n26 \tEffects of African Culture \t3 \t3459\n27 \tkaci hickox \t4 \t3243\n28 \tIs the distribution of permafrost changing in the Arctic? \t6 \t78\n29 \tice sheet sea level rise \t8 \t77\n30 \tWhere are basal boundary conditions in East Antarctica? \t1 \t14\n31 \tsea level rise change strom surge \t7 \t40\n32 \tpolar oceans freshwater sensitivity \t5 \t59\n33 \tsea-level rise and coastal erosion \t4 \t6910\n34 \tmelting ice sheet ocean circulation \t2 \t4\n35 \tsnow accumulation rate Greenland \t5 \t15\n36 \tIs the rate of snow accumulation changing in Antarctica? \t2 \t89\n37 \twest antarctic ice sheet \t2 \t44\n38 \tAre significant changes occurring in ocean productivity \t3 \t10\n39 \tHow will shipping be impacted by changes in Arctic sea ice characteristics? \t4 \t36\n40 \tPolar terrestrial ecosystems CO2 trace gas \t7 \t287\n41 \tArtic sea ice fishery \t10 \t125\n42 \tHow will offshore mineral extraction be impacted by changes in Arctic sea ice characteristics? \t4 \t20\n43 \tIs ice sheet elevation changing \t1 \t16\n44 \tAre changes occurring in the distribution and productivity of Arctic vegetation? \t5 \t35\n45 \tHow will subsistence fishing and hunting be impacted by changes in Arctic sea ice characteristics? \t3 \t13\n46 \tAre changes occurring the coverage of the Arctic Sea ice \t3 \t18\n47 \tArctic sea ice thickness \t7 \t6726\n48 \tpolar ocean global ocean circulation \t7 \t18\n49 \tAre changes occurring in the circulation of the Arctic Sea \t2 \t7\n50 \tplanning for sea level rise \t4 \t116\n51 \tHow will changes in sea-level rise affect coastal freshwater supply \t3 \t45\n52 \talbedo feedback future climate change Poles \t12 \t91\n53 \tclimate change polar bears \t5 \t21\n"
     ]
    }
   ],
   "source": [
    "ite=0\n",
    "a=[]\n",
    "for result in results:\n",
    "    ite +=1\n",
    "    \n",
    "    print ite, '\\t', result['name'], '\\t', result['num_of_subtopics'], '\\t', \n",
    "    \n",
    "    ndoc = 0\n",
    "    for subtopic in result.find_all('subtopic'):\n",
    "        ndoc += int(subtopic['num_of_passages'])\n",
    "    print ndoc"
   ]
  },
  {
   "cell_type": "code",
   "execution_count": 4,
   "metadata": {},
   "outputs": [],
   "source": [
    "docs = soup.find_all('passage')"
   ]
  },
  {
   "cell_type": "code",
   "execution_count": 6,
   "metadata": {},
   "outputs": [],
   "source": [
    "doc_list=[]\n",
    "for doc in docs:\n",
    "    doc_list.append(doc['id'])"
   ]
  },
  {
   "cell_type": "code",
   "execution_count": 11,
   "metadata": {},
   "outputs": [
    {
     "name": "stdout",
     "output_type": "stream",
     "text": [
      "27566\n27566\n"
     ]
    }
   ],
   "source": [
    "print len(doc_list)\n",
    "print len(set(doc_list))"
   ]
  },
  {
   "cell_type": "code",
   "execution_count": 9,
   "metadata": {},
   "outputs": [],
   "source": [
    "subtopics=results[0].find_all('subtopic')"
   ]
  },
  {
   "cell_type": "code",
   "execution_count": 11,
   "metadata": {},
   "outputs": [
    {
     "data": {
      "text/plain": [
       "'1862'"
      ]
     },
     "execution_count": 11,
     "metadata": {},
     "output_type": "execute_result"
    }
   ],
   "source": [
    "subtopics[0]['num_of_passages']"
   ]
  },
  {
   "cell_type": "code",
   "execution_count": 13,
   "metadata": {},
   "outputs": [
    {
     "name": "stdout",
     "output_type": "stream",
     "text": [
      "US Marines complete two months of support to Ebola Response in West Africa\nBy 1st Lt. Gerard Farao, Marine Forces Europe and Africa\nSPMAGTF-CR-AF Osprey Night Training\nU.S. Marine Corps MV-22B Ospreys with SPMAGTF - Crisis Response - Africa prepare to fly at night as part of required training standards in order for pilots to continue to be qualified to carry passengers at night. while in support of Operation United Assistance in Monrovia, Liberia, Nov. 16, 2014. United Assistance is a Department of Defense operation to provide command and control, logistics, training and engineering support to U.S. Agency for International Development- led efforts to contain the Ebola virus outbreak in West African nations. (U.S. Marine Corps photo by Lance Cpl. Andre Dakis/SP-MAGTF Crisis Response Africa Combat Camera/Released)\nDownload Hi-Res Photo Share Photo Details\nU.S. Marines transport supplies to build Ebola Treatment Units\nU.S. Navy Lt. Jeffery Fornadley, a flight surgeon with SPMAGTF Crisis Response – Africa, helps members of Samaritan's Purse, an international relief group, offload, from an MV-22B Osprey, bags of concrete that will be used to by health organizations to build Ebola Treatment Units, while in support of Operation United Assistance in Fish Town, Liberia, Nov. 21, 2014. United Assistance is a Department of Defense operation to provide command and control, logistics, training, and engineering support to U.S. Agency for International Development- led efforts to contain the Ebola virus outbreak in West African nations. (U.S. Marine Corps photo by Lance Cpl. Andre Dakis/SPMAGTF-CR-AF Combat Camera/Released)\nDownload Hi-Res Photo Share Photo Details\nU.S. Marines transport supplies to build Ebola Treatment Units\nMembers of Samaritan's Purse, an international relief group, finish offloading bags of concrete from an MV-22B Osprey, assigned to SPMAGTF Crisis Response – Africa, that will be used to build Ebola Treatment Units while in support of Operation United Assistance in Monrovia, Liberia, Nov. 21, 2014. United Assistance is a Department of Defense operation to provide command and control, logistics, training, and engineering support to U.S. Agency for International Development- led efforts to contain the Ebola virus outbreak in West African nations. (U.S. Marine Corps photo by Lance Cpl. Andre Dakis/SPMAGTF-CR-AF Combat Camera/Released)\nDownload Hi-Res Photo Share Photo Details\nU.S. Marines transport supplies to build Ebola Treatment Units\nA U.S. Marine Corps MV-22B Osprey with SPMAGTF Crisis Response - Africa returns to base after dropping off supplies that will be used by local and international health organizations to build Ebola Treatment Units while in support of Operation United Assistance in Liberia, Nov. 21, 2014. United Assistance is a Department of Defense operation to provide command and control, logistics, training, and engineering support to U.S. Agency for International Development- led efforts to contain the Ebola virus outbreak in West African nations. (U.S. Marine Corps photo by Lance Cpl. Andre Dakis/SPMAGTF-CR-AF Combat Camera/Released)\nDownload Hi-Res Photo Share Photo Details\nU.S. Marines transport supplies to build Ebola Treatment Units\nU.S. Marines and Sailors with SPMAGTF Crisis Response - Africa prepare to load bags of concrete onto an MV-22B Osprey to help local and international health organizations build Ebola Treatment Units while in support of Operation United Assistance in Monrovia, Liberia, Nov. 21, 2014. United Assistance is a Department of Defense operation to provide command and control, logistics, training, and engineering support to U.S. Agency for International Development- led efforts to contain the Ebola virus outbreak in West African nations. (U.S. Marine Corps photo by Lance Cpl. Andre Dakis/SPMAGTF-CR-AF Combat Camera/Released)\nDownload Hi-Res Photo Share Photo Details\nU.S. Marines transport supplies to build Ebola Treatment Units\nU.S. Marines with SPMAGTF Crisis Response - Africa load bags of concrete, that will be used by local and international health organizations to build Ebola Treatment Units, into an MV-22B Osprey during Operation United Assistance in Monrovia, Liberia, Nov. 21, 2014. United Assistance is a Department of Defense operation to provide command and control, logistics, training, and engineering support to U.S. Agency for International Development- led efforts to contain the Ebola virus outbreak in West African nations. (U.S. Marine Corps photo by Lance Cpl. Andre Dakis/ SPMAGTF-CR-AF Combat Camera/Released)\nDownload Hi-Res Photo Share Photo Details\nMORÓN AIR BASE, Spain -- Since Oct. 8, 2014 a detachment of 100 U.S. Marines and sailors from Special Purpose Marine Air-Ground Task Force Crisis Response-Africa (SPMAGTF-CR-AF) provided support to Operation United Assistance (OUA), the U.S. response to the Ebola crisis in Liberia.\nThe rapid self-deployment of SPMAGTF-CR-AF Marines and sailors by four MV-22 Ospreys and two KC-130J Super Hercules provided a timely, mission-critical airlift capability to the Joint Force supporting OUA. The Marines enabled the Joint Force to reach remote locations that were virtually impossible to access by ground transportation during the rainy season due to washed out roads. Additionally, SPMAGTF-CR-AF also sent a Forward Resuscitative Surgical System detachment, which provided an enhanced surgical capability to support U.S. service-members contributing to OUA.\nOver the past two months, the Marines conducted over 170 missions, flew over 240 hours, and transported over 1200 passengers and over 78,000 pounds of cargo. They also supported the movement of key personnel, such as the President of Liberia, Ellen Johnson Sirleaf, U.S. Ambassador to Liberia, Deborah Malac, U.S. Ambassador to the United Nations, Samantha Powers, and various U.S. Government and relief agency workers, to visit treatment locations throughout Liberia.\n“This mission demonstrates the inherent versatility, scalability, and unique responsiveness of Special Purpose MAGTF Crisis Response - Africa,” said U.S. Marine Corps Col. Robert C. Fulford, SPMAGTF-CR-AF commanding officer. “In a little under 40 hours of travel time, we were able to get our Marines and sailors, and aircraft on the ground in Liberia, ready to actively assist with the Ebola relief efforts. While supporting the OUA mission in Liberia, we simultaneously maintained an additional alert force based out of Moron, Spain, prepared to respond to crisis in Africa; we continued to provide a security force in U.S. Embassy, Bangui, Central African Republic; and we conducted military-to-military training throughout Europe and Africa strengthening our interoperability and relationships with partner nations.”\nSPMAGTF-CR-AF supported OUA until Dec. 1, 2014 when they were relieved by U.S. Army aviation assets from the 101st Airborne Division, who assumed the long-term responsibility of support to the OUA mission. Upon completion of their mission, the Marines and sailors shifted focus towards conducting maintenance, washing-down equipment in accordance with Centers for Disease Control and Prevention guidelines, and preparing to move to U.S. Army Garrison Baumholder, Germany, where they will begin their 21-day controlled monitoring period.\n“Looking at the situation from every vantage point we want to make sure that the Marines and sailors are healthy and the equipment is clean,” said U.S. Navy Lt. Michael A. Schermer, SPMAGTF-CR-AF lead medical planner. “We are taking every precaution possible to ensure that we don’t put others at risk when they return to their unit and eventually their families.”\nDuring the 21-day controlled monitoring period, the Marines and sailors will be under the care of trained healthcare professionals, undergoing temperature checks twice daily and being evaluated them for symptoms of Ebola.\nSPMAGTF-CR-AF is postured to respond to a broad range of military operations in the U.S. Africa Command area of responsibility, including: U.S. Embassy reinforcement, humanitarian assistance and disaster relief operations, Tactical Recovery of Aircraft and Personnel (TRAP), training with partner nations, and other missions as directed.\n\n"
     ]
    }
   ],
   "source": [
    "import json\n",
    "import re\n",
    "doc = json.load(open('/home/zengwei/DD/wxf_result/results/DD16-1.json'))[0]\n",
    "\n",
    "comtent=doc['content']\n",
    "\n",
    "print comtent"
   ]
  },
  {
   "cell_type": "code",
   "execution_count": 14,
   "metadata": {},
   "outputs": [
    {
     "name": "stdout",
     "output_type": "stream",
     "text": [
      "US Marines complete two months of support to Ebola Response in West Africa\nBy 1st Lt. Gerard Farao, Marine Forces Europe and Africa\nSPMAGTF-CR-AF Osprey Night Training\nU.S. Marine Corps MV-22B Ospreys with SPMAGTF - Crisis Response - Africa prepare to fly at night as part of required training standards in order for pilots to continue to be qualified to carry passengers at night. while in support of Operation United Assistance in Monrovia, Liberia, Nov. 16, 2014. United Assistance is a Department of Defense operation to provide command and control, logistics, training and engineering support to U.S. Agency for International Development- led efforts to contain the Ebola virus outbreak in West African nations. (U.S. Marine Corps photo by Lance Cpl. Andre Dakis/SP-MAGTF Crisis Response Africa Combat Camera/Released)\nDownload Hi-Res Photo Share Photo Details\nU.S. Marines transport supplies to build Ebola Treatment Units\nU.S. Navy Lt. Jeffery Fornadley, a flight surgeon with SPMAGTF Crisis Response   Africa, helps members of Samaritan's Purse, an international relief group, offload, from an MV-22B Osprey, bags of concrete that will be used to by health organizations to build Ebola Treatment Units, while in support of Operation United Assistance in Fish Town, Liberia, Nov. 21, 2014. United Assistance is a Department of Defense operation to provide command and control, logistics, training, and engineering support to U.S. Agency for International Development- led efforts to contain the Ebola virus outbreak in West African nations. (U.S. Marine Corps photo by Lance Cpl. Andre Dakis/SPMAGTF-CR-AF Combat Camera/Released)\nDownload Hi-Res Photo Share Photo Details\nU.S. Marines transport supplies to build Ebola Treatment Units\nMembers of Samaritan's Purse, an international relief group, finish offloading bags of concrete from an MV-22B Osprey, assigned to SPMAGTF Crisis Response   Africa, that will be used to build Ebola Treatment Units while in support of Operation United Assistance in Monrovia, Liberia, Nov. 21, 2014. United Assistance is a Department of Defense operation to provide command and control, logistics, training, and engineering support to U.S. Agency for International Development- led efforts to contain the Ebola virus outbreak in West African nations. (U.S. Marine Corps photo by Lance Cpl. Andre Dakis/SPMAGTF-CR-AF Combat Camera/Released)\nDownload Hi-Res Photo Share Photo Details\nU.S. Marines transport supplies to build Ebola Treatment Units\nA U.S. Marine Corps MV-22B Osprey with SPMAGTF Crisis Response - Africa returns to base after dropping off supplies that will be used by local and international health organizations to build Ebola Treatment Units while in support of Operation United Assistance in Liberia, Nov. 21, 2014. United Assistance is a Department of Defense operation to provide command and control, logistics, training, and engineering support to U.S. Agency for International Development- led efforts to contain the Ebola virus outbreak in West African nations. (U.S. Marine Corps photo by Lance Cpl. Andre Dakis/SPMAGTF-CR-AF Combat Camera/Released)\nDownload Hi-Res Photo Share Photo Details\nU.S. Marines transport supplies to build Ebola Treatment Units\nU.S. Marines and Sailors with SPMAGTF Crisis Response - Africa prepare to load bags of concrete onto an MV-22B Osprey to help local and international health organizations build Ebola Treatment Units while in support of Operation United Assistance in Monrovia, Liberia, Nov. 21, 2014. United Assistance is a Department of Defense operation to provide command and control, logistics, training, and engineering support to U.S. Agency for International Development- led efforts to contain the Ebola virus outbreak in West African nations. (U.S. Marine Corps photo by Lance Cpl. Andre Dakis/SPMAGTF-CR-AF Combat Camera/Released)\nDownload Hi-Res Photo Share Photo Details\nU.S. Marines transport supplies to build Ebola Treatment Units\nU.S. Marines with SPMAGTF Crisis Response - Africa load bags of concrete, that will be used by local and international health organizations to build Ebola Treatment Units, into an MV-22B Osprey during Operation United Assistance in Monrovia, Liberia, Nov. 21, 2014. United Assistance is a Department of Defense operation to provide command and control, logistics, training, and engineering support to U.S. Agency for International Development- led efforts to contain the Ebola virus outbreak in West African nations. (U.S. Marine Corps photo by Lance Cpl. Andre Dakis/ SPMAGTF-CR-AF Combat Camera/Released)\nDownload Hi-Res Photo Share Photo Details\nMOR N AIR BASE, Spain -- Since Oct. 8, 2014 a detachment of 100 U.S. Marines and sailors from Special Purpose Marine Air-Ground Task Force Crisis Response-Africa (SPMAGTF-CR-AF) provided support to Operation United Assistance (OUA), the U.S. response to the Ebola crisis in Liberia.\nThe rapid self-deployment of SPMAGTF-CR-AF Marines and sailors by four MV-22 Ospreys and two KC-130J Super Hercules provided a timely, mission-critical airlift capability to the Joint Force supporting OUA. The Marines enabled the Joint Force to reach remote locations that were virtually impossible to access by ground transportation during the rainy season due to washed out roads. Additionally, SPMAGTF-CR-AF also sent a Forward Resuscitative Surgical System detachment, which provided an enhanced surgical capability to support U.S. service-members contributing to OUA.\nOver the past two months, the Marines conducted over 170 missions, flew over 240 hours, and transported over 1200 passengers and over 78,000 pounds of cargo. They also supported the movement of key personnel, such as the President of Liberia, Ellen Johnson Sirleaf, U.S. Ambassador to Liberia, Deborah Malac, U.S. Ambassador to the United Nations, Samantha Powers, and various U.S. Government and relief agency workers, to visit treatment locations throughout Liberia.\n This mission demonstrates the inherent versatility, scalability, and unique responsiveness of Special Purpose MAGTF Crisis Response - Africa,  said U.S. Marine Corps Col. Robert C. Fulford, SPMAGTF-CR-AF commanding officer.  In a little under 40 hours of travel time, we were able to get our Marines and sailors, and aircraft on the ground in Liberia, ready to actively assist with the Ebola relief efforts. While supporting the OUA mission in Liberia, we simultaneously maintained an additional alert force based out of Moron, Spain, prepared to respond to crisis in Africa; we continued to provide a security force in U.S. Embassy, Bangui, Central African Republic; and we conducted military-to-military training throughout Europe and Africa strengthening our interoperability and relationships with partner nations. \nSPMAGTF-CR-AF supported OUA until Dec. 1, 2014 when they were relieved by U.S. Army aviation assets from the 101st Airborne Division, who assumed the long-term responsibility of support to the OUA mission. Upon completion of their mission, the Marines and sailors shifted focus towards conducting maintenance, washing-down equipment in accordance with Centers for Disease Control and Prevention guidelines, and preparing to move to U.S. Army Garrison Baumholder, Germany, where they will begin their 21-day controlled monitoring period.\n Looking at the situation from every vantage point we want to make sure that the Marines and sailors are healthy and the equipment is clean,  said U.S. Navy Lt. Michael A. Schermer, SPMAGTF-CR-AF lead medical planner.  We are taking every precaution possible to ensure that we don t put others at risk when they return to their unit and eventually their families. \nDuring the 21-day controlled monitoring period, the Marines and sailors will be under the care of trained healthcare professionals, undergoing temperature checks twice daily and being evaluated them for symptoms of Ebola.\nSPMAGTF-CR-AF is postured to respond to a broad range of military operations in the U.S. Africa Command area of responsibility, including: U.S. Embassy reinforcement, humanitarian assistance and disaster relief operations, Tactical Recovery of Aircraft and Personnel (TRAP), training with partner nations, and other missions as directed.\n\n"
     ]
    }
   ],
   "source": [
    "print re.sub(r'[^\\x00-\\x7f]', ' ', comtent)"
   ]
  },
  {
   "cell_type": "code",
   "execution_count": 15,
   "metadata": {},
   "outputs": [],
   "source": [
    "stoplist = []\n",
    "for word in open('stoplist', 'r').readlines():\n",
    "    stoplist.append(word.strip('\\n'))\n",
    "stoplist = set(stoplist)"
   ]
  },
  {
   "cell_type": "code",
   "execution_count": 16,
   "metadata": {},
   "outputs": [
    {
     "name": "stdout",
     "output_type": "stream",
     "text": [
      "[u'marines', u'complete', u'months', u'support', u'ebola', u'response', u'west', u'africa', u'gerard', u'marine', u'forces', u'europe', u'africa', u'osprey', u'night', u'training', u'marine', u'corps', u'ospreys', u'spmagtf', u'crisis', u'response', u'africa', u'prepare', u'fly', u'night', u'required', u'training', u'standards', u'pilots', u'continue', u'qualified', u'carry', u'passengers', u'support', u'operation', u'united', u'assistance', u'united', u'assistance', u'department', u'defense', u'operation', u'provide', u'command', u'training', u'engineering', u'support', u'agency', u'international', u'led', u'efforts', u'ebola', u'virus', u'outbreak', u'west', u'african', u'marine', u'corps', u'photo', u'lance', u'andre', u'crisis', u'response', u'africa', u'combat', u'download', u'photo', u'share', u'photo', u'details', u'marines', u'transport', u'supplies', u'build', u'ebola', u'treatment', u'units', u'navy', u'jeffery', u'flight', u'surgeon', u'spmagtf', u'crisis', u'response', u'helps', u'international', u'relief', u'bags', u'concrete', u'health', u'organizations', u'build', u'ebola', u'treatment', u'support', u'operation', u'united', u'assistance', u'fish', u'united', u'assistance', u'department', u'defense', u'operation', u'provide', u'command', u'engineering', u'support', u'agency', u'international', u'led', u'efforts', u'ebola', u'virus', u'outbreak', u'west', u'african', u'marine', u'corps', u'photo', u'lance', u'andre', u'combat', u'download', u'photo', u'share', u'photo', u'details', u'marines', u'transport', u'supplies', u'build', u'ebola', u'treatment', u'units', u'international', u'relief', u'finish', u'offloading', u'bags', u'concrete', u'assigned', u'spmagtf', u'crisis', u'response', u'build', u'ebola', u'treatment', u'units', u'support', u'operation', u'united', u'assistance', u'united', u'assistance', u'department', u'defense', u'operation', u'provide', u'command', u'engineering', u'support', u'agency', u'international', u'led', u'efforts', u'ebola', u'virus', u'outbreak', u'west', u'african', u'marine', u'corps', u'photo', u'lance', u'andre', u'combat', u'download', u'photo', u'share', u'photo', u'details', u'marines', u'transport', u'supplies', u'build', u'ebola', u'treatment', u'units', u'marine', u'corps', u'osprey', u'spmagtf', u'crisis', u'response', u'africa', u'returns', u'base', u'dropping', u'supplies', u'local', u'international', u'health', u'organizations', u'build', u'ebola', u'treatment', u'units', u'support', u'operation', u'united', u'assistance', u'united', u'assistance', u'department', u'defense', u'operation', u'provide', u'command', u'engineering', u'support', u'agency', u'international', u'led', u'efforts', u'ebola', u'virus', u'outbreak', u'west', u'african', u'marine', u'corps', u'photo', u'lance', u'andre', u'combat', u'download', u'photo', u'share', u'photo', u'details', u'marines', u'transport', u'supplies', u'build', u'ebola', u'treatment', u'units', u'marines', u'sailors', u'spmagtf', u'crisis', u'response', u'africa', u'prepare', u'load', u'bags', u'concrete', u'osprey', u'local', u'international', u'health', u'organizations', u'build', u'ebola', u'treatment', u'units', u'support', u'operation', u'united', u'assistance', u'united', u'assistance', u'department', u'defense', u'operation', u'provide', u'command', u'engineering', u'support', u'agency', u'international', u'led', u'efforts', u'ebola', u'virus', u'outbreak', u'west', u'african', u'marine', u'corps', u'photo', u'lance', u'andre', u'combat', u'download', u'photo', u'share', u'photo', u'details', u'marines', u'transport', u'supplies', u'build', u'ebola', u'treatment', u'units', u'marines', u'spmagtf', u'crisis', u'response', u'africa', u'load', u'bags', u'local', u'international', u'health', u'organizations', u'build', u'ebola', u'treatment', u'osprey', u'operation', u'united', u'assistance', u'united', u'assistance', u'department', u'defense', u'operation', u'provide', u'command', u'engineering', u'support', u'agency', u'international', u'led', u'efforts', u'ebola', u'virus', u'outbreak', u'west', u'african', u'marine', u'corps', u'photo', u'lance', u'andre', u'combat', u'download', u'photo', u'share', u'photo', u'details', u'mor\\xf3n', u'air', u'spain', u'detachment', u'marines', u'sailors', u'special', u'purpose', u'marine', u'task', u'force', u'crisis', u'provided', u'support', u'operation', u'united', u'assistance', u'response', u'ebola', u'crisis', u'rapid', u'marines', u'sailors', u'ospreys', u'super', u'hercules', u'provided', u'airlift', u'capability', u'joint', u'force', u'supporting', u'marines', u'enabled', u'joint', u'force', u'reach', u'remote', u'locations', u'virtually', u'impossible', u'access', u'ground', u'transportation', u'rainy', u'season', u'washed', u'forward', u'resuscitative', u'surgical', u'system', u'provided', u'enhanced', u'surgical', u'capability', u'support', u'contributing', u'marines', u'conducted', u'flew', u'transported', u'passengers', u'pounds', u'supported', u'movement', u'key', u'president', u'ellen', u'johnson', u'ambassador', u'deborah', u'ambassador', u'united', u'samantha', u'government', u'relief', u'agency', u'visit', u'treatment', u'locations', u'mission', u'demonstrates', u'inherent', u'unique', u'responsiveness', u'special', u'purpose', u'magtf', u'crisis', u'response', u'marine', u'corps', u'robert', u'commanding', u'hours', u'travel', u'marines', u'aircraft', u'ground', u'ready', u'actively', u'assist', u'ebola', u'relief', u'supporting', u'oua', u'mission', u'simultaneously', u'maintained', u'additional', u'alert', u'force', u'based', u'prepared', u'respond', u'crisis', u'continued', u'provide', u'security', u'force', u'central', u'african', u'conducted', u'training', u'europe', u'africa', u'strengthening', u'interoperability', u'relationships', u'partner', u'supported', u'oua', u'relieved', u'army', u'aviation', u'assets', u'airborne', u'assumed', u'responsibility', u'support', u'oua', u'completion', u'marines', u'sailors', u'shifted', u'focus', u'conducting', u'equipment', u'centers', u'disease', u'control', u'prevention', u'preparing', u'move', u'army', u'garrison', u'controlled', u'monitoring', u'situation', u'vantage', u'marines', u'sailors', u'healthy', u'equipment', u'navy', u'michael', u'lead', u'medical', u'precaution', u'ensure', u'risk', u'return', u'unit', u'eventually', u'controlled', u'monitoring', u'marines', u'sailors', u'care', u'trained', u'healthcare', u'undergoing', u'temperature', u'checks', u'daily', u'evaluated', u'symptoms', u'postured', u'respond', u'broad', u'range', u'military', u'operations', u'africa', u'command', u'embassy', u'humanitarian', u'assistance', u'disaster', u'relief', u'tactical', u'recovery', u'aircraft', u'personnel', u'training', u'partner', u'missions']\n"
     ]
    }
   ],
   "source": [
    "comtentss = [word for word in comtent.lower().split() if word not in stoplist and word.isalpha()]\n",
    "print  comtentss"
   ]
  },
  {
   "cell_type": "code",
   "execution_count": null,
   "metadata": {},
   "outputs": [],
   "source": [
    ""
   ]
  }
 ],
 "metadata": {
  "kernelspec": {
   "display_name": "Python 2",
   "language": "python",
   "name": "python2"
  },
  "language_info": {
   "codemirror_mode": {
    "name": "ipython",
    "version": 2.0
   },
   "file_extension": ".py",
   "mimetype": "text/x-python",
   "name": "python",
   "nbconvert_exporter": "python",
   "pygments_lexer": "ipython2",
   "version": "2.7.5"
  }
 },
 "nbformat": 4,
 "nbformat_minor": 0
}